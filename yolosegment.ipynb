{
 "cells": [
  {
   "cell_type": "code",
   "execution_count": null,
   "metadata": {},
   "outputs": [],
   "source": [
    "# 导入必要的库\n",
    "import os\n",
    "import shutil\n",
    "import random\n",
    "from pathlib import Path\n",
    "from typing import List, Tuple\n",
    "from tqdm import tqdm\n",
    "def find_annotated_images(image_dir: str, annotation_dir: str, image_extensions: List[str] = ['.jpg','.tiff', '.jpeg', '.png', '.bmp']) -> Tuple[List[Path], List[Path]]:\n",
    "    \"\"\"\n",
    "    查找有标注和无标注的图片。\n",
    "\n",
    "    Args:\n",
    "        image_dir (str): 图片目录路径。\n",
    "        annotation_dir (str): 标注文件目录路径。\n",
    "        image_extensions (List[str], optional): 支持的图片扩展名列表。默认为 ['.jpg', '.jpeg', '.png', '.bmp']。\n",
    "\n",
    "    Returns:\n",
    "        Tuple[List[Path], List[Path]]: 有标注的图片路径列表和无标注的图片路径列表。\n",
    "    \"\"\"\n",
    "    image_dir = Path(image_dir)\n",
    "    annotation_dir = Path(annotation_dir)\n",
    "\n",
    "    # 收集所有图片文件\n",
    "    all_images = [p for p in image_dir.iterdir() if p.suffix.lower() in image_extensions and p.is_file()]\n",
    "\n",
    "    annotated_images = []\n",
    "    non_annotated_images = []\n",
    "\n",
    "    for img_path in tqdm(all_images, desc=\"查找有标注和无标注的图片\"):\n",
    "        # 假设标注文件与图片同名但扩展名为 .txt\n",
    "        label_path = annotation_dir / f\"{img_path.stem}.json\"\n",
    "        if label_path.exists():\n",
    "            annotated_images.append(img_path)\n",
    "        else:\n",
    "            non_annotated_images.append(img_path)\n",
    "\n",
    "    return annotated_images, non_annotated_images\n",
    "\n",
    "def split_data(annotated_images: List[Path], train_ratio: float = 0.8) -> Tuple[List[Path], List[Path]]:\n",
    "    \"\"\"\n",
    "    将有标注的图片随机划分为训练集和验证集。\n",
    "\n",
    "    Args:\n",
    "        annotated_images (List[Path]): 有标注的图片路径列表。\n",
    "        train_ratio (float, optional): 训练集比例。默认为 0.8。\n",
    "\n",
    "    Returns:\n",
    "        Tuple[List[Path], List[Path]]: 训练集图片路径列表和验证集图片路径列表。\n",
    "    \"\"\"\n",
    "    random.shuffle(annotated_images)\n",
    "    split_index = int(len(annotated_images) * train_ratio)\n",
    "    train_images = annotated_images[:split_index]\n",
    "    val_images = annotated_images[split_index:]\n",
    "    return train_images, val_images\n",
    "\n",
    "def organize_data(\n",
    "    image_dir: str,\n",
    "    annotation_dir: str,\n",
    "    output_dir: str,\n",
    "    annotated_images: List[Path],\n",
    "    non_annotated_images: List[Path],\n",
    "    train_ratio: float = 0.8\n",
    ") -> None:\n",
    "    \"\"\"\n",
    "    将图片和标注文件组织到不同的目录中，并划分训练集和验证集。\n",
    "\n",
    "    Args:\n",
    "        image_dir (str): 图片目录路径。\n",
    "        annotation_dir (str): 标注文件目录路径。\n",
    "        output_dir (str): 输出的组织后数据的目录路径。\n",
    "        annotated_images (List[Path]): 有标注的图片路径列表。\n",
    "        non_annotated_images (List[Path]): 无标注的图片路径列表。\n",
    "        train_ratio (float, optional): 训练集比例。默认为 0.8。\n",
    "    \"\"\"\n",
    "    image_dir = Path(image_dir)\n",
    "    annotation_dir = Path(annotation_dir)\n",
    "    output_dir = Path(output_dir)\n",
    "\n",
    "    train_images_dir = output_dir / 'train' / 'images'\n",
    "    train_labels_dir = output_dir / 'train' / 'rawlabels'\n",
    "    val_images_dir = output_dir / 'val' / 'images'\n",
    "    val_labels_dir = output_dir / 'val' / 'rawlabels'\n",
    "    non_annotated_images_dir = output_dir / 'non_annotated_images'\n",
    "\n",
    "    # 创建目标目录\n",
    "    train_images_dir.mkdir(parents=True, exist_ok=True)\n",
    "    train_labels_dir.mkdir(parents=True, exist_ok=True)\n",
    "    val_images_dir.mkdir(parents=True, exist_ok=True)\n",
    "    val_labels_dir.mkdir(parents=True, exist_ok=True)\n",
    "    non_annotated_images_dir.mkdir(parents=True, exist_ok=True)\n",
    "\n",
    "    # 划分训练集和验证集\n",
    "    train_images, val_images = split_data(annotated_images, train_ratio)\n",
    "\n",
    "    # 复制训练集\n",
    "    for img_path in tqdm(train_images, desc=\"复制训练集图片\"):\n",
    "        shutil.copy(img_path, train_images_dir / img_path.name)\n",
    "        label_path = annotation_dir / f\"{img_path.stem}.json\"\n",
    "        if label_path.exists():\n",
    "            shutil.copy(label_path, train_labels_dir / label_path.name)\n",
    "\n",
    "    # 复制验证集\n",
    "    for img_path in tqdm(val_images, desc=\"复制验证集图片\"):\n",
    "        shutil.copy(img_path, val_images_dir / img_path.name)\n",
    "        label_path = annotation_dir / f\"{img_path.stem}.json\"\n",
    "        if label_path.exists():\n",
    "            shutil.copy(label_path, val_labels_dir / label_path.name)\n",
    "\n",
    "    # 复制无标注的图片\n",
    "    for img_path in tqdm(non_annotated_images, desc=\"复制无标注的图片\"):\n",
    "        shutil.copy(img_path, non_annotated_images_dir / img_path.name)\n",
    "\n",
    "    print(f\"训练集图片已复制到: {train_images_dir}\")\n",
    "    print(f\"训练集标注文件已复制到: {train_labels_dir}\")\n",
    "    print(f\"验证集图片已复制到: {val_images_dir}\")\n",
    "    print(f\"验证集标注文件已复制到: {val_labels_dir}\")\n",
    "    print(f\"无标注的图片已复制到: {non_annotated_images_dir}\")\n",
    "\n",
    "\n",
    "# 设置目录路径\n",
    "image_dir = \"/data/yan/track/TS-20241123222043114.avi_frames\"          # 原始图片目录\n",
    "annotation_dir = \"/data/yan/track/TS-20241123222043114.avi_frames/annotations\"  # 标注文件目录\n",
    "output_dir = \"./datasets\"                                 # 输出数据集目录\n",
    "train_ratio = 0.8                                        # 训练集比例\n",
    "\n",
    "# 查找有标注和无标注的图片\n",
    "annotated_images, non_annotated_images = find_annotated_images(image_dir, annotation_dir)\n",
    "\n",
    "print(f\"找到 {len(annotated_images)} 张有标注的图片。\")\n",
    "print(f\"找到 {len(non_annotated_images)} 张无标注的图片。\")\n",
    "\n",
    "# 组织数据并划分训练集和验证集\n",
    "organize_data(\n",
    "    image_dir=image_dir,\n",
    "    annotation_dir=annotation_dir,\n",
    "    output_dir=output_dir,\n",
    "    annotated_images=annotated_images,\n",
    "    non_annotated_images=non_annotated_images,\n",
    "    train_ratio=train_ratio\n",
    ")\n"
   ]
  },
  {
   "cell_type": "code",
   "execution_count": null,
   "metadata": {},
   "outputs": [],
   "source": [
    "import json\n",
    "from pathlib import Path\n",
    "from tqdm import tqdm\n",
    "\n",
    "def convert_labelme_to_yolo_segmentation(json_dir: str, output_dir: str, classes: list):\n",
    "    \"\"\"\n",
    "    将 Labelme 的 JSON 格式转化为 YOLO 分割格式。\n",
    "\n",
    "    Args:\n",
    "        json_dir (str): 存放 JSON 文件的目录。\n",
    "        output_dir (str): 存放 YOLO 格式标注文件的目录。\n",
    "        classes (list): 类别名称列表。\n",
    "    \"\"\"\n",
    "    json_dir = Path(json_dir)\n",
    "    output_dir = Path(output_dir)\n",
    "    output_dir.mkdir(parents=True, exist_ok=True)\n",
    "    \n",
    "    json_files = list(json_dir.glob(\"*.json\"))\n",
    "    \n",
    "    for json_file in tqdm(json_files, desc=\"转换分割标注文件\"):\n",
    "        with open(json_file, \"r\", encoding=\"utf-8\") as f:\n",
    "            data = json.load(f)\n",
    "        \n",
    "        img_width = data['imageWidth']\n",
    "        img_height = data['imageHeight']\n",
    "        yolo_annotations = []\n",
    "        \n",
    "        for shape in data['shapes']:\n",
    "            label = shape['label']\n",
    "            points = shape['points']\n",
    "            \n",
    "            # 归一化多边形点\n",
    "            normalized_points = [\n",
    "                f\"{point[0] / img_width:.6f} {point[1] / img_height:.6f}\" \n",
    "                for point in points\n",
    "            ]\n",
    "            \n",
    "            if label in classes:\n",
    "                class_id = classes.index(label)\n",
    "                # YOLO 分割格式：<class_id> <x1> <y1> <x2> <y2> ... <xn> <yn>\n",
    "                annotation = f\"{class_id} \" + \" \".join(normalized_points)\n",
    "                yolo_annotations.append(annotation)\n",
    "            else:\n",
    "                print(f\"警告: 标签 {label} 不在 classes 列表中，已跳过。\")\n",
    "        \n",
    "        # 输出 YOLO 格式的标注文件\n",
    "        output_path = output_dir / f\"{json_file.stem}.txt\"\n",
    "        with open(output_path, \"w\", encoding=\"utf-8\") as f:\n",
    "            f.write(\"\\n\".join(yolo_annotations))\n",
    "    \n",
    "    print(f\"所有分割标注文件已转换并保存到 {output_dir}\")\n",
    "\n",
    "# 设置目录路径和类别列表\n",
    "json_dir = \"./datasets/val/rawlabels\"  # 标注文件 JSON 目录\n",
    "output_dir = \"./datasets/val/labels\"  # 转换后保存 YOLO 格式的目录\n",
    "classes = [\"Celegans\"]  # 替换为你的实际类别名称\n",
    "# 转换标注文件\n",
    "convert_labelme_to_yolo_segmentation(json_dir, output_dir, classes)\n",
    "\n",
    "# 设置目录路径和类别列表\n",
    "json_dir = \"./datasets/train/rawlabels\"  # 标注文件 JSON 目录\n",
    "output_dir = \"./datasets/train/labels\"  # 转换后保存 YOLO 格式的目录\n",
    "classes = [\"Celegans\"]  # 替换为你的实际类别名称\n",
    "# 转换标注文件\n",
    "convert_labelme_to_yolo_segmentation(json_dir, output_dir, classes)\n",
    "#  pip install ultralytics -i https://pypi.tuna.tsinghua.edu.cn/simple"
   ]
  },
  {
   "cell_type": "code",
   "execution_count": 2,
   "metadata": {},
   "outputs": [
    {
     "name": "stdout",
     "output_type": "stream",
     "text": [
      "Ultralytics 8.3.36 🚀 Python-3.11.10 torch-2.5.1+cu124 CUDA:0 (NVIDIA GeForce RTX 4090, 24210MiB)\n",
      "                                                       CUDA:1 (NVIDIA GeForce RTX 4090, 24210MiB)\n",
      "                                                       CUDA:2 (NVIDIA GeForce RTX 4090, 24210MiB)\n",
      "                                                       CUDA:3 (NVIDIA GeForce RTX 4090, 24210MiB)\n",
      "\u001b[34m\u001b[1mengine/trainer: \u001b[0mtask=segment, mode=train, model=yolo11x-seg.pt, data=./data.yaml, epochs=300, time=None, patience=100, batch=16, imgsz=1280, save=True, save_period=-1, cache=False, device=[0, 1, 2, 3], workers=8, project=runs/segment, name=yolov11_WormCNN-HTT34, exist_ok=False, pretrained=True, optimizer=auto, verbose=True, seed=0, deterministic=True, single_cls=False, rect=False, cos_lr=False, close_mosaic=10, resume=False, amp=True, fraction=1.0, profile=False, freeze=None, multi_scale=False, overlap_mask=True, mask_ratio=4, dropout=0.0, val=True, split=val, save_json=False, save_hybrid=False, conf=None, iou=0.7, max_det=300, half=False, dnn=False, plots=True, source=None, vid_stride=1, stream_buffer=False, visualize=False, augment=False, agnostic_nms=False, classes=None, retina_masks=False, embed=None, show=False, save_frames=False, save_txt=False, save_conf=False, save_crop=False, show_labels=True, show_conf=True, show_boxes=True, line_width=None, format=torchscript, keras=False, optimize=False, int8=False, dynamic=False, simplify=True, opset=None, workspace=4, nms=False, lr0=0.001, lrf=0.01, momentum=0.937, weight_decay=0.0005, warmup_epochs=3.0, warmup_momentum=0.8, warmup_bias_lr=0.1, box=7.5, cls=0.5, dfl=1.5, pose=12.0, kobj=1.0, label_smoothing=0.0, nbs=64, hsv_h=0.02, hsv_s=0.8, hsv_v=0.4, degrees=10, translate=0.2, scale=0.5, shear=0.0, perspective=0.001, flipud=0.1, fliplr=0.5, bgr=0.0, mosaic=True, mixup=0.2, copy_paste=True, copy_paste_mode=flip, auto_augment=randaugment, erasing=0.4, crop_fraction=1.0, cfg=None, tracker=botsort.yaml, save_dir=runs/segment/yolov11_WormCNN-HTT34\n",
      "Overriding model.yaml nc=80 with nc=1\n",
      "\n",
      "                   from  n    params  module                                       arguments                     \n",
      "  0                  -1  1      2784  ultralytics.nn.modules.conv.Conv             [3, 96, 3, 2]                 \n",
      "  1                  -1  1    166272  ultralytics.nn.modules.conv.Conv             [96, 192, 3, 2]               \n",
      "  2                  -1  2    389760  ultralytics.nn.modules.block.C3k2            [192, 384, 2, True, 0.25]     \n",
      "  3                  -1  1   1327872  ultralytics.nn.modules.conv.Conv             [384, 384, 3, 2]              \n",
      "  4                  -1  2   1553664  ultralytics.nn.modules.block.C3k2            [384, 768, 2, True, 0.25]     \n",
      "  5                  -1  1   5309952  ultralytics.nn.modules.conv.Conv             [768, 768, 3, 2]              \n",
      "  6                  -1  2   5022720  ultralytics.nn.modules.block.C3k2            [768, 768, 2, True]           \n",
      "  7                  -1  1   5309952  ultralytics.nn.modules.conv.Conv             [768, 768, 3, 2]              \n",
      "  8                  -1  2   5022720  ultralytics.nn.modules.block.C3k2            [768, 768, 2, True]           \n",
      "  9                  -1  1   1476864  ultralytics.nn.modules.block.SPPF            [768, 768, 5]                 \n",
      " 10                  -1  2   3264768  ultralytics.nn.modules.block.C2PSA           [768, 768, 2]                 \n",
      " 11                  -1  1         0  torch.nn.modules.upsampling.Upsample         [None, 2, 'nearest']          \n",
      " 12             [-1, 6]  1         0  ultralytics.nn.modules.conv.Concat           [1]                           \n",
      " 13                  -1  2   5612544  ultralytics.nn.modules.block.C3k2            [1536, 768, 2, True]          \n",
      " 14                  -1  1         0  torch.nn.modules.upsampling.Upsample         [None, 2, 'nearest']          \n",
      " 15             [-1, 4]  1         0  ultralytics.nn.modules.conv.Concat           [1]                           \n",
      " 16                  -1  2   1700352  ultralytics.nn.modules.block.C3k2            [1536, 384, 2, True]          \n",
      " 17                  -1  1   1327872  ultralytics.nn.modules.conv.Conv             [384, 384, 3, 2]              \n",
      " 18            [-1, 13]  1         0  ultralytics.nn.modules.conv.Concat           [1]                           \n",
      " 19                  -1  2   5317632  ultralytics.nn.modules.block.C3k2            [1152, 768, 2, True]          \n",
      " 20                  -1  1   5309952  ultralytics.nn.modules.conv.Conv             [768, 768, 3, 2]              \n",
      " 21            [-1, 10]  1         0  ultralytics.nn.modules.conv.Concat           [1]                           \n",
      " 22                  -1  2   5612544  ultralytics.nn.modules.block.C3k2            [1536, 768, 2, True]          \n",
      " 23        [16, 19, 22]  1   8323187  ultralytics.nn.modules.head.Segment          [1, 32, 384, [384, 768, 768]] \n",
      "YOLO11x-seg summary: 667 layers, 62,051,411 parameters, 62,051,395 gradients, 319.7 GFLOPs\n",
      "\n",
      "Transferred 1071/1077 items from pretrained weights\n",
      "\u001b[34m\u001b[1mDDP:\u001b[0m debug command /home/spuser/.conda/envs/yanpan/bin/python -m torch.distributed.run --nproc_per_node 4 --master_port 51365 /home/spuser/.config/Ultralytics/DDP/_temp_0f37h0ny140197341166416.py\n",
      "Error decoding JSON from /home/spuser/.config/Ultralytics/settings.json. Starting with an empty dictionary.\n",
      "Ultralytics 8.3.36 🚀 Python-3.11.10 torch-2.5.1+cu124 CUDA:0 (NVIDIA GeForce RTX 4090, 24210MiB)\n",
      "                                                       CUDA:1 (NVIDIA GeForce RTX 4090, 24210MiB)\n",
      "                                                       CUDA:2 (NVIDIA GeForce RTX 4090, 24210MiB)\n",
      "                                                       CUDA:3 (NVIDIA GeForce RTX 4090, 24210MiB)\n",
      "Overriding model.yaml nc=80 with nc=1\n",
      "Transferred 1071/1077 items from pretrained weights\n",
      "Freezing layer 'model.23.dfl.conv.weight'\n",
      "\u001b[34m\u001b[1mAMP: \u001b[0mrunning Automatic Mixed Precision (AMP) checks...\n",
      "\u001b[34m\u001b[1mAMP: \u001b[0mchecks passed ✅\n"
     ]
    },
    {
     "name": "stderr",
     "output_type": "stream",
     "text": [
      "\u001b[34m\u001b[1mtrain: \u001b[0mScanning /data/yan/track/datasets/train/labels.cache... 154 images, 0 backgrounds, 0 corrupt: 100%|██████████| 154/154 [00:00<?, ?it/s]\n",
      "\u001b[34m\u001b[1mval: \u001b[0mScanning /data/yan/track/datasets/val/labels.cache... 60 images, 0 backgrounds, 0 corrupt: 100%|██████████| 60/60 [00:00<?, ?it/s]\n"
     ]
    },
    {
     "name": "stdout",
     "output_type": "stream",
     "text": [
      "Plotting labels to runs/segment/yolov11_WormCNN-HTT34/labels.jpg... \n",
      "\u001b[34m\u001b[1moptimizer:\u001b[0m 'optimizer=auto' found, ignoring 'lr0=0.001' and 'momentum=0.937' and determining best 'optimizer', 'lr0' and 'momentum' automatically... \n",
      "\u001b[34m\u001b[1moptimizer:\u001b[0m AdamW(lr=0.000714, momentum=0.9) with parameter groups 176 weight(decay=0.0), 187 weight(decay=0.0005), 186 bias(decay=0.0)\n",
      "Image sizes 1280 train, 1280 val\n",
      "Using 32 dataloader workers\n",
      "Logging results to \u001b[1mruns/segment/yolov11_WormCNN-HTT34\u001b[0m\n",
      "Starting training for 300 epochs...\n",
      "\n",
      "      Epoch    GPU_mem   box_loss   seg_loss   cls_loss   dfl_loss  Instances       Size\n"
     ]
    },
    {
     "name": "stderr",
     "output_type": "stream",
     "text": [
      "      1/300      19.2G     0.8216      1.341      3.583     0.9532         23       1280: 100%|██████████| 10/10 [00:04<00:00,  2.09it/s]\n",
      "                 Class     Images  Instances      Box(P          R      mAP50  mAP50-95)     Mask(P          R      mAP50  mAP50-95): 100%|██████████| 8/8 [00:01<00:00,  5.61it/s]\n"
     ]
    },
    {
     "name": "stdout",
     "output_type": "stream",
     "text": [
      "                   all         60        270      0.906      0.989      0.985       0.81      0.903      0.985      0.983      0.565\n",
      "\n",
      "      Epoch    GPU_mem   box_loss   seg_loss   cls_loss   dfl_loss  Instances       Size\n"
     ]
    },
    {
     "name": "stderr",
     "output_type": "stream",
     "text": [
      "      2/300        20G     0.6267      1.016     0.9032     0.8513         33       1280: 100%|██████████| 10/10 [00:03<00:00,  2.73it/s]\n",
      "                 Class     Images  Instances      Box(P          R      mAP50  mAP50-95)     Mask(P          R      mAP50  mAP50-95): 100%|██████████| 8/8 [00:01<00:00,  5.66it/s]\n"
     ]
    },
    {
     "name": "stdout",
     "output_type": "stream",
     "text": [
      "                   all         60        270      0.989      0.987      0.991      0.768      0.989      0.987      0.991      0.673\n",
      "\n",
      "      Epoch    GPU_mem   box_loss   seg_loss   cls_loss   dfl_loss  Instances       Size\n"
     ]
    },
    {
     "name": "stderr",
     "output_type": "stream",
     "text": [
      "      3/300      19.7G     0.6318     0.8623     0.5775     0.8482         54       1280: 100%|██████████| 10/10 [00:03<00:00,  2.87it/s]\n",
      "                 Class     Images  Instances      Box(P          R      mAP50  mAP50-95)     Mask(P          R      mAP50  mAP50-95): 100%|██████████| 8/8 [00:01<00:00,  5.99it/s]\n"
     ]
    },
    {
     "name": "stdout",
     "output_type": "stream",
     "text": [
      "                   all         60        270      0.989      0.987      0.991      0.768      0.989      0.987      0.991      0.673\n",
      "\n",
      "      Epoch    GPU_mem   box_loss   seg_loss   cls_loss   dfl_loss  Instances       Size\n"
     ]
    },
    {
     "name": "stderr",
     "output_type": "stream",
     "text": [
      "      4/300      19.5G     0.6192     0.8382     0.5727     0.8608         41       1280: 100%|██████████| 10/10 [00:03<00:00,  2.83it/s]\n",
      "                 Class     Images  Instances      Box(P          R      mAP50  mAP50-95)     Mask(P          R      mAP50  mAP50-95): 100%|██████████| 8/8 [00:01<00:00,  6.01it/s]\n"
     ]
    },
    {
     "name": "stdout",
     "output_type": "stream",
     "text": [
      "                   all         60        270      0.989      0.987      0.991      0.768      0.989      0.987      0.991      0.673\n",
      "\n",
      "      Epoch    GPU_mem   box_loss   seg_loss   cls_loss   dfl_loss  Instances       Size\n"
     ]
    },
    {
     "name": "stderr",
     "output_type": "stream",
     "text": [
      "      5/300      19.4G     0.6291     0.7823     0.4821     0.8537         66       1280: 100%|██████████| 10/10 [00:03<00:00,  2.85it/s]\n",
      "                 Class     Images  Instances      Box(P          R      mAP50  mAP50-95)     Mask(P          R      mAP50  mAP50-95): 100%|██████████| 8/8 [00:01<00:00,  6.09it/s]\n"
     ]
    },
    {
     "name": "stdout",
     "output_type": "stream",
     "text": [
      "                   all         60        270     0.0156      0.193    0.00632    0.00511     0.0196      0.222    0.00942    0.00502\n",
      "\n",
      "      Epoch    GPU_mem   box_loss   seg_loss   cls_loss   dfl_loss  Instances       Size\n"
     ]
    },
    {
     "name": "stderr",
     "output_type": "stream",
     "text": [
      "      6/300      19.5G     0.6927     0.7752     0.6244      0.861         65       1280: 100%|██████████| 10/10 [00:03<00:00,  2.89it/s]\n",
      "                 Class     Images  Instances      Box(P          R      mAP50  mAP50-95)     Mask(P          R      mAP50  mAP50-95): 100%|██████████| 8/8 [00:01<00:00,  6.38it/s]\n"
     ]
    },
    {
     "name": "stdout",
     "output_type": "stream",
     "text": [
      "                   all         60        270    0.00523      0.344     0.0035    0.00299    0.00523      0.344     0.0035    0.00269\n",
      "\n",
      "      Epoch    GPU_mem   box_loss   seg_loss   cls_loss   dfl_loss  Instances       Size\n"
     ]
    },
    {
     "name": "stderr",
     "output_type": "stream",
     "text": [
      "      7/300        20G     0.6906     0.7601     0.5503     0.8844         41       1280: 100%|██████████| 10/10 [00:03<00:00,  2.89it/s]\n",
      "                 Class     Images  Instances      Box(P          R      mAP50  mAP50-95)     Mask(P          R      mAP50  mAP50-95): 100%|██████████| 8/8 [00:01<00:00,  5.83it/s]\n"
     ]
    },
    {
     "name": "stdout",
     "output_type": "stream",
     "text": [
      "                   all         60        270      0.964      0.998      0.982      0.834      0.964      0.998      0.982      0.693\n",
      "\n",
      "      Epoch    GPU_mem   box_loss   seg_loss   cls_loss   dfl_loss  Instances       Size\n"
     ]
    },
    {
     "name": "stderr",
     "output_type": "stream",
     "text": [
      "      8/300      19.6G     0.6754     0.8203     0.5621     0.8739         64       1280: 100%|██████████| 10/10 [00:03<00:00,  2.95it/s]\n",
      "                 Class     Images  Instances      Box(P          R      mAP50  mAP50-95)     Mask(P          R      mAP50  mAP50-95): 100%|██████████| 8/8 [00:01<00:00,  5.96it/s]\n"
     ]
    },
    {
     "name": "stdout",
     "output_type": "stream",
     "text": [
      "                   all         60        270      0.988      0.996      0.988       0.86      0.992          1      0.988      0.671\n",
      "\n",
      "      Epoch    GPU_mem   box_loss   seg_loss   cls_loss   dfl_loss  Instances       Size\n"
     ]
    },
    {
     "name": "stderr",
     "output_type": "stream",
     "text": [
      "      9/300      19.7G     0.6359     0.7299     0.4658     0.8684         72       1280: 100%|██████████| 10/10 [00:03<00:00,  2.87it/s]\n",
      "                 Class     Images  Instances      Box(P          R      mAP50  mAP50-95)     Mask(P          R      mAP50  mAP50-95): 100%|██████████| 8/8 [00:01<00:00,  6.29it/s]\n"
     ]
    },
    {
     "name": "stdout",
     "output_type": "stream",
     "text": [
      "                   all         60        270      0.984          1      0.987      0.821      0.984          1      0.987       0.71\n",
      "\n",
      "      Epoch    GPU_mem   box_loss   seg_loss   cls_loss   dfl_loss  Instances       Size\n"
     ]
    },
    {
     "name": "stderr",
     "output_type": "stream",
     "text": [
      "     10/300      19.7G     0.6513     0.8445     0.4104     0.8605         40       1280: 100%|██████████| 10/10 [00:03<00:00,  2.91it/s]\n",
      "                 Class     Images  Instances      Box(P          R      mAP50  mAP50-95)     Mask(P          R      mAP50  mAP50-95): 100%|██████████| 8/8 [00:01<00:00,  6.34it/s]\n"
     ]
    },
    {
     "name": "stdout",
     "output_type": "stream",
     "text": [
      "                   all         60        270      0.039      0.985     0.0391     0.0332      0.039      0.985     0.0391     0.0285\n",
      "\n",
      "      Epoch    GPU_mem   box_loss   seg_loss   cls_loss   dfl_loss  Instances       Size\n"
     ]
    },
    {
     "name": "stderr",
     "output_type": "stream",
     "text": [
      "     11/300        20G     0.6758     0.8881     0.5065     0.8923         47       1280: 100%|██████████| 10/10 [00:03<00:00,  2.89it/s]\n",
      "                 Class     Images  Instances      Box(P          R      mAP50  mAP50-95)     Mask(P          R      mAP50  mAP50-95): 100%|██████████| 8/8 [00:01<00:00,  5.80it/s]\n"
     ]
    },
    {
     "name": "stdout",
     "output_type": "stream",
     "text": [
      "                   all         60        270      0.039      0.985     0.0391     0.0332      0.039      0.985     0.0391     0.0285\n",
      "\n",
      "      Epoch    GPU_mem   box_loss   seg_loss   cls_loss   dfl_loss  Instances       Size\n"
     ]
    },
    {
     "name": "stderr",
     "output_type": "stream",
     "text": [
      "     12/300      19.8G     0.6863     0.7497     0.4739     0.8958         53       1280: 100%|██████████| 10/10 [00:03<00:00,  2.87it/s]\n",
      "                 Class     Images  Instances      Box(P          R      mAP50  mAP50-95)     Mask(P          R      mAP50  mAP50-95): 100%|██████████| 8/8 [00:01<00:00,  5.37it/s]\n"
     ]
    },
    {
     "name": "stdout",
     "output_type": "stream",
     "text": [
      "                   all         60        270     0.0015        0.1     0.0015   0.000262          0          0          0          0\n",
      "\n",
      "      Epoch    GPU_mem   box_loss   seg_loss   cls_loss   dfl_loss  Instances       Size\n"
     ]
    },
    {
     "name": "stderr",
     "output_type": "stream",
     "text": [
      "     13/300      19.8G      0.593     0.7353     0.4459     0.8702         66       1280: 100%|██████████| 10/10 [00:03<00:00,  2.86it/s]\n",
      "                 Class     Images  Instances      Box(P          R      mAP50  mAP50-95)     Mask(P          R      mAP50  mAP50-95): 100%|██████████| 8/8 [00:01<00:00,  4.44it/s]\n"
     ]
    },
    {
     "name": "stdout",
     "output_type": "stream",
     "text": [
      "                   all         60        270     0.0015        0.1     0.0015   0.000262          0          0          0          0\n",
      "\n",
      "      Epoch    GPU_mem   box_loss   seg_loss   cls_loss   dfl_loss  Instances       Size\n"
     ]
    },
    {
     "name": "stderr",
     "output_type": "stream",
     "text": [
      "     14/300      19.4G      0.605     0.6868     0.4216     0.8788         48       1280: 100%|██████████| 10/10 [00:03<00:00,  2.91it/s]\n",
      "                 Class     Images  Instances      Box(P          R      mAP50  mAP50-95)     Mask(P          R      mAP50  mAP50-95): 100%|██████████| 8/8 [00:01<00:00,  6.35it/s]\n"
     ]
    },
    {
     "name": "stdout",
     "output_type": "stream",
     "text": [
      "                   all         60        270      0.901      0.956      0.973      0.817      0.904      0.945      0.969      0.665\n",
      "\n",
      "      Epoch    GPU_mem   box_loss   seg_loss   cls_loss   dfl_loss  Instances       Size\n"
     ]
    },
    {
     "name": "stderr",
     "output_type": "stream",
     "text": [
      "     15/300      19.9G     0.6246     0.6977     0.4117     0.8846         31       1280: 100%|██████████| 10/10 [00:03<00:00,  2.91it/s]\n",
      "                 Class     Images  Instances      Box(P          R      mAP50  mAP50-95)     Mask(P          R      mAP50  mAP50-95): 100%|██████████| 8/8 [00:01<00:00,  5.99it/s]\n"
     ]
    },
    {
     "name": "stdout",
     "output_type": "stream",
     "text": [
      "                   all         60        270      0.957      0.581      0.735      0.532      0.941      0.548      0.662      0.348\n",
      "\n",
      "      Epoch    GPU_mem   box_loss   seg_loss   cls_loss   dfl_loss  Instances       Size\n"
     ]
    },
    {
     "name": "stderr",
     "output_type": "stream",
     "text": [
      "     16/300      19.7G     0.6078     0.7095     0.4079     0.8562         43       1280: 100%|██████████| 10/10 [00:03<00:00,  2.87it/s]\n",
      "                 Class     Images  Instances      Box(P          R      mAP50  mAP50-95)     Mask(P          R      mAP50  mAP50-95): 100%|██████████| 8/8 [00:01<00:00,  6.59it/s]\n"
     ]
    },
    {
     "name": "stdout",
     "output_type": "stream",
     "text": [
      "                   all         60        270      0.971      0.444      0.562      0.359      0.971      0.444      0.535      0.272\n",
      "\n",
      "      Epoch    GPU_mem   box_loss   seg_loss   cls_loss   dfl_loss  Instances       Size\n"
     ]
    },
    {
     "name": "stderr",
     "output_type": "stream",
     "text": [
      "     17/300      19.9G     0.6313     0.6462     0.3754     0.8494         49       1280:  60%|██████    | 6/10 [00:02<00:01,  2.92it/s]/home/spuser/.conda/envs/yanpan/lib/python3.11/site-packages/ultralytics/data/augment.py:1143: RuntimeWarning: divide by zero encountered in divide\n",
      "  xy = xy[:, :2] / xy[:, 2:3]\n",
      "     17/300      19.9G     0.6382     0.6865     0.3879      0.859         54       1280: 100%|██████████| 10/10 [00:03<00:00,  2.94it/s]\n",
      "                 Class     Images  Instances      Box(P          R      mAP50  mAP50-95)     Mask(P          R      mAP50  mAP50-95): 100%|██████████| 8/8 [00:01<00:00,  6.55it/s]\n"
     ]
    },
    {
     "name": "stdout",
     "output_type": "stream",
     "text": [
      "                   all         60        270      0.958      0.854      0.894      0.694       0.95      0.846      0.876       0.56\n",
      "\n",
      "      Epoch    GPU_mem   box_loss   seg_loss   cls_loss   dfl_loss  Instances       Size\n"
     ]
    },
    {
     "name": "stderr",
     "output_type": "stream",
     "text": [
      "     18/300      19.7G     0.6419     0.7275     0.3964     0.8665        105       1280: 100%|██████████| 10/10 [00:03<00:00,  2.89it/s]\n",
      "                 Class     Images  Instances      Box(P          R      mAP50  mAP50-95)     Mask(P          R      mAP50  mAP50-95): 100%|██████████| 8/8 [00:01<00:00,  6.57it/s]\n"
     ]
    },
    {
     "name": "stdout",
     "output_type": "stream",
     "text": [
      "                   all         60        270      0.989      0.996      0.989      0.854      0.989      0.996      0.989      0.724\n",
      "\n",
      "      Epoch    GPU_mem   box_loss   seg_loss   cls_loss   dfl_loss  Instances       Size\n"
     ]
    },
    {
     "name": "stderr",
     "output_type": "stream",
     "text": [
      "     19/300      20.3G     0.6416      0.675     0.4014     0.8621         46       1280: 100%|██████████| 10/10 [00:03<00:00,  2.91it/s]\n",
      "                 Class     Images  Instances      Box(P          R      mAP50  mAP50-95)     Mask(P          R      mAP50  mAP50-95): 100%|██████████| 8/8 [00:01<00:00,  6.49it/s]\n"
     ]
    },
    {
     "name": "stdout",
     "output_type": "stream",
     "text": [
      "                   all         60        270      0.993      0.999       0.99      0.881      0.993      0.999       0.99      0.702\n",
      "\n",
      "      Epoch    GPU_mem   box_loss   seg_loss   cls_loss   dfl_loss  Instances       Size\n"
     ]
    },
    {
     "name": "stderr",
     "output_type": "stream",
     "text": [
      "     20/300      19.6G     0.5886     0.6586     0.3661     0.8733         54       1280: 100%|██████████| 10/10 [00:03<00:00,  2.91it/s]\n",
      "                 Class     Images  Instances      Box(P          R      mAP50  mAP50-95)     Mask(P          R      mAP50  mAP50-95): 100%|██████████| 8/8 [00:01<00:00,  6.48it/s]\n"
     ]
    },
    {
     "name": "stdout",
     "output_type": "stream",
     "text": [
      "                   all         60        270      0.992      0.996      0.988      0.885      0.992      0.996      0.988      0.684\n",
      "\n",
      "      Epoch    GPU_mem   box_loss   seg_loss   cls_loss   dfl_loss  Instances       Size\n"
     ]
    },
    {
     "name": "stderr",
     "output_type": "stream",
     "text": [
      "     21/300      20.2G     0.5703     0.7056     0.3499     0.8532         48       1280: 100%|██████████| 10/10 [00:03<00:00,  2.93it/s]\n",
      "                 Class     Images  Instances      Box(P          R      mAP50  mAP50-95)     Mask(P          R      mAP50  mAP50-95): 100%|██████████| 8/8 [00:01<00:00,  6.30it/s]\n"
     ]
    },
    {
     "name": "stdout",
     "output_type": "stream",
     "text": [
      "                   all         60        270      0.992      0.996      0.988      0.857      0.992      0.996      0.988      0.685\n",
      "\n",
      "      Epoch    GPU_mem   box_loss   seg_loss   cls_loss   dfl_loss  Instances       Size\n"
     ]
    },
    {
     "name": "stderr",
     "output_type": "stream",
     "text": [
      "     22/300      19.4G     0.5945     0.7144     0.3733     0.8814         37       1280: 100%|██████████| 10/10 [00:03<00:00,  2.86it/s]\n",
      "                 Class     Images  Instances      Box(P          R      mAP50  mAP50-95)     Mask(P          R      mAP50  mAP50-95): 100%|██████████| 8/8 [00:01<00:00,  6.51it/s]\n"
     ]
    },
    {
     "name": "stdout",
     "output_type": "stream",
     "text": [
      "                   all         60        270      0.992      0.996      0.988      0.868      0.992      0.996      0.988      0.763\n",
      "\n",
      "      Epoch    GPU_mem   box_loss   seg_loss   cls_loss   dfl_loss  Instances       Size\n"
     ]
    },
    {
     "name": "stderr",
     "output_type": "stream",
     "text": [
      "     23/300      19.9G      0.583     0.6669     0.3515     0.8516         44       1280: 100%|██████████| 10/10 [00:03<00:00,  2.92it/s]\n",
      "                 Class     Images  Instances      Box(P          R      mAP50  mAP50-95)     Mask(P          R      mAP50  mAP50-95): 100%|██████████| 8/8 [00:01<00:00,  6.51it/s]\n"
     ]
    },
    {
     "name": "stdout",
     "output_type": "stream",
     "text": [
      "                   all         60        270      0.991      0.996      0.988       0.86      0.991      0.996      0.988      0.741\n",
      "\n",
      "      Epoch    GPU_mem   box_loss   seg_loss   cls_loss   dfl_loss  Instances       Size\n"
     ]
    },
    {
     "name": "stderr",
     "output_type": "stream",
     "text": [
      "     24/300      19.6G     0.6122     0.7296      0.359     0.8753         68       1280: 100%|██████████| 10/10 [00:03<00:00,  2.89it/s]\n",
      "                 Class     Images  Instances      Box(P          R      mAP50  mAP50-95)     Mask(P          R      mAP50  mAP50-95): 100%|██████████| 8/8 [00:01<00:00,  6.54it/s]\n"
     ]
    },
    {
     "name": "stdout",
     "output_type": "stream",
     "text": [
      "                   all         60        270      0.992      0.996      0.988       0.85      0.992      0.996      0.988      0.749\n",
      "\n",
      "      Epoch    GPU_mem   box_loss   seg_loss   cls_loss   dfl_loss  Instances       Size\n"
     ]
    },
    {
     "name": "stderr",
     "output_type": "stream",
     "text": [
      "     25/300      19.8G     0.6029      0.678     0.3575     0.8553         54       1280: 100%|██████████| 10/10 [00:03<00:00,  2.94it/s]\n",
      "                 Class     Images  Instances      Box(P          R      mAP50  mAP50-95)     Mask(P          R      mAP50  mAP50-95): 100%|██████████| 8/8 [00:01<00:00,  6.52it/s]\n"
     ]
    },
    {
     "name": "stdout",
     "output_type": "stream",
     "text": [
      "                   all         60        270      0.992      0.996      0.988      0.867      0.992      0.996      0.988      0.718\n",
      "\n",
      "      Epoch    GPU_mem   box_loss   seg_loss   cls_loss   dfl_loss  Instances       Size\n"
     ]
    },
    {
     "name": "stderr",
     "output_type": "stream",
     "text": [
      "     26/300      19.7G     0.5923     0.6993     0.3622      0.854         50       1280: 100%|██████████| 10/10 [00:03<00:00,  2.87it/s]\n",
      "                 Class     Images  Instances      Box(P          R      mAP50  mAP50-95)     Mask(P          R      mAP50  mAP50-95): 100%|██████████| 8/8 [00:01<00:00,  6.48it/s]\n"
     ]
    },
    {
     "name": "stdout",
     "output_type": "stream",
     "text": [
      "                   all         60        270      0.992          1       0.99      0.871      0.992          1       0.99      0.756\n",
      "\n",
      "      Epoch    GPU_mem   box_loss   seg_loss   cls_loss   dfl_loss  Instances       Size\n"
     ]
    },
    {
     "name": "stderr",
     "output_type": "stream",
     "text": [
      "     27/300      19.8G     0.5463     0.6255     0.3325     0.8393         36       1280: 100%|██████████| 10/10 [00:03<00:00,  2.93it/s]\n",
      "                 Class     Images  Instances      Box(P          R      mAP50  mAP50-95)     Mask(P          R      mAP50  mAP50-95): 100%|██████████| 8/8 [00:01<00:00,  6.45it/s]\n"
     ]
    },
    {
     "name": "stdout",
     "output_type": "stream",
     "text": [
      "                   all         60        270      0.988          1      0.991      0.882      0.988          1      0.991      0.694\n",
      "\n",
      "      Epoch    GPU_mem   box_loss   seg_loss   cls_loss   dfl_loss  Instances       Size\n"
     ]
    },
    {
     "name": "stderr",
     "output_type": "stream",
     "text": [
      "     28/300      19.3G     0.5736     0.7207     0.3455     0.8429         83       1280: 100%|██████████| 10/10 [00:03<00:00,  2.93it/s]\n",
      "                 Class     Images  Instances      Box(P          R      mAP50  mAP50-95)     Mask(P          R      mAP50  mAP50-95): 100%|██████████| 8/8 [00:01<00:00,  6.47it/s]\n"
     ]
    },
    {
     "name": "stdout",
     "output_type": "stream",
     "text": [
      "                   all         60        270      0.992          1       0.99      0.889      0.992          1       0.99      0.725\n",
      "\n",
      "      Epoch    GPU_mem   box_loss   seg_loss   cls_loss   dfl_loss  Instances       Size\n"
     ]
    },
    {
     "name": "stderr",
     "output_type": "stream",
     "text": [
      "     29/300      19.9G     0.5754     0.7035     0.3581      0.843         76       1280:  50%|█████     | 5/10 [00:01<00:01,  2.90it/s]/home/spuser/.conda/envs/yanpan/lib/python3.11/site-packages/ultralytics/data/augment.py:1143: RuntimeWarning: divide by zero encountered in divide\n",
      "  xy = xy[:, :2] / xy[:, 2:3]\n",
      "     29/300      19.9G     0.5842      0.681     0.3569     0.8555         60       1280: 100%|██████████| 10/10 [00:03<00:00,  2.93it/s]\n",
      "                 Class     Images  Instances      Box(P          R      mAP50  mAP50-95)     Mask(P          R      mAP50  mAP50-95): 100%|██████████| 8/8 [00:01<00:00,  6.31it/s]\n"
     ]
    },
    {
     "name": "stdout",
     "output_type": "stream",
     "text": [
      "                   all         60        270      0.988          1       0.99      0.857      0.988          1       0.99      0.721\n",
      "\n",
      "      Epoch    GPU_mem   box_loss   seg_loss   cls_loss   dfl_loss  Instances       Size\n"
     ]
    },
    {
     "name": "stderr",
     "output_type": "stream",
     "text": [
      "     30/300      19.5G     0.5637     0.6063     0.3448      0.855         49       1280: 100%|██████████| 10/10 [00:03<00:00,  2.81it/s]\n",
      "                 Class     Images  Instances      Box(P          R      mAP50  mAP50-95)     Mask(P          R      mAP50  mAP50-95): 100%|██████████| 8/8 [00:01<00:00,  6.35it/s]\n"
     ]
    },
    {
     "name": "stdout",
     "output_type": "stream",
     "text": [
      "                   all         60        270      0.992          1       0.99      0.864      0.992          1       0.99      0.764\n",
      "\n",
      "      Epoch    GPU_mem   box_loss   seg_loss   cls_loss   dfl_loss  Instances       Size\n"
     ]
    },
    {
     "name": "stderr",
     "output_type": "stream",
     "text": [
      "     31/300      19.8G     0.6042     0.6772     0.3607      0.854         52       1280: 100%|██████████| 10/10 [00:03<00:00,  2.94it/s]\n",
      "                 Class     Images  Instances      Box(P          R      mAP50  mAP50-95)     Mask(P          R      mAP50  mAP50-95): 100%|██████████| 8/8 [00:01<00:00,  6.54it/s]\n"
     ]
    },
    {
     "name": "stdout",
     "output_type": "stream",
     "text": [
      "                   all         60        270      0.993          1       0.99      0.888      0.993          1       0.99      0.746\n",
      "\n",
      "      Epoch    GPU_mem   box_loss   seg_loss   cls_loss   dfl_loss  Instances       Size\n"
     ]
    },
    {
     "name": "stderr",
     "output_type": "stream",
     "text": [
      "     32/300        20G     0.5588      0.679     0.3381     0.8496         35       1280: 100%|██████████| 10/10 [00:03<00:00,  2.89it/s]\n",
      "                 Class     Images  Instances      Box(P          R      mAP50  mAP50-95)     Mask(P          R      mAP50  mAP50-95): 100%|██████████| 8/8 [00:01<00:00,  6.50it/s]\n"
     ]
    },
    {
     "name": "stdout",
     "output_type": "stream",
     "text": [
      "                   all         60        270      0.993      0.999      0.989      0.881      0.993      0.999      0.989      0.757\n",
      "\n",
      "      Epoch    GPU_mem   box_loss   seg_loss   cls_loss   dfl_loss  Instances       Size\n"
     ]
    },
    {
     "name": "stderr",
     "output_type": "stream",
     "text": [
      "     33/300      19.9G     0.6121     0.7306     0.3615     0.8633         44       1280: 100%|██████████| 10/10 [00:03<00:00,  2.90it/s]\n",
      "                 Class     Images  Instances      Box(P          R      mAP50  mAP50-95)     Mask(P          R      mAP50  mAP50-95): 100%|██████████| 8/8 [00:01<00:00,  6.47it/s]\n"
     ]
    },
    {
     "name": "stdout",
     "output_type": "stream",
     "text": [
      "                   all         60        270      0.989          1      0.989      0.872      0.989          1      0.989      0.729\n",
      "\n",
      "      Epoch    GPU_mem   box_loss   seg_loss   cls_loss   dfl_loss  Instances       Size\n"
     ]
    },
    {
     "name": "stderr",
     "output_type": "stream",
     "text": [
      "     34/300      19.5G     0.6158     0.7224     0.3541     0.8656         60       1280: 100%|██████████| 10/10 [00:03<00:00,  2.86it/s]\n",
      "                 Class     Images  Instances      Box(P          R      mAP50  mAP50-95)     Mask(P          R      mAP50  mAP50-95): 100%|██████████| 8/8 [00:01<00:00,  6.42it/s]\n"
     ]
    },
    {
     "name": "stdout",
     "output_type": "stream",
     "text": [
      "                   all         60        270      0.993      0.999      0.988      0.861      0.993      0.999      0.988      0.715\n",
      "\n",
      "      Epoch    GPU_mem   box_loss   seg_loss   cls_loss   dfl_loss  Instances       Size\n"
     ]
    },
    {
     "name": "stderr",
     "output_type": "stream",
     "text": [
      "     35/300      20.2G     0.5694     0.6723     0.3367     0.8512         53       1280: 100%|██████████| 10/10 [00:03<00:00,  2.86it/s]\n",
      "                 Class     Images  Instances      Box(P          R      mAP50  mAP50-95)     Mask(P          R      mAP50  mAP50-95): 100%|██████████| 8/8 [00:01<00:00,  6.37it/s]\n"
     ]
    },
    {
     "name": "stdout",
     "output_type": "stream",
     "text": [
      "                   all         60        270      0.989          1      0.991      0.872      0.989          1      0.991      0.725\n",
      "\n",
      "      Epoch    GPU_mem   box_loss   seg_loss   cls_loss   dfl_loss  Instances       Size\n"
     ]
    },
    {
     "name": "stderr",
     "output_type": "stream",
     "text": [
      "     36/300      19.7G     0.5842     0.6636     0.3535     0.8568         82       1280: 100%|██████████| 10/10 [00:03<00:00,  2.87it/s]\n",
      "                 Class     Images  Instances      Box(P          R      mAP50  mAP50-95)     Mask(P          R      mAP50  mAP50-95): 100%|██████████| 8/8 [00:01<00:00,  6.43it/s]\n"
     ]
    },
    {
     "name": "stdout",
     "output_type": "stream",
     "text": [
      "                   all         60        270      0.993          1       0.99      0.885      0.993          1       0.99      0.738\n",
      "\n",
      "      Epoch    GPU_mem   box_loss   seg_loss   cls_loss   dfl_loss  Instances       Size\n"
     ]
    },
    {
     "name": "stderr",
     "output_type": "stream",
     "text": [
      "     37/300      20.1G     0.5628     0.6682     0.3366     0.8296         62       1280: 100%|██████████| 10/10 [00:03<00:00,  2.90it/s]\n",
      "                 Class     Images  Instances      Box(P          R      mAP50  mAP50-95)     Mask(P          R      mAP50  mAP50-95): 100%|██████████| 8/8 [00:01<00:00,  6.41it/s]\n"
     ]
    },
    {
     "name": "stdout",
     "output_type": "stream",
     "text": [
      "                   all         60        270      0.992          1       0.99      0.883      0.992          1       0.99      0.763\n",
      "\n",
      "      Epoch    GPU_mem   box_loss   seg_loss   cls_loss   dfl_loss  Instances       Size\n"
     ]
    },
    {
     "name": "stderr",
     "output_type": "stream",
     "text": [
      "     38/300      19.7G     0.5364     0.6435     0.3343     0.8447         45       1280: 100%|██████████| 10/10 [00:03<00:00,  2.88it/s]\n",
      "                 Class     Images  Instances      Box(P          R      mAP50  mAP50-95)     Mask(P          R      mAP50  mAP50-95): 100%|██████████| 8/8 [00:01<00:00,  6.51it/s]\n"
     ]
    },
    {
     "name": "stdout",
     "output_type": "stream",
     "text": [
      "                   all         60        270      0.992          1      0.989      0.863      0.992          1      0.989      0.728\n",
      "\n",
      "      Epoch    GPU_mem   box_loss   seg_loss   cls_loss   dfl_loss  Instances       Size\n"
     ]
    },
    {
     "name": "stderr",
     "output_type": "stream",
     "text": [
      "     39/300      20.1G     0.5385     0.6366     0.3355     0.8413         26       1280: 100%|██████████| 10/10 [00:03<00:00,  2.92it/s]\n",
      "                 Class     Images  Instances      Box(P          R      mAP50  mAP50-95)     Mask(P          R      mAP50  mAP50-95): 100%|██████████| 8/8 [00:01<00:00,  6.57it/s]\n"
     ]
    },
    {
     "name": "stdout",
     "output_type": "stream",
     "text": [
      "                   all         60        270      0.992          1      0.988      0.872      0.992          1      0.988       0.75\n",
      "\n",
      "      Epoch    GPU_mem   box_loss   seg_loss   cls_loss   dfl_loss  Instances       Size\n"
     ]
    },
    {
     "name": "stderr",
     "output_type": "stream",
     "text": [
      "     40/300      19.5G     0.5014     0.6064     0.3211     0.8294         27       1280: 100%|██████████| 10/10 [00:03<00:00,  2.89it/s]\n",
      "                 Class     Images  Instances      Box(P          R      mAP50  mAP50-95)     Mask(P          R      mAP50  mAP50-95): 100%|██████████| 8/8 [00:01<00:00,  6.56it/s]\n"
     ]
    },
    {
     "name": "stdout",
     "output_type": "stream",
     "text": [
      "                   all         60        270      0.992          1      0.989      0.884      0.992          1      0.989      0.745\n",
      "\n",
      "      Epoch    GPU_mem   box_loss   seg_loss   cls_loss   dfl_loss  Instances       Size\n"
     ]
    },
    {
     "name": "stderr",
     "output_type": "stream",
     "text": [
      "     41/300      19.9G     0.5699      0.624     0.3394     0.8616         52       1280: 100%|██████████| 10/10 [00:03<00:00,  2.90it/s]\n",
      "                 Class     Images  Instances      Box(P          R      mAP50  mAP50-95)     Mask(P          R      mAP50  mAP50-95): 100%|██████████| 8/8 [00:01<00:00,  6.40it/s]\n"
     ]
    },
    {
     "name": "stdout",
     "output_type": "stream",
     "text": [
      "                   all         60        270      0.989          1      0.988      0.868      0.989          1      0.988      0.734\n",
      "\n",
      "      Epoch    GPU_mem   box_loss   seg_loss   cls_loss   dfl_loss  Instances       Size\n"
     ]
    },
    {
     "name": "stderr",
     "output_type": "stream",
     "text": [
      "     42/300      19.6G     0.5547     0.6713     0.3362     0.8457         44       1280: 100%|██████████| 10/10 [00:03<00:00,  2.88it/s]\n",
      "                 Class     Images  Instances      Box(P          R      mAP50  mAP50-95)     Mask(P          R      mAP50  mAP50-95): 100%|██████████| 8/8 [00:01<00:00,  6.58it/s]\n"
     ]
    },
    {
     "name": "stdout",
     "output_type": "stream",
     "text": [
      "                   all         60        270      0.993      0.999      0.989      0.874      0.993      0.999      0.989      0.746\n",
      "\n",
      "      Epoch    GPU_mem   box_loss   seg_loss   cls_loss   dfl_loss  Instances       Size\n"
     ]
    },
    {
     "name": "stderr",
     "output_type": "stream",
     "text": [
      "     43/300      19.9G     0.5657     0.7056     0.3399     0.8412         46       1280: 100%|██████████| 10/10 [00:03<00:00,  2.91it/s]\n",
      "                 Class     Images  Instances      Box(P          R      mAP50  mAP50-95)     Mask(P          R      mAP50  mAP50-95): 100%|██████████| 8/8 [00:01<00:00,  6.53it/s]\n"
     ]
    },
    {
     "name": "stdout",
     "output_type": "stream",
     "text": [
      "                   all         60        270      0.992      0.996      0.989      0.877      0.992      0.996      0.989      0.738\n",
      "\n",
      "      Epoch    GPU_mem   box_loss   seg_loss   cls_loss   dfl_loss  Instances       Size\n"
     ]
    },
    {
     "name": "stderr",
     "output_type": "stream",
     "text": [
      "     44/300      19.6G     0.5468     0.6274     0.3365     0.8485         35       1280: 100%|██████████| 10/10 [00:03<00:00,  2.84it/s]\n",
      "                 Class     Images  Instances      Box(P          R      mAP50  mAP50-95)     Mask(P          R      mAP50  mAP50-95): 100%|██████████| 8/8 [00:01<00:00,  6.37it/s]\n"
     ]
    },
    {
     "name": "stdout",
     "output_type": "stream",
     "text": [
      "                   all         60        270      0.992          1      0.988      0.867      0.992          1      0.988      0.741\n",
      "\n",
      "      Epoch    GPU_mem   box_loss   seg_loss   cls_loss   dfl_loss  Instances       Size\n"
     ]
    },
    {
     "name": "stderr",
     "output_type": "stream",
     "text": [
      "     45/300      19.8G     0.5351      0.637     0.3238     0.8423         68       1280: 100%|██████████| 10/10 [00:03<00:00,  2.95it/s]\n",
      "                 Class     Images  Instances      Box(P          R      mAP50  mAP50-95)     Mask(P          R      mAP50  mAP50-95): 100%|██████████| 8/8 [00:01<00:00,  6.26it/s]\n"
     ]
    },
    {
     "name": "stdout",
     "output_type": "stream",
     "text": [
      "                   all         60        270      0.993          1      0.988      0.891      0.993          1      0.988      0.749\n",
      "\n",
      "      Epoch    GPU_mem   box_loss   seg_loss   cls_loss   dfl_loss  Instances       Size\n"
     ]
    },
    {
     "name": "stderr",
     "output_type": "stream",
     "text": [
      "     46/300      19.6G     0.5214     0.5989     0.3144     0.8544         42       1280: 100%|██████████| 10/10 [00:03<00:00,  2.93it/s]\n",
      "                 Class     Images  Instances      Box(P          R      mAP50  mAP50-95)     Mask(P          R      mAP50  mAP50-95): 100%|██████████| 8/8 [00:01<00:00,  6.51it/s]\n"
     ]
    },
    {
     "name": "stdout",
     "output_type": "stream",
     "text": [
      "                   all         60        270      0.991          1      0.988      0.877      0.991          1      0.988      0.737\n",
      "\n",
      "      Epoch    GPU_mem   box_loss   seg_loss   cls_loss   dfl_loss  Instances       Size\n"
     ]
    },
    {
     "name": "stderr",
     "output_type": "stream",
     "text": [
      "     47/300      19.9G     0.5225     0.6311     0.3189      0.842         39       1280: 100%|██████████| 10/10 [00:03<00:00,  2.92it/s]\n",
      "                 Class     Images  Instances      Box(P          R      mAP50  mAP50-95)     Mask(P          R      mAP50  mAP50-95): 100%|██████████| 8/8 [00:01<00:00,  6.55it/s]\n"
     ]
    },
    {
     "name": "stdout",
     "output_type": "stream",
     "text": [
      "                   all         60        270       0.99          1       0.99      0.872       0.99          1       0.99      0.754\n",
      "\n",
      "      Epoch    GPU_mem   box_loss   seg_loss   cls_loss   dfl_loss  Instances       Size\n"
     ]
    },
    {
     "name": "stderr",
     "output_type": "stream",
     "text": [
      "     48/300      19.5G     0.5504      0.634     0.3355     0.8292         41       1280: 100%|██████████| 10/10 [00:03<00:00,  2.86it/s]\n",
      "                 Class     Images  Instances      Box(P          R      mAP50  mAP50-95)     Mask(P          R      mAP50  mAP50-95): 100%|██████████| 8/8 [00:01<00:00,  6.48it/s]\n"
     ]
    },
    {
     "name": "stdout",
     "output_type": "stream",
     "text": [
      "                   all         60        270       0.99          1       0.99       0.88       0.99          1       0.99      0.732\n",
      "\n",
      "      Epoch    GPU_mem   box_loss   seg_loss   cls_loss   dfl_loss  Instances       Size\n"
     ]
    },
    {
     "name": "stderr",
     "output_type": "stream",
     "text": [
      "     49/300      20.1G      0.531     0.6466     0.3287     0.8502         43       1280: 100%|██████████| 10/10 [00:03<00:00,  2.89it/s]\n",
      "                 Class     Images  Instances      Box(P          R      mAP50  mAP50-95)     Mask(P          R      mAP50  mAP50-95): 100%|██████████| 8/8 [00:01<00:00,  6.54it/s]\n"
     ]
    },
    {
     "name": "stdout",
     "output_type": "stream",
     "text": [
      "                   all         60        270      0.992          1      0.991      0.895      0.992          1      0.991      0.739\n",
      "\n",
      "      Epoch    GPU_mem   box_loss   seg_loss   cls_loss   dfl_loss  Instances       Size\n"
     ]
    },
    {
     "name": "stderr",
     "output_type": "stream",
     "text": [
      "     50/300      19.6G     0.5322     0.6075     0.3306      0.835         50       1280: 100%|██████████| 10/10 [00:03<00:00,  2.89it/s]\n",
      "                 Class     Images  Instances      Box(P          R      mAP50  mAP50-95)     Mask(P          R      mAP50  mAP50-95): 100%|██████████| 8/8 [00:01<00:00,  6.58it/s]\n"
     ]
    },
    {
     "name": "stdout",
     "output_type": "stream",
     "text": [
      "                   all         60        270      0.993          1      0.992      0.898      0.993          1      0.992      0.738\n",
      "\n",
      "      Epoch    GPU_mem   box_loss   seg_loss   cls_loss   dfl_loss  Instances       Size\n"
     ]
    },
    {
     "name": "stderr",
     "output_type": "stream",
     "text": [
      "     51/300      19.8G     0.5313     0.6053     0.3197     0.8217         63       1280: 100%|██████████| 10/10 [00:03<00:00,  2.92it/s]\n",
      "                 Class     Images  Instances      Box(P          R      mAP50  mAP50-95)     Mask(P          R      mAP50  mAP50-95): 100%|██████████| 8/8 [00:01<00:00,  6.57it/s]\n"
     ]
    },
    {
     "name": "stdout",
     "output_type": "stream",
     "text": [
      "                   all         60        270      0.993          1      0.988      0.875      0.993          1      0.988      0.769\n",
      "\n",
      "      Epoch    GPU_mem   box_loss   seg_loss   cls_loss   dfl_loss  Instances       Size\n"
     ]
    },
    {
     "name": "stderr",
     "output_type": "stream",
     "text": [
      "     52/300      19.7G     0.5388     0.6416     0.3291     0.8438         54       1280: 100%|██████████| 10/10 [00:03<00:00,  2.85it/s]\n",
      "                 Class     Images  Instances      Box(P          R      mAP50  mAP50-95)     Mask(P          R      mAP50  mAP50-95): 100%|██████████| 8/8 [00:01<00:00,  6.50it/s]\n"
     ]
    },
    {
     "name": "stdout",
     "output_type": "stream",
     "text": [
      "                   all         60        270      0.992          1      0.989       0.88      0.992          1      0.989      0.759\n",
      "\n",
      "      Epoch    GPU_mem   box_loss   seg_loss   cls_loss   dfl_loss  Instances       Size\n"
     ]
    },
    {
     "name": "stderr",
     "output_type": "stream",
     "text": [
      "     53/300      20.1G     0.5679     0.6411     0.3209      0.859         40       1280: 100%|██████████| 10/10 [00:03<00:00,  2.92it/s]\n",
      "                 Class     Images  Instances      Box(P          R      mAP50  mAP50-95)     Mask(P          R      mAP50  mAP50-95): 100%|██████████| 8/8 [00:01<00:00,  6.33it/s]\n"
     ]
    },
    {
     "name": "stdout",
     "output_type": "stream",
     "text": [
      "                   all         60        270      0.992          1       0.99      0.879      0.992          1       0.99       0.76\n",
      "\n",
      "      Epoch    GPU_mem   box_loss   seg_loss   cls_loss   dfl_loss  Instances       Size\n"
     ]
    },
    {
     "name": "stderr",
     "output_type": "stream",
     "text": [
      "     54/300      19.7G      0.519      0.621     0.2998     0.8233         50       1280: 100%|██████████| 10/10 [00:03<00:00,  2.88it/s]\n",
      "                 Class     Images  Instances      Box(P          R      mAP50  mAP50-95)     Mask(P          R      mAP50  mAP50-95): 100%|██████████| 8/8 [00:01<00:00,  6.33it/s]\n"
     ]
    },
    {
     "name": "stdout",
     "output_type": "stream",
     "text": [
      "                   all         60        270      0.993          1       0.99      0.895      0.993          1       0.99      0.743\n",
      "\n",
      "      Epoch    GPU_mem   box_loss   seg_loss   cls_loss   dfl_loss  Instances       Size\n"
     ]
    },
    {
     "name": "stderr",
     "output_type": "stream",
     "text": [
      "     55/300      19.8G     0.5473     0.6411     0.3159     0.8355         49       1280: 100%|██████████| 10/10 [00:03<00:00,  2.94it/s]\n",
      "                 Class     Images  Instances      Box(P          R      mAP50  mAP50-95)     Mask(P          R      mAP50  mAP50-95): 100%|██████████| 8/8 [00:01<00:00,  6.55it/s]\n"
     ]
    },
    {
     "name": "stdout",
     "output_type": "stream",
     "text": [
      "                   all         60        270      0.989          1      0.988      0.863      0.989          1      0.988      0.753\n",
      "\n",
      "      Epoch    GPU_mem   box_loss   seg_loss   cls_loss   dfl_loss  Instances       Size\n"
     ]
    },
    {
     "name": "stderr",
     "output_type": "stream",
     "text": [
      "     56/300      19.5G     0.5319      0.635      0.323     0.8544         72       1280: 100%|██████████| 10/10 [00:03<00:00,  2.90it/s]\n",
      "                 Class     Images  Instances      Box(P          R      mAP50  mAP50-95)     Mask(P          R      mAP50  mAP50-95): 100%|██████████| 8/8 [00:01<00:00,  6.55it/s]\n"
     ]
    },
    {
     "name": "stdout",
     "output_type": "stream",
     "text": [
      "                   all         60        270      0.989          1      0.988      0.866      0.989          1      0.988      0.733\n",
      "\n",
      "      Epoch    GPU_mem   box_loss   seg_loss   cls_loss   dfl_loss  Instances       Size\n"
     ]
    },
    {
     "name": "stderr",
     "output_type": "stream",
     "text": [
      "     57/300      20.2G     0.5155     0.6426     0.3079      0.841         43       1280: 100%|██████████| 10/10 [00:03<00:00,  2.91it/s]\n",
      "                 Class     Images  Instances      Box(P          R      mAP50  mAP50-95)     Mask(P          R      mAP50  mAP50-95): 100%|██████████| 8/8 [00:01<00:00,  6.58it/s]\n"
     ]
    },
    {
     "name": "stdout",
     "output_type": "stream",
     "text": [
      "                   all         60        270      0.991          1      0.988      0.899      0.991          1      0.988       0.74\n",
      "\n",
      "      Epoch    GPU_mem   box_loss   seg_loss   cls_loss   dfl_loss  Instances       Size\n"
     ]
    },
    {
     "name": "stderr",
     "output_type": "stream",
     "text": [
      "     58/300      19.7G     0.5009     0.6414     0.2935     0.8256         67       1280: 100%|██████████| 10/10 [00:03<00:00,  2.87it/s]\n",
      "                 Class     Images  Instances      Box(P          R      mAP50  mAP50-95)     Mask(P          R      mAP50  mAP50-95): 100%|██████████| 8/8 [00:01<00:00,  6.58it/s]\n"
     ]
    },
    {
     "name": "stdout",
     "output_type": "stream",
     "text": [
      "                   all         60        270      0.988          1      0.988      0.892      0.988          1      0.988       0.76\n",
      "\n",
      "      Epoch    GPU_mem   box_loss   seg_loss   cls_loss   dfl_loss  Instances       Size\n"
     ]
    },
    {
     "name": "stderr",
     "output_type": "stream",
     "text": [
      "     59/300      20.3G     0.5205     0.6424     0.3066     0.8399         22       1280: 100%|██████████| 10/10 [00:03<00:00,  2.89it/s]\n",
      "                 Class     Images  Instances      Box(P          R      mAP50  mAP50-95)     Mask(P          R      mAP50  mAP50-95): 100%|██████████| 8/8 [00:01<00:00,  6.59it/s]\n"
     ]
    },
    {
     "name": "stdout",
     "output_type": "stream",
     "text": [
      "                   all         60        270      0.992          1      0.992      0.883      0.992          1      0.992      0.771\n",
      "\n",
      "      Epoch    GPU_mem   box_loss   seg_loss   cls_loss   dfl_loss  Instances       Size\n"
     ]
    },
    {
     "name": "stderr",
     "output_type": "stream",
     "text": [
      "     60/300      19.9G      0.546     0.6598     0.3047     0.8438         60       1280: 100%|██████████| 10/10 [00:03<00:00,  2.85it/s]\n",
      "                 Class     Images  Instances      Box(P          R      mAP50  mAP50-95)     Mask(P          R      mAP50  mAP50-95): 100%|██████████| 8/8 [00:01<00:00,  6.50it/s]\n"
     ]
    },
    {
     "name": "stdout",
     "output_type": "stream",
     "text": [
      "                   all         60        270      0.991          1      0.991      0.877      0.991          1      0.991      0.738\n",
      "\n",
      "      Epoch    GPU_mem   box_loss   seg_loss   cls_loss   dfl_loss  Instances       Size\n"
     ]
    },
    {
     "name": "stderr",
     "output_type": "stream",
     "text": [
      "     61/300      20.3G      0.531     0.5951     0.3148     0.8363         56       1280: 100%|██████████| 10/10 [00:03<00:00,  2.95it/s]\n",
      "                 Class     Images  Instances      Box(P          R      mAP50  mAP50-95)     Mask(P          R      mAP50  mAP50-95): 100%|██████████| 8/8 [00:01<00:00,  6.42it/s]\n"
     ]
    },
    {
     "name": "stdout",
     "output_type": "stream",
     "text": [
      "                   all         60        270      0.992          1      0.988      0.888      0.992          1      0.988       0.73\n",
      "\n",
      "      Epoch    GPU_mem   box_loss   seg_loss   cls_loss   dfl_loss  Instances       Size\n"
     ]
    },
    {
     "name": "stderr",
     "output_type": "stream",
     "text": [
      "     62/300        20G     0.5378     0.6037     0.3162     0.8395         75       1280: 100%|██████████| 10/10 [00:03<00:00,  2.91it/s]\n",
      "                 Class     Images  Instances      Box(P          R      mAP50  mAP50-95)     Mask(P          R      mAP50  mAP50-95): 100%|██████████| 8/8 [00:01<00:00,  6.37it/s]\n"
     ]
    },
    {
     "name": "stdout",
     "output_type": "stream",
     "text": [
      "                   all         60        270      0.992          1      0.991      0.897      0.992          1      0.991      0.771\n",
      "\n",
      "      Epoch    GPU_mem   box_loss   seg_loss   cls_loss   dfl_loss  Instances       Size\n"
     ]
    },
    {
     "name": "stderr",
     "output_type": "stream",
     "text": [
      "     63/300      20.1G     0.5156     0.6009     0.3101     0.8258         48       1280: 100%|██████████| 10/10 [00:03<00:00,  2.90it/s]\n",
      "                 Class     Images  Instances      Box(P          R      mAP50  mAP50-95)     Mask(P          R      mAP50  mAP50-95): 100%|██████████| 8/8 [00:01<00:00,  6.41it/s]\n"
     ]
    },
    {
     "name": "stdout",
     "output_type": "stream",
     "text": [
      "                   all         60        270       0.99          1       0.99      0.876       0.99          1       0.99       0.76\n",
      "\n",
      "      Epoch    GPU_mem   box_loss   seg_loss   cls_loss   dfl_loss  Instances       Size\n"
     ]
    },
    {
     "name": "stderr",
     "output_type": "stream",
     "text": [
      "     64/300      19.4G     0.5227     0.6435     0.3132     0.8237         91       1280: 100%|██████████| 10/10 [00:03<00:00,  2.90it/s]\n",
      "                 Class     Images  Instances      Box(P          R      mAP50  mAP50-95)     Mask(P          R      mAP50  mAP50-95): 100%|██████████| 8/8 [00:01<00:00,  6.56it/s]\n"
     ]
    },
    {
     "name": "stdout",
     "output_type": "stream",
     "text": [
      "                   all         60        270      0.989          1      0.988      0.876      0.989          1      0.988      0.757\n",
      "\n",
      "      Epoch    GPU_mem   box_loss   seg_loss   cls_loss   dfl_loss  Instances       Size\n"
     ]
    },
    {
     "name": "stderr",
     "output_type": "stream",
     "text": [
      "     65/300      19.9G     0.5518     0.6475     0.3071     0.8481         56       1280: 100%|██████████| 10/10 [00:03<00:00,  2.91it/s]\n",
      "                 Class     Images  Instances      Box(P          R      mAP50  mAP50-95)     Mask(P          R      mAP50  mAP50-95): 100%|██████████| 8/8 [00:01<00:00,  6.53it/s]\n"
     ]
    },
    {
     "name": "stdout",
     "output_type": "stream",
     "text": [
      "                   all         60        270      0.992          1      0.988      0.881      0.992          1      0.988      0.753\n",
      "\n",
      "      Epoch    GPU_mem   box_loss   seg_loss   cls_loss   dfl_loss  Instances       Size\n"
     ]
    },
    {
     "name": "stderr",
     "output_type": "stream",
     "text": [
      "     66/300      19.6G     0.5002     0.5759     0.2992     0.8245         43       1280: 100%|██████████| 10/10 [00:03<00:00,  2.90it/s]\n",
      "                 Class     Images  Instances      Box(P          R      mAP50  mAP50-95)     Mask(P          R      mAP50  mAP50-95): 100%|██████████| 8/8 [00:01<00:00,  6.55it/s]\n"
     ]
    },
    {
     "name": "stdout",
     "output_type": "stream",
     "text": [
      "                   all         60        270      0.992          1      0.992      0.893      0.992          1      0.992      0.762\n",
      "\n",
      "      Epoch    GPU_mem   box_loss   seg_loss   cls_loss   dfl_loss  Instances       Size\n"
     ]
    },
    {
     "name": "stderr",
     "output_type": "stream",
     "text": [
      "     67/300      19.9G     0.5372     0.6213     0.3126     0.8481         47       1280: 100%|██████████| 10/10 [00:03<00:00,  2.91it/s]\n",
      "                 Class     Images  Instances      Box(P          R      mAP50  mAP50-95)     Mask(P          R      mAP50  mAP50-95): 100%|██████████| 8/8 [00:01<00:00,  6.53it/s]\n"
     ]
    },
    {
     "name": "stdout",
     "output_type": "stream",
     "text": [
      "                   all         60        270      0.992          1      0.992      0.885      0.992          1      0.992      0.761\n",
      "\n",
      "      Epoch    GPU_mem   box_loss   seg_loss   cls_loss   dfl_loss  Instances       Size\n"
     ]
    },
    {
     "name": "stderr",
     "output_type": "stream",
     "text": [
      "     68/300      19.9G     0.5203     0.5935     0.3045     0.8134         49       1280: 100%|██████████| 10/10 [00:03<00:00,  2.90it/s]\n",
      "                 Class     Images  Instances      Box(P          R      mAP50  mAP50-95)     Mask(P          R      mAP50  mAP50-95): 100%|██████████| 8/8 [00:01<00:00,  6.54it/s]\n"
     ]
    },
    {
     "name": "stdout",
     "output_type": "stream",
     "text": [
      "                   all         60        270      0.992          1      0.991      0.883      0.992          1      0.991      0.763\n",
      "\n",
      "      Epoch    GPU_mem   box_loss   seg_loss   cls_loss   dfl_loss  Instances       Size\n"
     ]
    },
    {
     "name": "stderr",
     "output_type": "stream",
     "text": [
      "     69/300      20.1G     0.5112      0.637     0.2999     0.8277         72       1280: 100%|██████████| 10/10 [00:03<00:00,  2.91it/s]\n",
      "                 Class     Images  Instances      Box(P          R      mAP50  mAP50-95)     Mask(P          R      mAP50  mAP50-95): 100%|██████████| 8/8 [00:01<00:00,  6.40it/s]\n"
     ]
    },
    {
     "name": "stdout",
     "output_type": "stream",
     "text": [
      "                   all         60        270      0.992          1      0.991      0.857      0.992          1      0.991      0.759\n",
      "\n",
      "      Epoch    GPU_mem   box_loss   seg_loss   cls_loss   dfl_loss  Instances       Size\n"
     ]
    },
    {
     "name": "stderr",
     "output_type": "stream",
     "text": [
      "     70/300      19.9G     0.5399      0.646     0.3067      0.828         64       1280: 100%|██████████| 10/10 [00:03<00:00,  2.90it/s]\n",
      "                 Class     Images  Instances      Box(P          R      mAP50  mAP50-95)     Mask(P          R      mAP50  mAP50-95): 100%|██████████| 8/8 [00:01<00:00,  6.45it/s]\n"
     ]
    },
    {
     "name": "stdout",
     "output_type": "stream",
     "text": [
      "                   all         60        270      0.993          1      0.991      0.886      0.993          1      0.991      0.761\n",
      "\n",
      "      Epoch    GPU_mem   box_loss   seg_loss   cls_loss   dfl_loss  Instances       Size\n"
     ]
    },
    {
     "name": "stderr",
     "output_type": "stream",
     "text": [
      "     71/300      20.1G     0.5179     0.6015     0.3045     0.8264         67       1280: 100%|██████████| 10/10 [00:03<00:00,  2.91it/s]\n",
      "                 Class     Images  Instances      Box(P          R      mAP50  mAP50-95)     Mask(P          R      mAP50  mAP50-95): 100%|██████████| 8/8 [00:01<00:00,  6.59it/s]\n"
     ]
    },
    {
     "name": "stdout",
     "output_type": "stream",
     "text": [
      "                   all         60        270      0.993          1      0.991      0.881      0.993          1      0.991      0.775\n",
      "\n",
      "      Epoch    GPU_mem   box_loss   seg_loss   cls_loss   dfl_loss  Instances       Size\n"
     ]
    },
    {
     "name": "stderr",
     "output_type": "stream",
     "text": [
      "     72/300      19.7G     0.4894     0.5898     0.2897     0.8452         29       1280: 100%|██████████| 10/10 [00:03<00:00,  2.91it/s]\n",
      "                 Class     Images  Instances      Box(P          R      mAP50  mAP50-95)     Mask(P          R      mAP50  mAP50-95): 100%|██████████| 8/8 [00:01<00:00,  6.59it/s]\n"
     ]
    },
    {
     "name": "stdout",
     "output_type": "stream",
     "text": [
      "                   all         60        270      0.992          1      0.992      0.885      0.992          1      0.992      0.762\n",
      "\n",
      "      Epoch    GPU_mem   box_loss   seg_loss   cls_loss   dfl_loss  Instances       Size\n"
     ]
    },
    {
     "name": "stderr",
     "output_type": "stream",
     "text": [
      "     73/300      20.1G     0.5375      0.627     0.3109     0.8192         39       1280: 100%|██████████| 10/10 [00:03<00:00,  2.94it/s]\n",
      "                 Class     Images  Instances      Box(P          R      mAP50  mAP50-95)     Mask(P          R      mAP50  mAP50-95): 100%|██████████| 8/8 [00:01<00:00,  6.58it/s]\n"
     ]
    },
    {
     "name": "stdout",
     "output_type": "stream",
     "text": [
      "                   all         60        270      0.992          1      0.992      0.902      0.992          1      0.992      0.757\n",
      "\n",
      "      Epoch    GPU_mem   box_loss   seg_loss   cls_loss   dfl_loss  Instances       Size\n"
     ]
    },
    {
     "name": "stderr",
     "output_type": "stream",
     "text": [
      "     74/300      19.6G     0.5446     0.5931     0.3166     0.8304         37       1280: 100%|██████████| 10/10 [00:03<00:00,  2.93it/s]\n",
      "                 Class     Images  Instances      Box(P          R      mAP50  mAP50-95)     Mask(P          R      mAP50  mAP50-95): 100%|██████████| 8/8 [00:01<00:00,  6.49it/s]\n"
     ]
    },
    {
     "name": "stdout",
     "output_type": "stream",
     "text": [
      "                   all         60        270      0.992          1      0.991      0.882      0.992          1      0.991       0.74\n",
      "\n",
      "      Epoch    GPU_mem   box_loss   seg_loss   cls_loss   dfl_loss  Instances       Size\n"
     ]
    },
    {
     "name": "stderr",
     "output_type": "stream",
     "text": [
      "     75/300      20.3G      0.549     0.6293     0.3167     0.8403         73       1280:  80%|████████  | 8/10 [00:02<00:00,  2.84it/s]/home/spuser/.conda/envs/yanpan/lib/python3.11/site-packages/ultralytics/data/augment.py:1143: RuntimeWarning: divide by zero encountered in divide\n",
      "  xy = xy[:, :2] / xy[:, 2:3]\n",
      "     75/300      20.3G     0.5414     0.6271     0.3117     0.8402         27       1280: 100%|██████████| 10/10 [00:03<00:00,  2.94it/s]\n",
      "                 Class     Images  Instances      Box(P          R      mAP50  mAP50-95)     Mask(P          R      mAP50  mAP50-95): 100%|██████████| 8/8 [00:01<00:00,  6.58it/s]\n"
     ]
    },
    {
     "name": "stdout",
     "output_type": "stream",
     "text": [
      "                   all         60        270      0.992          1       0.99      0.878      0.992          1       0.99      0.768\n",
      "\n",
      "      Epoch    GPU_mem   box_loss   seg_loss   cls_loss   dfl_loss  Instances       Size\n"
     ]
    },
    {
     "name": "stderr",
     "output_type": "stream",
     "text": [
      "     76/300      19.6G     0.4984     0.6063     0.2958     0.8308         88       1280: 100%|██████████| 10/10 [00:03<00:00,  2.85it/s]\n",
      "                 Class     Images  Instances      Box(P          R      mAP50  mAP50-95)     Mask(P          R      mAP50  mAP50-95): 100%|██████████| 8/8 [00:01<00:00,  6.59it/s]\n"
     ]
    },
    {
     "name": "stdout",
     "output_type": "stream",
     "text": [
      "                   all         60        270      0.992          1       0.99      0.886      0.992          1       0.99      0.738\n",
      "\n",
      "      Epoch    GPU_mem   box_loss   seg_loss   cls_loss   dfl_loss  Instances       Size\n"
     ]
    },
    {
     "name": "stderr",
     "output_type": "stream",
     "text": [
      "     77/300      20.5G     0.4945     0.6028     0.2907     0.8282         51       1280: 100%|██████████| 10/10 [00:03<00:00,  2.91it/s]\n",
      "                 Class     Images  Instances      Box(P          R      mAP50  mAP50-95)     Mask(P          R      mAP50  mAP50-95): 100%|██████████| 8/8 [00:01<00:00,  6.49it/s]\n"
     ]
    },
    {
     "name": "stdout",
     "output_type": "stream",
     "text": [
      "                   all         60        270      0.993          1       0.99       0.89      0.993          1       0.99      0.772\n",
      "\n",
      "      Epoch    GPU_mem   box_loss   seg_loss   cls_loss   dfl_loss  Instances       Size\n"
     ]
    },
    {
     "name": "stderr",
     "output_type": "stream",
     "text": [
      "     78/300      19.9G     0.5082     0.6205     0.2977      0.844         41       1280: 100%|██████████| 10/10 [00:03<00:00,  2.91it/s]\n",
      "                 Class     Images  Instances      Box(P          R      mAP50  mAP50-95)     Mask(P          R      mAP50  mAP50-95): 100%|██████████| 8/8 [00:01<00:00,  6.38it/s]\n"
     ]
    },
    {
     "name": "stdout",
     "output_type": "stream",
     "text": [
      "                   all         60        270      0.992          1      0.992       0.88      0.992          1      0.992      0.752\n",
      "\n",
      "      Epoch    GPU_mem   box_loss   seg_loss   cls_loss   dfl_loss  Instances       Size\n"
     ]
    },
    {
     "name": "stderr",
     "output_type": "stream",
     "text": [
      "     79/300      19.9G     0.5051     0.5988      0.302      0.835         46       1280: 100%|██████████| 10/10 [00:03<00:00,  2.94it/s]\n",
      "                 Class     Images  Instances      Box(P          R      mAP50  mAP50-95)     Mask(P          R      mAP50  mAP50-95): 100%|██████████| 8/8 [00:01<00:00,  6.49it/s]\n"
     ]
    },
    {
     "name": "stdout",
     "output_type": "stream",
     "text": [
      "                   all         60        270      0.992          1      0.989      0.905      0.992          1      0.989      0.763\n",
      "\n",
      "      Epoch    GPU_mem   box_loss   seg_loss   cls_loss   dfl_loss  Instances       Size\n"
     ]
    },
    {
     "name": "stderr",
     "output_type": "stream",
     "text": [
      "     80/300      19.5G      0.527     0.6489     0.3057      0.834         62       1280: 100%|██████████| 10/10 [00:03<00:00,  2.90it/s]\n",
      "                 Class     Images  Instances      Box(P          R      mAP50  mAP50-95)     Mask(P          R      mAP50  mAP50-95): 100%|██████████| 8/8 [00:01<00:00,  6.51it/s]\n"
     ]
    },
    {
     "name": "stdout",
     "output_type": "stream",
     "text": [
      "                   all         60        270      0.993          1      0.992      0.872      0.993          1      0.992      0.754\n",
      "\n",
      "      Epoch    GPU_mem   box_loss   seg_loss   cls_loss   dfl_loss  Instances       Size\n"
     ]
    },
    {
     "name": "stderr",
     "output_type": "stream",
     "text": [
      "     81/300        20G     0.5263     0.6349     0.2961     0.8378         62       1280: 100%|██████████| 10/10 [00:03<00:00,  2.91it/s]\n",
      "                 Class     Images  Instances      Box(P          R      mAP50  mAP50-95)     Mask(P          R      mAP50  mAP50-95): 100%|██████████| 8/8 [00:01<00:00,  6.53it/s]\n"
     ]
    },
    {
     "name": "stdout",
     "output_type": "stream",
     "text": [
      "                   all         60        270      0.988          1      0.991      0.895      0.988          1      0.991      0.753\n",
      "\n",
      "      Epoch    GPU_mem   box_loss   seg_loss   cls_loss   dfl_loss  Instances       Size\n"
     ]
    },
    {
     "name": "stderr",
     "output_type": "stream",
     "text": [
      "     82/300      19.5G     0.5096     0.5496     0.3023     0.8426         64       1280: 100%|██████████| 10/10 [00:03<00:00,  2.88it/s]\n",
      "                 Class     Images  Instances      Box(P          R      mAP50  mAP50-95)     Mask(P          R      mAP50  mAP50-95): 100%|██████████| 8/8 [00:01<00:00,  6.57it/s]\n"
     ]
    },
    {
     "name": "stdout",
     "output_type": "stream",
     "text": [
      "                   all         60        270      0.992          1      0.991      0.903      0.992          1      0.991      0.733\n",
      "\n",
      "      Epoch    GPU_mem   box_loss   seg_loss   cls_loss   dfl_loss  Instances       Size\n"
     ]
    },
    {
     "name": "stderr",
     "output_type": "stream",
     "text": [
      "     83/300        20G     0.5109     0.5863     0.2971     0.8224         45       1280: 100%|██████████| 10/10 [00:03<00:00,  2.94it/s]\n",
      "                 Class     Images  Instances      Box(P          R      mAP50  mAP50-95)     Mask(P          R      mAP50  mAP50-95): 100%|██████████| 8/8 [00:01<00:00,  6.58it/s]\n"
     ]
    },
    {
     "name": "stdout",
     "output_type": "stream",
     "text": [
      "                   all         60        270      0.992          1      0.989      0.883      0.992          1      0.989       0.78\n",
      "\n",
      "      Epoch    GPU_mem   box_loss   seg_loss   cls_loss   dfl_loss  Instances       Size\n"
     ]
    },
    {
     "name": "stderr",
     "output_type": "stream",
     "text": [
      "     84/300      19.9G     0.5173     0.6029     0.3095     0.8241         51       1280: 100%|██████████| 10/10 [00:03<00:00,  2.83it/s]\n",
      "                 Class     Images  Instances      Box(P          R      mAP50  mAP50-95)     Mask(P          R      mAP50  mAP50-95): 100%|██████████| 8/8 [00:01<00:00,  6.59it/s]\n"
     ]
    },
    {
     "name": "stdout",
     "output_type": "stream",
     "text": [
      "                   all         60        270      0.992          1      0.991      0.899      0.992          1      0.991      0.748\n",
      "\n",
      "      Epoch    GPU_mem   box_loss   seg_loss   cls_loss   dfl_loss  Instances       Size\n"
     ]
    },
    {
     "name": "stderr",
     "output_type": "stream",
     "text": [
      "     85/300        20G     0.4936     0.6103     0.2966     0.8186         77       1280: 100%|██████████| 10/10 [00:03<00:00,  2.95it/s]\n",
      "                 Class     Images  Instances      Box(P          R      mAP50  mAP50-95)     Mask(P          R      mAP50  mAP50-95): 100%|██████████| 8/8 [00:01<00:00,  6.44it/s]\n"
     ]
    },
    {
     "name": "stdout",
     "output_type": "stream",
     "text": [
      "                   all         60        270      0.991          1      0.991      0.898      0.991          1      0.991       0.76\n",
      "\n",
      "      Epoch    GPU_mem   box_loss   seg_loss   cls_loss   dfl_loss  Instances       Size\n"
     ]
    },
    {
     "name": "stderr",
     "output_type": "stream",
     "text": [
      "     86/300      19.6G     0.4948     0.5434     0.2954     0.8424         49       1280: 100%|██████████| 10/10 [00:03<00:00,  2.91it/s]\n",
      "                 Class     Images  Instances      Box(P          R      mAP50  mAP50-95)     Mask(P          R      mAP50  mAP50-95): 100%|██████████| 8/8 [00:01<00:00,  6.38it/s]\n"
     ]
    },
    {
     "name": "stdout",
     "output_type": "stream",
     "text": [
      "                   all         60        270      0.992          1      0.991       0.89      0.992          1      0.991      0.763\n",
      "\n",
      "      Epoch    GPU_mem   box_loss   seg_loss   cls_loss   dfl_loss  Instances       Size\n"
     ]
    },
    {
     "name": "stderr",
     "output_type": "stream",
     "text": [
      "     87/300        20G     0.4746     0.5509     0.2758     0.8236         49       1280: 100%|██████████| 10/10 [00:03<00:00,  2.93it/s]\n",
      "                 Class     Images  Instances      Box(P          R      mAP50  mAP50-95)     Mask(P          R      mAP50  mAP50-95): 100%|██████████| 8/8 [00:01<00:00,  6.40it/s]\n"
     ]
    },
    {
     "name": "stdout",
     "output_type": "stream",
     "text": [
      "                   all         60        270      0.992          1      0.989      0.885      0.992          1      0.989      0.773\n",
      "\n",
      "      Epoch    GPU_mem   box_loss   seg_loss   cls_loss   dfl_loss  Instances       Size\n"
     ]
    },
    {
     "name": "stderr",
     "output_type": "stream",
     "text": [
      "     88/300      19.6G     0.4708     0.5534     0.2761     0.8242         61       1280: 100%|██████████| 10/10 [00:03<00:00,  2.92it/s]\n",
      "                 Class     Images  Instances      Box(P          R      mAP50  mAP50-95)     Mask(P          R      mAP50  mAP50-95): 100%|██████████| 8/8 [00:01<00:00,  6.49it/s]\n"
     ]
    },
    {
     "name": "stdout",
     "output_type": "stream",
     "text": [
      "                   all         60        270      0.992          1       0.99      0.891      0.992          1       0.99      0.754\n",
      "\n",
      "      Epoch    GPU_mem   box_loss   seg_loss   cls_loss   dfl_loss  Instances       Size\n"
     ]
    },
    {
     "name": "stderr",
     "output_type": "stream",
     "text": [
      "     89/300      20.4G     0.5198     0.6176     0.2936     0.8184         83       1280: 100%|██████████| 10/10 [00:03<00:00,  2.91it/s]\n",
      "                 Class     Images  Instances      Box(P          R      mAP50  mAP50-95)     Mask(P          R      mAP50  mAP50-95): 100%|██████████| 8/8 [00:01<00:00,  6.58it/s]\n"
     ]
    },
    {
     "name": "stdout",
     "output_type": "stream",
     "text": [
      "                   all         60        270      0.992          1       0.99      0.898      0.992          1       0.99       0.77\n",
      "\n",
      "      Epoch    GPU_mem   box_loss   seg_loss   cls_loss   dfl_loss  Instances       Size\n"
     ]
    },
    {
     "name": "stderr",
     "output_type": "stream",
     "text": [
      "     90/300      19.9G     0.5044     0.6148     0.2982     0.8307         47       1280: 100%|██████████| 10/10 [00:03<00:00,  2.86it/s]\n",
      "                 Class     Images  Instances      Box(P          R      mAP50  mAP50-95)     Mask(P          R      mAP50  mAP50-95): 100%|██████████| 8/8 [00:01<00:00,  6.59it/s]\n"
     ]
    },
    {
     "name": "stdout",
     "output_type": "stream",
     "text": [
      "                   all         60        270      0.992          1       0.99      0.867      0.992          1       0.99      0.764\n",
      "\n",
      "      Epoch    GPU_mem   box_loss   seg_loss   cls_loss   dfl_loss  Instances       Size\n"
     ]
    },
    {
     "name": "stderr",
     "output_type": "stream",
     "text": [
      "  0%|          | 0/10 [00:00<?, ?it/s]/home/spuser/.conda/envs/yanpan/lib/python3.11/site-packages/ultralytics/data/augment.py:1143: RuntimeWarning: divide by zero encountered in divide\n",
      "  xy = xy[:, :2] / xy[:, 2:3]\n",
      "     91/300        20G     0.5182     0.6332     0.2966     0.8217         66       1280: 100%|██████████| 10/10 [00:03<00:00,  2.92it/s]\n",
      "                 Class     Images  Instances      Box(P          R      mAP50  mAP50-95)     Mask(P          R      mAP50  mAP50-95): 100%|██████████| 8/8 [00:01<00:00,  6.38it/s]\n"
     ]
    },
    {
     "name": "stdout",
     "output_type": "stream",
     "text": [
      "                   all         60        270      0.992          1      0.989      0.903      0.992          1      0.989      0.752\n",
      "\n",
      "      Epoch    GPU_mem   box_loss   seg_loss   cls_loss   dfl_loss  Instances       Size\n"
     ]
    },
    {
     "name": "stderr",
     "output_type": "stream",
     "text": [
      "     92/300      19.6G     0.5092     0.5798     0.2893     0.8336         50       1280: 100%|██████████| 10/10 [00:03<00:00,  2.89it/s]\n",
      "                 Class     Images  Instances      Box(P          R      mAP50  mAP50-95)     Mask(P          R      mAP50  mAP50-95): 100%|██████████| 8/8 [00:01<00:00,  6.52it/s]\n"
     ]
    },
    {
     "name": "stdout",
     "output_type": "stream",
     "text": [
      "                   all         60        270      0.991          1      0.988      0.885      0.991          1      0.988      0.751\n",
      "\n",
      "      Epoch    GPU_mem   box_loss   seg_loss   cls_loss   dfl_loss  Instances       Size\n"
     ]
    },
    {
     "name": "stderr",
     "output_type": "stream",
     "text": [
      "     93/300      19.8G     0.5075     0.6327     0.3031     0.8467         68       1280: 100%|██████████| 10/10 [00:03<00:00,  2.92it/s]\n",
      "                 Class     Images  Instances      Box(P          R      mAP50  mAP50-95)     Mask(P          R      mAP50  mAP50-95): 100%|██████████| 8/8 [00:01<00:00,  6.56it/s]\n"
     ]
    },
    {
     "name": "stdout",
     "output_type": "stream",
     "text": [
      "                   all         60        270      0.989          1      0.988      0.886      0.989          1      0.988      0.736\n",
      "\n",
      "      Epoch    GPU_mem   box_loss   seg_loss   cls_loss   dfl_loss  Instances       Size\n"
     ]
    },
    {
     "name": "stderr",
     "output_type": "stream",
     "text": [
      "     94/300      19.5G     0.5171     0.5695     0.2914     0.8448         57       1280: 100%|██████████| 10/10 [00:03<00:00,  2.88it/s]\n",
      "                 Class     Images  Instances      Box(P          R      mAP50  mAP50-95)     Mask(P          R      mAP50  mAP50-95): 100%|██████████| 8/8 [00:01<00:00,  6.37it/s]\n"
     ]
    },
    {
     "name": "stdout",
     "output_type": "stream",
     "text": [
      "                   all         60        270      0.987          1      0.992      0.885      0.987          1      0.992      0.752\n",
      "\n",
      "      Epoch    GPU_mem   box_loss   seg_loss   cls_loss   dfl_loss  Instances       Size\n"
     ]
    },
    {
     "name": "stderr",
     "output_type": "stream",
     "text": [
      "     95/300      19.8G     0.5032     0.5994     0.2891     0.8242         81       1280:  90%|█████████ | 9/10 [00:03<00:00,  2.91it/s]/home/spuser/.conda/envs/yanpan/lib/python3.11/site-packages/ultralytics/data/augment.py:1143: RuntimeWarning: divide by zero encountered in divide\n",
      "  xy = xy[:, :2] / xy[:, 2:3]\n",
      "     95/300      19.8G     0.4969     0.5922     0.2865     0.8265         52       1280: 100%|██████████| 10/10 [00:03<00:00,  2.92it/s]\n",
      "                 Class     Images  Instances      Box(P          R      mAP50  mAP50-95)     Mask(P          R      mAP50  mAP50-95): 100%|██████████| 8/8 [00:01<00:00,  6.37it/s]\n"
     ]
    },
    {
     "name": "stdout",
     "output_type": "stream",
     "text": [
      "                   all         60        270      0.989          1      0.992       0.89      0.989          1      0.992      0.759\n",
      "\n",
      "      Epoch    GPU_mem   box_loss   seg_loss   cls_loss   dfl_loss  Instances       Size\n"
     ]
    },
    {
     "name": "stderr",
     "output_type": "stream",
     "text": [
      "     96/300      20.1G     0.5032     0.6117     0.2939     0.8365         37       1280: 100%|██████████| 10/10 [00:03<00:00,  2.89it/s]\n",
      "                 Class     Images  Instances      Box(P          R      mAP50  mAP50-95)     Mask(P          R      mAP50  mAP50-95): 100%|██████████| 8/8 [00:01<00:00,  6.56it/s]\n"
     ]
    },
    {
     "name": "stdout",
     "output_type": "stream",
     "text": [
      "                   all         60        270      0.992          1      0.989      0.876      0.992          1      0.989      0.766\n",
      "\n",
      "      Epoch    GPU_mem   box_loss   seg_loss   cls_loss   dfl_loss  Instances       Size\n"
     ]
    },
    {
     "name": "stderr",
     "output_type": "stream",
     "text": [
      "     97/300      19.8G     0.4692      0.558      0.277     0.8263         33       1280: 100%|██████████| 10/10 [00:03<00:00,  2.88it/s]\n",
      "                 Class     Images  Instances      Box(P          R      mAP50  mAP50-95)     Mask(P          R      mAP50  mAP50-95): 100%|██████████| 8/8 [00:01<00:00,  6.57it/s]\n"
     ]
    },
    {
     "name": "stdout",
     "output_type": "stream",
     "text": [
      "                   all         60        270      0.988          1      0.992      0.895      0.988          1      0.992      0.753\n",
      "\n",
      "      Epoch    GPU_mem   box_loss   seg_loss   cls_loss   dfl_loss  Instances       Size\n"
     ]
    },
    {
     "name": "stderr",
     "output_type": "stream",
     "text": [
      "     98/300      19.6G     0.4822      0.601     0.2822     0.8094         75       1280: 100%|██████████| 10/10 [00:03<00:00,  2.86it/s]\n",
      "                 Class     Images  Instances      Box(P          R      mAP50  mAP50-95)     Mask(P          R      mAP50  mAP50-95): 100%|██████████| 8/8 [00:01<00:00,  6.59it/s]\n"
     ]
    },
    {
     "name": "stdout",
     "output_type": "stream",
     "text": [
      "                   all         60        270      0.993      0.999      0.993      0.897      0.993      0.999      0.993      0.757\n",
      "\n",
      "      Epoch    GPU_mem   box_loss   seg_loss   cls_loss   dfl_loss  Instances       Size\n"
     ]
    },
    {
     "name": "stderr",
     "output_type": "stream",
     "text": [
      "     99/300      19.7G     0.4658     0.5366     0.2728     0.8158         36       1280: 100%|██████████| 10/10 [00:03<00:00,  2.91it/s]\n",
      "                 Class     Images  Instances      Box(P          R      mAP50  mAP50-95)     Mask(P          R      mAP50  mAP50-95): 100%|██████████| 8/8 [00:01<00:00,  6.54it/s]\n"
     ]
    },
    {
     "name": "stdout",
     "output_type": "stream",
     "text": [
      "                   all         60        270      0.993          1      0.992        0.9      0.993          1      0.992      0.787\n",
      "\n",
      "      Epoch    GPU_mem   box_loss   seg_loss   cls_loss   dfl_loss  Instances       Size\n"
     ]
    },
    {
     "name": "stderr",
     "output_type": "stream",
     "text": [
      "    100/300      19.3G     0.4809      0.603     0.2822      0.834         25       1280: 100%|██████████| 10/10 [00:03<00:00,  2.92it/s]\n",
      "                 Class     Images  Instances      Box(P          R      mAP50  mAP50-95)     Mask(P          R      mAP50  mAP50-95): 100%|██████████| 8/8 [00:01<00:00,  6.50it/s]\n"
     ]
    },
    {
     "name": "stdout",
     "output_type": "stream",
     "text": [
      "                   all         60        270      0.993      0.999       0.99      0.902      0.993      0.999       0.99      0.771\n",
      "\n",
      "      Epoch    GPU_mem   box_loss   seg_loss   cls_loss   dfl_loss  Instances       Size\n"
     ]
    },
    {
     "name": "stderr",
     "output_type": "stream",
     "text": [
      "    101/300      20.1G     0.4705     0.5726     0.2801     0.8267         47       1280: 100%|██████████| 10/10 [00:03<00:00,  2.91it/s]\n",
      "                 Class     Images  Instances      Box(P          R      mAP50  mAP50-95)     Mask(P          R      mAP50  mAP50-95): 100%|██████████| 8/8 [00:01<00:00,  6.59it/s]\n"
     ]
    },
    {
     "name": "stdout",
     "output_type": "stream",
     "text": [
      "                   all         60        270      0.993          1      0.993      0.905      0.993          1      0.993      0.768\n",
      "\n",
      "      Epoch    GPU_mem   box_loss   seg_loss   cls_loss   dfl_loss  Instances       Size\n"
     ]
    },
    {
     "name": "stderr",
     "output_type": "stream",
     "text": [
      "    102/300      19.5G     0.4723     0.5554     0.2826     0.8308         66       1280:  80%|████████  | 8/10 [00:02<00:00,  2.91it/s]/home/spuser/.conda/envs/yanpan/lib/python3.11/site-packages/ultralytics/data/augment.py:1143: RuntimeWarning: divide by zero encountered in divide\n",
      "  xy = xy[:, :2] / xy[:, 2:3]\n",
      "    102/300      19.5G     0.4817     0.5719     0.2876     0.8298         60       1280: 100%|██████████| 10/10 [00:03<00:00,  2.91it/s]\n",
      "                 Class     Images  Instances      Box(P          R      mAP50  mAP50-95)     Mask(P          R      mAP50  mAP50-95): 100%|██████████| 8/8 [00:01<00:00,  6.45it/s]\n"
     ]
    },
    {
     "name": "stdout",
     "output_type": "stream",
     "text": [
      "                   all         60        270      0.992          1      0.993       0.91      0.992          1      0.993      0.773\n",
      "\n",
      "      Epoch    GPU_mem   box_loss   seg_loss   cls_loss   dfl_loss  Instances       Size\n"
     ]
    },
    {
     "name": "stderr",
     "output_type": "stream",
     "text": [
      "    103/300      20.2G     0.4922     0.6041     0.2753     0.8207         63       1280: 100%|██████████| 10/10 [00:03<00:00,  2.93it/s]\n",
      "                 Class     Images  Instances      Box(P          R      mAP50  mAP50-95)     Mask(P          R      mAP50  mAP50-95): 100%|██████████| 8/8 [00:01<00:00,  6.40it/s]\n"
     ]
    },
    {
     "name": "stdout",
     "output_type": "stream",
     "text": [
      "                   all         60        270      0.993          1      0.993      0.902      0.993          1      0.993      0.767\n",
      "\n",
      "      Epoch    GPU_mem   box_loss   seg_loss   cls_loss   dfl_loss  Instances       Size\n"
     ]
    },
    {
     "name": "stderr",
     "output_type": "stream",
     "text": [
      "    104/300      19.5G     0.5051     0.5931     0.2809     0.8305         44       1280: 100%|██████████| 10/10 [00:03<00:00,  2.90it/s]\n",
      "                 Class     Images  Instances      Box(P          R      mAP50  mAP50-95)     Mask(P          R      mAP50  mAP50-95): 100%|██████████| 8/8 [00:01<00:00,  6.50it/s]\n"
     ]
    },
    {
     "name": "stdout",
     "output_type": "stream",
     "text": [
      "                   all         60        270      0.992          1      0.993      0.898      0.992          1      0.993      0.787\n",
      "\n",
      "      Epoch    GPU_mem   box_loss   seg_loss   cls_loss   dfl_loss  Instances       Size\n"
     ]
    },
    {
     "name": "stderr",
     "output_type": "stream",
     "text": [
      "    105/300      20.2G      0.503     0.5872     0.2778     0.8308         57       1280: 100%|██████████| 10/10 [00:03<00:00,  2.93it/s]\n",
      "                 Class     Images  Instances      Box(P          R      mAP50  mAP50-95)     Mask(P          R      mAP50  mAP50-95): 100%|██████████| 8/8 [00:01<00:00,  6.57it/s]\n"
     ]
    },
    {
     "name": "stdout",
     "output_type": "stream",
     "text": [
      "                   all         60        270      0.992          1      0.992      0.892      0.992          1      0.992      0.762\n",
      "\n",
      "      Epoch    GPU_mem   box_loss   seg_loss   cls_loss   dfl_loss  Instances       Size\n"
     ]
    },
    {
     "name": "stderr",
     "output_type": "stream",
     "text": [
      "    106/300      19.6G     0.4858     0.5629     0.2789     0.8288         80       1280: 100%|██████████| 10/10 [00:03<00:00,  2.91it/s]\n",
      "                 Class     Images  Instances      Box(P          R      mAP50  mAP50-95)     Mask(P          R      mAP50  mAP50-95): 100%|██████████| 8/8 [00:01<00:00,  6.50it/s]\n"
     ]
    },
    {
     "name": "stdout",
     "output_type": "stream",
     "text": [
      "                   all         60        270      0.992          1      0.993      0.908      0.992          1      0.993      0.761\n",
      "\n",
      "      Epoch    GPU_mem   box_loss   seg_loss   cls_loss   dfl_loss  Instances       Size\n"
     ]
    },
    {
     "name": "stderr",
     "output_type": "stream",
     "text": [
      "    107/300      19.8G     0.5134     0.5809     0.2887     0.8373         59       1280: 100%|██████████| 10/10 [00:03<00:00,  2.95it/s]\n",
      "                 Class     Images  Instances      Box(P          R      mAP50  mAP50-95)     Mask(P          R      mAP50  mAP50-95): 100%|██████████| 8/8 [00:01<00:00,  6.56it/s]\n"
     ]
    },
    {
     "name": "stdout",
     "output_type": "stream",
     "text": [
      "                   all         60        270      0.992          1      0.991      0.898      0.992          1      0.991      0.767\n",
      "\n",
      "      Epoch    GPU_mem   box_loss   seg_loss   cls_loss   dfl_loss  Instances       Size\n"
     ]
    },
    {
     "name": "stderr",
     "output_type": "stream",
     "text": [
      "    108/300      19.8G     0.5166     0.5857     0.2904     0.8182         40       1280: 100%|██████████| 10/10 [00:03<00:00,  2.90it/s]\n",
      "                 Class     Images  Instances      Box(P          R      mAP50  mAP50-95)     Mask(P          R      mAP50  mAP50-95): 100%|██████████| 8/8 [00:01<00:00,  6.58it/s]\n"
     ]
    },
    {
     "name": "stdout",
     "output_type": "stream",
     "text": [
      "                   all         60        270      0.993          1      0.989      0.919      0.993          1      0.989      0.769\n",
      "\n",
      "      Epoch    GPU_mem   box_loss   seg_loss   cls_loss   dfl_loss  Instances       Size\n"
     ]
    },
    {
     "name": "stderr",
     "output_type": "stream",
     "text": [
      "    109/300        20G     0.4915     0.5686     0.2762      0.815         43       1280: 100%|██████████| 10/10 [00:03<00:00,  2.90it/s]\n",
      "                 Class     Images  Instances      Box(P          R      mAP50  mAP50-95)     Mask(P          R      mAP50  mAP50-95): 100%|██████████| 8/8 [00:01<00:00,  6.51it/s]\n"
     ]
    },
    {
     "name": "stdout",
     "output_type": "stream",
     "text": [
      "                   all         60        270      0.992          1      0.988      0.885      0.992          1      0.988      0.764\n",
      "\n",
      "      Epoch    GPU_mem   box_loss   seg_loss   cls_loss   dfl_loss  Instances       Size\n"
     ]
    },
    {
     "name": "stderr",
     "output_type": "stream",
     "text": [
      "    110/300      19.6G     0.4838     0.5884     0.2724     0.8356         45       1280: 100%|██████████| 10/10 [00:03<00:00,  2.91it/s]\n",
      "                 Class     Images  Instances      Box(P          R      mAP50  mAP50-95)     Mask(P          R      mAP50  mAP50-95): 100%|██████████| 8/8 [00:01<00:00,  6.59it/s]\n"
     ]
    },
    {
     "name": "stdout",
     "output_type": "stream",
     "text": [
      "                   all         60        270      0.992          1      0.989      0.912      0.992          1      0.989      0.778\n",
      "\n",
      "      Epoch    GPU_mem   box_loss   seg_loss   cls_loss   dfl_loss  Instances       Size\n"
     ]
    },
    {
     "name": "stderr",
     "output_type": "stream",
     "text": [
      "    111/300      19.8G     0.4687     0.5949     0.2701     0.8251         88       1280: 100%|██████████| 10/10 [00:03<00:00,  2.97it/s]\n",
      "                 Class     Images  Instances      Box(P          R      mAP50  mAP50-95)     Mask(P          R      mAP50  mAP50-95): 100%|██████████| 8/8 [00:01<00:00,  6.50it/s]\n"
     ]
    },
    {
     "name": "stdout",
     "output_type": "stream",
     "text": [
      "                   all         60        270      0.992          1       0.99      0.909      0.992          1       0.99      0.766\n",
      "\n",
      "      Epoch    GPU_mem   box_loss   seg_loss   cls_loss   dfl_loss  Instances       Size\n"
     ]
    },
    {
     "name": "stderr",
     "output_type": "stream",
     "text": [
      "    112/300      19.5G     0.5029     0.5855     0.2799     0.8394         61       1280: 100%|██████████| 10/10 [00:03<00:00,  2.91it/s]\n",
      "                 Class     Images  Instances      Box(P          R      mAP50  mAP50-95)     Mask(P          R      mAP50  mAP50-95): 100%|██████████| 8/8 [00:01<00:00,  6.46it/s]\n"
     ]
    },
    {
     "name": "stdout",
     "output_type": "stream",
     "text": [
      "                   all         60        270      0.992          1       0.99      0.903      0.992          1       0.99      0.788\n",
      "\n",
      "      Epoch    GPU_mem   box_loss   seg_loss   cls_loss   dfl_loss  Instances       Size\n"
     ]
    },
    {
     "name": "stderr",
     "output_type": "stream",
     "text": [
      "    113/300        20G     0.5001     0.5913     0.2925     0.8403         52       1280: 100%|██████████| 10/10 [00:03<00:00,  2.94it/s]\n",
      "                 Class     Images  Instances      Box(P          R      mAP50  mAP50-95)     Mask(P          R      mAP50  mAP50-95): 100%|██████████| 8/8 [00:01<00:00,  6.29it/s]\n"
     ]
    },
    {
     "name": "stdout",
     "output_type": "stream",
     "text": [
      "                   all         60        270      0.992          1      0.989      0.886      0.992          1      0.989      0.777\n",
      "\n",
      "      Epoch    GPU_mem   box_loss   seg_loss   cls_loss   dfl_loss  Instances       Size\n"
     ]
    },
    {
     "name": "stderr",
     "output_type": "stream",
     "text": [
      "    114/300      19.6G     0.5069     0.6007     0.2917     0.8385         42       1280: 100%|██████████| 10/10 [00:03<00:00,  2.90it/s]\n",
      "                 Class     Images  Instances      Box(P          R      mAP50  mAP50-95)     Mask(P          R      mAP50  mAP50-95): 100%|██████████| 8/8 [00:01<00:00,  6.57it/s]\n"
     ]
    },
    {
     "name": "stdout",
     "output_type": "stream",
     "text": [
      "                   all         60        270      0.992          1      0.991      0.889      0.992          1      0.991      0.763\n",
      "\n",
      "      Epoch    GPU_mem   box_loss   seg_loss   cls_loss   dfl_loss  Instances       Size\n"
     ]
    },
    {
     "name": "stderr",
     "output_type": "stream",
     "text": [
      "    115/300      19.9G     0.5063     0.5897     0.2787     0.8311         79       1280: 100%|██████████| 10/10 [00:03<00:00,  2.91it/s]\n",
      "                 Class     Images  Instances      Box(P          R      mAP50  mAP50-95)     Mask(P          R      mAP50  mAP50-95): 100%|██████████| 8/8 [00:01<00:00,  6.59it/s]\n"
     ]
    },
    {
     "name": "stdout",
     "output_type": "stream",
     "text": [
      "                   all         60        270      0.992          1      0.992      0.883      0.992          1      0.992      0.773\n",
      "\n",
      "      Epoch    GPU_mem   box_loss   seg_loss   cls_loss   dfl_loss  Instances       Size\n"
     ]
    },
    {
     "name": "stderr",
     "output_type": "stream",
     "text": [
      "    116/300      19.4G     0.4608     0.5538     0.2775     0.8298         32       1280: 100%|██████████| 10/10 [00:03<00:00,  2.90it/s]\n",
      "                 Class     Images  Instances      Box(P          R      mAP50  mAP50-95)     Mask(P          R      mAP50  mAP50-95): 100%|██████████| 8/8 [00:01<00:00,  6.56it/s]\n"
     ]
    },
    {
     "name": "stdout",
     "output_type": "stream",
     "text": [
      "                   all         60        270      0.993      0.999      0.991      0.876      0.993      0.999      0.991      0.757\n",
      "\n",
      "      Epoch    GPU_mem   box_loss   seg_loss   cls_loss   dfl_loss  Instances       Size\n"
     ]
    },
    {
     "name": "stderr",
     "output_type": "stream",
     "text": [
      "    117/300        20G     0.4851     0.5751     0.2772     0.8348         52       1280: 100%|██████████| 10/10 [00:03<00:00,  2.94it/s]\n",
      "                 Class     Images  Instances      Box(P          R      mAP50  mAP50-95)     Mask(P          R      mAP50  mAP50-95): 100%|██████████| 8/8 [00:01<00:00,  6.58it/s]\n"
     ]
    },
    {
     "name": "stdout",
     "output_type": "stream",
     "text": [
      "                   all         60        270      0.992          1      0.992      0.895      0.992          1      0.992      0.756\n",
      "\n",
      "      Epoch    GPU_mem   box_loss   seg_loss   cls_loss   dfl_loss  Instances       Size\n"
     ]
    },
    {
     "name": "stderr",
     "output_type": "stream",
     "text": [
      "    118/300      19.6G     0.4593     0.5197     0.2643     0.8043         52       1280: 100%|██████████| 10/10 [00:03<00:00,  2.91it/s]\n",
      "                 Class     Images  Instances      Box(P          R      mAP50  mAP50-95)     Mask(P          R      mAP50  mAP50-95): 100%|██████████| 8/8 [00:01<00:00,  6.57it/s]\n"
     ]
    },
    {
     "name": "stdout",
     "output_type": "stream",
     "text": [
      "                   all         60        270      0.993          1      0.992      0.927      0.993          1      0.992      0.793\n",
      "\n",
      "      Epoch    GPU_mem   box_loss   seg_loss   cls_loss   dfl_loss  Instances       Size\n"
     ]
    },
    {
     "name": "stderr",
     "output_type": "stream",
     "text": [
      "    119/300        20G     0.4923     0.5808     0.2852      0.828         53       1280: 100%|██████████| 10/10 [00:03<00:00,  2.94it/s]\n",
      "                 Class     Images  Instances      Box(P          R      mAP50  mAP50-95)     Mask(P          R      mAP50  mAP50-95): 100%|██████████| 8/8 [00:01<00:00,  6.57it/s]\n"
     ]
    },
    {
     "name": "stdout",
     "output_type": "stream",
     "text": [
      "                   all         60        270      0.993          1      0.992      0.922      0.993          1      0.992      0.774\n",
      "\n",
      "      Epoch    GPU_mem   box_loss   seg_loss   cls_loss   dfl_loss  Instances       Size\n"
     ]
    },
    {
     "name": "stderr",
     "output_type": "stream",
     "text": [
      "    120/300      19.6G     0.5018     0.6002     0.2789     0.8281         48       1280: 100%|██████████| 10/10 [00:03<00:00,  2.92it/s]\n",
      "                 Class     Images  Instances      Box(P          R      mAP50  mAP50-95)     Mask(P          R      mAP50  mAP50-95): 100%|██████████| 8/8 [00:01<00:00,  6.35it/s]\n"
     ]
    },
    {
     "name": "stdout",
     "output_type": "stream",
     "text": [
      "                   all         60        270      0.992          1       0.99      0.908      0.992          1       0.99      0.779\n",
      "\n",
      "      Epoch    GPU_mem   box_loss   seg_loss   cls_loss   dfl_loss  Instances       Size\n"
     ]
    },
    {
     "name": "stderr",
     "output_type": "stream",
     "text": [
      "    121/300      19.9G     0.4646     0.5591     0.2719     0.8189         76       1280: 100%|██████████| 10/10 [00:03<00:00,  2.93it/s]\n",
      "                 Class     Images  Instances      Box(P          R      mAP50  mAP50-95)     Mask(P          R      mAP50  mAP50-95): 100%|██████████| 8/8 [00:01<00:00,  6.38it/s]\n"
     ]
    },
    {
     "name": "stdout",
     "output_type": "stream",
     "text": [
      "                   all         60        270      0.989          1       0.99      0.916      0.989          1       0.99      0.786\n",
      "\n",
      "      Epoch    GPU_mem   box_loss   seg_loss   cls_loss   dfl_loss  Instances       Size\n"
     ]
    },
    {
     "name": "stderr",
     "output_type": "stream",
     "text": [
      "    122/300      19.6G     0.5008     0.6016     0.2851     0.8317         43       1280: 100%|██████████| 10/10 [00:03<00:00,  2.91it/s]\n",
      "                 Class     Images  Instances      Box(P          R      mAP50  mAP50-95)     Mask(P          R      mAP50  mAP50-95): 100%|██████████| 8/8 [00:01<00:00,  6.56it/s]\n"
     ]
    },
    {
     "name": "stdout",
     "output_type": "stream",
     "text": [
      "                   all         60        270      0.989          1      0.991      0.915      0.989          1      0.991      0.776\n",
      "\n",
      "      Epoch    GPU_mem   box_loss   seg_loss   cls_loss   dfl_loss  Instances       Size\n"
     ]
    },
    {
     "name": "stderr",
     "output_type": "stream",
     "text": [
      "    123/300      19.7G     0.4798     0.5904     0.2726     0.8187         52       1280: 100%|██████████| 10/10 [00:03<00:00,  2.91it/s]\n",
      "                 Class     Images  Instances      Box(P          R      mAP50  mAP50-95)     Mask(P          R      mAP50  mAP50-95): 100%|██████████| 8/8 [00:01<00:00,  6.55it/s]\n"
     ]
    },
    {
     "name": "stdout",
     "output_type": "stream",
     "text": [
      "                   all         60        270      0.993          1      0.992      0.908      0.993          1      0.992      0.775\n",
      "\n",
      "      Epoch    GPU_mem   box_loss   seg_loss   cls_loss   dfl_loss  Instances       Size\n"
     ]
    },
    {
     "name": "stderr",
     "output_type": "stream",
     "text": [
      "    124/300      19.6G     0.4872      0.563      0.273     0.8269         49       1280: 100%|██████████| 10/10 [00:03<00:00,  2.92it/s]\n",
      "                 Class     Images  Instances      Box(P          R      mAP50  mAP50-95)     Mask(P          R      mAP50  mAP50-95): 100%|██████████| 8/8 [00:01<00:00,  6.58it/s]\n"
     ]
    },
    {
     "name": "stdout",
     "output_type": "stream",
     "text": [
      "                   all         60        270      0.993          1      0.992       0.91      0.993          1      0.992      0.766\n",
      "\n",
      "      Epoch    GPU_mem   box_loss   seg_loss   cls_loss   dfl_loss  Instances       Size\n"
     ]
    },
    {
     "name": "stderr",
     "output_type": "stream",
     "text": [
      "    125/300      20.1G     0.4505     0.5899     0.2675     0.8117         63       1280: 100%|██████████| 10/10 [00:03<00:00,  2.91it/s]\n",
      "                 Class     Images  Instances      Box(P          R      mAP50  mAP50-95)     Mask(P          R      mAP50  mAP50-95): 100%|██████████| 8/8 [00:01<00:00,  6.59it/s]\n"
     ]
    },
    {
     "name": "stdout",
     "output_type": "stream",
     "text": [
      "                   all         60        270      0.992      0.996      0.992      0.904      0.992      0.996      0.992      0.771\n",
      "\n",
      "      Epoch    GPU_mem   box_loss   seg_loss   cls_loss   dfl_loss  Instances       Size\n"
     ]
    },
    {
     "name": "stderr",
     "output_type": "stream",
     "text": [
      "    126/300      19.4G     0.4639     0.5618       0.27     0.8264         54       1280: 100%|██████████| 10/10 [00:03<00:00,  2.91it/s]\n",
      "                 Class     Images  Instances      Box(P          R      mAP50  mAP50-95)     Mask(P          R      mAP50  mAP50-95): 100%|██████████| 8/8 [00:01<00:00,  6.56it/s]\n"
     ]
    },
    {
     "name": "stdout",
     "output_type": "stream",
     "text": [
      "                   all         60        270      0.993          1      0.993        0.9      0.993          1      0.993      0.782\n",
      "\n",
      "      Epoch    GPU_mem   box_loss   seg_loss   cls_loss   dfl_loss  Instances       Size\n"
     ]
    },
    {
     "name": "stderr",
     "output_type": "stream",
     "text": [
      "    127/300        20G     0.4951     0.5915     0.2717     0.8293         53       1280: 100%|██████████| 10/10 [00:03<00:00,  2.93it/s]\n",
      "                 Class     Images  Instances      Box(P          R      mAP50  mAP50-95)     Mask(P          R      mAP50  mAP50-95): 100%|██████████| 8/8 [00:01<00:00,  6.38it/s]\n"
     ]
    },
    {
     "name": "stdout",
     "output_type": "stream",
     "text": [
      "                   all         60        270      0.993      0.999      0.992      0.879      0.993      0.999      0.992      0.762\n",
      "\n",
      "      Epoch    GPU_mem   box_loss   seg_loss   cls_loss   dfl_loss  Instances       Size\n"
     ]
    },
    {
     "name": "stderr",
     "output_type": "stream",
     "text": [
      "    128/300      19.8G      0.468      0.568     0.2756     0.8212         41       1280: 100%|██████████| 10/10 [00:03<00:00,  2.93it/s]\n",
      "                 Class     Images  Instances      Box(P          R      mAP50  mAP50-95)     Mask(P          R      mAP50  mAP50-95): 100%|██████████| 8/8 [00:01<00:00,  6.50it/s]\n"
     ]
    },
    {
     "name": "stdout",
     "output_type": "stream",
     "text": [
      "                   all         60        270      0.986      0.996       0.99      0.875      0.986      0.996       0.99      0.765\n",
      "\n",
      "      Epoch    GPU_mem   box_loss   seg_loss   cls_loss   dfl_loss  Instances       Size\n"
     ]
    },
    {
     "name": "stderr",
     "output_type": "stream",
     "text": [
      "    129/300      20.2G     0.4178     0.5334     0.2448     0.8043         50       1280: 100%|██████████| 10/10 [00:03<00:00,  2.95it/s]\n",
      "                 Class     Images  Instances      Box(P          R      mAP50  mAP50-95)     Mask(P          R      mAP50  mAP50-95): 100%|██████████| 8/8 [00:01<00:00,  6.37it/s]\n"
     ]
    },
    {
     "name": "stdout",
     "output_type": "stream",
     "text": [
      "                   all         60        270       0.99      0.996       0.99      0.897       0.99      0.996       0.99      0.758\n",
      "\n",
      "      Epoch    GPU_mem   box_loss   seg_loss   cls_loss   dfl_loss  Instances       Size\n"
     ]
    },
    {
     "name": "stderr",
     "output_type": "stream",
     "text": [
      "    130/300      19.6G     0.4884      0.595     0.2813      0.828         64       1280: 100%|██████████| 10/10 [00:03<00:00,  2.94it/s]\n",
      "                 Class     Images  Instances      Box(P          R      mAP50  mAP50-95)     Mask(P          R      mAP50  mAP50-95): 100%|██████████| 8/8 [00:01<00:00,  6.18it/s]\n"
     ]
    },
    {
     "name": "stdout",
     "output_type": "stream",
     "text": [
      "                   all         60        270      0.991      0.996      0.992      0.884      0.991      0.996      0.992      0.782\n",
      "\n",
      "      Epoch    GPU_mem   box_loss   seg_loss   cls_loss   dfl_loss  Instances       Size\n"
     ]
    },
    {
     "name": "stderr",
     "output_type": "stream",
     "text": [
      "    131/300      19.8G     0.4429     0.5058      0.258     0.8187         55       1280: 100%|██████████| 10/10 [00:03<00:00,  2.92it/s]\n",
      "                 Class     Images  Instances      Box(P          R      mAP50  mAP50-95)     Mask(P          R      mAP50  mAP50-95): 100%|██████████| 8/8 [00:01<00:00,  6.54it/s]\n"
     ]
    },
    {
     "name": "stdout",
     "output_type": "stream",
     "text": [
      "                   all         60        270      0.993          1      0.991      0.904      0.993          1      0.991      0.777\n",
      "\n",
      "      Epoch    GPU_mem   box_loss   seg_loss   cls_loss   dfl_loss  Instances       Size\n"
     ]
    },
    {
     "name": "stderr",
     "output_type": "stream",
     "text": [
      "    132/300      19.5G     0.4928     0.5904     0.2713     0.8366         47       1280: 100%|██████████| 10/10 [00:03<00:00,  2.89it/s]\n",
      "                 Class     Images  Instances      Box(P          R      mAP50  mAP50-95)     Mask(P          R      mAP50  mAP50-95): 100%|██████████| 8/8 [00:01<00:00,  6.55it/s]\n"
     ]
    },
    {
     "name": "stdout",
     "output_type": "stream",
     "text": [
      "                   all         60        270      0.993          1      0.988      0.898      0.993          1      0.988      0.787\n",
      "\n",
      "      Epoch    GPU_mem   box_loss   seg_loss   cls_loss   dfl_loss  Instances       Size\n"
     ]
    },
    {
     "name": "stderr",
     "output_type": "stream",
     "text": [
      "    133/300      19.9G     0.4712     0.6015     0.2776     0.8268         29       1280: 100%|██████████| 10/10 [00:03<00:00,  2.89it/s]\n",
      "                 Class     Images  Instances      Box(P          R      mAP50  mAP50-95)     Mask(P          R      mAP50  mAP50-95): 100%|██████████| 8/8 [00:01<00:00,  6.56it/s]\n"
     ]
    },
    {
     "name": "stdout",
     "output_type": "stream",
     "text": [
      "                   all         60        270      0.993          1      0.989      0.897      0.993          1      0.989      0.768\n",
      "\n",
      "      Epoch    GPU_mem   box_loss   seg_loss   cls_loss   dfl_loss  Instances       Size\n"
     ]
    },
    {
     "name": "stderr",
     "output_type": "stream",
     "text": [
      "    134/300      19.6G     0.4793     0.5652     0.2781     0.8232         60       1280: 100%|██████████| 10/10 [00:03<00:00,  2.89it/s]\n",
      "                 Class     Images  Instances      Box(P          R      mAP50  mAP50-95)     Mask(P          R      mAP50  mAP50-95): 100%|██████████| 8/8 [00:01<00:00,  6.55it/s]\n"
     ]
    },
    {
     "name": "stdout",
     "output_type": "stream",
     "text": [
      "                   all         60        270      0.993          1      0.988      0.918      0.993          1      0.988      0.765\n",
      "\n",
      "      Epoch    GPU_mem   box_loss   seg_loss   cls_loss   dfl_loss  Instances       Size\n"
     ]
    },
    {
     "name": "stderr",
     "output_type": "stream",
     "text": [
      "    135/300      19.9G     0.4788     0.5748     0.2653     0.8467         39       1280:  20%|██        | 2/10 [00:00<00:02,  2.81it/s]/home/spuser/.conda/envs/yanpan/lib/python3.11/site-packages/ultralytics/data/augment.py:1143: RuntimeWarning: divide by zero encountered in divide\n",
      "  xy = xy[:, :2] / xy[:, 2:3]\n",
      "    135/300      19.9G     0.4807     0.5905     0.2722     0.8343         56       1280: 100%|██████████| 10/10 [00:03<00:00,  2.92it/s]\n",
      "                 Class     Images  Instances      Box(P          R      mAP50  mAP50-95)     Mask(P          R      mAP50  mAP50-95): 100%|██████████| 8/8 [00:01<00:00,  6.57it/s]\n"
     ]
    },
    {
     "name": "stdout",
     "output_type": "stream",
     "text": [
      "                   all         60        270      0.992          1      0.989      0.882      0.992          1      0.989      0.777\n",
      "\n",
      "      Epoch    GPU_mem   box_loss   seg_loss   cls_loss   dfl_loss  Instances       Size\n"
     ]
    },
    {
     "name": "stderr",
     "output_type": "stream",
     "text": [
      "    136/300      19.5G     0.4632     0.5329     0.2652     0.8156         51       1280: 100%|██████████| 10/10 [00:03<00:00,  2.90it/s]\n",
      "                 Class     Images  Instances      Box(P          R      mAP50  mAP50-95)     Mask(P          R      mAP50  mAP50-95): 100%|██████████| 8/8 [00:01<00:00,  6.51it/s]\n"
     ]
    },
    {
     "name": "stdout",
     "output_type": "stream",
     "text": [
      "                   all         60        270      0.993      0.999      0.992      0.886      0.993      0.999      0.992      0.762\n",
      "\n",
      "      Epoch    GPU_mem   box_loss   seg_loss   cls_loss   dfl_loss  Instances       Size\n"
     ]
    },
    {
     "name": "stderr",
     "output_type": "stream",
     "text": [
      "    137/300      20.2G     0.4795     0.6163      0.267     0.8314         53       1280: 100%|██████████| 10/10 [00:03<00:00,  2.94it/s]\n",
      "                 Class     Images  Instances      Box(P          R      mAP50  mAP50-95)     Mask(P          R      mAP50  mAP50-95): 100%|██████████| 8/8 [00:01<00:00,  6.25it/s]\n"
     ]
    },
    {
     "name": "stdout",
     "output_type": "stream",
     "text": [
      "                   all         60        270      0.993          1      0.992      0.869      0.993          1      0.992      0.753\n",
      "\n",
      "      Epoch    GPU_mem   box_loss   seg_loss   cls_loss   dfl_loss  Instances       Size\n"
     ]
    },
    {
     "name": "stderr",
     "output_type": "stream",
     "text": [
      "    138/300      19.5G     0.4658     0.5486     0.2659     0.8037         49       1280: 100%|██████████| 10/10 [00:03<00:00,  2.89it/s]\n",
      "                 Class     Images  Instances      Box(P          R      mAP50  mAP50-95)     Mask(P          R      mAP50  mAP50-95): 100%|██████████| 8/8 [00:01<00:00,  6.40it/s]\n"
     ]
    },
    {
     "name": "stdout",
     "output_type": "stream",
     "text": [
      "                   all         60        270      0.993      0.999      0.993      0.904      0.993      0.999      0.993      0.763\n",
      "\n",
      "      Epoch    GPU_mem   box_loss   seg_loss   cls_loss   dfl_loss  Instances       Size\n"
     ]
    },
    {
     "name": "stderr",
     "output_type": "stream",
     "text": [
      "    139/300      20.1G     0.4713     0.5775     0.2656     0.8205         45       1280: 100%|██████████| 10/10 [00:03<00:00,  2.93it/s]\n",
      "                 Class     Images  Instances      Box(P          R      mAP50  mAP50-95)     Mask(P          R      mAP50  mAP50-95): 100%|██████████| 8/8 [00:01<00:00,  6.58it/s]\n"
     ]
    },
    {
     "name": "stdout",
     "output_type": "stream",
     "text": [
      "                   all         60        270      0.993          1      0.993      0.904      0.993          1      0.993      0.765\n",
      "\n",
      "      Epoch    GPU_mem   box_loss   seg_loss   cls_loss   dfl_loss  Instances       Size\n"
     ]
    },
    {
     "name": "stderr",
     "output_type": "stream",
     "text": [
      "    140/300      19.4G      0.459     0.5281     0.2577     0.8058         43       1280: 100%|██████████| 10/10 [00:03<00:00,  2.91it/s]\n",
      "                 Class     Images  Instances      Box(P          R      mAP50  mAP50-95)     Mask(P          R      mAP50  mAP50-95): 100%|██████████| 8/8 [00:01<00:00,  6.57it/s]\n"
     ]
    },
    {
     "name": "stdout",
     "output_type": "stream",
     "text": [
      "                   all         60        270      0.992          1      0.992      0.913      0.992          1      0.992      0.784\n",
      "\n",
      "      Epoch    GPU_mem   box_loss   seg_loss   cls_loss   dfl_loss  Instances       Size\n"
     ]
    },
    {
     "name": "stderr",
     "output_type": "stream",
     "text": [
      "    141/300        20G      0.458     0.5013     0.2594     0.8205         45       1280: 100%|██████████| 10/10 [00:03<00:00,  2.91it/s]\n",
      "                 Class     Images  Instances      Box(P          R      mAP50  mAP50-95)     Mask(P          R      mAP50  mAP50-95): 100%|██████████| 8/8 [00:01<00:00,  6.46it/s]\n"
     ]
    },
    {
     "name": "stdout",
     "output_type": "stream",
     "text": [
      "                   all         60        270      0.992          1      0.992      0.907      0.992          1      0.992      0.788\n",
      "\n",
      "      Epoch    GPU_mem   box_loss   seg_loss   cls_loss   dfl_loss  Instances       Size\n"
     ]
    },
    {
     "name": "stderr",
     "output_type": "stream",
     "text": [
      "    142/300      19.8G     0.4463     0.5266     0.2571     0.8256         30       1280: 100%|██████████| 10/10 [00:03<00:00,  2.92it/s]\n",
      "                 Class     Images  Instances      Box(P          R      mAP50  mAP50-95)     Mask(P          R      mAP50  mAP50-95): 100%|██████████| 8/8 [00:01<00:00,  6.57it/s]\n"
     ]
    },
    {
     "name": "stdout",
     "output_type": "stream",
     "text": [
      "                   all         60        270      0.991          1      0.992      0.914      0.991          1      0.992      0.785\n",
      "\n",
      "      Epoch    GPU_mem   box_loss   seg_loss   cls_loss   dfl_loss  Instances       Size\n"
     ]
    },
    {
     "name": "stderr",
     "output_type": "stream",
     "text": [
      "    143/300      19.9G     0.4727     0.5464     0.2545      0.826         57       1280: 100%|██████████| 10/10 [00:03<00:00,  2.91it/s]\n",
      "                 Class     Images  Instances      Box(P          R      mAP50  mAP50-95)     Mask(P          R      mAP50  mAP50-95): 100%|██████████| 8/8 [00:01<00:00,  6.57it/s]\n"
     ]
    },
    {
     "name": "stdout",
     "output_type": "stream",
     "text": [
      "                   all         60        270      0.992          1      0.993      0.922      0.992          1      0.993       0.79\n",
      "\n",
      "      Epoch    GPU_mem   box_loss   seg_loss   cls_loss   dfl_loss  Instances       Size\n"
     ]
    },
    {
     "name": "stderr",
     "output_type": "stream",
     "text": [
      "    144/300      19.5G     0.4679     0.5486     0.2643      0.815         54       1280: 100%|██████████| 10/10 [00:03<00:00,  2.88it/s]\n",
      "                 Class     Images  Instances      Box(P          R      mAP50  mAP50-95)     Mask(P          R      mAP50  mAP50-95): 100%|██████████| 8/8 [00:01<00:00,  6.56it/s]\n"
     ]
    },
    {
     "name": "stdout",
     "output_type": "stream",
     "text": [
      "                   all         60        270      0.992          1      0.993      0.915      0.992          1      0.993      0.789\n",
      "\n",
      "      Epoch    GPU_mem   box_loss   seg_loss   cls_loss   dfl_loss  Instances       Size\n"
     ]
    },
    {
     "name": "stderr",
     "output_type": "stream",
     "text": [
      "    145/300      19.8G     0.4499     0.5466     0.2639     0.8247         46       1280: 100%|██████████| 10/10 [00:03<00:00,  2.92it/s]\n",
      "                 Class     Images  Instances      Box(P          R      mAP50  mAP50-95)     Mask(P          R      mAP50  mAP50-95): 100%|██████████| 8/8 [00:01<00:00,  6.51it/s]\n"
     ]
    },
    {
     "name": "stdout",
     "output_type": "stream",
     "text": [
      "                   all         60        270      0.992          1      0.993      0.912      0.992          1      0.993      0.785\n",
      "\n",
      "      Epoch    GPU_mem   box_loss   seg_loss   cls_loss   dfl_loss  Instances       Size\n"
     ]
    },
    {
     "name": "stderr",
     "output_type": "stream",
     "text": [
      "    146/300      19.6G     0.4768     0.5794     0.2667     0.8137         81       1280: 100%|██████████| 10/10 [00:03<00:00,  2.89it/s]\n",
      "                 Class     Images  Instances      Box(P          R      mAP50  mAP50-95)     Mask(P          R      mAP50  mAP50-95): 100%|██████████| 8/8 [00:01<00:00,  6.37it/s]\n"
     ]
    },
    {
     "name": "stdout",
     "output_type": "stream",
     "text": [
      "                   all         60        270      0.992          1      0.992      0.906      0.992          1      0.992      0.777\n",
      "\n",
      "      Epoch    GPU_mem   box_loss   seg_loss   cls_loss   dfl_loss  Instances       Size\n"
     ]
    },
    {
     "name": "stderr",
     "output_type": "stream",
     "text": [
      "    147/300      19.9G     0.4719     0.5449     0.2675     0.8285         58       1280: 100%|██████████| 10/10 [00:03<00:00,  2.92it/s]\n",
      "                 Class     Images  Instances      Box(P          R      mAP50  mAP50-95)     Mask(P          R      mAP50  mAP50-95): 100%|██████████| 8/8 [00:01<00:00,  6.46it/s]\n"
     ]
    },
    {
     "name": "stdout",
     "output_type": "stream",
     "text": [
      "                   all         60        270      0.992          1      0.993      0.898      0.992          1      0.993       0.78\n",
      "\n",
      "      Epoch    GPU_mem   box_loss   seg_loss   cls_loss   dfl_loss  Instances       Size\n"
     ]
    },
    {
     "name": "stderr",
     "output_type": "stream",
     "text": [
      "    148/300      19.7G     0.4592     0.5567     0.2559     0.8196         53       1280: 100%|██████████| 10/10 [00:03<00:00,  2.86it/s]\n",
      "                 Class     Images  Instances      Box(P          R      mAP50  mAP50-95)     Mask(P          R      mAP50  mAP50-95): 100%|██████████| 8/8 [00:01<00:00,  6.55it/s]\n"
     ]
    },
    {
     "name": "stdout",
     "output_type": "stream",
     "text": [
      "                   all         60        270      0.991          1      0.992      0.899      0.991          1      0.992       0.77\n",
      "\n",
      "      Epoch    GPU_mem   box_loss   seg_loss   cls_loss   dfl_loss  Instances       Size\n"
     ]
    },
    {
     "name": "stderr",
     "output_type": "stream",
     "text": [
      "    149/300      20.1G     0.4661     0.5333     0.2574     0.8099         62       1280: 100%|██████████| 10/10 [00:03<00:00,  2.92it/s]\n",
      "                 Class     Images  Instances      Box(P          R      mAP50  mAP50-95)     Mask(P          R      mAP50  mAP50-95): 100%|██████████| 8/8 [00:01<00:00,  6.41it/s]\n"
     ]
    },
    {
     "name": "stdout",
     "output_type": "stream",
     "text": [
      "                   all         60        270      0.993      0.999       0.99      0.885      0.993      0.999       0.99      0.772\n",
      "\n",
      "      Epoch    GPU_mem   box_loss   seg_loss   cls_loss   dfl_loss  Instances       Size\n"
     ]
    },
    {
     "name": "stderr",
     "output_type": "stream",
     "text": [
      "    150/300      19.8G     0.4654     0.5835     0.2648     0.8208         57       1280: 100%|██████████| 10/10 [00:03<00:00,  2.89it/s]\n",
      "                 Class     Images  Instances      Box(P          R      mAP50  mAP50-95)     Mask(P          R      mAP50  mAP50-95): 100%|██████████| 8/8 [00:01<00:00,  6.57it/s]\n"
     ]
    },
    {
     "name": "stdout",
     "output_type": "stream",
     "text": [
      "                   all         60        270      0.993      0.997       0.99      0.895      0.993      0.997       0.99      0.769\n",
      "\n",
      "      Epoch    GPU_mem   box_loss   seg_loss   cls_loss   dfl_loss  Instances       Size\n"
     ]
    },
    {
     "name": "stderr",
     "output_type": "stream",
     "text": [
      "    151/300      20.3G     0.4913     0.5566     0.2861      0.823         56       1280:  50%|█████     | 5/10 [00:01<00:01,  2.88it/s]/home/spuser/.conda/envs/yanpan/lib/python3.11/site-packages/ultralytics/data/augment.py:1143: RuntimeWarning: divide by zero encountered in divide\n",
      "  xy = xy[:, :2] / xy[:, 2:3]\n",
      "    151/300      20.3G     0.4658     0.5438     0.2699     0.8285         42       1280: 100%|██████████| 10/10 [00:03<00:00,  2.90it/s]\n",
      "                 Class     Images  Instances      Box(P          R      mAP50  mAP50-95)     Mask(P          R      mAP50  mAP50-95): 100%|██████████| 8/8 [00:01<00:00,  6.58it/s]\n"
     ]
    },
    {
     "name": "stdout",
     "output_type": "stream",
     "text": [
      "                   all         60        270      0.993      0.995       0.99      0.889      0.993      0.995       0.99      0.779\n",
      "\n",
      "      Epoch    GPU_mem   box_loss   seg_loss   cls_loss   dfl_loss  Instances       Size\n"
     ]
    },
    {
     "name": "stderr",
     "output_type": "stream",
     "text": [
      "    152/300      19.5G     0.4606     0.5353     0.2648     0.8233         58       1280: 100%|██████████| 10/10 [00:03<00:00,  2.90it/s]\n",
      "                 Class     Images  Instances      Box(P          R      mAP50  mAP50-95)     Mask(P          R      mAP50  mAP50-95): 100%|██████████| 8/8 [00:01<00:00,  6.53it/s]\n"
     ]
    },
    {
     "name": "stdout",
     "output_type": "stream",
     "text": [
      "                   all         60        270      0.993      0.999      0.991      0.918      0.993      0.999      0.991      0.771\n",
      "\n",
      "      Epoch    GPU_mem   box_loss   seg_loss   cls_loss   dfl_loss  Instances       Size\n"
     ]
    },
    {
     "name": "stderr",
     "output_type": "stream",
     "text": [
      "    153/300      19.9G     0.4543     0.5325      0.252      0.808         39       1280: 100%|██████████| 10/10 [00:03<00:00,  2.95it/s]\n",
      "                 Class     Images  Instances      Box(P          R      mAP50  mAP50-95)     Mask(P          R      mAP50  mAP50-95): 100%|██████████| 8/8 [00:01<00:00,  6.57it/s]\n"
     ]
    },
    {
     "name": "stdout",
     "output_type": "stream",
     "text": [
      "                   all         60        270      0.992      0.996      0.991      0.931      0.992      0.996      0.991      0.775\n",
      "\n",
      "      Epoch    GPU_mem   box_loss   seg_loss   cls_loss   dfl_loss  Instances       Size\n"
     ]
    },
    {
     "name": "stderr",
     "output_type": "stream",
     "text": [
      "    154/300      19.4G     0.4553     0.5614      0.259       0.83         71       1280: 100%|██████████| 10/10 [00:03<00:00,  2.91it/s]\n",
      "                 Class     Images  Instances      Box(P          R      mAP50  mAP50-95)     Mask(P          R      mAP50  mAP50-95): 100%|██████████| 8/8 [00:01<00:00,  6.39it/s]\n"
     ]
    },
    {
     "name": "stdout",
     "output_type": "stream",
     "text": [
      "                   all         60        270      0.993          1      0.993      0.922      0.993          1      0.993      0.787\n",
      "\n",
      "      Epoch    GPU_mem   box_loss   seg_loss   cls_loss   dfl_loss  Instances       Size\n"
     ]
    },
    {
     "name": "stderr",
     "output_type": "stream",
     "text": [
      "    155/300      20.1G     0.4756     0.5351     0.2644     0.8158         52       1280: 100%|██████████| 10/10 [00:03<00:00,  2.95it/s]\n",
      "                 Class     Images  Instances      Box(P          R      mAP50  mAP50-95)     Mask(P          R      mAP50  mAP50-95): 100%|██████████| 8/8 [00:01<00:00,  6.35it/s]\n"
     ]
    },
    {
     "name": "stdout",
     "output_type": "stream",
     "text": [
      "                   all         60        270      0.993      0.999      0.993      0.919      0.993      0.999      0.993       0.76\n",
      "\n",
      "      Epoch    GPU_mem   box_loss   seg_loss   cls_loss   dfl_loss  Instances       Size\n"
     ]
    },
    {
     "name": "stderr",
     "output_type": "stream",
     "text": [
      "    156/300      19.4G     0.4394     0.5032      0.256     0.8216         38       1280: 100%|██████████| 10/10 [00:03<00:00,  2.90it/s]\n",
      "                 Class     Images  Instances      Box(P          R      mAP50  mAP50-95)     Mask(P          R      mAP50  mAP50-95): 100%|██████████| 8/8 [00:01<00:00,  6.54it/s]\n"
     ]
    },
    {
     "name": "stdout",
     "output_type": "stream",
     "text": [
      "                   all         60        270      0.993          1      0.992      0.907      0.993          1      0.992      0.774\n",
      "\n",
      "      Epoch    GPU_mem   box_loss   seg_loss   cls_loss   dfl_loss  Instances       Size\n"
     ]
    },
    {
     "name": "stderr",
     "output_type": "stream",
     "text": [
      "    157/300      19.9G     0.4734     0.5572     0.2687     0.8189         62       1280: 100%|██████████| 10/10 [00:03<00:00,  2.90it/s]\n",
      "                 Class     Images  Instances      Box(P          R      mAP50  mAP50-95)     Mask(P          R      mAP50  mAP50-95): 100%|██████████| 8/8 [00:01<00:00,  6.55it/s]\n"
     ]
    },
    {
     "name": "stdout",
     "output_type": "stream",
     "text": [
      "                   all         60        270      0.993          1      0.993      0.925      0.993          1      0.993      0.778\n",
      "\n",
      "      Epoch    GPU_mem   box_loss   seg_loss   cls_loss   dfl_loss  Instances       Size\n"
     ]
    },
    {
     "name": "stderr",
     "output_type": "stream",
     "text": [
      "    158/300      19.5G     0.4728     0.5815     0.2681     0.8149         76       1280: 100%|██████████| 10/10 [00:03<00:00,  2.92it/s]\n",
      "                 Class     Images  Instances      Box(P          R      mAP50  mAP50-95)     Mask(P          R      mAP50  mAP50-95): 100%|██████████| 8/8 [00:01<00:00,  6.57it/s]\n"
     ]
    },
    {
     "name": "stdout",
     "output_type": "stream",
     "text": [
      "                   all         60        270      0.993          1      0.994      0.909      0.993          1      0.994      0.781\n",
      "\n",
      "      Epoch    GPU_mem   box_loss   seg_loss   cls_loss   dfl_loss  Instances       Size\n"
     ]
    },
    {
     "name": "stderr",
     "output_type": "stream",
     "text": [
      "    159/300        20G     0.4379     0.5395     0.2461     0.8213         63       1280: 100%|██████████| 10/10 [00:03<00:00,  2.89it/s]\n",
      "                 Class     Images  Instances      Box(P          R      mAP50  mAP50-95)     Mask(P          R      mAP50  mAP50-95): 100%|██████████| 8/8 [00:01<00:00,  6.53it/s]\n"
     ]
    },
    {
     "name": "stdout",
     "output_type": "stream",
     "text": [
      "                   all         60        270      0.993          1      0.994      0.916      0.993          1      0.994      0.783\n",
      "\n",
      "      Epoch    GPU_mem   box_loss   seg_loss   cls_loss   dfl_loss  Instances       Size\n"
     ]
    },
    {
     "name": "stderr",
     "output_type": "stream",
     "text": [
      "    160/300      19.5G     0.4415     0.5223      0.247     0.8147         73       1280: 100%|██████████| 10/10 [00:03<00:00,  2.88it/s]\n",
      "                 Class     Images  Instances      Box(P          R      mAP50  mAP50-95)     Mask(P          R      mAP50  mAP50-95): 100%|██████████| 8/8 [00:01<00:00,  6.55it/s]\n"
     ]
    },
    {
     "name": "stdout",
     "output_type": "stream",
     "text": [
      "                   all         60        270      0.993          1      0.993      0.918      0.993          1      0.993      0.774\n",
      "\n",
      "      Epoch    GPU_mem   box_loss   seg_loss   cls_loss   dfl_loss  Instances       Size\n"
     ]
    },
    {
     "name": "stderr",
     "output_type": "stream",
     "text": [
      "    161/300        20G     0.4898     0.5713     0.2706     0.8363         65       1280: 100%|██████████| 10/10 [00:03<00:00,  2.93it/s]\n",
      "                 Class     Images  Instances      Box(P          R      mAP50  mAP50-95)     Mask(P          R      mAP50  mAP50-95): 100%|██████████| 8/8 [00:01<00:00,  6.46it/s]\n"
     ]
    },
    {
     "name": "stdout",
     "output_type": "stream",
     "text": [
      "                   all         60        270      0.993          1      0.992      0.913      0.993          1      0.992      0.784\n",
      "\n",
      "      Epoch    GPU_mem   box_loss   seg_loss   cls_loss   dfl_loss  Instances       Size\n"
     ]
    },
    {
     "name": "stderr",
     "output_type": "stream",
     "text": [
      "    162/300      19.6G      0.441      0.519     0.2496      0.848         58       1280: 100%|██████████| 10/10 [00:03<00:00,  2.90it/s]\n",
      "                 Class     Images  Instances      Box(P          R      mAP50  mAP50-95)     Mask(P          R      mAP50  mAP50-95): 100%|██████████| 8/8 [00:01<00:00,  6.49it/s]\n"
     ]
    },
    {
     "name": "stdout",
     "output_type": "stream",
     "text": [
      "                   all         60        270      0.993      0.999      0.992      0.908      0.993      0.999      0.992      0.778\n",
      "\n",
      "      Epoch    GPU_mem   box_loss   seg_loss   cls_loss   dfl_loss  Instances       Size\n"
     ]
    },
    {
     "name": "stderr",
     "output_type": "stream",
     "text": [
      "    163/300      20.5G     0.4652     0.5858     0.2545     0.8269         37       1280: 100%|██████████| 10/10 [00:03<00:00,  2.95it/s]\n",
      "                 Class     Images  Instances      Box(P          R      mAP50  mAP50-95)     Mask(P          R      mAP50  mAP50-95): 100%|██████████| 8/8 [00:01<00:00,  6.33it/s]\n"
     ]
    },
    {
     "name": "stdout",
     "output_type": "stream",
     "text": [
      "                   all         60        270      0.993          1      0.993       0.92      0.993          1      0.993      0.772\n",
      "\n",
      "      Epoch    GPU_mem   box_loss   seg_loss   cls_loss   dfl_loss  Instances       Size\n"
     ]
    },
    {
     "name": "stderr",
     "output_type": "stream",
     "text": [
      "    164/300      19.7G     0.4753     0.6027     0.2615     0.8225         68       1280:  90%|█████████ | 9/10 [00:03<00:00,  2.94it/s]/home/spuser/.conda/envs/yanpan/lib/python3.11/site-packages/ultralytics/data/augment.py:1143: RuntimeWarning: divide by zero encountered in divide\n",
      "  xy = xy[:, :2] / xy[:, 2:3]\n",
      "    164/300      19.8G     0.4678     0.5903     0.2607     0.8201         58       1280: 100%|██████████| 10/10 [00:03<00:00,  2.89it/s]\n",
      "                 Class     Images  Instances      Box(P          R      mAP50  mAP50-95)     Mask(P          R      mAP50  mAP50-95): 100%|██████████| 8/8 [00:01<00:00,  6.53it/s]\n"
     ]
    },
    {
     "name": "stdout",
     "output_type": "stream",
     "text": [
      "                   all         60        270      0.992          1      0.993      0.921      0.992          1      0.993      0.781\n",
      "\n",
      "      Epoch    GPU_mem   box_loss   seg_loss   cls_loss   dfl_loss  Instances       Size\n"
     ]
    },
    {
     "name": "stderr",
     "output_type": "stream",
     "text": [
      "    165/300      20.3G       0.41     0.4763     0.2402     0.8089         61       1280: 100%|██████████| 10/10 [00:03<00:00,  2.91it/s]\n",
      "                 Class     Images  Instances      Box(P          R      mAP50  mAP50-95)     Mask(P          R      mAP50  mAP50-95): 100%|██████████| 8/8 [00:01<00:00,  6.53it/s]\n"
     ]
    },
    {
     "name": "stdout",
     "output_type": "stream",
     "text": [
      "                   all         60        270      0.993          1      0.991      0.911      0.993          1      0.991      0.773\n",
      "\n",
      "      Epoch    GPU_mem   box_loss   seg_loss   cls_loss   dfl_loss  Instances       Size\n"
     ]
    },
    {
     "name": "stderr",
     "output_type": "stream",
     "text": [
      "    166/300      19.5G     0.4502     0.5128     0.2596     0.8287         80       1280: 100%|██████████| 10/10 [00:03<00:00,  2.87it/s]\n",
      "                 Class     Images  Instances      Box(P          R      mAP50  mAP50-95)     Mask(P          R      mAP50  mAP50-95): 100%|██████████| 8/8 [00:01<00:00,  6.55it/s]\n"
     ]
    },
    {
     "name": "stdout",
     "output_type": "stream",
     "text": [
      "                   all         60        270      0.993          1       0.99      0.914      0.993          1       0.99      0.771\n",
      "\n",
      "      Epoch    GPU_mem   box_loss   seg_loss   cls_loss   dfl_loss  Instances       Size\n"
     ]
    },
    {
     "name": "stderr",
     "output_type": "stream",
     "text": [
      "    167/300      20.1G     0.4448     0.5422      0.254     0.8097         27       1280: 100%|██████████| 10/10 [00:03<00:00,  2.91it/s]\n",
      "                 Class     Images  Instances      Box(P          R      mAP50  mAP50-95)     Mask(P          R      mAP50  mAP50-95): 100%|██████████| 8/8 [00:01<00:00,  6.56it/s]\n"
     ]
    },
    {
     "name": "stdout",
     "output_type": "stream",
     "text": [
      "                   all         60        270      0.993          1       0.99      0.905      0.993          1       0.99      0.759\n",
      "\n",
      "      Epoch    GPU_mem   box_loss   seg_loss   cls_loss   dfl_loss  Instances       Size\n"
     ]
    },
    {
     "name": "stderr",
     "output_type": "stream",
     "text": [
      "    168/300      19.3G     0.4621     0.5601     0.2583      0.825         35       1280: 100%|██████████| 10/10 [00:03<00:00,  2.87it/s]\n",
      "                 Class     Images  Instances      Box(P          R      mAP50  mAP50-95)     Mask(P          R      mAP50  mAP50-95): 100%|██████████| 8/8 [00:01<00:00,  6.56it/s]\n"
     ]
    },
    {
     "name": "stdout",
     "output_type": "stream",
     "text": [
      "                   all         60        270      0.992          1      0.993      0.925      0.992          1      0.993      0.778\n",
      "\n",
      "      Epoch    GPU_mem   box_loss   seg_loss   cls_loss   dfl_loss  Instances       Size\n"
     ]
    },
    {
     "name": "stderr",
     "output_type": "stream",
     "text": [
      "    169/300      19.9G     0.4669     0.5356     0.2575     0.8304         28       1280: 100%|██████████| 10/10 [00:03<00:00,  2.93it/s]\n",
      "                 Class     Images  Instances      Box(P          R      mAP50  mAP50-95)     Mask(P          R      mAP50  mAP50-95): 100%|██████████| 8/8 [00:01<00:00,  6.56it/s]\n"
     ]
    },
    {
     "name": "stdout",
     "output_type": "stream",
     "text": [
      "                   all         60        270      0.992          1      0.992      0.918      0.992          1      0.992      0.784\n",
      "\n",
      "      Epoch    GPU_mem   box_loss   seg_loss   cls_loss   dfl_loss  Instances       Size\n"
     ]
    },
    {
     "name": "stderr",
     "output_type": "stream",
     "text": [
      "    170/300      19.5G     0.4609     0.5188     0.2588     0.8244         68       1280: 100%|██████████| 10/10 [00:03<00:00,  2.92it/s]\n",
      "                 Class     Images  Instances      Box(P          R      mAP50  mAP50-95)     Mask(P          R      mAP50  mAP50-95): 100%|██████████| 8/8 [00:01<00:00,  6.47it/s]\n"
     ]
    },
    {
     "name": "stdout",
     "output_type": "stream",
     "text": [
      "                   all         60        270      0.992          1      0.991      0.919      0.992          1      0.991      0.778\n",
      "\n",
      "      Epoch    GPU_mem   box_loss   seg_loss   cls_loss   dfl_loss  Instances       Size\n"
     ]
    },
    {
     "name": "stderr",
     "output_type": "stream",
     "text": [
      "    171/300      19.9G     0.4484     0.5333     0.2424     0.8172         25       1280: 100%|██████████| 10/10 [00:03<00:00,  2.95it/s]\n",
      "                 Class     Images  Instances      Box(P          R      mAP50  mAP50-95)     Mask(P          R      mAP50  mAP50-95): 100%|██████████| 8/8 [00:01<00:00,  6.40it/s]\n"
     ]
    },
    {
     "name": "stdout",
     "output_type": "stream",
     "text": [
      "                   all         60        270      0.993          1      0.991      0.914      0.993          1      0.991      0.771\n",
      "\n",
      "      Epoch    GPU_mem   box_loss   seg_loss   cls_loss   dfl_loss  Instances       Size\n"
     ]
    },
    {
     "name": "stderr",
     "output_type": "stream",
     "text": [
      "    172/300      19.8G     0.4503     0.5226     0.2566     0.8183         43       1280: 100%|██████████| 10/10 [00:03<00:00,  2.90it/s]\n",
      "                 Class     Images  Instances      Box(P          R      mAP50  mAP50-95)     Mask(P          R      mAP50  mAP50-95): 100%|██████████| 8/8 [00:01<00:00,  6.41it/s]\n"
     ]
    },
    {
     "name": "stdout",
     "output_type": "stream",
     "text": [
      "                   all         60        270      0.992          1      0.993      0.928      0.992          1      0.993      0.781\n",
      "\n",
      "      Epoch    GPU_mem   box_loss   seg_loss   cls_loss   dfl_loss  Instances       Size\n"
     ]
    },
    {
     "name": "stderr",
     "output_type": "stream",
     "text": [
      "    173/300      20.3G     0.4967     0.5809     0.2636     0.8229         62       1280: 100%|██████████| 10/10 [00:03<00:00,  2.93it/s]\n",
      "                 Class     Images  Instances      Box(P          R      mAP50  mAP50-95)     Mask(P          R      mAP50  mAP50-95): 100%|██████████| 8/8 [00:01<00:00,  6.56it/s]\n"
     ]
    },
    {
     "name": "stdout",
     "output_type": "stream",
     "text": [
      "                   all         60        270      0.993          1      0.993      0.926      0.993          1      0.993      0.783\n",
      "\n",
      "      Epoch    GPU_mem   box_loss   seg_loss   cls_loss   dfl_loss  Instances       Size\n"
     ]
    },
    {
     "name": "stderr",
     "output_type": "stream",
     "text": [
      "    174/300      19.7G     0.4466     0.5436     0.2505     0.8108         35       1280: 100%|██████████| 10/10 [00:03<00:00,  2.94it/s]\n",
      "                 Class     Images  Instances      Box(P          R      mAP50  mAP50-95)     Mask(P          R      mAP50  mAP50-95): 100%|██████████| 8/8 [00:01<00:00,  6.57it/s]\n"
     ]
    },
    {
     "name": "stdout",
     "output_type": "stream",
     "text": [
      "                   all         60        270      0.992          1      0.993      0.924      0.992          1      0.993       0.79\n",
      "\n",
      "      Epoch    GPU_mem   box_loss   seg_loss   cls_loss   dfl_loss  Instances       Size\n"
     ]
    },
    {
     "name": "stderr",
     "output_type": "stream",
     "text": [
      "    175/300      19.7G     0.4275     0.5761     0.2403     0.8131         49       1280: 100%|██████████| 10/10 [00:03<00:00,  2.93it/s]\n",
      "                 Class     Images  Instances      Box(P          R      mAP50  mAP50-95)     Mask(P          R      mAP50  mAP50-95): 100%|██████████| 8/8 [00:01<00:00,  6.56it/s]\n"
     ]
    },
    {
     "name": "stdout",
     "output_type": "stream",
     "text": [
      "                   all         60        270      0.992          1      0.992      0.926      0.992          1      0.992      0.788\n",
      "\n",
      "      Epoch    GPU_mem   box_loss   seg_loss   cls_loss   dfl_loss  Instances       Size\n"
     ]
    },
    {
     "name": "stderr",
     "output_type": "stream",
     "text": [
      "    176/300      19.5G     0.4238     0.5031     0.2457     0.8123         65       1280: 100%|██████████| 10/10 [00:03<00:00,  2.91it/s]\n",
      "                 Class     Images  Instances      Box(P          R      mAP50  mAP50-95)     Mask(P          R      mAP50  mAP50-95): 100%|██████████| 8/8 [00:01<00:00,  6.56it/s]\n"
     ]
    },
    {
     "name": "stdout",
     "output_type": "stream",
     "text": [
      "                   all         60        270      0.992          1      0.993      0.927      0.992          1      0.993       0.79\n",
      "\n",
      "      Epoch    GPU_mem   box_loss   seg_loss   cls_loss   dfl_loss  Instances       Size\n"
     ]
    },
    {
     "name": "stderr",
     "output_type": "stream",
     "text": [
      "    177/300      19.8G     0.4576     0.5525     0.2548     0.8232         52       1280: 100%|██████████| 10/10 [00:03<00:00,  2.95it/s]\n",
      "                 Class     Images  Instances      Box(P          R      mAP50  mAP50-95)     Mask(P          R      mAP50  mAP50-95): 100%|██████████| 8/8 [00:01<00:00,  6.57it/s]\n"
     ]
    },
    {
     "name": "stdout",
     "output_type": "stream",
     "text": [
      "                   all         60        270      0.992          1      0.993      0.916      0.992          1      0.993       0.79\n",
      "\n",
      "      Epoch    GPU_mem   box_loss   seg_loss   cls_loss   dfl_loss  Instances       Size\n"
     ]
    },
    {
     "name": "stderr",
     "output_type": "stream",
     "text": [
      "    178/300        20G     0.4467     0.5312     0.2522     0.8035         48       1280: 100%|██████████| 10/10 [00:03<00:00,  2.88it/s]\n",
      "                 Class     Images  Instances      Box(P          R      mAP50  mAP50-95)     Mask(P          R      mAP50  mAP50-95): 100%|██████████| 8/8 [00:01<00:00,  6.56it/s]\n"
     ]
    },
    {
     "name": "stdout",
     "output_type": "stream",
     "text": [
      "                   all         60        270      0.992          1      0.994      0.932      0.992          1      0.994      0.785\n",
      "\n",
      "      Epoch    GPU_mem   box_loss   seg_loss   cls_loss   dfl_loss  Instances       Size\n"
     ]
    },
    {
     "name": "stderr",
     "output_type": "stream",
     "text": [
      "    179/300      19.7G     0.4593     0.5304     0.2624     0.8126         34       1280: 100%|██████████| 10/10 [00:03<00:00,  2.95it/s]\n",
      "                 Class     Images  Instances      Box(P          R      mAP50  mAP50-95)     Mask(P          R      mAP50  mAP50-95): 100%|██████████| 8/8 [00:01<00:00,  6.48it/s]\n"
     ]
    },
    {
     "name": "stdout",
     "output_type": "stream",
     "text": [
      "                   all         60        270      0.993          1      0.994      0.931      0.993          1      0.994      0.791\n",
      "\n",
      "      Epoch    GPU_mem   box_loss   seg_loss   cls_loss   dfl_loss  Instances       Size\n"
     ]
    },
    {
     "name": "stderr",
     "output_type": "stream",
     "text": [
      "    180/300      19.5G     0.4669      0.562     0.2652     0.8238         30       1280: 100%|██████████| 10/10 [00:03<00:00,  2.90it/s]\n",
      "                 Class     Images  Instances      Box(P          R      mAP50  mAP50-95)     Mask(P          R      mAP50  mAP50-95): 100%|██████████| 8/8 [00:01<00:00,  6.22it/s]\n"
     ]
    },
    {
     "name": "stdout",
     "output_type": "stream",
     "text": [
      "                   all         60        270      0.993          1      0.994      0.922      0.993          1      0.994      0.778\n",
      "\n",
      "      Epoch    GPU_mem   box_loss   seg_loss   cls_loss   dfl_loss  Instances       Size\n"
     ]
    },
    {
     "name": "stderr",
     "output_type": "stream",
     "text": [
      "    181/300      19.8G     0.4456     0.5382     0.2481     0.8194         36       1280: 100%|██████████| 10/10 [00:03<00:00,  2.90it/s]\n",
      "                 Class     Images  Instances      Box(P          R      mAP50  mAP50-95)     Mask(P          R      mAP50  mAP50-95): 100%|██████████| 8/8 [00:01<00:00,  6.56it/s]\n"
     ]
    },
    {
     "name": "stdout",
     "output_type": "stream",
     "text": [
      "                   all         60        270      0.992          1      0.993       0.92      0.992          1      0.993      0.784\n",
      "\n",
      "      Epoch    GPU_mem   box_loss   seg_loss   cls_loss   dfl_loss  Instances       Size\n"
     ]
    },
    {
     "name": "stderr",
     "output_type": "stream",
     "text": [
      "    182/300      19.9G     0.4318     0.5025     0.2414      0.815         74       1280: 100%|██████████| 10/10 [00:03<00:00,  2.90it/s]\n",
      "                 Class     Images  Instances      Box(P          R      mAP50  mAP50-95)     Mask(P          R      mAP50  mAP50-95): 100%|██████████| 8/8 [00:01<00:00,  6.46it/s]\n"
     ]
    },
    {
     "name": "stdout",
     "output_type": "stream",
     "text": [
      "                   all         60        270      0.992          1      0.994      0.929      0.992          1      0.994      0.786\n",
      "\n",
      "      Epoch    GPU_mem   box_loss   seg_loss   cls_loss   dfl_loss  Instances       Size\n"
     ]
    },
    {
     "name": "stderr",
     "output_type": "stream",
     "text": [
      "    183/300      19.9G     0.4355     0.5276     0.2415     0.8126         48       1280: 100%|██████████| 10/10 [00:03<00:00,  2.93it/s]\n",
      "                 Class     Images  Instances      Box(P          R      mAP50  mAP50-95)     Mask(P          R      mAP50  mAP50-95): 100%|██████████| 8/8 [00:01<00:00,  6.56it/s]\n"
     ]
    },
    {
     "name": "stdout",
     "output_type": "stream",
     "text": [
      "                   all         60        270      0.992          1      0.994      0.928      0.992          1      0.994      0.792\n",
      "\n",
      "      Epoch    GPU_mem   box_loss   seg_loss   cls_loss   dfl_loss  Instances       Size\n"
     ]
    },
    {
     "name": "stderr",
     "output_type": "stream",
     "text": [
      "    184/300      19.5G     0.4583     0.5837     0.2549      0.823         56       1280: 100%|██████████| 10/10 [00:03<00:00,  2.91it/s]\n",
      "                 Class     Images  Instances      Box(P          R      mAP50  mAP50-95)     Mask(P          R      mAP50  mAP50-95): 100%|██████████| 8/8 [00:01<00:00,  6.55it/s]\n"
     ]
    },
    {
     "name": "stdout",
     "output_type": "stream",
     "text": [
      "                   all         60        270      0.992          1      0.994      0.929      0.992          1      0.994      0.798\n",
      "\n",
      "      Epoch    GPU_mem   box_loss   seg_loss   cls_loss   dfl_loss  Instances       Size\n"
     ]
    },
    {
     "name": "stderr",
     "output_type": "stream",
     "text": [
      "    185/300      20.1G     0.4476     0.5359      0.246     0.8304         69       1280:  90%|█████████ | 9/10 [00:03<00:00,  2.84it/s]/home/spuser/.conda/envs/yanpan/lib/python3.11/site-packages/ultralytics/data/augment.py:1143: RuntimeWarning: divide by zero encountered in divide\n",
      "  xy = xy[:, :2] / xy[:, 2:3]\n",
      "    185/300      20.1G     0.4436     0.5578     0.2455     0.8245         43       1280: 100%|██████████| 10/10 [00:03<00:00,  2.90it/s]\n",
      "                 Class     Images  Instances      Box(P          R      mAP50  mAP50-95)     Mask(P          R      mAP50  mAP50-95): 100%|██████████| 8/8 [00:01<00:00,  6.52it/s]\n"
     ]
    },
    {
     "name": "stdout",
     "output_type": "stream",
     "text": [
      "                   all         60        270      0.992          1      0.994      0.928      0.992          1      0.994      0.774\n",
      "\n",
      "      Epoch    GPU_mem   box_loss   seg_loss   cls_loss   dfl_loss  Instances       Size\n"
     ]
    },
    {
     "name": "stderr",
     "output_type": "stream",
     "text": [
      "    186/300      19.6G     0.4385     0.5203     0.2463     0.8348         47       1280: 100%|██████████| 10/10 [00:03<00:00,  2.92it/s]\n",
      "                 Class     Images  Instances      Box(P          R      mAP50  mAP50-95)     Mask(P          R      mAP50  mAP50-95): 100%|██████████| 8/8 [00:01<00:00,  6.56it/s]\n"
     ]
    },
    {
     "name": "stdout",
     "output_type": "stream",
     "text": [
      "                   all         60        270      0.992          1      0.994      0.925      0.992          1      0.994       0.77\n",
      "\n",
      "      Epoch    GPU_mem   box_loss   seg_loss   cls_loss   dfl_loss  Instances       Size\n"
     ]
    },
    {
     "name": "stderr",
     "output_type": "stream",
     "text": [
      "    187/300        20G     0.4512     0.5131     0.2437     0.8082         58       1280: 100%|██████████| 10/10 [00:03<00:00,  2.92it/s]\n",
      "                 Class     Images  Instances      Box(P          R      mAP50  mAP50-95)     Mask(P          R      mAP50  mAP50-95): 100%|██████████| 8/8 [00:01<00:00,  6.48it/s]\n"
     ]
    },
    {
     "name": "stdout",
     "output_type": "stream",
     "text": [
      "                   all         60        270      0.992          1      0.994      0.927      0.992          1      0.994      0.789\n",
      "\n",
      "      Epoch    GPU_mem   box_loss   seg_loss   cls_loss   dfl_loss  Instances       Size\n"
     ]
    },
    {
     "name": "stderr",
     "output_type": "stream",
     "text": [
      "    188/300      19.4G     0.4483     0.5448     0.2455     0.8082         70       1280: 100%|██████████| 10/10 [00:03<00:00,  2.92it/s]\n",
      "                 Class     Images  Instances      Box(P          R      mAP50  mAP50-95)     Mask(P          R      mAP50  mAP50-95): 100%|██████████| 8/8 [00:01<00:00,  6.36it/s]\n"
     ]
    },
    {
     "name": "stdout",
     "output_type": "stream",
     "text": [
      "                   all         60        270      0.993          1      0.995      0.918      0.993          1      0.995      0.807\n",
      "\n",
      "      Epoch    GPU_mem   box_loss   seg_loss   cls_loss   dfl_loss  Instances       Size\n"
     ]
    },
    {
     "name": "stderr",
     "output_type": "stream",
     "text": [
      "    189/300      20.1G     0.4468     0.5365     0.2526     0.8098         39       1280: 100%|██████████| 10/10 [00:03<00:00,  2.90it/s]\n",
      "                 Class     Images  Instances      Box(P          R      mAP50  mAP50-95)     Mask(P          R      mAP50  mAP50-95): 100%|██████████| 8/8 [00:01<00:00,  6.39it/s]\n"
     ]
    },
    {
     "name": "stdout",
     "output_type": "stream",
     "text": [
      "                   all         60        270      0.993          1      0.993      0.929      0.993          1      0.993      0.787\n",
      "\n",
      "      Epoch    GPU_mem   box_loss   seg_loss   cls_loss   dfl_loss  Instances       Size\n"
     ]
    },
    {
     "name": "stderr",
     "output_type": "stream",
     "text": [
      "    190/300      19.5G     0.4511     0.5412      0.246     0.8156         63       1280: 100%|██████████| 10/10 [00:03<00:00,  2.89it/s]\n",
      "                 Class     Images  Instances      Box(P          R      mAP50  mAP50-95)     Mask(P          R      mAP50  mAP50-95): 100%|██████████| 8/8 [00:01<00:00,  6.57it/s]\n"
     ]
    },
    {
     "name": "stdout",
     "output_type": "stream",
     "text": [
      "                   all         60        270      0.993          1      0.994      0.911      0.993          1      0.994      0.797\n",
      "\n",
      "      Epoch    GPU_mem   box_loss   seg_loss   cls_loss   dfl_loss  Instances       Size\n"
     ]
    },
    {
     "name": "stderr",
     "output_type": "stream",
     "text": [
      "    191/300      20.2G     0.4516      0.533     0.2454     0.8119         75       1280: 100%|██████████| 10/10 [00:03<00:00,  2.88it/s]\n",
      "                 Class     Images  Instances      Box(P          R      mAP50  mAP50-95)     Mask(P          R      mAP50  mAP50-95): 100%|██████████| 8/8 [00:01<00:00,  6.36it/s]\n"
     ]
    },
    {
     "name": "stdout",
     "output_type": "stream",
     "text": [
      "                   all         60        270      0.993          1      0.994      0.924      0.993          1      0.994       0.79\n",
      "\n",
      "      Epoch    GPU_mem   box_loss   seg_loss   cls_loss   dfl_loss  Instances       Size\n"
     ]
    },
    {
     "name": "stderr",
     "output_type": "stream",
     "text": [
      "    192/300      19.6G     0.4209     0.4954     0.2363     0.7993         88       1280:  50%|█████     | 5/10 [00:01<00:01,  2.88it/s]/home/spuser/.conda/envs/yanpan/lib/python3.11/site-packages/ultralytics/data/augment.py:1143: RuntimeWarning: divide by zero encountered in divide\n",
      "  xy = xy[:, :2] / xy[:, 2:3]\n",
      "    192/300      19.6G     0.4132     0.4784     0.2333      0.793         50       1280: 100%|██████████| 10/10 [00:03<00:00,  2.84it/s]\n",
      "                 Class     Images  Instances      Box(P          R      mAP50  mAP50-95)     Mask(P          R      mAP50  mAP50-95): 100%|██████████| 8/8 [00:01<00:00,  6.43it/s]\n"
     ]
    },
    {
     "name": "stdout",
     "output_type": "stream",
     "text": [
      "                   all         60        270      0.992          1      0.994       0.93      0.992          1      0.994      0.787\n",
      "\n",
      "      Epoch    GPU_mem   box_loss   seg_loss   cls_loss   dfl_loss  Instances       Size\n"
     ]
    },
    {
     "name": "stderr",
     "output_type": "stream",
     "text": [
      "    193/300      20.1G     0.4378     0.5341     0.2426     0.8281         45       1280: 100%|██████████| 10/10 [00:03<00:00,  2.93it/s]\n",
      "                 Class     Images  Instances      Box(P          R      mAP50  mAP50-95)     Mask(P          R      mAP50  mAP50-95): 100%|██████████| 8/8 [00:01<00:00,  6.53it/s]\n"
     ]
    },
    {
     "name": "stdout",
     "output_type": "stream",
     "text": [
      "                   all         60        270      0.992          1      0.993      0.932      0.992          1      0.993      0.772\n",
      "\n",
      "      Epoch    GPU_mem   box_loss   seg_loss   cls_loss   dfl_loss  Instances       Size\n"
     ]
    },
    {
     "name": "stderr",
     "output_type": "stream",
     "text": [
      "    194/300      19.7G      0.442      0.529     0.2468     0.8048         71       1280: 100%|██████████| 10/10 [00:03<00:00,  2.88it/s]\n",
      "                 Class     Images  Instances      Box(P          R      mAP50  mAP50-95)     Mask(P          R      mAP50  mAP50-95): 100%|██████████| 8/8 [00:01<00:00,  6.58it/s]\n"
     ]
    },
    {
     "name": "stdout",
     "output_type": "stream",
     "text": [
      "                   all         60        270      0.992          1      0.992      0.934      0.992          1      0.992       0.79\n",
      "\n",
      "      Epoch    GPU_mem   box_loss   seg_loss   cls_loss   dfl_loss  Instances       Size\n"
     ]
    },
    {
     "name": "stderr",
     "output_type": "stream",
     "text": [
      "    195/300      20.5G     0.4051     0.4859     0.2365     0.8162         28       1280: 100%|██████████| 10/10 [00:03<00:00,  2.92it/s]\n",
      "                 Class     Images  Instances      Box(P          R      mAP50  mAP50-95)     Mask(P          R      mAP50  mAP50-95): 100%|██████████| 8/8 [00:01<00:00,  6.43it/s]\n"
     ]
    },
    {
     "name": "stdout",
     "output_type": "stream",
     "text": [
      "                   all         60        270      0.992          1      0.993      0.921      0.992          1      0.993      0.784\n",
      "\n",
      "      Epoch    GPU_mem   box_loss   seg_loss   cls_loss   dfl_loss  Instances       Size\n"
     ]
    },
    {
     "name": "stderr",
     "output_type": "stream",
     "text": [
      "    196/300      19.5G      0.427     0.5016     0.2444     0.8171         45       1280: 100%|██████████| 10/10 [00:03<00:00,  2.90it/s]\n",
      "                 Class     Images  Instances      Box(P          R      mAP50  mAP50-95)     Mask(P          R      mAP50  mAP50-95): 100%|██████████| 8/8 [00:01<00:00,  6.40it/s]\n"
     ]
    },
    {
     "name": "stdout",
     "output_type": "stream",
     "text": [
      "                   all         60        270      0.992          1      0.995      0.922      0.992          1      0.995      0.781\n",
      "\n",
      "      Epoch    GPU_mem   box_loss   seg_loss   cls_loss   dfl_loss  Instances       Size\n"
     ]
    },
    {
     "name": "stderr",
     "output_type": "stream",
     "text": [
      "    197/300      20.2G     0.4454      0.572     0.2467     0.8239         57       1280: 100%|██████████| 10/10 [00:03<00:00,  2.92it/s]\n",
      "                 Class     Images  Instances      Box(P          R      mAP50  mAP50-95)     Mask(P          R      mAP50  mAP50-95): 100%|██████████| 8/8 [00:01<00:00,  6.49it/s]\n"
     ]
    },
    {
     "name": "stdout",
     "output_type": "stream",
     "text": [
      "                   all         60        270      0.992          1      0.994      0.911      0.992          1      0.994      0.787\n",
      "\n",
      "      Epoch    GPU_mem   box_loss   seg_loss   cls_loss   dfl_loss  Instances       Size\n"
     ]
    },
    {
     "name": "stderr",
     "output_type": "stream",
     "text": [
      "    198/300      19.6G     0.4584     0.5542     0.2493     0.8273         56       1280: 100%|██████████| 10/10 [00:03<00:00,  2.89it/s]\n",
      "                 Class     Images  Instances      Box(P          R      mAP50  mAP50-95)     Mask(P          R      mAP50  mAP50-95): 100%|██████████| 8/8 [00:01<00:00,  6.54it/s]\n"
     ]
    },
    {
     "name": "stdout",
     "output_type": "stream",
     "text": [
      "                   all         60        270      0.992      0.996      0.994      0.903      0.992      0.996      0.994      0.778\n",
      "\n",
      "      Epoch    GPU_mem   box_loss   seg_loss   cls_loss   dfl_loss  Instances       Size\n"
     ]
    },
    {
     "name": "stderr",
     "output_type": "stream",
     "text": [
      "    199/300      20.2G     0.4609     0.5995     0.2577     0.8206         53       1280: 100%|██████████| 10/10 [00:03<00:00,  2.91it/s]\n",
      "                 Class     Images  Instances      Box(P          R      mAP50  mAP50-95)     Mask(P          R      mAP50  mAP50-95): 100%|██████████| 8/8 [00:01<00:00,  6.56it/s]\n"
     ]
    },
    {
     "name": "stdout",
     "output_type": "stream",
     "text": [
      "                   all         60        270      0.991      0.996      0.994      0.908      0.991      0.996      0.994      0.774\n",
      "\n",
      "      Epoch    GPU_mem   box_loss   seg_loss   cls_loss   dfl_loss  Instances       Size\n"
     ]
    },
    {
     "name": "stderr",
     "output_type": "stream",
     "text": [
      "    200/300      19.5G     0.4395     0.5648     0.2429     0.8182         52       1280: 100%|██████████| 10/10 [00:03<00:00,  2.90it/s]\n",
      "                 Class     Images  Instances      Box(P          R      mAP50  mAP50-95)     Mask(P          R      mAP50  mAP50-95): 100%|██████████| 8/8 [00:01<00:00,  6.55it/s]\n"
     ]
    },
    {
     "name": "stdout",
     "output_type": "stream",
     "text": [
      "                   all         60        270      0.993          1      0.994      0.923      0.993          1      0.994      0.786\n",
      "\n",
      "      Epoch    GPU_mem   box_loss   seg_loss   cls_loss   dfl_loss  Instances       Size\n"
     ]
    },
    {
     "name": "stderr",
     "output_type": "stream",
     "text": [
      "    201/300        20G     0.4482     0.4933      0.256     0.8153         76       1280: 100%|██████████| 10/10 [00:03<00:00,  2.89it/s]\n",
      "                 Class     Images  Instances      Box(P          R      mAP50  mAP50-95)     Mask(P          R      mAP50  mAP50-95): 100%|██████████| 8/8 [00:01<00:00,  6.52it/s]\n"
     ]
    },
    {
     "name": "stdout",
     "output_type": "stream",
     "text": [
      "                   all         60        270      0.992          1      0.994      0.917      0.992          1      0.994      0.796\n",
      "\n",
      "      Epoch    GPU_mem   box_loss   seg_loss   cls_loss   dfl_loss  Instances       Size\n"
     ]
    },
    {
     "name": "stderr",
     "output_type": "stream",
     "text": [
      "    202/300      19.7G     0.4589     0.5271     0.2486     0.8075         51       1280: 100%|██████████| 10/10 [00:03<00:00,  2.88it/s]\n",
      "                 Class     Images  Instances      Box(P          R      mAP50  mAP50-95)     Mask(P          R      mAP50  mAP50-95): 100%|██████████| 8/8 [00:01<00:00,  6.56it/s]\n"
     ]
    },
    {
     "name": "stdout",
     "output_type": "stream",
     "text": [
      "                   all         60        270      0.992          1      0.994      0.922      0.992          1      0.994      0.773\n",
      "\n",
      "      Epoch    GPU_mem   box_loss   seg_loss   cls_loss   dfl_loss  Instances       Size\n"
     ]
    },
    {
     "name": "stderr",
     "output_type": "stream",
     "text": [
      "    203/300      19.9G     0.4263     0.5061     0.2364     0.8118         54       1280: 100%|██████████| 10/10 [00:03<00:00,  2.95it/s]\n",
      "                 Class     Images  Instances      Box(P          R      mAP50  mAP50-95)     Mask(P          R      mAP50  mAP50-95): 100%|██████████| 8/8 [00:01<00:00,  6.55it/s]\n"
     ]
    },
    {
     "name": "stdout",
     "output_type": "stream",
     "text": [
      "                   all         60        270      0.992          1      0.994      0.926      0.992          1      0.994      0.788\n",
      "\n",
      "      Epoch    GPU_mem   box_loss   seg_loss   cls_loss   dfl_loss  Instances       Size\n"
     ]
    },
    {
     "name": "stderr",
     "output_type": "stream",
     "text": [
      "    204/300      19.9G     0.4297     0.4934     0.2393     0.8139         52       1280: 100%|██████████| 10/10 [00:03<00:00,  2.91it/s]\n",
      "                 Class     Images  Instances      Box(P          R      mAP50  mAP50-95)     Mask(P          R      mAP50  mAP50-95): 100%|██████████| 8/8 [00:01<00:00,  6.39it/s]\n"
     ]
    },
    {
     "name": "stdout",
     "output_type": "stream",
     "text": [
      "                   all         60        270      0.992          1      0.993      0.925      0.992          1      0.993      0.776\n",
      "\n",
      "      Epoch    GPU_mem   box_loss   seg_loss   cls_loss   dfl_loss  Instances       Size\n"
     ]
    },
    {
     "name": "stderr",
     "output_type": "stream",
     "text": [
      "    205/300      20.1G     0.4516     0.5337     0.2492     0.8305         57       1280: 100%|██████████| 10/10 [00:03<00:00,  2.95it/s]\n",
      "                 Class     Images  Instances      Box(P          R      mAP50  mAP50-95)     Mask(P          R      mAP50  mAP50-95): 100%|██████████| 8/8 [00:01<00:00,  6.42it/s]\n"
     ]
    },
    {
     "name": "stdout",
     "output_type": "stream",
     "text": [
      "                   all         60        270      0.993          1      0.993       0.93      0.993          1      0.993      0.777\n",
      "\n",
      "      Epoch    GPU_mem   box_loss   seg_loss   cls_loss   dfl_loss  Instances       Size\n"
     ]
    },
    {
     "name": "stderr",
     "output_type": "stream",
     "text": [
      "    206/300      19.8G     0.4406     0.5441     0.2484     0.8273         38       1280: 100%|██████████| 10/10 [00:03<00:00,  2.93it/s]\n",
      "                 Class     Images  Instances      Box(P          R      mAP50  mAP50-95)     Mask(P          R      mAP50  mAP50-95): 100%|██████████| 8/8 [00:01<00:00,  6.37it/s]\n"
     ]
    },
    {
     "name": "stdout",
     "output_type": "stream",
     "text": [
      "                   all         60        270      0.993          1      0.993      0.935      0.993          1      0.993      0.769\n",
      "\n",
      "      Epoch    GPU_mem   box_loss   seg_loss   cls_loss   dfl_loss  Instances       Size\n"
     ]
    },
    {
     "name": "stderr",
     "output_type": "stream",
     "text": [
      "    207/300      20.1G     0.4407     0.5261     0.2487     0.8102         37       1280: 100%|██████████| 10/10 [00:03<00:00,  2.90it/s]\n",
      "                 Class     Images  Instances      Box(P          R      mAP50  mAP50-95)     Mask(P          R      mAP50  mAP50-95): 100%|██████████| 8/8 [00:01<00:00,  6.55it/s]\n"
     ]
    },
    {
     "name": "stdout",
     "output_type": "stream",
     "text": [
      "                   all         60        270      0.988      0.944      0.984      0.905      0.988      0.944      0.984       0.76\n",
      "\n",
      "      Epoch    GPU_mem   box_loss   seg_loss   cls_loss   dfl_loss  Instances       Size\n"
     ]
    },
    {
     "name": "stderr",
     "output_type": "stream",
     "text": [
      "    208/300      19.3G     0.4497     0.5091     0.2406     0.8071         55       1280: 100%|██████████| 10/10 [00:03<00:00,  2.89it/s]\n",
      "                 Class     Images  Instances      Box(P          R      mAP50  mAP50-95)     Mask(P          R      mAP50  mAP50-95): 100%|██████████| 8/8 [00:01<00:00,  6.57it/s]\n"
     ]
    },
    {
     "name": "stdout",
     "output_type": "stream",
     "text": [
      "                   all         60        270      0.989      0.996      0.993      0.932      0.989      0.996      0.993      0.786\n",
      "\n",
      "      Epoch    GPU_mem   box_loss   seg_loss   cls_loss   dfl_loss  Instances       Size\n"
     ]
    },
    {
     "name": "stderr",
     "output_type": "stream",
     "text": [
      "    209/300        20G     0.4227     0.5219     0.2388     0.8039         69       1280: 100%|██████████| 10/10 [00:03<00:00,  2.93it/s]\n",
      "                 Class     Images  Instances      Box(P          R      mAP50  mAP50-95)     Mask(P          R      mAP50  mAP50-95): 100%|██████████| 8/8 [00:01<00:00,  6.57it/s]\n"
     ]
    },
    {
     "name": "stdout",
     "output_type": "stream",
     "text": [
      "                   all         60        270      0.964      0.896      0.945      0.839       0.96      0.892      0.923      0.708\n",
      "\n",
      "      Epoch    GPU_mem   box_loss   seg_loss   cls_loss   dfl_loss  Instances       Size\n"
     ]
    },
    {
     "name": "stderr",
     "output_type": "stream",
     "text": [
      "    210/300      19.5G     0.4438     0.5318      0.242     0.8255         35       1280: 100%|██████████| 10/10 [00:03<00:00,  2.87it/s]\n",
      "                 Class     Images  Instances      Box(P          R      mAP50  mAP50-95)     Mask(P          R      mAP50  mAP50-95): 100%|██████████| 8/8 [00:01<00:00,  6.47it/s]\n"
     ]
    },
    {
     "name": "stdout",
     "output_type": "stream",
     "text": [
      "                   all         60        270      0.987      0.838      0.885      0.813      0.987      0.838      0.885      0.674\n",
      "\n",
      "      Epoch    GPU_mem   box_loss   seg_loss   cls_loss   dfl_loss  Instances       Size\n"
     ]
    },
    {
     "name": "stderr",
     "output_type": "stream",
     "text": [
      "    211/300      19.9G      0.429     0.5148     0.2291     0.8085         54       1280: 100%|██████████| 10/10 [00:03<00:00,  2.92it/s]\n",
      "                 Class     Images  Instances      Box(P          R      mAP50  mAP50-95)     Mask(P          R      mAP50  mAP50-95): 100%|██████████| 8/8 [00:01<00:00,  6.43it/s]\n"
     ]
    },
    {
     "name": "stdout",
     "output_type": "stream",
     "text": [
      "                   all         60        270       0.96      0.973      0.989      0.868       0.96      0.973      0.989      0.736\n",
      "\n",
      "      Epoch    GPU_mem   box_loss   seg_loss   cls_loss   dfl_loss  Instances       Size\n"
     ]
    },
    {
     "name": "stderr",
     "output_type": "stream",
     "text": [
      "    212/300      19.4G     0.3857     0.4725     0.2244     0.8054         32       1280: 100%|██████████| 10/10 [00:03<00:00,  2.92it/s]\n",
      "                 Class     Images  Instances      Box(P          R      mAP50  mAP50-95)     Mask(P          R      mAP50  mAP50-95): 100%|██████████| 8/8 [00:01<00:00,  6.40it/s]\n"
     ]
    },
    {
     "name": "stdout",
     "output_type": "stream",
     "text": [
      "                   all         60        270      0.992          1      0.994      0.895      0.992          1      0.994      0.745\n",
      "\n",
      "      Epoch    GPU_mem   box_loss   seg_loss   cls_loss   dfl_loss  Instances       Size\n"
     ]
    },
    {
     "name": "stderr",
     "output_type": "stream",
     "text": [
      "    213/300        20G     0.4088     0.4985     0.2265      0.806         68       1280: 100%|██████████| 10/10 [00:03<00:00,  2.93it/s]\n",
      "                 Class     Images  Instances      Box(P          R      mAP50  mAP50-95)     Mask(P          R      mAP50  mAP50-95): 100%|██████████| 8/8 [00:01<00:00,  6.39it/s]\n"
     ]
    },
    {
     "name": "stdout",
     "output_type": "stream",
     "text": [
      "                   all         60        270      0.992          1      0.993      0.909      0.992          1      0.993       0.78\n",
      "\n",
      "      Epoch    GPU_mem   box_loss   seg_loss   cls_loss   dfl_loss  Instances       Size\n"
     ]
    },
    {
     "name": "stderr",
     "output_type": "stream",
     "text": [
      "    214/300      19.6G     0.4332     0.5003     0.2329      0.804         66       1280: 100%|██████████| 10/10 [00:03<00:00,  2.92it/s]\n",
      "                 Class     Images  Instances      Box(P          R      mAP50  mAP50-95)     Mask(P          R      mAP50  mAP50-95): 100%|██████████| 8/8 [00:01<00:00,  6.45it/s]\n"
     ]
    },
    {
     "name": "stdout",
     "output_type": "stream",
     "text": [
      "                   all         60        270      0.992          1      0.993      0.922      0.992          1      0.993       0.77\n",
      "\n",
      "      Epoch    GPU_mem   box_loss   seg_loss   cls_loss   dfl_loss  Instances       Size\n"
     ]
    },
    {
     "name": "stderr",
     "output_type": "stream",
     "text": [
      "    215/300      19.9G      0.434     0.5114     0.2358     0.8129         82       1280:  90%|█████████ | 9/10 [00:03<00:00,  2.83it/s]/home/spuser/.conda/envs/yanpan/lib/python3.11/site-packages/ultralytics/data/augment.py:1143: RuntimeWarning: divide by zero encountered in divide\n",
      "  xy = xy[:, :2] / xy[:, 2:3]\n",
      "    215/300        20G     0.4553     0.5337     0.2477     0.8136         51       1280: 100%|██████████| 10/10 [00:03<00:00,  2.90it/s]\n",
      "                 Class     Images  Instances      Box(P          R      mAP50  mAP50-95)     Mask(P          R      mAP50  mAP50-95): 100%|██████████| 8/8 [00:01<00:00,  6.57it/s]\n"
     ]
    },
    {
     "name": "stdout",
     "output_type": "stream",
     "text": [
      "                   all         60        270      0.992          1      0.993      0.924      0.992          1      0.993      0.784\n",
      "\n",
      "      Epoch    GPU_mem   box_loss   seg_loss   cls_loss   dfl_loss  Instances       Size\n"
     ]
    },
    {
     "name": "stderr",
     "output_type": "stream",
     "text": [
      "    216/300      19.5G     0.4352     0.5075     0.2308      0.815         42       1280: 100%|██████████| 10/10 [00:03<00:00,  2.92it/s]\n",
      "                 Class     Images  Instances      Box(P          R      mAP50  mAP50-95)     Mask(P          R      mAP50  mAP50-95): 100%|██████████| 8/8 [00:01<00:00,  6.57it/s]\n"
     ]
    },
    {
     "name": "stdout",
     "output_type": "stream",
     "text": [
      "                   all         60        270      0.993          1      0.993      0.934      0.993          1      0.993      0.774\n",
      "\n",
      "      Epoch    GPU_mem   box_loss   seg_loss   cls_loss   dfl_loss  Instances       Size\n"
     ]
    },
    {
     "name": "stderr",
     "output_type": "stream",
     "text": [
      "    217/300      19.7G     0.4116     0.5015     0.2324     0.8073         62       1280: 100%|██████████| 10/10 [00:03<00:00,  2.92it/s]\n",
      "                 Class     Images  Instances      Box(P          R      mAP50  mAP50-95)     Mask(P          R      mAP50  mAP50-95): 100%|██████████| 8/8 [00:01<00:00,  6.57it/s]\n"
     ]
    },
    {
     "name": "stdout",
     "output_type": "stream",
     "text": [
      "                   all         60        270      0.992          1      0.993       0.93      0.992          1      0.993      0.769\n",
      "\n",
      "      Epoch    GPU_mem   box_loss   seg_loss   cls_loss   dfl_loss  Instances       Size\n"
     ]
    },
    {
     "name": "stderr",
     "output_type": "stream",
     "text": [
      "    218/300      19.5G      0.416     0.4945     0.2244     0.8208         71       1280: 100%|██████████| 10/10 [00:03<00:00,  2.90it/s]\n",
      "                 Class     Images  Instances      Box(P          R      mAP50  mAP50-95)     Mask(P          R      mAP50  mAP50-95): 100%|██████████| 8/8 [00:01<00:00,  6.58it/s]\n"
     ]
    },
    {
     "name": "stdout",
     "output_type": "stream",
     "text": [
      "                   all         60        270      0.992          1      0.994       0.93      0.992          1      0.994      0.796\n",
      "\n",
      "      Epoch    GPU_mem   box_loss   seg_loss   cls_loss   dfl_loss  Instances       Size\n"
     ]
    },
    {
     "name": "stderr",
     "output_type": "stream",
     "text": [
      "    219/300      20.2G     0.4284     0.5061     0.2341     0.8046         91       1280: 100%|██████████| 10/10 [00:03<00:00,  2.93it/s]\n",
      "                 Class     Images  Instances      Box(P          R      mAP50  mAP50-95)     Mask(P          R      mAP50  mAP50-95): 100%|██████████| 8/8 [00:01<00:00,  6.57it/s]\n"
     ]
    },
    {
     "name": "stdout",
     "output_type": "stream",
     "text": [
      "                   all         60        270      0.991          1      0.994       0.92      0.991          1      0.994      0.791\n",
      "\n",
      "      Epoch    GPU_mem   box_loss   seg_loss   cls_loss   dfl_loss  Instances       Size\n"
     ]
    },
    {
     "name": "stderr",
     "output_type": "stream",
     "text": [
      "    220/300      19.7G     0.4096     0.4825     0.2299     0.8051         53       1280: 100%|██████████| 10/10 [00:03<00:00,  2.88it/s]\n",
      "                 Class     Images  Instances      Box(P          R      mAP50  mAP50-95)     Mask(P          R      mAP50  mAP50-95): 100%|██████████| 8/8 [00:01<00:00,  6.58it/s]\n"
     ]
    },
    {
     "name": "stdout",
     "output_type": "stream",
     "text": [
      "                   all         60        270      0.992          1      0.994      0.929      0.992          1      0.994      0.792\n",
      "\n",
      "      Epoch    GPU_mem   box_loss   seg_loss   cls_loss   dfl_loss  Instances       Size\n"
     ]
    },
    {
     "name": "stderr",
     "output_type": "stream",
     "text": [
      "    221/300      19.9G     0.4313     0.4879     0.2308     0.8139         46       1280: 100%|██████████| 10/10 [00:03<00:00,  2.94it/s]\n",
      "                 Class     Images  Instances      Box(P          R      mAP50  mAP50-95)     Mask(P          R      mAP50  mAP50-95): 100%|██████████| 8/8 [00:01<00:00,  6.41it/s]\n"
     ]
    },
    {
     "name": "stdout",
     "output_type": "stream",
     "text": [
      "                   all         60        270      0.992          1      0.994      0.928      0.992          1      0.994      0.794\n",
      "\n",
      "      Epoch    GPU_mem   box_loss   seg_loss   cls_loss   dfl_loss  Instances       Size\n"
     ]
    },
    {
     "name": "stderr",
     "output_type": "stream",
     "text": [
      "    222/300      19.4G     0.4099     0.4834     0.2304     0.8139         35       1280: 100%|██████████| 10/10 [00:03<00:00,  2.91it/s]\n",
      "                 Class     Images  Instances      Box(P          R      mAP50  mAP50-95)     Mask(P          R      mAP50  mAP50-95): 100%|██████████| 8/8 [00:01<00:00,  6.36it/s]\n"
     ]
    },
    {
     "name": "stdout",
     "output_type": "stream",
     "text": [
      "                   all         60        270      0.989          1      0.995      0.927      0.989          1      0.995      0.791\n",
      "\n",
      "      Epoch    GPU_mem   box_loss   seg_loss   cls_loss   dfl_loss  Instances       Size\n"
     ]
    },
    {
     "name": "stderr",
     "output_type": "stream",
     "text": [
      "    223/300      19.8G     0.4081     0.5038     0.2272     0.8072         44       1280:  50%|█████     | 5/10 [00:01<00:01,  2.87it/s]/home/spuser/.conda/envs/yanpan/lib/python3.11/site-packages/ultralytics/data/augment.py:1143: RuntimeWarning: divide by zero encountered in divide\n",
      "  xy = xy[:, :2] / xy[:, 2:3]\n",
      "    223/300      19.8G      0.411     0.5003     0.2329     0.8149         62       1280: 100%|██████████| 10/10 [00:03<00:00,  2.93it/s]\n",
      "                 Class     Images  Instances      Box(P          R      mAP50  mAP50-95)     Mask(P          R      mAP50  mAP50-95): 100%|██████████| 8/8 [00:01<00:00,  6.31it/s]\n"
     ]
    },
    {
     "name": "stdout",
     "output_type": "stream",
     "text": [
      "                   all         60        270      0.989          1      0.995      0.925      0.989          1      0.995      0.799\n",
      "\n",
      "      Epoch    GPU_mem   box_loss   seg_loss   cls_loss   dfl_loss  Instances       Size\n"
     ]
    },
    {
     "name": "stderr",
     "output_type": "stream",
     "text": [
      "    224/300      19.4G     0.4283     0.5207     0.2428     0.8091         62       1280: 100%|██████████| 10/10 [00:03<00:00,  2.89it/s]\n",
      "                 Class     Images  Instances      Box(P          R      mAP50  mAP50-95)     Mask(P          R      mAP50  mAP50-95): 100%|██████████| 8/8 [00:01<00:00,  6.49it/s]\n"
     ]
    },
    {
     "name": "stdout",
     "output_type": "stream",
     "text": [
      "                   all         60        270      0.992          1      0.995      0.938      0.992          1      0.995      0.779\n",
      "\n",
      "      Epoch    GPU_mem   box_loss   seg_loss   cls_loss   dfl_loss  Instances       Size\n"
     ]
    },
    {
     "name": "stderr",
     "output_type": "stream",
     "text": [
      "    225/300      20.1G     0.4111      0.477     0.2253     0.7966         53       1280: 100%|██████████| 10/10 [00:03<00:00,  2.94it/s]\n",
      "                 Class     Images  Instances      Box(P          R      mAP50  mAP50-95)     Mask(P          R      mAP50  mAP50-95): 100%|██████████| 8/8 [00:01<00:00,  6.57it/s]\n"
     ]
    },
    {
     "name": "stdout",
     "output_type": "stream",
     "text": [
      "                   all         60        270      0.992          1      0.995      0.935      0.992          1      0.995      0.772\n",
      "\n",
      "      Epoch    GPU_mem   box_loss   seg_loss   cls_loss   dfl_loss  Instances       Size\n"
     ]
    },
    {
     "name": "stderr",
     "output_type": "stream",
     "text": [
      "    226/300      20.4G     0.4189     0.4781     0.2298     0.7965         44       1280: 100%|██████████| 10/10 [00:03<00:00,  2.89it/s]\n",
      "                 Class     Images  Instances      Box(P          R      mAP50  mAP50-95)     Mask(P          R      mAP50  mAP50-95): 100%|██████████| 8/8 [00:01<00:00,  6.54it/s]\n"
     ]
    },
    {
     "name": "stdout",
     "output_type": "stream",
     "text": [
      "                   all         60        270      0.992          1      0.995      0.932      0.992          1      0.995      0.765\n",
      "\n",
      "      Epoch    GPU_mem   box_loss   seg_loss   cls_loss   dfl_loss  Instances       Size\n"
     ]
    },
    {
     "name": "stderr",
     "output_type": "stream",
     "text": [
      "    227/300        20G     0.4382     0.5417     0.2332     0.8156         47       1280: 100%|██████████| 10/10 [00:03<00:00,  2.92it/s]\n",
      "                 Class     Images  Instances      Box(P          R      mAP50  mAP50-95)     Mask(P          R      mAP50  mAP50-95): 100%|██████████| 8/8 [00:01<00:00,  6.57it/s]\n"
     ]
    },
    {
     "name": "stdout",
     "output_type": "stream",
     "text": [
      "                   all         60        270      0.992          1      0.995      0.933      0.992          1      0.995      0.764\n",
      "\n",
      "      Epoch    GPU_mem   box_loss   seg_loss   cls_loss   dfl_loss  Instances       Size\n"
     ]
    },
    {
     "name": "stderr",
     "output_type": "stream",
     "text": [
      "    228/300      19.5G     0.4082     0.4832     0.2225     0.8105         39       1280: 100%|██████████| 10/10 [00:03<00:00,  2.92it/s]\n",
      "                 Class     Images  Instances      Box(P          R      mAP50  mAP50-95)     Mask(P          R      mAP50  mAP50-95): 100%|██████████| 8/8 [00:01<00:00,  6.57it/s]\n"
     ]
    },
    {
     "name": "stdout",
     "output_type": "stream",
     "text": [
      "                   all         60        270      0.992          1      0.995      0.933      0.992          1      0.995      0.787\n",
      "\n",
      "      Epoch    GPU_mem   box_loss   seg_loss   cls_loss   dfl_loss  Instances       Size\n"
     ]
    },
    {
     "name": "stderr",
     "output_type": "stream",
     "text": [
      "    229/300      19.9G     0.4125     0.4978     0.2325     0.8062         46       1280: 100%|██████████| 10/10 [00:03<00:00,  2.95it/s]\n",
      "                 Class     Images  Instances      Box(P          R      mAP50  mAP50-95)     Mask(P          R      mAP50  mAP50-95): 100%|██████████| 8/8 [00:01<00:00,  6.53it/s]\n"
     ]
    },
    {
     "name": "stdout",
     "output_type": "stream",
     "text": [
      "                   all         60        270      0.992          1      0.995      0.925      0.992          1      0.995      0.793\n",
      "\n",
      "      Epoch    GPU_mem   box_loss   seg_loss   cls_loss   dfl_loss  Instances       Size\n"
     ]
    },
    {
     "name": "stderr",
     "output_type": "stream",
     "text": [
      "    230/300      19.9G     0.4432     0.5021     0.2339     0.8063         68       1280: 100%|██████████| 10/10 [00:03<00:00,  2.92it/s]\n",
      "                 Class     Images  Instances      Box(P          R      mAP50  mAP50-95)     Mask(P          R      mAP50  mAP50-95): 100%|██████████| 8/8 [00:01<00:00,  6.46it/s]\n"
     ]
    },
    {
     "name": "stdout",
     "output_type": "stream",
     "text": [
      "                   all         60        270      0.992          1      0.993      0.936      0.992          1      0.993      0.788\n",
      "\n",
      "      Epoch    GPU_mem   box_loss   seg_loss   cls_loss   dfl_loss  Instances       Size\n"
     ]
    },
    {
     "name": "stderr",
     "output_type": "stream",
     "text": [
      "    231/300      19.9G     0.3938     0.4157     0.2155     0.8036         36       1280: 100%|██████████| 10/10 [00:03<00:00,  2.96it/s]\n",
      "                 Class     Images  Instances      Box(P          R      mAP50  mAP50-95)     Mask(P          R      mAP50  mAP50-95): 100%|██████████| 8/8 [00:01<00:00,  6.41it/s]\n"
     ]
    },
    {
     "name": "stdout",
     "output_type": "stream",
     "text": [
      "                   all         60        270      0.992          1      0.993      0.931      0.992          1      0.993      0.797\n",
      "\n",
      "      Epoch    GPU_mem   box_loss   seg_loss   cls_loss   dfl_loss  Instances       Size\n"
     ]
    },
    {
     "name": "stderr",
     "output_type": "stream",
     "text": [
      "    232/300      19.5G     0.4109     0.4502     0.2277     0.8064         46       1280: 100%|██████████| 10/10 [00:03<00:00,  2.91it/s]\n",
      "                 Class     Images  Instances      Box(P          R      mAP50  mAP50-95)     Mask(P          R      mAP50  mAP50-95): 100%|██████████| 8/8 [00:01<00:00,  6.41it/s]\n"
     ]
    },
    {
     "name": "stdout",
     "output_type": "stream",
     "text": [
      "                   all         60        270      0.992          1      0.994      0.933      0.992          1      0.994      0.788\n",
      "\n",
      "      Epoch    GPU_mem   box_loss   seg_loss   cls_loss   dfl_loss  Instances       Size\n"
     ]
    },
    {
     "name": "stderr",
     "output_type": "stream",
     "text": [
      "    233/300      19.8G     0.4046     0.4684     0.2309     0.8191         56       1280: 100%|██████████| 10/10 [00:03<00:00,  2.94it/s]\n",
      "                 Class     Images  Instances      Box(P          R      mAP50  mAP50-95)     Mask(P          R      mAP50  mAP50-95): 100%|██████████| 8/8 [00:01<00:00,  6.53it/s]\n"
     ]
    },
    {
     "name": "stdout",
     "output_type": "stream",
     "text": [
      "                   all         60        270      0.992          1      0.993      0.923      0.992          1      0.993      0.791\n",
      "\n",
      "      Epoch    GPU_mem   box_loss   seg_loss   cls_loss   dfl_loss  Instances       Size\n"
     ]
    },
    {
     "name": "stderr",
     "output_type": "stream",
     "text": [
      "    234/300      19.8G     0.4014     0.5086     0.2168     0.8096         55       1280: 100%|██████████| 10/10 [00:03<00:00,  2.87it/s]\n",
      "                 Class     Images  Instances      Box(P          R      mAP50  mAP50-95)     Mask(P          R      mAP50  mAP50-95): 100%|██████████| 8/8 [00:01<00:00,  6.50it/s]\n"
     ]
    },
    {
     "name": "stdout",
     "output_type": "stream",
     "text": [
      "                   all         60        270      0.992          1      0.993      0.923      0.992          1      0.993      0.784\n",
      "\n",
      "      Epoch    GPU_mem   box_loss   seg_loss   cls_loss   dfl_loss  Instances       Size\n"
     ]
    },
    {
     "name": "stderr",
     "output_type": "stream",
     "text": [
      "    235/300      19.9G     0.3925     0.4753     0.2082     0.7978         35       1280: 100%|██████████| 10/10 [00:03<00:00,  2.91it/s]\n",
      "                 Class     Images  Instances      Box(P          R      mAP50  mAP50-95)     Mask(P          R      mAP50  mAP50-95): 100%|██████████| 8/8 [00:01<00:00,  6.53it/s]\n"
     ]
    },
    {
     "name": "stdout",
     "output_type": "stream",
     "text": [
      "                   all         60        270      0.992          1      0.993      0.923      0.992          1      0.993      0.785\n",
      "\n",
      "      Epoch    GPU_mem   box_loss   seg_loss   cls_loss   dfl_loss  Instances       Size\n"
     ]
    },
    {
     "name": "stderr",
     "output_type": "stream",
     "text": [
      "    236/300      19.5G     0.4013     0.4985     0.2171     0.7976         51       1280: 100%|██████████| 10/10 [00:03<00:00,  2.87it/s]\n",
      "                 Class     Images  Instances      Box(P          R      mAP50  mAP50-95)     Mask(P          R      mAP50  mAP50-95): 100%|██████████| 8/8 [00:01<00:00,  6.58it/s]\n"
     ]
    },
    {
     "name": "stdout",
     "output_type": "stream",
     "text": [
      "                   all         60        270      0.992          1      0.993      0.929      0.992          1      0.993      0.776\n",
      "\n",
      "      Epoch    GPU_mem   box_loss   seg_loss   cls_loss   dfl_loss  Instances       Size\n"
     ]
    },
    {
     "name": "stderr",
     "output_type": "stream",
     "text": [
      "    237/300      19.7G     0.3859      0.456     0.2097     0.8119         51       1280: 100%|██████████| 10/10 [00:03<00:00,  2.91it/s]\n",
      "                 Class     Images  Instances      Box(P          R      mAP50  mAP50-95)     Mask(P          R      mAP50  mAP50-95): 100%|██████████| 8/8 [00:01<00:00,  6.56it/s]\n"
     ]
    },
    {
     "name": "stdout",
     "output_type": "stream",
     "text": [
      "                   all         60        270      0.992          1      0.995      0.925      0.992          1      0.995       0.79\n",
      "\n",
      "      Epoch    GPU_mem   box_loss   seg_loss   cls_loss   dfl_loss  Instances       Size\n"
     ]
    },
    {
     "name": "stderr",
     "output_type": "stream",
     "text": [
      "    238/300      19.7G     0.3891     0.4557     0.2038      0.803         33       1280: 100%|██████████| 10/10 [00:03<00:00,  2.92it/s]\n",
      "                 Class     Images  Instances      Box(P          R      mAP50  mAP50-95)     Mask(P          R      mAP50  mAP50-95): 100%|██████████| 8/8 [00:01<00:00,  6.41it/s]\n"
     ]
    },
    {
     "name": "stdout",
     "output_type": "stream",
     "text": [
      "                   all         60        270      0.992          1      0.995      0.931      0.992          1      0.995      0.793\n",
      "\n",
      "      Epoch    GPU_mem   box_loss   seg_loss   cls_loss   dfl_loss  Instances       Size\n"
     ]
    },
    {
     "name": "stderr",
     "output_type": "stream",
     "text": [
      "    239/300        20G     0.3959     0.4572     0.2204     0.8092         56       1280: 100%|██████████| 10/10 [00:03<00:00,  2.94it/s]\n",
      "                 Class     Images  Instances      Box(P          R      mAP50  mAP50-95)     Mask(P          R      mAP50  mAP50-95): 100%|██████████| 8/8 [00:01<00:00,  6.50it/s]\n"
     ]
    },
    {
     "name": "stdout",
     "output_type": "stream",
     "text": [
      "                   all         60        270      0.992          1      0.995      0.932      0.992          1      0.995      0.793\n",
      "\n",
      "      Epoch    GPU_mem   box_loss   seg_loss   cls_loss   dfl_loss  Instances       Size\n"
     ]
    },
    {
     "name": "stderr",
     "output_type": "stream",
     "text": [
      "    240/300      19.5G     0.3885     0.4457     0.2145     0.7997         63       1280: 100%|██████████| 10/10 [00:03<00:00,  2.93it/s]\n",
      "                 Class     Images  Instances      Box(P          R      mAP50  mAP50-95)     Mask(P          R      mAP50  mAP50-95): 100%|██████████| 8/8 [00:01<00:00,  6.49it/s]\n"
     ]
    },
    {
     "name": "stdout",
     "output_type": "stream",
     "text": [
      "                   all         60        270      0.992          1      0.995       0.93      0.992          1      0.995      0.785\n",
      "\n",
      "      Epoch    GPU_mem   box_loss   seg_loss   cls_loss   dfl_loss  Instances       Size\n"
     ]
    },
    {
     "name": "stderr",
     "output_type": "stream",
     "text": [
      "    241/300        20G     0.3947     0.4547     0.2123     0.8062         59       1280: 100%|██████████| 10/10 [00:03<00:00,  2.91it/s]\n",
      "                 Class     Images  Instances      Box(P          R      mAP50  mAP50-95)     Mask(P          R      mAP50  mAP50-95): 100%|██████████| 8/8 [00:01<00:00,  6.43it/s]\n"
     ]
    },
    {
     "name": "stdout",
     "output_type": "stream",
     "text": [
      "                   all         60        270      0.992          1      0.995      0.927      0.992          1      0.995      0.793\n",
      "\n",
      "      Epoch    GPU_mem   box_loss   seg_loss   cls_loss   dfl_loss  Instances       Size\n"
     ]
    },
    {
     "name": "stderr",
     "output_type": "stream",
     "text": [
      "    242/300      19.8G     0.4086     0.4665     0.2218     0.7986         50       1280: 100%|██████████| 10/10 [00:03<00:00,  2.91it/s]\n",
      "                 Class     Images  Instances      Box(P          R      mAP50  mAP50-95)     Mask(P          R      mAP50  mAP50-95): 100%|██████████| 8/8 [00:01<00:00,  6.58it/s]\n"
     ]
    },
    {
     "name": "stdout",
     "output_type": "stream",
     "text": [
      "                   all         60        270      0.992          1      0.993       0.93      0.992          1      0.993      0.795\n",
      "\n",
      "      Epoch    GPU_mem   box_loss   seg_loss   cls_loss   dfl_loss  Instances       Size\n"
     ]
    },
    {
     "name": "stderr",
     "output_type": "stream",
     "text": [
      "    243/300      20.1G      0.403     0.4464     0.2106      0.804         59       1280: 100%|██████████| 10/10 [00:03<00:00,  2.92it/s]\n",
      "                 Class     Images  Instances      Box(P          R      mAP50  mAP50-95)     Mask(P          R      mAP50  mAP50-95): 100%|██████████| 8/8 [00:01<00:00,  6.49it/s]\n"
     ]
    },
    {
     "name": "stdout",
     "output_type": "stream",
     "text": [
      "                   all         60        270      0.992          1      0.992      0.934      0.992          1      0.992      0.793\n",
      "\n",
      "      Epoch    GPU_mem   box_loss   seg_loss   cls_loss   dfl_loss  Instances       Size\n"
     ]
    },
    {
     "name": "stderr",
     "output_type": "stream",
     "text": [
      "    244/300      19.4G     0.4279     0.5231      0.226     0.8121         46       1280: 100%|██████████| 10/10 [00:03<00:00,  2.93it/s]\n",
      "                 Class     Images  Instances      Box(P          R      mAP50  mAP50-95)     Mask(P          R      mAP50  mAP50-95): 100%|██████████| 8/8 [00:01<00:00,  6.57it/s]\n"
     ]
    },
    {
     "name": "stdout",
     "output_type": "stream",
     "text": [
      "                   all         60        270      0.992          1      0.993      0.938      0.992          1      0.993      0.787\n",
      "\n",
      "      Epoch    GPU_mem   box_loss   seg_loss   cls_loss   dfl_loss  Instances       Size\n"
     ]
    },
    {
     "name": "stderr",
     "output_type": "stream",
     "text": [
      "    245/300      20.2G     0.3967     0.4647     0.2275     0.8091         56       1280: 100%|██████████| 10/10 [00:03<00:00,  2.90it/s]\n",
      "                 Class     Images  Instances      Box(P          R      mAP50  mAP50-95)     Mask(P          R      mAP50  mAP50-95): 100%|██████████| 8/8 [00:01<00:00,  6.54it/s]\n"
     ]
    },
    {
     "name": "stdout",
     "output_type": "stream",
     "text": [
      "                   all         60        270      0.992          1      0.993      0.939      0.992          1      0.993      0.792\n",
      "\n",
      "      Epoch    GPU_mem   box_loss   seg_loss   cls_loss   dfl_loss  Instances       Size\n"
     ]
    },
    {
     "name": "stderr",
     "output_type": "stream",
     "text": [
      "    246/300      19.7G      0.424     0.4467     0.2347     0.8035         83       1280: 100%|██████████| 10/10 [00:03<00:00,  2.89it/s]\n",
      "                 Class     Images  Instances      Box(P          R      mAP50  mAP50-95)     Mask(P          R      mAP50  mAP50-95): 100%|██████████| 8/8 [00:01<00:00,  6.44it/s]\n"
     ]
    },
    {
     "name": "stdout",
     "output_type": "stream",
     "text": [
      "                   all         60        270      0.991          1      0.994      0.934      0.991          1      0.994      0.786\n",
      "\n",
      "      Epoch    GPU_mem   box_loss   seg_loss   cls_loss   dfl_loss  Instances       Size\n"
     ]
    },
    {
     "name": "stderr",
     "output_type": "stream",
     "text": [
      "    247/300      20.1G     0.4878     0.6236     0.2706     0.8379         39       1280:  20%|██        | 2/10 [00:00<00:02,  2.80it/s]/home/spuser/.conda/envs/yanpan/lib/python3.11/site-packages/ultralytics/data/augment.py:1143: RuntimeWarning: divide by zero encountered in divide\n",
      "  xy = xy[:, :2] / xy[:, 2:3]\n",
      "    247/300      20.1G      0.438     0.5421     0.2394     0.8319         34       1280: 100%|██████████| 10/10 [00:03<00:00,  2.93it/s]\n",
      "                 Class     Images  Instances      Box(P          R      mAP50  mAP50-95)     Mask(P          R      mAP50  mAP50-95): 100%|██████████| 8/8 [00:01<00:00,  6.36it/s]\n"
     ]
    },
    {
     "name": "stdout",
     "output_type": "stream",
     "text": [
      "                   all         60        270      0.992          1      0.994      0.936      0.992          1      0.994      0.791\n",
      "\n",
      "      Epoch    GPU_mem   box_loss   seg_loss   cls_loss   dfl_loss  Instances       Size\n"
     ]
    },
    {
     "name": "stderr",
     "output_type": "stream",
     "text": [
      "    248/300      20.2G      0.414     0.4894     0.2259     0.8093         81       1280: 100%|██████████| 10/10 [00:03<00:00,  2.90it/s]\n",
      "                 Class     Images  Instances      Box(P          R      mAP50  mAP50-95)     Mask(P          R      mAP50  mAP50-95): 100%|██████████| 8/8 [00:01<00:00,  6.47it/s]\n"
     ]
    },
    {
     "name": "stdout",
     "output_type": "stream",
     "text": [
      "                   all         60        270      0.992          1      0.994      0.927      0.992          1      0.994      0.798\n",
      "\n",
      "      Epoch    GPU_mem   box_loss   seg_loss   cls_loss   dfl_loss  Instances       Size\n"
     ]
    },
    {
     "name": "stderr",
     "output_type": "stream",
     "text": [
      "    249/300      20.1G     0.4225     0.5032     0.2304     0.8141         61       1280: 100%|██████████| 10/10 [00:03<00:00,  2.91it/s]\n",
      "                 Class     Images  Instances      Box(P          R      mAP50  mAP50-95)     Mask(P          R      mAP50  mAP50-95): 100%|██████████| 8/8 [00:01<00:00,  6.51it/s]\n"
     ]
    },
    {
     "name": "stdout",
     "output_type": "stream",
     "text": [
      "                   all         60        270      0.992          1      0.994      0.928      0.992          1      0.994      0.801\n",
      "\n",
      "      Epoch    GPU_mem   box_loss   seg_loss   cls_loss   dfl_loss  Instances       Size\n"
     ]
    },
    {
     "name": "stderr",
     "output_type": "stream",
     "text": [
      "    250/300      19.6G     0.3955     0.4732     0.2184     0.8143         41       1280: 100%|██████████| 10/10 [00:03<00:00,  2.91it/s]\n",
      "                 Class     Images  Instances      Box(P          R      mAP50  mAP50-95)     Mask(P          R      mAP50  mAP50-95): 100%|██████████| 8/8 [00:01<00:00,  6.55it/s]\n"
     ]
    },
    {
     "name": "stdout",
     "output_type": "stream",
     "text": [
      "                   all         60        270      0.992          1      0.994      0.937      0.992          1      0.994      0.802\n",
      "\n",
      "      Epoch    GPU_mem   box_loss   seg_loss   cls_loss   dfl_loss  Instances       Size\n"
     ]
    },
    {
     "name": "stderr",
     "output_type": "stream",
     "text": [
      "    251/300        20G     0.4211     0.5123     0.2328     0.8134         32       1280: 100%|██████████| 10/10 [00:03<00:00,  2.93it/s]\n",
      "                 Class     Images  Instances      Box(P          R      mAP50  mAP50-95)     Mask(P          R      mAP50  mAP50-95): 100%|██████████| 8/8 [00:01<00:00,  6.57it/s]\n"
     ]
    },
    {
     "name": "stdout",
     "output_type": "stream",
     "text": [
      "                   all         60        270      0.992          1      0.994      0.934      0.992          1      0.994      0.806\n",
      "\n",
      "      Epoch    GPU_mem   box_loss   seg_loss   cls_loss   dfl_loss  Instances       Size\n"
     ]
    },
    {
     "name": "stderr",
     "output_type": "stream",
     "text": [
      "    252/300      19.4G     0.3734      0.437     0.2119     0.8098         46       1280: 100%|██████████| 10/10 [00:03<00:00,  2.90it/s]\n",
      "                 Class     Images  Instances      Box(P          R      mAP50  mAP50-95)     Mask(P          R      mAP50  mAP50-95): 100%|██████████| 8/8 [00:01<00:00,  6.55it/s]\n"
     ]
    },
    {
     "name": "stdout",
     "output_type": "stream",
     "text": [
      "                   all         60        270      0.992          1      0.994      0.938      0.992          1      0.994      0.792\n",
      "\n",
      "      Epoch    GPU_mem   box_loss   seg_loss   cls_loss   dfl_loss  Instances       Size\n"
     ]
    },
    {
     "name": "stderr",
     "output_type": "stream",
     "text": [
      "    253/300        20G     0.4219     0.5014     0.2284     0.8021         49       1280: 100%|██████████| 10/10 [00:03<00:00,  2.90it/s]\n",
      "                 Class     Images  Instances      Box(P          R      mAP50  mAP50-95)     Mask(P          R      mAP50  mAP50-95): 100%|██████████| 8/8 [00:01<00:00,  6.46it/s]\n"
     ]
    },
    {
     "name": "stdout",
     "output_type": "stream",
     "text": [
      "                   all         60        270      0.992          1      0.995      0.941      0.992          1      0.995      0.793\n",
      "\n",
      "      Epoch    GPU_mem   box_loss   seg_loss   cls_loss   dfl_loss  Instances       Size\n"
     ]
    },
    {
     "name": "stderr",
     "output_type": "stream",
     "text": [
      "    254/300      19.8G     0.4185     0.4813     0.2317     0.8104         59       1280: 100%|██████████| 10/10 [00:03<00:00,  2.86it/s]\n",
      "                 Class     Images  Instances      Box(P          R      mAP50  mAP50-95)     Mask(P          R      mAP50  mAP50-95): 100%|██████████| 8/8 [00:01<00:00,  6.48it/s]\n"
     ]
    },
    {
     "name": "stdout",
     "output_type": "stream",
     "text": [
      "                   all         60        270      0.991          1      0.995      0.937      0.991          1      0.995      0.792\n",
      "\n",
      "      Epoch    GPU_mem   box_loss   seg_loss   cls_loss   dfl_loss  Instances       Size\n"
     ]
    },
    {
     "name": "stderr",
     "output_type": "stream",
     "text": [
      "    255/300      19.9G     0.3757     0.4355     0.2114      0.816         49       1280: 100%|██████████| 10/10 [00:03<00:00,  2.93it/s]\n",
      "                 Class     Images  Instances      Box(P          R      mAP50  mAP50-95)     Mask(P          R      mAP50  mAP50-95): 100%|██████████| 8/8 [00:01<00:00,  6.22it/s]\n"
     ]
    },
    {
     "name": "stdout",
     "output_type": "stream",
     "text": [
      "                   all         60        270      0.992          1      0.995       0.94      0.992          1      0.995      0.785\n",
      "\n",
      "      Epoch    GPU_mem   box_loss   seg_loss   cls_loss   dfl_loss  Instances       Size\n"
     ]
    },
    {
     "name": "stderr",
     "output_type": "stream",
     "text": [
      "    256/300      19.7G     0.4085     0.4991     0.2236     0.8141         22       1280: 100%|██████████| 10/10 [00:03<00:00,  2.90it/s]\n",
      "                 Class     Images  Instances      Box(P          R      mAP50  mAP50-95)     Mask(P          R      mAP50  mAP50-95): 100%|██████████| 8/8 [00:01<00:00,  6.30it/s]\n"
     ]
    },
    {
     "name": "stdout",
     "output_type": "stream",
     "text": [
      "                   all         60        270      0.992          1      0.995      0.938      0.992          1      0.995        0.8\n",
      "\n",
      "      Epoch    GPU_mem   box_loss   seg_loss   cls_loss   dfl_loss  Instances       Size\n"
     ]
    },
    {
     "name": "stderr",
     "output_type": "stream",
     "text": [
      "    257/300      19.9G     0.4282     0.4843     0.2284      0.814         68       1280:  60%|██████    | 6/10 [00:02<00:01,  2.88it/s]/home/spuser/.conda/envs/yanpan/lib/python3.11/site-packages/ultralytics/data/augment.py:1143: RuntimeWarning: divide by zero encountered in divide\n",
      "  xy = xy[:, :2] / xy[:, 2:3]\n",
      "    257/300      19.9G     0.4125     0.4591     0.2221     0.8182         53       1280: 100%|██████████| 10/10 [00:03<00:00,  2.88it/s]\n",
      "                 Class     Images  Instances      Box(P          R      mAP50  mAP50-95)     Mask(P          R      mAP50  mAP50-95): 100%|██████████| 8/8 [00:01<00:00,  6.50it/s]\n"
     ]
    },
    {
     "name": "stdout",
     "output_type": "stream",
     "text": [
      "                   all         60        270      0.992          1      0.994       0.94      0.992          1      0.994      0.798\n",
      "\n",
      "      Epoch    GPU_mem   box_loss   seg_loss   cls_loss   dfl_loss  Instances       Size\n"
     ]
    },
    {
     "name": "stderr",
     "output_type": "stream",
     "text": [
      "  0%|          | 0/10 [00:00<?, ?it/s]/home/spuser/.conda/envs/yanpan/lib/python3.11/site-packages/ultralytics/data/augment.py:1143: RuntimeWarning: divide by zero encountered in divide\n",
      "  xy = xy[:, :2] / xy[:, 2:3]\n",
      "    258/300      19.5G     0.3834     0.4743      0.207     0.7916         56       1280: 100%|██████████| 10/10 [00:03<00:00,  2.92it/s]\n",
      "                 Class     Images  Instances      Box(P          R      mAP50  mAP50-95)     Mask(P          R      mAP50  mAP50-95): 100%|██████████| 8/8 [00:01<00:00,  6.50it/s]\n"
     ]
    },
    {
     "name": "stdout",
     "output_type": "stream",
     "text": [
      "                   all         60        270      0.992          1      0.994      0.948      0.992          1      0.994      0.795\n",
      "\n",
      "      Epoch    GPU_mem   box_loss   seg_loss   cls_loss   dfl_loss  Instances       Size\n"
     ]
    },
    {
     "name": "stderr",
     "output_type": "stream",
     "text": [
      "    259/300      20.1G     0.3856     0.4422     0.2106     0.8119         42       1280: 100%|██████████| 10/10 [00:03<00:00,  2.90it/s]\n",
      "                 Class     Images  Instances      Box(P          R      mAP50  mAP50-95)     Mask(P          R      mAP50  mAP50-95): 100%|██████████| 8/8 [00:01<00:00,  6.53it/s]\n"
     ]
    },
    {
     "name": "stdout",
     "output_type": "stream",
     "text": [
      "                   all         60        270      0.992          1      0.995      0.942      0.992          1      0.995      0.786\n",
      "\n",
      "      Epoch    GPU_mem   box_loss   seg_loss   cls_loss   dfl_loss  Instances       Size\n"
     ]
    },
    {
     "name": "stderr",
     "output_type": "stream",
     "text": [
      "    260/300      19.5G     0.3799     0.4345     0.2032     0.7853         49       1280: 100%|██████████| 10/10 [00:03<00:00,  2.90it/s]\n",
      "                 Class     Images  Instances      Box(P          R      mAP50  mAP50-95)     Mask(P          R      mAP50  mAP50-95): 100%|██████████| 8/8 [00:01<00:00,  6.34it/s]\n"
     ]
    },
    {
     "name": "stdout",
     "output_type": "stream",
     "text": [
      "                   all         60        270      0.992          1      0.995      0.945      0.992          1      0.995      0.789\n",
      "\n",
      "      Epoch    GPU_mem   box_loss   seg_loss   cls_loss   dfl_loss  Instances       Size\n"
     ]
    },
    {
     "name": "stderr",
     "output_type": "stream",
     "text": [
      "    261/300        20G     0.3952     0.4365     0.2167     0.7837         51       1280: 100%|██████████| 10/10 [00:03<00:00,  2.93it/s]\n",
      "                 Class     Images  Instances      Box(P          R      mAP50  mAP50-95)     Mask(P          R      mAP50  mAP50-95): 100%|██████████| 8/8 [00:01<00:00,  6.49it/s]\n"
     ]
    },
    {
     "name": "stdout",
     "output_type": "stream",
     "text": [
      "                   all         60        270      0.992          1      0.995      0.934      0.992          1      0.995      0.791\n",
      "\n",
      "      Epoch    GPU_mem   box_loss   seg_loss   cls_loss   dfl_loss  Instances       Size\n"
     ]
    },
    {
     "name": "stderr",
     "output_type": "stream",
     "text": [
      "    262/300      19.7G     0.4008     0.4503     0.2134     0.8036         82       1280: 100%|██████████| 10/10 [00:03<00:00,  2.90it/s]\n",
      "                 Class     Images  Instances      Box(P          R      mAP50  mAP50-95)     Mask(P          R      mAP50  mAP50-95): 100%|██████████| 8/8 [00:01<00:00,  6.51it/s]\n"
     ]
    },
    {
     "name": "stdout",
     "output_type": "stream",
     "text": [
      "                   all         60        270      0.992          1      0.995      0.926      0.992          1      0.995      0.802\n",
      "\n",
      "      Epoch    GPU_mem   box_loss   seg_loss   cls_loss   dfl_loss  Instances       Size\n"
     ]
    },
    {
     "name": "stderr",
     "output_type": "stream",
     "text": [
      "    263/300      19.9G     0.4147     0.4993     0.2207     0.8093        103       1280: 100%|██████████| 10/10 [00:03<00:00,  2.92it/s]\n",
      "                 Class     Images  Instances      Box(P          R      mAP50  mAP50-95)     Mask(P          R      mAP50  mAP50-95): 100%|██████████| 8/8 [00:01<00:00,  6.33it/s]\n"
     ]
    },
    {
     "name": "stdout",
     "output_type": "stream",
     "text": [
      "                   all         60        270      0.992          1      0.995      0.933      0.992          1      0.995      0.802\n",
      "\n",
      "      Epoch    GPU_mem   box_loss   seg_loss   cls_loss   dfl_loss  Instances       Size\n"
     ]
    },
    {
     "name": "stderr",
     "output_type": "stream",
     "text": [
      "    264/300      19.7G     0.4036     0.4705      0.221     0.8026         55       1280: 100%|██████████| 10/10 [00:03<00:00,  2.88it/s]\n",
      "                 Class     Images  Instances      Box(P          R      mAP50  mAP50-95)     Mask(P          R      mAP50  mAP50-95): 100%|██████████| 8/8 [00:01<00:00,  6.57it/s]\n"
     ]
    },
    {
     "name": "stdout",
     "output_type": "stream",
     "text": [
      "                   all         60        270      0.992          1      0.995      0.933      0.992          1      0.995        0.8\n",
      "\n",
      "      Epoch    GPU_mem   box_loss   seg_loss   cls_loss   dfl_loss  Instances       Size\n"
     ]
    },
    {
     "name": "stderr",
     "output_type": "stream",
     "text": [
      "    265/300      20.3G      0.387     0.4952     0.2086     0.8026         43       1280: 100%|██████████| 10/10 [00:03<00:00,  2.92it/s]\n",
      "                 Class     Images  Instances      Box(P          R      mAP50  mAP50-95)     Mask(P          R      mAP50  mAP50-95): 100%|██████████| 8/8 [00:01<00:00,  6.56it/s]\n"
     ]
    },
    {
     "name": "stdout",
     "output_type": "stream",
     "text": [
      "                   all         60        270      0.992          1      0.995      0.935      0.992          1      0.995      0.806\n",
      "\n",
      "      Epoch    GPU_mem   box_loss   seg_loss   cls_loss   dfl_loss  Instances       Size\n"
     ]
    },
    {
     "name": "stderr",
     "output_type": "stream",
     "text": [
      "    266/300      19.6G      0.397     0.4803     0.2181     0.8055         53       1280: 100%|██████████| 10/10 [00:03<00:00,  2.90it/s]\n",
      "                 Class     Images  Instances      Box(P          R      mAP50  mAP50-95)     Mask(P          R      mAP50  mAP50-95): 100%|██████████| 8/8 [00:01<00:00,  6.53it/s]\n"
     ]
    },
    {
     "name": "stdout",
     "output_type": "stream",
     "text": [
      "                   all         60        270      0.992          1      0.995      0.936      0.992          1      0.995      0.793\n",
      "\n",
      "      Epoch    GPU_mem   box_loss   seg_loss   cls_loss   dfl_loss  Instances       Size\n"
     ]
    },
    {
     "name": "stderr",
     "output_type": "stream",
     "text": [
      "    267/300      20.2G     0.3807     0.4961     0.2094     0.7974         59       1280: 100%|██████████| 10/10 [00:03<00:00,  2.88it/s]\n",
      "                 Class     Images  Instances      Box(P          R      mAP50  mAP50-95)     Mask(P          R      mAP50  mAP50-95): 100%|██████████| 8/8 [00:01<00:00,  6.53it/s]\n"
     ]
    },
    {
     "name": "stdout",
     "output_type": "stream",
     "text": [
      "                   all         60        270      0.992          1      0.995      0.936      0.992          1      0.995      0.793\n",
      "\n",
      "      Epoch    GPU_mem   box_loss   seg_loss   cls_loss   dfl_loss  Instances       Size\n"
     ]
    },
    {
     "name": "stderr",
     "output_type": "stream",
     "text": [
      "    268/300      19.7G      0.396     0.4718     0.2146     0.7992         62       1280: 100%|██████████| 10/10 [00:03<00:00,  2.88it/s]\n",
      "                 Class     Images  Instances      Box(P          R      mAP50  mAP50-95)     Mask(P          R      mAP50  mAP50-95): 100%|██████████| 8/8 [00:01<00:00,  6.57it/s]\n"
     ]
    },
    {
     "name": "stdout",
     "output_type": "stream",
     "text": [
      "                   all         60        270      0.992          1      0.995      0.937      0.992          1      0.995      0.798\n",
      "\n",
      "      Epoch    GPU_mem   box_loss   seg_loss   cls_loss   dfl_loss  Instances       Size\n"
     ]
    },
    {
     "name": "stderr",
     "output_type": "stream",
     "text": [
      "    269/300        20G     0.4076     0.4781     0.2165     0.8136         48       1280: 100%|██████████| 10/10 [00:03<00:00,  2.95it/s]\n",
      "                 Class     Images  Instances      Box(P          R      mAP50  mAP50-95)     Mask(P          R      mAP50  mAP50-95): 100%|██████████| 8/8 [00:01<00:00,  6.56it/s]\n"
     ]
    },
    {
     "name": "stdout",
     "output_type": "stream",
     "text": [
      "                   all         60        270      0.992          1      0.995      0.933      0.992          1      0.995      0.803\n",
      "\n",
      "      Epoch    GPU_mem   box_loss   seg_loss   cls_loss   dfl_loss  Instances       Size\n"
     ]
    },
    {
     "name": "stderr",
     "output_type": "stream",
     "text": [
      "    270/300      19.3G     0.4037     0.4759     0.2197     0.8169         55       1280: 100%|██████████| 10/10 [00:03<00:00,  2.93it/s]\n",
      "                 Class     Images  Instances      Box(P          R      mAP50  mAP50-95)     Mask(P          R      mAP50  mAP50-95): 100%|██████████| 8/8 [00:01<00:00,  6.56it/s]\n"
     ]
    },
    {
     "name": "stdout",
     "output_type": "stream",
     "text": [
      "                   all         60        270      0.992          1      0.994      0.931      0.992          1      0.994      0.802\n",
      "\n",
      "      Epoch    GPU_mem   box_loss   seg_loss   cls_loss   dfl_loss  Instances       Size\n"
     ]
    },
    {
     "name": "stderr",
     "output_type": "stream",
     "text": [
      "    271/300      20.5G     0.3727     0.4331     0.2049     0.8054         42       1280: 100%|██████████| 10/10 [00:03<00:00,  2.91it/s]\n",
      "                 Class     Images  Instances      Box(P          R      mAP50  mAP50-95)     Mask(P          R      mAP50  mAP50-95): 100%|██████████| 8/8 [00:01<00:00,  6.42it/s]\n"
     ]
    },
    {
     "name": "stdout",
     "output_type": "stream",
     "text": [
      "                   all         60        270      0.992          1      0.994      0.929      0.992          1      0.994      0.795\n",
      "\n",
      "      Epoch    GPU_mem   box_loss   seg_loss   cls_loss   dfl_loss  Instances       Size\n"
     ]
    },
    {
     "name": "stderr",
     "output_type": "stream",
     "text": [
      "    272/300      19.6G     0.3955     0.4465     0.2132     0.8107         48       1280: 100%|██████████| 10/10 [00:03<00:00,  2.89it/s]\n",
      "                 Class     Images  Instances      Box(P          R      mAP50  mAP50-95)     Mask(P          R      mAP50  mAP50-95): 100%|██████████| 8/8 [00:01<00:00,  6.44it/s]\n"
     ]
    },
    {
     "name": "stdout",
     "output_type": "stream",
     "text": [
      "                   all         60        270      0.992          1      0.994      0.937      0.992          1      0.994      0.785\n",
      "\n",
      "      Epoch    GPU_mem   box_loss   seg_loss   cls_loss   dfl_loss  Instances       Size\n"
     ]
    },
    {
     "name": "stderr",
     "output_type": "stream",
     "text": [
      "    273/300      19.9G     0.3919     0.4439     0.2149      0.797         34       1280: 100%|██████████| 10/10 [00:03<00:00,  2.92it/s]\n",
      "                 Class     Images  Instances      Box(P          R      mAP50  mAP50-95)     Mask(P          R      mAP50  mAP50-95): 100%|██████████| 8/8 [00:01<00:00,  6.52it/s]\n"
     ]
    },
    {
     "name": "stdout",
     "output_type": "stream",
     "text": [
      "                   all         60        270      0.992          1      0.994      0.944      0.992          1      0.994      0.791\n",
      "\n",
      "      Epoch    GPU_mem   box_loss   seg_loss   cls_loss   dfl_loss  Instances       Size\n"
     ]
    },
    {
     "name": "stderr",
     "output_type": "stream",
     "text": [
      "    274/300      19.7G     0.3851      0.459     0.2068     0.8051         47       1280: 100%|██████████| 10/10 [00:03<00:00,  2.89it/s]\n",
      "                 Class     Images  Instances      Box(P          R      mAP50  mAP50-95)     Mask(P          R      mAP50  mAP50-95): 100%|██████████| 8/8 [00:01<00:00,  6.58it/s]\n"
     ]
    },
    {
     "name": "stdout",
     "output_type": "stream",
     "text": [
      "                   all         60        270      0.992          1      0.994      0.934      0.992          1      0.994      0.801\n",
      "\n",
      "      Epoch    GPU_mem   box_loss   seg_loss   cls_loss   dfl_loss  Instances       Size\n"
     ]
    },
    {
     "name": "stderr",
     "output_type": "stream",
     "text": [
      "    275/300      19.9G      0.399      0.488     0.2179      0.812         37       1280: 100%|██████████| 10/10 [00:03<00:00,  2.97it/s]\n",
      "                 Class     Images  Instances      Box(P          R      mAP50  mAP50-95)     Mask(P          R      mAP50  mAP50-95): 100%|██████████| 8/8 [00:01<00:00,  6.56it/s]\n"
     ]
    },
    {
     "name": "stdout",
     "output_type": "stream",
     "text": [
      "                   all         60        270      0.992          1      0.993      0.933      0.992          1      0.993      0.801\n",
      "\n",
      "      Epoch    GPU_mem   box_loss   seg_loss   cls_loss   dfl_loss  Instances       Size\n"
     ]
    },
    {
     "name": "stderr",
     "output_type": "stream",
     "text": [
      "    276/300      19.8G     0.3819      0.428     0.2005      0.787         54       1280: 100%|██████████| 10/10 [00:03<00:00,  2.89it/s]\n",
      "                 Class     Images  Instances      Box(P          R      mAP50  mAP50-95)     Mask(P          R      mAP50  mAP50-95): 100%|██████████| 8/8 [00:01<00:00,  6.57it/s]\n"
     ]
    },
    {
     "name": "stdout",
     "output_type": "stream",
     "text": [
      "                   all         60        270      0.992          1      0.995      0.936      0.992          1      0.995      0.799\n",
      "\n",
      "      Epoch    GPU_mem   box_loss   seg_loss   cls_loss   dfl_loss  Instances       Size\n"
     ]
    },
    {
     "name": "stderr",
     "output_type": "stream",
     "text": [
      "    277/300      19.9G     0.3935     0.4757     0.2039     0.8145         54       1280: 100%|██████████| 10/10 [00:03<00:00,  2.92it/s]\n",
      "                 Class     Images  Instances      Box(P          R      mAP50  mAP50-95)     Mask(P          R      mAP50  mAP50-95): 100%|██████████| 8/8 [00:01<00:00,  6.53it/s]\n"
     ]
    },
    {
     "name": "stdout",
     "output_type": "stream",
     "text": [
      "                   all         60        270      0.992          1      0.995      0.941      0.992          1      0.995      0.797\n",
      "\n",
      "      Epoch    GPU_mem   box_loss   seg_loss   cls_loss   dfl_loss  Instances       Size\n"
     ]
    },
    {
     "name": "stderr",
     "output_type": "stream",
     "text": [
      "    278/300      19.6G     0.3664     0.4082     0.1947     0.7981         42       1280: 100%|██████████| 10/10 [00:03<00:00,  2.87it/s]\n",
      "                 Class     Images  Instances      Box(P          R      mAP50  mAP50-95)     Mask(P          R      mAP50  mAP50-95): 100%|██████████| 8/8 [00:01<00:00,  6.57it/s]\n"
     ]
    },
    {
     "name": "stdout",
     "output_type": "stream",
     "text": [
      "                   all         60        270      0.992          1      0.995      0.945      0.992          1      0.995      0.793\n",
      "\n",
      "      Epoch    GPU_mem   box_loss   seg_loss   cls_loss   dfl_loss  Instances       Size\n"
     ]
    },
    {
     "name": "stderr",
     "output_type": "stream",
     "text": [
      "    279/300      19.9G     0.3866     0.4166     0.2099     0.8088         53       1280: 100%|██████████| 10/10 [00:03<00:00,  2.93it/s]\n",
      "                 Class     Images  Instances      Box(P          R      mAP50  mAP50-95)     Mask(P          R      mAP50  mAP50-95): 100%|██████████| 8/8 [00:01<00:00,  6.43it/s]\n"
     ]
    },
    {
     "name": "stdout",
     "output_type": "stream",
     "text": [
      "                   all         60        270      0.992          1      0.995       0.94      0.992          1      0.995      0.785\n",
      "\n",
      "      Epoch    GPU_mem   box_loss   seg_loss   cls_loss   dfl_loss  Instances       Size\n"
     ]
    },
    {
     "name": "stderr",
     "output_type": "stream",
     "text": [
      "    280/300      19.6G     0.3891     0.4427     0.2105     0.8083         60       1280: 100%|██████████| 10/10 [00:03<00:00,  2.92it/s]\n",
      "                 Class     Images  Instances      Box(P          R      mAP50  mAP50-95)     Mask(P          R      mAP50  mAP50-95): 100%|██████████| 8/8 [00:01<00:00,  6.34it/s]\n"
     ]
    },
    {
     "name": "stdout",
     "output_type": "stream",
     "text": [
      "                   all         60        270      0.992          1      0.995      0.936      0.992          1      0.995      0.788\n",
      "\n",
      "      Epoch    GPU_mem   box_loss   seg_loss   cls_loss   dfl_loss  Instances       Size\n"
     ]
    },
    {
     "name": "stderr",
     "output_type": "stream",
     "text": [
      "    281/300      19.9G     0.4208     0.4598     0.2139      0.813         88       1280: 100%|██████████| 10/10 [00:03<00:00,  2.94it/s]\n",
      "                 Class     Images  Instances      Box(P          R      mAP50  mAP50-95)     Mask(P          R      mAP50  mAP50-95): 100%|██████████| 8/8 [00:01<00:00,  6.51it/s]\n"
     ]
    },
    {
     "name": "stdout",
     "output_type": "stream",
     "text": [
      "                   all         60        270      0.992          1      0.995      0.936      0.992          1      0.995      0.786\n",
      "\n",
      "      Epoch    GPU_mem   box_loss   seg_loss   cls_loss   dfl_loss  Instances       Size\n"
     ]
    },
    {
     "name": "stderr",
     "output_type": "stream",
     "text": [
      "  0%|          | 0/10 [00:00<?, ?it/s]/home/spuser/.conda/envs/yanpan/lib/python3.11/site-packages/ultralytics/data/augment.py:1143: RuntimeWarning: divide by zero encountered in divide\n",
      "  xy = xy[:, :2] / xy[:, 2:3]\n",
      "    282/300      19.7G     0.4024     0.4447     0.2086     0.8004         22       1280: 100%|██████████| 10/10 [00:03<00:00,  2.88it/s]\n",
      "                 Class     Images  Instances      Box(P          R      mAP50  mAP50-95)     Mask(P          R      mAP50  mAP50-95): 100%|██████████| 8/8 [00:01<00:00,  6.55it/s]\n"
     ]
    },
    {
     "name": "stdout",
     "output_type": "stream",
     "text": [
      "                   all         60        270      0.992          1      0.995      0.934      0.992          1      0.995       0.79\n",
      "\n",
      "      Epoch    GPU_mem   box_loss   seg_loss   cls_loss   dfl_loss  Instances       Size\n"
     ]
    },
    {
     "name": "stderr",
     "output_type": "stream",
     "text": [
      "    283/300      20.1G      0.377     0.4066     0.2039     0.8011         36       1280: 100%|██████████| 10/10 [00:03<00:00,  2.91it/s]\n",
      "                 Class     Images  Instances      Box(P          R      mAP50  mAP50-95)     Mask(P          R      mAP50  mAP50-95): 100%|██████████| 8/8 [00:01<00:00,  6.57it/s]\n"
     ]
    },
    {
     "name": "stdout",
     "output_type": "stream",
     "text": [
      "                   all         60        270      0.992          1      0.995      0.937      0.992          1      0.995      0.796\n",
      "\n",
      "      Epoch    GPU_mem   box_loss   seg_loss   cls_loss   dfl_loss  Instances       Size\n"
     ]
    },
    {
     "name": "stderr",
     "output_type": "stream",
     "text": [
      "    284/300      19.4G     0.3724     0.4476     0.1993     0.8068         55       1280: 100%|██████████| 10/10 [00:03<00:00,  2.89it/s]\n",
      "                 Class     Images  Instances      Box(P          R      mAP50  mAP50-95)     Mask(P          R      mAP50  mAP50-95): 100%|██████████| 8/8 [00:01<00:00,  6.57it/s]\n"
     ]
    },
    {
     "name": "stdout",
     "output_type": "stream",
     "text": [
      "                   all         60        270      0.992          1      0.995      0.937      0.992          1      0.995      0.796\n",
      "\n",
      "      Epoch    GPU_mem   box_loss   seg_loss   cls_loss   dfl_loss  Instances       Size\n"
     ]
    },
    {
     "name": "stderr",
     "output_type": "stream",
     "text": [
      "    285/300      19.8G     0.3886     0.4276     0.2048     0.7945         49       1280: 100%|██████████| 10/10 [00:03<00:00,  2.92it/s]\n",
      "                 Class     Images  Instances      Box(P          R      mAP50  mAP50-95)     Mask(P          R      mAP50  mAP50-95): 100%|██████████| 8/8 [00:01<00:00,  6.50it/s]\n"
     ]
    },
    {
     "name": "stdout",
     "output_type": "stream",
     "text": [
      "                   all         60        270      0.992          1      0.995      0.936      0.992          1      0.995      0.795\n",
      "\n",
      "      Epoch    GPU_mem   box_loss   seg_loss   cls_loss   dfl_loss  Instances       Size\n"
     ]
    },
    {
     "name": "stderr",
     "output_type": "stream",
     "text": [
      "    286/300      19.4G     0.4014     0.4453     0.2081     0.8066         55       1280: 100%|██████████| 10/10 [00:03<00:00,  2.90it/s]\n",
      "                 Class     Images  Instances      Box(P          R      mAP50  mAP50-95)     Mask(P          R      mAP50  mAP50-95): 100%|██████████| 8/8 [00:01<00:00,  6.56it/s]\n"
     ]
    },
    {
     "name": "stdout",
     "output_type": "stream",
     "text": [
      "                   all         60        270      0.992          1      0.995      0.932      0.992          1      0.995      0.793\n",
      "\n",
      "      Epoch    GPU_mem   box_loss   seg_loss   cls_loss   dfl_loss  Instances       Size\n"
     ]
    },
    {
     "name": "stderr",
     "output_type": "stream",
     "text": [
      "    287/300        20G     0.4172     0.4895     0.2094     0.8126         64       1280: 100%|██████████| 10/10 [00:03<00:00,  2.94it/s]\n",
      "                 Class     Images  Instances      Box(P          R      mAP50  mAP50-95)     Mask(P          R      mAP50  mAP50-95): 100%|██████████| 8/8 [00:01<00:00,  6.39it/s]\n"
     ]
    },
    {
     "name": "stdout",
     "output_type": "stream",
     "text": [
      "                   all         60        270      0.992          1      0.995      0.935      0.992          1      0.995      0.794\n",
      "\n",
      "      Epoch    GPU_mem   box_loss   seg_loss   cls_loss   dfl_loss  Instances       Size\n"
     ]
    },
    {
     "name": "stderr",
     "output_type": "stream",
     "text": [
      "    288/300      19.4G     0.3905     0.4878     0.2047     0.8049         43       1280: 100%|██████████| 10/10 [00:03<00:00,  2.89it/s]\n",
      "                 Class     Images  Instances      Box(P          R      mAP50  mAP50-95)     Mask(P          R      mAP50  mAP50-95): 100%|██████████| 8/8 [00:01<00:00,  6.24it/s]\n"
     ]
    },
    {
     "name": "stdout",
     "output_type": "stream",
     "text": [
      "                   all         60        270      0.992          1      0.995      0.938      0.992          1      0.995      0.796\n",
      "\n",
      "      Epoch    GPU_mem   box_loss   seg_loss   cls_loss   dfl_loss  Instances       Size\n"
     ]
    },
    {
     "name": "stderr",
     "output_type": "stream",
     "text": [
      "    289/300      20.2G     0.4042     0.4873     0.2126     0.7985         60       1280: 100%|██████████| 10/10 [00:03<00:00,  2.91it/s]\n",
      "                 Class     Images  Instances      Box(P          R      mAP50  mAP50-95)     Mask(P          R      mAP50  mAP50-95): 100%|██████████| 8/8 [00:01<00:00,  6.52it/s]\n"
     ]
    },
    {
     "name": "stdout",
     "output_type": "stream",
     "text": [
      "                   all         60        270      0.992          1      0.995      0.937      0.992          1      0.995        0.8\n",
      "\n",
      "      Epoch    GPU_mem   box_loss   seg_loss   cls_loss   dfl_loss  Instances       Size\n"
     ]
    },
    {
     "name": "stderr",
     "output_type": "stream",
     "text": [
      "    290/300      19.6G     0.4132     0.4937     0.2156     0.8298         87       1280: 100%|██████████| 10/10 [00:03<00:00,  2.89it/s]\n",
      "                 Class     Images  Instances      Box(P          R      mAP50  mAP50-95)     Mask(P          R      mAP50  mAP50-95): 100%|██████████| 8/8 [00:01<00:00,  6.56it/s]\n"
     ]
    },
    {
     "name": "stdout",
     "output_type": "stream",
     "text": [
      "                   all         60        270      0.992          1      0.995      0.941      0.992          1      0.995        0.8\n",
      "Closing dataloader mosaic\n",
      "\n",
      "      Epoch    GPU_mem   box_loss   seg_loss   cls_loss   dfl_loss  Instances       Size\n"
     ]
    },
    {
     "name": "stderr",
     "output_type": "stream",
     "text": [
      "    291/300      19.5G      0.374      0.445      0.205     0.7998         11       1280: 100%|██████████| 10/10 [00:03<00:00,  2.50it/s]\n",
      "                 Class     Images  Instances      Box(P          R      mAP50  mAP50-95)     Mask(P          R      mAP50  mAP50-95): 100%|██████████| 8/8 [00:01<00:00,  6.39it/s]\n"
     ]
    },
    {
     "name": "stdout",
     "output_type": "stream",
     "text": [
      "                   all         60        270      0.992          1      0.995      0.943      0.992          1      0.995      0.797\n",
      "\n",
      "      Epoch    GPU_mem   box_loss   seg_loss   cls_loss   dfl_loss  Instances       Size\n"
     ]
    },
    {
     "name": "stderr",
     "output_type": "stream",
     "text": [
      "    292/300      19.2G     0.3931     0.4866      0.201     0.8367         12       1280: 100%|██████████| 10/10 [00:03<00:00,  2.97it/s]\n",
      "                 Class     Images  Instances      Box(P          R      mAP50  mAP50-95)     Mask(P          R      mAP50  mAP50-95): 100%|██████████| 8/8 [00:01<00:00,  6.50it/s]\n"
     ]
    },
    {
     "name": "stdout",
     "output_type": "stream",
     "text": [
      "                   all         60        270      0.992          1      0.995      0.948      0.992          1      0.995      0.788\n",
      "\n",
      "      Epoch    GPU_mem   box_loss   seg_loss   cls_loss   dfl_loss  Instances       Size\n"
     ]
    },
    {
     "name": "stderr",
     "output_type": "stream",
     "text": [
      "    293/300      19.4G     0.3972     0.4461     0.1943     0.8052         11       1280: 100%|██████████| 10/10 [00:03<00:00,  3.02it/s]\n",
      "                 Class     Images  Instances      Box(P          R      mAP50  mAP50-95)     Mask(P          R      mAP50  mAP50-95): 100%|██████████| 8/8 [00:01<00:00,  6.53it/s]\n"
     ]
    },
    {
     "name": "stdout",
     "output_type": "stream",
     "text": [
      "                   all         60        270      0.992          1      0.995      0.948      0.992          1      0.995       0.79\n",
      "\n",
      "      Epoch    GPU_mem   box_loss   seg_loss   cls_loss   dfl_loss  Instances       Size\n"
     ]
    },
    {
     "name": "stderr",
     "output_type": "stream",
     "text": [
      "    294/300      19.1G     0.3729     0.4596     0.1871     0.8088         10       1280: 100%|██████████| 10/10 [00:03<00:00,  2.99it/s]\n",
      "                 Class     Images  Instances      Box(P          R      mAP50  mAP50-95)     Mask(P          R      mAP50  mAP50-95): 100%|██████████| 8/8 [00:01<00:00,  6.46it/s]\n"
     ]
    },
    {
     "name": "stdout",
     "output_type": "stream",
     "text": [
      "                   all         60        270      0.991          1      0.993      0.941      0.991          1      0.993      0.797\n",
      "\n",
      "      Epoch    GPU_mem   box_loss   seg_loss   cls_loss   dfl_loss  Instances       Size\n"
     ]
    },
    {
     "name": "stderr",
     "output_type": "stream",
     "text": [
      "    295/300      19.5G     0.3859     0.4782     0.1928      0.803         11       1280: 100%|██████████| 10/10 [00:03<00:00,  3.02it/s]\n",
      "                 Class     Images  Instances      Box(P          R      mAP50  mAP50-95)     Mask(P          R      mAP50  mAP50-95): 100%|██████████| 8/8 [00:01<00:00,  6.41it/s]\n"
     ]
    },
    {
     "name": "stdout",
     "output_type": "stream",
     "text": [
      "                   all         60        270      0.991          1      0.994      0.941      0.991          1      0.994      0.802\n",
      "\n",
      "      Epoch    GPU_mem   box_loss   seg_loss   cls_loss   dfl_loss  Instances       Size\n"
     ]
    },
    {
     "name": "stderr",
     "output_type": "stream",
     "text": [
      "    296/300      19.1G     0.3687     0.4275     0.1868     0.8141         13       1280: 100%|██████████| 10/10 [00:03<00:00,  2.98it/s]\n",
      "                 Class     Images  Instances      Box(P          R      mAP50  mAP50-95)     Mask(P          R      mAP50  mAP50-95): 100%|██████████| 8/8 [00:01<00:00,  6.30it/s]\n"
     ]
    },
    {
     "name": "stdout",
     "output_type": "stream",
     "text": [
      "                   all         60        270      0.992          1      0.993       0.94      0.992          1      0.993        0.8\n",
      "\n",
      "      Epoch    GPU_mem   box_loss   seg_loss   cls_loss   dfl_loss  Instances       Size\n"
     ]
    },
    {
     "name": "stderr",
     "output_type": "stream",
     "text": [
      "    297/300      19.5G      0.387     0.4658     0.1995     0.8182         11       1280: 100%|██████████| 10/10 [00:03<00:00,  2.99it/s]\n",
      "                 Class     Images  Instances      Box(P          R      mAP50  mAP50-95)     Mask(P          R      mAP50  mAP50-95): 100%|██████████| 8/8 [00:01<00:00,  6.59it/s]\n"
     ]
    },
    {
     "name": "stdout",
     "output_type": "stream",
     "text": [
      "                   all         60        270      0.992          1      0.993      0.942      0.992          1      0.993      0.793\n",
      "\n",
      "      Epoch    GPU_mem   box_loss   seg_loss   cls_loss   dfl_loss  Instances       Size\n"
     ]
    },
    {
     "name": "stderr",
     "output_type": "stream",
     "text": [
      "    298/300      19.1G     0.3669     0.4353     0.1852     0.8166         13       1280: 100%|██████████| 10/10 [00:03<00:00,  2.94it/s]\n",
      "                 Class     Images  Instances      Box(P          R      mAP50  mAP50-95)     Mask(P          R      mAP50  mAP50-95): 100%|██████████| 8/8 [00:01<00:00,  6.55it/s]\n"
     ]
    },
    {
     "name": "stdout",
     "output_type": "stream",
     "text": [
      "                   all         60        270      0.992          1      0.994      0.944      0.992          1      0.994      0.794\n",
      "\n",
      "      Epoch    GPU_mem   box_loss   seg_loss   cls_loss   dfl_loss  Instances       Size\n"
     ]
    },
    {
     "name": "stderr",
     "output_type": "stream",
     "text": [
      "    299/300      19.5G     0.3671     0.4472     0.1824     0.8203         11       1280: 100%|██████████| 10/10 [00:03<00:00,  2.96it/s]\n",
      "                 Class     Images  Instances      Box(P          R      mAP50  mAP50-95)     Mask(P          R      mAP50  mAP50-95): 100%|██████████| 8/8 [00:01<00:00,  6.50it/s]\n"
     ]
    },
    {
     "name": "stdout",
     "output_type": "stream",
     "text": [
      "                   all         60        270      0.992          1      0.994      0.942      0.992          1      0.994      0.795\n",
      "\n",
      "      Epoch    GPU_mem   box_loss   seg_loss   cls_loss   dfl_loss  Instances       Size\n"
     ]
    },
    {
     "name": "stderr",
     "output_type": "stream",
     "text": [
      "    300/300      19.1G     0.3595     0.4311     0.1791     0.8215         12       1280: 100%|██████████| 10/10 [00:03<00:00,  2.99it/s]\n",
      "                 Class     Images  Instances      Box(P          R      mAP50  mAP50-95)     Mask(P          R      mAP50  mAP50-95): 100%|██████████| 8/8 [00:01<00:00,  6.54it/s]\n"
     ]
    },
    {
     "name": "stdout",
     "output_type": "stream",
     "text": [
      "                   all         60        270      0.992          1      0.994      0.941      0.992          1      0.994      0.799\n",
      "\n",
      "300 epochs completed in 0.479 hours.\n",
      "Optimizer stripped from runs/segment/yolov11_WormCNN-HTT34/weights/last.pt, 124.9MB\n",
      "Optimizer stripped from runs/segment/yolov11_WormCNN-HTT34/weights/best.pt, 124.9MB\n",
      "\n",
      "Validating runs/segment/yolov11_WormCNN-HTT34/weights/best.pt...\n",
      "Ultralytics 8.3.36 🚀 Python-3.11.10 torch-2.5.1+cu124 CUDA:0 (NVIDIA GeForce RTX 4090, 24210MiB)\n",
      "                                                       CUDA:1 (NVIDIA GeForce RTX 4090, 24210MiB)\n",
      "                                                       CUDA:2 (NVIDIA GeForce RTX 4090, 24210MiB)\n",
      "                                                       CUDA:3 (NVIDIA GeForce RTX 4090, 24210MiB)\n",
      "YOLO11x-seg summary (fused): 491 layers, 62,003,283 parameters, 0 gradients, 318.5 GFLOPs\n"
     ]
    },
    {
     "name": "stderr",
     "output_type": "stream",
     "text": [
      "                 Class     Images  Instances      Box(P          R      mAP50  mAP50-95)     Mask(P          R      mAP50  mAP50-95): 100%|██████████| 8/8 [00:01<00:00,  5.73it/s]\n"
     ]
    },
    {
     "name": "stdout",
     "output_type": "stream",
     "text": [
      "                   all         60        270      0.991          1      0.994      0.941      0.991          1      0.994      0.801\n",
      "Speed: 0.7ms preprocess, 15.2ms inference, 0.0ms loss, 0.8ms postprocess per image\n",
      "Results saved to \u001b[1mruns/segment/yolov11_WormCNN-HTT34\u001b[0m\n"
     ]
    }
   ],
   "source": [
    "from ultralytics import YOLO\n",
    "\n",
    "# 加载预训练的YOLOv11分割模型\n",
    "model = YOLO('yolo11x-seg')\n",
    "\n",
    "results = model.train(\n",
    "    data='./data.yaml',\n",
    "    device=[0,1,2,3],\n",
    "    epochs=300,\n",
    "    imgsz=1280,\n",
    "    batch=16,\n",
    "    lr0=0.001,\n",
    "    name='yolov11_WormCNN-HTT',\n",
    "    project='runs/segment',\n",
    "    task='segment',\n",
    "    mosaic=True,\n",
    "    mixup=0.2,                # 提高 mixup 强度\n",
    "    fliplr=0.5,\n",
    "    hsv_h=0.02,               # 色调变换范围\n",
    "    hsv_s=0.8,                # 饱和度缩放范围\n",
    "    hsv_v=0.4,                # 明度缩放范围\n",
    "    degrees=10,               # 随机旋转范围\n",
    "    translate=0.2,            # 平移范围\n",
    "    scale=0.5,                # 随机缩放范围\n",
    "    # shear=10,                 # 剪切范围\n",
    "    perspective=0.001,        # 透视变化\n",
    "    flipud=0.1,               # 上下翻转概率\n",
    "    copy_paste=True           # 启用 Copy-Paste 数据增强\n",
    ")\n"
   ]
  },
  {
   "cell_type": "code",
   "execution_count": 3,
   "metadata": {},
   "outputs": [
    {
     "name": "stdout",
     "output_type": "stream",
     "text": [
      "Ultralytics 8.3.36 🚀 Python-3.11.10 torch-2.5.1+cu124 CUDA:0 (NVIDIA GeForce RTX 4090, 24210MiB)\n",
      "YOLO11x-seg summary (fused): 491 layers, 62,003,283 parameters, 0 gradients, 318.5 GFLOPs\n"
     ]
    },
    {
     "name": "stderr",
     "output_type": "stream",
     "text": [
      "\u001b[34m\u001b[1mval: \u001b[0mScanning /data/yan/track/datasets/val/labels.cache... 60 images, 0 backgrounds, 0 corrupt: 100%|██████████| 60/60 [00:00<?, ?it/s]\n",
      "                 Class     Images  Instances      Box(P          R      mAP50  mAP50-95)     Mask(P          R      mAP50  mAP50-95): 100%|██████████| 4/4 [00:02<00:00,  1.59it/s]\n"
     ]
    },
    {
     "name": "stdout",
     "output_type": "stream",
     "text": [
      "                   all         60        270      0.991          1      0.993      0.946      0.991          1      0.993      0.787\n",
      "Speed: 0.3ms preprocess, 30.2ms inference, 0.0ms loss, 4.8ms postprocess per image\n",
      "Results saved to \u001b[1mruns/segment/val10\u001b[0m\n"
     ]
    },
    {
     "data": {
      "text/plain": [
       "array([    0.78693])"
      ]
     },
     "execution_count": 3,
     "metadata": {},
     "output_type": "execute_result"
    }
   ],
   "source": [
    "from ultralytics import YOLO\n",
    "model = YOLO(\"/data/yan/track/runs/segment/yolov11_WormCNN-HTT34/weights/best.pt\")  # load a custom model\n",
    "\n",
    "# Validate the model\n",
    "metrics = model.val()  # no arguments needed, dataset and settings remembered\n",
    "metrics.box.map  # map50-95(B)\n",
    "metrics.box.map50  # map50(B)\n",
    "metrics.box.map75  # map75(B)\n",
    "metrics.box.maps  # a list contains map50-95(B) of each category\n",
    "metrics.seg.map  # map50-95(M)\n",
    "metrics.seg.map50  # map50(M)\n",
    "metrics.seg.map75  # map75(M)\n",
    "metrics.seg.maps  # a list contains map50-95(M) of each category\n",
    "\n"
   ]
  },
  {
   "cell_type": "code",
   "execution_count": null,
   "metadata": {},
   "outputs": [],
   "source": [
    "from ultralytics import YOLO\n",
    "import cv2\n",
    "import numpy as np\n",
    "from scipy.spatial.distance import cdist\n",
    "from scipy.optimize import linear_sum_assignment\n",
    "from collections import defaultdict\n",
    "import csv\n",
    "\n",
    "\n",
    "video_path = \"/data/yan/track/vedio/TS-20241123220321351.avi\"\n",
    "cap = cv2.VideoCapture(video_path)\n",
    "\n",
    "if cap.isOpened():\n",
    "    frame_width = int(cap.get(cv2.CAP_PROP_FRAME_WIDTH))\n",
    "    frame_height = int(cap.get(cv2.CAP_PROP_FRAME_HEIGHT))\n",
    "    print(f\"Video Resolution: Width={frame_width}, Height={frame_height}\")\n",
    "else:\n",
    "    print(\"Error: Cannot open video.\")\n",
    "\n",
    "\n",
    "# 初始化轨迹存储\n",
    "# Initialize variables\n",
    "trajectories = defaultdict(list)  # {worm_id: [(frame, x, y), ...]}\n",
    "next_worm_id = 0\n",
    "worm_positions = {}  # {worm_id: (x, y)}\n",
    "\n",
    "# Distance threshold (pixels)\n",
    "base_distance_threshold = 50\n",
    "\n",
    "# Exponential smoothing parameter\n",
    "alpha = 0.1  # Smoothing factor between 0.0 and 1.0\n",
    "\n",
    "def smooth_coordinates(worm_id, new_x, new_y):\n",
    "    \"\"\"Smooth coordinates to reduce jitter.\"\"\"\n",
    "    if worm_id in worm_positions:\n",
    "        prev_x, prev_y = worm_positions[worm_id]\n",
    "        smoothed_x = alpha * prev_x + (1 - alpha) * new_x\n",
    "        smoothed_y = alpha * prev_y + (1 - alpha) * new_y\n",
    "        return int(smoothed_x), int(smoothed_y)\n",
    "    else:\n",
    "        return new_x, new_y\n",
    "\n",
    "# Process video frames\n",
    "results = model.predict(\n",
    "    video_path,\n",
    "    line_width=4,\n",
    "    #save=True,\n",
    "    imgsz=1280,\n",
    "    conf=0.5,\n",
    "    #save_frames=True,\n",
    "    #save_txt=True,\n",
    "    stream=True,\n",
    ")\n",
    "\n",
    "for frame_idx, result in enumerate(results):\n",
    "    print(f\"Processing Frame {frame_idx}...\")\n",
    "    current_centroids = []\n",
    "\n",
    "    # Check if there are segmentation results\n",
    "    if result.masks is None or len(result.masks.data) == 0:\n",
    "        print(f\"No masks detected in Frame {frame_idx}.\")\n",
    "        worm_positions.clear()  # Clear positions if no worms are detected\n",
    "        continue\n",
    "\n",
    "\n",
    "    masks = result.masks.data\n",
    "    for mask in masks:\n",
    "        mask_numpy = mask.cpu().numpy().astype('uint8')  # 转换为 numpy 格式\n",
    "        moments = cv2.moments(mask_numpy)  # 计算图像的矩\n",
    "        if moments[\"m00\"] != 0:  # 确保区域有非零面积\n",
    "            cx = int(moments[\"m10\"] / moments[\"m00\"])  # 计算质心 x 坐标\n",
    "            cy = int(moments[\"m01\"] / moments[\"m00\"])  # 计算质心 y 坐标\n",
    "            \n",
    "            # 校正质心坐标\n",
    "            cx_corrected = int(cx * (frame_width / 1280))  # 按比例校正 X\n",
    "            cy_corrected = int(cy * (frame_height / 960))  # 按比例校正 Y\n",
    "            \n",
    "            current_centroids.append((cx_corrected, cy_corrected))  # 存入校正后的质心\n",
    "\n",
    "\n",
    "    if frame_idx == 0:\n",
    "        # Initialize worm positions and trajectories\n",
    "        for centroid in current_centroids:\n",
    "            worm_positions[next_worm_id] = centroid\n",
    "            trajectories[next_worm_id].append((frame_idx, *centroid))\n",
    "            next_worm_id += 1\n",
    "    else:\n",
    "        # Previous worm IDs and positions\n",
    "        prev_worm_ids = list(worm_positions.keys())\n",
    "        prev_positions = [worm_positions[wid] for wid in prev_worm_ids]\n",
    "\n",
    "        # Compute distance matrix\n",
    "        distances = cdist(prev_positions, current_centroids)\n",
    "\n",
    "        # Use Hungarian algorithm for optimal assignment\n",
    "        row_indices, col_indices = linear_sum_assignment(distances)\n",
    "\n",
    "        matched_worm_ids = set()\n",
    "        matched_cols = set()\n",
    "\n",
    "        for row, col in zip(row_indices, col_indices):\n",
    "            distance = distances[row, col]\n",
    "            if distance < base_distance_threshold:\n",
    "                worm_id = prev_worm_ids[row]\n",
    "                centroid = current_centroids[col]\n",
    "                smoothed_x, smoothed_y = smooth_coordinates(worm_id, *centroid)\n",
    "                worm_positions[worm_id] = (smoothed_x, smoothed_y)\n",
    "                trajectories[worm_id].append((frame_idx, smoothed_x, smoothed_y))\n",
    "                matched_worm_ids.add(worm_id)\n",
    "                matched_cols.add(col)\n",
    "            else:\n",
    "                # Distance too large, do not match\n",
    "                pass\n",
    "\n",
    "        # Remove unmatched previous worm IDs (optional: keep for a few frames)\n",
    "        unmatched_worm_ids = set(prev_worm_ids) - matched_worm_ids\n",
    "        for worm_id in unmatched_worm_ids:\n",
    "            del worm_positions[worm_id]\n",
    "\n",
    "        # Assign new IDs to unmatched current centroids\n",
    "        for idx, centroid in enumerate(current_centroids):\n",
    "            if idx not in matched_cols:\n",
    "                worm_id = next_worm_id\n",
    "                smoothed_x, smoothed_y = smooth_coordinates(worm_id, *centroid)\n",
    "                worm_positions[worm_id] = (smoothed_x, smoothed_y)\n",
    "                trajectories[worm_id].append((frame_idx, smoothed_x, smoothed_y))\n",
    "                next_worm_id += 1\n",
    "\n",
    "\n",
    "\n",
    "# 保存轨迹数据\n",
    "import csv\n",
    "\n",
    "with open(\"./results/test_worm_trajectories.csv\", \"w\", newline=\"\") as csvfile:\n",
    "    writer = csv.writer(csvfile)\n",
    "    writer.writerow([\"WormID\", \"Frame\", \"X\", \"Y\"])\n",
    "    for worm_id, trajectory in trajectories.items():\n",
    "        for frame_idx, x, y in trajectory:\n",
    "            writer.writerow([worm_id, frame_idx, x, y])\n",
    "\n",
    "\n",
    "print(\"Trajectories saved to '.csv'.\")\n",
    "\n",
    "\n"
   ]
  },
  {
   "cell_type": "code",
   "execution_count": null,
   "metadata": {},
   "outputs": [],
   "source": [
    "import pandas as pd\n",
    "import cv2\n",
    "import imageio\n",
    "import numpy as np\n",
    "from PIL import Image\n",
    "\n",
    "# 参数设置\n",
    "video_path = \"/data/yan/track/vedio/TS-20241123220934961.avi\"  # 视频文件路径\n",
    "csv_file = \"/data/yan/track/results/test_worm_trajectories.csv\"  # 轨迹数据文件\n",
    "output_gif_no_trace = \"./results/test_worm_no_trace.gif\"  # 输出 GIF（无轨迹）文件名\n",
    "output_gif_with_trace = \"./results/test_worm_with_trace.gif\"  # 输出 GIF（实时轨迹）文件名\n",
    "\n",
    "# 定义目标分辨率\n",
    "target_width, target_height = 400, 300  \n",
    "\n",
    "# 定义采样率\n",
    "sampling_rate = 2  # 每隔一帧处理一次\n",
    "\n",
    "# 读取轨迹数据\n",
    "data = pd.read_csv(csv_file)\n",
    "\n",
    "# 提取帧数范围\n",
    "max_frame = data[\"Frame\"].max()\n",
    "\n",
    "# 打开视频以提取背景帧\n",
    "cap = cv2.VideoCapture(video_path)\n",
    "if not cap.isOpened():\n",
    "    print(\"Error: Cannot open video.\")\n",
    "    exit()\n",
    "\n",
    "# 获取原始视频帧大小\n",
    "original_width = int(cap.get(cv2.CAP_PROP_FRAME_WIDTH))\n",
    "original_height = int(cap.get(cv2.CAP_PROP_FRAME_HEIGHT))\n",
    "print(f\"Original Video Resolution: Width={original_width}, Height={original_height}\")\n",
    "\n",
    "# 初始化 GIF 帧列表\n",
    "frames_no_trace = []  # 无轨迹的帧\n",
    "frames_with_trace = []  # 实时轨迹的帧\n",
    "\n",
    "# 初始化轨迹记录\n",
    "worm_traces = {worm_id: [] for worm_id in data[\"WormID\"].unique()}\n",
    "\n",
    "# 处理每一帧\n",
    "for frame_idx in range(max_frame + 1):\n",
    "    if frame_idx % sampling_rate != 0:\n",
    "        # 跳过当前帧\n",
    "        ret = cap.grab()\n",
    "        if not ret:\n",
    "            print(f\"End of video reached at frame {frame_idx}.\")\n",
    "            break\n",
    "        continue\n",
    "\n",
    "    # 读取视频帧\n",
    "    ret, frame = cap.read()\n",
    "    if not ret:\n",
    "        print(f\"End of video reached at frame {frame_idx}.\")\n",
    "        break\n",
    "\n",
    "    # 调整帧大小到目标分辨率\n",
    "    frame = cv2.resize(frame, (target_width, target_height))\n",
    "\n",
    "    # 提取当前帧的轨迹点\n",
    "    current_data = data[data[\"Frame\"] == frame_idx]\n",
    "\n",
    "    # 绘制无轨迹的帧\n",
    "    frame_no_trace = frame.copy()\n",
    "\n",
    "    # 在帧上绘制轨迹\n",
    "    for _, row in current_data.iterrows():\n",
    "        worm_id = int(row[\"WormID\"])\n",
    "        x, y = int(row[\"X\"]), int(row[\"Y\"])\n",
    "        # 根据新的分辨率调整坐标\n",
    "        x_resized = int(x * target_width / original_width)\n",
    "        y_resized = int(y * target_height / original_height)\n",
    "        # 根据 WormID 生成颜色\n",
    "        color = (worm_id * 50 % 256, worm_id * 80 % 256, worm_id * 100 % 256)\n",
    "        # 绘制小圆点表示质心\n",
    "        cv2.circle(frame_no_trace, (x_resized, y_resized), 3, color, -1)  # 当前帧质心\n",
    "        cv2.putText(frame_no_trace, f\"Worm {worm_id}\", (x_resized + 5, y_resized - 5),\n",
    "                    cv2.FONT_HERSHEY_SIMPLEX, 0.4, color, 1)  # 标注 WormID\n",
    "\n",
    "        # 更新轨迹\n",
    "        worm_traces[worm_id].append((x_resized, y_resized))\n",
    "\n",
    "        # 绘制实时轨迹\n",
    "        for trace_point in worm_traces[worm_id]:\n",
    "            cv2.circle(frame, trace_point, 1, color, -1)\n",
    "\n",
    "        # 在实时轨迹图上标注 WormID\n",
    "        cv2.putText(frame, f\"Worm {worm_id}\", (x_resized + 5, y_resized - 5),\n",
    "                    cv2.FONT_HERSHEY_SIMPLEX, 0.4, color, 1)\n",
    "\n",
    "    # 在帧上添加帧号\n",
    "    cv2.putText(frame_no_trace, f\"Frame: {frame_idx}\", (10, 30),\n",
    "                cv2.FONT_HERSHEY_SIMPLEX, 0.8, (255, 255, 255), 2)\n",
    "    cv2.putText(frame, f\"Frame: {frame_idx}\", (10, 30),\n",
    "                cv2.FONT_HERSHEY_SIMPLEX, 0.8, (255, 255, 255), 2)\n",
    "\n",
    "    # 转为 RGB 格式（OpenCV 默认是 BGR）\n",
    "    frames_no_trace.append(cv2.cvtColor(frame_no_trace, cv2.COLOR_BGR2RGB))\n",
    "    frames_with_trace.append(cv2.cvtColor(frame, cv2.COLOR_BGR2RGB))\n",
    "\n",
    "# 释放视频捕捉对象\n",
    "cap.release()\n",
    "\n",
    "# 生成 GIF\n",
    "imageio.mimsave(output_gif_no_trace, frames_no_trace, fps=5)  # 无轨迹\n",
    "imageio.mimsave(output_gif_with_trace, frames_with_trace, fps=5)  # 实时轨迹\n",
    "print(f\"GIFs saved: '{output_gif_no_trace}' and '{output_gif_with_trace}'\")\n"
   ]
  },
  {
   "cell_type": "code",
   "execution_count": null,
   "metadata": {},
   "outputs": [],
   "source": [
    "import pandas as pd\n",
    "import matplotlib.pyplot as plt\n",
    "\n",
    "# 加载轨迹数据\n",
    "file_path = \"day1_worm_trajectories.csv\"  # 确保路径正确\n",
    "data = pd.read_csv(file_path)\n",
    "\n",
    "# 检查数据格式\n",
    "if 'WormID' not in data.columns or 'Frame' not in data.columns or 'X' not in data.columns or 'Y' not in data.columns:\n",
    "    raise ValueError(\"CSV文件缺少必要列: WormID, Frame, X, Y\")\n",
    "\n",
    "# 选择前6个 WormID\n",
    "selected_worms = data['WormID'].unique()[:6]\n",
    "\n",
    "# 创建子图\n",
    "fig, axes = plt.subplots(2, 3, figsize=(18, 12))\n",
    "axes = axes.flatten()\n",
    "\n",
    "# 绘制每个 Worm 的轨迹\n",
    "for i, worm_id in enumerate(selected_worms):\n",
    "    worm_data = data[data['WormID'] == worm_id]\n",
    "    ax = axes[i]\n",
    "    scatter = ax.scatter(\n",
    "        worm_data['X'], worm_data['Y'], c=worm_data['Frame'], cmap='plasma', s=0.4, alpha=0.8\n",
    "    )\n",
    "    ax.set_title(f\"Worm {worm_id} Trajectory\", fontsize=14)\n",
    "    ax.set_xlim(0, 1600)  # 设置横轴范围\n",
    "    ax.set_ylim(0, 1200)  # 设置纵轴范围\n",
    "    ax.set_xlabel(\"X Coordinate\", fontsize=12)\n",
    "    ax.set_ylabel(\"Y Coordinate\", fontsize=12)\n",
    "    ax.grid(alpha=0.3)\n",
    "    fig.colorbar(scatter, ax=ax, orientation='vertical', label='Frame (Time)')\n",
    "\n",
    "# 调整布局并保存\n",
    "plt.tight_layout()\n",
    "output_path = \"day1_worm_trajectories_grouped.png\"\n",
    "plt.savefig(output_path,dpi=600)\n",
    "plt.close()\n",
    "\n",
    "print(f\"组图已成功保存至 {output_path}\")\n"
   ]
  },
  {
   "cell_type": "code",
   "execution_count": null,
   "metadata": {},
   "outputs": [],
   "source": [
    "import cv2\n",
    "import os\n",
    "import glob\n",
    "\n",
    "def create_video_from_images(image_dir, output_video_path, fps=30):\n",
    "    # 获取目录中所有的 .jpg 文件，并按文件名中的数字排序\n",
    "    image_files = sorted(glob.glob(os.path.join(image_dir, \"*.jpg\")), key=lambda x: int(os.path.splitext(os.path.basename(x))[0]))\n",
    "\n",
    "    if not image_files:\n",
    "        raise FileNotFoundError(f\"没有找到任何 .jpg 文件: {image_dir}\")\n",
    "\n",
    "    # 读取第一张图片以获取图像尺寸\n",
    "    first_image = cv2.imread(image_files[0])\n",
    "    height, width, layers = first_image.shape\n",
    "\n",
    "    # 定义视频编码器和输出文件\n",
    "    fourcc = cv2.VideoWriter_fourcc(*'mp4v')  # 使用 MP4 编码\n",
    "    video = cv2.VideoWriter(output_video_path, fourcc, fps, (width, height))\n",
    "\n",
    "    # 将所有图片写入视频\n",
    "    for image_file in image_files:\n",
    "        img = cv2.imread(image_file)\n",
    "        if img is None:\n",
    "            print(f\"无法读取图像文件: {image_file}\")\n",
    "            continue\n",
    "        video.write(img)\n",
    "\n",
    "    # 释放资源\n",
    "    video.release()\n",
    "    print(f\"视频已创建并保存到: {output_video_path}\")\n",
    "\n",
    "if __name__ == \"__main__\":\n",
    "    # 指定包含 .jpg 文件的目录\n",
    "    image_directory = '/data/yan/track/runs/segment/predict4/TS-20241123220321351_frames'  # 替换为你的图像目录路径\n",
    "    # 指定输出视频文件路径\n",
    "    output_video_path = 'output_video.mp4'  # 替换为你希望保存视频的路径\n",
    "    # 创建视频\n",
    "    create_video_from_images(image_directory, output_video_path, fps=30)\n"
   ]
  },
  {
   "cell_type": "code",
   "execution_count": null,
   "metadata": {},
   "outputs": [],
   "source": []
  }
 ],
 "metadata": {
  "kernelspec": {
   "display_name": "yanpan",
   "language": "python",
   "name": "python3"
  },
  "language_info": {
   "codemirror_mode": {
    "name": "ipython",
    "version": 3
   },
   "file_extension": ".py",
   "mimetype": "text/x-python",
   "name": "python",
   "nbconvert_exporter": "python",
   "pygments_lexer": "ipython3",
   "version": "3.11.10"
  }
 },
 "nbformat": 4,
 "nbformat_minor": 2
}
