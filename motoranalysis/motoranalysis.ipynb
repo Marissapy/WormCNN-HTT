{
 "cells": [
  {
   "cell_type": "code",
   "execution_count": 3,
   "metadata": {},
   "outputs": [],
   "source": [
    "import numpy as np\n",
    "import pandas as pd\n",
    "import matplotlib.pyplot as plt\n",
    "\n",
    "suffix='day3'\n",
    "data = pd.read_csv(f'/data/yan/track/results/{suffix}_processed_trajectories.csv')\n",
    "\n",
    "# Group data by WormID\n",
    "grouped = data.groupby('WormID')\n"
   ]
  },
  {
   "cell_type": "code",
   "execution_count": 5,
   "metadata": {},
   "outputs": [],
   "source": [
    "# Create subplots for each WormID\n",
    "unique_worms = data['WormID'].unique()\n",
    "num_worms = len(unique_worms)\n",
    "fig, axes = plt.subplots(nrows=num_worms, ncols=2, figsize=(12, num_worms * 2), sharex=True)\n",
    "\n",
    "for i, worm_id in enumerate(unique_worms):\n",
    "    worm_data = data[data['WormID'] == worm_id]\n",
    "    \n",
    "    # Plot velocity over time\n",
    "    axes[i, 0].plot(worm_data['Frame'], worm_data['Centroid_Velocity'], label='Velocity', color='blue')\n",
    "    axes[i, 0].set_title(f'Worm {worm_id} - Velocity', fontsize=10)\n",
    "    axes[i, 0].set_xlabel('Frame')\n",
    "    axes[i, 0].set_ylabel('Velocity')\n",
    "    axes[i, 0].grid(True, linestyle='--', alpha=0.7)\n",
    "    \n",
    "    # Plot acceleration over time\n",
    "    axes[i, 1].plot(worm_data['Frame'], worm_data['Centroid_Acceleration'], label='Acceleration', color='red')\n",
    "    axes[i, 1].set_title(f'Worm {worm_id} - Acceleration', fontsize=10)\n",
    "    axes[i, 1].set_xlabel('Frame')\n",
    "    axes[i, 1].set_ylabel('Acceleration')\n",
    "    axes[i, 1].grid(True, linestyle='--', alpha=0.7)\n",
    "\n",
    "# Adjust layout\n",
    "fig.tight_layout()\n",
    "\n",
    "# Show the plot\n",
    "output_path = f\"./{suffix}_speed.png\"\n",
    "plt.savefig(output_path, dpi=600)\n",
    "plt.close()"
   ]
  }
 ],
 "metadata": {
  "kernelspec": {
   "display_name": "yanpan",
   "language": "python",
   "name": "python3"
  },
  "language_info": {
   "codemirror_mode": {
    "name": "ipython",
    "version": 3
   },
   "file_extension": ".py",
   "mimetype": "text/x-python",
   "name": "python",
   "nbconvert_exporter": "python",
   "pygments_lexer": "ipython3",
   "version": "3.11.10"
  }
 },
 "nbformat": 4,
 "nbformat_minor": 2
}
