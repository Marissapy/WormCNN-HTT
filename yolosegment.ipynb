{
 "cells": [
  {
   "cell_type": "code",
   "execution_count": 1,
   "metadata": {},
   "outputs": [
    {
     "name": "stderr",
     "output_type": "stream",
     "text": [
      "查找有标注和无标注的图片: 100%|██████████| 2184/2184 [00:00<00:00, 133636.19it/s]\n"
     ]
    },
    {
     "name": "stdout",
     "output_type": "stream",
     "text": [
      "找到 120 张有标注的图片。\n",
      "找到 2064 张无标注的图片。\n"
     ]
    },
    {
     "name": "stderr",
     "output_type": "stream",
     "text": [
      "复制训练集图片:   0%|          | 0/96 [00:00<?, ?it/s]"
     ]
    },
    {
     "name": "stderr",
     "output_type": "stream",
     "text": [
      "复制训练集图片: 100%|██████████| 96/96 [00:00<00:00, 700.13it/s]\n",
      "复制验证集图片: 100%|██████████| 24/24 [00:00<00:00, 726.05it/s]\n",
      "复制无标注的图片: 100%|██████████| 2064/2064 [00:01<00:00, 1057.21it/s]"
     ]
    },
    {
     "name": "stdout",
     "output_type": "stream",
     "text": [
      "训练集图片已复制到: datasets/train/images\n",
      "训练集标注文件已复制到: datasets/train/rawlabels\n",
      "验证集图片已复制到: datasets/val/images\n",
      "验证集标注文件已复制到: datasets/val/rawlabels\n",
      "无标注的图片已复制到: datasets/non_annotated_images\n"
     ]
    },
    {
     "name": "stderr",
     "output_type": "stream",
     "text": [
      "\n"
     ]
    }
   ],
   "source": [
    "# 导入必要的库\n",
    "import os\n",
    "import shutil\n",
    "import random\n",
    "from pathlib import Path\n",
    "from typing import List, Tuple\n",
    "from tqdm import tqdm\n",
    "def find_annotated_images(image_dir: str, annotation_dir: str, image_extensions: List[str] = ['.jpg','.tiff', '.jpeg', '.png', '.bmp']) -> Tuple[List[Path], List[Path]]:\n",
    "    \"\"\"\n",
    "    查找有标注和无标注的图片。\n",
    "\n",
    "    Args:\n",
    "        image_dir (str): 图片目录路径。\n",
    "        annotation_dir (str): 标注文件目录路径。\n",
    "        image_extensions (List[str], optional): 支持的图片扩展名列表。默认为 ['.jpg', '.jpeg', '.png', '.bmp']。\n",
    "\n",
    "    Returns:\n",
    "        Tuple[List[Path], List[Path]]: 有标注的图片路径列表和无标注的图片路径列表。\n",
    "    \"\"\"\n",
    "    image_dir = Path(image_dir)\n",
    "    annotation_dir = Path(annotation_dir)\n",
    "\n",
    "    # 收集所有图片文件\n",
    "    all_images = [p for p in image_dir.iterdir() if p.suffix.lower() in image_extensions and p.is_file()]\n",
    "\n",
    "    annotated_images = []\n",
    "    non_annotated_images = []\n",
    "\n",
    "    for img_path in tqdm(all_images, desc=\"查找有标注和无标注的图片\"):\n",
    "        # 假设标注文件与图片同名但扩展名为 .txt\n",
    "        label_path = annotation_dir / f\"{img_path.stem}.json\"\n",
    "        if label_path.exists():\n",
    "            annotated_images.append(img_path)\n",
    "        else:\n",
    "            non_annotated_images.append(img_path)\n",
    "\n",
    "    return annotated_images, non_annotated_images\n",
    "\n",
    "def split_data(annotated_images: List[Path], train_ratio: float = 0.8) -> Tuple[List[Path], List[Path]]:\n",
    "    \"\"\"\n",
    "    将有标注的图片随机划分为训练集和验证集。\n",
    "\n",
    "    Args:\n",
    "        annotated_images (List[Path]): 有标注的图片路径列表。\n",
    "        train_ratio (float, optional): 训练集比例。默认为 0.8。\n",
    "\n",
    "    Returns:\n",
    "        Tuple[List[Path], List[Path]]: 训练集图片路径列表和验证集图片路径列表。\n",
    "    \"\"\"\n",
    "    random.shuffle(annotated_images)\n",
    "    split_index = int(len(annotated_images) * train_ratio)\n",
    "    train_images = annotated_images[:split_index]\n",
    "    val_images = annotated_images[split_index:]\n",
    "    return train_images, val_images\n",
    "\n",
    "def organize_data(\n",
    "    image_dir: str,\n",
    "    annotation_dir: str,\n",
    "    output_dir: str,\n",
    "    annotated_images: List[Path],\n",
    "    non_annotated_images: List[Path],\n",
    "    train_ratio: float = 0.8\n",
    ") -> None:\n",
    "    \"\"\"\n",
    "    将图片和标注文件组织到不同的目录中，并划分训练集和验证集。\n",
    "\n",
    "    Args:\n",
    "        image_dir (str): 图片目录路径。\n",
    "        annotation_dir (str): 标注文件目录路径。\n",
    "        output_dir (str): 输出的组织后数据的目录路径。\n",
    "        annotated_images (List[Path]): 有标注的图片路径列表。\n",
    "        non_annotated_images (List[Path]): 无标注的图片路径列表。\n",
    "        train_ratio (float, optional): 训练集比例。默认为 0.8。\n",
    "    \"\"\"\n",
    "    image_dir = Path(image_dir)\n",
    "    annotation_dir = Path(annotation_dir)\n",
    "    output_dir = Path(output_dir)\n",
    "\n",
    "    train_images_dir = output_dir / 'train' / 'images'\n",
    "    train_labels_dir = output_dir / 'train' / 'rawlabels'\n",
    "    val_images_dir = output_dir / 'val' / 'images'\n",
    "    val_labels_dir = output_dir / 'val' / 'rawlabels'\n",
    "    non_annotated_images_dir = output_dir / 'non_annotated_images'\n",
    "\n",
    "    # 创建目标目录\n",
    "    train_images_dir.mkdir(parents=True, exist_ok=True)\n",
    "    train_labels_dir.mkdir(parents=True, exist_ok=True)\n",
    "    val_images_dir.mkdir(parents=True, exist_ok=True)\n",
    "    val_labels_dir.mkdir(parents=True, exist_ok=True)\n",
    "    non_annotated_images_dir.mkdir(parents=True, exist_ok=True)\n",
    "\n",
    "    # 划分训练集和验证集\n",
    "    train_images, val_images = split_data(annotated_images, train_ratio)\n",
    "\n",
    "    # 复制训练集\n",
    "    for img_path in tqdm(train_images, desc=\"复制训练集图片\"):\n",
    "        shutil.copy(img_path, train_images_dir / img_path.name)\n",
    "        label_path = annotation_dir / f\"{img_path.stem}.json\"\n",
    "        if label_path.exists():\n",
    "            shutil.copy(label_path, train_labels_dir / label_path.name)\n",
    "\n",
    "    # 复制验证集\n",
    "    for img_path in tqdm(val_images, desc=\"复制验证集图片\"):\n",
    "        shutil.copy(img_path, val_images_dir / img_path.name)\n",
    "        label_path = annotation_dir / f\"{img_path.stem}.json\"\n",
    "        if label_path.exists():\n",
    "            shutil.copy(label_path, val_labels_dir / label_path.name)\n",
    "\n",
    "    # 复制无标注的图片\n",
    "    for img_path in tqdm(non_annotated_images, desc=\"复制无标注的图片\"):\n",
    "        shutil.copy(img_path, non_annotated_images_dir / img_path.name)\n",
    "\n",
    "    print(f\"训练集图片已复制到: {train_images_dir}\")\n",
    "    print(f\"训练集标注文件已复制到: {train_labels_dir}\")\n",
    "    print(f\"验证集图片已复制到: {val_images_dir}\")\n",
    "    print(f\"验证集标注文件已复制到: {val_labels_dir}\")\n",
    "    print(f\"无标注的图片已复制到: {non_annotated_images_dir}\")\n",
    "\n",
    "\n",
    "# 设置目录路径\n",
    "image_dir = \"/data/yan/track/TS-20241123222043114.avi_frames\"          # 原始图片目录\n",
    "annotation_dir = \"/data/yan/track/TS-20241123222043114.avi_frames/annotations\"  # 标注文件目录\n",
    "output_dir = \"./datasets\"                                 # 输出数据集目录\n",
    "train_ratio = 0.8                                        # 训练集比例\n",
    "\n",
    "# 查找有标注和无标注的图片\n",
    "annotated_images, non_annotated_images = find_annotated_images(image_dir, annotation_dir)\n",
    "\n",
    "print(f\"找到 {len(annotated_images)} 张有标注的图片。\")\n",
    "print(f\"找到 {len(non_annotated_images)} 张无标注的图片。\")\n",
    "\n",
    "# 组织数据并划分训练集和验证集\n",
    "organize_data(\n",
    "    image_dir=image_dir,\n",
    "    annotation_dir=annotation_dir,\n",
    "    output_dir=output_dir,\n",
    "    annotated_images=annotated_images,\n",
    "    non_annotated_images=non_annotated_images,\n",
    "    train_ratio=train_ratio\n",
    ")\n"
   ]
  },
  {
   "cell_type": "code",
   "execution_count": 2,
   "metadata": {},
   "outputs": [
    {
     "name": "stderr",
     "output_type": "stream",
     "text": [
      "转换分割标注文件: 100%|██████████| 35/35 [00:00<00:00, 316.87it/s]\n"
     ]
    },
    {
     "name": "stdout",
     "output_type": "stream",
     "text": [
      "所有分割标注文件已转换并保存到 datasets/val/labels\n"
     ]
    },
    {
     "name": "stderr",
     "output_type": "stream",
     "text": [
      "转换分割标注文件: 100%|██████████| 107/107 [00:00<00:00, 337.50it/s]"
     ]
    },
    {
     "name": "stdout",
     "output_type": "stream",
     "text": [
      "所有分割标注文件已转换并保存到 datasets/train/labels\n"
     ]
    },
    {
     "name": "stderr",
     "output_type": "stream",
     "text": [
      "\n"
     ]
    }
   ],
   "source": [
    "import json\n",
    "from pathlib import Path\n",
    "from tqdm import tqdm\n",
    "\n",
    "def convert_labelme_to_yolo_segmentation(json_dir: str, output_dir: str, classes: list):\n",
    "    \"\"\"\n",
    "    将 Labelme 的 JSON 格式转化为 YOLO 分割格式。\n",
    "\n",
    "    Args:\n",
    "        json_dir (str): 存放 JSON 文件的目录。\n",
    "        output_dir (str): 存放 YOLO 格式标注文件的目录。\n",
    "        classes (list): 类别名称列表。\n",
    "    \"\"\"\n",
    "    json_dir = Path(json_dir)\n",
    "    output_dir = Path(output_dir)\n",
    "    output_dir.mkdir(parents=True, exist_ok=True)\n",
    "    \n",
    "    json_files = list(json_dir.glob(\"*.json\"))\n",
    "    \n",
    "    for json_file in tqdm(json_files, desc=\"转换分割标注文件\"):\n",
    "        with open(json_file, \"r\", encoding=\"utf-8\") as f:\n",
    "            data = json.load(f)\n",
    "        \n",
    "        img_width = data['imageWidth']\n",
    "        img_height = data['imageHeight']\n",
    "        yolo_annotations = []\n",
    "        \n",
    "        for shape in data['shapes']:\n",
    "            label = shape['label']\n",
    "            points = shape['points']\n",
    "            \n",
    "            # 归一化多边形点\n",
    "            normalized_points = [\n",
    "                f\"{point[0] / img_width:.6f} {point[1] / img_height:.6f}\" \n",
    "                for point in points\n",
    "            ]\n",
    "            \n",
    "            if label in classes:\n",
    "                class_id = classes.index(label)\n",
    "                # YOLO 分割格式：<class_id> <x1> <y1> <x2> <y2> ... <xn> <yn>\n",
    "                annotation = f\"{class_id} \" + \" \".join(normalized_points)\n",
    "                yolo_annotations.append(annotation)\n",
    "            else:\n",
    "                print(f\"警告: 标签 {label} 不在 classes 列表中，已跳过。\")\n",
    "        \n",
    "        # 输出 YOLO 格式的标注文件\n",
    "        output_path = output_dir / f\"{json_file.stem}.txt\"\n",
    "        with open(output_path, \"w\", encoding=\"utf-8\") as f:\n",
    "            f.write(\"\\n\".join(yolo_annotations))\n",
    "    \n",
    "    print(f\"所有分割标注文件已转换并保存到 {output_dir}\")\n",
    "\n",
    "# 设置目录路径和类别列表\n",
    "json_dir = \"./datasets/val/rawlabels\"  # 标注文件 JSON 目录\n",
    "output_dir = \"./datasets/val/labels\"  # 转换后保存 YOLO 格式的目录\n",
    "classes = [\"Celegans\"]  # 替换为你的实际类别名称\n",
    "# 转换标注文件\n",
    "convert_labelme_to_yolo_segmentation(json_dir, output_dir, classes)\n",
    "\n",
    "# 设置目录路径和类别列表\n",
    "json_dir = \"./datasets/train/rawlabels\"  # 标注文件 JSON 目录\n",
    "output_dir = \"./datasets/train/labels\"  # 转换后保存 YOLO 格式的目录\n",
    "classes = [\"Celegans\"]  # 替换为你的实际类别名称\n",
    "# 转换标注文件\n",
    "convert_labelme_to_yolo_segmentation(json_dir, output_dir, classes)\n",
    "#  pip install ultralytics -i https://pypi.tuna.tsinghua.edu.cn/simple"
   ]
  },
  {
   "cell_type": "code",
   "execution_count": 2,
   "metadata": {},
   "outputs": [
    {
     "name": "stdout",
     "output_type": "stream",
     "text": [
      "Ultralytics 8.3.36 🚀 Python-3.11.10 torch-2.5.1+cu124 CUDA:0 (NVIDIA GeForce RTX 4090, 24210MiB)\n",
      "                                                       CUDA:1 (NVIDIA GeForce RTX 4090, 24210MiB)\n",
      "                                                       CUDA:2 (NVIDIA GeForce RTX 4090, 24210MiB)\n",
      "                                                       CUDA:3 (NVIDIA GeForce RTX 4090, 24210MiB)\n",
      "\u001b[34m\u001b[1mengine/trainer: \u001b[0mtask=segment, mode=train, model=yolo11x-seg.pt, data=./data.yaml, epochs=300, time=None, patience=100, batch=16, imgsz=1280, save=True, save_period=-1, cache=False, device=[0, 1, 2, 3], workers=8, project=runs/segment, name=yolov11_WormCNN-HTT28, exist_ok=False, pretrained=True, optimizer=auto, verbose=True, seed=0, deterministic=True, single_cls=False, rect=False, cos_lr=False, close_mosaic=10, resume=False, amp=True, fraction=1.0, profile=False, freeze=None, multi_scale=False, overlap_mask=True, mask_ratio=4, dropout=0.0, val=True, split=val, save_json=False, save_hybrid=False, conf=None, iou=0.7, max_det=300, half=False, dnn=False, plots=True, source=None, vid_stride=1, stream_buffer=False, visualize=False, augment=False, agnostic_nms=False, classes=None, retina_masks=False, embed=None, show=False, save_frames=False, save_txt=False, save_conf=False, save_crop=False, show_labels=True, show_conf=True, show_boxes=True, line_width=None, format=torchscript, keras=False, optimize=False, int8=False, dynamic=False, simplify=True, opset=None, workspace=4, nms=False, lr0=0.001, lrf=0.01, momentum=0.937, weight_decay=0.0005, warmup_epochs=3.0, warmup_momentum=0.8, warmup_bias_lr=0.1, box=7.5, cls=0.5, dfl=1.5, pose=12.0, kobj=1.0, label_smoothing=0.0, nbs=64, hsv_h=0.02, hsv_s=0.8, hsv_v=0.4, degrees=10, translate=0.2, scale=0.5, shear=0.0, perspective=0.001, flipud=0.1, fliplr=0.5, bgr=0.0, mosaic=True, mixup=0.2, copy_paste=True, copy_paste_mode=flip, auto_augment=randaugment, erasing=0.4, crop_fraction=1.0, cfg=None, tracker=botsort.yaml, save_dir=runs/segment/yolov11_WormCNN-HTT28\n",
      "Overriding model.yaml nc=80 with nc=1\n",
      "\n",
      "                   from  n    params  module                                       arguments                     \n",
      "  0                  -1  1      2784  ultralytics.nn.modules.conv.Conv             [3, 96, 3, 2]                 \n",
      "  1                  -1  1    166272  ultralytics.nn.modules.conv.Conv             [96, 192, 3, 2]               \n",
      "  2                  -1  2    389760  ultralytics.nn.modules.block.C3k2            [192, 384, 2, True, 0.25]     \n",
      "  3                  -1  1   1327872  ultralytics.nn.modules.conv.Conv             [384, 384, 3, 2]              \n",
      "  4                  -1  2   1553664  ultralytics.nn.modules.block.C3k2            [384, 768, 2, True, 0.25]     \n",
      "  5                  -1  1   5309952  ultralytics.nn.modules.conv.Conv             [768, 768, 3, 2]              \n",
      "  6                  -1  2   5022720  ultralytics.nn.modules.block.C3k2            [768, 768, 2, True]           \n",
      "  7                  -1  1   5309952  ultralytics.nn.modules.conv.Conv             [768, 768, 3, 2]              \n",
      "  8                  -1  2   5022720  ultralytics.nn.modules.block.C3k2            [768, 768, 2, True]           \n",
      "  9                  -1  1   1476864  ultralytics.nn.modules.block.SPPF            [768, 768, 5]                 \n",
      " 10                  -1  2   3264768  ultralytics.nn.modules.block.C2PSA           [768, 768, 2]                 \n",
      " 11                  -1  1         0  torch.nn.modules.upsampling.Upsample         [None, 2, 'nearest']          \n",
      " 12             [-1, 6]  1         0  ultralytics.nn.modules.conv.Concat           [1]                           \n",
      " 13                  -1  2   5612544  ultralytics.nn.modules.block.C3k2            [1536, 768, 2, True]          \n",
      " 14                  -1  1         0  torch.nn.modules.upsampling.Upsample         [None, 2, 'nearest']          \n",
      " 15             [-1, 4]  1         0  ultralytics.nn.modules.conv.Concat           [1]                           \n",
      " 16                  -1  2   1700352  ultralytics.nn.modules.block.C3k2            [1536, 384, 2, True]          \n",
      " 17                  -1  1   1327872  ultralytics.nn.modules.conv.Conv             [384, 384, 3, 2]              \n",
      " 18            [-1, 13]  1         0  ultralytics.nn.modules.conv.Concat           [1]                           \n",
      " 19                  -1  2   5317632  ultralytics.nn.modules.block.C3k2            [1152, 768, 2, True]          \n",
      " 20                  -1  1   5309952  ultralytics.nn.modules.conv.Conv             [768, 768, 3, 2]              \n",
      " 21            [-1, 10]  1         0  ultralytics.nn.modules.conv.Concat           [1]                           \n",
      " 22                  -1  2   5612544  ultralytics.nn.modules.block.C3k2            [1536, 768, 2, True]          \n",
      " 23        [16, 19, 22]  1   8323187  ultralytics.nn.modules.head.Segment          [1, 32, 384, [384, 768, 768]] \n",
      "YOLO11x-seg summary: 667 layers, 62,051,411 parameters, 62,051,395 gradients, 319.7 GFLOPs\n",
      "\n",
      "Transferred 1071/1077 items from pretrained weights\n",
      "\u001b[34m\u001b[1mDDP:\u001b[0m debug command /home/spuser/.conda/envs/yanpan/bin/python -m torch.distributed.run --nproc_per_node 4 --master_port 32845 /home/spuser/.config/Ultralytics/DDP/_temp_sonvu77k140179733372880.py\n",
      "Error decoding JSON from /home/spuser/.config/Ultralytics/settings.json. Starting with an empty dictionary.\n",
      "Ultralytics 8.3.36 🚀 Python-3.11.10 torch-2.5.1+cu124 CUDA:0 (NVIDIA GeForce RTX 4090, 24210MiB)\n",
      "                                                       CUDA:1 (NVIDIA GeForce RTX 4090, 24210MiB)\n",
      "                                                       CUDA:2 (NVIDIA GeForce RTX 4090, 24210MiB)\n",
      "                                                       CUDA:3 (NVIDIA GeForce RTX 4090, 24210MiB)\n",
      "Overriding model.yaml nc=80 with nc=1\n",
      "Transferred 1071/1077 items from pretrained weights\n",
      "Freezing layer 'model.23.dfl.conv.weight'\n",
      "\u001b[34m\u001b[1mAMP: \u001b[0mrunning Automatic Mixed Precision (AMP) checks...\n",
      "\u001b[34m\u001b[1mAMP: \u001b[0mchecks passed ✅\n"
     ]
    },
    {
     "name": "stderr",
     "output_type": "stream",
     "text": [
      "\u001b[34m\u001b[1mtrain: \u001b[0mScanning /data/yan/track/datasets/train/labels.cache... 107 images, 0 backgrounds, 0 corrupt: 100%|██████████| 107/107 [00:00<?, ?it/s]\n",
      "\u001b[34m\u001b[1mval: \u001b[0mScanning /data/yan/track/datasets/val/labels.cache... 35 images, 0 backgrounds, 0 corrupt: 100%|██████████| 35/35 [00:00<?, ?it/s]\n"
     ]
    },
    {
     "name": "stdout",
     "output_type": "stream",
     "text": [
      "Plotting labels to runs/segment/yolov11_WormCNN-HTT28/labels.jpg... \n",
      "\u001b[34m\u001b[1moptimizer:\u001b[0m 'optimizer=auto' found, ignoring 'lr0=0.001' and 'momentum=0.937' and determining best 'optimizer', 'lr0' and 'momentum' automatically... \n",
      "\u001b[34m\u001b[1moptimizer:\u001b[0m AdamW(lr=0.000714, momentum=0.9) with parameter groups 176 weight(decay=0.0), 187 weight(decay=0.0005), 186 bias(decay=0.0)\n",
      "Image sizes 1280 train, 1280 val\n",
      "Using 32 dataloader workers\n",
      "Logging results to \u001b[1mruns/segment/yolov11_WormCNN-HTT28\u001b[0m\n",
      "Starting training for 300 epochs...\n",
      "\n",
      "      Epoch    GPU_mem   box_loss   seg_loss   cls_loss   dfl_loss  Instances       Size\n"
     ]
    },
    {
     "name": "stderr",
     "output_type": "stream",
     "text": [
      "      1/300      19.4G      0.758      1.199      3.478     0.9054         57       1280: 100%|██████████| 7/7 [00:03<00:00,  1.97it/s]\n",
      "                 Class     Images  Instances      Box(P          R      mAP50  mAP50-95)     Mask(P          R      mAP50  mAP50-95): 100%|██████████| 5/5 [00:00<00:00,  5.70it/s]\n"
     ]
    },
    {
     "name": "stdout",
     "output_type": "stream",
     "text": [
      "                   all         35        158    0.00419      0.278    0.00268    0.00216       0.01      0.665     0.0235    0.00727\n",
      "\n",
      "      Epoch    GPU_mem   box_loss   seg_loss   cls_loss   dfl_loss  Instances       Size\n"
     ]
    },
    {
     "name": "stderr",
     "output_type": "stream",
     "text": [
      "      2/300      19.5G     0.7214      1.279      2.457     0.8835         61       1280: 100%|██████████| 7/7 [00:02<00:00,  2.63it/s]\n",
      "                 Class     Images  Instances      Box(P          R      mAP50  mAP50-95)     Mask(P          R      mAP50  mAP50-95): 100%|██████████| 5/5 [00:00<00:00,  6.25it/s]\n"
     ]
    },
    {
     "name": "stdout",
     "output_type": "stream",
     "text": [
      "                   all         35        158      0.987          1       0.99      0.837      0.987          1       0.99      0.672\n",
      "\n",
      "      Epoch    GPU_mem   box_loss   seg_loss   cls_loss   dfl_loss  Instances       Size\n"
     ]
    },
    {
     "name": "stderr",
     "output_type": "stream",
     "text": [
      "      3/300        20G     0.6085     0.8203     0.7818     0.8295         70       1280: 100%|██████████| 7/7 [00:02<00:00,  2.68it/s]\n",
      "                 Class     Images  Instances      Box(P          R      mAP50  mAP50-95)     Mask(P          R      mAP50  mAP50-95): 100%|██████████| 5/5 [00:00<00:00,  6.20it/s]\n"
     ]
    },
    {
     "name": "stdout",
     "output_type": "stream",
     "text": [
      "                   all         35        158      0.174      0.127     0.0458      0.039      0.174      0.127     0.0459     0.0268\n",
      "\n",
      "      Epoch    GPU_mem   box_loss   seg_loss   cls_loss   dfl_loss  Instances       Size\n"
     ]
    },
    {
     "name": "stderr",
     "output_type": "stream",
     "text": [
      "      4/300      19.8G     0.5991     0.8123     0.6321     0.8344         33       1280: 100%|██████████| 7/7 [00:02<00:00,  2.83it/s]\n",
      "                 Class     Images  Instances      Box(P          R      mAP50  mAP50-95)     Mask(P          R      mAP50  mAP50-95): 100%|██████████| 5/5 [00:00<00:00,  5.86it/s]\n"
     ]
    },
    {
     "name": "stdout",
     "output_type": "stream",
     "text": [
      "                   all         35        158     0.0175      0.987     0.0175      0.015     0.0175      0.987     0.0175     0.0117\n",
      "\n",
      "      Epoch    GPU_mem   box_loss   seg_loss   cls_loss   dfl_loss  Instances       Size\n"
     ]
    },
    {
     "name": "stderr",
     "output_type": "stream",
     "text": [
      "      5/300      19.4G     0.5972     0.7855     0.6685     0.8371         58       1280: 100%|██████████| 7/7 [00:02<00:00,  2.62it/s]\n",
      "                 Class     Images  Instances      Box(P          R      mAP50  mAP50-95)     Mask(P          R      mAP50  mAP50-95): 100%|██████████| 5/5 [00:00<00:00,  6.28it/s]\n"
     ]
    },
    {
     "name": "stdout",
     "output_type": "stream",
     "text": [
      "                   all         35        158     0.0175      0.987     0.0175      0.015     0.0175      0.987     0.0175     0.0117\n",
      "\n",
      "      Epoch    GPU_mem   box_loss   seg_loss   cls_loss   dfl_loss  Instances       Size\n"
     ]
    },
    {
     "name": "stderr",
     "output_type": "stream",
     "text": [
      "      6/300      19.8G     0.6186     0.6879     0.5328     0.8407         62       1280: 100%|██████████| 7/7 [00:02<00:00,  2.86it/s]\n",
      "                 Class     Images  Instances      Box(P          R      mAP50  mAP50-95)     Mask(P          R      mAP50  mAP50-95): 100%|██████████| 5/5 [00:00<00:00,  6.32it/s]\n"
     ]
    },
    {
     "name": "stdout",
     "output_type": "stream",
     "text": [
      "                   all         35        158       0.34      0.892       0.34      0.286      0.337      0.886      0.335       0.22\n",
      "\n",
      "      Epoch    GPU_mem   box_loss   seg_loss   cls_loss   dfl_loss  Instances       Size\n"
     ]
    },
    {
     "name": "stderr",
     "output_type": "stream",
     "text": [
      "      7/300      19.6G     0.5995     0.6847     0.4619     0.8378         80       1280: 100%|██████████| 7/7 [00:02<00:00,  2.85it/s]\n",
      "                 Class     Images  Instances      Box(P          R      mAP50  mAP50-95)     Mask(P          R      mAP50  mAP50-95): 100%|██████████| 5/5 [00:00<00:00,  5.66it/s]\n"
     ]
    },
    {
     "name": "stdout",
     "output_type": "stream",
     "text": [
      "                   all         35        158   0.000609    0.00633   5.23e-05   5.23e-06          0          0          0          0\n",
      "\n",
      "      Epoch    GPU_mem   box_loss   seg_loss   cls_loss   dfl_loss  Instances       Size\n"
     ]
    },
    {
     "name": "stderr",
     "output_type": "stream",
     "text": [
      "      8/300      20.1G     0.5952     0.7657     0.4753     0.8433         64       1280: 100%|██████████| 7/7 [00:02<00:00,  2.89it/s]\n",
      "                 Class     Images  Instances      Box(P          R      mAP50  mAP50-95)     Mask(P          R      mAP50  mAP50-95): 100%|██████████| 5/5 [00:00<00:00,  6.22it/s]\n"
     ]
    },
    {
     "name": "stdout",
     "output_type": "stream",
     "text": [
      "                   all         35        158   0.000609    0.00633   5.23e-05   5.23e-06          0          0          0          0\n",
      "\n",
      "      Epoch    GPU_mem   box_loss   seg_loss   cls_loss   dfl_loss  Instances       Size\n"
     ]
    },
    {
     "name": "stderr",
     "output_type": "stream",
     "text": [
      "      9/300      20.2G     0.6192     0.7457     0.4357     0.8392         58       1280: 100%|██████████| 7/7 [00:02<00:00,  2.81it/s]\n",
      "                 Class     Images  Instances      Box(P          R      mAP50  mAP50-95)     Mask(P          R      mAP50  mAP50-95): 100%|██████████| 5/5 [00:00<00:00,  6.58it/s]\n"
     ]
    },
    {
     "name": "stdout",
     "output_type": "stream",
     "text": [
      "                   all         35        158   0.000609    0.00633   5.23e-05   5.23e-06          0          0          0          0\n",
      "\n",
      "      Epoch    GPU_mem   box_loss   seg_loss   cls_loss   dfl_loss  Instances       Size\n"
     ]
    },
    {
     "name": "stderr",
     "output_type": "stream",
     "text": [
      "     10/300      19.9G     0.6227      0.828     0.4127     0.8373         29       1280: 100%|██████████| 7/7 [00:02<00:00,  2.89it/s]\n",
      "                 Class     Images  Instances      Box(P          R      mAP50  mAP50-95)     Mask(P          R      mAP50  mAP50-95): 100%|██████████| 5/5 [00:00<00:00,  6.54it/s]\n"
     ]
    },
    {
     "name": "stdout",
     "output_type": "stream",
     "text": [
      "                   all         35        158   0.000609    0.00633   5.23e-05   5.23e-06          0          0          0          0\n",
      "\n",
      "      Epoch    GPU_mem   box_loss   seg_loss   cls_loss   dfl_loss  Instances       Size\n"
     ]
    },
    {
     "name": "stderr",
     "output_type": "stream",
     "text": [
      "     11/300      19.5G     0.5983     0.6821     0.4429     0.8328         49       1280: 100%|██████████| 7/7 [00:02<00:00,  2.94it/s]\n",
      "                 Class     Images  Instances      Box(P          R      mAP50  mAP50-95)     Mask(P          R      mAP50  mAP50-95): 100%|██████████| 5/5 [00:00<00:00,  6.54it/s]\n"
     ]
    },
    {
     "name": "stdout",
     "output_type": "stream",
     "text": [
      "                   all         35        158   0.000609    0.00633   5.23e-05   5.23e-06          0          0          0          0\n",
      "\n",
      "      Epoch    GPU_mem   box_loss   seg_loss   cls_loss   dfl_loss  Instances       Size\n"
     ]
    },
    {
     "name": "stderr",
     "output_type": "stream",
     "text": [
      "     12/300      19.5G     0.6441     0.7827     0.5119     0.8616         34       1280: 100%|██████████| 7/7 [00:02<00:00,  2.88it/s]\n",
      "                 Class     Images  Instances      Box(P          R      mAP50  mAP50-95)     Mask(P          R      mAP50  mAP50-95): 100%|██████████| 5/5 [00:00<00:00,  6.19it/s]\n"
     ]
    },
    {
     "name": "stdout",
     "output_type": "stream",
     "text": [
      "                   all         35        158   0.000609    0.00633   5.23e-05   5.23e-06          0          0          0          0\n",
      "\n",
      "      Epoch    GPU_mem   box_loss   seg_loss   cls_loss   dfl_loss  Instances       Size\n"
     ]
    },
    {
     "name": "stderr",
     "output_type": "stream",
     "text": [
      "     13/300      20.1G     0.7348     0.6841     0.4918     0.8737         30       1280: 100%|██████████| 7/7 [00:02<00:00,  2.92it/s]\n",
      "                 Class     Images  Instances      Box(P          R      mAP50  mAP50-95)     Mask(P          R      mAP50  mAP50-95): 100%|██████████| 5/5 [00:00<00:00,  6.51it/s]\n"
     ]
    },
    {
     "name": "stdout",
     "output_type": "stream",
     "text": [
      "                   all         35        158      0.921      0.369      0.435      0.369      0.921      0.369      0.435      0.305\n",
      "\n",
      "      Epoch    GPU_mem   box_loss   seg_loss   cls_loss   dfl_loss  Instances       Size\n"
     ]
    },
    {
     "name": "stderr",
     "output_type": "stream",
     "text": [
      "     14/300      20.1G     0.5967     0.7342     0.4289     0.8498         34       1280: 100%|██████████| 7/7 [00:02<00:00,  2.91it/s]\n",
      "                 Class     Images  Instances      Box(P          R      mAP50  mAP50-95)     Mask(P          R      mAP50  mAP50-95): 100%|██████████| 5/5 [00:00<00:00,  6.92it/s]\n"
     ]
    },
    {
     "name": "stdout",
     "output_type": "stream",
     "text": [
      "                   all         35        158      0.986          1      0.983      0.849      0.986          1      0.983      0.706\n",
      "\n",
      "      Epoch    GPU_mem   box_loss   seg_loss   cls_loss   dfl_loss  Instances       Size\n"
     ]
    },
    {
     "name": "stderr",
     "output_type": "stream",
     "text": [
      "     15/300      19.6G     0.6653     0.8677     0.4998     0.8609         54       1280: 100%|██████████| 7/7 [00:02<00:00,  2.89it/s]\n",
      "                 Class     Images  Instances      Box(P          R      mAP50  mAP50-95)     Mask(P          R      mAP50  mAP50-95): 100%|██████████| 5/5 [00:00<00:00,  6.73it/s]\n"
     ]
    },
    {
     "name": "stdout",
     "output_type": "stream",
     "text": [
      "                   all         35        158      0.628      0.987      0.685      0.592      0.628      0.987      0.685      0.473\n",
      "\n",
      "      Epoch    GPU_mem   box_loss   seg_loss   cls_loss   dfl_loss  Instances       Size\n"
     ]
    },
    {
     "name": "stderr",
     "output_type": "stream",
     "text": [
      "     16/300      19.7G      0.637     0.7829      0.447     0.8612         65       1280: 100%|██████████| 7/7 [00:02<00:00,  2.95it/s]\n",
      "                 Class     Images  Instances      Box(P          R      mAP50  mAP50-95)     Mask(P          R      mAP50  mAP50-95): 100%|██████████| 5/5 [00:00<00:00,  6.62it/s]\n"
     ]
    },
    {
     "name": "stdout",
     "output_type": "stream",
     "text": [
      "                   all         35        158      0.963      0.994      0.982      0.822      0.963      0.994      0.982      0.716\n",
      "\n",
      "      Epoch    GPU_mem   box_loss   seg_loss   cls_loss   dfl_loss  Instances       Size\n"
     ]
    },
    {
     "name": "stderr",
     "output_type": "stream",
     "text": [
      "     17/300      19.8G     0.5712     0.6998     0.4164     0.8365         60       1280: 100%|██████████| 7/7 [00:02<00:00,  2.93it/s]\n",
      "                 Class     Images  Instances      Box(P          R      mAP50  mAP50-95)     Mask(P          R      mAP50  mAP50-95): 100%|██████████| 5/5 [00:00<00:00,  6.50it/s]\n"
     ]
    },
    {
     "name": "stdout",
     "output_type": "stream",
     "text": [
      "                   all         35        158      0.286      0.643      0.327      0.279      0.284      0.677      0.329      0.235\n",
      "\n",
      "      Epoch    GPU_mem   box_loss   seg_loss   cls_loss   dfl_loss  Instances       Size\n"
     ]
    },
    {
     "name": "stderr",
     "output_type": "stream",
     "text": [
      "     18/300      19.6G     0.6065     0.7369     0.4116     0.8523         53       1280: 100%|██████████| 7/7 [00:02<00:00,  2.90it/s]\n",
      "                 Class     Images  Instances      Box(P          R      mAP50  mAP50-95)     Mask(P          R      mAP50  mAP50-95): 100%|██████████| 5/5 [00:00<00:00,  6.60it/s]\n"
     ]
    },
    {
     "name": "stdout",
     "output_type": "stream",
     "text": [
      "                   all         35        158      0.987      0.999      0.984      0.841      0.987      0.999      0.984      0.734\n",
      "\n",
      "      Epoch    GPU_mem   box_loss   seg_loss   cls_loss   dfl_loss  Instances       Size\n"
     ]
    },
    {
     "name": "stderr",
     "output_type": "stream",
     "text": [
      "     19/300      19.7G      0.633     0.6682     0.3795     0.8439         42       1280: 100%|██████████| 7/7 [00:02<00:00,  2.94it/s]\n",
      "                 Class     Images  Instances      Box(P          R      mAP50  mAP50-95)     Mask(P          R      mAP50  mAP50-95): 100%|██████████| 5/5 [00:00<00:00,  6.52it/s]\n"
     ]
    },
    {
     "name": "stdout",
     "output_type": "stream",
     "text": [
      "                   all         35        158      0.835          1      0.852      0.713      0.835          1      0.852      0.627\n",
      "\n",
      "      Epoch    GPU_mem   box_loss   seg_loss   cls_loss   dfl_loss  Instances       Size\n"
     ]
    },
    {
     "name": "stderr",
     "output_type": "stream",
     "text": [
      "     20/300      19.6G     0.6852     0.6956     0.4213      0.858         52       1280: 100%|██████████| 7/7 [00:02<00:00,  2.96it/s]\n",
      "                 Class     Images  Instances      Box(P          R      mAP50  mAP50-95)     Mask(P          R      mAP50  mAP50-95): 100%|██████████| 5/5 [00:00<00:00,  6.60it/s]\n"
     ]
    },
    {
     "name": "stdout",
     "output_type": "stream",
     "text": [
      "                   all         35        158      0.932      0.975      0.985      0.834      0.932      0.975      0.985      0.731\n",
      "\n",
      "      Epoch    GPU_mem   box_loss   seg_loss   cls_loss   dfl_loss  Instances       Size\n"
     ]
    },
    {
     "name": "stderr",
     "output_type": "stream",
     "text": [
      "     21/300        20G      0.626     0.6695     0.4156     0.8439         43       1280: 100%|██████████| 7/7 [00:02<00:00,  2.94it/s]\n",
      "                 Class     Images  Instances      Box(P          R      mAP50  mAP50-95)     Mask(P          R      mAP50  mAP50-95): 100%|██████████| 5/5 [00:00<00:00,  6.50it/s]\n"
     ]
    },
    {
     "name": "stdout",
     "output_type": "stream",
     "text": [
      "                   all         35        158      0.756      0.981      0.805      0.693      0.756      0.981      0.805        0.6\n",
      "\n",
      "      Epoch    GPU_mem   box_loss   seg_loss   cls_loss   dfl_loss  Instances       Size\n"
     ]
    },
    {
     "name": "stderr",
     "output_type": "stream",
     "text": [
      "     22/300      19.8G     0.6226     0.6635     0.3821     0.8608         66       1280: 100%|██████████| 7/7 [00:02<00:00,  2.85it/s]\n",
      "                 Class     Images  Instances      Box(P          R      mAP50  mAP50-95)     Mask(P          R      mAP50  mAP50-95): 100%|██████████| 5/5 [00:00<00:00,  6.66it/s]\n"
     ]
    },
    {
     "name": "stdout",
     "output_type": "stream",
     "text": [
      "                   all         35        158      0.968          1      0.984      0.855      0.968          1      0.984      0.737\n",
      "\n",
      "      Epoch    GPU_mem   box_loss   seg_loss   cls_loss   dfl_loss  Instances       Size\n"
     ]
    },
    {
     "name": "stderr",
     "output_type": "stream",
     "text": [
      "     23/300      19.6G     0.5887     0.6663      0.389     0.8654         61       1280: 100%|██████████| 7/7 [00:02<00:00,  2.89it/s]\n",
      "                 Class     Images  Instances      Box(P          R      mAP50  mAP50-95)     Mask(P          R      mAP50  mAP50-95): 100%|██████████| 5/5 [00:00<00:00,  6.83it/s]\n"
     ]
    },
    {
     "name": "stdout",
     "output_type": "stream",
     "text": [
      "                   all         35        158      0.987          1      0.989      0.863      0.987          1      0.989      0.736\n",
      "\n",
      "      Epoch    GPU_mem   box_loss   seg_loss   cls_loss   dfl_loss  Instances       Size\n"
     ]
    },
    {
     "name": "stderr",
     "output_type": "stream",
     "text": [
      "     24/300      19.3G     0.5845     0.6413     0.3967     0.8544         40       1280: 100%|██████████| 7/7 [00:02<00:00,  2.87it/s]\n",
      "                 Class     Images  Instances      Box(P          R      mAP50  mAP50-95)     Mask(P          R      mAP50  mAP50-95): 100%|██████████| 5/5 [00:00<00:00,  6.54it/s]\n"
     ]
    },
    {
     "name": "stdout",
     "output_type": "stream",
     "text": [
      "                   all         35        158      0.985          1      0.986      0.853      0.985          1      0.986      0.738\n",
      "\n",
      "      Epoch    GPU_mem   box_loss   seg_loss   cls_loss   dfl_loss  Instances       Size\n"
     ]
    },
    {
     "name": "stderr",
     "output_type": "stream",
     "text": [
      "     25/300      20.2G     0.5715     0.6442     0.3596     0.8358         53       1280: 100%|██████████| 7/7 [00:02<00:00,  2.90it/s]\n",
      "                 Class     Images  Instances      Box(P          R      mAP50  mAP50-95)     Mask(P          R      mAP50  mAP50-95): 100%|██████████| 5/5 [00:00<00:00,  6.60it/s]\n"
     ]
    },
    {
     "name": "stdout",
     "output_type": "stream",
     "text": [
      "                   all         35        158       0.98          1      0.983      0.851       0.98          1      0.983      0.734\n",
      "\n",
      "      Epoch    GPU_mem   box_loss   seg_loss   cls_loss   dfl_loss  Instances       Size\n"
     ]
    },
    {
     "name": "stderr",
     "output_type": "stream",
     "text": [
      "     26/300      19.6G     0.6022     0.6922     0.3873     0.8358         58       1280: 100%|██████████| 7/7 [00:02<00:00,  2.90it/s]\n",
      "                 Class     Images  Instances      Box(P          R      mAP50  mAP50-95)     Mask(P          R      mAP50  mAP50-95): 100%|██████████| 5/5 [00:00<00:00,  6.72it/s]\n"
     ]
    },
    {
     "name": "stdout",
     "output_type": "stream",
     "text": [
      "                   all         35        158      0.986          1      0.984      0.841      0.986          1      0.984      0.718\n",
      "\n",
      "      Epoch    GPU_mem   box_loss   seg_loss   cls_loss   dfl_loss  Instances       Size\n"
     ]
    },
    {
     "name": "stderr",
     "output_type": "stream",
     "text": [
      "     27/300      19.5G     0.6445     0.7327     0.4398     0.8556         84       1280: 100%|██████████| 7/7 [00:02<00:00,  2.89it/s]\n",
      "                 Class     Images  Instances      Box(P          R      mAP50  mAP50-95)     Mask(P          R      mAP50  mAP50-95): 100%|██████████| 5/5 [00:00<00:00,  6.63it/s]\n"
     ]
    },
    {
     "name": "stdout",
     "output_type": "stream",
     "text": [
      "                   all         35        158      0.974          1      0.986      0.856      0.974          1      0.986      0.703\n",
      "\n",
      "      Epoch    GPU_mem   box_loss   seg_loss   cls_loss   dfl_loss  Instances       Size\n"
     ]
    },
    {
     "name": "stderr",
     "output_type": "stream",
     "text": [
      "     28/300      19.3G     0.5739     0.6702      0.396     0.8421         68       1280: 100%|██████████| 7/7 [00:02<00:00,  2.98it/s]\n",
      "                 Class     Images  Instances      Box(P          R      mAP50  mAP50-95)     Mask(P          R      mAP50  mAP50-95): 100%|██████████| 5/5 [00:00<00:00,  6.71it/s]\n"
     ]
    },
    {
     "name": "stdout",
     "output_type": "stream",
     "text": [
      "                   all         35        158      0.979      0.994      0.986       0.88      0.979      0.994      0.986       0.72\n",
      "\n",
      "      Epoch    GPU_mem   box_loss   seg_loss   cls_loss   dfl_loss  Instances       Size\n"
     ]
    },
    {
     "name": "stderr",
     "output_type": "stream",
     "text": [
      "     29/300      19.8G     0.6217      0.712     0.4041     0.8513         58       1280: 100%|██████████| 7/7 [00:02<00:00,  2.92it/s]\n",
      "                 Class     Images  Instances      Box(P          R      mAP50  mAP50-95)     Mask(P          R      mAP50  mAP50-95): 100%|██████████| 5/5 [00:00<00:00,  6.81it/s]\n"
     ]
    },
    {
     "name": "stdout",
     "output_type": "stream",
     "text": [
      "                   all         35        158      0.981          1      0.988      0.836      0.981          1      0.988      0.757\n",
      "\n",
      "      Epoch    GPU_mem   box_loss   seg_loss   cls_loss   dfl_loss  Instances       Size\n"
     ]
    },
    {
     "name": "stderr",
     "output_type": "stream",
     "text": [
      "     30/300      19.6G      0.588     0.6408     0.3628     0.8577         60       1280: 100%|██████████| 7/7 [00:02<00:00,  2.88it/s]\n",
      "                 Class     Images  Instances      Box(P          R      mAP50  mAP50-95)     Mask(P          R      mAP50  mAP50-95): 100%|██████████| 5/5 [00:00<00:00,  6.96it/s]\n"
     ]
    },
    {
     "name": "stdout",
     "output_type": "stream",
     "text": [
      "                   all         35        158      0.981          1      0.985      0.862      0.981          1      0.985      0.731\n",
      "\n",
      "      Epoch    GPU_mem   box_loss   seg_loss   cls_loss   dfl_loss  Instances       Size\n"
     ]
    },
    {
     "name": "stderr",
     "output_type": "stream",
     "text": [
      "     31/300      19.6G     0.5724      0.666     0.3751     0.8092         88       1280: 100%|██████████| 7/7 [00:02<00:00,  2.89it/s]\n",
      "                 Class     Images  Instances      Box(P          R      mAP50  mAP50-95)     Mask(P          R      mAP50  mAP50-95): 100%|██████████| 5/5 [00:00<00:00,  6.97it/s]\n"
     ]
    },
    {
     "name": "stdout",
     "output_type": "stream",
     "text": [
      "                   all         35        158      0.981      0.991      0.981      0.857      0.981      0.991      0.981       0.72\n",
      "\n",
      "      Epoch    GPU_mem   box_loss   seg_loss   cls_loss   dfl_loss  Instances       Size\n"
     ]
    },
    {
     "name": "stderr",
     "output_type": "stream",
     "text": [
      "     32/300      19.7G     0.5717     0.6552     0.3599     0.8369         55       1280: 100%|██████████| 7/7 [00:02<00:00,  2.96it/s]\n",
      "                 Class     Images  Instances      Box(P          R      mAP50  mAP50-95)     Mask(P          R      mAP50  mAP50-95): 100%|██████████| 5/5 [00:00<00:00,  6.79it/s]\n"
     ]
    },
    {
     "name": "stdout",
     "output_type": "stream",
     "text": [
      "                   all         35        158      0.974          1      0.982      0.845      0.974          1      0.982      0.746\n",
      "\n",
      "      Epoch    GPU_mem   box_loss   seg_loss   cls_loss   dfl_loss  Instances       Size\n"
     ]
    },
    {
     "name": "stderr",
     "output_type": "stream",
     "text": [
      "     33/300      20.1G     0.6188     0.6953     0.3869     0.8389         68       1280: 100%|██████████| 7/7 [00:02<00:00,  2.91it/s]\n",
      "                 Class     Images  Instances      Box(P          R      mAP50  mAP50-95)     Mask(P          R      mAP50  mAP50-95): 100%|██████████| 5/5 [00:00<00:00,  6.96it/s]\n"
     ]
    },
    {
     "name": "stdout",
     "output_type": "stream",
     "text": [
      "                   all         35        158      0.975      0.999      0.982      0.858      0.975      0.999      0.982      0.745\n",
      "\n",
      "      Epoch    GPU_mem   box_loss   seg_loss   cls_loss   dfl_loss  Instances       Size\n"
     ]
    },
    {
     "name": "stderr",
     "output_type": "stream",
     "text": [
      "     34/300      19.6G     0.6268     0.7118     0.3939     0.8433         55       1280: 100%|██████████| 7/7 [00:02<00:00,  2.91it/s]\n",
      "                 Class     Images  Instances      Box(P          R      mAP50  mAP50-95)     Mask(P          R      mAP50  mAP50-95): 100%|██████████| 5/5 [00:00<00:00,  6.95it/s]\n"
     ]
    },
    {
     "name": "stdout",
     "output_type": "stream",
     "text": [
      "                   all         35        158      0.979          1      0.987      0.848      0.979          1      0.987      0.763\n",
      "\n",
      "      Epoch    GPU_mem   box_loss   seg_loss   cls_loss   dfl_loss  Instances       Size\n"
     ]
    },
    {
     "name": "stderr",
     "output_type": "stream",
     "text": [
      "     35/300      19.6G     0.6049     0.6862     0.3726     0.8648         42       1280: 100%|██████████| 7/7 [00:02<00:00,  2.85it/s]\n",
      "                 Class     Images  Instances      Box(P          R      mAP50  mAP50-95)     Mask(P          R      mAP50  mAP50-95): 100%|██████████| 5/5 [00:00<00:00,  7.03it/s]\n"
     ]
    },
    {
     "name": "stdout",
     "output_type": "stream",
     "text": [
      "                   all         35        158      0.987          1       0.99      0.876      0.987          1       0.99      0.731\n",
      "\n",
      "      Epoch    GPU_mem   box_loss   seg_loss   cls_loss   dfl_loss  Instances       Size\n"
     ]
    },
    {
     "name": "stderr",
     "output_type": "stream",
     "text": [
      "     36/300      19.5G     0.6262     0.7137     0.4056     0.8583        100       1280: 100%|██████████| 7/7 [00:02<00:00,  2.93it/s]\n",
      "                 Class     Images  Instances      Box(P          R      mAP50  mAP50-95)     Mask(P          R      mAP50  mAP50-95): 100%|██████████| 5/5 [00:00<00:00,  7.01it/s]\n"
     ]
    },
    {
     "name": "stdout",
     "output_type": "stream",
     "text": [
      "                   all         35        158      0.987          1      0.987      0.847      0.987          1      0.987      0.765\n",
      "\n",
      "      Epoch    GPU_mem   box_loss   seg_loss   cls_loss   dfl_loss  Instances       Size\n"
     ]
    },
    {
     "name": "stderr",
     "output_type": "stream",
     "text": [
      "     37/300      20.1G     0.6306     0.7152     0.3948      0.842         93       1280: 100%|██████████| 7/7 [00:02<00:00,  2.93it/s]\n",
      "                 Class     Images  Instances      Box(P          R      mAP50  mAP50-95)     Mask(P          R      mAP50  mAP50-95): 100%|██████████| 5/5 [00:00<00:00,  6.71it/s]\n"
     ]
    },
    {
     "name": "stdout",
     "output_type": "stream",
     "text": [
      "                   all         35        158      0.986          1      0.985      0.847      0.986          1      0.985      0.744\n",
      "\n",
      "      Epoch    GPU_mem   box_loss   seg_loss   cls_loss   dfl_loss  Instances       Size\n"
     ]
    },
    {
     "name": "stderr",
     "output_type": "stream",
     "text": [
      "     38/300      19.5G     0.5897     0.6462     0.3821     0.8574         46       1280: 100%|██████████| 7/7 [00:02<00:00,  2.96it/s]\n",
      "                 Class     Images  Instances      Box(P          R      mAP50  mAP50-95)     Mask(P          R      mAP50  mAP50-95): 100%|██████████| 5/5 [00:00<00:00,  6.73it/s]\n"
     ]
    },
    {
     "name": "stdout",
     "output_type": "stream",
     "text": [
      "                   all         35        158      0.987          1      0.986      0.875      0.987          1      0.986      0.723\n",
      "\n",
      "      Epoch    GPU_mem   box_loss   seg_loss   cls_loss   dfl_loss  Instances       Size\n"
     ]
    },
    {
     "name": "stderr",
     "output_type": "stream",
     "text": [
      "     39/300      19.6G     0.5977     0.6464      0.385     0.8397         41       1280: 100%|██████████| 7/7 [00:02<00:00,  2.95it/s]\n",
      "                 Class     Images  Instances      Box(P          R      mAP50  mAP50-95)     Mask(P          R      mAP50  mAP50-95): 100%|██████████| 5/5 [00:00<00:00,  6.98it/s]\n"
     ]
    },
    {
     "name": "stdout",
     "output_type": "stream",
     "text": [
      "                   all         35        158      0.985          1      0.986      0.872      0.985          1      0.986      0.745\n",
      "\n",
      "      Epoch    GPU_mem   box_loss   seg_loss   cls_loss   dfl_loss  Instances       Size\n"
     ]
    },
    {
     "name": "stderr",
     "output_type": "stream",
     "text": [
      "     40/300      19.6G     0.5869     0.7052     0.3712     0.8482         36       1280: 100%|██████████| 7/7 [00:02<00:00,  2.95it/s]\n",
      "                 Class     Images  Instances      Box(P          R      mAP50  mAP50-95)     Mask(P          R      mAP50  mAP50-95): 100%|██████████| 5/5 [00:00<00:00,  7.03it/s]\n"
     ]
    },
    {
     "name": "stdout",
     "output_type": "stream",
     "text": [
      "                   all         35        158      0.981          1      0.983      0.878      0.981          1      0.983      0.694\n",
      "\n",
      "      Epoch    GPU_mem   box_loss   seg_loss   cls_loss   dfl_loss  Instances       Size\n"
     ]
    },
    {
     "name": "stderr",
     "output_type": "stream",
     "text": [
      "     41/300      19.8G     0.5802     0.6228     0.3616      0.838         77       1280: 100%|██████████| 7/7 [00:02<00:00,  2.90it/s]\n",
      "                 Class     Images  Instances      Box(P          R      mAP50  mAP50-95)     Mask(P          R      mAP50  mAP50-95): 100%|██████████| 5/5 [00:00<00:00,  6.98it/s]\n"
     ]
    },
    {
     "name": "stdout",
     "output_type": "stream",
     "text": [
      "                   all         35        158      0.973          1      0.982      0.868      0.973          1      0.982      0.736\n",
      "\n",
      "      Epoch    GPU_mem   box_loss   seg_loss   cls_loss   dfl_loss  Instances       Size\n"
     ]
    },
    {
     "name": "stderr",
     "output_type": "stream",
     "text": [
      "     42/300      19.5G     0.5364     0.6613     0.3517     0.8233         54       1280: 100%|██████████| 7/7 [00:02<00:00,  2.92it/s]\n",
      "                 Class     Images  Instances      Box(P          R      mAP50  mAP50-95)     Mask(P          R      mAP50  mAP50-95): 100%|██████████| 5/5 [00:00<00:00,  6.64it/s]\n"
     ]
    },
    {
     "name": "stdout",
     "output_type": "stream",
     "text": [
      "                   all         35        158      0.933      0.962      0.976      0.842      0.933      0.962      0.976      0.735\n",
      "\n",
      "      Epoch    GPU_mem   box_loss   seg_loss   cls_loss   dfl_loss  Instances       Size\n"
     ]
    },
    {
     "name": "stderr",
     "output_type": "stream",
     "text": [
      "     43/300      19.9G     0.5517     0.6193     0.3593      0.845         29       1280: 100%|██████████| 7/7 [00:02<00:00,  2.85it/s]\n",
      "                 Class     Images  Instances      Box(P          R      mAP50  mAP50-95)     Mask(P          R      mAP50  mAP50-95): 100%|██████████| 5/5 [00:00<00:00,  6.97it/s]\n"
     ]
    },
    {
     "name": "stdout",
     "output_type": "stream",
     "text": [
      "                   all         35        158      0.986          1      0.983      0.853      0.986          1      0.983      0.748\n",
      "\n",
      "      Epoch    GPU_mem   box_loss   seg_loss   cls_loss   dfl_loss  Instances       Size\n"
     ]
    },
    {
     "name": "stderr",
     "output_type": "stream",
     "text": [
      "     44/300      19.4G     0.5045     0.6148     0.3132     0.8305         57       1280: 100%|██████████| 7/7 [00:02<00:00,  2.97it/s]\n",
      "                 Class     Images  Instances      Box(P          R      mAP50  mAP50-95)     Mask(P          R      mAP50  mAP50-95): 100%|██████████| 5/5 [00:00<00:00,  6.48it/s]\n"
     ]
    },
    {
     "name": "stdout",
     "output_type": "stream",
     "text": [
      "                   all         35        158      0.987          1       0.99      0.878      0.987          1       0.99      0.759\n",
      "\n",
      "      Epoch    GPU_mem   box_loss   seg_loss   cls_loss   dfl_loss  Instances       Size\n"
     ]
    },
    {
     "name": "stderr",
     "output_type": "stream",
     "text": [
      "     45/300      19.9G      0.539        0.6     0.3295     0.8059         44       1280: 100%|██████████| 7/7 [00:02<00:00,  2.95it/s]\n",
      "                 Class     Images  Instances      Box(P          R      mAP50  mAP50-95)     Mask(P          R      mAP50  mAP50-95): 100%|██████████| 5/5 [00:00<00:00,  6.88it/s]\n"
     ]
    },
    {
     "name": "stdout",
     "output_type": "stream",
     "text": [
      "                   all         35        158      0.987          1      0.988      0.881      0.987          1      0.988       0.76\n",
      "\n",
      "      Epoch    GPU_mem   box_loss   seg_loss   cls_loss   dfl_loss  Instances       Size\n"
     ]
    },
    {
     "name": "stderr",
     "output_type": "stream",
     "text": [
      "     46/300      19.6G     0.5427     0.6341      0.341     0.8504         39       1280: 100%|██████████| 7/7 [00:02<00:00,  2.89it/s]\n",
      "                 Class     Images  Instances      Box(P          R      mAP50  mAP50-95)     Mask(P          R      mAP50  mAP50-95): 100%|██████████| 5/5 [00:00<00:00,  6.89it/s]\n"
     ]
    },
    {
     "name": "stdout",
     "output_type": "stream",
     "text": [
      "                   all         35        158      0.985          1       0.99      0.874      0.985          1       0.99      0.775\n",
      "\n",
      "      Epoch    GPU_mem   box_loss   seg_loss   cls_loss   dfl_loss  Instances       Size\n"
     ]
    },
    {
     "name": "stderr",
     "output_type": "stream",
     "text": [
      "     47/300      19.5G     0.5534     0.5994     0.3379     0.8356         23       1280: 100%|██████████| 7/7 [00:02<00:00,  2.87it/s]\n",
      "                 Class     Images  Instances      Box(P          R      mAP50  mAP50-95)     Mask(P          R      mAP50  mAP50-95): 100%|██████████| 5/5 [00:00<00:00,  7.01it/s]\n"
     ]
    },
    {
     "name": "stdout",
     "output_type": "stream",
     "text": [
      "                   all         35        158      0.986          1      0.988      0.874      0.986          1      0.988      0.764\n",
      "\n",
      "      Epoch    GPU_mem   box_loss   seg_loss   cls_loss   dfl_loss  Instances       Size\n"
     ]
    },
    {
     "name": "stderr",
     "output_type": "stream",
     "text": [
      "     48/300      19.4G     0.5469     0.6262     0.3503     0.8312         25       1280: 100%|██████████| 7/7 [00:02<00:00,  2.91it/s]\n",
      "                 Class     Images  Instances      Box(P          R      mAP50  mAP50-95)     Mask(P          R      mAP50  mAP50-95): 100%|██████████| 5/5 [00:00<00:00,  7.00it/s]\n"
     ]
    },
    {
     "name": "stdout",
     "output_type": "stream",
     "text": [
      "                   all         35        158      0.987          1      0.986      0.876      0.987          1      0.986      0.744\n",
      "\n",
      "      Epoch    GPU_mem   box_loss   seg_loss   cls_loss   dfl_loss  Instances       Size\n"
     ]
    },
    {
     "name": "stderr",
     "output_type": "stream",
     "text": [
      "     49/300      20.1G     0.5331     0.7227     0.3435     0.8086         75       1280:  14%|█▍        | 1/7 [00:00<00:02,  2.59it/s]/home/spuser/.conda/envs/yanpan/lib/python3.11/site-packages/ultralytics/data/augment.py:1143: RuntimeWarning: divide by zero encountered in divide\n",
      "  xy = xy[:, :2] / xy[:, 2:3]\n",
      "     49/300      20.2G      0.562     0.7014     0.3428     0.8363         51       1280: 100%|██████████| 7/7 [00:02<00:00,  2.91it/s]\n",
      "                 Class     Images  Instances      Box(P          R      mAP50  mAP50-95)     Mask(P          R      mAP50  mAP50-95): 100%|██████████| 5/5 [00:00<00:00,  7.00it/s]\n"
     ]
    },
    {
     "name": "stdout",
     "output_type": "stream",
     "text": [
      "                   all         35        158      0.987          1      0.985       0.87      0.987          1      0.985      0.747\n",
      "\n",
      "      Epoch    GPU_mem   box_loss   seg_loss   cls_loss   dfl_loss  Instances       Size\n"
     ]
    },
    {
     "name": "stderr",
     "output_type": "stream",
     "text": [
      "     50/300      19.5G     0.5807     0.6412     0.3541     0.8419         31       1280: 100%|██████████| 7/7 [00:02<00:00,  2.91it/s]\n",
      "                 Class     Images  Instances      Box(P          R      mAP50  mAP50-95)     Mask(P          R      mAP50  mAP50-95): 100%|██████████| 5/5 [00:00<00:00,  6.70it/s]\n"
     ]
    },
    {
     "name": "stdout",
     "output_type": "stream",
     "text": [
      "                   all         35        158      0.981          1      0.985      0.842      0.981          1      0.985      0.737\n",
      "\n",
      "      Epoch    GPU_mem   box_loss   seg_loss   cls_loss   dfl_loss  Instances       Size\n"
     ]
    },
    {
     "name": "stderr",
     "output_type": "stream",
     "text": [
      "     51/300      19.6G     0.5396     0.5811     0.3279     0.8175         51       1280: 100%|██████████| 7/7 [00:02<00:00,  2.98it/s]\n",
      "                 Class     Images  Instances      Box(P          R      mAP50  mAP50-95)     Mask(P          R      mAP50  mAP50-95): 100%|██████████| 5/5 [00:00<00:00,  6.99it/s]\n"
     ]
    },
    {
     "name": "stdout",
     "output_type": "stream",
     "text": [
      "                   all         35        158      0.978          1      0.986       0.87      0.978          1      0.986      0.734\n",
      "\n",
      "      Epoch    GPU_mem   box_loss   seg_loss   cls_loss   dfl_loss  Instances       Size\n"
     ]
    },
    {
     "name": "stderr",
     "output_type": "stream",
     "text": [
      "     52/300      19.6G     0.5662     0.6693     0.3386     0.8166         58       1280: 100%|██████████| 7/7 [00:02<00:00,  2.96it/s]\n",
      "                 Class     Images  Instances      Box(P          R      mAP50  mAP50-95)     Mask(P          R      mAP50  mAP50-95): 100%|██████████| 5/5 [00:00<00:00,  6.98it/s]\n"
     ]
    },
    {
     "name": "stdout",
     "output_type": "stream",
     "text": [
      "                   all         35        158      0.979          1      0.986       0.86      0.979          1      0.986      0.723\n",
      "\n",
      "      Epoch    GPU_mem   box_loss   seg_loss   cls_loss   dfl_loss  Instances       Size\n"
     ]
    },
    {
     "name": "stderr",
     "output_type": "stream",
     "text": [
      "     53/300      19.8G     0.5461     0.6668     0.3302     0.8363         46       1280: 100%|██████████| 7/7 [00:02<00:00,  2.93it/s]\n",
      "                 Class     Images  Instances      Box(P          R      mAP50  mAP50-95)     Mask(P          R      mAP50  mAP50-95): 100%|██████████| 5/5 [00:00<00:00,  7.00it/s]\n"
     ]
    },
    {
     "name": "stdout",
     "output_type": "stream",
     "text": [
      "                   all         35        158       0.98          1      0.988      0.845       0.98          1      0.988      0.737\n",
      "\n",
      "      Epoch    GPU_mem   box_loss   seg_loss   cls_loss   dfl_loss  Instances       Size\n"
     ]
    },
    {
     "name": "stderr",
     "output_type": "stream",
     "text": [
      "     54/300      19.5G     0.6237     0.6564     0.3477     0.8288         73       1280:  29%|██▊       | 2/7 [00:00<00:01,  2.79it/s]/home/spuser/.conda/envs/yanpan/lib/python3.11/site-packages/ultralytics/data/augment.py:1143: RuntimeWarning: divide by zero encountered in divide\n",
      "  xy = xy[:, :2] / xy[:, 2:3]\n",
      "     54/300      19.5G     0.5816     0.6635     0.3396     0.8303         42       1280: 100%|██████████| 7/7 [00:02<00:00,  2.94it/s]\n",
      "                 Class     Images  Instances      Box(P          R      mAP50  mAP50-95)     Mask(P          R      mAP50  mAP50-95): 100%|██████████| 5/5 [00:00<00:00,  7.00it/s]\n"
     ]
    },
    {
     "name": "stdout",
     "output_type": "stream",
     "text": [
      "                   all         35        158      0.978          1      0.981      0.863      0.978          1      0.981       0.74\n",
      "\n",
      "      Epoch    GPU_mem   box_loss   seg_loss   cls_loss   dfl_loss  Instances       Size\n"
     ]
    },
    {
     "name": "stderr",
     "output_type": "stream",
     "text": [
      "     55/300      19.7G     0.5608     0.6917      0.337     0.8453         56       1280: 100%|██████████| 7/7 [00:02<00:00,  2.94it/s]\n",
      "                 Class     Images  Instances      Box(P          R      mAP50  mAP50-95)     Mask(P          R      mAP50  mAP50-95): 100%|██████████| 5/5 [00:00<00:00,  7.01it/s]\n"
     ]
    },
    {
     "name": "stdout",
     "output_type": "stream",
     "text": [
      "                   all         35        158      0.986          1      0.985      0.888      0.986          1      0.985      0.714\n",
      "\n",
      "      Epoch    GPU_mem   box_loss   seg_loss   cls_loss   dfl_loss  Instances       Size\n"
     ]
    },
    {
     "name": "stderr",
     "output_type": "stream",
     "text": [
      "     56/300      19.7G     0.5379     0.6738     0.3379     0.8368         50       1280: 100%|██████████| 7/7 [00:02<00:00,  2.94it/s]\n",
      "                 Class     Images  Instances      Box(P          R      mAP50  mAP50-95)     Mask(P          R      mAP50  mAP50-95): 100%|██████████| 5/5 [00:00<00:00,  6.67it/s]\n"
     ]
    },
    {
     "name": "stdout",
     "output_type": "stream",
     "text": [
      "                   all         35        158      0.983          1      0.985      0.883      0.983          1      0.985      0.741\n",
      "\n",
      "      Epoch    GPU_mem   box_loss   seg_loss   cls_loss   dfl_loss  Instances       Size\n"
     ]
    },
    {
     "name": "stderr",
     "output_type": "stream",
     "text": [
      "     57/300      20.1G       0.59     0.6842     0.3583     0.8299         55       1280: 100%|██████████| 7/7 [00:02<00:00,  2.96it/s]\n",
      "                 Class     Images  Instances      Box(P          R      mAP50  mAP50-95)     Mask(P          R      mAP50  mAP50-95): 100%|██████████| 5/5 [00:00<00:00,  7.00it/s]\n"
     ]
    },
    {
     "name": "stdout",
     "output_type": "stream",
     "text": [
      "                   all         35        158      0.985          1      0.983      0.873      0.985          1      0.983      0.734\n",
      "\n",
      "      Epoch    GPU_mem   box_loss   seg_loss   cls_loss   dfl_loss  Instances       Size\n"
     ]
    },
    {
     "name": "stderr",
     "output_type": "stream",
     "text": [
      "     58/300      19.4G     0.5364     0.6549      0.345     0.8197         45       1280: 100%|██████████| 7/7 [00:02<00:00,  2.94it/s]\n",
      "                 Class     Images  Instances      Box(P          R      mAP50  mAP50-95)     Mask(P          R      mAP50  mAP50-95): 100%|██████████| 5/5 [00:00<00:00,  6.98it/s]\n"
     ]
    },
    {
     "name": "stdout",
     "output_type": "stream",
     "text": [
      "                   all         35        158      0.984          1      0.986      0.882      0.984          1      0.986      0.742\n",
      "\n",
      "      Epoch    GPU_mem   box_loss   seg_loss   cls_loss   dfl_loss  Instances       Size\n"
     ]
    },
    {
     "name": "stderr",
     "output_type": "stream",
     "text": [
      "     59/300      19.8G     0.5473     0.6088     0.3332     0.8297         52       1280: 100%|██████████| 7/7 [00:02<00:00,  2.92it/s]\n",
      "                 Class     Images  Instances      Box(P          R      mAP50  mAP50-95)     Mask(P          R      mAP50  mAP50-95): 100%|██████████| 5/5 [00:00<00:00,  7.02it/s]\n"
     ]
    },
    {
     "name": "stdout",
     "output_type": "stream",
     "text": [
      "                   all         35        158      0.985          1      0.985      0.884      0.985          1      0.985       0.77\n",
      "\n",
      "      Epoch    GPU_mem   box_loss   seg_loss   cls_loss   dfl_loss  Instances       Size\n"
     ]
    },
    {
     "name": "stderr",
     "output_type": "stream",
     "text": [
      "     60/300      19.7G     0.5463     0.6152     0.3324     0.8245         28       1280: 100%|██████████| 7/7 [00:02<00:00,  2.93it/s]\n",
      "                 Class     Images  Instances      Box(P          R      mAP50  mAP50-95)     Mask(P          R      mAP50  mAP50-95): 100%|██████████| 5/5 [00:00<00:00,  7.01it/s]\n"
     ]
    },
    {
     "name": "stdout",
     "output_type": "stream",
     "text": [
      "                   all         35        158      0.985          1      0.987      0.894      0.985          1      0.987      0.741\n",
      "\n",
      "      Epoch    GPU_mem   box_loss   seg_loss   cls_loss   dfl_loss  Instances       Size\n"
     ]
    },
    {
     "name": "stderr",
     "output_type": "stream",
     "text": [
      "     61/300      19.8G     0.5397     0.6202     0.3256     0.8283         55       1280: 100%|██████████| 7/7 [00:02<00:00,  2.91it/s]\n",
      "                 Class     Images  Instances      Box(P          R      mAP50  mAP50-95)     Mask(P          R      mAP50  mAP50-95): 100%|██████████| 5/5 [00:00<00:00,  6.94it/s]\n"
     ]
    },
    {
     "name": "stdout",
     "output_type": "stream",
     "text": [
      "                   all         35        158      0.985          1      0.987       0.89      0.985          1      0.987       0.77\n",
      "\n",
      "      Epoch    GPU_mem   box_loss   seg_loss   cls_loss   dfl_loss  Instances       Size\n"
     ]
    },
    {
     "name": "stderr",
     "output_type": "stream",
     "text": [
      "     62/300      19.7G      0.523     0.5882     0.3179     0.8184         64       1280: 100%|██████████| 7/7 [00:02<00:00,  2.93it/s]\n",
      "                 Class     Images  Instances      Box(P          R      mAP50  mAP50-95)     Mask(P          R      mAP50  mAP50-95): 100%|██████████| 5/5 [00:00<00:00,  6.75it/s]\n"
     ]
    },
    {
     "name": "stdout",
     "output_type": "stream",
     "text": [
      "                   all         35        158      0.983          1      0.984      0.876      0.983          1      0.984      0.752\n",
      "\n",
      "      Epoch    GPU_mem   box_loss   seg_loss   cls_loss   dfl_loss  Instances       Size\n"
     ]
    },
    {
     "name": "stderr",
     "output_type": "stream",
     "text": [
      "     63/300      19.7G     0.5103      0.551     0.3179     0.8138         78       1280:  29%|██▊       | 2/7 [00:00<00:01,  2.53it/s]/home/spuser/.conda/envs/yanpan/lib/python3.11/site-packages/ultralytics/data/augment.py:1143: RuntimeWarning: divide by zero encountered in divide\n",
      "  xy = xy[:, :2] / xy[:, 2:3]\n",
      "     63/300      19.7G     0.5054     0.5717     0.3043     0.8251         46       1280: 100%|██████████| 7/7 [00:02<00:00,  2.89it/s]\n",
      "                 Class     Images  Instances      Box(P          R      mAP50  mAP50-95)     Mask(P          R      mAP50  mAP50-95): 100%|██████████| 5/5 [00:00<00:00,  7.01it/s]\n"
     ]
    },
    {
     "name": "stdout",
     "output_type": "stream",
     "text": [
      "                   all         35        158      0.985          1      0.984      0.881      0.985          1      0.984       0.76\n",
      "\n",
      "      Epoch    GPU_mem   box_loss   seg_loss   cls_loss   dfl_loss  Instances       Size\n"
     ]
    },
    {
     "name": "stderr",
     "output_type": "stream",
     "text": [
      "     64/300      19.6G     0.5291     0.6509     0.3291     0.8245         55       1280: 100%|██████████| 7/7 [00:02<00:00,  2.95it/s]\n",
      "                 Class     Images  Instances      Box(P          R      mAP50  mAP50-95)     Mask(P          R      mAP50  mAP50-95): 100%|██████████| 5/5 [00:00<00:00,  6.90it/s]\n"
     ]
    },
    {
     "name": "stdout",
     "output_type": "stream",
     "text": [
      "                   all         35        158      0.986          1      0.985       0.89      0.986          1      0.985      0.753\n",
      "\n",
      "      Epoch    GPU_mem   box_loss   seg_loss   cls_loss   dfl_loss  Instances       Size\n"
     ]
    },
    {
     "name": "stderr",
     "output_type": "stream",
     "text": [
      "     65/300      20.3G     0.4823     0.5881     0.3094     0.8114         42       1280:  43%|████▎     | 3/7 [00:01<00:01,  2.85it/s]/home/spuser/.conda/envs/yanpan/lib/python3.11/site-packages/ultralytics/data/augment.py:1143: RuntimeWarning: divide by zero encountered in divide\n",
      "  xy = xy[:, :2] / xy[:, 2:3]\n",
      "     65/300      20.3G     0.4904     0.5771     0.3143     0.8196         39       1280: 100%|██████████| 7/7 [00:02<00:00,  2.93it/s]\n",
      "                 Class     Images  Instances      Box(P          R      mAP50  mAP50-95)     Mask(P          R      mAP50  mAP50-95): 100%|██████████| 5/5 [00:00<00:00,  6.99it/s]\n"
     ]
    },
    {
     "name": "stdout",
     "output_type": "stream",
     "text": [
      "                   all         35        158      0.986          1      0.985      0.878      0.986          1      0.985      0.757\n",
      "\n",
      "      Epoch    GPU_mem   box_loss   seg_loss   cls_loss   dfl_loss  Instances       Size\n"
     ]
    },
    {
     "name": "stderr",
     "output_type": "stream",
     "text": [
      "     66/300      19.6G     0.5277     0.6006     0.3109     0.8224         53       1280: 100%|██████████| 7/7 [00:02<00:00,  2.92it/s]\n",
      "                 Class     Images  Instances      Box(P          R      mAP50  mAP50-95)     Mask(P          R      mAP50  mAP50-95): 100%|██████████| 5/5 [00:00<00:00,  7.02it/s]\n"
     ]
    },
    {
     "name": "stdout",
     "output_type": "stream",
     "text": [
      "                   all         35        158      0.987          1      0.983      0.896      0.987          1      0.983      0.734\n",
      "\n",
      "      Epoch    GPU_mem   box_loss   seg_loss   cls_loss   dfl_loss  Instances       Size\n"
     ]
    },
    {
     "name": "stderr",
     "output_type": "stream",
     "text": [
      "     67/300      19.7G     0.5218     0.6496     0.3109     0.8299         80       1280:  86%|████████▌ | 6/7 [00:02<00:00,  2.76it/s]/home/spuser/.conda/envs/yanpan/lib/python3.11/site-packages/ultralytics/data/augment.py:1143: RuntimeWarning: divide by zero encountered in divide\n",
      "  xy = xy[:, :2] / xy[:, 2:3]\n",
      "     67/300      19.7G     0.5136     0.6407     0.3079     0.8269         77       1280: 100%|██████████| 7/7 [00:02<00:00,  2.90it/s]\n",
      "                 Class     Images  Instances      Box(P          R      mAP50  mAP50-95)     Mask(P          R      mAP50  mAP50-95): 100%|██████████| 5/5 [00:00<00:00,  7.02it/s]\n"
     ]
    },
    {
     "name": "stdout",
     "output_type": "stream",
     "text": [
      "                   all         35        158      0.987          1      0.983      0.893      0.987          1      0.983      0.736\n",
      "\n",
      "      Epoch    GPU_mem   box_loss   seg_loss   cls_loss   dfl_loss  Instances       Size\n"
     ]
    },
    {
     "name": "stderr",
     "output_type": "stream",
     "text": [
      "     68/300      19.5G     0.5237     0.6538     0.3161     0.8131         74       1280: 100%|██████████| 7/7 [00:02<00:00,  2.92it/s]\n",
      "                 Class     Images  Instances      Box(P          R      mAP50  mAP50-95)     Mask(P          R      mAP50  mAP50-95): 100%|██████████| 5/5 [00:00<00:00,  6.41it/s]\n"
     ]
    },
    {
     "name": "stdout",
     "output_type": "stream",
     "text": [
      "                   all         35        158      0.986          1      0.983       0.87      0.986          1      0.983      0.757\n",
      "\n",
      "      Epoch    GPU_mem   box_loss   seg_loss   cls_loss   dfl_loss  Instances       Size\n"
     ]
    },
    {
     "name": "stderr",
     "output_type": "stream",
     "text": [
      "     69/300      19.8G     0.5655     0.6441     0.3397     0.8305         54       1280: 100%|██████████| 7/7 [00:02<00:00,  2.99it/s]\n",
      "                 Class     Images  Instances      Box(P          R      mAP50  mAP50-95)     Mask(P          R      mAP50  mAP50-95): 100%|██████████| 5/5 [00:00<00:00,  7.02it/s]\n"
     ]
    },
    {
     "name": "stdout",
     "output_type": "stream",
     "text": [
      "                   all         35        158      0.986          1      0.983      0.875      0.986          1      0.983       0.75\n",
      "\n",
      "      Epoch    GPU_mem   box_loss   seg_loss   cls_loss   dfl_loss  Instances       Size\n"
     ]
    },
    {
     "name": "stderr",
     "output_type": "stream",
     "text": [
      "     70/300      19.5G     0.5429     0.6589     0.3195       0.84         50       1280: 100%|██████████| 7/7 [00:02<00:00,  2.95it/s]\n",
      "                 Class     Images  Instances      Box(P          R      mAP50  mAP50-95)     Mask(P          R      mAP50  mAP50-95): 100%|██████████| 5/5 [00:00<00:00,  7.02it/s]\n"
     ]
    },
    {
     "name": "stdout",
     "output_type": "stream",
     "text": [
      "                   all         35        158      0.987          1      0.983       0.86      0.987          1      0.983      0.757\n",
      "\n",
      "      Epoch    GPU_mem   box_loss   seg_loss   cls_loss   dfl_loss  Instances       Size\n"
     ]
    },
    {
     "name": "stderr",
     "output_type": "stream",
     "text": [
      "     71/300      19.4G      0.473     0.5575      0.289     0.8216         40       1280: 100%|██████████| 7/7 [00:02<00:00,  2.93it/s]\n",
      "                 Class     Images  Instances      Box(P          R      mAP50  mAP50-95)     Mask(P          R      mAP50  mAP50-95): 100%|██████████| 5/5 [00:00<00:00,  7.01it/s]\n"
     ]
    },
    {
     "name": "stdout",
     "output_type": "stream",
     "text": [
      "                   all         35        158      0.987          1      0.984      0.904      0.987          1      0.984      0.721\n",
      "\n",
      "      Epoch    GPU_mem   box_loss   seg_loss   cls_loss   dfl_loss  Instances       Size\n"
     ]
    },
    {
     "name": "stderr",
     "output_type": "stream",
     "text": [
      "     72/300      19.6G     0.5019     0.5793     0.3031     0.8148         65       1280: 100%|██████████| 7/7 [00:02<00:00,  2.92it/s]\n",
      "                 Class     Images  Instances      Box(P          R      mAP50  mAP50-95)     Mask(P          R      mAP50  mAP50-95): 100%|██████████| 5/5 [00:00<00:00,  7.01it/s]\n"
     ]
    },
    {
     "name": "stdout",
     "output_type": "stream",
     "text": [
      "                   all         35        158      0.985          1      0.984      0.875      0.985          1      0.984      0.753\n",
      "\n",
      "      Epoch    GPU_mem   box_loss   seg_loss   cls_loss   dfl_loss  Instances       Size\n"
     ]
    },
    {
     "name": "stderr",
     "output_type": "stream",
     "text": [
      "     73/300        20G     0.5047     0.5589     0.3126       0.82         86       1280: 100%|██████████| 7/7 [00:02<00:00,  2.94it/s]\n",
      "                 Class     Images  Instances      Box(P          R      mAP50  mAP50-95)     Mask(P          R      mAP50  mAP50-95): 100%|██████████| 5/5 [00:00<00:00,  6.98it/s]\n"
     ]
    },
    {
     "name": "stdout",
     "output_type": "stream",
     "text": [
      "                   all         35        158      0.986          1      0.984      0.896      0.986          1      0.984      0.758\n",
      "\n",
      "      Epoch    GPU_mem   box_loss   seg_loss   cls_loss   dfl_loss  Instances       Size\n"
     ]
    },
    {
     "name": "stderr",
     "output_type": "stream",
     "text": [
      "     74/300      19.4G      0.562     0.6427     0.3319     0.8414         46       1280: 100%|██████████| 7/7 [00:02<00:00,  2.90it/s]\n",
      "                 Class     Images  Instances      Box(P          R      mAP50  mAP50-95)     Mask(P          R      mAP50  mAP50-95): 100%|██████████| 5/5 [00:00<00:00,  6.53it/s]\n"
     ]
    },
    {
     "name": "stdout",
     "output_type": "stream",
     "text": [
      "                   all         35        158      0.987          1       0.99       0.89      0.987          1       0.99      0.778\n",
      "\n",
      "      Epoch    GPU_mem   box_loss   seg_loss   cls_loss   dfl_loss  Instances       Size\n"
     ]
    },
    {
     "name": "stderr",
     "output_type": "stream",
     "text": [
      "     75/300      19.5G     0.5363      0.613     0.3103     0.8371         64       1280:  43%|████▎     | 3/7 [00:01<00:01,  2.79it/s]/home/spuser/.conda/envs/yanpan/lib/python3.11/site-packages/ultralytics/data/augment.py:1143: RuntimeWarning: divide by zero encountered in divide\n",
      "  xy = xy[:, :2] / xy[:, 2:3]\n",
      "     75/300      19.5G     0.5211     0.5994     0.3084      0.825         49       1280: 100%|██████████| 7/7 [00:02<00:00,  2.93it/s]\n",
      "                 Class     Images  Instances      Box(P          R      mAP50  mAP50-95)     Mask(P          R      mAP50  mAP50-95): 100%|██████████| 5/5 [00:00<00:00,  7.05it/s]\n"
     ]
    },
    {
     "name": "stdout",
     "output_type": "stream",
     "text": [
      "                   all         35        158      0.987          1       0.99      0.901      0.987          1       0.99      0.777\n",
      "\n",
      "      Epoch    GPU_mem   box_loss   seg_loss   cls_loss   dfl_loss  Instances       Size\n"
     ]
    },
    {
     "name": "stderr",
     "output_type": "stream",
     "text": [
      "     76/300      19.2G      0.483     0.5964     0.3004     0.8286         54       1280: 100%|██████████| 7/7 [00:02<00:00,  2.94it/s]\n",
      "                 Class     Images  Instances      Box(P          R      mAP50  mAP50-95)     Mask(P          R      mAP50  mAP50-95): 100%|██████████| 5/5 [00:00<00:00,  7.05it/s]\n"
     ]
    },
    {
     "name": "stdout",
     "output_type": "stream",
     "text": [
      "                   all         35        158      0.987          1      0.984       0.89      0.987          1      0.984      0.786\n",
      "\n",
      "      Epoch    GPU_mem   box_loss   seg_loss   cls_loss   dfl_loss  Instances       Size\n"
     ]
    },
    {
     "name": "stderr",
     "output_type": "stream",
     "text": [
      "     77/300      20.1G     0.5249     0.5909      0.335     0.8183         74       1280: 100%|██████████| 7/7 [00:02<00:00,  2.92it/s]\n",
      "                 Class     Images  Instances      Box(P          R      mAP50  mAP50-95)     Mask(P          R      mAP50  mAP50-95): 100%|██████████| 5/5 [00:00<00:00,  7.06it/s]\n"
     ]
    },
    {
     "name": "stdout",
     "output_type": "stream",
     "text": [
      "                   all         35        158      0.987          1      0.983      0.891      0.987          1      0.983       0.77\n",
      "\n",
      "      Epoch    GPU_mem   box_loss   seg_loss   cls_loss   dfl_loss  Instances       Size\n"
     ]
    },
    {
     "name": "stderr",
     "output_type": "stream",
     "text": [
      "     78/300      19.3G     0.5006     0.6124     0.3163      0.825         38       1280: 100%|██████████| 7/7 [00:02<00:00,  2.92it/s]\n",
      "                 Class     Images  Instances      Box(P          R      mAP50  mAP50-95)     Mask(P          R      mAP50  mAP50-95): 100%|██████████| 5/5 [00:00<00:00,  7.02it/s]\n"
     ]
    },
    {
     "name": "stdout",
     "output_type": "stream",
     "text": [
      "                   all         35        158      0.987          1      0.986      0.888      0.987          1      0.986      0.766\n",
      "\n",
      "      Epoch    GPU_mem   box_loss   seg_loss   cls_loss   dfl_loss  Instances       Size\n"
     ]
    },
    {
     "name": "stderr",
     "output_type": "stream",
     "text": [
      "     79/300      19.5G      0.496     0.5518     0.3025     0.8135         44       1280: 100%|██████████| 7/7 [00:02<00:00,  2.93it/s]\n",
      "                 Class     Images  Instances      Box(P          R      mAP50  mAP50-95)     Mask(P          R      mAP50  mAP50-95): 100%|██████████| 5/5 [00:00<00:00,  6.87it/s]\n"
     ]
    },
    {
     "name": "stdout",
     "output_type": "stream",
     "text": [
      "                   all         35        158      0.979          1      0.983      0.891      0.979          1      0.983       0.73\n",
      "\n",
      "      Epoch    GPU_mem   box_loss   seg_loss   cls_loss   dfl_loss  Instances       Size\n"
     ]
    },
    {
     "name": "stderr",
     "output_type": "stream",
     "text": [
      "     80/300      19.7G     0.5057     0.6317     0.3006     0.8237         29       1280: 100%|██████████| 7/7 [00:02<00:00,  2.97it/s]\n",
      "                 Class     Images  Instances      Box(P          R      mAP50  mAP50-95)     Mask(P          R      mAP50  mAP50-95): 100%|██████████| 5/5 [00:00<00:00,  6.91it/s]\n"
     ]
    },
    {
     "name": "stdout",
     "output_type": "stream",
     "text": [
      "                   all         35        158      0.985          1      0.986       0.88      0.985          1      0.986      0.752\n",
      "\n",
      "      Epoch    GPU_mem   box_loss   seg_loss   cls_loss   dfl_loss  Instances       Size\n"
     ]
    },
    {
     "name": "stderr",
     "output_type": "stream",
     "text": [
      "     81/300      19.7G     0.5231     0.6439     0.3089      0.833         42       1280: 100%|██████████| 7/7 [00:02<00:00,  2.96it/s]\n",
      "                 Class     Images  Instances      Box(P          R      mAP50  mAP50-95)     Mask(P          R      mAP50  mAP50-95): 100%|██████████| 5/5 [00:00<00:00,  7.03it/s]\n"
     ]
    },
    {
     "name": "stdout",
     "output_type": "stream",
     "text": [
      "                   all         35        158      0.987          1      0.987       0.89      0.987          1      0.987      0.769\n",
      "\n",
      "      Epoch    GPU_mem   box_loss   seg_loss   cls_loss   dfl_loss  Instances       Size\n"
     ]
    },
    {
     "name": "stderr",
     "output_type": "stream",
     "text": [
      "     82/300      19.9G     0.5347     0.6237     0.3056     0.8285         44       1280: 100%|██████████| 7/7 [00:02<00:00,  2.93it/s]\n",
      "                 Class     Images  Instances      Box(P          R      mAP50  mAP50-95)     Mask(P          R      mAP50  mAP50-95): 100%|██████████| 5/5 [00:00<00:00,  7.01it/s]\n"
     ]
    },
    {
     "name": "stdout",
     "output_type": "stream",
     "text": [
      "                   all         35        158      0.987          1      0.987      0.901      0.987          1      0.987       0.73\n",
      "\n",
      "      Epoch    GPU_mem   box_loss   seg_loss   cls_loss   dfl_loss  Instances       Size\n"
     ]
    },
    {
     "name": "stderr",
     "output_type": "stream",
     "text": [
      "     83/300      19.7G     0.5073      0.597     0.2991     0.8054         64       1280: 100%|██████████| 7/7 [00:02<00:00,  2.92it/s]\n",
      "                 Class     Images  Instances      Box(P          R      mAP50  mAP50-95)     Mask(P          R      mAP50  mAP50-95): 100%|██████████| 5/5 [00:00<00:00,  7.01it/s]\n"
     ]
    },
    {
     "name": "stdout",
     "output_type": "stream",
     "text": [
      "                   all         35        158      0.987          1      0.989      0.906      0.987          1      0.989      0.771\n",
      "\n",
      "      Epoch    GPU_mem   box_loss   seg_loss   cls_loss   dfl_loss  Instances       Size\n"
     ]
    },
    {
     "name": "stderr",
     "output_type": "stream",
     "text": [
      "     84/300      19.6G     0.4948     0.5885     0.2952     0.8175         72       1280: 100%|██████████| 7/7 [00:02<00:00,  2.93it/s]\n",
      "                 Class     Images  Instances      Box(P          R      mAP50  mAP50-95)     Mask(P          R      mAP50  mAP50-95): 100%|██████████| 5/5 [00:00<00:00,  7.02it/s]\n"
     ]
    },
    {
     "name": "stdout",
     "output_type": "stream",
     "text": [
      "                   all         35        158      0.987          1      0.989       0.91      0.987          1      0.989      0.746\n",
      "\n",
      "      Epoch    GPU_mem   box_loss   seg_loss   cls_loss   dfl_loss  Instances       Size\n"
     ]
    },
    {
     "name": "stderr",
     "output_type": "stream",
     "text": [
      "     85/300      20.2G     0.5252     0.6315     0.3057     0.8237         29       1280: 100%|██████████| 7/7 [00:02<00:00,  2.91it/s]\n",
      "                 Class     Images  Instances      Box(P          R      mAP50  mAP50-95)     Mask(P          R      mAP50  mAP50-95): 100%|██████████| 5/5 [00:00<00:00,  6.80it/s]\n"
     ]
    },
    {
     "name": "stdout",
     "output_type": "stream",
     "text": [
      "                   all         35        158      0.986          1       0.99      0.891      0.986          1       0.99      0.763\n",
      "\n",
      "      Epoch    GPU_mem   box_loss   seg_loss   cls_loss   dfl_loss  Instances       Size\n"
     ]
    },
    {
     "name": "stderr",
     "output_type": "stream",
     "text": [
      "     86/300      19.6G     0.5503     0.6145     0.3073     0.8194         71       1280: 100%|██████████| 7/7 [00:02<00:00,  2.92it/s]\n",
      "                 Class     Images  Instances      Box(P          R      mAP50  mAP50-95)     Mask(P          R      mAP50  mAP50-95): 100%|██████████| 5/5 [00:00<00:00,  7.00it/s]\n"
     ]
    },
    {
     "name": "stdout",
     "output_type": "stream",
     "text": [
      "                   all         35        158      0.987          1      0.991      0.919      0.987          1      0.991      0.747\n",
      "\n",
      "      Epoch    GPU_mem   box_loss   seg_loss   cls_loss   dfl_loss  Instances       Size\n"
     ]
    },
    {
     "name": "stderr",
     "output_type": "stream",
     "text": [
      "     87/300      19.6G     0.5037     0.5656      0.289     0.8143         34       1280: 100%|██████████| 7/7 [00:02<00:00,  2.93it/s]\n",
      "                 Class     Images  Instances      Box(P          R      mAP50  mAP50-95)     Mask(P          R      mAP50  mAP50-95): 100%|██████████| 5/5 [00:00<00:00,  7.01it/s]\n"
     ]
    },
    {
     "name": "stdout",
     "output_type": "stream",
     "text": [
      "                   all         35        158      0.987          1       0.99       0.89      0.987          1       0.99      0.789\n",
      "\n",
      "      Epoch    GPU_mem   box_loss   seg_loss   cls_loss   dfl_loss  Instances       Size\n"
     ]
    },
    {
     "name": "stderr",
     "output_type": "stream",
     "text": [
      "     88/300      19.5G     0.5163     0.6017     0.3047     0.8221         66       1280: 100%|██████████| 7/7 [00:02<00:00,  2.95it/s]\n",
      "                 Class     Images  Instances      Box(P          R      mAP50  mAP50-95)     Mask(P          R      mAP50  mAP50-95): 100%|██████████| 5/5 [00:00<00:00,  7.04it/s]\n"
     ]
    },
    {
     "name": "stdout",
     "output_type": "stream",
     "text": [
      "                   all         35        158      0.987          1      0.989      0.901      0.987          1      0.989      0.765\n",
      "\n",
      "      Epoch    GPU_mem   box_loss   seg_loss   cls_loss   dfl_loss  Instances       Size\n"
     ]
    },
    {
     "name": "stderr",
     "output_type": "stream",
     "text": [
      "     89/300      19.9G     0.4657     0.5388      0.283     0.8081         79       1280:  43%|████▎     | 3/7 [00:01<00:01,  2.88it/s]/home/spuser/.conda/envs/yanpan/lib/python3.11/site-packages/ultralytics/data/augment.py:1143: RuntimeWarning: divide by zero encountered in divide\n",
      "  xy = xy[:, :2] / xy[:, 2:3]\n",
      "     89/300      19.9G     0.4975     0.5532     0.2904     0.8123         43       1280: 100%|██████████| 7/7 [00:02<00:00,  2.96it/s]\n",
      "                 Class     Images  Instances      Box(P          R      mAP50  mAP50-95)     Mask(P          R      mAP50  mAP50-95): 100%|██████████| 5/5 [00:00<00:00,  7.03it/s]\n"
     ]
    },
    {
     "name": "stdout",
     "output_type": "stream",
     "text": [
      "                   all         35        158      0.986          1      0.983      0.872      0.986          1      0.983      0.756\n",
      "\n",
      "      Epoch    GPU_mem   box_loss   seg_loss   cls_loss   dfl_loss  Instances       Size\n"
     ]
    },
    {
     "name": "stderr",
     "output_type": "stream",
     "text": [
      "     90/300        20G     0.4666     0.5331      0.288      0.817         24       1280: 100%|██████████| 7/7 [00:02<00:00,  2.90it/s]\n",
      "                 Class     Images  Instances      Box(P          R      mAP50  mAP50-95)     Mask(P          R      mAP50  mAP50-95): 100%|██████████| 5/5 [00:00<00:00,  6.82it/s]\n"
     ]
    },
    {
     "name": "stdout",
     "output_type": "stream",
     "text": [
      "                   all         35        158      0.986          1      0.987      0.882      0.986          1      0.987      0.763\n",
      "\n",
      "      Epoch    GPU_mem   box_loss   seg_loss   cls_loss   dfl_loss  Instances       Size\n"
     ]
    },
    {
     "name": "stderr",
     "output_type": "stream",
     "text": [
      "     91/300      20.2G     0.5598     0.6413     0.3087     0.8383         43       1280: 100%|██████████| 7/7 [00:02<00:00,  2.94it/s]\n",
      "                 Class     Images  Instances      Box(P          R      mAP50  mAP50-95)     Mask(P          R      mAP50  mAP50-95): 100%|██████████| 5/5 [00:00<00:00,  6.73it/s]\n"
     ]
    },
    {
     "name": "stdout",
     "output_type": "stream",
     "text": [
      "                   all         35        158      0.986          1      0.987      0.891      0.986          1      0.987      0.749\n",
      "\n",
      "      Epoch    GPU_mem   box_loss   seg_loss   cls_loss   dfl_loss  Instances       Size\n"
     ]
    },
    {
     "name": "stderr",
     "output_type": "stream",
     "text": [
      "     92/300      19.4G      0.523     0.6158      0.294     0.8201         62       1280: 100%|██████████| 7/7 [00:02<00:00,  2.96it/s]\n",
      "                 Class     Images  Instances      Box(P          R      mAP50  mAP50-95)     Mask(P          R      mAP50  mAP50-95): 100%|██████████| 5/5 [00:00<00:00,  7.04it/s]\n"
     ]
    },
    {
     "name": "stdout",
     "output_type": "stream",
     "text": [
      "                   all         35        158      0.987          1      0.991        0.9      0.987          1      0.991      0.761\n",
      "\n",
      "      Epoch    GPU_mem   box_loss   seg_loss   cls_loss   dfl_loss  Instances       Size\n"
     ]
    },
    {
     "name": "stderr",
     "output_type": "stream",
     "text": [
      "     93/300      20.1G     0.4909     0.5669     0.3011     0.8122         61       1280: 100%|██████████| 7/7 [00:02<00:00,  2.97it/s]\n",
      "                 Class     Images  Instances      Box(P          R      mAP50  mAP50-95)     Mask(P          R      mAP50  mAP50-95): 100%|██████████| 5/5 [00:00<00:00,  7.04it/s]\n"
     ]
    },
    {
     "name": "stdout",
     "output_type": "stream",
     "text": [
      "                   all         35        158      0.986          1       0.99      0.891      0.986          1       0.99      0.766\n",
      "\n",
      "      Epoch    GPU_mem   box_loss   seg_loss   cls_loss   dfl_loss  Instances       Size\n"
     ]
    },
    {
     "name": "stderr",
     "output_type": "stream",
     "text": [
      "     94/300      19.5G     0.5076     0.6492     0.3036     0.8312         68       1280: 100%|██████████| 7/7 [00:02<00:00,  2.87it/s]\n",
      "                 Class     Images  Instances      Box(P          R      mAP50  mAP50-95)     Mask(P          R      mAP50  mAP50-95): 100%|██████████| 5/5 [00:00<00:00,  6.88it/s]\n"
     ]
    },
    {
     "name": "stdout",
     "output_type": "stream",
     "text": [
      "                   all         35        158      0.987          1      0.991      0.908      0.987          1      0.991      0.751\n",
      "\n",
      "      Epoch    GPU_mem   box_loss   seg_loss   cls_loss   dfl_loss  Instances       Size\n"
     ]
    },
    {
     "name": "stderr",
     "output_type": "stream",
     "text": [
      "     95/300      19.5G     0.4804     0.5825     0.3013     0.8302         52       1280: 100%|██████████| 7/7 [00:02<00:00,  2.93it/s]\n",
      "                 Class     Images  Instances      Box(P          R      mAP50  mAP50-95)     Mask(P          R      mAP50  mAP50-95): 100%|██████████| 5/5 [00:00<00:00,  6.95it/s]\n"
     ]
    },
    {
     "name": "stdout",
     "output_type": "stream",
     "text": [
      "                   all         35        158      0.987          1      0.989      0.904      0.987          1      0.989       0.76\n",
      "\n",
      "      Epoch    GPU_mem   box_loss   seg_loss   cls_loss   dfl_loss  Instances       Size\n"
     ]
    },
    {
     "name": "stderr",
     "output_type": "stream",
     "text": [
      "     96/300      19.6G     0.5292     0.6619     0.2941     0.8289         31       1280: 100%|██████████| 7/7 [00:02<00:00,  2.96it/s]\n",
      "                 Class     Images  Instances      Box(P          R      mAP50  mAP50-95)     Mask(P          R      mAP50  mAP50-95): 100%|██████████| 5/5 [00:00<00:00,  6.80it/s]\n"
     ]
    },
    {
     "name": "stdout",
     "output_type": "stream",
     "text": [
      "                   all         35        158      0.987          1      0.989      0.905      0.987          1      0.989      0.764\n",
      "\n",
      "      Epoch    GPU_mem   box_loss   seg_loss   cls_loss   dfl_loss  Instances       Size\n"
     ]
    },
    {
     "name": "stderr",
     "output_type": "stream",
     "text": [
      "     97/300      19.8G     0.5001     0.5711     0.2852     0.8112         65       1280: 100%|██████████| 7/7 [00:02<00:00,  2.94it/s]\n",
      "                 Class     Images  Instances      Box(P          R      mAP50  mAP50-95)     Mask(P          R      mAP50  mAP50-95): 100%|██████████| 5/5 [00:00<00:00,  6.82it/s]\n"
     ]
    },
    {
     "name": "stdout",
     "output_type": "stream",
     "text": [
      "                   all         35        158      0.987          1      0.989      0.912      0.987          1      0.989      0.768\n",
      "\n",
      "      Epoch    GPU_mem   box_loss   seg_loss   cls_loss   dfl_loss  Instances       Size\n"
     ]
    },
    {
     "name": "stderr",
     "output_type": "stream",
     "text": [
      "     98/300      19.7G     0.5482      0.696     0.3054     0.8367         62       1280: 100%|██████████| 7/7 [00:02<00:00,  2.94it/s]\n",
      "                 Class     Images  Instances      Box(P          R      mAP50  mAP50-95)     Mask(P          R      mAP50  mAP50-95): 100%|██████████| 5/5 [00:00<00:00,  7.07it/s]\n"
     ]
    },
    {
     "name": "stdout",
     "output_type": "stream",
     "text": [
      "                   all         35        158      0.987          1       0.99      0.891      0.987          1       0.99      0.774\n",
      "\n",
      "      Epoch    GPU_mem   box_loss   seg_loss   cls_loss   dfl_loss  Instances       Size\n"
     ]
    },
    {
     "name": "stderr",
     "output_type": "stream",
     "text": [
      "     99/300      19.3G     0.4855     0.6262     0.2923     0.8189         33       1280: 100%|██████████| 7/7 [00:02<00:00,  2.93it/s]\n",
      "                 Class     Images  Instances      Box(P          R      mAP50  mAP50-95)     Mask(P          R      mAP50  mAP50-95): 100%|██████████| 5/5 [00:00<00:00,  7.02it/s]\n"
     ]
    },
    {
     "name": "stdout",
     "output_type": "stream",
     "text": [
      "                   all         35        158      0.987          1      0.989      0.911      0.987          1      0.989      0.757\n",
      "\n",
      "      Epoch    GPU_mem   box_loss   seg_loss   cls_loss   dfl_loss  Instances       Size\n"
     ]
    },
    {
     "name": "stderr",
     "output_type": "stream",
     "text": [
      "    100/300      19.5G     0.4895     0.5659     0.2955     0.8256         32       1280: 100%|██████████| 7/7 [00:02<00:00,  2.94it/s]\n",
      "                 Class     Images  Instances      Box(P          R      mAP50  mAP50-95)     Mask(P          R      mAP50  mAP50-95): 100%|██████████| 5/5 [00:00<00:00,  7.05it/s]\n"
     ]
    },
    {
     "name": "stdout",
     "output_type": "stream",
     "text": [
      "                   all         35        158      0.986          1      0.986        0.9      0.986          1      0.986      0.755\n",
      "\n",
      "      Epoch    GPU_mem   box_loss   seg_loss   cls_loss   dfl_loss  Instances       Size\n"
     ]
    },
    {
     "name": "stderr",
     "output_type": "stream",
     "text": [
      "    101/300        20G     0.5073     0.5849     0.2906     0.8349         43       1280: 100%|██████████| 7/7 [00:02<00:00,  2.88it/s]\n",
      "                 Class     Images  Instances      Box(P          R      mAP50  mAP50-95)     Mask(P          R      mAP50  mAP50-95): 100%|██████████| 5/5 [00:00<00:00,  7.03it/s]\n"
     ]
    },
    {
     "name": "stdout",
     "output_type": "stream",
     "text": [
      "                   all         35        158      0.984          1      0.987      0.888      0.984          1      0.987      0.776\n",
      "\n",
      "      Epoch    GPU_mem   box_loss   seg_loss   cls_loss   dfl_loss  Instances       Size\n"
     ]
    },
    {
     "name": "stderr",
     "output_type": "stream",
     "text": [
      "    102/300      19.4G     0.5237     0.6268     0.3018     0.8231         45       1280: 100%|██████████| 7/7 [00:02<00:00,  2.93it/s]\n",
      "                 Class     Images  Instances      Box(P          R      mAP50  mAP50-95)     Mask(P          R      mAP50  mAP50-95): 100%|██████████| 5/5 [00:00<00:00,  6.89it/s]\n"
     ]
    },
    {
     "name": "stdout",
     "output_type": "stream",
     "text": [
      "                   all         35        158      0.985          1      0.987      0.912      0.985          1      0.987      0.766\n",
      "\n",
      "      Epoch    GPU_mem   box_loss   seg_loss   cls_loss   dfl_loss  Instances       Size\n"
     ]
    },
    {
     "name": "stderr",
     "output_type": "stream",
     "text": [
      "    103/300      19.6G     0.4935     0.5648      0.287     0.8136         45       1280: 100%|██████████| 7/7 [00:02<00:00,  2.93it/s]\n",
      "                 Class     Images  Instances      Box(P          R      mAP50  mAP50-95)     Mask(P          R      mAP50  mAP50-95): 100%|██████████| 5/5 [00:00<00:00,  6.81it/s]\n"
     ]
    },
    {
     "name": "stdout",
     "output_type": "stream",
     "text": [
      "                   all         35        158      0.985          1      0.985      0.904      0.985          1      0.985      0.768\n",
      "\n",
      "      Epoch    GPU_mem   box_loss   seg_loss   cls_loss   dfl_loss  Instances       Size\n"
     ]
    },
    {
     "name": "stderr",
     "output_type": "stream",
     "text": [
      "    104/300      19.5G     0.4796     0.5451     0.2834     0.8251         61       1280:  71%|███████▏  | 5/7 [00:01<00:00,  2.95it/s]/home/spuser/.conda/envs/yanpan/lib/python3.11/site-packages/ultralytics/data/augment.py:1143: RuntimeWarning: divide by zero encountered in divide\n",
      "  xy = xy[:, :2] / xy[:, 2:3]\n",
      "    104/300      19.5G     0.4879     0.5617     0.2861     0.8182         38       1280: 100%|██████████| 7/7 [00:02<00:00,  2.97it/s]\n",
      "                 Class     Images  Instances      Box(P          R      mAP50  mAP50-95)     Mask(P          R      mAP50  mAP50-95): 100%|██████████| 5/5 [00:00<00:00,  7.02it/s]\n"
     ]
    },
    {
     "name": "stdout",
     "output_type": "stream",
     "text": [
      "                   all         35        158      0.987          1      0.984      0.893      0.987          1      0.984      0.768\n",
      "\n",
      "      Epoch    GPU_mem   box_loss   seg_loss   cls_loss   dfl_loss  Instances       Size\n"
     ]
    },
    {
     "name": "stderr",
     "output_type": "stream",
     "text": [
      "    105/300      20.1G     0.5127     0.6079     0.2918     0.8035         54       1280: 100%|██████████| 7/7 [00:02<00:00,  2.96it/s]\n",
      "                 Class     Images  Instances      Box(P          R      mAP50  mAP50-95)     Mask(P          R      mAP50  mAP50-95): 100%|██████████| 5/5 [00:00<00:00,  7.02it/s]\n"
     ]
    },
    {
     "name": "stdout",
     "output_type": "stream",
     "text": [
      "                   all         35        158      0.987          1      0.985      0.904      0.987          1      0.985      0.765\n",
      "\n",
      "      Epoch    GPU_mem   box_loss   seg_loss   cls_loss   dfl_loss  Instances       Size\n"
     ]
    },
    {
     "name": "stderr",
     "output_type": "stream",
     "text": [
      "    106/300      19.5G     0.5242     0.6375     0.2998      0.815         35       1280: 100%|██████████| 7/7 [00:02<00:00,  2.94it/s]\n",
      "                 Class     Images  Instances      Box(P          R      mAP50  mAP50-95)     Mask(P          R      mAP50  mAP50-95): 100%|██████████| 5/5 [00:00<00:00,  6.97it/s]\n"
     ]
    },
    {
     "name": "stdout",
     "output_type": "stream",
     "text": [
      "                   all         35        158      0.987          1      0.986      0.888      0.987          1      0.986      0.777\n",
      "\n",
      "      Epoch    GPU_mem   box_loss   seg_loss   cls_loss   dfl_loss  Instances       Size\n"
     ]
    },
    {
     "name": "stderr",
     "output_type": "stream",
     "text": [
      "    107/300      19.6G      0.473     0.5594     0.2845     0.8289         34       1280: 100%|██████████| 7/7 [00:02<00:00,  2.93it/s]\n",
      "                 Class     Images  Instances      Box(P          R      mAP50  mAP50-95)     Mask(P          R      mAP50  mAP50-95): 100%|██████████| 5/5 [00:00<00:00,  7.03it/s]\n"
     ]
    },
    {
     "name": "stdout",
     "output_type": "stream",
     "text": [
      "                   all         35        158      0.987          1      0.987      0.898      0.987          1      0.987      0.767\n",
      "\n",
      "      Epoch    GPU_mem   box_loss   seg_loss   cls_loss   dfl_loss  Instances       Size\n"
     ]
    },
    {
     "name": "stderr",
     "output_type": "stream",
     "text": [
      "    108/300      19.5G     0.4604       0.59     0.2877     0.8235         21       1280: 100%|██████████| 7/7 [00:02<00:00,  2.97it/s]\n",
      "                 Class     Images  Instances      Box(P          R      mAP50  mAP50-95)     Mask(P          R      mAP50  mAP50-95): 100%|██████████| 5/5 [00:00<00:00,  6.68it/s]\n"
     ]
    },
    {
     "name": "stdout",
     "output_type": "stream",
     "text": [
      "                   all         35        158      0.987          1      0.989      0.895      0.987          1      0.989      0.772\n",
      "\n",
      "      Epoch    GPU_mem   box_loss   seg_loss   cls_loss   dfl_loss  Instances       Size\n"
     ]
    },
    {
     "name": "stderr",
     "output_type": "stream",
     "text": [
      "    109/300      20.1G      0.522     0.6468     0.3011     0.8365         29       1280: 100%|██████████| 7/7 [00:02<00:00,  2.95it/s]\n",
      "                 Class     Images  Instances      Box(P          R      mAP50  mAP50-95)     Mask(P          R      mAP50  mAP50-95): 100%|██████████| 5/5 [00:00<00:00,  7.02it/s]\n"
     ]
    },
    {
     "name": "stdout",
     "output_type": "stream",
     "text": [
      "                   all         35        158      0.987          1       0.99      0.904      0.987          1       0.99      0.777\n",
      "\n",
      "      Epoch    GPU_mem   box_loss   seg_loss   cls_loss   dfl_loss  Instances       Size\n"
     ]
    },
    {
     "name": "stderr",
     "output_type": "stream",
     "text": [
      "    110/300      19.7G     0.5151      0.622     0.3002     0.8415         47       1280: 100%|██████████| 7/7 [00:02<00:00,  2.92it/s]\n",
      "                 Class     Images  Instances      Box(P          R      mAP50  mAP50-95)     Mask(P          R      mAP50  mAP50-95): 100%|██████████| 5/5 [00:00<00:00,  6.98it/s]\n"
     ]
    },
    {
     "name": "stdout",
     "output_type": "stream",
     "text": [
      "                   all         35        158      0.987          1      0.993      0.912      0.987          1      0.993      0.759\n",
      "\n",
      "      Epoch    GPU_mem   box_loss   seg_loss   cls_loss   dfl_loss  Instances       Size\n"
     ]
    },
    {
     "name": "stderr",
     "output_type": "stream",
     "text": [
      "    111/300      19.6G      0.523     0.5923     0.2989     0.8095         44       1280: 100%|██████████| 7/7 [00:02<00:00,  2.88it/s]\n",
      "                 Class     Images  Instances      Box(P          R      mAP50  mAP50-95)     Mask(P          R      mAP50  mAP50-95): 100%|██████████| 5/5 [00:00<00:00,  7.02it/s]\n"
     ]
    },
    {
     "name": "stdout",
     "output_type": "stream",
     "text": [
      "                   all         35        158      0.986          1       0.99      0.897      0.986          1       0.99      0.756\n",
      "\n",
      "      Epoch    GPU_mem   box_loss   seg_loss   cls_loss   dfl_loss  Instances       Size\n"
     ]
    },
    {
     "name": "stderr",
     "output_type": "stream",
     "text": [
      "    112/300      19.6G     0.5172     0.5989     0.2999     0.8086         49       1280: 100%|██████████| 7/7 [00:02<00:00,  2.92it/s]\n",
      "                 Class     Images  Instances      Box(P          R      mAP50  mAP50-95)     Mask(P          R      mAP50  mAP50-95): 100%|██████████| 5/5 [00:00<00:00,  7.04it/s]\n"
     ]
    },
    {
     "name": "stdout",
     "output_type": "stream",
     "text": [
      "                   all         35        158      0.986          1      0.987      0.892      0.986          1      0.987      0.761\n",
      "\n",
      "      Epoch    GPU_mem   box_loss   seg_loss   cls_loss   dfl_loss  Instances       Size\n"
     ]
    },
    {
     "name": "stderr",
     "output_type": "stream",
     "text": [
      "    113/300        20G     0.5005     0.6026     0.2967     0.8042         47       1280:  29%|██▊       | 2/7 [00:00<00:01,  2.81it/s]/home/spuser/.conda/envs/yanpan/lib/python3.11/site-packages/ultralytics/data/augment.py:1143: RuntimeWarning: divide by zero encountered in divide\n",
      "  xy = xy[:, :2] / xy[:, 2:3]\n",
      "    113/300      20.1G     0.4605     0.5566     0.2722     0.8089         63       1280: 100%|██████████| 7/7 [00:02<00:00,  2.95it/s]\n",
      "                 Class     Images  Instances      Box(P          R      mAP50  mAP50-95)     Mask(P          R      mAP50  mAP50-95): 100%|██████████| 5/5 [00:00<00:00,  7.01it/s]\n"
     ]
    },
    {
     "name": "stdout",
     "output_type": "stream",
     "text": [
      "                   all         35        158      0.987          1      0.987      0.895      0.987          1      0.987      0.757\n",
      "\n",
      "      Epoch    GPU_mem   box_loss   seg_loss   cls_loss   dfl_loss  Instances       Size\n"
     ]
    },
    {
     "name": "stderr",
     "output_type": "stream",
     "text": [
      "    114/300      19.5G     0.5504     0.6243     0.3163     0.8461         41       1280: 100%|██████████| 7/7 [00:02<00:00,  2.94it/s]\n",
      "                 Class     Images  Instances      Box(P          R      mAP50  mAP50-95)     Mask(P          R      mAP50  mAP50-95): 100%|██████████| 5/5 [00:00<00:00,  6.73it/s]\n"
     ]
    },
    {
     "name": "stdout",
     "output_type": "stream",
     "text": [
      "                   all         35        158      0.987          1      0.985      0.894      0.987          1      0.985      0.743\n",
      "\n",
      "      Epoch    GPU_mem   box_loss   seg_loss   cls_loss   dfl_loss  Instances       Size\n"
     ]
    },
    {
     "name": "stderr",
     "output_type": "stream",
     "text": [
      "    115/300      19.4G     0.4857     0.5726     0.2946     0.8172         44       1280: 100%|██████████| 7/7 [00:02<00:00,  2.94it/s]\n",
      "                 Class     Images  Instances      Box(P          R      mAP50  mAP50-95)     Mask(P          R      mAP50  mAP50-95): 100%|██████████| 5/5 [00:00<00:00,  7.01it/s]\n"
     ]
    },
    {
     "name": "stdout",
     "output_type": "stream",
     "text": [
      "                   all         35        158      0.986          1      0.987      0.894      0.986          1      0.987      0.764\n",
      "\n",
      "      Epoch    GPU_mem   box_loss   seg_loss   cls_loss   dfl_loss  Instances       Size\n"
     ]
    },
    {
     "name": "stderr",
     "output_type": "stream",
     "text": [
      "    116/300      19.4G     0.4877     0.5904     0.2876     0.8202         37       1280: 100%|██████████| 7/7 [00:02<00:00,  2.97it/s]\n",
      "                 Class     Images  Instances      Box(P          R      mAP50  mAP50-95)     Mask(P          R      mAP50  mAP50-95): 100%|██████████| 5/5 [00:00<00:00,  7.03it/s]\n"
     ]
    },
    {
     "name": "stdout",
     "output_type": "stream",
     "text": [
      "                   all         35        158      0.986          1      0.987      0.897      0.986          1      0.987      0.766\n",
      "\n",
      "      Epoch    GPU_mem   box_loss   seg_loss   cls_loss   dfl_loss  Instances       Size\n"
     ]
    },
    {
     "name": "stderr",
     "output_type": "stream",
     "text": [
      "    117/300      20.1G     0.5273     0.6039     0.3099     0.8289         33       1280: 100%|██████████| 7/7 [00:02<00:00,  2.96it/s]\n",
      "                 Class     Images  Instances      Box(P          R      mAP50  mAP50-95)     Mask(P          R      mAP50  mAP50-95): 100%|██████████| 5/5 [00:00<00:00,  7.04it/s]\n"
     ]
    },
    {
     "name": "stdout",
     "output_type": "stream",
     "text": [
      "                   all         35        158      0.986          1      0.988      0.902      0.986          1      0.988      0.755\n",
      "\n",
      "      Epoch    GPU_mem   box_loss   seg_loss   cls_loss   dfl_loss  Instances       Size\n"
     ]
    },
    {
     "name": "stderr",
     "output_type": "stream",
     "text": [
      "    118/300      19.4G     0.4854     0.6218     0.2898      0.829         55       1280: 100%|██████████| 7/7 [00:02<00:00,  2.95it/s]\n",
      "                 Class     Images  Instances      Box(P          R      mAP50  mAP50-95)     Mask(P          R      mAP50  mAP50-95): 100%|██████████| 5/5 [00:00<00:00,  7.07it/s]\n"
     ]
    },
    {
     "name": "stdout",
     "output_type": "stream",
     "text": [
      "                   all         35        158      0.987          1      0.989      0.893      0.987          1      0.989      0.791\n",
      "\n",
      "      Epoch    GPU_mem   box_loss   seg_loss   cls_loss   dfl_loss  Instances       Size\n"
     ]
    },
    {
     "name": "stderr",
     "output_type": "stream",
     "text": [
      "    119/300      19.9G     0.5038     0.6301     0.2978     0.8312         32       1280: 100%|██████████| 7/7 [00:02<00:00,  2.93it/s]\n",
      "                 Class     Images  Instances      Box(P          R      mAP50  mAP50-95)     Mask(P          R      mAP50  mAP50-95): 100%|██████████| 5/5 [00:00<00:00,  6.63it/s]\n"
     ]
    },
    {
     "name": "stdout",
     "output_type": "stream",
     "text": [
      "                   all         35        158      0.987          1      0.986      0.915      0.987          1      0.986      0.757\n",
      "\n",
      "      Epoch    GPU_mem   box_loss   seg_loss   cls_loss   dfl_loss  Instances       Size\n"
     ]
    },
    {
     "name": "stderr",
     "output_type": "stream",
     "text": [
      "    120/300      19.3G        0.5     0.6145     0.2932     0.8167         34       1280: 100%|██████████| 7/7 [00:02<00:00,  2.96it/s]\n",
      "                 Class     Images  Instances      Box(P          R      mAP50  mAP50-95)     Mask(P          R      mAP50  mAP50-95): 100%|██████████| 5/5 [00:00<00:00,  6.92it/s]\n"
     ]
    },
    {
     "name": "stdout",
     "output_type": "stream",
     "text": [
      "                   all         35        158      0.987          1      0.986      0.884      0.987          1      0.986      0.781\n",
      "\n",
      "      Epoch    GPU_mem   box_loss   seg_loss   cls_loss   dfl_loss  Instances       Size\n"
     ]
    },
    {
     "name": "stderr",
     "output_type": "stream",
     "text": [
      "    121/300      20.1G     0.5166     0.5997     0.2953     0.8124         59       1280: 100%|██████████| 7/7 [00:02<00:00,  2.96it/s]\n",
      "                 Class     Images  Instances      Box(P          R      mAP50  mAP50-95)     Mask(P          R      mAP50  mAP50-95): 100%|██████████| 5/5 [00:00<00:00,  6.99it/s]\n"
     ]
    },
    {
     "name": "stdout",
     "output_type": "stream",
     "text": [
      "                   all         35        158      0.987          1      0.986       0.89      0.987          1      0.986      0.773\n",
      "\n",
      "      Epoch    GPU_mem   box_loss   seg_loss   cls_loss   dfl_loss  Instances       Size\n"
     ]
    },
    {
     "name": "stderr",
     "output_type": "stream",
     "text": [
      "    122/300      19.7G     0.5495     0.6306     0.3049     0.8363         85       1280: 100%|██████████| 7/7 [00:02<00:00,  2.92it/s]\n",
      "                 Class     Images  Instances      Box(P          R      mAP50  mAP50-95)     Mask(P          R      mAP50  mAP50-95): 100%|██████████| 5/5 [00:00<00:00,  7.02it/s]\n"
     ]
    },
    {
     "name": "stdout",
     "output_type": "stream",
     "text": [
      "                   all         35        158      0.987          1       0.99      0.902      0.987          1       0.99      0.778\n",
      "\n",
      "      Epoch    GPU_mem   box_loss   seg_loss   cls_loss   dfl_loss  Instances       Size\n"
     ]
    },
    {
     "name": "stderr",
     "output_type": "stream",
     "text": [
      "    123/300      19.7G     0.4904     0.6326     0.2911     0.8196         21       1280: 100%|██████████| 7/7 [00:02<00:00,  2.91it/s]\n",
      "                 Class     Images  Instances      Box(P          R      mAP50  mAP50-95)     Mask(P          R      mAP50  mAP50-95): 100%|██████████| 5/5 [00:00<00:00,  7.01it/s]\n"
     ]
    },
    {
     "name": "stdout",
     "output_type": "stream",
     "text": [
      "                   all         35        158      0.987          1      0.986      0.898      0.987          1      0.986      0.781\n",
      "\n",
      "      Epoch    GPU_mem   box_loss   seg_loss   cls_loss   dfl_loss  Instances       Size\n"
     ]
    },
    {
     "name": "stderr",
     "output_type": "stream",
     "text": [
      "    124/300      19.3G      0.472     0.5431     0.2741     0.8226         40       1280: 100%|██████████| 7/7 [00:02<00:00,  2.96it/s]\n",
      "                 Class     Images  Instances      Box(P          R      mAP50  mAP50-95)     Mask(P          R      mAP50  mAP50-95): 100%|██████████| 5/5 [00:00<00:00,  7.06it/s]\n"
     ]
    },
    {
     "name": "stdout",
     "output_type": "stream",
     "text": [
      "                   all         35        158      0.987          1      0.986      0.871      0.987          1      0.986      0.768\n",
      "\n",
      "      Epoch    GPU_mem   box_loss   seg_loss   cls_loss   dfl_loss  Instances       Size\n"
     ]
    },
    {
     "name": "stderr",
     "output_type": "stream",
     "text": [
      "    125/300      19.8G     0.5069     0.6158     0.2933     0.8232         32       1280: 100%|██████████| 7/7 [00:02<00:00,  2.98it/s]\n",
      "                 Class     Images  Instances      Box(P          R      mAP50  mAP50-95)     Mask(P          R      mAP50  mAP50-95): 100%|██████████| 5/5 [00:00<00:00,  6.74it/s]\n"
     ]
    },
    {
     "name": "stdout",
     "output_type": "stream",
     "text": [
      "                   all         35        158      0.987          1      0.986      0.886      0.987          1      0.986      0.784\n",
      "\n",
      "      Epoch    GPU_mem   box_loss   seg_loss   cls_loss   dfl_loss  Instances       Size\n"
     ]
    },
    {
     "name": "stderr",
     "output_type": "stream",
     "text": [
      "    126/300      19.4G     0.5235     0.5966     0.3044     0.8174         76       1280: 100%|██████████| 7/7 [00:02<00:00,  2.94it/s]\n",
      "                 Class     Images  Instances      Box(P          R      mAP50  mAP50-95)     Mask(P          R      mAP50  mAP50-95): 100%|██████████| 5/5 [00:00<00:00,  7.04it/s]\n"
     ]
    },
    {
     "name": "stdout",
     "output_type": "stream",
     "text": [
      "                   all         35        158      0.987          1      0.986      0.909      0.987          1      0.986       0.74\n",
      "\n",
      "      Epoch    GPU_mem   box_loss   seg_loss   cls_loss   dfl_loss  Instances       Size\n"
     ]
    },
    {
     "name": "stderr",
     "output_type": "stream",
     "text": [
      "    127/300      19.4G     0.5214     0.6574     0.2961     0.8124         51       1280: 100%|██████████| 7/7 [00:02<00:00,  2.97it/s]\n",
      "                 Class     Images  Instances      Box(P          R      mAP50  mAP50-95)     Mask(P          R      mAP50  mAP50-95): 100%|██████████| 5/5 [00:00<00:00,  7.05it/s]\n"
     ]
    },
    {
     "name": "stdout",
     "output_type": "stream",
     "text": [
      "                   all         35        158      0.987          1      0.986      0.899      0.987          1      0.986       0.77\n",
      "\n",
      "      Epoch    GPU_mem   box_loss   seg_loss   cls_loss   dfl_loss  Instances       Size\n"
     ]
    },
    {
     "name": "stderr",
     "output_type": "stream",
     "text": [
      "    128/300      19.7G     0.4779     0.5993     0.2957     0.8031         56       1280: 100%|██████████| 7/7 [00:02<00:00,  2.96it/s]\n",
      "                 Class     Images  Instances      Box(P          R      mAP50  mAP50-95)     Mask(P          R      mAP50  mAP50-95): 100%|██████████| 5/5 [00:00<00:00,  7.04it/s]\n"
     ]
    },
    {
     "name": "stdout",
     "output_type": "stream",
     "text": [
      "                   all         35        158      0.986          1      0.986      0.907      0.986          1      0.986      0.755\n",
      "\n",
      "      Epoch    GPU_mem   box_loss   seg_loss   cls_loss   dfl_loss  Instances       Size\n"
     ]
    },
    {
     "name": "stderr",
     "output_type": "stream",
     "text": [
      "    129/300        20G     0.4978     0.5931     0.2948     0.8256         57       1280: 100%|██████████| 7/7 [00:02<00:00,  2.91it/s]\n",
      "                 Class     Images  Instances      Box(P          R      mAP50  mAP50-95)     Mask(P          R      mAP50  mAP50-95): 100%|██████████| 5/5 [00:00<00:00,  6.97it/s]\n"
     ]
    },
    {
     "name": "stdout",
     "output_type": "stream",
     "text": [
      "                   all         35        158      0.986          1      0.986      0.892      0.986          1      0.986      0.768\n",
      "\n",
      "      Epoch    GPU_mem   box_loss   seg_loss   cls_loss   dfl_loss  Instances       Size\n"
     ]
    },
    {
     "name": "stderr",
     "output_type": "stream",
     "text": [
      "    130/300      19.3G     0.4678     0.5586     0.2714     0.8097         43       1280: 100%|██████████| 7/7 [00:02<00:00,  2.92it/s]\n",
      "                 Class     Images  Instances      Box(P          R      mAP50  mAP50-95)     Mask(P          R      mAP50  mAP50-95): 100%|██████████| 5/5 [00:00<00:00,  6.95it/s]\n"
     ]
    },
    {
     "name": "stdout",
     "output_type": "stream",
     "text": [
      "                   all         35        158      0.985          1      0.985      0.896      0.985          1      0.985      0.767\n",
      "\n",
      "      Epoch    GPU_mem   box_loss   seg_loss   cls_loss   dfl_loss  Instances       Size\n"
     ]
    },
    {
     "name": "stderr",
     "output_type": "stream",
     "text": [
      "    131/300      20.1G     0.5031     0.5837     0.2971     0.8204         66       1280: 100%|██████████| 7/7 [00:02<00:00,  2.94it/s]\n",
      "                 Class     Images  Instances      Box(P          R      mAP50  mAP50-95)     Mask(P          R      mAP50  mAP50-95): 100%|██████████| 5/5 [00:00<00:00,  6.89it/s]\n"
     ]
    },
    {
     "name": "stdout",
     "output_type": "stream",
     "text": [
      "                   all         35        158      0.983          1      0.984       0.89      0.983          1      0.984      0.763\n",
      "\n",
      "      Epoch    GPU_mem   box_loss   seg_loss   cls_loss   dfl_loss  Instances       Size\n"
     ]
    },
    {
     "name": "stderr",
     "output_type": "stream",
     "text": [
      "    132/300      19.7G     0.4959      0.537      0.287     0.8103         61       1280: 100%|██████████| 7/7 [00:02<00:00,  2.95it/s]\n",
      "                 Class     Images  Instances      Box(P          R      mAP50  mAP50-95)     Mask(P          R      mAP50  mAP50-95): 100%|██████████| 5/5 [00:00<00:00,  7.04it/s]\n"
     ]
    },
    {
     "name": "stdout",
     "output_type": "stream",
     "text": [
      "                   all         35        158      0.987          1      0.986      0.894      0.987          1      0.986      0.756\n",
      "\n",
      "      Epoch    GPU_mem   box_loss   seg_loss   cls_loss   dfl_loss  Instances       Size\n"
     ]
    },
    {
     "name": "stderr",
     "output_type": "stream",
     "text": [
      "    133/300        20G     0.4929     0.5619     0.2789     0.8378         56       1280: 100%|██████████| 7/7 [00:02<00:00,  2.96it/s]\n",
      "                 Class     Images  Instances      Box(P          R      mAP50  mAP50-95)     Mask(P          R      mAP50  mAP50-95): 100%|██████████| 5/5 [00:00<00:00,  7.02it/s]\n"
     ]
    },
    {
     "name": "stdout",
     "output_type": "stream",
     "text": [
      "                   all         35        158      0.987          1      0.984       0.89      0.987          1      0.984      0.763\n",
      "\n",
      "      Epoch    GPU_mem   box_loss   seg_loss   cls_loss   dfl_loss  Instances       Size\n"
     ]
    },
    {
     "name": "stderr",
     "output_type": "stream",
     "text": [
      "    134/300      19.3G     0.4842     0.5717     0.2833     0.8164         48       1280: 100%|██████████| 7/7 [00:02<00:00,  2.93it/s]\n",
      "                 Class     Images  Instances      Box(P          R      mAP50  mAP50-95)     Mask(P          R      mAP50  mAP50-95): 100%|██████████| 5/5 [00:00<00:00,  7.05it/s]\n"
     ]
    },
    {
     "name": "stdout",
     "output_type": "stream",
     "text": [
      "                   all         35        158      0.987          1      0.984      0.908      0.987          1      0.984      0.763\n",
      "\n",
      "      Epoch    GPU_mem   box_loss   seg_loss   cls_loss   dfl_loss  Instances       Size\n"
     ]
    },
    {
     "name": "stderr",
     "output_type": "stream",
     "text": [
      "    135/300      19.4G       0.46     0.5807     0.2771      0.808         70       1280: 100%|██████████| 7/7 [00:02<00:00,  2.97it/s]\n",
      "                 Class     Images  Instances      Box(P          R      mAP50  mAP50-95)     Mask(P          R      mAP50  mAP50-95): 100%|██████████| 5/5 [00:00<00:00,  7.04it/s]\n"
     ]
    },
    {
     "name": "stdout",
     "output_type": "stream",
     "text": [
      "                   all         35        158      0.986          1      0.985      0.907      0.986          1      0.985      0.773\n",
      "\n",
      "      Epoch    GPU_mem   box_loss   seg_loss   cls_loss   dfl_loss  Instances       Size\n"
     ]
    },
    {
     "name": "stderr",
     "output_type": "stream",
     "text": [
      "    136/300      19.7G     0.4574     0.5309     0.2759     0.8168         67       1280: 100%|██████████| 7/7 [00:02<00:00,  2.97it/s]\n",
      "                 Class     Images  Instances      Box(P          R      mAP50  mAP50-95)     Mask(P          R      mAP50  mAP50-95): 100%|██████████| 5/5 [00:00<00:00,  6.88it/s]\n"
     ]
    },
    {
     "name": "stdout",
     "output_type": "stream",
     "text": [
      "                   all         35        158      0.986          1      0.988      0.921      0.986          1      0.988      0.772\n",
      "\n",
      "      Epoch    GPU_mem   box_loss   seg_loss   cls_loss   dfl_loss  Instances       Size\n"
     ]
    },
    {
     "name": "stderr",
     "output_type": "stream",
     "text": [
      "    137/300      20.2G     0.5447     0.6615     0.3059     0.8431         30       1280: 100%|██████████| 7/7 [00:02<00:00,  2.94it/s]\n",
      "                 Class     Images  Instances      Box(P          R      mAP50  mAP50-95)     Mask(P          R      mAP50  mAP50-95): 100%|██████████| 5/5 [00:00<00:00,  6.98it/s]\n"
     ]
    },
    {
     "name": "stdout",
     "output_type": "stream",
     "text": [
      "                   all         35        158      0.987          1      0.988      0.917      0.987          1      0.988      0.777\n",
      "\n",
      "      Epoch    GPU_mem   box_loss   seg_loss   cls_loss   dfl_loss  Instances       Size\n"
     ]
    },
    {
     "name": "stderr",
     "output_type": "stream",
     "text": [
      "    138/300      19.6G     0.5415     0.6627     0.2973     0.8214         44       1280: 100%|██████████| 7/7 [00:02<00:00,  2.86it/s]\n",
      "                 Class     Images  Instances      Box(P          R      mAP50  mAP50-95)     Mask(P          R      mAP50  mAP50-95): 100%|██████████| 5/5 [00:00<00:00,  7.02it/s]\n"
     ]
    },
    {
     "name": "stdout",
     "output_type": "stream",
     "text": [
      "                   all         35        158      0.987          1       0.99      0.901      0.987          1       0.99      0.796\n",
      "\n",
      "      Epoch    GPU_mem   box_loss   seg_loss   cls_loss   dfl_loss  Instances       Size\n"
     ]
    },
    {
     "name": "stderr",
     "output_type": "stream",
     "text": [
      "    139/300      19.7G     0.4492     0.5232     0.2532       0.81         33       1280: 100%|██████████| 7/7 [00:02<00:00,  2.89it/s]\n",
      "                 Class     Images  Instances      Box(P          R      mAP50  mAP50-95)     Mask(P          R      mAP50  mAP50-95): 100%|██████████| 5/5 [00:00<00:00,  7.01it/s]\n"
     ]
    },
    {
     "name": "stdout",
     "output_type": "stream",
     "text": [
      "                   all         35        158      0.986          1       0.99      0.923      0.986          1       0.99       0.79\n",
      "\n",
      "      Epoch    GPU_mem   box_loss   seg_loss   cls_loss   dfl_loss  Instances       Size\n"
     ]
    },
    {
     "name": "stderr",
     "output_type": "stream",
     "text": [
      "    140/300      19.4G     0.4928     0.5816     0.2807     0.7986         55       1280: 100%|██████████| 7/7 [00:02<00:00,  2.88it/s]\n",
      "                 Class     Images  Instances      Box(P          R      mAP50  mAP50-95)     Mask(P          R      mAP50  mAP50-95): 100%|██████████| 5/5 [00:00<00:00,  7.03it/s]\n"
     ]
    },
    {
     "name": "stdout",
     "output_type": "stream",
     "text": [
      "                   all         35        158      0.982          1      0.991      0.914      0.982          1      0.991      0.801\n",
      "\n",
      "      Epoch    GPU_mem   box_loss   seg_loss   cls_loss   dfl_loss  Instances       Size\n"
     ]
    },
    {
     "name": "stderr",
     "output_type": "stream",
     "text": [
      "    141/300        20G     0.4876     0.5561     0.2773     0.8023         39       1280: 100%|██████████| 7/7 [00:02<00:00,  2.93it/s]\n",
      "                 Class     Images  Instances      Box(P          R      mAP50  mAP50-95)     Mask(P          R      mAP50  mAP50-95): 100%|██████████| 5/5 [00:00<00:00,  7.05it/s]\n"
     ]
    },
    {
     "name": "stdout",
     "output_type": "stream",
     "text": [
      "                   all         35        158      0.983          1       0.99      0.912      0.983          1       0.99        0.8\n",
      "\n",
      "      Epoch    GPU_mem   box_loss   seg_loss   cls_loss   dfl_loss  Instances       Size\n"
     ]
    },
    {
     "name": "stderr",
     "output_type": "stream",
     "text": [
      "    142/300      20.1G      0.443     0.5378     0.2783     0.8176         25       1280: 100%|██████████| 7/7 [00:02<00:00,  2.92it/s]\n",
      "                 Class     Images  Instances      Box(P          R      mAP50  mAP50-95)     Mask(P          R      mAP50  mAP50-95): 100%|██████████| 5/5 [00:00<00:00,  7.04it/s]\n"
     ]
    },
    {
     "name": "stdout",
     "output_type": "stream",
     "text": [
      "                   all         35        158      0.986          1      0.991      0.926      0.986          1      0.991       0.78\n",
      "\n",
      "      Epoch    GPU_mem   box_loss   seg_loss   cls_loss   dfl_loss  Instances       Size\n"
     ]
    },
    {
     "name": "stderr",
     "output_type": "stream",
     "text": [
      "    143/300      19.8G     0.4851      0.536     0.2698     0.8119         68       1280: 100%|██████████| 7/7 [00:02<00:00,  2.92it/s]\n",
      "                 Class     Images  Instances      Box(P          R      mAP50  mAP50-95)     Mask(P          R      mAP50  mAP50-95): 100%|██████████| 5/5 [00:00<00:00,  6.88it/s]\n"
     ]
    },
    {
     "name": "stdout",
     "output_type": "stream",
     "text": [
      "                   all         35        158      0.987          1      0.989      0.914      0.987          1      0.989      0.778\n",
      "\n",
      "      Epoch    GPU_mem   box_loss   seg_loss   cls_loss   dfl_loss  Instances       Size\n"
     ]
    },
    {
     "name": "stderr",
     "output_type": "stream",
     "text": [
      "    144/300      19.5G     0.4848     0.5844     0.2775     0.8225         45       1280: 100%|██████████| 7/7 [00:02<00:00,  2.96it/s]\n",
      "                 Class     Images  Instances      Box(P          R      mAP50  mAP50-95)     Mask(P          R      mAP50  mAP50-95): 100%|██████████| 5/5 [00:00<00:00,  7.05it/s]\n"
     ]
    },
    {
     "name": "stdout",
     "output_type": "stream",
     "text": [
      "                   all         35        158      0.987          1       0.99      0.907      0.987          1       0.99      0.761\n",
      "\n",
      "      Epoch    GPU_mem   box_loss   seg_loss   cls_loss   dfl_loss  Instances       Size\n"
     ]
    },
    {
     "name": "stderr",
     "output_type": "stream",
     "text": [
      "    145/300        20G     0.4717     0.5477     0.2701     0.8229         63       1280: 100%|██████████| 7/7 [00:02<00:00,  2.95it/s]\n",
      "                 Class     Images  Instances      Box(P          R      mAP50  mAP50-95)     Mask(P          R      mAP50  mAP50-95): 100%|██████████| 5/5 [00:00<00:00,  7.02it/s]\n"
     ]
    },
    {
     "name": "stdout",
     "output_type": "stream",
     "text": [
      "                   all         35        158      0.986          1      0.989      0.908      0.986          1      0.989      0.775\n",
      "\n",
      "      Epoch    GPU_mem   box_loss   seg_loss   cls_loss   dfl_loss  Instances       Size\n"
     ]
    },
    {
     "name": "stderr",
     "output_type": "stream",
     "text": [
      "    146/300      19.6G     0.5238     0.6234     0.2879     0.8229         58       1280: 100%|██████████| 7/7 [00:02<00:00,  2.89it/s]\n",
      "                 Class     Images  Instances      Box(P          R      mAP50  mAP50-95)     Mask(P          R      mAP50  mAP50-95): 100%|██████████| 5/5 [00:00<00:00,  7.00it/s]\n"
     ]
    },
    {
     "name": "stdout",
     "output_type": "stream",
     "text": [
      "                   all         35        158      0.987          1      0.987      0.899      0.987          1      0.987      0.751\n",
      "\n",
      "      Epoch    GPU_mem   box_loss   seg_loss   cls_loss   dfl_loss  Instances       Size\n"
     ]
    },
    {
     "name": "stderr",
     "output_type": "stream",
     "text": [
      "    147/300      19.8G     0.5007     0.6056     0.2936     0.8111         68       1280: 100%|██████████| 7/7 [00:02<00:00,  2.91it/s]\n",
      "                 Class     Images  Instances      Box(P          R      mAP50  mAP50-95)     Mask(P          R      mAP50  mAP50-95): 100%|██████████| 5/5 [00:00<00:00,  7.05it/s]\n"
     ]
    },
    {
     "name": "stdout",
     "output_type": "stream",
     "text": [
      "                   all         35        158      0.987          1      0.986      0.908      0.987          1      0.986      0.757\n",
      "\n",
      "      Epoch    GPU_mem   box_loss   seg_loss   cls_loss   dfl_loss  Instances       Size\n"
     ]
    },
    {
     "name": "stderr",
     "output_type": "stream",
     "text": [
      "    148/300      19.6G     0.4683      0.604     0.2756     0.8151         45       1280: 100%|██████████| 7/7 [00:02<00:00,  2.94it/s]\n",
      "                 Class     Images  Instances      Box(P          R      mAP50  mAP50-95)     Mask(P          R      mAP50  mAP50-95): 100%|██████████| 5/5 [00:00<00:00,  6.69it/s]\n"
     ]
    },
    {
     "name": "stdout",
     "output_type": "stream",
     "text": [
      "                   all         35        158      0.987          1      0.983      0.905      0.987          1      0.983       0.78\n",
      "\n",
      "      Epoch    GPU_mem   box_loss   seg_loss   cls_loss   dfl_loss  Instances       Size\n"
     ]
    },
    {
     "name": "stderr",
     "output_type": "stream",
     "text": [
      "    149/300      20.4G     0.4756     0.5357     0.2659     0.8117         73       1280: 100%|██████████| 7/7 [00:02<00:00,  2.94it/s]\n",
      "                 Class     Images  Instances      Box(P          R      mAP50  mAP50-95)     Mask(P          R      mAP50  mAP50-95): 100%|██████████| 5/5 [00:00<00:00,  7.00it/s]\n"
     ]
    },
    {
     "name": "stdout",
     "output_type": "stream",
     "text": [
      "                   all         35        158      0.986          1      0.983      0.906      0.986          1      0.983      0.769\n",
      "\n",
      "      Epoch    GPU_mem   box_loss   seg_loss   cls_loss   dfl_loss  Instances       Size\n"
     ]
    },
    {
     "name": "stderr",
     "output_type": "stream",
     "text": [
      "    150/300      19.4G     0.4593     0.5354     0.2656     0.8015         67       1280: 100%|██████████| 7/7 [00:02<00:00,  2.94it/s]\n",
      "                 Class     Images  Instances      Box(P          R      mAP50  mAP50-95)     Mask(P          R      mAP50  mAP50-95): 100%|██████████| 5/5 [00:00<00:00,  7.03it/s]\n"
     ]
    },
    {
     "name": "stdout",
     "output_type": "stream",
     "text": [
      "                   all         35        158      0.987          1      0.983      0.913      0.987          1      0.983      0.762\n",
      "\n",
      "      Epoch    GPU_mem   box_loss   seg_loss   cls_loss   dfl_loss  Instances       Size\n"
     ]
    },
    {
     "name": "stderr",
     "output_type": "stream",
     "text": [
      "    151/300      19.6G     0.4316     0.5219     0.2766     0.8078         68       1280:  43%|████▎     | 3/7 [00:01<00:01,  2.82it/s]/home/spuser/.conda/envs/yanpan/lib/python3.11/site-packages/ultralytics/data/augment.py:1143: RuntimeWarning: divide by zero encountered in divide\n",
      "  xy = xy[:, :2] / xy[:, 2:3]\n",
      "    151/300      19.6G     0.4454     0.5582      0.274      0.819         40       1280: 100%|██████████| 7/7 [00:02<00:00,  2.91it/s]\n",
      "                 Class     Images  Instances      Box(P          R      mAP50  mAP50-95)     Mask(P          R      mAP50  mAP50-95): 100%|██████████| 5/5 [00:00<00:00,  7.01it/s]\n"
     ]
    },
    {
     "name": "stdout",
     "output_type": "stream",
     "text": [
      "                   all         35        158      0.986          1      0.983      0.888      0.986          1      0.983      0.746\n",
      "\n",
      "      Epoch    GPU_mem   box_loss   seg_loss   cls_loss   dfl_loss  Instances       Size\n"
     ]
    },
    {
     "name": "stderr",
     "output_type": "stream",
     "text": [
      "    152/300      19.7G     0.4397     0.5561     0.2597     0.7981         52       1280: 100%|██████████| 7/7 [00:02<00:00,  2.89it/s]\n",
      "                 Class     Images  Instances      Box(P          R      mAP50  mAP50-95)     Mask(P          R      mAP50  mAP50-95): 100%|██████████| 5/5 [00:00<00:00,  6.99it/s]\n"
     ]
    },
    {
     "name": "stdout",
     "output_type": "stream",
     "text": [
      "                   all         35        158      0.986          1      0.983      0.899      0.986          1      0.983      0.742\n",
      "\n",
      "      Epoch    GPU_mem   box_loss   seg_loss   cls_loss   dfl_loss  Instances       Size\n"
     ]
    },
    {
     "name": "stderr",
     "output_type": "stream",
     "text": [
      "    153/300      19.9G       0.49     0.6038     0.2901      0.823         38       1280: 100%|██████████| 7/7 [00:02<00:00,  2.94it/s]\n",
      "                 Class     Images  Instances      Box(P          R      mAP50  mAP50-95)     Mask(P          R      mAP50  mAP50-95): 100%|██████████| 5/5 [00:00<00:00,  7.01it/s]\n"
     ]
    },
    {
     "name": "stdout",
     "output_type": "stream",
     "text": [
      "                   all         35        158      0.987          1      0.983        0.9      0.987          1      0.983      0.742\n",
      "\n",
      "      Epoch    GPU_mem   box_loss   seg_loss   cls_loss   dfl_loss  Instances       Size\n"
     ]
    },
    {
     "name": "stderr",
     "output_type": "stream",
     "text": [
      "    154/300      19.4G     0.5054     0.6118     0.2866      0.813         60       1280: 100%|██████████| 7/7 [00:02<00:00,  2.94it/s]\n",
      "                 Class     Images  Instances      Box(P          R      mAP50  mAP50-95)     Mask(P          R      mAP50  mAP50-95): 100%|██████████| 5/5 [00:00<00:00,  6.78it/s]\n"
     ]
    },
    {
     "name": "stdout",
     "output_type": "stream",
     "text": [
      "                   all         35        158      0.987          1      0.988       0.89      0.987          1      0.988      0.776\n",
      "\n",
      "      Epoch    GPU_mem   box_loss   seg_loss   cls_loss   dfl_loss  Instances       Size\n"
     ]
    },
    {
     "name": "stderr",
     "output_type": "stream",
     "text": [
      "    155/300      19.6G     0.4608     0.5814     0.2651     0.8175         44       1280: 100%|██████████| 7/7 [00:02<00:00,  2.94it/s]\n",
      "                 Class     Images  Instances      Box(P          R      mAP50  mAP50-95)     Mask(P          R      mAP50  mAP50-95): 100%|██████████| 5/5 [00:00<00:00,  7.04it/s]\n"
     ]
    },
    {
     "name": "stdout",
     "output_type": "stream",
     "text": [
      "                   all         35        158      0.987          1      0.989      0.914      0.987          1      0.989      0.776\n",
      "\n",
      "      Epoch    GPU_mem   box_loss   seg_loss   cls_loss   dfl_loss  Instances       Size\n"
     ]
    },
    {
     "name": "stderr",
     "output_type": "stream",
     "text": [
      "    156/300      19.7G     0.4747      0.586     0.2732     0.8139         68       1280: 100%|██████████| 7/7 [00:02<00:00,  2.94it/s]\n",
      "                 Class     Images  Instances      Box(P          R      mAP50  mAP50-95)     Mask(P          R      mAP50  mAP50-95): 100%|██████████| 5/5 [00:00<00:00,  7.03it/s]\n"
     ]
    },
    {
     "name": "stdout",
     "output_type": "stream",
     "text": [
      "                   all         35        158      0.987          1      0.989        0.9      0.987          1      0.989      0.796\n",
      "\n",
      "      Epoch    GPU_mem   box_loss   seg_loss   cls_loss   dfl_loss  Instances       Size\n"
     ]
    },
    {
     "name": "stderr",
     "output_type": "stream",
     "text": [
      "    157/300      19.8G     0.4763     0.5628     0.2795     0.8171         37       1280: 100%|██████████| 7/7 [00:02<00:00,  2.96it/s]\n",
      "                 Class     Images  Instances      Box(P          R      mAP50  mAP50-95)     Mask(P          R      mAP50  mAP50-95): 100%|██████████| 5/5 [00:00<00:00,  7.02it/s]\n"
     ]
    },
    {
     "name": "stdout",
     "output_type": "stream",
     "text": [
      "                   all         35        158      0.987          1      0.986      0.899      0.987          1      0.986      0.789\n",
      "\n",
      "      Epoch    GPU_mem   box_loss   seg_loss   cls_loss   dfl_loss  Instances       Size\n"
     ]
    },
    {
     "name": "stderr",
     "output_type": "stream",
     "text": [
      "    158/300      19.5G     0.4839     0.5919     0.2696     0.8245         30       1280: 100%|██████████| 7/7 [00:02<00:00,  2.91it/s]\n",
      "                 Class     Images  Instances      Box(P          R      mAP50  mAP50-95)     Mask(P          R      mAP50  mAP50-95): 100%|██████████| 5/5 [00:00<00:00,  7.02it/s]\n"
     ]
    },
    {
     "name": "stdout",
     "output_type": "stream",
     "text": [
      "                   all         35        158      0.987          1      0.989      0.906      0.987          1      0.989       0.78\n",
      "\n",
      "      Epoch    GPU_mem   box_loss   seg_loss   cls_loss   dfl_loss  Instances       Size\n"
     ]
    },
    {
     "name": "stderr",
     "output_type": "stream",
     "text": [
      "    159/300      19.5G     0.5098     0.6196      0.278      0.814         55       1280: 100%|██████████| 7/7 [00:02<00:00,  2.92it/s]\n",
      "                 Class     Images  Instances      Box(P          R      mAP50  mAP50-95)     Mask(P          R      mAP50  mAP50-95): 100%|██████████| 5/5 [00:00<00:00,  6.93it/s]\n"
     ]
    },
    {
     "name": "stdout",
     "output_type": "stream",
     "text": [
      "                   all         35        158      0.987          1       0.99      0.919      0.987          1       0.99      0.773\n",
      "\n",
      "      Epoch    GPU_mem   box_loss   seg_loss   cls_loss   dfl_loss  Instances       Size\n"
     ]
    },
    {
     "name": "stderr",
     "output_type": "stream",
     "text": [
      "    160/300      19.5G     0.4757     0.5537     0.2755     0.8179         64       1280: 100%|██████████| 7/7 [00:02<00:00,  2.98it/s]\n",
      "                 Class     Images  Instances      Box(P          R      mAP50  mAP50-95)     Mask(P          R      mAP50  mAP50-95): 100%|██████████| 5/5 [00:00<00:00,  6.96it/s]\n"
     ]
    },
    {
     "name": "stdout",
     "output_type": "stream",
     "text": [
      "                   all         35        158      0.987          1      0.991      0.919      0.987          1      0.991      0.782\n",
      "\n",
      "      Epoch    GPU_mem   box_loss   seg_loss   cls_loss   dfl_loss  Instances       Size\n"
     ]
    },
    {
     "name": "stderr",
     "output_type": "stream",
     "text": [
      "    161/300      20.1G     0.4641     0.5506     0.2697     0.8087         50       1280: 100%|██████████| 7/7 [00:02<00:00,  2.96it/s]\n",
      "                 Class     Images  Instances      Box(P          R      mAP50  mAP50-95)     Mask(P          R      mAP50  mAP50-95): 100%|██████████| 5/5 [00:00<00:00,  7.05it/s]\n"
     ]
    },
    {
     "name": "stdout",
     "output_type": "stream",
     "text": [
      "                   all         35        158      0.987          1      0.991      0.906      0.987          1      0.991      0.794\n",
      "\n",
      "      Epoch    GPU_mem   box_loss   seg_loss   cls_loss   dfl_loss  Instances       Size\n"
     ]
    },
    {
     "name": "stderr",
     "output_type": "stream",
     "text": [
      "    162/300      19.5G     0.5064     0.6371     0.2849     0.8226         52       1280: 100%|██████████| 7/7 [00:02<00:00,  2.91it/s]\n",
      "                 Class     Images  Instances      Box(P          R      mAP50  mAP50-95)     Mask(P          R      mAP50  mAP50-95): 100%|██████████| 5/5 [00:00<00:00,  7.08it/s]\n"
     ]
    },
    {
     "name": "stdout",
     "output_type": "stream",
     "text": [
      "                   all         35        158      0.987          1      0.991      0.917      0.987          1      0.991      0.785\n",
      "\n",
      "      Epoch    GPU_mem   box_loss   seg_loss   cls_loss   dfl_loss  Instances       Size\n"
     ]
    },
    {
     "name": "stderr",
     "output_type": "stream",
     "text": [
      "    163/300      19.7G      0.487     0.5973     0.2751     0.8134         30       1280: 100%|██████████| 7/7 [00:02<00:00,  2.90it/s]\n",
      "                 Class     Images  Instances      Box(P          R      mAP50  mAP50-95)     Mask(P          R      mAP50  mAP50-95): 100%|██████████| 5/5 [00:00<00:00,  7.05it/s]\n"
     ]
    },
    {
     "name": "stdout",
     "output_type": "stream",
     "text": [
      "                   all         35        158      0.987          1       0.99      0.917      0.987          1       0.99      0.793\n",
      "\n",
      "      Epoch    GPU_mem   box_loss   seg_loss   cls_loss   dfl_loss  Instances       Size\n"
     ]
    },
    {
     "name": "stderr",
     "output_type": "stream",
     "text": [
      "    164/300      19.6G     0.4447     0.5452     0.2683     0.8012         47       1280: 100%|██████████| 7/7 [00:02<00:00,  2.94it/s]\n",
      "                 Class     Images  Instances      Box(P          R      mAP50  mAP50-95)     Mask(P          R      mAP50  mAP50-95): 100%|██████████| 5/5 [00:00<00:00,  7.06it/s]\n"
     ]
    },
    {
     "name": "stdout",
     "output_type": "stream",
     "text": [
      "                   all         35        158      0.987          1      0.989      0.917      0.987          1      0.989      0.786\n",
      "\n",
      "      Epoch    GPU_mem   box_loss   seg_loss   cls_loss   dfl_loss  Instances       Size\n"
     ]
    },
    {
     "name": "stderr",
     "output_type": "stream",
     "text": [
      "    165/300      20.1G      0.493     0.5867     0.2795     0.8311         70       1280: 100%|██████████| 7/7 [00:02<00:00,  2.96it/s]\n",
      "                 Class     Images  Instances      Box(P          R      mAP50  mAP50-95)     Mask(P          R      mAP50  mAP50-95): 100%|██████████| 5/5 [00:00<00:00,  6.65it/s]\n"
     ]
    },
    {
     "name": "stdout",
     "output_type": "stream",
     "text": [
      "                   all         35        158      0.987          1      0.989      0.917      0.987          1      0.989      0.788\n",
      "\n",
      "      Epoch    GPU_mem   box_loss   seg_loss   cls_loss   dfl_loss  Instances       Size\n"
     ]
    },
    {
     "name": "stderr",
     "output_type": "stream",
     "text": [
      "    166/300      19.5G     0.4326     0.5296     0.2518     0.8058         57       1280:  71%|███████▏  | 5/7 [00:01<00:00,  2.81it/s]/home/spuser/.conda/envs/yanpan/lib/python3.11/site-packages/ultralytics/data/augment.py:1143: RuntimeWarning: divide by zero encountered in divide\n",
      "  xy = xy[:, :2] / xy[:, 2:3]\n",
      "    166/300      19.5G     0.4339     0.5297      0.251     0.8095         48       1280: 100%|██████████| 7/7 [00:02<00:00,  2.94it/s]\n",
      "                 Class     Images  Instances      Box(P          R      mAP50  mAP50-95)     Mask(P          R      mAP50  mAP50-95): 100%|██████████| 5/5 [00:00<00:00,  7.06it/s]\n"
     ]
    },
    {
     "name": "stdout",
     "output_type": "stream",
     "text": [
      "                   all         35        158      0.987          1       0.99      0.908      0.987          1       0.99      0.784\n",
      "\n",
      "      Epoch    GPU_mem   box_loss   seg_loss   cls_loss   dfl_loss  Instances       Size\n"
     ]
    },
    {
     "name": "stderr",
     "output_type": "stream",
     "text": [
      "    167/300      19.8G     0.4748     0.5554     0.2646      0.813         40       1280: 100%|██████████| 7/7 [00:02<00:00,  2.95it/s]\n",
      "                 Class     Images  Instances      Box(P          R      mAP50  mAP50-95)     Mask(P          R      mAP50  mAP50-95): 100%|██████████| 5/5 [00:00<00:00,  7.05it/s]\n"
     ]
    },
    {
     "name": "stdout",
     "output_type": "stream",
     "text": [
      "                   all         35        158      0.987          1      0.987        0.9      0.987          1      0.987       0.77\n",
      "\n",
      "      Epoch    GPU_mem   box_loss   seg_loss   cls_loss   dfl_loss  Instances       Size\n"
     ]
    },
    {
     "name": "stderr",
     "output_type": "stream",
     "text": [
      "    168/300      19.6G     0.4704     0.5996     0.2753     0.7994         30       1280: 100%|██████████| 7/7 [00:02<00:00,  2.97it/s]\n",
      "                 Class     Images  Instances      Box(P          R      mAP50  mAP50-95)     Mask(P          R      mAP50  mAP50-95): 100%|██████████| 5/5 [00:00<00:00,  7.06it/s]\n"
     ]
    },
    {
     "name": "stdout",
     "output_type": "stream",
     "text": [
      "                   all         35        158      0.987          1       0.99      0.913      0.987          1       0.99      0.785\n",
      "\n",
      "      Epoch    GPU_mem   box_loss   seg_loss   cls_loss   dfl_loss  Instances       Size\n"
     ]
    },
    {
     "name": "stderr",
     "output_type": "stream",
     "text": [
      "    169/300        20G     0.4451     0.5564     0.2588     0.8008         40       1280: 100%|██████████| 7/7 [00:02<00:00,  2.92it/s]\n",
      "                 Class     Images  Instances      Box(P          R      mAP50  mAP50-95)     Mask(P          R      mAP50  mAP50-95): 100%|██████████| 5/5 [00:00<00:00,  7.05it/s]\n"
     ]
    },
    {
     "name": "stdout",
     "output_type": "stream",
     "text": [
      "                   all         35        158      0.987          1      0.989      0.919      0.987          1      0.989      0.781\n",
      "\n",
      "      Epoch    GPU_mem   box_loss   seg_loss   cls_loss   dfl_loss  Instances       Size\n"
     ]
    },
    {
     "name": "stderr",
     "output_type": "stream",
     "text": [
      "    170/300      19.4G     0.4362     0.5381     0.2613     0.8181         60       1280: 100%|██████████| 7/7 [00:02<00:00,  2.94it/s]\n",
      "                 Class     Images  Instances      Box(P          R      mAP50  mAP50-95)     Mask(P          R      mAP50  mAP50-95): 100%|██████████| 5/5 [00:00<00:00,  6.93it/s]\n"
     ]
    },
    {
     "name": "stdout",
     "output_type": "stream",
     "text": [
      "                   all         35        158      0.986          1      0.986      0.911      0.986          1      0.986      0.781\n",
      "\n",
      "      Epoch    GPU_mem   box_loss   seg_loss   cls_loss   dfl_loss  Instances       Size\n"
     ]
    },
    {
     "name": "stderr",
     "output_type": "stream",
     "text": [
      "    171/300      19.5G     0.4366     0.5385     0.2543      0.819         44       1280: 100%|██████████| 7/7 [00:02<00:00,  2.95it/s]\n",
      "                 Class     Images  Instances      Box(P          R      mAP50  mAP50-95)     Mask(P          R      mAP50  mAP50-95): 100%|██████████| 5/5 [00:00<00:00,  7.00it/s]\n"
     ]
    },
    {
     "name": "stdout",
     "output_type": "stream",
     "text": [
      "                   all         35        158      0.986          1      0.989      0.916      0.986          1      0.989      0.791\n",
      "\n",
      "      Epoch    GPU_mem   box_loss   seg_loss   cls_loss   dfl_loss  Instances       Size\n"
     ]
    },
    {
     "name": "stderr",
     "output_type": "stream",
     "text": [
      "    172/300      19.6G     0.4604     0.5545     0.2707     0.8293         47       1280: 100%|██████████| 7/7 [00:02<00:00,  2.95it/s]\n",
      "                 Class     Images  Instances      Box(P          R      mAP50  mAP50-95)     Mask(P          R      mAP50  mAP50-95): 100%|██████████| 5/5 [00:00<00:00,  6.94it/s]\n"
     ]
    },
    {
     "name": "stdout",
     "output_type": "stream",
     "text": [
      "                   all         35        158      0.987          1       0.99        0.9      0.987          1       0.99      0.778\n",
      "\n",
      "      Epoch    GPU_mem   box_loss   seg_loss   cls_loss   dfl_loss  Instances       Size\n"
     ]
    },
    {
     "name": "stderr",
     "output_type": "stream",
     "text": [
      "    173/300      20.1G     0.4957     0.5822     0.2756     0.8406         92       1280: 100%|██████████| 7/7 [00:02<00:00,  2.92it/s]\n",
      "                 Class     Images  Instances      Box(P          R      mAP50  mAP50-95)     Mask(P          R      mAP50  mAP50-95): 100%|██████████| 5/5 [00:00<00:00,  6.92it/s]\n"
     ]
    },
    {
     "name": "stdout",
     "output_type": "stream",
     "text": [
      "                   all         35        158      0.987          1      0.988      0.893      0.987          1      0.988       0.77\n",
      "\n",
      "      Epoch    GPU_mem   box_loss   seg_loss   cls_loss   dfl_loss  Instances       Size\n"
     ]
    },
    {
     "name": "stderr",
     "output_type": "stream",
     "text": [
      "    174/300      19.5G     0.4831     0.5392     0.2708     0.8112         78       1280: 100%|██████████| 7/7 [00:02<00:00,  2.92it/s]\n",
      "                 Class     Images  Instances      Box(P          R      mAP50  mAP50-95)     Mask(P          R      mAP50  mAP50-95): 100%|██████████| 5/5 [00:00<00:00,  7.04it/s]\n"
     ]
    },
    {
     "name": "stdout",
     "output_type": "stream",
     "text": [
      "                   all         35        158      0.987          1      0.986      0.914      0.987          1      0.986      0.773\n",
      "\n",
      "      Epoch    GPU_mem   box_loss   seg_loss   cls_loss   dfl_loss  Instances       Size\n"
     ]
    },
    {
     "name": "stderr",
     "output_type": "stream",
     "text": [
      "    175/300      19.6G     0.4792     0.5888     0.2819      0.818         39       1280: 100%|██████████| 7/7 [00:02<00:00,  2.89it/s]\n",
      "                 Class     Images  Instances      Box(P          R      mAP50  mAP50-95)     Mask(P          R      mAP50  mAP50-95): 100%|██████████| 5/5 [00:00<00:00,  7.08it/s]\n"
     ]
    },
    {
     "name": "stdout",
     "output_type": "stream",
     "text": [
      "                   all         35        158      0.987          1      0.986      0.909      0.987          1      0.986      0.792\n",
      "\n",
      "      Epoch    GPU_mem   box_loss   seg_loss   cls_loss   dfl_loss  Instances       Size\n"
     ]
    },
    {
     "name": "stderr",
     "output_type": "stream",
     "text": [
      "    176/300      19.6G      0.442     0.5187     0.2624     0.7988         58       1280: 100%|██████████| 7/7 [00:02<00:00,  2.93it/s]\n",
      "                 Class     Images  Instances      Box(P          R      mAP50  mAP50-95)     Mask(P          R      mAP50  mAP50-95): 100%|██████████| 5/5 [00:00<00:00,  6.77it/s]\n"
     ]
    },
    {
     "name": "stdout",
     "output_type": "stream",
     "text": [
      "                   all         35        158      0.986          1      0.986      0.913      0.986          1      0.986       0.78\n",
      "\n",
      "      Epoch    GPU_mem   box_loss   seg_loss   cls_loss   dfl_loss  Instances       Size\n"
     ]
    },
    {
     "name": "stderr",
     "output_type": "stream",
     "text": [
      "    177/300      20.1G     0.4432     0.5381     0.2558     0.8216         55       1280: 100%|██████████| 7/7 [00:02<00:00,  2.95it/s]\n",
      "                 Class     Images  Instances      Box(P          R      mAP50  mAP50-95)     Mask(P          R      mAP50  mAP50-95): 100%|██████████| 5/5 [00:00<00:00,  7.04it/s]\n"
     ]
    },
    {
     "name": "stdout",
     "output_type": "stream",
     "text": [
      "                   all         35        158      0.986          1      0.986      0.905      0.986          1      0.986      0.777\n",
      "\n",
      "      Epoch    GPU_mem   box_loss   seg_loss   cls_loss   dfl_loss  Instances       Size\n"
     ]
    },
    {
     "name": "stderr",
     "output_type": "stream",
     "text": [
      "    178/300      19.5G     0.4432     0.5422     0.2562     0.8037         55       1280: 100%|██████████| 7/7 [00:02<00:00,  2.95it/s]\n",
      "                 Class     Images  Instances      Box(P          R      mAP50  mAP50-95)     Mask(P          R      mAP50  mAP50-95): 100%|██████████| 5/5 [00:00<00:00,  7.03it/s]\n"
     ]
    },
    {
     "name": "stdout",
     "output_type": "stream",
     "text": [
      "                   all         35        158      0.987          1      0.986      0.912      0.987          1      0.986      0.784\n",
      "\n",
      "      Epoch    GPU_mem   box_loss   seg_loss   cls_loss   dfl_loss  Instances       Size\n"
     ]
    },
    {
     "name": "stderr",
     "output_type": "stream",
     "text": [
      "    179/300      19.5G     0.4619     0.5278     0.2584     0.8056         62       1280: 100%|██████████| 7/7 [00:02<00:00,  2.96it/s]\n",
      "                 Class     Images  Instances      Box(P          R      mAP50  mAP50-95)     Mask(P          R      mAP50  mAP50-95): 100%|██████████| 5/5 [00:00<00:00,  7.04it/s]\n"
     ]
    },
    {
     "name": "stdout",
     "output_type": "stream",
     "text": [
      "                   all         35        158      0.987          1      0.984       0.91      0.987          1      0.984      0.768\n",
      "\n",
      "      Epoch    GPU_mem   box_loss   seg_loss   cls_loss   dfl_loss  Instances       Size\n"
     ]
    },
    {
     "name": "stderr",
     "output_type": "stream",
     "text": [
      "    180/300      19.6G     0.4482     0.5818     0.2628     0.8066         60       1280: 100%|██████████| 7/7 [00:02<00:00,  2.94it/s]\n",
      "                 Class     Images  Instances      Box(P          R      mAP50  mAP50-95)     Mask(P          R      mAP50  mAP50-95): 100%|██████████| 5/5 [00:00<00:00,  7.04it/s]\n"
     ]
    },
    {
     "name": "stdout",
     "output_type": "stream",
     "text": [
      "                   all         35        158      0.987          1      0.986       0.91      0.987          1      0.986      0.775\n",
      "\n",
      "      Epoch    GPU_mem   box_loss   seg_loss   cls_loss   dfl_loss  Instances       Size\n"
     ]
    },
    {
     "name": "stderr",
     "output_type": "stream",
     "text": [
      "    181/300      19.8G     0.4311     0.5311     0.2581      0.812        105       1280: 100%|██████████| 7/7 [00:02<00:00,  2.96it/s]\n",
      "                 Class     Images  Instances      Box(P          R      mAP50  mAP50-95)     Mask(P          R      mAP50  mAP50-95): 100%|██████████| 5/5 [00:00<00:00,  7.02it/s]\n"
     ]
    },
    {
     "name": "stdout",
     "output_type": "stream",
     "text": [
      "                   all         35        158      0.987          1      0.985      0.911      0.987          1      0.985      0.765\n",
      "\n",
      "      Epoch    GPU_mem   box_loss   seg_loss   cls_loss   dfl_loss  Instances       Size\n"
     ]
    },
    {
     "name": "stderr",
     "output_type": "stream",
     "text": [
      "    182/300      19.9G     0.4526     0.5327     0.2612     0.8095         43       1280: 100%|██████████| 7/7 [00:02<00:00,  2.94it/s]\n",
      "                 Class     Images  Instances      Box(P          R      mAP50  mAP50-95)     Mask(P          R      mAP50  mAP50-95): 100%|██████████| 5/5 [00:00<00:00,  6.71it/s]\n"
     ]
    },
    {
     "name": "stdout",
     "output_type": "stream",
     "text": [
      "                   all         35        158      0.987          1      0.987      0.911      0.987          1      0.987       0.78\n",
      "\n",
      "      Epoch    GPU_mem   box_loss   seg_loss   cls_loss   dfl_loss  Instances       Size\n"
     ]
    },
    {
     "name": "stderr",
     "output_type": "stream",
     "text": [
      "    183/300      19.7G       0.46      0.583     0.2595     0.8243         32       1280: 100%|██████████| 7/7 [00:02<00:00,  2.95it/s]\n",
      "                 Class     Images  Instances      Box(P          R      mAP50  mAP50-95)     Mask(P          R      mAP50  mAP50-95): 100%|██████████| 5/5 [00:00<00:00,  7.04it/s]\n"
     ]
    },
    {
     "name": "stdout",
     "output_type": "stream",
     "text": [
      "                   all         35        158      0.987          1      0.988      0.912      0.987          1      0.988      0.769\n",
      "\n",
      "      Epoch    GPU_mem   box_loss   seg_loss   cls_loss   dfl_loss  Instances       Size\n"
     ]
    },
    {
     "name": "stderr",
     "output_type": "stream",
     "text": [
      "    184/300      19.6G     0.4395     0.5401     0.2511     0.8182         59       1280: 100%|██████████| 7/7 [00:02<00:00,  2.96it/s]\n",
      "                 Class     Images  Instances      Box(P          R      mAP50  mAP50-95)     Mask(P          R      mAP50  mAP50-95): 100%|██████████| 5/5 [00:00<00:00,  7.03it/s]\n"
     ]
    },
    {
     "name": "stdout",
     "output_type": "stream",
     "text": [
      "                   all         35        158      0.987          1      0.987      0.911      0.987          1      0.987      0.773\n",
      "\n",
      "      Epoch    GPU_mem   box_loss   seg_loss   cls_loss   dfl_loss  Instances       Size\n"
     ]
    },
    {
     "name": "stderr",
     "output_type": "stream",
     "text": [
      "    185/300      19.9G     0.4453     0.4814     0.2564      0.818         51       1280: 100%|██████████| 7/7 [00:02<00:00,  2.95it/s]\n",
      "                 Class     Images  Instances      Box(P          R      mAP50  mAP50-95)     Mask(P          R      mAP50  mAP50-95): 100%|██████████| 5/5 [00:00<00:00,  7.03it/s]\n"
     ]
    },
    {
     "name": "stdout",
     "output_type": "stream",
     "text": [
      "                   all         35        158      0.987          1      0.987      0.912      0.987          1      0.987      0.773\n",
      "\n",
      "      Epoch    GPU_mem   box_loss   seg_loss   cls_loss   dfl_loss  Instances       Size\n"
     ]
    },
    {
     "name": "stderr",
     "output_type": "stream",
     "text": [
      "    186/300      19.6G     0.4609     0.5331     0.2674     0.8036         62       1280: 100%|██████████| 7/7 [00:02<00:00,  2.93it/s]\n",
      "                 Class     Images  Instances      Box(P          R      mAP50  mAP50-95)     Mask(P          R      mAP50  mAP50-95): 100%|██████████| 5/5 [00:00<00:00,  7.03it/s]\n"
     ]
    },
    {
     "name": "stdout",
     "output_type": "stream",
     "text": [
      "                   all         35        158      0.987          1      0.987      0.915      0.987          1      0.987      0.761\n",
      "\n",
      "      Epoch    GPU_mem   box_loss   seg_loss   cls_loss   dfl_loss  Instances       Size\n"
     ]
    },
    {
     "name": "stderr",
     "output_type": "stream",
     "text": [
      "    187/300      19.5G     0.4318     0.4895     0.2513     0.8228         50       1280: 100%|██████████| 7/7 [00:02<00:00,  2.90it/s]\n",
      "                 Class     Images  Instances      Box(P          R      mAP50  mAP50-95)     Mask(P          R      mAP50  mAP50-95): 100%|██████████| 5/5 [00:00<00:00,  6.93it/s]\n"
     ]
    },
    {
     "name": "stdout",
     "output_type": "stream",
     "text": [
      "                   all         35        158      0.987          1      0.987      0.924      0.987          1      0.987      0.779\n",
      "\n",
      "      Epoch    GPU_mem   box_loss   seg_loss   cls_loss   dfl_loss  Instances       Size\n"
     ]
    },
    {
     "name": "stderr",
     "output_type": "stream",
     "text": [
      "    188/300      19.7G     0.4531     0.5635     0.2637     0.8042         71       1280: 100%|██████████| 7/7 [00:02<00:00,  2.95it/s]\n",
      "                 Class     Images  Instances      Box(P          R      mAP50  mAP50-95)     Mask(P          R      mAP50  mAP50-95): 100%|██████████| 5/5 [00:00<00:00,  6.87it/s]\n"
     ]
    },
    {
     "name": "stdout",
     "output_type": "stream",
     "text": [
      "                   all         35        158      0.987          1      0.986      0.928      0.987          1      0.986      0.759\n",
      "\n",
      "      Epoch    GPU_mem   box_loss   seg_loss   cls_loss   dfl_loss  Instances       Size\n"
     ]
    },
    {
     "name": "stderr",
     "output_type": "stream",
     "text": [
      "    189/300      20.2G     0.4362     0.4889     0.2518     0.8037         46       1280: 100%|██████████| 7/7 [00:02<00:00,  2.96it/s]\n",
      "                 Class     Images  Instances      Box(P          R      mAP50  mAP50-95)     Mask(P          R      mAP50  mAP50-95): 100%|██████████| 5/5 [00:00<00:00,  7.00it/s]\n"
     ]
    },
    {
     "name": "stdout",
     "output_type": "stream",
     "text": [
      "                   all         35        158      0.987          1      0.985      0.917      0.987          1      0.985      0.757\n",
      "\n",
      "      Epoch    GPU_mem   box_loss   seg_loss   cls_loss   dfl_loss  Instances       Size\n"
     ]
    },
    {
     "name": "stderr",
     "output_type": "stream",
     "text": [
      "    190/300      19.5G     0.4622     0.5101       0.26     0.8067         66       1280: 100%|██████████| 7/7 [00:02<00:00,  2.92it/s]\n",
      "                 Class     Images  Instances      Box(P          R      mAP50  mAP50-95)     Mask(P          R      mAP50  mAP50-95): 100%|██████████| 5/5 [00:00<00:00,  7.05it/s]\n"
     ]
    },
    {
     "name": "stdout",
     "output_type": "stream",
     "text": [
      "                   all         35        158      0.987          1      0.984      0.916      0.987          1      0.984      0.775\n",
      "\n",
      "      Epoch    GPU_mem   box_loss   seg_loss   cls_loss   dfl_loss  Instances       Size\n"
     ]
    },
    {
     "name": "stderr",
     "output_type": "stream",
     "text": [
      "    191/300      19.8G     0.4412     0.5186     0.2525        0.8         46       1280: 100%|██████████| 7/7 [00:02<00:00,  2.93it/s]\n",
      "                 Class     Images  Instances      Box(P          R      mAP50  mAP50-95)     Mask(P          R      mAP50  mAP50-95): 100%|██████████| 5/5 [00:00<00:00,  7.04it/s]\n"
     ]
    },
    {
     "name": "stdout",
     "output_type": "stream",
     "text": [
      "                   all         35        158      0.987          1      0.985      0.918      0.987          1      0.985      0.779\n",
      "\n",
      "      Epoch    GPU_mem   box_loss   seg_loss   cls_loss   dfl_loss  Instances       Size\n"
     ]
    },
    {
     "name": "stderr",
     "output_type": "stream",
     "text": [
      "    192/300      19.4G     0.4496     0.5231     0.2545     0.7989         54       1280: 100%|██████████| 7/7 [00:02<00:00,  2.93it/s]\n",
      "                 Class     Images  Instances      Box(P          R      mAP50  mAP50-95)     Mask(P          R      mAP50  mAP50-95): 100%|██████████| 5/5 [00:00<00:00,  6.96it/s]\n"
     ]
    },
    {
     "name": "stdout",
     "output_type": "stream",
     "text": [
      "                   all         35        158      0.987          1      0.988      0.917      0.987          1      0.988      0.784\n",
      "\n",
      "      Epoch    GPU_mem   box_loss   seg_loss   cls_loss   dfl_loss  Instances       Size\n"
     ]
    },
    {
     "name": "stderr",
     "output_type": "stream",
     "text": [
      "    193/300      20.1G      0.457     0.5379     0.2472     0.8322         76       1280: 100%|██████████| 7/7 [00:02<00:00,  2.98it/s]\n",
      "                 Class     Images  Instances      Box(P          R      mAP50  mAP50-95)     Mask(P          R      mAP50  mAP50-95): 100%|██████████| 5/5 [00:00<00:00,  6.75it/s]\n"
     ]
    },
    {
     "name": "stdout",
     "output_type": "stream",
     "text": [
      "                   all         35        158      0.987          1      0.987      0.922      0.987          1      0.987      0.788\n",
      "\n",
      "      Epoch    GPU_mem   box_loss   seg_loss   cls_loss   dfl_loss  Instances       Size\n"
     ]
    },
    {
     "name": "stderr",
     "output_type": "stream",
     "text": [
      "    194/300      19.7G     0.4424     0.4887      0.254     0.8206         32       1280: 100%|██████████| 7/7 [00:02<00:00,  2.95it/s]\n",
      "                 Class     Images  Instances      Box(P          R      mAP50  mAP50-95)     Mask(P          R      mAP50  mAP50-95): 100%|██████████| 5/5 [00:00<00:00,  7.02it/s]\n"
     ]
    },
    {
     "name": "stdout",
     "output_type": "stream",
     "text": [
      "                   all         35        158      0.987          1      0.984       0.92      0.987          1      0.984      0.772\n",
      "\n",
      "      Epoch    GPU_mem   box_loss   seg_loss   cls_loss   dfl_loss  Instances       Size\n"
     ]
    },
    {
     "name": "stderr",
     "output_type": "stream",
     "text": [
      "    195/300      19.6G     0.4422     0.5047     0.2549     0.8151         38       1280: 100%|██████████| 7/7 [00:02<00:00,  2.96it/s]\n",
      "                 Class     Images  Instances      Box(P          R      mAP50  mAP50-95)     Mask(P          R      mAP50  mAP50-95): 100%|██████████| 5/5 [00:00<00:00,  7.05it/s]\n"
     ]
    },
    {
     "name": "stdout",
     "output_type": "stream",
     "text": [
      "                   all         35        158      0.987          1      0.984      0.909      0.987          1      0.984       0.79\n",
      "\n",
      "      Epoch    GPU_mem   box_loss   seg_loss   cls_loss   dfl_loss  Instances       Size\n"
     ]
    },
    {
     "name": "stderr",
     "output_type": "stream",
     "text": [
      "    196/300      19.4G     0.4474     0.4928     0.2584     0.8177         31       1280: 100%|██████████| 7/7 [00:02<00:00,  2.91it/s]\n",
      "                 Class     Images  Instances      Box(P          R      mAP50  mAP50-95)     Mask(P          R      mAP50  mAP50-95): 100%|██████████| 5/5 [00:00<00:00,  7.02it/s]\n"
     ]
    },
    {
     "name": "stdout",
     "output_type": "stream",
     "text": [
      "                   all         35        158      0.987          1      0.984      0.911      0.987          1      0.984      0.778\n",
      "\n",
      "      Epoch    GPU_mem   box_loss   seg_loss   cls_loss   dfl_loss  Instances       Size\n"
     ]
    },
    {
     "name": "stderr",
     "output_type": "stream",
     "text": [
      "    197/300      20.1G     0.4275     0.4853     0.2469     0.8155         32       1280: 100%|██████████| 7/7 [00:02<00:00,  2.96it/s]\n",
      "                 Class     Images  Instances      Box(P          R      mAP50  mAP50-95)     Mask(P          R      mAP50  mAP50-95): 100%|██████████| 5/5 [00:00<00:00,  7.03it/s]\n"
     ]
    },
    {
     "name": "stdout",
     "output_type": "stream",
     "text": [
      "                   all         35        158      0.987          1      0.984      0.919      0.987          1      0.984      0.777\n",
      "\n",
      "      Epoch    GPU_mem   box_loss   seg_loss   cls_loss   dfl_loss  Instances       Size\n"
     ]
    },
    {
     "name": "stderr",
     "output_type": "stream",
     "text": [
      "    198/300      19.4G     0.4274     0.5402     0.2471     0.8246         35       1280: 100%|██████████| 7/7 [00:02<00:00,  2.92it/s]\n",
      "                 Class     Images  Instances      Box(P          R      mAP50  mAP50-95)     Mask(P          R      mAP50  mAP50-95): 100%|██████████| 5/5 [00:00<00:00,  6.99it/s]\n"
     ]
    },
    {
     "name": "stdout",
     "output_type": "stream",
     "text": [
      "                   all         35        158      0.987          1      0.985       0.91      0.987          1      0.985       0.79\n",
      "\n",
      "      Epoch    GPU_mem   box_loss   seg_loss   cls_loss   dfl_loss  Instances       Size\n"
     ]
    },
    {
     "name": "stderr",
     "output_type": "stream",
     "text": [
      "    199/300      19.7G     0.4445     0.5364     0.2491     0.8108         27       1280: 100%|██████████| 7/7 [00:02<00:00,  2.95it/s]\n",
      "                 Class     Images  Instances      Box(P          R      mAP50  mAP50-95)     Mask(P          R      mAP50  mAP50-95): 100%|██████████| 5/5 [00:00<00:00,  6.89it/s]\n"
     ]
    },
    {
     "name": "stdout",
     "output_type": "stream",
     "text": [
      "                   all         35        158      0.986          1      0.986      0.907      0.986          1      0.986       0.78\n",
      "\n",
      "      Epoch    GPU_mem   box_loss   seg_loss   cls_loss   dfl_loss  Instances       Size\n"
     ]
    },
    {
     "name": "stderr",
     "output_type": "stream",
     "text": [
      "    200/300      19.6G     0.4733     0.5224     0.2642      0.796         66       1280: 100%|██████████| 7/7 [00:02<00:00,  2.96it/s]\n",
      "                 Class     Images  Instances      Box(P          R      mAP50  mAP50-95)     Mask(P          R      mAP50  mAP50-95): 100%|██████████| 5/5 [00:00<00:00,  6.63it/s]\n"
     ]
    },
    {
     "name": "stdout",
     "output_type": "stream",
     "text": [
      "                   all         35        158      0.987          1      0.988      0.913      0.987          1      0.988      0.792\n",
      "\n",
      "      Epoch    GPU_mem   box_loss   seg_loss   cls_loss   dfl_loss  Instances       Size\n"
     ]
    },
    {
     "name": "stderr",
     "output_type": "stream",
     "text": [
      "    201/300      20.2G     0.3962     0.4536     0.2345     0.8062         71       1280: 100%|██████████| 7/7 [00:02<00:00,  2.97it/s]\n",
      "                 Class     Images  Instances      Box(P          R      mAP50  mAP50-95)     Mask(P          R      mAP50  mAP50-95): 100%|██████████| 5/5 [00:00<00:00,  6.98it/s]\n"
     ]
    },
    {
     "name": "stdout",
     "output_type": "stream",
     "text": [
      "                   all         35        158      0.987          1       0.99      0.912      0.987          1       0.99      0.787\n",
      "\n",
      "      Epoch    GPU_mem   box_loss   seg_loss   cls_loss   dfl_loss  Instances       Size\n"
     ]
    },
    {
     "name": "stderr",
     "output_type": "stream",
     "text": [
      "    202/300      19.6G     0.4355      0.466     0.2491     0.8085         32       1280: 100%|██████████| 7/7 [00:02<00:00,  2.92it/s]\n",
      "                 Class     Images  Instances      Box(P          R      mAP50  mAP50-95)     Mask(P          R      mAP50  mAP50-95): 100%|██████████| 5/5 [00:00<00:00,  7.03it/s]\n"
     ]
    },
    {
     "name": "stdout",
     "output_type": "stream",
     "text": [
      "                   all         35        158      0.987          1       0.99      0.899      0.987          1       0.99       0.79\n",
      "\n",
      "      Epoch    GPU_mem   box_loss   seg_loss   cls_loss   dfl_loss  Instances       Size\n"
     ]
    },
    {
     "name": "stderr",
     "output_type": "stream",
     "text": [
      "    203/300      19.4G     0.3924     0.4658     0.2313     0.7917         54       1280: 100%|██████████| 7/7 [00:02<00:00,  2.91it/s]\n",
      "                 Class     Images  Instances      Box(P          R      mAP50  mAP50-95)     Mask(P          R      mAP50  mAP50-95): 100%|██████████| 5/5 [00:00<00:00,  7.06it/s]\n"
     ]
    },
    {
     "name": "stdout",
     "output_type": "stream",
     "text": [
      "                   all         35        158      0.987          1       0.99      0.907      0.987          1       0.99      0.802\n",
      "\n",
      "      Epoch    GPU_mem   box_loss   seg_loss   cls_loss   dfl_loss  Instances       Size\n"
     ]
    },
    {
     "name": "stderr",
     "output_type": "stream",
     "text": [
      "    204/300      19.5G     0.4544      0.499     0.2523     0.8117         72       1280: 100%|██████████| 7/7 [00:02<00:00,  2.96it/s]\n",
      "                 Class     Images  Instances      Box(P          R      mAP50  mAP50-95)     Mask(P          R      mAP50  mAP50-95): 100%|██████████| 5/5 [00:00<00:00,  6.71it/s]\n"
     ]
    },
    {
     "name": "stdout",
     "output_type": "stream",
     "text": [
      "                   all         35        158      0.987          1      0.988      0.905      0.987          1      0.988      0.794\n",
      "\n",
      "      Epoch    GPU_mem   box_loss   seg_loss   cls_loss   dfl_loss  Instances       Size\n"
     ]
    },
    {
     "name": "stderr",
     "output_type": "stream",
     "text": [
      "    205/300      20.2G     0.4639     0.5313     0.2559     0.8211         58       1280: 100%|██████████| 7/7 [00:02<00:00,  2.92it/s]\n",
      "                 Class     Images  Instances      Box(P          R      mAP50  mAP50-95)     Mask(P          R      mAP50  mAP50-95): 100%|██████████| 5/5 [00:00<00:00,  7.00it/s]\n"
     ]
    },
    {
     "name": "stdout",
     "output_type": "stream",
     "text": [
      "                   all         35        158      0.987          1      0.988      0.903      0.987          1      0.988      0.787\n",
      "\n",
      "      Epoch    GPU_mem   box_loss   seg_loss   cls_loss   dfl_loss  Instances       Size\n"
     ]
    },
    {
     "name": "stderr",
     "output_type": "stream",
     "text": [
      "    206/300      19.4G     0.4389     0.5352      0.244     0.7799         71       1280: 100%|██████████| 7/7 [00:02<00:00,  2.92it/s]\n",
      "                 Class     Images  Instances      Box(P          R      mAP50  mAP50-95)     Mask(P          R      mAP50  mAP50-95): 100%|██████████| 5/5 [00:00<00:00,  7.02it/s]\n"
     ]
    },
    {
     "name": "stdout",
     "output_type": "stream",
     "text": [
      "                   all         35        158      0.987          1      0.988      0.909      0.987          1      0.988      0.763\n",
      "\n",
      "      Epoch    GPU_mem   box_loss   seg_loss   cls_loss   dfl_loss  Instances       Size\n"
     ]
    },
    {
     "name": "stderr",
     "output_type": "stream",
     "text": [
      "    207/300      19.6G     0.4326     0.4863     0.2444     0.8134         46       1280: 100%|██████████| 7/7 [00:02<00:00,  2.94it/s]\n",
      "                 Class     Images  Instances      Box(P          R      mAP50  mAP50-95)     Mask(P          R      mAP50  mAP50-95): 100%|██████████| 5/5 [00:00<00:00,  7.00it/s]\n"
     ]
    },
    {
     "name": "stdout",
     "output_type": "stream",
     "text": [
      "                   all         35        158      0.987          1       0.99      0.904      0.987          1       0.99       0.78\n",
      "\n",
      "      Epoch    GPU_mem   box_loss   seg_loss   cls_loss   dfl_loss  Instances       Size\n"
     ]
    },
    {
     "name": "stderr",
     "output_type": "stream",
     "text": [
      "    208/300      19.3G     0.4245     0.4506     0.2453     0.7993         56       1280: 100%|██████████| 7/7 [00:02<00:00,  2.88it/s]\n",
      "                 Class     Images  Instances      Box(P          R      mAP50  mAP50-95)     Mask(P          R      mAP50  mAP50-95): 100%|██████████| 5/5 [00:00<00:00,  7.06it/s]\n"
     ]
    },
    {
     "name": "stdout",
     "output_type": "stream",
     "text": [
      "                   all         35        158      0.987          1      0.989      0.924      0.987          1      0.989      0.785\n",
      "\n",
      "      Epoch    GPU_mem   box_loss   seg_loss   cls_loss   dfl_loss  Instances       Size\n"
     ]
    },
    {
     "name": "stderr",
     "output_type": "stream",
     "text": [
      "    209/300      19.9G     0.4178     0.5175     0.2458     0.8107         19       1280: 100%|██████████| 7/7 [00:02<00:00,  2.96it/s]\n",
      "                 Class     Images  Instances      Box(P          R      mAP50  mAP50-95)     Mask(P          R      mAP50  mAP50-95): 100%|██████████| 5/5 [00:00<00:00,  7.02it/s]\n"
     ]
    },
    {
     "name": "stdout",
     "output_type": "stream",
     "text": [
      "                   all         35        158      0.987          1      0.988      0.924      0.987          1      0.988      0.794\n",
      "\n",
      "      Epoch    GPU_mem   box_loss   seg_loss   cls_loss   dfl_loss  Instances       Size\n"
     ]
    },
    {
     "name": "stderr",
     "output_type": "stream",
     "text": [
      "    210/300      19.5G     0.4255     0.4995     0.2403     0.8075         47       1280: 100%|██████████| 7/7 [00:02<00:00,  2.96it/s]\n",
      "                 Class     Images  Instances      Box(P          R      mAP50  mAP50-95)     Mask(P          R      mAP50  mAP50-95): 100%|██████████| 5/5 [00:00<00:00,  6.63it/s]\n"
     ]
    },
    {
     "name": "stdout",
     "output_type": "stream",
     "text": [
      "                   all         35        158      0.987          1       0.99      0.916      0.987          1       0.99      0.795\n",
      "\n",
      "      Epoch    GPU_mem   box_loss   seg_loss   cls_loss   dfl_loss  Instances       Size\n"
     ]
    },
    {
     "name": "stderr",
     "output_type": "stream",
     "text": [
      "    211/300      19.3G     0.4389     0.5052     0.2455     0.8037         52       1280: 100%|██████████| 7/7 [00:02<00:00,  2.96it/s]\n",
      "                 Class     Images  Instances      Box(P          R      mAP50  mAP50-95)     Mask(P          R      mAP50  mAP50-95): 100%|██████████| 5/5 [00:00<00:00,  7.04it/s]\n"
     ]
    },
    {
     "name": "stdout",
     "output_type": "stream",
     "text": [
      "                   all         35        158      0.987          1       0.99      0.921      0.987          1       0.99      0.791\n",
      "\n",
      "      Epoch    GPU_mem   box_loss   seg_loss   cls_loss   dfl_loss  Instances       Size\n"
     ]
    },
    {
     "name": "stderr",
     "output_type": "stream",
     "text": [
      "    212/300      19.4G      0.419     0.4503     0.2389     0.7963         50       1280: 100%|██████████| 7/7 [00:02<00:00,  2.98it/s]\n",
      "                 Class     Images  Instances      Box(P          R      mAP50  mAP50-95)     Mask(P          R      mAP50  mAP50-95): 100%|██████████| 5/5 [00:00<00:00,  7.06it/s]\n"
     ]
    },
    {
     "name": "stdout",
     "output_type": "stream",
     "text": [
      "                   all         35        158      0.987          1      0.989      0.921      0.987          1      0.989      0.783\n",
      "\n",
      "      Epoch    GPU_mem   box_loss   seg_loss   cls_loss   dfl_loss  Instances       Size\n"
     ]
    },
    {
     "name": "stderr",
     "output_type": "stream",
     "text": [
      "    213/300        20G     0.4136     0.4679     0.2285     0.7901         49       1280: 100%|██████████| 7/7 [00:02<00:00,  2.97it/s]\n",
      "                 Class     Images  Instances      Box(P          R      mAP50  mAP50-95)     Mask(P          R      mAP50  mAP50-95): 100%|██████████| 5/5 [00:00<00:00,  7.02it/s]\n"
     ]
    },
    {
     "name": "stdout",
     "output_type": "stream",
     "text": [
      "                   all         35        158      0.987          1      0.989      0.915      0.987          1      0.989      0.786\n",
      "\n",
      "      Epoch    GPU_mem   box_loss   seg_loss   cls_loss   dfl_loss  Instances       Size\n"
     ]
    },
    {
     "name": "stderr",
     "output_type": "stream",
     "text": [
      "    214/300      19.5G     0.4218     0.5067     0.2405     0.8115         46       1280: 100%|██████████| 7/7 [00:02<00:00,  2.92it/s]\n",
      "                 Class     Images  Instances      Box(P          R      mAP50  mAP50-95)     Mask(P          R      mAP50  mAP50-95): 100%|██████████| 5/5 [00:00<00:00,  7.06it/s]\n"
     ]
    },
    {
     "name": "stdout",
     "output_type": "stream",
     "text": [
      "                   all         35        158      0.986          1      0.989      0.917      0.986          1      0.989       0.77\n",
      "\n",
      "      Epoch    GPU_mem   box_loss   seg_loss   cls_loss   dfl_loss  Instances       Size\n"
     ]
    },
    {
     "name": "stderr",
     "output_type": "stream",
     "text": [
      "    215/300      19.6G     0.4667     0.4992     0.2586     0.8038         98       1280: 100%|██████████| 7/7 [00:02<00:00,  2.96it/s]\n",
      "                 Class     Images  Instances      Box(P          R      mAP50  mAP50-95)     Mask(P          R      mAP50  mAP50-95): 100%|██████████| 5/5 [00:00<00:00,  6.91it/s]\n"
     ]
    },
    {
     "name": "stdout",
     "output_type": "stream",
     "text": [
      "                   all         35        158      0.986          1      0.985      0.905      0.986          1      0.985      0.753\n",
      "\n",
      "      Epoch    GPU_mem   box_loss   seg_loss   cls_loss   dfl_loss  Instances       Size\n"
     ]
    },
    {
     "name": "stderr",
     "output_type": "stream",
     "text": [
      "    216/300      19.4G     0.4263     0.5282     0.2396     0.7952         62       1280: 100%|██████████| 7/7 [00:02<00:00,  2.98it/s]\n",
      "                 Class     Images  Instances      Box(P          R      mAP50  mAP50-95)     Mask(P          R      mAP50  mAP50-95): 100%|██████████| 5/5 [00:00<00:00,  7.00it/s]\n"
     ]
    },
    {
     "name": "stdout",
     "output_type": "stream",
     "text": [
      "                   all         35        158      0.986          1      0.983      0.906      0.986          1      0.983      0.754\n",
      "\n",
      "      Epoch    GPU_mem   box_loss   seg_loss   cls_loss   dfl_loss  Instances       Size\n"
     ]
    },
    {
     "name": "stderr",
     "output_type": "stream",
     "text": [
      "    217/300      19.8G     0.4156     0.4814     0.2415     0.8018         61       1280: 100%|██████████| 7/7 [00:02<00:00,  2.98it/s]\n",
      "                 Class     Images  Instances      Box(P          R      mAP50  mAP50-95)     Mask(P          R      mAP50  mAP50-95): 100%|██████████| 5/5 [00:00<00:00,  7.02it/s]\n"
     ]
    },
    {
     "name": "stdout",
     "output_type": "stream",
     "text": [
      "                   all         35        158      0.986          1      0.983      0.906      0.986          1      0.983      0.752\n",
      "\n",
      "      Epoch    GPU_mem   box_loss   seg_loss   cls_loss   dfl_loss  Instances       Size\n"
     ]
    },
    {
     "name": "stderr",
     "output_type": "stream",
     "text": [
      "    218/300      19.9G      0.407     0.4812     0.2364     0.8201         55       1280: 100%|██████████| 7/7 [00:02<00:00,  2.92it/s]\n",
      "                 Class     Images  Instances      Box(P          R      mAP50  mAP50-95)     Mask(P          R      mAP50  mAP50-95): 100%|██████████| 5/5 [00:00<00:00,  7.05it/s]\n"
     ]
    },
    {
     "name": "stdout",
     "output_type": "stream",
     "text": [
      "                   all         35        158      0.986          1      0.985      0.923      0.986          1      0.985      0.782\n",
      "\n",
      "      Epoch    GPU_mem   box_loss   seg_loss   cls_loss   dfl_loss  Instances       Size\n"
     ]
    },
    {
     "name": "stderr",
     "output_type": "stream",
     "text": [
      "    219/300      19.6G     0.4256     0.4888     0.2407     0.8077         43       1280: 100%|██████████| 7/7 [00:02<00:00,  2.90it/s]\n",
      "                 Class     Images  Instances      Box(P          R      mAP50  mAP50-95)     Mask(P          R      mAP50  mAP50-95): 100%|██████████| 5/5 [00:00<00:00,  7.04it/s]\n"
     ]
    },
    {
     "name": "stdout",
     "output_type": "stream",
     "text": [
      "                   all         35        158      0.987          1      0.987      0.924      0.987          1      0.987      0.794\n",
      "\n",
      "      Epoch    GPU_mem   box_loss   seg_loss   cls_loss   dfl_loss  Instances       Size\n"
     ]
    },
    {
     "name": "stderr",
     "output_type": "stream",
     "text": [
      "    220/300      19.6G     0.4401     0.5214     0.2314     0.8146         61       1280: 100%|██████████| 7/7 [00:02<00:00,  2.94it/s]\n",
      "                 Class     Images  Instances      Box(P          R      mAP50  mAP50-95)     Mask(P          R      mAP50  mAP50-95): 100%|██████████| 5/5 [00:00<00:00,  6.87it/s]\n"
     ]
    },
    {
     "name": "stdout",
     "output_type": "stream",
     "text": [
      "                   all         35        158      0.987          1      0.988      0.923      0.987          1      0.988       0.79\n",
      "\n",
      "      Epoch    GPU_mem   box_loss   seg_loss   cls_loss   dfl_loss  Instances       Size\n"
     ]
    },
    {
     "name": "stderr",
     "output_type": "stream",
     "text": [
      "    221/300      20.1G     0.4228     0.4829     0.2449     0.8205         79       1280: 100%|██████████| 7/7 [00:02<00:00,  2.95it/s]\n",
      "                 Class     Images  Instances      Box(P          R      mAP50  mAP50-95)     Mask(P          R      mAP50  mAP50-95): 100%|██████████| 5/5 [00:00<00:00,  6.56it/s]\n"
     ]
    },
    {
     "name": "stdout",
     "output_type": "stream",
     "text": [
      "                   all         35        158      0.987          1      0.989      0.924      0.987          1      0.989      0.793\n",
      "\n",
      "      Epoch    GPU_mem   box_loss   seg_loss   cls_loss   dfl_loss  Instances       Size\n"
     ]
    },
    {
     "name": "stderr",
     "output_type": "stream",
     "text": [
      "    222/300      19.8G     0.4373     0.5189     0.2573     0.8074         63       1280: 100%|██████████| 7/7 [00:02<00:00,  2.90it/s]\n",
      "                 Class     Images  Instances      Box(P          R      mAP50  mAP50-95)     Mask(P          R      mAP50  mAP50-95): 100%|██████████| 5/5 [00:00<00:00,  7.06it/s]\n"
     ]
    },
    {
     "name": "stdout",
     "output_type": "stream",
     "text": [
      "                   all         35        158      0.987          1       0.99      0.921      0.987          1       0.99       0.79\n",
      "\n",
      "      Epoch    GPU_mem   box_loss   seg_loss   cls_loss   dfl_loss  Instances       Size\n"
     ]
    },
    {
     "name": "stderr",
     "output_type": "stream",
     "text": [
      "    223/300      19.9G     0.4178     0.5193     0.2403     0.8056         79       1280: 100%|██████████| 7/7 [00:02<00:00,  2.89it/s]\n",
      "                 Class     Images  Instances      Box(P          R      mAP50  mAP50-95)     Mask(P          R      mAP50  mAP50-95): 100%|██████████| 5/5 [00:00<00:00,  7.05it/s]\n"
     ]
    },
    {
     "name": "stdout",
     "output_type": "stream",
     "text": [
      "                   all         35        158      0.987          1       0.99      0.927      0.987          1       0.99      0.803\n",
      "\n",
      "      Epoch    GPU_mem   box_loss   seg_loss   cls_loss   dfl_loss  Instances       Size\n"
     ]
    },
    {
     "name": "stderr",
     "output_type": "stream",
     "text": [
      "    224/300      19.6G     0.4351     0.5222     0.2435      0.818         34       1280: 100%|██████████| 7/7 [00:02<00:00,  2.90it/s]\n",
      "                 Class     Images  Instances      Box(P          R      mAP50  mAP50-95)     Mask(P          R      mAP50  mAP50-95): 100%|██████████| 5/5 [00:00<00:00,  7.03it/s]\n"
     ]
    },
    {
     "name": "stdout",
     "output_type": "stream",
     "text": [
      "                   all         35        158      0.987          1      0.988      0.924      0.987          1      0.988      0.789\n",
      "\n",
      "      Epoch    GPU_mem   box_loss   seg_loss   cls_loss   dfl_loss  Instances       Size\n"
     ]
    },
    {
     "name": "stderr",
     "output_type": "stream",
     "text": [
      "    225/300        20G     0.4326      0.461     0.2473      0.798         66       1280: 100%|██████████| 7/7 [00:02<00:00,  2.90it/s]\n",
      "                 Class     Images  Instances      Box(P          R      mAP50  mAP50-95)     Mask(P          R      mAP50  mAP50-95): 100%|██████████| 5/5 [00:00<00:00,  7.03it/s]\n"
     ]
    },
    {
     "name": "stdout",
     "output_type": "stream",
     "text": [
      "                   all         35        158      0.987          1      0.987      0.927      0.987          1      0.987      0.791\n",
      "\n",
      "      Epoch    GPU_mem   box_loss   seg_loss   cls_loss   dfl_loss  Instances       Size\n"
     ]
    },
    {
     "name": "stderr",
     "output_type": "stream",
     "text": [
      "    226/300      19.4G     0.3875      0.461     0.2298     0.8126         38       1280: 100%|██████████| 7/7 [00:02<00:00,  2.88it/s]\n",
      "                 Class     Images  Instances      Box(P          R      mAP50  mAP50-95)     Mask(P          R      mAP50  mAP50-95): 100%|██████████| 5/5 [00:00<00:00,  7.06it/s]\n"
     ]
    },
    {
     "name": "stdout",
     "output_type": "stream",
     "text": [
      "                   all         35        158      0.987          1      0.986      0.927      0.987          1      0.986      0.784\n",
      "\n",
      "      Epoch    GPU_mem   box_loss   seg_loss   cls_loss   dfl_loss  Instances       Size\n"
     ]
    },
    {
     "name": "stderr",
     "output_type": "stream",
     "text": [
      "    227/300      19.4G     0.4268     0.4977     0.2478     0.8061         64       1280: 100%|██████████| 7/7 [00:02<00:00,  2.94it/s]\n",
      "                 Class     Images  Instances      Box(P          R      mAP50  mAP50-95)     Mask(P          R      mAP50  mAP50-95): 100%|██████████| 5/5 [00:00<00:00,  6.85it/s]\n"
     ]
    },
    {
     "name": "stdout",
     "output_type": "stream",
     "text": [
      "                   all         35        158      0.987          1      0.986      0.925      0.987          1      0.986      0.778\n",
      "\n",
      "      Epoch    GPU_mem   box_loss   seg_loss   cls_loss   dfl_loss  Instances       Size\n"
     ]
    },
    {
     "name": "stderr",
     "output_type": "stream",
     "text": [
      "    228/300      19.5G     0.4433     0.5405     0.2411     0.8259         46       1280: 100%|██████████| 7/7 [00:02<00:00,  2.98it/s]\n",
      "                 Class     Images  Instances      Box(P          R      mAP50  mAP50-95)     Mask(P          R      mAP50  mAP50-95): 100%|██████████| 5/5 [00:00<00:00,  7.01it/s]\n"
     ]
    },
    {
     "name": "stdout",
     "output_type": "stream",
     "text": [
      "                   all         35        158      0.987          1      0.985      0.921      0.987          1      0.985       0.78\n",
      "\n",
      "      Epoch    GPU_mem   box_loss   seg_loss   cls_loss   dfl_loss  Instances       Size\n"
     ]
    },
    {
     "name": "stderr",
     "output_type": "stream",
     "text": [
      "    229/300      19.9G     0.4277     0.4776      0.239      0.796         34       1280: 100%|██████████| 7/7 [00:02<00:00,  2.97it/s]\n",
      "                 Class     Images  Instances      Box(P          R      mAP50  mAP50-95)     Mask(P          R      mAP50  mAP50-95): 100%|██████████| 5/5 [00:00<00:00,  7.07it/s]\n"
     ]
    },
    {
     "name": "stdout",
     "output_type": "stream",
     "text": [
      "                   all         35        158      0.987          1      0.986      0.915      0.987          1      0.986      0.776\n",
      "\n",
      "      Epoch    GPU_mem   box_loss   seg_loss   cls_loss   dfl_loss  Instances       Size\n"
     ]
    },
    {
     "name": "stderr",
     "output_type": "stream",
     "text": [
      "    230/300      19.7G     0.4433     0.5033     0.2518     0.8023         47       1280: 100%|██████████| 7/7 [00:02<00:00,  2.93it/s]\n",
      "                 Class     Images  Instances      Box(P          R      mAP50  mAP50-95)     Mask(P          R      mAP50  mAP50-95): 100%|██████████| 5/5 [00:00<00:00,  7.02it/s]\n"
     ]
    },
    {
     "name": "stdout",
     "output_type": "stream",
     "text": [
      "                   all         35        158      0.987          1      0.988      0.923      0.987          1      0.988      0.793\n",
      "\n",
      "      Epoch    GPU_mem   box_loss   seg_loss   cls_loss   dfl_loss  Instances       Size\n"
     ]
    },
    {
     "name": "stderr",
     "output_type": "stream",
     "text": [
      "    231/300      19.6G     0.4543     0.5508     0.2527     0.8034         59       1280: 100%|██████████| 7/7 [00:02<00:00,  2.93it/s]\n",
      "                 Class     Images  Instances      Box(P          R      mAP50  mAP50-95)     Mask(P          R      mAP50  mAP50-95): 100%|██████████| 5/5 [00:00<00:00,  7.05it/s]\n"
     ]
    },
    {
     "name": "stdout",
     "output_type": "stream",
     "text": [
      "                   all         35        158      0.987          1      0.991       0.92      0.987          1      0.991      0.798\n",
      "\n",
      "      Epoch    GPU_mem   box_loss   seg_loss   cls_loss   dfl_loss  Instances       Size\n"
     ]
    },
    {
     "name": "stderr",
     "output_type": "stream",
     "text": [
      "    232/300      19.5G     0.4603     0.5158     0.2604     0.8164        102       1280: 100%|██████████| 7/7 [00:02<00:00,  2.93it/s]\n",
      "                 Class     Images  Instances      Box(P          R      mAP50  mAP50-95)     Mask(P          R      mAP50  mAP50-95): 100%|██████████| 5/5 [00:00<00:00,  6.80it/s]\n"
     ]
    },
    {
     "name": "stdout",
     "output_type": "stream",
     "text": [
      "                   all         35        158      0.987          1      0.992      0.927      0.987          1      0.992      0.797\n",
      "\n",
      "      Epoch    GPU_mem   box_loss   seg_loss   cls_loss   dfl_loss  Instances       Size\n"
     ]
    },
    {
     "name": "stderr",
     "output_type": "stream",
     "text": [
      "    233/300      19.8G     0.4394     0.4624     0.2382      0.812         72       1280: 100%|██████████| 7/7 [00:02<00:00,  2.98it/s]\n",
      "                 Class     Images  Instances      Box(P          R      mAP50  mAP50-95)     Mask(P          R      mAP50  mAP50-95): 100%|██████████| 5/5 [00:00<00:00,  7.05it/s]\n"
     ]
    },
    {
     "name": "stdout",
     "output_type": "stream",
     "text": [
      "                   all         35        158      0.987          1      0.992      0.931      0.987          1      0.992      0.801\n",
      "\n",
      "      Epoch    GPU_mem   box_loss   seg_loss   cls_loss   dfl_loss  Instances       Size\n"
     ]
    },
    {
     "name": "stderr",
     "output_type": "stream",
     "text": [
      "    234/300      19.6G     0.4543      0.498     0.2498     0.7999         76       1280: 100%|██████████| 7/7 [00:02<00:00,  2.94it/s]\n",
      "                 Class     Images  Instances      Box(P          R      mAP50  mAP50-95)     Mask(P          R      mAP50  mAP50-95): 100%|██████████| 5/5 [00:00<00:00,  7.05it/s]\n"
     ]
    },
    {
     "name": "stdout",
     "output_type": "stream",
     "text": [
      "                   all         35        158      0.987          1       0.99      0.912      0.987          1       0.99       0.79\n",
      "\n",
      "      Epoch    GPU_mem   box_loss   seg_loss   cls_loss   dfl_loss  Instances       Size\n"
     ]
    },
    {
     "name": "stderr",
     "output_type": "stream",
     "text": [
      "    235/300      19.6G     0.3953     0.4496     0.2226     0.8181         30       1280: 100%|██████████| 7/7 [00:02<00:00,  2.88it/s]\n",
      "                 Class     Images  Instances      Box(P          R      mAP50  mAP50-95)     Mask(P          R      mAP50  mAP50-95): 100%|██████████| 5/5 [00:00<00:00,  7.03it/s]\n"
     ]
    },
    {
     "name": "stdout",
     "output_type": "stream",
     "text": [
      "                   all         35        158      0.987          1      0.993      0.919      0.987          1      0.993      0.804\n",
      "\n",
      "      Epoch    GPU_mem   box_loss   seg_loss   cls_loss   dfl_loss  Instances       Size\n"
     ]
    },
    {
     "name": "stderr",
     "output_type": "stream",
     "text": [
      "    236/300      19.4G     0.4156     0.5116     0.2332     0.8017         73       1280: 100%|██████████| 7/7 [00:02<00:00,  2.94it/s]\n",
      "                 Class     Images  Instances      Box(P          R      mAP50  mAP50-95)     Mask(P          R      mAP50  mAP50-95): 100%|██████████| 5/5 [00:00<00:00,  7.04it/s]\n"
     ]
    },
    {
     "name": "stdout",
     "output_type": "stream",
     "text": [
      "                   all         35        158      0.992          1      0.993      0.928      0.992          1      0.993        0.8\n",
      "\n",
      "      Epoch    GPU_mem   box_loss   seg_loss   cls_loss   dfl_loss  Instances       Size\n"
     ]
    },
    {
     "name": "stderr",
     "output_type": "stream",
     "text": [
      "    237/300      19.9G     0.4059     0.4788     0.2321      0.819         51       1280: 100%|██████████| 7/7 [00:02<00:00,  2.93it/s]\n",
      "                 Class     Images  Instances      Box(P          R      mAP50  mAP50-95)     Mask(P          R      mAP50  mAP50-95): 100%|██████████| 5/5 [00:00<00:00,  7.02it/s]\n"
     ]
    },
    {
     "name": "stdout",
     "output_type": "stream",
     "text": [
      "                   all         35        158      0.992          1      0.993      0.926      0.992          1      0.993      0.795\n",
      "\n",
      "      Epoch    GPU_mem   box_loss   seg_loss   cls_loss   dfl_loss  Instances       Size\n"
     ]
    },
    {
     "name": "stderr",
     "output_type": "stream",
     "text": [
      "    238/300      19.3G     0.4136     0.4901     0.2315      0.793         45       1280: 100%|██████████| 7/7 [00:02<00:00,  2.94it/s]\n",
      "                 Class     Images  Instances      Box(P          R      mAP50  mAP50-95)     Mask(P          R      mAP50  mAP50-95): 100%|██████████| 5/5 [00:00<00:00,  6.77it/s]\n"
     ]
    },
    {
     "name": "stdout",
     "output_type": "stream",
     "text": [
      "                   all         35        158      0.987          1      0.993      0.927      0.987          1      0.993      0.795\n",
      "\n",
      "      Epoch    GPU_mem   box_loss   seg_loss   cls_loss   dfl_loss  Instances       Size\n"
     ]
    },
    {
     "name": "stderr",
     "output_type": "stream",
     "text": [
      "    239/300      19.5G      0.395      0.473     0.2287     0.8073         37       1280: 100%|██████████| 7/7 [00:02<00:00,  2.94it/s]\n",
      "                 Class     Images  Instances      Box(P          R      mAP50  mAP50-95)     Mask(P          R      mAP50  mAP50-95): 100%|██████████| 5/5 [00:00<00:00,  7.05it/s]\n"
     ]
    },
    {
     "name": "stdout",
     "output_type": "stream",
     "text": [
      "                   all         35        158      0.987          1      0.993      0.928      0.987          1      0.993      0.805\n",
      "\n",
      "      Epoch    GPU_mem   box_loss   seg_loss   cls_loss   dfl_loss  Instances       Size\n"
     ]
    },
    {
     "name": "stderr",
     "output_type": "stream",
     "text": [
      "    240/300      19.5G     0.4188     0.5141     0.2419     0.7998         37       1280: 100%|██████████| 7/7 [00:02<00:00,  2.97it/s]\n",
      "                 Class     Images  Instances      Box(P          R      mAP50  mAP50-95)     Mask(P          R      mAP50  mAP50-95): 100%|██████████| 5/5 [00:00<00:00,  7.07it/s]\n"
     ]
    },
    {
     "name": "stdout",
     "output_type": "stream",
     "text": [
      "                   all         35        158      0.987          1      0.992      0.925      0.987          1      0.992      0.783\n",
      "\n",
      "      Epoch    GPU_mem   box_loss   seg_loss   cls_loss   dfl_loss  Instances       Size\n"
     ]
    },
    {
     "name": "stderr",
     "output_type": "stream",
     "text": [
      "    241/300      19.8G     0.4118     0.4917     0.2367      0.803         29       1280: 100%|██████████| 7/7 [00:02<00:00,  2.92it/s]\n",
      "                 Class     Images  Instances      Box(P          R      mAP50  mAP50-95)     Mask(P          R      mAP50  mAP50-95): 100%|██████████| 5/5 [00:00<00:00,  7.04it/s]\n"
     ]
    },
    {
     "name": "stdout",
     "output_type": "stream",
     "text": [
      "                   all         35        158      0.987          1      0.991      0.924      0.987          1      0.991      0.778\n",
      "\n",
      "      Epoch    GPU_mem   box_loss   seg_loss   cls_loss   dfl_loss  Instances       Size\n"
     ]
    },
    {
     "name": "stderr",
     "output_type": "stream",
     "text": [
      "    242/300      19.4G     0.4118     0.4803     0.2249     0.7962         79       1280:  43%|████▎     | 3/7 [00:01<00:01,  2.89it/s]/home/spuser/.conda/envs/yanpan/lib/python3.11/site-packages/ultralytics/data/augment.py:1143: RuntimeWarning: divide by zero encountered in divide\n",
      "  xy = xy[:, :2] / xy[:, 2:3]\n",
      "    242/300      19.4G      0.405     0.4824     0.2275     0.7962         47       1280: 100%|██████████| 7/7 [00:02<00:00,  2.93it/s]\n",
      "                 Class     Images  Instances      Box(P          R      mAP50  mAP50-95)     Mask(P          R      mAP50  mAP50-95): 100%|██████████| 5/5 [00:00<00:00,  7.07it/s]\n"
     ]
    },
    {
     "name": "stdout",
     "output_type": "stream",
     "text": [
      "                   all         35        158      0.987          1       0.99      0.925      0.987          1       0.99      0.785\n",
      "\n",
      "      Epoch    GPU_mem   box_loss   seg_loss   cls_loss   dfl_loss  Instances       Size\n"
     ]
    },
    {
     "name": "stderr",
     "output_type": "stream",
     "text": [
      "    243/300      19.7G     0.3808     0.4434     0.2191     0.7954         44       1280: 100%|██████████| 7/7 [00:02<00:00,  2.96it/s]\n",
      "                 Class     Images  Instances      Box(P          R      mAP50  mAP50-95)     Mask(P          R      mAP50  mAP50-95): 100%|██████████| 5/5 [00:00<00:00,  7.02it/s]\n"
     ]
    },
    {
     "name": "stdout",
     "output_type": "stream",
     "text": [
      "                   all         35        158      0.987          1      0.991      0.923      0.987          1      0.991       0.79\n",
      "\n",
      "      Epoch    GPU_mem   box_loss   seg_loss   cls_loss   dfl_loss  Instances       Size\n"
     ]
    },
    {
     "name": "stderr",
     "output_type": "stream",
     "text": [
      "    244/300      19.9G     0.3807     0.4705     0.2216     0.7817         52       1280: 100%|██████████| 7/7 [00:02<00:00,  2.96it/s]\n",
      "                 Class     Images  Instances      Box(P          R      mAP50  mAP50-95)     Mask(P          R      mAP50  mAP50-95): 100%|██████████| 5/5 [00:00<00:00,  7.06it/s]\n"
     ]
    },
    {
     "name": "stdout",
     "output_type": "stream",
     "text": [
      "                   all         35        158      0.987          1      0.991       0.93      0.987          1      0.991      0.783\n",
      "\n",
      "      Epoch    GPU_mem   box_loss   seg_loss   cls_loss   dfl_loss  Instances       Size\n"
     ]
    },
    {
     "name": "stderr",
     "output_type": "stream",
     "text": [
      "    245/300      20.3G     0.4003     0.5057     0.2284     0.7907         59       1280: 100%|██████████| 7/7 [00:02<00:00,  2.93it/s]\n",
      "                 Class     Images  Instances      Box(P          R      mAP50  mAP50-95)     Mask(P          R      mAP50  mAP50-95): 100%|██████████| 5/5 [00:00<00:00,  7.06it/s]\n"
     ]
    },
    {
     "name": "stdout",
     "output_type": "stream",
     "text": [
      "                   all         35        158      0.987          1      0.992      0.924      0.987          1      0.992      0.788\n",
      "\n",
      "      Epoch    GPU_mem   box_loss   seg_loss   cls_loss   dfl_loss  Instances       Size\n"
     ]
    },
    {
     "name": "stderr",
     "output_type": "stream",
     "text": [
      "    246/300      19.6G     0.4303     0.4853       0.24     0.7952         54       1280:  86%|████████▌ | 6/7 [00:02<00:00,  2.87it/s]/home/spuser/.conda/envs/yanpan/lib/python3.11/site-packages/ultralytics/data/augment.py:1143: RuntimeWarning: divide by zero encountered in divide\n",
      "  xy = xy[:, :2] / xy[:, 2:3]\n",
      "    246/300      19.6G     0.4391     0.5021     0.2419      0.802         30       1280: 100%|██████████| 7/7 [00:02<00:00,  2.90it/s]\n",
      "                 Class     Images  Instances      Box(P          R      mAP50  mAP50-95)     Mask(P          R      mAP50  mAP50-95): 100%|██████████| 5/5 [00:00<00:00,  7.07it/s]\n"
     ]
    },
    {
     "name": "stdout",
     "output_type": "stream",
     "text": [
      "                   all         35        158      0.987          1      0.993      0.935      0.987          1      0.993      0.796\n",
      "\n",
      "      Epoch    GPU_mem   box_loss   seg_loss   cls_loss   dfl_loss  Instances       Size\n"
     ]
    },
    {
     "name": "stderr",
     "output_type": "stream",
     "text": [
      "    247/300      19.5G     0.3937     0.4218     0.2233     0.8055         57       1280:  71%|███████▏  | 5/7 [00:01<00:00,  2.90it/s]/home/spuser/.conda/envs/yanpan/lib/python3.11/site-packages/ultralytics/data/augment.py:1143: RuntimeWarning: divide by zero encountered in divide\n",
      "  xy = xy[:, :2] / xy[:, 2:3]\n",
      "    247/300      19.5G     0.3957      0.435       0.23     0.8105         44       1280: 100%|██████████| 7/7 [00:02<00:00,  2.93it/s]\n",
      "                 Class     Images  Instances      Box(P          R      mAP50  mAP50-95)     Mask(P          R      mAP50  mAP50-95): 100%|██████████| 5/5 [00:00<00:00,  7.03it/s]\n"
     ]
    },
    {
     "name": "stdout",
     "output_type": "stream",
     "text": [
      "                   all         35        158      0.987          1      0.994       0.93      0.987          1      0.994      0.782\n",
      "\n",
      "      Epoch    GPU_mem   box_loss   seg_loss   cls_loss   dfl_loss  Instances       Size\n"
     ]
    },
    {
     "name": "stderr",
     "output_type": "stream",
     "text": [
      "    248/300      19.8G      0.387     0.5142      0.222     0.7973         46       1280: 100%|██████████| 7/7 [00:02<00:00,  2.94it/s]\n",
      "                 Class     Images  Instances      Box(P          R      mAP50  mAP50-95)     Mask(P          R      mAP50  mAP50-95): 100%|██████████| 5/5 [00:00<00:00,  7.04it/s]\n"
     ]
    },
    {
     "name": "stdout",
     "output_type": "stream",
     "text": [
      "                   all         35        158      0.987          1      0.994      0.922      0.987          1      0.994      0.769\n",
      "\n",
      "      Epoch    GPU_mem   box_loss   seg_loss   cls_loss   dfl_loss  Instances       Size\n"
     ]
    },
    {
     "name": "stderr",
     "output_type": "stream",
     "text": [
      "    249/300      19.8G     0.4132     0.4655     0.2287     0.8038         41       1280: 100%|██████████| 7/7 [00:02<00:00,  2.97it/s]\n",
      "                 Class     Images  Instances      Box(P          R      mAP50  mAP50-95)     Mask(P          R      mAP50  mAP50-95): 100%|██████████| 5/5 [00:00<00:00,  6.99it/s]\n"
     ]
    },
    {
     "name": "stdout",
     "output_type": "stream",
     "text": [
      "                   all         35        158      0.987          1      0.994      0.922      0.987          1      0.994      0.767\n",
      "\n",
      "      Epoch    GPU_mem   box_loss   seg_loss   cls_loss   dfl_loss  Instances       Size\n"
     ]
    },
    {
     "name": "stderr",
     "output_type": "stream",
     "text": [
      "    250/300      19.5G     0.3999     0.4648     0.2246     0.8018         30       1280: 100%|██████████| 7/7 [00:02<00:00,  2.93it/s]\n",
      "                 Class     Images  Instances      Box(P          R      mAP50  mAP50-95)     Mask(P          R      mAP50  mAP50-95): 100%|██████████| 5/5 [00:00<00:00,  7.06it/s]\n"
     ]
    },
    {
     "name": "stdout",
     "output_type": "stream",
     "text": [
      "                   all         35        158      0.987          1      0.994      0.924      0.987          1      0.994      0.786\n",
      "\n",
      "      Epoch    GPU_mem   box_loss   seg_loss   cls_loss   dfl_loss  Instances       Size\n"
     ]
    },
    {
     "name": "stderr",
     "output_type": "stream",
     "text": [
      "    251/300      19.6G     0.3921     0.4606     0.2213     0.7977         57       1280: 100%|██████████| 7/7 [00:02<00:00,  2.95it/s]\n",
      "                 Class     Images  Instances      Box(P          R      mAP50  mAP50-95)     Mask(P          R      mAP50  mAP50-95): 100%|██████████| 5/5 [00:00<00:00,  7.06it/s]\n"
     ]
    },
    {
     "name": "stdout",
     "output_type": "stream",
     "text": [
      "                   all         35        158      0.987          1      0.994      0.931      0.987          1      0.994      0.803\n",
      "\n",
      "      Epoch    GPU_mem   box_loss   seg_loss   cls_loss   dfl_loss  Instances       Size\n"
     ]
    },
    {
     "name": "stderr",
     "output_type": "stream",
     "text": [
      "    252/300      19.6G     0.4028      0.454     0.2264     0.8104         59       1280: 100%|██████████| 7/7 [00:02<00:00,  2.92it/s]\n",
      "                 Class     Images  Instances      Box(P          R      mAP50  mAP50-95)     Mask(P          R      mAP50  mAP50-95): 100%|██████████| 5/5 [00:00<00:00,  7.05it/s]\n"
     ]
    },
    {
     "name": "stdout",
     "output_type": "stream",
     "text": [
      "                   all         35        158      0.987          1      0.994      0.931      0.987          1      0.994      0.797\n",
      "\n",
      "      Epoch    GPU_mem   box_loss   seg_loss   cls_loss   dfl_loss  Instances       Size\n"
     ]
    },
    {
     "name": "stderr",
     "output_type": "stream",
     "text": [
      "    253/300      19.9G     0.4164     0.4954     0.2248     0.8025         69       1280: 100%|██████████| 7/7 [00:02<00:00,  2.97it/s]\n",
      "                 Class     Images  Instances      Box(P          R      mAP50  mAP50-95)     Mask(P          R      mAP50  mAP50-95): 100%|██████████| 5/5 [00:00<00:00,  7.06it/s]\n"
     ]
    },
    {
     "name": "stdout",
     "output_type": "stream",
     "text": [
      "                   all         35        158      0.987          1      0.994      0.932      0.987          1      0.994      0.787\n",
      "\n",
      "      Epoch    GPU_mem   box_loss   seg_loss   cls_loss   dfl_loss  Instances       Size\n"
     ]
    },
    {
     "name": "stderr",
     "output_type": "stream",
     "text": [
      "    254/300      19.5G     0.4018     0.4702     0.2301     0.7828         54       1280: 100%|██████████| 7/7 [00:02<00:00,  2.97it/s]\n",
      "                 Class     Images  Instances      Box(P          R      mAP50  mAP50-95)     Mask(P          R      mAP50  mAP50-95): 100%|██████████| 5/5 [00:00<00:00,  6.86it/s]\n"
     ]
    },
    {
     "name": "stdout",
     "output_type": "stream",
     "text": [
      "                   all         35        158      0.987          1      0.994      0.931      0.987          1      0.994      0.793\n",
      "\n",
      "      Epoch    GPU_mem   box_loss   seg_loss   cls_loss   dfl_loss  Instances       Size\n"
     ]
    },
    {
     "name": "stderr",
     "output_type": "stream",
     "text": [
      "    255/300      19.6G     0.3932     0.4549     0.2204     0.7972         42       1280: 100%|██████████| 7/7 [00:02<00:00,  2.96it/s]\n",
      "                 Class     Images  Instances      Box(P          R      mAP50  mAP50-95)     Mask(P          R      mAP50  mAP50-95): 100%|██████████| 5/5 [00:00<00:00,  7.05it/s]\n"
     ]
    },
    {
     "name": "stdout",
     "output_type": "stream",
     "text": [
      "                   all         35        158      0.987          1      0.992      0.925      0.987          1      0.992      0.793\n",
      "\n",
      "      Epoch    GPU_mem   box_loss   seg_loss   cls_loss   dfl_loss  Instances       Size\n"
     ]
    },
    {
     "name": "stderr",
     "output_type": "stream",
     "text": [
      "    256/300      19.5G     0.4163     0.5134     0.2313     0.8041         48       1280: 100%|██████████| 7/7 [00:02<00:00,  2.98it/s]\n",
      "                 Class     Images  Instances      Box(P          R      mAP50  mAP50-95)     Mask(P          R      mAP50  mAP50-95): 100%|██████████| 5/5 [00:00<00:00,  7.04it/s]\n"
     ]
    },
    {
     "name": "stdout",
     "output_type": "stream",
     "text": [
      "                   all         35        158      0.987          1      0.991      0.924      0.987          1      0.991      0.785\n",
      "\n",
      "      Epoch    GPU_mem   box_loss   seg_loss   cls_loss   dfl_loss  Instances       Size\n"
     ]
    },
    {
     "name": "stderr",
     "output_type": "stream",
     "text": [
      "    257/300        20G     0.3804     0.4585     0.2066     0.8013         24       1280: 100%|██████████| 7/7 [00:02<00:00,  2.94it/s]\n",
      "                 Class     Images  Instances      Box(P          R      mAP50  mAP50-95)     Mask(P          R      mAP50  mAP50-95): 100%|██████████| 5/5 [00:00<00:00,  7.01it/s]\n"
     ]
    },
    {
     "name": "stdout",
     "output_type": "stream",
     "text": [
      "                   all         35        158      0.987          1      0.991      0.924      0.987          1      0.991       0.79\n",
      "\n",
      "      Epoch    GPU_mem   box_loss   seg_loss   cls_loss   dfl_loss  Instances       Size\n"
     ]
    },
    {
     "name": "stderr",
     "output_type": "stream",
     "text": [
      "    258/300      19.3G     0.3851     0.4626     0.2196     0.7966         40       1280: 100%|██████████| 7/7 [00:02<00:00,  2.93it/s]\n",
      "                 Class     Images  Instances      Box(P          R      mAP50  mAP50-95)     Mask(P          R      mAP50  mAP50-95): 100%|██████████| 5/5 [00:00<00:00,  7.03it/s]\n"
     ]
    },
    {
     "name": "stdout",
     "output_type": "stream",
     "text": [
      "                   all         35        158      0.987          1      0.991      0.929      0.987          1      0.991      0.786\n",
      "\n",
      "      Epoch    GPU_mem   box_loss   seg_loss   cls_loss   dfl_loss  Instances       Size\n"
     ]
    },
    {
     "name": "stderr",
     "output_type": "stream",
     "text": [
      "    259/300      19.5G     0.3795     0.4299      0.218     0.8012         27       1280: 100%|██████████| 7/7 [00:02<00:00,  2.91it/s]\n",
      "                 Class     Images  Instances      Box(P          R      mAP50  mAP50-95)     Mask(P          R      mAP50  mAP50-95): 100%|██████████| 5/5 [00:00<00:00,  7.01it/s]\n"
     ]
    },
    {
     "name": "stdout",
     "output_type": "stream",
     "text": [
      "                   all         35        158      0.987          1      0.992      0.929      0.987          1      0.992       0.79\n",
      "\n",
      "      Epoch    GPU_mem   box_loss   seg_loss   cls_loss   dfl_loss  Instances       Size\n"
     ]
    },
    {
     "name": "stderr",
     "output_type": "stream",
     "text": [
      "    260/300      19.3G     0.4162      0.493     0.2285     0.8073         55       1280: 100%|██████████| 7/7 [00:02<00:00,  2.95it/s]\n",
      "                 Class     Images  Instances      Box(P          R      mAP50  mAP50-95)     Mask(P          R      mAP50  mAP50-95): 100%|██████████| 5/5 [00:00<00:00,  6.80it/s]\n"
     ]
    },
    {
     "name": "stdout",
     "output_type": "stream",
     "text": [
      "                   all         35        158      0.987          1      0.993       0.93      0.987          1      0.993      0.792\n",
      "\n",
      "      Epoch    GPU_mem   box_loss   seg_loss   cls_loss   dfl_loss  Instances       Size\n"
     ]
    },
    {
     "name": "stderr",
     "output_type": "stream",
     "text": [
      "    261/300      19.9G     0.3765     0.4681     0.2237     0.7873         35       1280: 100%|██████████| 7/7 [00:02<00:00,  2.97it/s]\n",
      "                 Class     Images  Instances      Box(P          R      mAP50  mAP50-95)     Mask(P          R      mAP50  mAP50-95): 100%|██████████| 5/5 [00:00<00:00,  6.98it/s]\n"
     ]
    },
    {
     "name": "stdout",
     "output_type": "stream",
     "text": [
      "                   all         35        158      0.987          1      0.993      0.925      0.987          1      0.993      0.794\n",
      "\n",
      "      Epoch    GPU_mem   box_loss   seg_loss   cls_loss   dfl_loss  Instances       Size\n"
     ]
    },
    {
     "name": "stderr",
     "output_type": "stream",
     "text": [
      "    262/300      19.7G     0.4013     0.4645     0.2278     0.8096         60       1280: 100%|██████████| 7/7 [00:02<00:00,  2.92it/s]\n",
      "                 Class     Images  Instances      Box(P          R      mAP50  mAP50-95)     Mask(P          R      mAP50  mAP50-95): 100%|██████████| 5/5 [00:00<00:00,  7.06it/s]\n"
     ]
    },
    {
     "name": "stdout",
     "output_type": "stream",
     "text": [
      "                   all         35        158      0.987          1      0.994      0.923      0.987          1      0.994      0.788\n",
      "\n",
      "      Epoch    GPU_mem   box_loss   seg_loss   cls_loss   dfl_loss  Instances       Size\n"
     ]
    },
    {
     "name": "stderr",
     "output_type": "stream",
     "text": [
      "    263/300      19.7G     0.3831     0.4692     0.2157     0.7883         60       1280: 100%|██████████| 7/7 [00:02<00:00,  2.91it/s]\n",
      "                 Class     Images  Instances      Box(P          R      mAP50  mAP50-95)     Mask(P          R      mAP50  mAP50-95): 100%|██████████| 5/5 [00:00<00:00,  7.01it/s]\n"
     ]
    },
    {
     "name": "stdout",
     "output_type": "stream",
     "text": [
      "                   all         35        158      0.987          1      0.994      0.928      0.987          1      0.994      0.799\n",
      "\n",
      "      Epoch    GPU_mem   box_loss   seg_loss   cls_loss   dfl_loss  Instances       Size\n"
     ]
    },
    {
     "name": "stderr",
     "output_type": "stream",
     "text": [
      "    264/300      19.4G     0.4079     0.5013     0.2245     0.8173         47       1280: 100%|██████████| 7/7 [00:02<00:00,  2.96it/s]\n",
      "                 Class     Images  Instances      Box(P          R      mAP50  mAP50-95)     Mask(P          R      mAP50  mAP50-95): 100%|██████████| 5/5 [00:00<00:00,  7.06it/s]\n"
     ]
    },
    {
     "name": "stdout",
     "output_type": "stream",
     "text": [
      "                   all         35        158      0.987          1      0.994      0.931      0.987          1      0.994      0.803\n",
      "\n",
      "      Epoch    GPU_mem   box_loss   seg_loss   cls_loss   dfl_loss  Instances       Size\n"
     ]
    },
    {
     "name": "stderr",
     "output_type": "stream",
     "text": [
      "    265/300      19.8G      0.406     0.4913     0.2236     0.8061         60       1280: 100%|██████████| 7/7 [00:02<00:00,  2.96it/s]\n",
      "                 Class     Images  Instances      Box(P          R      mAP50  mAP50-95)     Mask(P          R      mAP50  mAP50-95): 100%|██████████| 5/5 [00:00<00:00,  6.55it/s]\n"
     ]
    },
    {
     "name": "stdout",
     "output_type": "stream",
     "text": [
      "                   all         35        158      0.987          1      0.994      0.933      0.987          1      0.994      0.804\n",
      "\n",
      "      Epoch    GPU_mem   box_loss   seg_loss   cls_loss   dfl_loss  Instances       Size\n"
     ]
    },
    {
     "name": "stderr",
     "output_type": "stream",
     "text": [
      "    266/300      19.5G      0.366     0.4276     0.2071     0.7962         83       1280: 100%|██████████| 7/7 [00:02<00:00,  2.94it/s]\n",
      "                 Class     Images  Instances      Box(P          R      mAP50  mAP50-95)     Mask(P          R      mAP50  mAP50-95): 100%|██████████| 5/5 [00:00<00:00,  6.83it/s]\n"
     ]
    },
    {
     "name": "stdout",
     "output_type": "stream",
     "text": [
      "                   all         35        158      0.987          1      0.994       0.93      0.987          1      0.994      0.784\n",
      "\n",
      "      Epoch    GPU_mem   box_loss   seg_loss   cls_loss   dfl_loss  Instances       Size\n"
     ]
    },
    {
     "name": "stderr",
     "output_type": "stream",
     "text": [
      "    267/300      19.5G      0.406     0.4445     0.2381     0.8074         68       1280: 100%|██████████| 7/7 [00:02<00:00,  2.97it/s]\n",
      "                 Class     Images  Instances      Box(P          R      mAP50  mAP50-95)     Mask(P          R      mAP50  mAP50-95): 100%|██████████| 5/5 [00:00<00:00,  6.94it/s]\n"
     ]
    },
    {
     "name": "stdout",
     "output_type": "stream",
     "text": [
      "                   all         35        158      0.987          1      0.994      0.928      0.987          1      0.994      0.792\n",
      "\n",
      "      Epoch    GPU_mem   box_loss   seg_loss   cls_loss   dfl_loss  Instances       Size\n"
     ]
    },
    {
     "name": "stderr",
     "output_type": "stream",
     "text": [
      "    268/300      19.6G     0.4333     0.4994     0.2314     0.8163         77       1280: 100%|██████████| 7/7 [00:02<00:00,  2.94it/s]\n",
      "                 Class     Images  Instances      Box(P          R      mAP50  mAP50-95)     Mask(P          R      mAP50  mAP50-95): 100%|██████████| 5/5 [00:00<00:00,  7.00it/s]\n"
     ]
    },
    {
     "name": "stdout",
     "output_type": "stream",
     "text": [
      "                   all         35        158      0.987          1      0.994      0.931      0.987          1      0.994        0.8\n",
      "\n",
      "      Epoch    GPU_mem   box_loss   seg_loss   cls_loss   dfl_loss  Instances       Size\n"
     ]
    },
    {
     "name": "stderr",
     "output_type": "stream",
     "text": [
      "    269/300      19.8G     0.3769     0.4383     0.2098     0.7961         40       1280: 100%|██████████| 7/7 [00:02<00:00,  2.93it/s]\n",
      "                 Class     Images  Instances      Box(P          R      mAP50  mAP50-95)     Mask(P          R      mAP50  mAP50-95): 100%|██████████| 5/5 [00:00<00:00,  7.01it/s]\n"
     ]
    },
    {
     "name": "stdout",
     "output_type": "stream",
     "text": [
      "                   all         35        158      0.987          1      0.994      0.931      0.987          1      0.994      0.803\n",
      "\n",
      "      Epoch    GPU_mem   box_loss   seg_loss   cls_loss   dfl_loss  Instances       Size\n"
     ]
    },
    {
     "name": "stderr",
     "output_type": "stream",
     "text": [
      "    270/300      19.6G     0.4061     0.4692     0.2208     0.8012         58       1280: 100%|██████████| 7/7 [00:02<00:00,  2.90it/s]\n",
      "                 Class     Images  Instances      Box(P          R      mAP50  mAP50-95)     Mask(P          R      mAP50  mAP50-95): 100%|██████████| 5/5 [00:00<00:00,  7.00it/s]\n"
     ]
    },
    {
     "name": "stdout",
     "output_type": "stream",
     "text": [
      "                   all         35        158      0.987          1      0.994      0.934      0.987          1      0.994      0.807\n",
      "\n",
      "      Epoch    GPU_mem   box_loss   seg_loss   cls_loss   dfl_loss  Instances       Size\n"
     ]
    },
    {
     "name": "stderr",
     "output_type": "stream",
     "text": [
      "    271/300      19.6G     0.3738     0.4261     0.1965     0.7944         41       1280: 100%|██████████| 7/7 [00:02<00:00,  2.92it/s]\n",
      "                 Class     Images  Instances      Box(P          R      mAP50  mAP50-95)     Mask(P          R      mAP50  mAP50-95): 100%|██████████| 5/5 [00:00<00:00,  6.68it/s]\n"
     ]
    },
    {
     "name": "stdout",
     "output_type": "stream",
     "text": [
      "                   all         35        158      0.987          1      0.994      0.936      0.987          1      0.994      0.808\n",
      "\n",
      "      Epoch    GPU_mem   box_loss   seg_loss   cls_loss   dfl_loss  Instances       Size\n"
     ]
    },
    {
     "name": "stderr",
     "output_type": "stream",
     "text": [
      "    272/300      19.7G     0.3954     0.4735     0.2187      0.809         39       1280: 100%|██████████| 7/7 [00:02<00:00,  2.96it/s]\n",
      "                 Class     Images  Instances      Box(P          R      mAP50  mAP50-95)     Mask(P          R      mAP50  mAP50-95): 100%|██████████| 5/5 [00:00<00:00,  6.89it/s]\n"
     ]
    },
    {
     "name": "stdout",
     "output_type": "stream",
     "text": [
      "                   all         35        158      0.987          1      0.994      0.935      0.987          1      0.994      0.809\n",
      "\n",
      "      Epoch    GPU_mem   box_loss   seg_loss   cls_loss   dfl_loss  Instances       Size\n"
     ]
    },
    {
     "name": "stderr",
     "output_type": "stream",
     "text": [
      "    273/300        20G     0.3811     0.4234     0.2083     0.7991         40       1280: 100%|██████████| 7/7 [00:02<00:00,  2.94it/s]\n",
      "                 Class     Images  Instances      Box(P          R      mAP50  mAP50-95)     Mask(P          R      mAP50  mAP50-95): 100%|██████████| 5/5 [00:00<00:00,  7.02it/s]\n"
     ]
    },
    {
     "name": "stdout",
     "output_type": "stream",
     "text": [
      "                   all         35        158      0.987          1      0.994      0.932      0.987          1      0.994      0.803\n",
      "\n",
      "      Epoch    GPU_mem   box_loss   seg_loss   cls_loss   dfl_loss  Instances       Size\n"
     ]
    },
    {
     "name": "stderr",
     "output_type": "stream",
     "text": [
      "    274/300      19.7G     0.4184     0.4644      0.219     0.7935         49       1280: 100%|██████████| 7/7 [00:02<00:00,  2.95it/s]\n",
      "                 Class     Images  Instances      Box(P          R      mAP50  mAP50-95)     Mask(P          R      mAP50  mAP50-95): 100%|██████████| 5/5 [00:00<00:00,  7.05it/s]\n"
     ]
    },
    {
     "name": "stdout",
     "output_type": "stream",
     "text": [
      "                   all         35        158      0.987          1      0.994      0.931      0.987          1      0.994      0.801\n",
      "\n",
      "      Epoch    GPU_mem   box_loss   seg_loss   cls_loss   dfl_loss  Instances       Size\n"
     ]
    },
    {
     "name": "stderr",
     "output_type": "stream",
     "text": [
      "    275/300      19.4G     0.4062     0.4967     0.2107      0.796         55       1280: 100%|██████████| 7/7 [00:02<00:00,  2.91it/s]\n",
      "                 Class     Images  Instances      Box(P          R      mAP50  mAP50-95)     Mask(P          R      mAP50  mAP50-95): 100%|██████████| 5/5 [00:00<00:00,  7.05it/s]\n"
     ]
    },
    {
     "name": "stdout",
     "output_type": "stream",
     "text": [
      "                   all         35        158      0.987          1      0.994      0.926      0.987          1      0.994      0.796\n",
      "\n",
      "      Epoch    GPU_mem   box_loss   seg_loss   cls_loss   dfl_loss  Instances       Size\n"
     ]
    },
    {
     "name": "stderr",
     "output_type": "stream",
     "text": [
      "    276/300      19.6G     0.3741     0.4466     0.2093      0.802         31       1280: 100%|██████████| 7/7 [00:02<00:00,  2.96it/s]\n",
      "                 Class     Images  Instances      Box(P          R      mAP50  mAP50-95)     Mask(P          R      mAP50  mAP50-95): 100%|██████████| 5/5 [00:00<00:00,  6.98it/s]\n"
     ]
    },
    {
     "name": "stdout",
     "output_type": "stream",
     "text": [
      "                   all         35        158      0.987          1      0.995      0.936      0.987          1      0.995      0.794\n",
      "\n",
      "      Epoch    GPU_mem   box_loss   seg_loss   cls_loss   dfl_loss  Instances       Size\n"
     ]
    },
    {
     "name": "stderr",
     "output_type": "stream",
     "text": [
      "    277/300        20G     0.4067     0.4628     0.2125     0.7894         35       1280: 100%|██████████| 7/7 [00:02<00:00,  2.98it/s]\n",
      "                 Class     Images  Instances      Box(P          R      mAP50  mAP50-95)     Mask(P          R      mAP50  mAP50-95): 100%|██████████| 5/5 [00:00<00:00,  6.67it/s]\n"
     ]
    },
    {
     "name": "stdout",
     "output_type": "stream",
     "text": [
      "                   all         35        158      0.987          1      0.995      0.936      0.987          1      0.995      0.797\n",
      "\n",
      "      Epoch    GPU_mem   box_loss   seg_loss   cls_loss   dfl_loss  Instances       Size\n"
     ]
    },
    {
     "name": "stderr",
     "output_type": "stream",
     "text": [
      "    278/300      19.4G     0.3796     0.4354      0.219     0.8002         35       1280: 100%|██████████| 7/7 [00:02<00:00,  2.96it/s]\n",
      "                 Class     Images  Instances      Box(P          R      mAP50  mAP50-95)     Mask(P          R      mAP50  mAP50-95): 100%|██████████| 5/5 [00:00<00:00,  7.00it/s]\n"
     ]
    },
    {
     "name": "stdout",
     "output_type": "stream",
     "text": [
      "                   all         35        158      0.987          1      0.995      0.938      0.987          1      0.995      0.798\n",
      "\n",
      "      Epoch    GPU_mem   box_loss   seg_loss   cls_loss   dfl_loss  Instances       Size\n"
     ]
    },
    {
     "name": "stderr",
     "output_type": "stream",
     "text": [
      "    279/300      19.7G     0.3683     0.4013     0.2056     0.7928         47       1280: 100%|██████████| 7/7 [00:02<00:00,  2.96it/s]\n",
      "                 Class     Images  Instances      Box(P          R      mAP50  mAP50-95)     Mask(P          R      mAP50  mAP50-95): 100%|██████████| 5/5 [00:00<00:00,  7.00it/s]\n"
     ]
    },
    {
     "name": "stdout",
     "output_type": "stream",
     "text": [
      "                   all         35        158      0.987          1      0.994      0.933      0.987          1      0.994      0.795\n",
      "\n",
      "      Epoch    GPU_mem   box_loss   seg_loss   cls_loss   dfl_loss  Instances       Size\n"
     ]
    },
    {
     "name": "stderr",
     "output_type": "stream",
     "text": [
      "    280/300      19.5G     0.4029     0.4764     0.2131     0.8084         80       1280: 100%|██████████| 7/7 [00:02<00:00,  2.94it/s]\n",
      "                 Class     Images  Instances      Box(P          R      mAP50  mAP50-95)     Mask(P          R      mAP50  mAP50-95): 100%|██████████| 5/5 [00:00<00:00,  7.02it/s]\n"
     ]
    },
    {
     "name": "stdout",
     "output_type": "stream",
     "text": [
      "                   all         35        158      0.987          1      0.994      0.936      0.987          1      0.994      0.786\n",
      "\n",
      "      Epoch    GPU_mem   box_loss   seg_loss   cls_loss   dfl_loss  Instances       Size\n"
     ]
    },
    {
     "name": "stderr",
     "output_type": "stream",
     "text": [
      "    281/300        20G     0.3924     0.4492     0.2052      0.793         39       1280: 100%|██████████| 7/7 [00:02<00:00,  2.93it/s]\n",
      "                 Class     Images  Instances      Box(P          R      mAP50  mAP50-95)     Mask(P          R      mAP50  mAP50-95): 100%|██████████| 5/5 [00:00<00:00,  7.02it/s]\n"
     ]
    },
    {
     "name": "stdout",
     "output_type": "stream",
     "text": [
      "                   all         35        158      0.987          1      0.994      0.936      0.987          1      0.994      0.779\n",
      "\n",
      "      Epoch    GPU_mem   box_loss   seg_loss   cls_loss   dfl_loss  Instances       Size\n"
     ]
    },
    {
     "name": "stderr",
     "output_type": "stream",
     "text": [
      "    282/300      19.4G     0.3837     0.4106     0.2104     0.7996         82       1280: 100%|██████████| 7/7 [00:02<00:00,  2.93it/s]\n",
      "                 Class     Images  Instances      Box(P          R      mAP50  mAP50-95)     Mask(P          R      mAP50  mAP50-95): 100%|██████████| 5/5 [00:00<00:00,  7.02it/s]\n"
     ]
    },
    {
     "name": "stdout",
     "output_type": "stream",
     "text": [
      "                   all         35        158      0.987          1      0.994      0.929      0.987          1      0.994      0.777\n",
      "\n",
      "      Epoch    GPU_mem   box_loss   seg_loss   cls_loss   dfl_loss  Instances       Size\n"
     ]
    },
    {
     "name": "stderr",
     "output_type": "stream",
     "text": [
      "    283/300      19.6G     0.3659     0.4382     0.2084     0.8032         33       1280: 100%|██████████| 7/7 [00:02<00:00,  2.93it/s]\n",
      "                 Class     Images  Instances      Box(P          R      mAP50  mAP50-95)     Mask(P          R      mAP50  mAP50-95): 100%|██████████| 5/5 [00:00<00:00,  6.79it/s]\n"
     ]
    },
    {
     "name": "stdout",
     "output_type": "stream",
     "text": [
      "                   all         35        158      0.987          1      0.994      0.928      0.987          1      0.994      0.789\n",
      "\n",
      "      Epoch    GPU_mem   box_loss   seg_loss   cls_loss   dfl_loss  Instances       Size\n"
     ]
    },
    {
     "name": "stderr",
     "output_type": "stream",
     "text": [
      "    284/300      19.5G     0.3812     0.5012     0.2136     0.7972         48       1280: 100%|██████████| 7/7 [00:02<00:00,  2.97it/s]\n",
      "                 Class     Images  Instances      Box(P          R      mAP50  mAP50-95)     Mask(P          R      mAP50  mAP50-95): 100%|██████████| 5/5 [00:00<00:00,  7.03it/s]\n"
     ]
    },
    {
     "name": "stdout",
     "output_type": "stream",
     "text": [
      "                   all         35        158      0.987          1      0.995      0.928      0.987          1      0.995      0.787\n",
      "\n",
      "      Epoch    GPU_mem   box_loss   seg_loss   cls_loss   dfl_loss  Instances       Size\n"
     ]
    },
    {
     "name": "stderr",
     "output_type": "stream",
     "text": [
      "    285/300        20G     0.3954     0.4394      0.215     0.8037         70       1280: 100%|██████████| 7/7 [00:02<00:00,  2.96it/s]\n",
      "                 Class     Images  Instances      Box(P          R      mAP50  mAP50-95)     Mask(P          R      mAP50  mAP50-95): 100%|██████████| 5/5 [00:00<00:00,  6.97it/s]\n"
     ]
    },
    {
     "name": "stdout",
     "output_type": "stream",
     "text": [
      "                   all         35        158      0.987          1      0.995      0.931      0.987          1      0.995      0.789\n",
      "\n",
      "      Epoch    GPU_mem   box_loss   seg_loss   cls_loss   dfl_loss  Instances       Size\n"
     ]
    },
    {
     "name": "stderr",
     "output_type": "stream",
     "text": [
      "    286/300      19.7G     0.4063     0.4657     0.2144     0.7963         40       1280: 100%|██████████| 7/7 [00:02<00:00,  2.93it/s]\n",
      "                 Class     Images  Instances      Box(P          R      mAP50  mAP50-95)     Mask(P          R      mAP50  mAP50-95): 100%|██████████| 5/5 [00:00<00:00,  7.03it/s]\n"
     ]
    },
    {
     "name": "stdout",
     "output_type": "stream",
     "text": [
      "                   all         35        158      0.988          1      0.995      0.938      0.988          1      0.995      0.803\n",
      "\n",
      "      Epoch    GPU_mem   box_loss   seg_loss   cls_loss   dfl_loss  Instances       Size\n"
     ]
    },
    {
     "name": "stderr",
     "output_type": "stream",
     "text": [
      "    287/300      19.6G     0.4082     0.4393     0.2105     0.8059         43       1280: 100%|██████████| 7/7 [00:02<00:00,  2.94it/s]\n",
      "                 Class     Images  Instances      Box(P          R      mAP50  mAP50-95)     Mask(P          R      mAP50  mAP50-95): 100%|██████████| 5/5 [00:00<00:00,  7.06it/s]\n"
     ]
    },
    {
     "name": "stdout",
     "output_type": "stream",
     "text": [
      "                   all         35        158       0.99          1      0.995      0.938       0.99          1      0.995      0.807\n",
      "\n",
      "      Epoch    GPU_mem   box_loss   seg_loss   cls_loss   dfl_loss  Instances       Size\n"
     ]
    },
    {
     "name": "stderr",
     "output_type": "stream",
     "text": [
      "    288/300      19.4G     0.3997     0.4964     0.2148     0.8042         47       1280: 100%|██████████| 7/7 [00:02<00:00,  2.95it/s]\n",
      "                 Class     Images  Instances      Box(P          R      mAP50  mAP50-95)     Mask(P          R      mAP50  mAP50-95): 100%|██████████| 5/5 [00:00<00:00,  6.65it/s]\n"
     ]
    },
    {
     "name": "stdout",
     "output_type": "stream",
     "text": [
      "                   all         35        158      0.991          1      0.995      0.935      0.991          1      0.995      0.808\n",
      "\n",
      "      Epoch    GPU_mem   box_loss   seg_loss   cls_loss   dfl_loss  Instances       Size\n"
     ]
    },
    {
     "name": "stderr",
     "output_type": "stream",
     "text": [
      "    289/300      20.1G     0.3659     0.4307     0.2016     0.7828         62       1280: 100%|██████████| 7/7 [00:02<00:00,  2.95it/s]\n",
      "                 Class     Images  Instances      Box(P          R      mAP50  mAP50-95)     Mask(P          R      mAP50  mAP50-95): 100%|██████████| 5/5 [00:00<00:00,  6.94it/s]\n"
     ]
    },
    {
     "name": "stdout",
     "output_type": "stream",
     "text": [
      "                   all         35        158      0.991          1      0.995      0.936      0.991          1      0.995      0.808\n",
      "\n",
      "      Epoch    GPU_mem   box_loss   seg_loss   cls_loss   dfl_loss  Instances       Size\n"
     ]
    },
    {
     "name": "stderr",
     "output_type": "stream",
     "text": [
      "    290/300      19.5G     0.3754     0.4455     0.2073     0.8087         23       1280: 100%|██████████| 7/7 [00:02<00:00,  2.93it/s]\n",
      "                 Class     Images  Instances      Box(P          R      mAP50  mAP50-95)     Mask(P          R      mAP50  mAP50-95): 100%|██████████| 5/5 [00:00<00:00,  7.02it/s]\n"
     ]
    },
    {
     "name": "stdout",
     "output_type": "stream",
     "text": [
      "                   all         35        158      0.992          1      0.995      0.937      0.992          1      0.995      0.804\n",
      "Closing dataloader mosaic\n",
      "\n",
      "      Epoch    GPU_mem   box_loss   seg_loss   cls_loss   dfl_loss  Instances       Size\n"
     ]
    },
    {
     "name": "stderr",
     "output_type": "stream",
     "text": [
      "    291/300      19.1G     0.4077     0.4464     0.2075     0.8142         12       1280: 100%|██████████| 7/7 [00:03<00:00,  2.30it/s]\n",
      "                 Class     Images  Instances      Box(P          R      mAP50  mAP50-95)     Mask(P          R      mAP50  mAP50-95): 100%|██████████| 5/5 [00:00<00:00,  7.01it/s]\n"
     ]
    },
    {
     "name": "stdout",
     "output_type": "stream",
     "text": [
      "                   all         35        158      0.992          1      0.995      0.938      0.992          1      0.995      0.795\n",
      "\n",
      "      Epoch    GPU_mem   box_loss   seg_loss   cls_loss   dfl_loss  Instances       Size\n"
     ]
    },
    {
     "name": "stderr",
     "output_type": "stream",
     "text": [
      "    292/300      19.1G     0.3968     0.4699     0.1943     0.8097         12       1280: 100%|██████████| 7/7 [00:02<00:00,  3.01it/s]\n",
      "                 Class     Images  Instances      Box(P          R      mAP50  mAP50-95)     Mask(P          R      mAP50  mAP50-95): 100%|██████████| 5/5 [00:00<00:00,  7.02it/s]\n"
     ]
    },
    {
     "name": "stdout",
     "output_type": "stream",
     "text": [
      "                   all         35        158       0.99          1      0.995      0.932       0.99          1      0.995      0.785\n",
      "\n",
      "      Epoch    GPU_mem   box_loss   seg_loss   cls_loss   dfl_loss  Instances       Size\n"
     ]
    },
    {
     "name": "stderr",
     "output_type": "stream",
     "text": [
      "    293/300      19.6G     0.3815     0.4803     0.2016     0.8233         12       1280: 100%|██████████| 7/7 [00:02<00:00,  3.02it/s]\n",
      "                 Class     Images  Instances      Box(P          R      mAP50  mAP50-95)     Mask(P          R      mAP50  mAP50-95): 100%|██████████| 5/5 [00:00<00:00,  7.00it/s]\n"
     ]
    },
    {
     "name": "stdout",
     "output_type": "stream",
     "text": [
      "                   all         35        158      0.988          1      0.995      0.935      0.988          1      0.995      0.779\n",
      "\n",
      "      Epoch    GPU_mem   box_loss   seg_loss   cls_loss   dfl_loss  Instances       Size\n"
     ]
    },
    {
     "name": "stderr",
     "output_type": "stream",
     "text": [
      "    294/300      19.1G     0.3943     0.4714     0.2036     0.8079         13       1280: 100%|██████████| 7/7 [00:02<00:00,  2.98it/s]\n",
      "                 Class     Images  Instances      Box(P          R      mAP50  mAP50-95)     Mask(P          R      mAP50  mAP50-95): 100%|██████████| 5/5 [00:00<00:00,  7.03it/s]\n"
     ]
    },
    {
     "name": "stdout",
     "output_type": "stream",
     "text": [
      "                   all         35        158      0.987          1      0.995      0.936      0.987          1      0.995      0.778\n",
      "\n",
      "      Epoch    GPU_mem   box_loss   seg_loss   cls_loss   dfl_loss  Instances       Size\n"
     ]
    },
    {
     "name": "stderr",
     "output_type": "stream",
     "text": [
      "    295/300      19.1G     0.3829     0.4104     0.2093     0.8247         11       1280: 100%|██████████| 7/7 [00:02<00:00,  3.04it/s]\n",
      "                 Class     Images  Instances      Box(P          R      mAP50  mAP50-95)     Mask(P          R      mAP50  mAP50-95): 100%|██████████| 5/5 [00:00<00:00,  6.75it/s]\n"
     ]
    },
    {
     "name": "stdout",
     "output_type": "stream",
     "text": [
      "                   all         35        158      0.987          1      0.995      0.934      0.987          1      0.995      0.788\n",
      "\n",
      "      Epoch    GPU_mem   box_loss   seg_loss   cls_loss   dfl_loss  Instances       Size\n"
     ]
    },
    {
     "name": "stderr",
     "output_type": "stream",
     "text": [
      "    296/300      19.1G     0.3519     0.4531     0.2014     0.7999         14       1280: 100%|██████████| 7/7 [00:02<00:00,  3.01it/s]\n",
      "                 Class     Images  Instances      Box(P          R      mAP50  mAP50-95)     Mask(P          R      mAP50  mAP50-95): 100%|██████████| 5/5 [00:00<00:00,  7.04it/s]\n"
     ]
    },
    {
     "name": "stdout",
     "output_type": "stream",
     "text": [
      "                   all         35        158      0.987          1      0.995      0.938      0.987          1      0.995      0.794\n",
      "\n",
      "      Epoch    GPU_mem   box_loss   seg_loss   cls_loss   dfl_loss  Instances       Size\n"
     ]
    },
    {
     "name": "stderr",
     "output_type": "stream",
     "text": [
      "    297/300      19.5G     0.3489     0.3684     0.1866     0.7662         10       1280: 100%|██████████| 7/7 [00:02<00:00,  3.03it/s]\n",
      "                 Class     Images  Instances      Box(P          R      mAP50  mAP50-95)     Mask(P          R      mAP50  mAP50-95): 100%|██████████| 5/5 [00:00<00:00,  6.99it/s]\n"
     ]
    },
    {
     "name": "stdout",
     "output_type": "stream",
     "text": [
      "                   all         35        158      0.987          1      0.995       0.94      0.987          1      0.995      0.797\n",
      "\n",
      "      Epoch    GPU_mem   box_loss   seg_loss   cls_loss   dfl_loss  Instances       Size\n"
     ]
    },
    {
     "name": "stderr",
     "output_type": "stream",
     "text": [
      "    298/300      19.1G     0.3991     0.4795     0.2137     0.8236         12       1280: 100%|██████████| 7/7 [00:02<00:00,  2.97it/s]\n",
      "                 Class     Images  Instances      Box(P          R      mAP50  mAP50-95)     Mask(P          R      mAP50  mAP50-95): 100%|██████████| 5/5 [00:00<00:00,  7.03it/s]\n"
     ]
    },
    {
     "name": "stdout",
     "output_type": "stream",
     "text": [
      "                   all         35        158      0.987          1      0.995      0.937      0.987          1      0.995      0.793\n",
      "\n",
      "      Epoch    GPU_mem   box_loss   seg_loss   cls_loss   dfl_loss  Instances       Size\n"
     ]
    },
    {
     "name": "stderr",
     "output_type": "stream",
     "text": [
      "    299/300      19.1G     0.3879     0.4366     0.1956     0.7987         10       1280: 100%|██████████| 7/7 [00:02<00:00,  3.02it/s]\n",
      "                 Class     Images  Instances      Box(P          R      mAP50  mAP50-95)     Mask(P          R      mAP50  mAP50-95): 100%|██████████| 5/5 [00:00<00:00,  7.02it/s]\n"
     ]
    },
    {
     "name": "stdout",
     "output_type": "stream",
     "text": [
      "                   all         35        158      0.987          1      0.994      0.937      0.987          1      0.994      0.794\n",
      "\n",
      "      Epoch    GPU_mem   box_loss   seg_loss   cls_loss   dfl_loss  Instances       Size\n"
     ]
    },
    {
     "name": "stderr",
     "output_type": "stream",
     "text": [
      "    300/300      19.1G     0.3821     0.4256     0.2024     0.8229         13       1280: 100%|██████████| 7/7 [00:02<00:00,  3.00it/s]\n",
      "                 Class     Images  Instances      Box(P          R      mAP50  mAP50-95)     Mask(P          R      mAP50  mAP50-95): 100%|██████████| 5/5 [00:00<00:00,  6.82it/s]\n"
     ]
    },
    {
     "name": "stdout",
     "output_type": "stream",
     "text": [
      "                   all         35        158      0.987          1      0.994      0.939      0.987          1      0.994      0.793\n",
      "\n",
      "300 epochs completed in 0.354 hours.\n",
      "Optimizer stripped from runs/segment/yolov11_WormCNN-HTT28/weights/last.pt, 124.9MB\n",
      "Optimizer stripped from runs/segment/yolov11_WormCNN-HTT28/weights/best.pt, 124.9MB\n",
      "\n",
      "Validating runs/segment/yolov11_WormCNN-HTT28/weights/best.pt...\n",
      "Ultralytics 8.3.36 🚀 Python-3.11.10 torch-2.5.1+cu124 CUDA:0 (NVIDIA GeForce RTX 4090, 24210MiB)\n",
      "                                                       CUDA:1 (NVIDIA GeForce RTX 4090, 24210MiB)\n",
      "                                                       CUDA:2 (NVIDIA GeForce RTX 4090, 24210MiB)\n",
      "                                                       CUDA:3 (NVIDIA GeForce RTX 4090, 24210MiB)\n",
      "YOLO11x-seg summary (fused): 491 layers, 62,003,283 parameters, 0 gradients, 318.5 GFLOPs\n"
     ]
    },
    {
     "name": "stderr",
     "output_type": "stream",
     "text": [
      "                 Class     Images  Instances      Box(P          R      mAP50  mAP50-95)     Mask(P          R      mAP50  mAP50-95): 100%|██████████| 5/5 [00:00<00:00,  6.42it/s]\n"
     ]
    },
    {
     "name": "stdout",
     "output_type": "stream",
     "text": [
      "                   all         35        158       0.99          1      0.995      0.937       0.99          1      0.995      0.807\n",
      "Speed: 0.2ms preprocess, 15.8ms inference, 0.0ms loss, 0.7ms postprocess per image\n",
      "Results saved to \u001b[1mruns/segment/yolov11_WormCNN-HTT28\u001b[0m\n"
     ]
    }
   ],
   "source": [
    "from ultralytics import YOLO\n",
    "\n",
    "# 加载预训练的YOLOv11分割模型\n",
    "model = YOLO('yolo11x-seg')\n",
    "\n",
    "results = model.train(\n",
    "    data='./data.yaml',\n",
    "    device=[0,1,2,3],\n",
    "    epochs=300,\n",
    "    imgsz=1280,\n",
    "    batch=16,\n",
    "    lr0=0.001,\n",
    "    name='yolov11_WormCNN-HTT',\n",
    "    project='runs/segment',\n",
    "    task='segment',\n",
    "    mosaic=True,\n",
    "    mixup=0.2,                # 提高 mixup 强度\n",
    "    fliplr=0.5,\n",
    "    hsv_h=0.02,               # 色调变换范围\n",
    "    hsv_s=0.8,                # 饱和度缩放范围\n",
    "    hsv_v=0.4,                # 明度缩放范围\n",
    "    degrees=10,               # 随机旋转范围\n",
    "    translate=0.2,            # 平移范围\n",
    "    scale=0.5,                # 随机缩放范围\n",
    "    # shear=10,                 # 剪切范围\n",
    "    perspective=0.001,        # 透视变化\n",
    "    flipud=0.1,               # 上下翻转概率\n",
    "    copy_paste=True           # 启用 Copy-Paste 数据增强\n",
    ")\n"
   ]
  },
  {
   "cell_type": "code",
   "execution_count": 3,
   "metadata": {},
   "outputs": [
    {
     "name": "stdout",
     "output_type": "stream",
     "text": [
      "Ultralytics 8.3.36 🚀 Python-3.11.10 torch-2.5.1+cu124 CUDA:0 (NVIDIA GeForce RTX 4090, 24210MiB)\n",
      "YOLO11x-seg summary (fused): 491 layers, 62,003,283 parameters, 0 gradients, 318.5 GFLOPs\n"
     ]
    },
    {
     "name": "stderr",
     "output_type": "stream",
     "text": [
      "\u001b[34m\u001b[1mval: \u001b[0mScanning /data/yan/track/datasets/val/labels.cache... 35 images, 0 backgrounds, 0 corrupt: 100%|██████████| 35/35 [00:00<?, ?it/s]\n",
      "                 Class     Images  Instances      Box(P          R      mAP50  mAP50-95)     Mask(P          R      mAP50  mAP50-95): 100%|██████████| 3/3 [00:01<00:00,  1.93it/s]\n"
     ]
    },
    {
     "name": "stdout",
     "output_type": "stream",
     "text": [
      "                   all         35        158       0.99          1      0.995      0.941       0.99          1      0.995      0.784\n",
      "Speed: 3.9ms preprocess, 28.0ms inference, 0.0ms loss, 2.5ms postprocess per image\n",
      "Results saved to \u001b[1mruns/segment/val3\u001b[0m\n"
     ]
    },
    {
     "data": {
      "text/plain": [
       "array([    0.78358])"
      ]
     },
     "execution_count": 3,
     "metadata": {},
     "output_type": "execute_result"
    }
   ],
   "source": [
    "from ultralytics import YOLO\n",
    "model = YOLO(\"/data/yan/track/runs/segment/yolov11_WormCNN-HTT28/weights/best.pt\")  # load a custom model\n",
    "\n",
    "# Validate the model\n",
    "metrics = model.val()  # no arguments needed, dataset and settings remembered\n",
    "metrics.box.map  # map50-95(B)\n",
    "metrics.box.map50  # map50(B)\n",
    "metrics.box.map75  # map75(B)\n",
    "metrics.box.maps  # a list contains map50-95(B) of each category\n",
    "metrics.seg.map  # map50-95(M)\n",
    "metrics.seg.map50  # map50(M)\n",
    "metrics.seg.map75  # map75(M)\n",
    "metrics.seg.maps  # a list contains map50-95(M) of each category\n",
    "\n"
   ]
  },
  {
   "cell_type": "code",
   "execution_count": null,
   "metadata": {},
   "outputs": [
    {
     "name": "stdout",
     "output_type": "stream",
     "text": [
      "Video Resolution: Width=1600, Height=1200\n",
      "\n",
      "video 1/1 (frame 1/293) /data/yan/track/vedio/TS-20241123220321351.avi: 960x1280 6 Celeganss, 24.1ms\n",
      "Processing Frame 0...\n",
      "video 1/1 (frame 2/293) /data/yan/track/vedio/TS-20241123220321351.avi: 960x1280 6 Celeganss, 24.1ms\n",
      "Processing Frame 1...\n",
      "video 1/1 (frame 3/293) /data/yan/track/vedio/TS-20241123220321351.avi: 960x1280 6 Celeganss, 24.1ms\n",
      "Processing Frame 2...\n",
      "video 1/1 (frame 4/293) /data/yan/track/vedio/TS-20241123220321351.avi: 960x1280 6 Celeganss, 24.1ms\n",
      "Processing Frame 3...\n",
      "video 1/1 (frame 5/293) /data/yan/track/vedio/TS-20241123220321351.avi: 960x1280 6 Celeganss, 24.1ms\n",
      "Processing Frame 4...\n",
      "video 1/1 (frame 6/293) /data/yan/track/vedio/TS-20241123220321351.avi: 960x1280 6 Celeganss, 24.1ms\n",
      "Processing Frame 5...\n",
      "video 1/1 (frame 7/293) /data/yan/track/vedio/TS-20241123220321351.avi: 960x1280 6 Celeganss, 24.1ms\n",
      "Processing Frame 6...\n",
      "video 1/1 (frame 8/293) /data/yan/track/vedio/TS-20241123220321351.avi: 960x1280 6 Celeganss, 24.1ms\n",
      "Processing Frame 7...\n",
      "video 1/1 (frame 9/293) /data/yan/track/vedio/TS-20241123220321351.avi: 960x1280 6 Celeganss, 24.1ms\n",
      "Processing Frame 8...\n",
      "video 1/1 (frame 10/293) /data/yan/track/vedio/TS-20241123220321351.avi: 960x1280 6 Celeganss, 24.1ms\n",
      "Processing Frame 9...\n",
      "video 1/1 (frame 11/293) /data/yan/track/vedio/TS-20241123220321351.avi: 960x1280 6 Celeganss, 24.1ms\n",
      "Processing Frame 10...\n",
      "video 1/1 (frame 12/293) /data/yan/track/vedio/TS-20241123220321351.avi: 960x1280 6 Celeganss, 24.1ms\n",
      "Processing Frame 11...\n",
      "video 1/1 (frame 13/293) /data/yan/track/vedio/TS-20241123220321351.avi: 960x1280 6 Celeganss, 24.1ms\n",
      "Processing Frame 12...\n",
      "video 1/1 (frame 14/293) /data/yan/track/vedio/TS-20241123220321351.avi: 960x1280 6 Celeganss, 24.1ms\n",
      "Processing Frame 13...\n",
      "video 1/1 (frame 15/293) /data/yan/track/vedio/TS-20241123220321351.avi: 960x1280 6 Celeganss, 24.1ms\n",
      "Processing Frame 14...\n",
      "video 1/1 (frame 16/293) /data/yan/track/vedio/TS-20241123220321351.avi: 960x1280 6 Celeganss, 24.1ms\n",
      "Processing Frame 15...\n",
      "video 1/1 (frame 17/293) /data/yan/track/vedio/TS-20241123220321351.avi: 960x1280 6 Celeganss, 24.1ms\n",
      "Processing Frame 16...\n",
      "video 1/1 (frame 18/293) /data/yan/track/vedio/TS-20241123220321351.avi: 960x1280 6 Celeganss, 24.1ms\n",
      "Processing Frame 17...\n",
      "video 1/1 (frame 19/293) /data/yan/track/vedio/TS-20241123220321351.avi: 960x1280 6 Celeganss, 24.1ms\n",
      "Processing Frame 18...\n",
      "video 1/1 (frame 20/293) /data/yan/track/vedio/TS-20241123220321351.avi: 960x1280 6 Celeganss, 24.1ms\n",
      "Processing Frame 19...\n",
      "video 1/1 (frame 21/293) /data/yan/track/vedio/TS-20241123220321351.avi: 960x1280 6 Celeganss, 24.1ms\n",
      "Processing Frame 20...\n",
      "video 1/1 (frame 22/293) /data/yan/track/vedio/TS-20241123220321351.avi: 960x1280 6 Celeganss, 24.1ms\n",
      "Processing Frame 21...\n",
      "video 1/1 (frame 23/293) /data/yan/track/vedio/TS-20241123220321351.avi: 960x1280 6 Celeganss, 24.1ms\n",
      "Processing Frame 22...\n",
      "video 1/1 (frame 24/293) /data/yan/track/vedio/TS-20241123220321351.avi: 960x1280 6 Celeganss, 24.1ms\n",
      "Processing Frame 23...\n",
      "video 1/1 (frame 25/293) /data/yan/track/vedio/TS-20241123220321351.avi: 960x1280 6 Celeganss, 24.1ms\n",
      "Processing Frame 24...\n",
      "video 1/1 (frame 26/293) /data/yan/track/vedio/TS-20241123220321351.avi: 960x1280 6 Celeganss, 24.1ms\n",
      "Processing Frame 25...\n",
      "video 1/1 (frame 27/293) /data/yan/track/vedio/TS-20241123220321351.avi: 960x1280 6 Celeganss, 24.1ms\n",
      "Processing Frame 26...\n",
      "video 1/1 (frame 28/293) /data/yan/track/vedio/TS-20241123220321351.avi: 960x1280 6 Celeganss, 24.1ms\n",
      "Processing Frame 27...\n",
      "video 1/1 (frame 29/293) /data/yan/track/vedio/TS-20241123220321351.avi: 960x1280 6 Celeganss, 24.1ms\n",
      "Processing Frame 28...\n",
      "video 1/1 (frame 30/293) /data/yan/track/vedio/TS-20241123220321351.avi: 960x1280 6 Celeganss, 24.1ms\n",
      "Processing Frame 29...\n",
      "video 1/1 (frame 31/293) /data/yan/track/vedio/TS-20241123220321351.avi: 960x1280 6 Celeganss, 24.1ms\n",
      "Processing Frame 30...\n",
      "video 1/1 (frame 32/293) /data/yan/track/vedio/TS-20241123220321351.avi: 960x1280 6 Celeganss, 24.2ms\n",
      "Processing Frame 31...\n",
      "video 1/1 (frame 33/293) /data/yan/track/vedio/TS-20241123220321351.avi: 960x1280 6 Celeganss, 24.1ms\n",
      "Processing Frame 32...\n",
      "video 1/1 (frame 34/293) /data/yan/track/vedio/TS-20241123220321351.avi: 960x1280 6 Celeganss, 24.1ms\n",
      "Processing Frame 33...\n",
      "video 1/1 (frame 35/293) /data/yan/track/vedio/TS-20241123220321351.avi: 960x1280 6 Celeganss, 24.1ms\n",
      "Processing Frame 34...\n",
      "video 1/1 (frame 36/293) /data/yan/track/vedio/TS-20241123220321351.avi: 960x1280 6 Celeganss, 24.1ms\n",
      "Processing Frame 35...\n",
      "video 1/1 (frame 37/293) /data/yan/track/vedio/TS-20241123220321351.avi: 960x1280 6 Celeganss, 24.1ms\n",
      "Processing Frame 36...\n",
      "video 1/1 (frame 38/293) /data/yan/track/vedio/TS-20241123220321351.avi: 960x1280 6 Celeganss, 24.1ms\n",
      "Processing Frame 37...\n",
      "video 1/1 (frame 39/293) /data/yan/track/vedio/TS-20241123220321351.avi: 960x1280 6 Celeganss, 24.1ms\n",
      "Processing Frame 38...\n",
      "video 1/1 (frame 40/293) /data/yan/track/vedio/TS-20241123220321351.avi: 960x1280 6 Celeganss, 24.1ms\n",
      "Processing Frame 39...\n",
      "video 1/1 (frame 41/293) /data/yan/track/vedio/TS-20241123220321351.avi: 960x1280 6 Celeganss, 24.1ms\n",
      "Processing Frame 40...\n",
      "video 1/1 (frame 42/293) /data/yan/track/vedio/TS-20241123220321351.avi: 960x1280 6 Celeganss, 24.1ms\n",
      "Processing Frame 41...\n",
      "video 1/1 (frame 43/293) /data/yan/track/vedio/TS-20241123220321351.avi: 960x1280 6 Celeganss, 24.1ms\n",
      "Processing Frame 42...\n",
      "video 1/1 (frame 44/293) /data/yan/track/vedio/TS-20241123220321351.avi: 960x1280 6 Celeganss, 24.1ms\n",
      "Processing Frame 43...\n",
      "video 1/1 (frame 45/293) /data/yan/track/vedio/TS-20241123220321351.avi: 960x1280 6 Celeganss, 24.1ms\n",
      "Processing Frame 44...\n",
      "video 1/1 (frame 46/293) /data/yan/track/vedio/TS-20241123220321351.avi: 960x1280 6 Celeganss, 24.1ms\n",
      "Processing Frame 45...\n",
      "video 1/1 (frame 47/293) /data/yan/track/vedio/TS-20241123220321351.avi: 960x1280 6 Celeganss, 24.1ms\n",
      "Processing Frame 46...\n",
      "video 1/1 (frame 48/293) /data/yan/track/vedio/TS-20241123220321351.avi: 960x1280 6 Celeganss, 24.1ms\n",
      "Processing Frame 47...\n",
      "video 1/1 (frame 49/293) /data/yan/track/vedio/TS-20241123220321351.avi: 960x1280 6 Celeganss, 24.1ms\n",
      "Processing Frame 48...\n",
      "video 1/1 (frame 50/293) /data/yan/track/vedio/TS-20241123220321351.avi: 960x1280 6 Celeganss, 24.1ms\n",
      "Processing Frame 49...\n",
      "video 1/1 (frame 51/293) /data/yan/track/vedio/TS-20241123220321351.avi: 960x1280 6 Celeganss, 24.1ms\n",
      "Processing Frame 50...\n",
      "video 1/1 (frame 52/293) /data/yan/track/vedio/TS-20241123220321351.avi: 960x1280 6 Celeganss, 24.1ms\n",
      "Processing Frame 51...\n",
      "video 1/1 (frame 53/293) /data/yan/track/vedio/TS-20241123220321351.avi: 960x1280 6 Celeganss, 24.1ms\n",
      "Processing Frame 52...\n",
      "video 1/1 (frame 54/293) /data/yan/track/vedio/TS-20241123220321351.avi: 960x1280 6 Celeganss, 24.1ms\n",
      "Processing Frame 53...\n",
      "video 1/1 (frame 55/293) /data/yan/track/vedio/TS-20241123220321351.avi: 960x1280 6 Celeganss, 24.1ms\n",
      "Processing Frame 54...\n",
      "video 1/1 (frame 56/293) /data/yan/track/vedio/TS-20241123220321351.avi: 960x1280 6 Celeganss, 24.1ms\n",
      "Processing Frame 55...\n",
      "video 1/1 (frame 57/293) /data/yan/track/vedio/TS-20241123220321351.avi: 960x1280 6 Celeganss, 24.1ms\n",
      "Processing Frame 56...\n",
      "video 1/1 (frame 58/293) /data/yan/track/vedio/TS-20241123220321351.avi: 960x1280 6 Celeganss, 24.1ms\n",
      "Processing Frame 57...\n",
      "video 1/1 (frame 59/293) /data/yan/track/vedio/TS-20241123220321351.avi: 960x1280 6 Celeganss, 24.1ms\n",
      "Processing Frame 58...\n",
      "video 1/1 (frame 60/293) /data/yan/track/vedio/TS-20241123220321351.avi: 960x1280 6 Celeganss, 24.1ms\n",
      "Processing Frame 59...\n",
      "video 1/1 (frame 61/293) /data/yan/track/vedio/TS-20241123220321351.avi: 960x1280 6 Celeganss, 24.1ms\n",
      "Processing Frame 60...\n",
      "video 1/1 (frame 62/293) /data/yan/track/vedio/TS-20241123220321351.avi: 960x1280 6 Celeganss, 24.1ms\n",
      "Processing Frame 61...\n",
      "video 1/1 (frame 63/293) /data/yan/track/vedio/TS-20241123220321351.avi: 960x1280 6 Celeganss, 24.1ms\n",
      "Processing Frame 62...\n",
      "video 1/1 (frame 64/293) /data/yan/track/vedio/TS-20241123220321351.avi: 960x1280 6 Celeganss, 24.1ms\n",
      "Processing Frame 63...\n",
      "video 1/1 (frame 65/293) /data/yan/track/vedio/TS-20241123220321351.avi: 960x1280 6 Celeganss, 24.1ms\n",
      "Processing Frame 64...\n",
      "video 1/1 (frame 66/293) /data/yan/track/vedio/TS-20241123220321351.avi: 960x1280 6 Celeganss, 24.0ms\n",
      "Processing Frame 65...\n",
      "video 1/1 (frame 67/293) /data/yan/track/vedio/TS-20241123220321351.avi: 960x1280 6 Celeganss, 24.0ms\n",
      "Processing Frame 66...\n",
      "video 1/1 (frame 68/293) /data/yan/track/vedio/TS-20241123220321351.avi: 960x1280 6 Celeganss, 24.0ms\n",
      "Processing Frame 67...\n",
      "video 1/1 (frame 69/293) /data/yan/track/vedio/TS-20241123220321351.avi: 960x1280 6 Celeganss, 24.0ms\n",
      "Processing Frame 68...\n",
      "video 1/1 (frame 70/293) /data/yan/track/vedio/TS-20241123220321351.avi: 960x1280 6 Celeganss, 24.0ms\n",
      "Processing Frame 69...\n",
      "video 1/1 (frame 71/293) /data/yan/track/vedio/TS-20241123220321351.avi: 960x1280 6 Celeganss, 24.0ms\n",
      "Processing Frame 70...\n",
      "video 1/1 (frame 72/293) /data/yan/track/vedio/TS-20241123220321351.avi: 960x1280 6 Celeganss, 24.0ms\n",
      "Processing Frame 71...\n",
      "video 1/1 (frame 73/293) /data/yan/track/vedio/TS-20241123220321351.avi: 960x1280 6 Celeganss, 24.0ms\n",
      "Processing Frame 72...\n",
      "video 1/1 (frame 74/293) /data/yan/track/vedio/TS-20241123220321351.avi: 960x1280 6 Celeganss, 24.0ms\n",
      "Processing Frame 73...\n",
      "video 1/1 (frame 75/293) /data/yan/track/vedio/TS-20241123220321351.avi: 960x1280 6 Celeganss, 24.0ms\n",
      "Processing Frame 74...\n",
      "video 1/1 (frame 76/293) /data/yan/track/vedio/TS-20241123220321351.avi: 960x1280 6 Celeganss, 24.0ms\n",
      "Processing Frame 75...\n",
      "video 1/1 (frame 77/293) /data/yan/track/vedio/TS-20241123220321351.avi: 960x1280 6 Celeganss, 23.9ms\n",
      "Processing Frame 76...\n",
      "video 1/1 (frame 78/293) /data/yan/track/vedio/TS-20241123220321351.avi: 960x1280 6 Celeganss, 23.9ms\n",
      "Processing Frame 77...\n",
      "video 1/1 (frame 79/293) /data/yan/track/vedio/TS-20241123220321351.avi: 960x1280 6 Celeganss, 23.9ms\n",
      "Processing Frame 78...\n",
      "video 1/1 (frame 80/293) /data/yan/track/vedio/TS-20241123220321351.avi: 960x1280 6 Celeganss, 23.9ms\n",
      "Processing Frame 79...\n",
      "video 1/1 (frame 81/293) /data/yan/track/vedio/TS-20241123220321351.avi: 960x1280 6 Celeganss, 23.9ms\n",
      "Processing Frame 80...\n",
      "video 1/1 (frame 82/293) /data/yan/track/vedio/TS-20241123220321351.avi: 960x1280 6 Celeganss, 23.9ms\n",
      "Processing Frame 81...\n",
      "video 1/1 (frame 83/293) /data/yan/track/vedio/TS-20241123220321351.avi: 960x1280 6 Celeganss, 23.9ms\n",
      "Processing Frame 82...\n",
      "video 1/1 (frame 84/293) /data/yan/track/vedio/TS-20241123220321351.avi: 960x1280 6 Celeganss, 23.9ms\n",
      "Processing Frame 83...\n",
      "video 1/1 (frame 85/293) /data/yan/track/vedio/TS-20241123220321351.avi: 960x1280 6 Celeganss, 23.9ms\n",
      "Processing Frame 84...\n",
      "video 1/1 (frame 86/293) /data/yan/track/vedio/TS-20241123220321351.avi: 960x1280 6 Celeganss, 23.9ms\n",
      "Processing Frame 85...\n",
      "video 1/1 (frame 87/293) /data/yan/track/vedio/TS-20241123220321351.avi: 960x1280 6 Celeganss, 23.9ms\n",
      "Processing Frame 86...\n",
      "video 1/1 (frame 88/293) /data/yan/track/vedio/TS-20241123220321351.avi: 960x1280 6 Celeganss, 23.9ms\n",
      "Processing Frame 87...\n",
      "video 1/1 (frame 89/293) /data/yan/track/vedio/TS-20241123220321351.avi: 960x1280 6 Celeganss, 24.0ms\n",
      "Processing Frame 88...\n",
      "video 1/1 (frame 90/293) /data/yan/track/vedio/TS-20241123220321351.avi: 960x1280 6 Celeganss, 23.9ms\n",
      "Processing Frame 89...\n",
      "video 1/1 (frame 91/293) /data/yan/track/vedio/TS-20241123220321351.avi: 960x1280 6 Celeganss, 23.9ms\n",
      "Processing Frame 90...\n",
      "video 1/1 (frame 92/293) /data/yan/track/vedio/TS-20241123220321351.avi: 960x1280 6 Celeganss, 23.9ms\n",
      "Processing Frame 91...\n",
      "video 1/1 (frame 93/293) /data/yan/track/vedio/TS-20241123220321351.avi: 960x1280 6 Celeganss, 23.9ms\n",
      "Processing Frame 92...\n",
      "video 1/1 (frame 94/293) /data/yan/track/vedio/TS-20241123220321351.avi: 960x1280 6 Celeganss, 23.9ms\n",
      "Processing Frame 93...\n",
      "video 1/1 (frame 95/293) /data/yan/track/vedio/TS-20241123220321351.avi: 960x1280 6 Celeganss, 23.9ms\n",
      "Processing Frame 94...\n",
      "video 1/1 (frame 96/293) /data/yan/track/vedio/TS-20241123220321351.avi: 960x1280 6 Celeganss, 23.9ms\n",
      "Processing Frame 95...\n",
      "video 1/1 (frame 97/293) /data/yan/track/vedio/TS-20241123220321351.avi: 960x1280 6 Celeganss, 23.9ms\n",
      "Processing Frame 96...\n",
      "video 1/1 (frame 98/293) /data/yan/track/vedio/TS-20241123220321351.avi: 960x1280 6 Celeganss, 23.9ms\n",
      "Processing Frame 97...\n",
      "video 1/1 (frame 99/293) /data/yan/track/vedio/TS-20241123220321351.avi: 960x1280 6 Celeganss, 23.9ms\n",
      "Processing Frame 98...\n",
      "video 1/1 (frame 100/293) /data/yan/track/vedio/TS-20241123220321351.avi: 960x1280 6 Celeganss, 24.0ms\n",
      "Processing Frame 99...\n",
      "video 1/1 (frame 101/293) /data/yan/track/vedio/TS-20241123220321351.avi: 960x1280 6 Celeganss, 23.9ms\n",
      "Processing Frame 100...\n",
      "video 1/1 (frame 102/293) /data/yan/track/vedio/TS-20241123220321351.avi: 960x1280 6 Celeganss, 23.9ms\n",
      "Processing Frame 101...\n",
      "video 1/1 (frame 103/293) /data/yan/track/vedio/TS-20241123220321351.avi: 960x1280 6 Celeganss, 23.9ms\n",
      "Processing Frame 102...\n",
      "video 1/1 (frame 104/293) /data/yan/track/vedio/TS-20241123220321351.avi: 960x1280 6 Celeganss, 23.9ms\n",
      "Processing Frame 103...\n",
      "video 1/1 (frame 105/293) /data/yan/track/vedio/TS-20241123220321351.avi: 960x1280 6 Celeganss, 23.9ms\n",
      "Processing Frame 104...\n",
      "video 1/1 (frame 106/293) /data/yan/track/vedio/TS-20241123220321351.avi: 960x1280 6 Celeganss, 23.9ms\n",
      "Processing Frame 105...\n",
      "video 1/1 (frame 107/293) /data/yan/track/vedio/TS-20241123220321351.avi: 960x1280 6 Celeganss, 23.9ms\n",
      "Processing Frame 106...\n",
      "video 1/1 (frame 108/293) /data/yan/track/vedio/TS-20241123220321351.avi: 960x1280 6 Celeganss, 23.9ms\n",
      "Processing Frame 107...\n",
      "video 1/1 (frame 109/293) /data/yan/track/vedio/TS-20241123220321351.avi: 960x1280 6 Celeganss, 24.0ms\n",
      "Processing Frame 108...\n",
      "video 1/1 (frame 110/293) /data/yan/track/vedio/TS-20241123220321351.avi: 960x1280 6 Celeganss, 23.9ms\n",
      "Processing Frame 109...\n",
      "video 1/1 (frame 111/293) /data/yan/track/vedio/TS-20241123220321351.avi: 960x1280 6 Celeganss, 23.9ms\n",
      "Processing Frame 110...\n",
      "video 1/1 (frame 112/293) /data/yan/track/vedio/TS-20241123220321351.avi: 960x1280 6 Celeganss, 23.9ms\n",
      "Processing Frame 111...\n",
      "video 1/1 (frame 113/293) /data/yan/track/vedio/TS-20241123220321351.avi: 960x1280 6 Celeganss, 23.9ms\n",
      "Processing Frame 112...\n",
      "video 1/1 (frame 114/293) /data/yan/track/vedio/TS-20241123220321351.avi: 960x1280 6 Celeganss, 23.9ms\n",
      "Processing Frame 113...\n",
      "video 1/1 (frame 115/293) /data/yan/track/vedio/TS-20241123220321351.avi: 960x1280 6 Celeganss, 23.9ms\n",
      "Processing Frame 114...\n",
      "video 1/1 (frame 116/293) /data/yan/track/vedio/TS-20241123220321351.avi: 960x1280 6 Celeganss, 23.9ms\n",
      "Processing Frame 115...\n",
      "video 1/1 (frame 117/293) /data/yan/track/vedio/TS-20241123220321351.avi: 960x1280 5 Celeganss, 23.9ms\n",
      "Processing Frame 116...\n",
      "video 1/1 (frame 118/293) /data/yan/track/vedio/TS-20241123220321351.avi: 960x1280 5 Celeganss, 24.0ms\n",
      "Processing Frame 117...\n",
      "video 1/1 (frame 119/293) /data/yan/track/vedio/TS-20241123220321351.avi: 960x1280 6 Celeganss, 24.0ms\n",
      "Processing Frame 118...\n",
      "video 1/1 (frame 120/293) /data/yan/track/vedio/TS-20241123220321351.avi: 960x1280 6 Celeganss, 23.9ms\n",
      "Processing Frame 119...\n",
      "video 1/1 (frame 121/293) /data/yan/track/vedio/TS-20241123220321351.avi: 960x1280 6 Celeganss, 23.9ms\n",
      "Processing Frame 120...\n",
      "video 1/1 (frame 122/293) /data/yan/track/vedio/TS-20241123220321351.avi: 960x1280 6 Celeganss, 23.9ms\n",
      "Processing Frame 121...\n",
      "video 1/1 (frame 123/293) /data/yan/track/vedio/TS-20241123220321351.avi: 960x1280 6 Celeganss, 23.9ms\n",
      "Processing Frame 122...\n",
      "video 1/1 (frame 124/293) /data/yan/track/vedio/TS-20241123220321351.avi: 960x1280 6 Celeganss, 24.2ms\n",
      "Processing Frame 123...\n",
      "video 1/1 (frame 125/293) /data/yan/track/vedio/TS-20241123220321351.avi: 960x1280 6 Celeganss, 24.1ms\n",
      "Processing Frame 124...\n",
      "video 1/1 (frame 126/293) /data/yan/track/vedio/TS-20241123220321351.avi: 960x1280 6 Celeganss, 24.1ms\n",
      "Processing Frame 125...\n",
      "video 1/1 (frame 127/293) /data/yan/track/vedio/TS-20241123220321351.avi: 960x1280 6 Celeganss, 24.2ms\n",
      "Processing Frame 126...\n",
      "video 1/1 (frame 128/293) /data/yan/track/vedio/TS-20241123220321351.avi: 960x1280 6 Celeganss, 24.1ms\n",
      "Processing Frame 127...\n",
      "video 1/1 (frame 129/293) /data/yan/track/vedio/TS-20241123220321351.avi: 960x1280 6 Celeganss, 24.1ms\n",
      "Processing Frame 128...\n",
      "video 1/1 (frame 130/293) /data/yan/track/vedio/TS-20241123220321351.avi: 960x1280 6 Celeganss, 24.1ms\n",
      "Processing Frame 129...\n",
      "video 1/1 (frame 131/293) /data/yan/track/vedio/TS-20241123220321351.avi: 960x1280 6 Celeganss, 24.2ms\n",
      "Processing Frame 130...\n",
      "video 1/1 (frame 132/293) /data/yan/track/vedio/TS-20241123220321351.avi: 960x1280 6 Celeganss, 24.1ms\n",
      "Processing Frame 131...\n",
      "video 1/1 (frame 133/293) /data/yan/track/vedio/TS-20241123220321351.avi: 960x1280 6 Celeganss, 24.2ms\n",
      "Processing Frame 132...\n",
      "video 1/1 (frame 134/293) /data/yan/track/vedio/TS-20241123220321351.avi: 960x1280 6 Celeganss, 24.1ms\n",
      "Processing Frame 133...\n",
      "video 1/1 (frame 135/293) /data/yan/track/vedio/TS-20241123220321351.avi: 960x1280 6 Celeganss, 24.2ms\n",
      "Processing Frame 134...\n",
      "video 1/1 (frame 136/293) /data/yan/track/vedio/TS-20241123220321351.avi: 960x1280 6 Celeganss, 24.1ms\n",
      "Processing Frame 135...\n",
      "video 1/1 (frame 137/293) /data/yan/track/vedio/TS-20241123220321351.avi: 960x1280 6 Celeganss, 24.2ms\n",
      "Processing Frame 136...\n",
      "video 1/1 (frame 138/293) /data/yan/track/vedio/TS-20241123220321351.avi: 960x1280 6 Celeganss, 24.1ms\n",
      "Processing Frame 137...\n",
      "video 1/1 (frame 139/293) /data/yan/track/vedio/TS-20241123220321351.avi: 960x1280 6 Celeganss, 24.1ms\n",
      "Processing Frame 138...\n",
      "video 1/1 (frame 140/293) /data/yan/track/vedio/TS-20241123220321351.avi: 960x1280 6 Celeganss, 24.0ms\n",
      "Processing Frame 139...\n",
      "video 1/1 (frame 141/293) /data/yan/track/vedio/TS-20241123220321351.avi: 960x1280 6 Celeganss, 24.0ms\n",
      "Processing Frame 140...\n",
      "video 1/1 (frame 142/293) /data/yan/track/vedio/TS-20241123220321351.avi: 960x1280 6 Celeganss, 24.0ms\n",
      "Processing Frame 141...\n",
      "video 1/1 (frame 143/293) /data/yan/track/vedio/TS-20241123220321351.avi: 960x1280 6 Celeganss, 24.0ms\n",
      "Processing Frame 142...\n",
      "video 1/1 (frame 144/293) /data/yan/track/vedio/TS-20241123220321351.avi: 960x1280 6 Celeganss, 24.0ms\n",
      "Processing Frame 143...\n",
      "video 1/1 (frame 145/293) /data/yan/track/vedio/TS-20241123220321351.avi: 960x1280 6 Celeganss, 24.0ms\n",
      "Processing Frame 144...\n",
      "video 1/1 (frame 146/293) /data/yan/track/vedio/TS-20241123220321351.avi: 960x1280 6 Celeganss, 24.0ms\n",
      "Processing Frame 145...\n",
      "video 1/1 (frame 147/293) /data/yan/track/vedio/TS-20241123220321351.avi: 960x1280 6 Celeganss, 24.0ms\n",
      "Processing Frame 146...\n",
      "video 1/1 (frame 148/293) /data/yan/track/vedio/TS-20241123220321351.avi: 960x1280 6 Celeganss, 24.0ms\n",
      "Processing Frame 147...\n",
      "video 1/1 (frame 149/293) /data/yan/track/vedio/TS-20241123220321351.avi: 960x1280 6 Celeganss, 24.0ms\n",
      "Processing Frame 148...\n",
      "video 1/1 (frame 150/293) /data/yan/track/vedio/TS-20241123220321351.avi: 960x1280 6 Celeganss, 24.0ms\n",
      "Processing Frame 149...\n",
      "video 1/1 (frame 151/293) /data/yan/track/vedio/TS-20241123220321351.avi: 960x1280 6 Celeganss, 24.0ms\n",
      "Processing Frame 150...\n",
      "video 1/1 (frame 152/293) /data/yan/track/vedio/TS-20241123220321351.avi: 960x1280 6 Celeganss, 24.0ms\n",
      "Processing Frame 151...\n",
      "video 1/1 (frame 153/293) /data/yan/track/vedio/TS-20241123220321351.avi: 960x1280 6 Celeganss, 24.1ms\n",
      "Processing Frame 152...\n",
      "video 1/1 (frame 154/293) /data/yan/track/vedio/TS-20241123220321351.avi: 960x1280 6 Celeganss, 24.0ms\n",
      "Processing Frame 153...\n",
      "video 1/1 (frame 155/293) /data/yan/track/vedio/TS-20241123220321351.avi: 960x1280 6 Celeganss, 24.0ms\n",
      "Processing Frame 154...\n",
      "video 1/1 (frame 156/293) /data/yan/track/vedio/TS-20241123220321351.avi: 960x1280 6 Celeganss, 24.0ms\n",
      "Processing Frame 155...\n",
      "video 1/1 (frame 157/293) /data/yan/track/vedio/TS-20241123220321351.avi: 960x1280 6 Celeganss, 24.0ms\n",
      "Processing Frame 156...\n",
      "video 1/1 (frame 158/293) /data/yan/track/vedio/TS-20241123220321351.avi: 960x1280 6 Celeganss, 24.0ms\n",
      "Processing Frame 157...\n",
      "video 1/1 (frame 159/293) /data/yan/track/vedio/TS-20241123220321351.avi: 960x1280 6 Celeganss, 24.0ms\n",
      "Processing Frame 158...\n",
      "video 1/1 (frame 160/293) /data/yan/track/vedio/TS-20241123220321351.avi: 960x1280 6 Celeganss, 24.0ms\n",
      "Processing Frame 159...\n",
      "video 1/1 (frame 161/293) /data/yan/track/vedio/TS-20241123220321351.avi: 960x1280 6 Celeganss, 24.1ms\n",
      "Processing Frame 160...\n",
      "video 1/1 (frame 162/293) /data/yan/track/vedio/TS-20241123220321351.avi: 960x1280 6 Celeganss, 24.2ms\n",
      "Processing Frame 161...\n",
      "video 1/1 (frame 163/293) /data/yan/track/vedio/TS-20241123220321351.avi: 960x1280 6 Celeganss, 24.1ms\n",
      "Processing Frame 162...\n",
      "video 1/1 (frame 164/293) /data/yan/track/vedio/TS-20241123220321351.avi: 960x1280 6 Celeganss, 24.1ms\n",
      "Processing Frame 163...\n",
      "video 1/1 (frame 165/293) /data/yan/track/vedio/TS-20241123220321351.avi: 960x1280 6 Celeganss, 24.2ms\n",
      "Processing Frame 164...\n",
      "video 1/1 (frame 166/293) /data/yan/track/vedio/TS-20241123220321351.avi: 960x1280 6 Celeganss, 24.1ms\n",
      "Processing Frame 165...\n",
      "video 1/1 (frame 167/293) /data/yan/track/vedio/TS-20241123220321351.avi: 960x1280 6 Celeganss, 24.1ms\n",
      "Processing Frame 166...\n",
      "video 1/1 (frame 168/293) /data/yan/track/vedio/TS-20241123220321351.avi: 960x1280 6 Celeganss, 24.1ms\n",
      "Processing Frame 167...\n",
      "video 1/1 (frame 169/293) /data/yan/track/vedio/TS-20241123220321351.avi: 960x1280 6 Celeganss, 24.1ms\n",
      "Processing Frame 168...\n",
      "video 1/1 (frame 170/293) /data/yan/track/vedio/TS-20241123220321351.avi: 960x1280 6 Celeganss, 24.1ms\n",
      "Processing Frame 169...\n",
      "video 1/1 (frame 171/293) /data/yan/track/vedio/TS-20241123220321351.avi: 960x1280 6 Celeganss, 24.2ms\n",
      "Processing Frame 170...\n",
      "video 1/1 (frame 172/293) /data/yan/track/vedio/TS-20241123220321351.avi: 960x1280 6 Celeganss, 24.1ms\n",
      "Processing Frame 171...\n",
      "video 1/1 (frame 173/293) /data/yan/track/vedio/TS-20241123220321351.avi: 960x1280 6 Celeganss, 24.2ms\n",
      "Processing Frame 172...\n",
      "video 1/1 (frame 174/293) /data/yan/track/vedio/TS-20241123220321351.avi: 960x1280 6 Celeganss, 24.1ms\n",
      "Processing Frame 173...\n",
      "video 1/1 (frame 175/293) /data/yan/track/vedio/TS-20241123220321351.avi: 960x1280 6 Celeganss, 24.2ms\n",
      "Processing Frame 174...\n",
      "video 1/1 (frame 176/293) /data/yan/track/vedio/TS-20241123220321351.avi: 960x1280 6 Celeganss, 24.1ms\n",
      "Processing Frame 175...\n",
      "video 1/1 (frame 177/293) /data/yan/track/vedio/TS-20241123220321351.avi: 960x1280 6 Celeganss, 24.1ms\n",
      "Processing Frame 176...\n",
      "video 1/1 (frame 178/293) /data/yan/track/vedio/TS-20241123220321351.avi: 960x1280 6 Celeganss, 24.1ms\n",
      "Processing Frame 177...\n",
      "video 1/1 (frame 179/293) /data/yan/track/vedio/TS-20241123220321351.avi: 960x1280 6 Celeganss, 24.1ms\n",
      "Processing Frame 178...\n",
      "video 1/1 (frame 180/293) /data/yan/track/vedio/TS-20241123220321351.avi: 960x1280 6 Celeganss, 24.1ms\n",
      "Processing Frame 179...\n",
      "video 1/1 (frame 181/293) /data/yan/track/vedio/TS-20241123220321351.avi: 960x1280 6 Celeganss, 24.1ms\n",
      "Processing Frame 180...\n",
      "video 1/1 (frame 182/293) /data/yan/track/vedio/TS-20241123220321351.avi: 960x1280 6 Celeganss, 24.1ms\n",
      "Processing Frame 181...\n",
      "video 1/1 (frame 183/293) /data/yan/track/vedio/TS-20241123220321351.avi: 960x1280 6 Celeganss, 24.1ms\n",
      "Processing Frame 182...\n",
      "video 1/1 (frame 184/293) /data/yan/track/vedio/TS-20241123220321351.avi: 960x1280 6 Celeganss, 24.1ms\n",
      "Processing Frame 183...\n",
      "video 1/1 (frame 185/293) /data/yan/track/vedio/TS-20241123220321351.avi: 960x1280 6 Celeganss, 24.1ms\n",
      "Processing Frame 184...\n",
      "video 1/1 (frame 186/293) /data/yan/track/vedio/TS-20241123220321351.avi: 960x1280 6 Celeganss, 24.1ms\n",
      "Processing Frame 185...\n",
      "video 1/1 (frame 187/293) /data/yan/track/vedio/TS-20241123220321351.avi: 960x1280 6 Celeganss, 24.1ms\n",
      "Processing Frame 186...\n",
      "video 1/1 (frame 188/293) /data/yan/track/vedio/TS-20241123220321351.avi: 960x1280 6 Celeganss, 24.1ms\n",
      "Processing Frame 187...\n",
      "video 1/1 (frame 189/293) /data/yan/track/vedio/TS-20241123220321351.avi: 960x1280 6 Celeganss, 24.1ms\n",
      "Processing Frame 188...\n",
      "video 1/1 (frame 190/293) /data/yan/track/vedio/TS-20241123220321351.avi: 960x1280 6 Celeganss, 24.1ms\n",
      "Processing Frame 189...\n",
      "video 1/1 (frame 191/293) /data/yan/track/vedio/TS-20241123220321351.avi: 960x1280 6 Celeganss, 24.1ms\n",
      "Processing Frame 190...\n",
      "video 1/1 (frame 192/293) /data/yan/track/vedio/TS-20241123220321351.avi: 960x1280 6 Celeganss, 24.1ms\n",
      "Processing Frame 191...\n",
      "video 1/1 (frame 193/293) /data/yan/track/vedio/TS-20241123220321351.avi: 960x1280 6 Celeganss, 24.1ms\n",
      "Processing Frame 192...\n",
      "video 1/1 (frame 194/293) /data/yan/track/vedio/TS-20241123220321351.avi: 960x1280 6 Celeganss, 24.1ms\n",
      "Processing Frame 193...\n",
      "video 1/1 (frame 195/293) /data/yan/track/vedio/TS-20241123220321351.avi: 960x1280 6 Celeganss, 24.2ms\n",
      "Processing Frame 194...\n",
      "video 1/1 (frame 196/293) /data/yan/track/vedio/TS-20241123220321351.avi: 960x1280 6 Celeganss, 24.1ms\n",
      "Processing Frame 195...\n",
      "video 1/1 (frame 197/293) /data/yan/track/vedio/TS-20241123220321351.avi: 960x1280 6 Celeganss, 24.1ms\n",
      "Processing Frame 196...\n",
      "video 1/1 (frame 198/293) /data/yan/track/vedio/TS-20241123220321351.avi: 960x1280 6 Celeganss, 24.1ms\n",
      "Processing Frame 197...\n",
      "video 1/1 (frame 199/293) /data/yan/track/vedio/TS-20241123220321351.avi: 960x1280 6 Celeganss, 24.2ms\n",
      "Processing Frame 198...\n",
      "video 1/1 (frame 200/293) /data/yan/track/vedio/TS-20241123220321351.avi: 960x1280 6 Celeganss, 24.1ms\n",
      "Processing Frame 199...\n",
      "video 1/1 (frame 201/293) /data/yan/track/vedio/TS-20241123220321351.avi: 960x1280 6 Celeganss, 24.2ms\n",
      "Processing Frame 200...\n",
      "video 1/1 (frame 202/293) /data/yan/track/vedio/TS-20241123220321351.avi: 960x1280 6 Celeganss, 24.1ms\n",
      "Processing Frame 201...\n",
      "video 1/1 (frame 203/293) /data/yan/track/vedio/TS-20241123220321351.avi: 960x1280 6 Celeganss, 24.1ms\n",
      "Processing Frame 202...\n",
      "video 1/1 (frame 204/293) /data/yan/track/vedio/TS-20241123220321351.avi: 960x1280 6 Celeganss, 24.2ms\n",
      "Processing Frame 203...\n",
      "video 1/1 (frame 205/293) /data/yan/track/vedio/TS-20241123220321351.avi: 960x1280 6 Celeganss, 24.1ms\n",
      "Processing Frame 204...\n",
      "video 1/1 (frame 206/293) /data/yan/track/vedio/TS-20241123220321351.avi: 960x1280 6 Celeganss, 24.1ms\n",
      "Processing Frame 205...\n",
      "video 1/1 (frame 207/293) /data/yan/track/vedio/TS-20241123220321351.avi: 960x1280 6 Celeganss, 24.1ms\n",
      "Processing Frame 206...\n",
      "video 1/1 (frame 208/293) /data/yan/track/vedio/TS-20241123220321351.avi: 960x1280 6 Celeganss, 24.1ms\n",
      "Processing Frame 207...\n",
      "video 1/1 (frame 209/293) /data/yan/track/vedio/TS-20241123220321351.avi: 960x1280 6 Celeganss, 24.1ms\n",
      "Processing Frame 208...\n",
      "video 1/1 (frame 210/293) /data/yan/track/vedio/TS-20241123220321351.avi: 960x1280 6 Celeganss, 24.1ms\n",
      "Processing Frame 209...\n",
      "video 1/1 (frame 211/293) /data/yan/track/vedio/TS-20241123220321351.avi: 960x1280 6 Celeganss, 24.1ms\n",
      "Processing Frame 210...\n",
      "video 1/1 (frame 212/293) /data/yan/track/vedio/TS-20241123220321351.avi: 960x1280 6 Celeganss, 24.2ms\n",
      "Processing Frame 211...\n",
      "video 1/1 (frame 213/293) /data/yan/track/vedio/TS-20241123220321351.avi: 960x1280 6 Celeganss, 24.1ms\n",
      "Processing Frame 212...\n",
      "video 1/1 (frame 214/293) /data/yan/track/vedio/TS-20241123220321351.avi: 960x1280 6 Celeganss, 24.1ms\n",
      "Processing Frame 213...\n",
      "video 1/1 (frame 215/293) /data/yan/track/vedio/TS-20241123220321351.avi: 960x1280 6 Celeganss, 24.2ms\n",
      "Processing Frame 214...\n",
      "video 1/1 (frame 216/293) /data/yan/track/vedio/TS-20241123220321351.avi: 960x1280 6 Celeganss, 24.1ms\n",
      "Processing Frame 215...\n",
      "video 1/1 (frame 217/293) /data/yan/track/vedio/TS-20241123220321351.avi: 960x1280 6 Celeganss, 24.1ms\n",
      "Processing Frame 216...\n",
      "video 1/1 (frame 218/293) /data/yan/track/vedio/TS-20241123220321351.avi: 960x1280 6 Celeganss, 24.1ms\n",
      "Processing Frame 217...\n",
      "video 1/1 (frame 219/293) /data/yan/track/vedio/TS-20241123220321351.avi: 960x1280 6 Celeganss, 24.1ms\n",
      "Processing Frame 218...\n",
      "video 1/1 (frame 220/293) /data/yan/track/vedio/TS-20241123220321351.avi: 960x1280 6 Celeganss, 24.1ms\n",
      "Processing Frame 219...\n",
      "video 1/1 (frame 221/293) /data/yan/track/vedio/TS-20241123220321351.avi: 960x1280 6 Celeganss, 24.1ms\n",
      "Processing Frame 220...\n",
      "video 1/1 (frame 222/293) /data/yan/track/vedio/TS-20241123220321351.avi: 960x1280 6 Celeganss, 24.1ms\n",
      "Processing Frame 221...\n",
      "video 1/1 (frame 223/293) /data/yan/track/vedio/TS-20241123220321351.avi: 960x1280 6 Celeganss, 24.1ms\n",
      "Processing Frame 222...\n",
      "video 1/1 (frame 224/293) /data/yan/track/vedio/TS-20241123220321351.avi: 960x1280 6 Celeganss, 24.1ms\n",
      "Processing Frame 223...\n",
      "video 1/1 (frame 225/293) /data/yan/track/vedio/TS-20241123220321351.avi: 960x1280 6 Celeganss, 24.1ms\n",
      "Processing Frame 224...\n",
      "video 1/1 (frame 226/293) /data/yan/track/vedio/TS-20241123220321351.avi: 960x1280 6 Celeganss, 24.1ms\n",
      "Processing Frame 225...\n",
      "video 1/1 (frame 227/293) /data/yan/track/vedio/TS-20241123220321351.avi: 960x1280 6 Celeganss, 24.1ms\n",
      "Processing Frame 226...\n",
      "video 1/1 (frame 228/293) /data/yan/track/vedio/TS-20241123220321351.avi: 960x1280 6 Celeganss, 24.1ms\n",
      "Processing Frame 227...\n",
      "video 1/1 (frame 229/293) /data/yan/track/vedio/TS-20241123220321351.avi: 960x1280 6 Celeganss, 24.1ms\n",
      "Processing Frame 228...\n",
      "video 1/1 (frame 230/293) /data/yan/track/vedio/TS-20241123220321351.avi: 960x1280 6 Celeganss, 24.1ms\n",
      "Processing Frame 229...\n",
      "video 1/1 (frame 231/293) /data/yan/track/vedio/TS-20241123220321351.avi: 960x1280 6 Celeganss, 24.1ms\n",
      "Processing Frame 230...\n",
      "video 1/1 (frame 232/293) /data/yan/track/vedio/TS-20241123220321351.avi: 960x1280 6 Celeganss, 24.1ms\n",
      "Processing Frame 231...\n",
      "video 1/1 (frame 233/293) /data/yan/track/vedio/TS-20241123220321351.avi: 960x1280 6 Celeganss, 24.1ms\n",
      "Processing Frame 232...\n",
      "video 1/1 (frame 234/293) /data/yan/track/vedio/TS-20241123220321351.avi: 960x1280 6 Celeganss, 24.0ms\n",
      "Processing Frame 233...\n",
      "video 1/1 (frame 235/293) /data/yan/track/vedio/TS-20241123220321351.avi: 960x1280 6 Celeganss, 24.0ms\n",
      "Processing Frame 234...\n",
      "video 1/1 (frame 236/293) /data/yan/track/vedio/TS-20241123220321351.avi: 960x1280 6 Celeganss, 24.0ms\n",
      "Processing Frame 235...\n",
      "video 1/1 (frame 237/293) /data/yan/track/vedio/TS-20241123220321351.avi: 960x1280 6 Celeganss, 24.1ms\n",
      "Processing Frame 236...\n",
      "video 1/1 (frame 238/293) /data/yan/track/vedio/TS-20241123220321351.avi: 960x1280 6 Celeganss, 24.0ms\n",
      "Processing Frame 237...\n",
      "video 1/1 (frame 239/293) /data/yan/track/vedio/TS-20241123220321351.avi: 960x1280 6 Celeganss, 24.0ms\n",
      "Processing Frame 238...\n",
      "video 1/1 (frame 240/293) /data/yan/track/vedio/TS-20241123220321351.avi: 960x1280 6 Celeganss, 24.0ms\n",
      "Processing Frame 239...\n",
      "video 1/1 (frame 241/293) /data/yan/track/vedio/TS-20241123220321351.avi: 960x1280 6 Celeganss, 24.0ms\n",
      "Processing Frame 240...\n",
      "video 1/1 (frame 242/293) /data/yan/track/vedio/TS-20241123220321351.avi: 960x1280 6 Celeganss, 24.0ms\n",
      "Processing Frame 241...\n",
      "video 1/1 (frame 243/293) /data/yan/track/vedio/TS-20241123220321351.avi: 960x1280 6 Celeganss, 24.0ms\n",
      "Processing Frame 242...\n",
      "video 1/1 (frame 244/293) /data/yan/track/vedio/TS-20241123220321351.avi: 960x1280 6 Celeganss, 24.0ms\n",
      "Processing Frame 243...\n",
      "video 1/1 (frame 245/293) /data/yan/track/vedio/TS-20241123220321351.avi: 960x1280 6 Celeganss, 24.0ms\n",
      "Processing Frame 244...\n",
      "video 1/1 (frame 246/293) /data/yan/track/vedio/TS-20241123220321351.avi: 960x1280 6 Celeganss, 24.0ms\n",
      "Processing Frame 245...\n",
      "Speed: 4.8ms preprocess, 24.1ms inference, 1.3ms postprocess per image at shape (1, 3, 960, 1280)\n",
      "Results saved to \u001b[1mruns/segment/predict4\u001b[0m\n",
      "865 labels saved to runs/segment/predict4/labels\n",
      "Trajectories saved to 'worm_trajectories.csv'.\n"
     ]
    },
    {
     "ename": "AssertionError",
     "evalue": "Mask dimensions mismatch with video frame!",
     "output_type": "error",
     "traceback": [
      "\u001b[0;31m---------------------------------------------------------------------------\u001b[0m",
      "\u001b[0;31mAssertionError\u001b[0m                            Traceback (most recent call last)",
      "Cell \u001b[0;32mIn[42], line 149\u001b[0m\n\u001b[1;32m    144\u001b[0m             writer\u001b[38;5;241m.\u001b[39mwriterow([worm_id, frame_idx, x, y])\n\u001b[1;32m    147\u001b[0m \u001b[38;5;28mprint\u001b[39m(\u001b[38;5;124m\"\u001b[39m\u001b[38;5;124mTrajectories saved to \u001b[39m\u001b[38;5;124m'\u001b[39m\u001b[38;5;124mworm_trajectories.csv\u001b[39m\u001b[38;5;124m'\u001b[39m\u001b[38;5;124m.\u001b[39m\u001b[38;5;124m\"\u001b[39m)\n\u001b[0;32m--> 149\u001b[0m \u001b[38;5;28;01massert\u001b[39;00m mask_numpy\u001b[38;5;241m.\u001b[39mshape \u001b[38;5;241m==\u001b[39m (frame_height, frame_width), \u001b[38;5;124m\"\u001b[39m\u001b[38;5;124mMask dimensions mismatch with video frame!\u001b[39m\u001b[38;5;124m\"\u001b[39m\n",
      "\u001b[0;31mAssertionError\u001b[0m: Mask dimensions mismatch with video frame!"
     ]
    }
   ],
   "source": [
    "from ultralytics import YOLO\n",
    "import cv2\n",
    "import numpy as np\n",
    "from scipy.spatial.distance import cdist\n",
    "from scipy.optimize import linear_sum_assignment\n",
    "from collections import defaultdict\n",
    "import csv\n",
    "video_path = \"/data/yan/track/vedio/TS-20241123220321351.avi\"\n",
    "cap = cv2.VideoCapture(video_path)\n",
    "\n",
    "if cap.isOpened():\n",
    "    frame_width = int(cap.get(cv2.CAP_PROP_FRAME_WIDTH))\n",
    "    frame_height = int(cap.get(cv2.CAP_PROP_FRAME_HEIGHT))\n",
    "    print(f\"Video Resolution: Width={frame_width}, Height={frame_height}\")\n",
    "else:\n",
    "    print(\"Error: Cannot open video.\")\n",
    "\n",
    "# assert mask_numpy.shape == (frame_height, frame_width), \"Mask dimensions mismatch with video frame!\"\n",
    "# 获取分割结果的尺寸\n",
    "mask_height, mask_width = mask_numpy.shape\n",
    "\n",
    "# 计算分辨率缩放比例\n",
    "scale_x = frame_width / mask_width\n",
    "scale_y = frame_height / mask_height\n",
    "\n",
    "# 矫正质心坐标\n",
    "cx = int((moments[\"m10\"] / moments[\"m00\"]) * scale_x)\n",
    "cy = int((moments[\"m01\"] / moments[\"m00\"]) * scale_y)\n",
    "\n",
    "# 初始化轨迹存储\n",
    "# Initialize variables\n",
    "trajectories = defaultdict(list)  # {worm_id: [(frame, x, y), ...]}\n",
    "next_worm_id = 0\n",
    "worm_positions = {}  # {worm_id: (x, y)}\n",
    "\n",
    "# Distance threshold (pixels)\n",
    "base_distance_threshold = 50\n",
    "\n",
    "# Exponential smoothing parameter\n",
    "alpha = 0.1  # Smoothing factor between 0.0 and 1.0\n",
    "\n",
    "def smooth_coordinates(worm_id, new_x, new_y):\n",
    "    \"\"\"Smooth coordinates to reduce jitter.\"\"\"\n",
    "    if worm_id in worm_positions:\n",
    "        prev_x, prev_y = worm_positions[worm_id]\n",
    "        smoothed_x = alpha * prev_x + (1 - alpha) * new_x\n",
    "        smoothed_y = alpha * prev_y + (1 - alpha) * new_y\n",
    "        return int(smoothed_x), int(smoothed_y)\n",
    "    else:\n",
    "        return new_x, new_y\n",
    "\n",
    "# Process video frames\n",
    "results = model.predict(\n",
    "    video_path,\n",
    "    line_width=4,\n",
    "    save=True,\n",
    "    imgsz=1280,\n",
    "    conf=0.5,\n",
    "    save_frames=True,\n",
    "    save_txt=True,\n",
    "    stream=True,\n",
    ")\n",
    "\n",
    "for frame_idx, result in enumerate(results):\n",
    "    print(f\"Processing Frame {frame_idx}...\")\n",
    "    current_centroids = []\n",
    "\n",
    "    # Check if there are segmentation results\n",
    "    if result.masks is None or len(result.masks.data) == 0:\n",
    "        print(f\"No masks detected in Frame {frame_idx}.\")\n",
    "        worm_positions.clear()  # Clear positions if no worms are detected\n",
    "        continue\n",
    "\n",
    "    # Get centroids of each segmentation mask\n",
    "    # Get centroids of each segmentation mask\n",
    "    masks = result.masks.data\n",
    "    for mask in masks:\n",
    "        mask_numpy = mask.cpu().numpy().astype('uint8')  # 转换为 numpy 格式\n",
    "        moments = cv2.moments(mask_numpy)  # 计算图像的矩\n",
    "        if moments[\"m00\"] != 0:  # 确保区域有非零面积\n",
    "            cx = int(moments[\"m10\"] / moments[\"m00\"])  # 计算质心 x 坐标\n",
    "            cy = int(moments[\"m01\"] / moments[\"m00\"])  # 计算质心 y 坐标\n",
    "            current_centroids.append((cx, cy))\n",
    "\n",
    "\n",
    "    if frame_idx == 0:\n",
    "        # Initialize worm positions and trajectories\n",
    "        for centroid in current_centroids:\n",
    "            worm_positions[next_worm_id] = centroid\n",
    "            trajectories[next_worm_id].append((frame_idx, *centroid))\n",
    "            next_worm_id += 1\n",
    "    else:\n",
    "        # Previous worm IDs and positions\n",
    "        prev_worm_ids = list(worm_positions.keys())\n",
    "        prev_positions = [worm_positions[wid] for wid in prev_worm_ids]\n",
    "\n",
    "        # Compute distance matrix\n",
    "        distances = cdist(prev_positions, current_centroids)\n",
    "\n",
    "        # Use Hungarian algorithm for optimal assignment\n",
    "        row_indices, col_indices = linear_sum_assignment(distances)\n",
    "\n",
    "        matched_worm_ids = set()\n",
    "        matched_cols = set()\n",
    "\n",
    "        for row, col in zip(row_indices, col_indices):\n",
    "            distance = distances[row, col]\n",
    "            if distance < base_distance_threshold:\n",
    "                worm_id = prev_worm_ids[row]\n",
    "                centroid = current_centroids[col]\n",
    "                # smoothed_x, smoothed_y = smooth_coordinates(worm_id, *centroid)\n",
    "                worm_positions[worm_id] = (smoothed_x, smoothed_y)\n",
    "                trajectories[worm_id].append((frame_idx, smoothed_x, smoothed_y))\n",
    "                matched_worm_ids.add(worm_id)\n",
    "                matched_cols.add(col)\n",
    "            else:\n",
    "                # Distance too large, do not match\n",
    "                pass\n",
    "\n",
    "        # Remove unmatched previous worm IDs (optional: keep for a few frames)\n",
    "        unmatched_worm_ids = set(prev_worm_ids) - matched_worm_ids\n",
    "        for worm_id in unmatched_worm_ids:\n",
    "            del worm_positions[worm_id]\n",
    "\n",
    "        # Assign new IDs to unmatched current centroids\n",
    "        for idx, centroid in enumerate(current_centroids):\n",
    "            if idx not in matched_cols:\n",
    "                worm_id = next_worm_id\n",
    "                smoothed_x, smoothed_y = smooth_coordinates(worm_id, *centroid)\n",
    "                worm_positions[worm_id] = (smoothed_x, smoothed_y)\n",
    "                trajectories[worm_id].append((frame_idx, smoothed_x, smoothed_y))\n",
    "                next_worm_id += 1\n",
    "\n",
    "\n",
    "\n",
    "# 保存轨迹数据\n",
    "import csv\n",
    "\n",
    "with open(\"worm_trajectories.csv\", \"w\", newline=\"\") as csvfile:\n",
    "    writer = csv.writer(csvfile)\n",
    "    writer.writerow([\"WormID\", \"Frame\", \"X\", \"Y\"])\n",
    "    for worm_id, trajectory in trajectories.items():\n",
    "        for frame_idx, x, y in trajectory:\n",
    "            writer.writerow([worm_id, frame_idx, x, y])\n",
    "\n",
    "\n",
    "print(\"Trajectories saved to 'worm_trajectories.csv'.\")\n",
    "\n",
    "\n"
   ]
  },
  {
   "cell_type": "code",
   "execution_count": 34,
   "metadata": {},
   "outputs": [
    {
     "name": "stdout",
     "output_type": "stream",
     "text": [
      "Original Video Resolution: Width=1600, Height=1200\n",
      "GIF saved as 'worm_trajectories.gif'.\n",
      "Optimized GIF saved as 'worm_trajectories_optimized.gif'.\n"
     ]
    }
   ],
   "source": [
    "import pandas as pd\n",
    "import cv2\n",
    "import imageio\n",
    "import numpy as np\n",
    "from PIL import Image\n",
    "\n",
    "# 参数设置\n",
    "video_path = \"/data/yan/track/vedio/TS-20241123220321351.avi\"  # 视频文件路径\n",
    "csv_file = \"worm_trajectories.csv\"  # 轨迹数据文件\n",
    "output_gif = \"worm_trajectories.gif\"  # 输出 GIF 文件名\n",
    "optimized_gif = \"worm_trajectories_optimized.gif\"  # 优化后的 GIF 文件名\n",
    "\n",
    "# 定义目标分辨率\n",
    "target_width, target_height = 1600, 1200  # 将分辨率减半\n",
    "\n",
    "# 定义采样率\n",
    "sampling_rate = 2  # 每隔一帧处理一次\n",
    "\n",
    "# 读取轨迹数据\n",
    "data = pd.read_csv(csv_file)\n",
    "\n",
    "# 提取帧数范围\n",
    "max_frame = data[\"Frame\"].max()\n",
    "\n",
    "# 打开视频以提取背景帧\n",
    "cap = cv2.VideoCapture(video_path)\n",
    "if not cap.isOpened():\n",
    "    print(\"Error: Cannot open video.\")\n",
    "    exit()\n",
    "\n",
    "# 获取原始视频帧大小\n",
    "original_width = int(cap.get(cv2.CAP_PROP_FRAME_WIDTH))\n",
    "original_height = int(cap.get(cv2.CAP_PROP_FRAME_HEIGHT))\n",
    "print(f\"Original Video Resolution: Width={original_width}, Height={original_height}\")\n",
    "\n",
    "# 初始化 GIF 帧列表\n",
    "frames_for_gif = []\n",
    "\n",
    "# 处理每一帧\n",
    "for frame_idx in range(max_frame + 1):\n",
    "    if frame_idx % sampling_rate != 0:\n",
    "        # 跳过当前帧\n",
    "        ret = cap.grab()\n",
    "        if not ret:\n",
    "            print(f\"End of video reached at frame {frame_idx}.\")\n",
    "            break\n",
    "        continue\n",
    "\n",
    "    # 读取视频帧\n",
    "    ret, frame = cap.read()\n",
    "    if not ret:\n",
    "        print(f\"End of video reached at frame {frame_idx}.\")\n",
    "        break\n",
    "\n",
    "    # 调整帧大小到目标分辨率\n",
    "    frame = cv2.resize(frame, (target_width, target_height))\n",
    "\n",
    "    # 提取当前帧的轨迹点\n",
    "    current_data = data[data[\"Frame\"] == frame_idx]\n",
    "\n",
    "    # 在帧上绘制轨迹\n",
    "    for _, row in current_data.iterrows():\n",
    "        worm_id = int(row[\"WormID\"])\n",
    "        x, y = int(row[\"X\"]), int(row[\"Y\"])\n",
    "        # 根据新的分辨率调整坐标\n",
    "        x_resized = int(x * target_width / original_width)\n",
    "        y_resized = int(y * target_height / original_height)\n",
    "        # 根据 WormID 生成颜色\n",
    "        color = (worm_id * 50 % 256, worm_id * 80 % 256, worm_id * 100 % 256)\n",
    "        # 绘制小圆点表示质心\n",
    "        cv2.circle(frame, (x_resized, y_resized), 3, color, -1)\n",
    "\n",
    "    # 在帧上添加帧号\n",
    "    cv2.putText(frame, f\"Frame: {frame_idx}\", (10, 30), cv2.FONT_HERSHEY_SIMPLEX, 0.8, (255, 255, 255), 2)\n",
    "\n",
    "    # 转为 RGB 格式（OpenCV 默认是 BGR）\n",
    "    frame_rgb = cv2.cvtColor(frame, cv2.COLOR_BGR2RGB)\n",
    "\n",
    "    # 添加到 GIF 帧列表\n",
    "    frames_for_gif.append(frame_rgb)\n",
    "\n",
    "# 释放视频捕捉对象\n",
    "cap.release()\n",
    "\n",
    "# 生成 GIF，调整帧率\n",
    "imageio.mimsave(output_gif, frames_for_gif, fps=5)  # 将 fps 从 10 降低到 5\n",
    "print(f\"GIF saved as '{output_gif}'.\")\n",
    "\n",
    "# 使用 Pillow 进行颜色优化\n",
    "image = Image.open(output_gif)\n",
    "image = image.convert('P', palette=Image.ADAPTIVE, colors=128)  # 将颜色数量减少到 128\n",
    "image.save(optimized_gif, optimize=True)\n",
    "print(f\"Optimized GIF saved as '{optimized_gif}'.\")\n"
   ]
  },
  {
   "cell_type": "code",
   "execution_count": 16,
   "metadata": {},
   "outputs": [
    {
     "data": {
      "text/plain": [
       "defaultdict(list, {})"
      ]
     },
     "execution_count": 16,
     "metadata": {},
     "output_type": "execute_result"
    }
   ],
   "source": [
    "trajectories"
   ]
  },
  {
   "cell_type": "code",
   "execution_count": 5,
   "metadata": {},
   "outputs": [
    {
     "name": "stdout",
     "output_type": "stream",
     "text": [
      "视频已创建并保存到: output_video.mp4\n"
     ]
    }
   ],
   "source": [
    "import cv2\n",
    "import os\n",
    "import glob\n",
    "\n",
    "def create_video_from_images(image_dir, output_video_path, fps=30):\n",
    "    # 获取目录中所有的 .jpg 文件，并按文件名中的数字排序\n",
    "    image_files = sorted(glob.glob(os.path.join(image_dir, \"*.jpg\")), key=lambda x: int(os.path.splitext(os.path.basename(x))[0]))\n",
    "\n",
    "    if not image_files:\n",
    "        raise FileNotFoundError(f\"没有找到任何 .jpg 文件: {image_dir}\")\n",
    "\n",
    "    # 读取第一张图片以获取图像尺寸\n",
    "    first_image = cv2.imread(image_files[0])\n",
    "    height, width, layers = first_image.shape\n",
    "\n",
    "    # 定义视频编码器和输出文件\n",
    "    fourcc = cv2.VideoWriter_fourcc(*'mp4v')  # 使用 MP4 编码\n",
    "    video = cv2.VideoWriter(output_video_path, fourcc, fps, (width, height))\n",
    "\n",
    "    # 将所有图片写入视频\n",
    "    for image_file in image_files:\n",
    "        img = cv2.imread(image_file)\n",
    "        if img is None:\n",
    "            print(f\"无法读取图像文件: {image_file}\")\n",
    "            continue\n",
    "        video.write(img)\n",
    "\n",
    "    # 释放资源\n",
    "    video.release()\n",
    "    print(f\"视频已创建并保存到: {output_video_path}\")\n",
    "\n",
    "if __name__ == \"__main__\":\n",
    "    # 指定包含 .jpg 文件的目录\n",
    "    image_directory = '/data/yan/track/runs/segment/predict4/TS-20241123220321351_frames'  # 替换为你的图像目录路径\n",
    "    # 指定输出视频文件路径\n",
    "    output_video_path = 'output_video.mp4'  # 替换为你希望保存视频的路径\n",
    "    # 创建视频\n",
    "    create_video_from_images(image_directory, output_video_path, fps=30)\n"
   ]
  },
  {
   "cell_type": "code",
   "execution_count": 7,
   "metadata": {},
   "outputs": [
    {
     "name": "stdout",
     "output_type": "stream",
     "text": [
      "Video FPS: 29.3, Resolution: 1600x1200, Total frames: 293\n",
      "Frame shape: (640, 640, 3), dtype: uint8\n",
      "\n",
      "Error processing frame 1: too many values to unpack (expected 3)\n",
      "Frame shape: (640, 640, 3), dtype: uint8\n",
      "\n",
      "Error processing frame 2: too many values to unpack (expected 3)\n",
      "Frame shape: (640, 640, 3), dtype: uint8\n",
      "\n",
      "Error processing frame 3: too many values to unpack (expected 3)\n",
      "Frame shape: (640, 640, 3), dtype: uint8\n",
      "\n",
      "Error processing frame 4: too many values to unpack (expected 3)\n",
      "Frame shape: (640, 640, 3), dtype: uint8\n",
      "\n",
      "Error processing frame 5: too many values to unpack (expected 3)\n",
      "Frame shape: (640, 640, 3), dtype: uint8\n",
      "\n",
      "Error processing frame 6: too many values to unpack (expected 3)\n",
      "Frame shape: (640, 640, 3), dtype: uint8\n",
      "\n",
      "Error processing frame 7: too many values to unpack (expected 3)\n",
      "Frame shape: (640, 640, 3), dtype: uint8\n",
      "\n",
      "Error processing frame 8: too many values to unpack (expected 3)\n",
      "Frame shape: (640, 640, 3), dtype: uint8\n",
      "\n",
      "Error processing frame 9: too many values to unpack (expected 3)\n",
      "Frame shape: (640, 640, 3), dtype: uint8\n",
      "\n",
      "Error processing frame 10: too many values to unpack (expected 3)\n",
      "Frame shape: (640, 640, 3), dtype: uint8\n",
      "\n",
      "Error processing frame 11: too many values to unpack (expected 3)\n",
      "Frame shape: (640, 640, 3), dtype: uint8\n",
      "\n",
      "Error processing frame 12: too many values to unpack (expected 3)\n",
      "Frame shape: (640, 640, 3), dtype: uint8\n",
      "\n"
     ]
    },
    {
     "name": "stderr",
     "output_type": "stream",
     "text": [
      "Traceback (most recent call last):\n",
      "  File \"/tmp/ipykernel_2239786/1301476628.py\", line 65, in main\n",
      "    for result in results_generator:\n",
      "  File \"/home/spuser/.conda/envs/yanpan/lib/python3.11/site-packages/torch/utils/_contextlib.py\", line 36, in generator_context\n",
      "    response = gen.send(None)\n",
      "               ^^^^^^^^^^^^^^\n",
      "  File \"/home/spuser/.conda/envs/yanpan/lib/python3.11/site-packages/ultralytics/engine/predictor.py\", line 266, in stream_inference\n",
      "    self.results = self.postprocess(preds, im, im0s)\n",
      "                   ^^^^^^^^^^^^^^^^^^^^^^^^^^^^^^^^^\n",
      "  File \"/home/spuser/.conda/envs/yanpan/lib/python3.11/site-packages/ultralytics/models/yolo/segment/predict.py\", line 52, in postprocess\n",
      "    masks = ops.process_mask(proto[i], pred[:, 6:], pred[:, :4], img.shape[2:], upsample=True)  # HWC\n",
      "            ^^^^^^^^^^^^^^^^^^^^^^^^^^^^^^^^^^^^^^^^^^^^^^^^^^^^^^^^^^^^^^^^^^^^^^^^^^^^^^^^^^\n",
      "  File \"/home/spuser/.conda/envs/yanpan/lib/python3.11/site-packages/ultralytics/utils/ops.py\", line 671, in process_mask\n",
      "    c, mh, mw = protos.shape  # CHW\n",
      "    ^^^^^^^^^\n",
      "ValueError: too many values to unpack (expected 3)\n",
      "Traceback (most recent call last):\n",
      "  File \"/tmp/ipykernel_2239786/1301476628.py\", line 65, in main\n",
      "    for result in results_generator:\n",
      "  File \"/home/spuser/.conda/envs/yanpan/lib/python3.11/site-packages/torch/utils/_contextlib.py\", line 36, in generator_context\n",
      "    response = gen.send(None)\n",
      "               ^^^^^^^^^^^^^^\n",
      "  File \"/home/spuser/.conda/envs/yanpan/lib/python3.11/site-packages/ultralytics/engine/predictor.py\", line 266, in stream_inference\n",
      "    self.results = self.postprocess(preds, im, im0s)\n",
      "                   ^^^^^^^^^^^^^^^^^^^^^^^^^^^^^^^^^\n",
      "  File \"/home/spuser/.conda/envs/yanpan/lib/python3.11/site-packages/ultralytics/models/yolo/segment/predict.py\", line 52, in postprocess\n",
      "    masks = ops.process_mask(proto[i], pred[:, 6:], pred[:, :4], img.shape[2:], upsample=True)  # HWC\n",
      "            ^^^^^^^^^^^^^^^^^^^^^^^^^^^^^^^^^^^^^^^^^^^^^^^^^^^^^^^^^^^^^^^^^^^^^^^^^^^^^^^^^^\n",
      "  File \"/home/spuser/.conda/envs/yanpan/lib/python3.11/site-packages/ultralytics/utils/ops.py\", line 671, in process_mask\n",
      "    c, mh, mw = protos.shape  # CHW\n",
      "    ^^^^^^^^^\n",
      "ValueError: too many values to unpack (expected 3)\n",
      "Traceback (most recent call last):\n",
      "  File \"/tmp/ipykernel_2239786/1301476628.py\", line 65, in main\n",
      "    for result in results_generator:\n",
      "  File \"/home/spuser/.conda/envs/yanpan/lib/python3.11/site-packages/torch/utils/_contextlib.py\", line 36, in generator_context\n",
      "    response = gen.send(None)\n",
      "               ^^^^^^^^^^^^^^\n",
      "  File \"/home/spuser/.conda/envs/yanpan/lib/python3.11/site-packages/ultralytics/engine/predictor.py\", line 266, in stream_inference\n",
      "    self.results = self.postprocess(preds, im, im0s)\n",
      "                   ^^^^^^^^^^^^^^^^^^^^^^^^^^^^^^^^^\n",
      "  File \"/home/spuser/.conda/envs/yanpan/lib/python3.11/site-packages/ultralytics/models/yolo/segment/predict.py\", line 52, in postprocess\n",
      "    masks = ops.process_mask(proto[i], pred[:, 6:], pred[:, :4], img.shape[2:], upsample=True)  # HWC\n",
      "            ^^^^^^^^^^^^^^^^^^^^^^^^^^^^^^^^^^^^^^^^^^^^^^^^^^^^^^^^^^^^^^^^^^^^^^^^^^^^^^^^^^\n",
      "  File \"/home/spuser/.conda/envs/yanpan/lib/python3.11/site-packages/ultralytics/utils/ops.py\", line 671, in process_mask\n",
      "    c, mh, mw = protos.shape  # CHW\n",
      "    ^^^^^^^^^\n",
      "ValueError: too many values to unpack (expected 3)\n",
      "Traceback (most recent call last):\n",
      "  File \"/tmp/ipykernel_2239786/1301476628.py\", line 65, in main\n",
      "    for result in results_generator:\n",
      "  File \"/home/spuser/.conda/envs/yanpan/lib/python3.11/site-packages/torch/utils/_contextlib.py\", line 36, in generator_context\n",
      "    response = gen.send(None)\n",
      "               ^^^^^^^^^^^^^^\n",
      "  File \"/home/spuser/.conda/envs/yanpan/lib/python3.11/site-packages/ultralytics/engine/predictor.py\", line 266, in stream_inference\n",
      "    self.results = self.postprocess(preds, im, im0s)\n",
      "                   ^^^^^^^^^^^^^^^^^^^^^^^^^^^^^^^^^\n",
      "  File \"/home/spuser/.conda/envs/yanpan/lib/python3.11/site-packages/ultralytics/models/yolo/segment/predict.py\", line 52, in postprocess\n",
      "    masks = ops.process_mask(proto[i], pred[:, 6:], pred[:, :4], img.shape[2:], upsample=True)  # HWC\n",
      "            ^^^^^^^^^^^^^^^^^^^^^^^^^^^^^^^^^^^^^^^^^^^^^^^^^^^^^^^^^^^^^^^^^^^^^^^^^^^^^^^^^^\n",
      "  File \"/home/spuser/.conda/envs/yanpan/lib/python3.11/site-packages/ultralytics/utils/ops.py\", line 671, in process_mask\n",
      "    c, mh, mw = protos.shape  # CHW\n",
      "    ^^^^^^^^^\n",
      "ValueError: too many values to unpack (expected 3)\n",
      "Traceback (most recent call last):\n",
      "  File \"/tmp/ipykernel_2239786/1301476628.py\", line 65, in main\n",
      "    for result in results_generator:\n",
      "  File \"/home/spuser/.conda/envs/yanpan/lib/python3.11/site-packages/torch/utils/_contextlib.py\", line 36, in generator_context\n",
      "    response = gen.send(None)\n",
      "               ^^^^^^^^^^^^^^\n",
      "  File \"/home/spuser/.conda/envs/yanpan/lib/python3.11/site-packages/ultralytics/engine/predictor.py\", line 266, in stream_inference\n",
      "    self.results = self.postprocess(preds, im, im0s)\n",
      "                   ^^^^^^^^^^^^^^^^^^^^^^^^^^^^^^^^^\n",
      "  File \"/home/spuser/.conda/envs/yanpan/lib/python3.11/site-packages/ultralytics/models/yolo/segment/predict.py\", line 52, in postprocess\n",
      "    masks = ops.process_mask(proto[i], pred[:, 6:], pred[:, :4], img.shape[2:], upsample=True)  # HWC\n",
      "            ^^^^^^^^^^^^^^^^^^^^^^^^^^^^^^^^^^^^^^^^^^^^^^^^^^^^^^^^^^^^^^^^^^^^^^^^^^^^^^^^^^\n",
      "  File \"/home/spuser/.conda/envs/yanpan/lib/python3.11/site-packages/ultralytics/utils/ops.py\", line 671, in process_mask\n",
      "    c, mh, mw = protos.shape  # CHW\n",
      "    ^^^^^^^^^\n",
      "ValueError: too many values to unpack (expected 3)\n",
      "Traceback (most recent call last):\n",
      "  File \"/tmp/ipykernel_2239786/1301476628.py\", line 65, in main\n",
      "    for result in results_generator:\n",
      "  File \"/home/spuser/.conda/envs/yanpan/lib/python3.11/site-packages/torch/utils/_contextlib.py\", line 36, in generator_context\n",
      "    response = gen.send(None)\n",
      "               ^^^^^^^^^^^^^^\n",
      "  File \"/home/spuser/.conda/envs/yanpan/lib/python3.11/site-packages/ultralytics/engine/predictor.py\", line 266, in stream_inference\n",
      "    self.results = self.postprocess(preds, im, im0s)\n",
      "                   ^^^^^^^^^^^^^^^^^^^^^^^^^^^^^^^^^\n",
      "  File \"/home/spuser/.conda/envs/yanpan/lib/python3.11/site-packages/ultralytics/models/yolo/segment/predict.py\", line 52, in postprocess\n",
      "    masks = ops.process_mask(proto[i], pred[:, 6:], pred[:, :4], img.shape[2:], upsample=True)  # HWC\n",
      "            ^^^^^^^^^^^^^^^^^^^^^^^^^^^^^^^^^^^^^^^^^^^^^^^^^^^^^^^^^^^^^^^^^^^^^^^^^^^^^^^^^^\n",
      "  File \"/home/spuser/.conda/envs/yanpan/lib/python3.11/site-packages/ultralytics/utils/ops.py\", line 671, in process_mask\n",
      "    c, mh, mw = protos.shape  # CHW\n",
      "    ^^^^^^^^^\n",
      "ValueError: too many values to unpack (expected 3)\n",
      "Traceback (most recent call last):\n",
      "  File \"/tmp/ipykernel_2239786/1301476628.py\", line 65, in main\n",
      "    for result in results_generator:\n",
      "  File \"/home/spuser/.conda/envs/yanpan/lib/python3.11/site-packages/torch/utils/_contextlib.py\", line 36, in generator_context\n",
      "    response = gen.send(None)\n",
      "               ^^^^^^^^^^^^^^\n",
      "  File \"/home/spuser/.conda/envs/yanpan/lib/python3.11/site-packages/ultralytics/engine/predictor.py\", line 266, in stream_inference\n",
      "    self.results = self.postprocess(preds, im, im0s)\n",
      "                   ^^^^^^^^^^^^^^^^^^^^^^^^^^^^^^^^^\n",
      "  File \"/home/spuser/.conda/envs/yanpan/lib/python3.11/site-packages/ultralytics/models/yolo/segment/predict.py\", line 52, in postprocess\n",
      "    masks = ops.process_mask(proto[i], pred[:, 6:], pred[:, :4], img.shape[2:], upsample=True)  # HWC\n",
      "            ^^^^^^^^^^^^^^^^^^^^^^^^^^^^^^^^^^^^^^^^^^^^^^^^^^^^^^^^^^^^^^^^^^^^^^^^^^^^^^^^^^\n",
      "  File \"/home/spuser/.conda/envs/yanpan/lib/python3.11/site-packages/ultralytics/utils/ops.py\", line 671, in process_mask\n",
      "    c, mh, mw = protos.shape  # CHW\n",
      "    ^^^^^^^^^\n",
      "ValueError: too many values to unpack (expected 3)\n",
      "Traceback (most recent call last):\n",
      "  File \"/tmp/ipykernel_2239786/1301476628.py\", line 65, in main\n",
      "    for result in results_generator:\n",
      "  File \"/home/spuser/.conda/envs/yanpan/lib/python3.11/site-packages/torch/utils/_contextlib.py\", line 36, in generator_context\n",
      "    response = gen.send(None)\n",
      "               ^^^^^^^^^^^^^^\n",
      "  File \"/home/spuser/.conda/envs/yanpan/lib/python3.11/site-packages/ultralytics/engine/predictor.py\", line 266, in stream_inference\n",
      "    self.results = self.postprocess(preds, im, im0s)\n",
      "                   ^^^^^^^^^^^^^^^^^^^^^^^^^^^^^^^^^\n",
      "  File \"/home/spuser/.conda/envs/yanpan/lib/python3.11/site-packages/ultralytics/models/yolo/segment/predict.py\", line 52, in postprocess\n",
      "    masks = ops.process_mask(proto[i], pred[:, 6:], pred[:, :4], img.shape[2:], upsample=True)  # HWC\n",
      "            ^^^^^^^^^^^^^^^^^^^^^^^^^^^^^^^^^^^^^^^^^^^^^^^^^^^^^^^^^^^^^^^^^^^^^^^^^^^^^^^^^^\n",
      "  File \"/home/spuser/.conda/envs/yanpan/lib/python3.11/site-packages/ultralytics/utils/ops.py\", line 671, in process_mask\n",
      "    c, mh, mw = protos.shape  # CHW\n",
      "    ^^^^^^^^^\n",
      "ValueError: too many values to unpack (expected 3)\n",
      "Traceback (most recent call last):\n",
      "  File \"/tmp/ipykernel_2239786/1301476628.py\", line 65, in main\n",
      "    for result in results_generator:\n",
      "  File \"/home/spuser/.conda/envs/yanpan/lib/python3.11/site-packages/torch/utils/_contextlib.py\", line 36, in generator_context\n",
      "    response = gen.send(None)\n",
      "               ^^^^^^^^^^^^^^\n",
      "  File \"/home/spuser/.conda/envs/yanpan/lib/python3.11/site-packages/ultralytics/engine/predictor.py\", line 266, in stream_inference\n",
      "    self.results = self.postprocess(preds, im, im0s)\n",
      "                   ^^^^^^^^^^^^^^^^^^^^^^^^^^^^^^^^^\n",
      "  File \"/home/spuser/.conda/envs/yanpan/lib/python3.11/site-packages/ultralytics/models/yolo/segment/predict.py\", line 52, in postprocess\n",
      "    masks = ops.process_mask(proto[i], pred[:, 6:], pred[:, :4], img.shape[2:], upsample=True)  # HWC\n",
      "            ^^^^^^^^^^^^^^^^^^^^^^^^^^^^^^^^^^^^^^^^^^^^^^^^^^^^^^^^^^^^^^^^^^^^^^^^^^^^^^^^^^\n",
      "  File \"/home/spuser/.conda/envs/yanpan/lib/python3.11/site-packages/ultralytics/utils/ops.py\", line 671, in process_mask\n",
      "    c, mh, mw = protos.shape  # CHW\n",
      "    ^^^^^^^^^\n",
      "ValueError: too many values to unpack (expected 3)\n",
      "Traceback (most recent call last):\n",
      "  File \"/tmp/ipykernel_2239786/1301476628.py\", line 65, in main\n",
      "    for result in results_generator:\n",
      "  File \"/home/spuser/.conda/envs/yanpan/lib/python3.11/site-packages/torch/utils/_contextlib.py\", line 36, in generator_context\n",
      "    response = gen.send(None)\n",
      "               ^^^^^^^^^^^^^^\n",
      "  File \"/home/spuser/.conda/envs/yanpan/lib/python3.11/site-packages/ultralytics/engine/predictor.py\", line 266, in stream_inference\n",
      "    self.results = self.postprocess(preds, im, im0s)\n",
      "                   ^^^^^^^^^^^^^^^^^^^^^^^^^^^^^^^^^\n",
      "  File \"/home/spuser/.conda/envs/yanpan/lib/python3.11/site-packages/ultralytics/models/yolo/segment/predict.py\", line 52, in postprocess\n",
      "    masks = ops.process_mask(proto[i], pred[:, 6:], pred[:, :4], img.shape[2:], upsample=True)  # HWC\n",
      "            ^^^^^^^^^^^^^^^^^^^^^^^^^^^^^^^^^^^^^^^^^^^^^^^^^^^^^^^^^^^^^^^^^^^^^^^^^^^^^^^^^^\n",
      "  File \"/home/spuser/.conda/envs/yanpan/lib/python3.11/site-packages/ultralytics/utils/ops.py\", line 671, in process_mask\n",
      "    c, mh, mw = protos.shape  # CHW\n",
      "    ^^^^^^^^^\n",
      "ValueError: too many values to unpack (expected 3)\n",
      "Traceback (most recent call last):\n",
      "  File \"/tmp/ipykernel_2239786/1301476628.py\", line 65, in main\n",
      "    for result in results_generator:\n",
      "  File \"/home/spuser/.conda/envs/yanpan/lib/python3.11/site-packages/torch/utils/_contextlib.py\", line 36, in generator_context\n",
      "    response = gen.send(None)\n",
      "               ^^^^^^^^^^^^^^\n",
      "  File \"/home/spuser/.conda/envs/yanpan/lib/python3.11/site-packages/ultralytics/engine/predictor.py\", line 266, in stream_inference\n",
      "    self.results = self.postprocess(preds, im, im0s)\n",
      "                   ^^^^^^^^^^^^^^^^^^^^^^^^^^^^^^^^^\n",
      "  File \"/home/spuser/.conda/envs/yanpan/lib/python3.11/site-packages/ultralytics/models/yolo/segment/predict.py\", line 52, in postprocess\n",
      "    masks = ops.process_mask(proto[i], pred[:, 6:], pred[:, :4], img.shape[2:], upsample=True)  # HWC\n",
      "            ^^^^^^^^^^^^^^^^^^^^^^^^^^^^^^^^^^^^^^^^^^^^^^^^^^^^^^^^^^^^^^^^^^^^^^^^^^^^^^^^^^\n",
      "  File \"/home/spuser/.conda/envs/yanpan/lib/python3.11/site-packages/ultralytics/utils/ops.py\", line 671, in process_mask\n",
      "    c, mh, mw = protos.shape  # CHW\n",
      "    ^^^^^^^^^\n",
      "ValueError: too many values to unpack (expected 3)\n",
      "Traceback (most recent call last):\n",
      "  File \"/tmp/ipykernel_2239786/1301476628.py\", line 65, in main\n",
      "    for result in results_generator:\n",
      "  File \"/home/spuser/.conda/envs/yanpan/lib/python3.11/site-packages/torch/utils/_contextlib.py\", line 36, in generator_context\n",
      "    response = gen.send(None)\n",
      "               ^^^^^^^^^^^^^^\n",
      "  File \"/home/spuser/.conda/envs/yanpan/lib/python3.11/site-packages/ultralytics/engine/predictor.py\", line 266, in stream_inference\n",
      "    self.results = self.postprocess(preds, im, im0s)\n",
      "                   ^^^^^^^^^^^^^^^^^^^^^^^^^^^^^^^^^\n",
      "  File \"/home/spuser/.conda/envs/yanpan/lib/python3.11/site-packages/ultralytics/models/yolo/segment/predict.py\", line 52, in postprocess\n",
      "    masks = ops.process_mask(proto[i], pred[:, 6:], pred[:, :4], img.shape[2:], upsample=True)  # HWC\n",
      "            ^^^^^^^^^^^^^^^^^^^^^^^^^^^^^^^^^^^^^^^^^^^^^^^^^^^^^^^^^^^^^^^^^^^^^^^^^^^^^^^^^^\n",
      "  File \"/home/spuser/.conda/envs/yanpan/lib/python3.11/site-packages/ultralytics/utils/ops.py\", line 671, in process_mask\n",
      "    c, mh, mw = protos.shape  # CHW\n",
      "    ^^^^^^^^^\n",
      "ValueError: too many values to unpack (expected 3)\n"
     ]
    },
    {
     "name": "stdout",
     "output_type": "stream",
     "text": [
      "Error processing frame 13: too many values to unpack (expected 3)\n",
      "Frame shape: (640, 640, 3), dtype: uint8\n",
      "\n",
      "Error processing frame 14: too many values to unpack (expected 3)\n",
      "Frame shape: (640, 640, 3), dtype: uint8\n",
      "\n",
      "Error processing frame 15: too many values to unpack (expected 3)\n",
      "Frame shape: (640, 640, 3), dtype: uint8\n",
      "\n",
      "Error processing frame 16: too many values to unpack (expected 3)\n",
      "Frame shape: (640, 640, 3), dtype: uint8\n",
      "\n",
      "Error processing frame 17: too many values to unpack (expected 3)\n",
      "Frame shape: (640, 640, 3), dtype: uint8\n",
      "\n",
      "Error processing frame 18: too many values to unpack (expected 3)\n",
      "Frame shape: (640, 640, 3), dtype: uint8\n",
      "\n",
      "Error processing frame 19: too many values to unpack (expected 3)\n",
      "Frame shape: (640, 640, 3), dtype: uint8\n",
      "\n",
      "Error processing frame 20: too many values to unpack (expected 3)\n",
      "Frame shape: (640, 640, 3), dtype: uint8\n",
      "\n",
      "Error processing frame 21: too many values to unpack (expected 3)\n",
      "Frame shape: (640, 640, 3), dtype: uint8\n",
      "\n",
      "Error processing frame 22: too many values to unpack (expected 3)\n",
      "Frame shape: (640, 640, 3), dtype: uint8\n",
      "\n",
      "Error processing frame 23: too many values to unpack (expected 3)\n",
      "Frame shape: (640, 640, 3), dtype: uint8\n",
      "\n",
      "Error processing frame 24: too many values to unpack (expected 3)\n",
      "Frame shape: (640, 640, 3), dtype: uint8\n",
      "\n"
     ]
    },
    {
     "name": "stderr",
     "output_type": "stream",
     "text": [
      "Traceback (most recent call last):\n",
      "  File \"/tmp/ipykernel_2239786/1301476628.py\", line 65, in main\n",
      "    for result in results_generator:\n",
      "  File \"/home/spuser/.conda/envs/yanpan/lib/python3.11/site-packages/torch/utils/_contextlib.py\", line 36, in generator_context\n",
      "    response = gen.send(None)\n",
      "               ^^^^^^^^^^^^^^\n",
      "  File \"/home/spuser/.conda/envs/yanpan/lib/python3.11/site-packages/ultralytics/engine/predictor.py\", line 266, in stream_inference\n",
      "    self.results = self.postprocess(preds, im, im0s)\n",
      "                   ^^^^^^^^^^^^^^^^^^^^^^^^^^^^^^^^^\n",
      "  File \"/home/spuser/.conda/envs/yanpan/lib/python3.11/site-packages/ultralytics/models/yolo/segment/predict.py\", line 52, in postprocess\n",
      "    masks = ops.process_mask(proto[i], pred[:, 6:], pred[:, :4], img.shape[2:], upsample=True)  # HWC\n",
      "            ^^^^^^^^^^^^^^^^^^^^^^^^^^^^^^^^^^^^^^^^^^^^^^^^^^^^^^^^^^^^^^^^^^^^^^^^^^^^^^^^^^\n",
      "  File \"/home/spuser/.conda/envs/yanpan/lib/python3.11/site-packages/ultralytics/utils/ops.py\", line 671, in process_mask\n",
      "    c, mh, mw = protos.shape  # CHW\n",
      "    ^^^^^^^^^\n",
      "ValueError: too many values to unpack (expected 3)\n",
      "Traceback (most recent call last):\n",
      "  File \"/tmp/ipykernel_2239786/1301476628.py\", line 65, in main\n",
      "    for result in results_generator:\n",
      "  File \"/home/spuser/.conda/envs/yanpan/lib/python3.11/site-packages/torch/utils/_contextlib.py\", line 36, in generator_context\n",
      "    response = gen.send(None)\n",
      "               ^^^^^^^^^^^^^^\n",
      "  File \"/home/spuser/.conda/envs/yanpan/lib/python3.11/site-packages/ultralytics/engine/predictor.py\", line 266, in stream_inference\n",
      "    self.results = self.postprocess(preds, im, im0s)\n",
      "                   ^^^^^^^^^^^^^^^^^^^^^^^^^^^^^^^^^\n",
      "  File \"/home/spuser/.conda/envs/yanpan/lib/python3.11/site-packages/ultralytics/models/yolo/segment/predict.py\", line 52, in postprocess\n",
      "    masks = ops.process_mask(proto[i], pred[:, 6:], pred[:, :4], img.shape[2:], upsample=True)  # HWC\n",
      "            ^^^^^^^^^^^^^^^^^^^^^^^^^^^^^^^^^^^^^^^^^^^^^^^^^^^^^^^^^^^^^^^^^^^^^^^^^^^^^^^^^^\n",
      "  File \"/home/spuser/.conda/envs/yanpan/lib/python3.11/site-packages/ultralytics/utils/ops.py\", line 671, in process_mask\n",
      "    c, mh, mw = protos.shape  # CHW\n",
      "    ^^^^^^^^^\n",
      "ValueError: too many values to unpack (expected 3)\n",
      "Traceback (most recent call last):\n",
      "  File \"/tmp/ipykernel_2239786/1301476628.py\", line 65, in main\n",
      "    for result in results_generator:\n",
      "  File \"/home/spuser/.conda/envs/yanpan/lib/python3.11/site-packages/torch/utils/_contextlib.py\", line 36, in generator_context\n",
      "    response = gen.send(None)\n",
      "               ^^^^^^^^^^^^^^\n",
      "  File \"/home/spuser/.conda/envs/yanpan/lib/python3.11/site-packages/ultralytics/engine/predictor.py\", line 266, in stream_inference\n",
      "    self.results = self.postprocess(preds, im, im0s)\n",
      "                   ^^^^^^^^^^^^^^^^^^^^^^^^^^^^^^^^^\n",
      "  File \"/home/spuser/.conda/envs/yanpan/lib/python3.11/site-packages/ultralytics/models/yolo/segment/predict.py\", line 52, in postprocess\n",
      "    masks = ops.process_mask(proto[i], pred[:, 6:], pred[:, :4], img.shape[2:], upsample=True)  # HWC\n",
      "            ^^^^^^^^^^^^^^^^^^^^^^^^^^^^^^^^^^^^^^^^^^^^^^^^^^^^^^^^^^^^^^^^^^^^^^^^^^^^^^^^^^\n",
      "  File \"/home/spuser/.conda/envs/yanpan/lib/python3.11/site-packages/ultralytics/utils/ops.py\", line 671, in process_mask\n",
      "    c, mh, mw = protos.shape  # CHW\n",
      "    ^^^^^^^^^\n",
      "ValueError: too many values to unpack (expected 3)\n",
      "Traceback (most recent call last):\n",
      "  File \"/tmp/ipykernel_2239786/1301476628.py\", line 65, in main\n",
      "    for result in results_generator:\n",
      "  File \"/home/spuser/.conda/envs/yanpan/lib/python3.11/site-packages/torch/utils/_contextlib.py\", line 36, in generator_context\n",
      "    response = gen.send(None)\n",
      "               ^^^^^^^^^^^^^^\n",
      "  File \"/home/spuser/.conda/envs/yanpan/lib/python3.11/site-packages/ultralytics/engine/predictor.py\", line 266, in stream_inference\n",
      "    self.results = self.postprocess(preds, im, im0s)\n",
      "                   ^^^^^^^^^^^^^^^^^^^^^^^^^^^^^^^^^\n",
      "  File \"/home/spuser/.conda/envs/yanpan/lib/python3.11/site-packages/ultralytics/models/yolo/segment/predict.py\", line 52, in postprocess\n",
      "    masks = ops.process_mask(proto[i], pred[:, 6:], pred[:, :4], img.shape[2:], upsample=True)  # HWC\n",
      "            ^^^^^^^^^^^^^^^^^^^^^^^^^^^^^^^^^^^^^^^^^^^^^^^^^^^^^^^^^^^^^^^^^^^^^^^^^^^^^^^^^^\n",
      "  File \"/home/spuser/.conda/envs/yanpan/lib/python3.11/site-packages/ultralytics/utils/ops.py\", line 671, in process_mask\n",
      "    c, mh, mw = protos.shape  # CHW\n",
      "    ^^^^^^^^^\n",
      "ValueError: too many values to unpack (expected 3)\n",
      "Traceback (most recent call last):\n",
      "  File \"/tmp/ipykernel_2239786/1301476628.py\", line 65, in main\n",
      "    for result in results_generator:\n",
      "  File \"/home/spuser/.conda/envs/yanpan/lib/python3.11/site-packages/torch/utils/_contextlib.py\", line 36, in generator_context\n",
      "    response = gen.send(None)\n",
      "               ^^^^^^^^^^^^^^\n",
      "  File \"/home/spuser/.conda/envs/yanpan/lib/python3.11/site-packages/ultralytics/engine/predictor.py\", line 266, in stream_inference\n",
      "    self.results = self.postprocess(preds, im, im0s)\n",
      "                   ^^^^^^^^^^^^^^^^^^^^^^^^^^^^^^^^^\n",
      "  File \"/home/spuser/.conda/envs/yanpan/lib/python3.11/site-packages/ultralytics/models/yolo/segment/predict.py\", line 52, in postprocess\n",
      "    masks = ops.process_mask(proto[i], pred[:, 6:], pred[:, :4], img.shape[2:], upsample=True)  # HWC\n",
      "            ^^^^^^^^^^^^^^^^^^^^^^^^^^^^^^^^^^^^^^^^^^^^^^^^^^^^^^^^^^^^^^^^^^^^^^^^^^^^^^^^^^\n",
      "  File \"/home/spuser/.conda/envs/yanpan/lib/python3.11/site-packages/ultralytics/utils/ops.py\", line 671, in process_mask\n",
      "    c, mh, mw = protos.shape  # CHW\n",
      "    ^^^^^^^^^\n",
      "ValueError: too many values to unpack (expected 3)\n",
      "Traceback (most recent call last):\n",
      "  File \"/tmp/ipykernel_2239786/1301476628.py\", line 65, in main\n",
      "    for result in results_generator:\n",
      "  File \"/home/spuser/.conda/envs/yanpan/lib/python3.11/site-packages/torch/utils/_contextlib.py\", line 36, in generator_context\n",
      "    response = gen.send(None)\n",
      "               ^^^^^^^^^^^^^^\n",
      "  File \"/home/spuser/.conda/envs/yanpan/lib/python3.11/site-packages/ultralytics/engine/predictor.py\", line 266, in stream_inference\n",
      "    self.results = self.postprocess(preds, im, im0s)\n",
      "                   ^^^^^^^^^^^^^^^^^^^^^^^^^^^^^^^^^\n",
      "  File \"/home/spuser/.conda/envs/yanpan/lib/python3.11/site-packages/ultralytics/models/yolo/segment/predict.py\", line 52, in postprocess\n",
      "    masks = ops.process_mask(proto[i], pred[:, 6:], pred[:, :4], img.shape[2:], upsample=True)  # HWC\n",
      "            ^^^^^^^^^^^^^^^^^^^^^^^^^^^^^^^^^^^^^^^^^^^^^^^^^^^^^^^^^^^^^^^^^^^^^^^^^^^^^^^^^^\n",
      "  File \"/home/spuser/.conda/envs/yanpan/lib/python3.11/site-packages/ultralytics/utils/ops.py\", line 671, in process_mask\n",
      "    c, mh, mw = protos.shape  # CHW\n",
      "    ^^^^^^^^^\n",
      "ValueError: too many values to unpack (expected 3)\n",
      "Traceback (most recent call last):\n",
      "  File \"/tmp/ipykernel_2239786/1301476628.py\", line 65, in main\n",
      "    for result in results_generator:\n",
      "  File \"/home/spuser/.conda/envs/yanpan/lib/python3.11/site-packages/torch/utils/_contextlib.py\", line 36, in generator_context\n",
      "    response = gen.send(None)\n",
      "               ^^^^^^^^^^^^^^\n",
      "  File \"/home/spuser/.conda/envs/yanpan/lib/python3.11/site-packages/ultralytics/engine/predictor.py\", line 266, in stream_inference\n",
      "    self.results = self.postprocess(preds, im, im0s)\n",
      "                   ^^^^^^^^^^^^^^^^^^^^^^^^^^^^^^^^^\n",
      "  File \"/home/spuser/.conda/envs/yanpan/lib/python3.11/site-packages/ultralytics/models/yolo/segment/predict.py\", line 52, in postprocess\n",
      "    masks = ops.process_mask(proto[i], pred[:, 6:], pred[:, :4], img.shape[2:], upsample=True)  # HWC\n",
      "            ^^^^^^^^^^^^^^^^^^^^^^^^^^^^^^^^^^^^^^^^^^^^^^^^^^^^^^^^^^^^^^^^^^^^^^^^^^^^^^^^^^\n",
      "  File \"/home/spuser/.conda/envs/yanpan/lib/python3.11/site-packages/ultralytics/utils/ops.py\", line 671, in process_mask\n",
      "    c, mh, mw = protos.shape  # CHW\n",
      "    ^^^^^^^^^\n",
      "ValueError: too many values to unpack (expected 3)\n",
      "Traceback (most recent call last):\n",
      "  File \"/tmp/ipykernel_2239786/1301476628.py\", line 65, in main\n",
      "    for result in results_generator:\n",
      "  File \"/home/spuser/.conda/envs/yanpan/lib/python3.11/site-packages/torch/utils/_contextlib.py\", line 36, in generator_context\n",
      "    response = gen.send(None)\n",
      "               ^^^^^^^^^^^^^^\n",
      "  File \"/home/spuser/.conda/envs/yanpan/lib/python3.11/site-packages/ultralytics/engine/predictor.py\", line 266, in stream_inference\n",
      "    self.results = self.postprocess(preds, im, im0s)\n",
      "                   ^^^^^^^^^^^^^^^^^^^^^^^^^^^^^^^^^\n",
      "  File \"/home/spuser/.conda/envs/yanpan/lib/python3.11/site-packages/ultralytics/models/yolo/segment/predict.py\", line 52, in postprocess\n",
      "    masks = ops.process_mask(proto[i], pred[:, 6:], pred[:, :4], img.shape[2:], upsample=True)  # HWC\n",
      "            ^^^^^^^^^^^^^^^^^^^^^^^^^^^^^^^^^^^^^^^^^^^^^^^^^^^^^^^^^^^^^^^^^^^^^^^^^^^^^^^^^^\n",
      "  File \"/home/spuser/.conda/envs/yanpan/lib/python3.11/site-packages/ultralytics/utils/ops.py\", line 671, in process_mask\n",
      "    c, mh, mw = protos.shape  # CHW\n",
      "    ^^^^^^^^^\n",
      "ValueError: too many values to unpack (expected 3)\n",
      "Traceback (most recent call last):\n",
      "  File \"/tmp/ipykernel_2239786/1301476628.py\", line 65, in main\n",
      "    for result in results_generator:\n",
      "  File \"/home/spuser/.conda/envs/yanpan/lib/python3.11/site-packages/torch/utils/_contextlib.py\", line 36, in generator_context\n",
      "    response = gen.send(None)\n",
      "               ^^^^^^^^^^^^^^\n",
      "  File \"/home/spuser/.conda/envs/yanpan/lib/python3.11/site-packages/ultralytics/engine/predictor.py\", line 266, in stream_inference\n",
      "    self.results = self.postprocess(preds, im, im0s)\n",
      "                   ^^^^^^^^^^^^^^^^^^^^^^^^^^^^^^^^^\n",
      "  File \"/home/spuser/.conda/envs/yanpan/lib/python3.11/site-packages/ultralytics/models/yolo/segment/predict.py\", line 52, in postprocess\n",
      "    masks = ops.process_mask(proto[i], pred[:, 6:], pred[:, :4], img.shape[2:], upsample=True)  # HWC\n",
      "            ^^^^^^^^^^^^^^^^^^^^^^^^^^^^^^^^^^^^^^^^^^^^^^^^^^^^^^^^^^^^^^^^^^^^^^^^^^^^^^^^^^\n",
      "  File \"/home/spuser/.conda/envs/yanpan/lib/python3.11/site-packages/ultralytics/utils/ops.py\", line 671, in process_mask\n",
      "    c, mh, mw = protos.shape  # CHW\n",
      "    ^^^^^^^^^\n",
      "ValueError: too many values to unpack (expected 3)\n",
      "Traceback (most recent call last):\n",
      "  File \"/tmp/ipykernel_2239786/1301476628.py\", line 65, in main\n",
      "    for result in results_generator:\n",
      "  File \"/home/spuser/.conda/envs/yanpan/lib/python3.11/site-packages/torch/utils/_contextlib.py\", line 36, in generator_context\n",
      "    response = gen.send(None)\n",
      "               ^^^^^^^^^^^^^^\n",
      "  File \"/home/spuser/.conda/envs/yanpan/lib/python3.11/site-packages/ultralytics/engine/predictor.py\", line 266, in stream_inference\n",
      "    self.results = self.postprocess(preds, im, im0s)\n",
      "                   ^^^^^^^^^^^^^^^^^^^^^^^^^^^^^^^^^\n",
      "  File \"/home/spuser/.conda/envs/yanpan/lib/python3.11/site-packages/ultralytics/models/yolo/segment/predict.py\", line 52, in postprocess\n",
      "    masks = ops.process_mask(proto[i], pred[:, 6:], pred[:, :4], img.shape[2:], upsample=True)  # HWC\n",
      "            ^^^^^^^^^^^^^^^^^^^^^^^^^^^^^^^^^^^^^^^^^^^^^^^^^^^^^^^^^^^^^^^^^^^^^^^^^^^^^^^^^^\n",
      "  File \"/home/spuser/.conda/envs/yanpan/lib/python3.11/site-packages/ultralytics/utils/ops.py\", line 671, in process_mask\n",
      "    c, mh, mw = protos.shape  # CHW\n",
      "    ^^^^^^^^^\n",
      "ValueError: too many values to unpack (expected 3)\n",
      "Traceback (most recent call last):\n",
      "  File \"/tmp/ipykernel_2239786/1301476628.py\", line 65, in main\n",
      "    for result in results_generator:\n",
      "  File \"/home/spuser/.conda/envs/yanpan/lib/python3.11/site-packages/torch/utils/_contextlib.py\", line 36, in generator_context\n",
      "    response = gen.send(None)\n",
      "               ^^^^^^^^^^^^^^\n",
      "  File \"/home/spuser/.conda/envs/yanpan/lib/python3.11/site-packages/ultralytics/engine/predictor.py\", line 266, in stream_inference\n",
      "    self.results = self.postprocess(preds, im, im0s)\n",
      "                   ^^^^^^^^^^^^^^^^^^^^^^^^^^^^^^^^^\n",
      "  File \"/home/spuser/.conda/envs/yanpan/lib/python3.11/site-packages/ultralytics/models/yolo/segment/predict.py\", line 52, in postprocess\n",
      "    masks = ops.process_mask(proto[i], pred[:, 6:], pred[:, :4], img.shape[2:], upsample=True)  # HWC\n",
      "            ^^^^^^^^^^^^^^^^^^^^^^^^^^^^^^^^^^^^^^^^^^^^^^^^^^^^^^^^^^^^^^^^^^^^^^^^^^^^^^^^^^\n",
      "  File \"/home/spuser/.conda/envs/yanpan/lib/python3.11/site-packages/ultralytics/utils/ops.py\", line 671, in process_mask\n",
      "    c, mh, mw = protos.shape  # CHW\n",
      "    ^^^^^^^^^\n",
      "ValueError: too many values to unpack (expected 3)\n",
      "Traceback (most recent call last):\n",
      "  File \"/tmp/ipykernel_2239786/1301476628.py\", line 65, in main\n",
      "    for result in results_generator:\n",
      "  File \"/home/spuser/.conda/envs/yanpan/lib/python3.11/site-packages/torch/utils/_contextlib.py\", line 36, in generator_context\n",
      "    response = gen.send(None)\n",
      "               ^^^^^^^^^^^^^^\n",
      "  File \"/home/spuser/.conda/envs/yanpan/lib/python3.11/site-packages/ultralytics/engine/predictor.py\", line 266, in stream_inference\n",
      "    self.results = self.postprocess(preds, im, im0s)\n",
      "                   ^^^^^^^^^^^^^^^^^^^^^^^^^^^^^^^^^\n",
      "  File \"/home/spuser/.conda/envs/yanpan/lib/python3.11/site-packages/ultralytics/models/yolo/segment/predict.py\", line 52, in postprocess\n",
      "    masks = ops.process_mask(proto[i], pred[:, 6:], pred[:, :4], img.shape[2:], upsample=True)  # HWC\n",
      "            ^^^^^^^^^^^^^^^^^^^^^^^^^^^^^^^^^^^^^^^^^^^^^^^^^^^^^^^^^^^^^^^^^^^^^^^^^^^^^^^^^^\n",
      "  File \"/home/spuser/.conda/envs/yanpan/lib/python3.11/site-packages/ultralytics/utils/ops.py\", line 671, in process_mask\n",
      "    c, mh, mw = protos.shape  # CHW\n",
      "    ^^^^^^^^^\n",
      "ValueError: too many values to unpack (expected 3)\n"
     ]
    },
    {
     "name": "stdout",
     "output_type": "stream",
     "text": [
      "Error processing frame 25: too many values to unpack (expected 3)\n",
      "Frame shape: (640, 640, 3), dtype: uint8\n",
      "\n",
      "Error processing frame 26: too many values to unpack (expected 3)\n",
      "Frame shape: (640, 640, 3), dtype: uint8\n",
      "\n",
      "Error processing frame 27: too many values to unpack (expected 3)\n",
      "Frame shape: (640, 640, 3), dtype: uint8\n",
      "\n",
      "Error processing frame 28: too many values to unpack (expected 3)\n",
      "Frame shape: (640, 640, 3), dtype: uint8\n",
      "\n",
      "Error processing frame 29: too many values to unpack (expected 3)\n",
      "Frame shape: (640, 640, 3), dtype: uint8\n",
      "\n",
      "Error processing frame 30: too many values to unpack (expected 3)\n",
      "Frame shape: (640, 640, 3), dtype: uint8\n",
      "\n",
      "Error processing frame 31: too many values to unpack (expected 3)\n",
      "Frame shape: (640, 640, 3), dtype: uint8\n",
      "\n",
      "Error processing frame 32: too many values to unpack (expected 3)\n",
      "Frame shape: (640, 640, 3), dtype: uint8\n",
      "\n",
      "Error processing frame 33: too many values to unpack (expected 3)\n",
      "Frame shape: (640, 640, 3), dtype: uint8\n",
      "\n",
      "Error processing frame 34: too many values to unpack (expected 3)\n",
      "Frame shape: (640, 640, 3), dtype: uint8\n",
      "\n",
      "Error processing frame 35: too many values to unpack (expected 3)\n",
      "Frame shape: (640, 640, 3), dtype: uint8\n",
      "\n",
      "Error processing frame 36: too many values to unpack (expected 3)\n",
      "Frame shape: (640, 640, 3), dtype: uint8\n",
      "\n",
      "Error processing frame 37: too many values to unpack (expected 3)\n",
      "Frame shape: (640, 640, 3), dtype: uint8\n",
      "\n"
     ]
    },
    {
     "name": "stderr",
     "output_type": "stream",
     "text": [
      "Traceback (most recent call last):\n",
      "  File \"/tmp/ipykernel_2239786/1301476628.py\", line 65, in main\n",
      "    for result in results_generator:\n",
      "  File \"/home/spuser/.conda/envs/yanpan/lib/python3.11/site-packages/torch/utils/_contextlib.py\", line 36, in generator_context\n",
      "    response = gen.send(None)\n",
      "               ^^^^^^^^^^^^^^\n",
      "  File \"/home/spuser/.conda/envs/yanpan/lib/python3.11/site-packages/ultralytics/engine/predictor.py\", line 266, in stream_inference\n",
      "    self.results = self.postprocess(preds, im, im0s)\n",
      "                   ^^^^^^^^^^^^^^^^^^^^^^^^^^^^^^^^^\n",
      "  File \"/home/spuser/.conda/envs/yanpan/lib/python3.11/site-packages/ultralytics/models/yolo/segment/predict.py\", line 52, in postprocess\n",
      "    masks = ops.process_mask(proto[i], pred[:, 6:], pred[:, :4], img.shape[2:], upsample=True)  # HWC\n",
      "            ^^^^^^^^^^^^^^^^^^^^^^^^^^^^^^^^^^^^^^^^^^^^^^^^^^^^^^^^^^^^^^^^^^^^^^^^^^^^^^^^^^\n",
      "  File \"/home/spuser/.conda/envs/yanpan/lib/python3.11/site-packages/ultralytics/utils/ops.py\", line 671, in process_mask\n",
      "    c, mh, mw = protos.shape  # CHW\n",
      "    ^^^^^^^^^\n",
      "ValueError: too many values to unpack (expected 3)\n",
      "Traceback (most recent call last):\n",
      "  File \"/tmp/ipykernel_2239786/1301476628.py\", line 65, in main\n",
      "    for result in results_generator:\n",
      "  File \"/home/spuser/.conda/envs/yanpan/lib/python3.11/site-packages/torch/utils/_contextlib.py\", line 36, in generator_context\n",
      "    response = gen.send(None)\n",
      "               ^^^^^^^^^^^^^^\n",
      "  File \"/home/spuser/.conda/envs/yanpan/lib/python3.11/site-packages/ultralytics/engine/predictor.py\", line 266, in stream_inference\n",
      "    self.results = self.postprocess(preds, im, im0s)\n",
      "                   ^^^^^^^^^^^^^^^^^^^^^^^^^^^^^^^^^\n",
      "  File \"/home/spuser/.conda/envs/yanpan/lib/python3.11/site-packages/ultralytics/models/yolo/segment/predict.py\", line 52, in postprocess\n",
      "    masks = ops.process_mask(proto[i], pred[:, 6:], pred[:, :4], img.shape[2:], upsample=True)  # HWC\n",
      "            ^^^^^^^^^^^^^^^^^^^^^^^^^^^^^^^^^^^^^^^^^^^^^^^^^^^^^^^^^^^^^^^^^^^^^^^^^^^^^^^^^^\n",
      "  File \"/home/spuser/.conda/envs/yanpan/lib/python3.11/site-packages/ultralytics/utils/ops.py\", line 671, in process_mask\n",
      "    c, mh, mw = protos.shape  # CHW\n",
      "    ^^^^^^^^^\n",
      "ValueError: too many values to unpack (expected 3)\n",
      "Traceback (most recent call last):\n",
      "  File \"/tmp/ipykernel_2239786/1301476628.py\", line 65, in main\n",
      "    for result in results_generator:\n",
      "  File \"/home/spuser/.conda/envs/yanpan/lib/python3.11/site-packages/torch/utils/_contextlib.py\", line 36, in generator_context\n",
      "    response = gen.send(None)\n",
      "               ^^^^^^^^^^^^^^\n",
      "  File \"/home/spuser/.conda/envs/yanpan/lib/python3.11/site-packages/ultralytics/engine/predictor.py\", line 266, in stream_inference\n",
      "    self.results = self.postprocess(preds, im, im0s)\n",
      "                   ^^^^^^^^^^^^^^^^^^^^^^^^^^^^^^^^^\n",
      "  File \"/home/spuser/.conda/envs/yanpan/lib/python3.11/site-packages/ultralytics/models/yolo/segment/predict.py\", line 52, in postprocess\n",
      "    masks = ops.process_mask(proto[i], pred[:, 6:], pred[:, :4], img.shape[2:], upsample=True)  # HWC\n",
      "            ^^^^^^^^^^^^^^^^^^^^^^^^^^^^^^^^^^^^^^^^^^^^^^^^^^^^^^^^^^^^^^^^^^^^^^^^^^^^^^^^^^\n",
      "  File \"/home/spuser/.conda/envs/yanpan/lib/python3.11/site-packages/ultralytics/utils/ops.py\", line 671, in process_mask\n",
      "    c, mh, mw = protos.shape  # CHW\n",
      "    ^^^^^^^^^\n",
      "ValueError: too many values to unpack (expected 3)\n",
      "Traceback (most recent call last):\n",
      "  File \"/tmp/ipykernel_2239786/1301476628.py\", line 65, in main\n",
      "    for result in results_generator:\n",
      "  File \"/home/spuser/.conda/envs/yanpan/lib/python3.11/site-packages/torch/utils/_contextlib.py\", line 36, in generator_context\n",
      "    response = gen.send(None)\n",
      "               ^^^^^^^^^^^^^^\n",
      "  File \"/home/spuser/.conda/envs/yanpan/lib/python3.11/site-packages/ultralytics/engine/predictor.py\", line 266, in stream_inference\n",
      "    self.results = self.postprocess(preds, im, im0s)\n",
      "                   ^^^^^^^^^^^^^^^^^^^^^^^^^^^^^^^^^\n",
      "  File \"/home/spuser/.conda/envs/yanpan/lib/python3.11/site-packages/ultralytics/models/yolo/segment/predict.py\", line 52, in postprocess\n",
      "    masks = ops.process_mask(proto[i], pred[:, 6:], pred[:, :4], img.shape[2:], upsample=True)  # HWC\n",
      "            ^^^^^^^^^^^^^^^^^^^^^^^^^^^^^^^^^^^^^^^^^^^^^^^^^^^^^^^^^^^^^^^^^^^^^^^^^^^^^^^^^^\n",
      "  File \"/home/spuser/.conda/envs/yanpan/lib/python3.11/site-packages/ultralytics/utils/ops.py\", line 671, in process_mask\n",
      "    c, mh, mw = protos.shape  # CHW\n",
      "    ^^^^^^^^^\n",
      "ValueError: too many values to unpack (expected 3)\n",
      "Traceback (most recent call last):\n",
      "  File \"/tmp/ipykernel_2239786/1301476628.py\", line 65, in main\n",
      "    for result in results_generator:\n",
      "  File \"/home/spuser/.conda/envs/yanpan/lib/python3.11/site-packages/torch/utils/_contextlib.py\", line 36, in generator_context\n",
      "    response = gen.send(None)\n",
      "               ^^^^^^^^^^^^^^\n",
      "  File \"/home/spuser/.conda/envs/yanpan/lib/python3.11/site-packages/ultralytics/engine/predictor.py\", line 266, in stream_inference\n",
      "    self.results = self.postprocess(preds, im, im0s)\n",
      "                   ^^^^^^^^^^^^^^^^^^^^^^^^^^^^^^^^^\n",
      "  File \"/home/spuser/.conda/envs/yanpan/lib/python3.11/site-packages/ultralytics/models/yolo/segment/predict.py\", line 52, in postprocess\n",
      "    masks = ops.process_mask(proto[i], pred[:, 6:], pred[:, :4], img.shape[2:], upsample=True)  # HWC\n",
      "            ^^^^^^^^^^^^^^^^^^^^^^^^^^^^^^^^^^^^^^^^^^^^^^^^^^^^^^^^^^^^^^^^^^^^^^^^^^^^^^^^^^\n",
      "  File \"/home/spuser/.conda/envs/yanpan/lib/python3.11/site-packages/ultralytics/utils/ops.py\", line 671, in process_mask\n",
      "    c, mh, mw = protos.shape  # CHW\n",
      "    ^^^^^^^^^\n",
      "ValueError: too many values to unpack (expected 3)\n",
      "Traceback (most recent call last):\n",
      "  File \"/tmp/ipykernel_2239786/1301476628.py\", line 65, in main\n",
      "    for result in results_generator:\n",
      "  File \"/home/spuser/.conda/envs/yanpan/lib/python3.11/site-packages/torch/utils/_contextlib.py\", line 36, in generator_context\n",
      "    response = gen.send(None)\n",
      "               ^^^^^^^^^^^^^^\n",
      "  File \"/home/spuser/.conda/envs/yanpan/lib/python3.11/site-packages/ultralytics/engine/predictor.py\", line 266, in stream_inference\n",
      "    self.results = self.postprocess(preds, im, im0s)\n",
      "                   ^^^^^^^^^^^^^^^^^^^^^^^^^^^^^^^^^\n",
      "  File \"/home/spuser/.conda/envs/yanpan/lib/python3.11/site-packages/ultralytics/models/yolo/segment/predict.py\", line 52, in postprocess\n",
      "    masks = ops.process_mask(proto[i], pred[:, 6:], pred[:, :4], img.shape[2:], upsample=True)  # HWC\n",
      "            ^^^^^^^^^^^^^^^^^^^^^^^^^^^^^^^^^^^^^^^^^^^^^^^^^^^^^^^^^^^^^^^^^^^^^^^^^^^^^^^^^^\n",
      "  File \"/home/spuser/.conda/envs/yanpan/lib/python3.11/site-packages/ultralytics/utils/ops.py\", line 671, in process_mask\n",
      "    c, mh, mw = protos.shape  # CHW\n",
      "    ^^^^^^^^^\n",
      "ValueError: too many values to unpack (expected 3)\n",
      "Traceback (most recent call last):\n",
      "  File \"/tmp/ipykernel_2239786/1301476628.py\", line 65, in main\n",
      "    for result in results_generator:\n",
      "  File \"/home/spuser/.conda/envs/yanpan/lib/python3.11/site-packages/torch/utils/_contextlib.py\", line 36, in generator_context\n",
      "    response = gen.send(None)\n",
      "               ^^^^^^^^^^^^^^\n",
      "  File \"/home/spuser/.conda/envs/yanpan/lib/python3.11/site-packages/ultralytics/engine/predictor.py\", line 266, in stream_inference\n",
      "    self.results = self.postprocess(preds, im, im0s)\n",
      "                   ^^^^^^^^^^^^^^^^^^^^^^^^^^^^^^^^^\n",
      "  File \"/home/spuser/.conda/envs/yanpan/lib/python3.11/site-packages/ultralytics/models/yolo/segment/predict.py\", line 52, in postprocess\n",
      "    masks = ops.process_mask(proto[i], pred[:, 6:], pred[:, :4], img.shape[2:], upsample=True)  # HWC\n",
      "            ^^^^^^^^^^^^^^^^^^^^^^^^^^^^^^^^^^^^^^^^^^^^^^^^^^^^^^^^^^^^^^^^^^^^^^^^^^^^^^^^^^\n",
      "  File \"/home/spuser/.conda/envs/yanpan/lib/python3.11/site-packages/ultralytics/utils/ops.py\", line 671, in process_mask\n",
      "    c, mh, mw = protos.shape  # CHW\n",
      "    ^^^^^^^^^\n",
      "ValueError: too many values to unpack (expected 3)\n",
      "Traceback (most recent call last):\n",
      "  File \"/tmp/ipykernel_2239786/1301476628.py\", line 65, in main\n",
      "    for result in results_generator:\n",
      "  File \"/home/spuser/.conda/envs/yanpan/lib/python3.11/site-packages/torch/utils/_contextlib.py\", line 36, in generator_context\n",
      "    response = gen.send(None)\n",
      "               ^^^^^^^^^^^^^^\n",
      "  File \"/home/spuser/.conda/envs/yanpan/lib/python3.11/site-packages/ultralytics/engine/predictor.py\", line 266, in stream_inference\n",
      "    self.results = self.postprocess(preds, im, im0s)\n",
      "                   ^^^^^^^^^^^^^^^^^^^^^^^^^^^^^^^^^\n",
      "  File \"/home/spuser/.conda/envs/yanpan/lib/python3.11/site-packages/ultralytics/models/yolo/segment/predict.py\", line 52, in postprocess\n",
      "    masks = ops.process_mask(proto[i], pred[:, 6:], pred[:, :4], img.shape[2:], upsample=True)  # HWC\n",
      "            ^^^^^^^^^^^^^^^^^^^^^^^^^^^^^^^^^^^^^^^^^^^^^^^^^^^^^^^^^^^^^^^^^^^^^^^^^^^^^^^^^^\n",
      "  File \"/home/spuser/.conda/envs/yanpan/lib/python3.11/site-packages/ultralytics/utils/ops.py\", line 671, in process_mask\n",
      "    c, mh, mw = protos.shape  # CHW\n",
      "    ^^^^^^^^^\n",
      "ValueError: too many values to unpack (expected 3)\n",
      "Traceback (most recent call last):\n",
      "  File \"/tmp/ipykernel_2239786/1301476628.py\", line 65, in main\n",
      "    for result in results_generator:\n",
      "  File \"/home/spuser/.conda/envs/yanpan/lib/python3.11/site-packages/torch/utils/_contextlib.py\", line 36, in generator_context\n",
      "    response = gen.send(None)\n",
      "               ^^^^^^^^^^^^^^\n",
      "  File \"/home/spuser/.conda/envs/yanpan/lib/python3.11/site-packages/ultralytics/engine/predictor.py\", line 266, in stream_inference\n",
      "    self.results = self.postprocess(preds, im, im0s)\n",
      "                   ^^^^^^^^^^^^^^^^^^^^^^^^^^^^^^^^^\n",
      "  File \"/home/spuser/.conda/envs/yanpan/lib/python3.11/site-packages/ultralytics/models/yolo/segment/predict.py\", line 52, in postprocess\n",
      "    masks = ops.process_mask(proto[i], pred[:, 6:], pred[:, :4], img.shape[2:], upsample=True)  # HWC\n",
      "            ^^^^^^^^^^^^^^^^^^^^^^^^^^^^^^^^^^^^^^^^^^^^^^^^^^^^^^^^^^^^^^^^^^^^^^^^^^^^^^^^^^\n",
      "  File \"/home/spuser/.conda/envs/yanpan/lib/python3.11/site-packages/ultralytics/utils/ops.py\", line 671, in process_mask\n",
      "    c, mh, mw = protos.shape  # CHW\n",
      "    ^^^^^^^^^\n",
      "ValueError: too many values to unpack (expected 3)\n",
      "Traceback (most recent call last):\n",
      "  File \"/tmp/ipykernel_2239786/1301476628.py\", line 65, in main\n",
      "    for result in results_generator:\n",
      "  File \"/home/spuser/.conda/envs/yanpan/lib/python3.11/site-packages/torch/utils/_contextlib.py\", line 36, in generator_context\n",
      "    response = gen.send(None)\n",
      "               ^^^^^^^^^^^^^^\n",
      "  File \"/home/spuser/.conda/envs/yanpan/lib/python3.11/site-packages/ultralytics/engine/predictor.py\", line 266, in stream_inference\n",
      "    self.results = self.postprocess(preds, im, im0s)\n",
      "                   ^^^^^^^^^^^^^^^^^^^^^^^^^^^^^^^^^\n",
      "  File \"/home/spuser/.conda/envs/yanpan/lib/python3.11/site-packages/ultralytics/models/yolo/segment/predict.py\", line 52, in postprocess\n",
      "    masks = ops.process_mask(proto[i], pred[:, 6:], pred[:, :4], img.shape[2:], upsample=True)  # HWC\n",
      "            ^^^^^^^^^^^^^^^^^^^^^^^^^^^^^^^^^^^^^^^^^^^^^^^^^^^^^^^^^^^^^^^^^^^^^^^^^^^^^^^^^^\n",
      "  File \"/home/spuser/.conda/envs/yanpan/lib/python3.11/site-packages/ultralytics/utils/ops.py\", line 671, in process_mask\n",
      "    c, mh, mw = protos.shape  # CHW\n",
      "    ^^^^^^^^^\n",
      "ValueError: too many values to unpack (expected 3)\n",
      "Traceback (most recent call last):\n",
      "  File \"/tmp/ipykernel_2239786/1301476628.py\", line 65, in main\n",
      "    for result in results_generator:\n",
      "  File \"/home/spuser/.conda/envs/yanpan/lib/python3.11/site-packages/torch/utils/_contextlib.py\", line 36, in generator_context\n",
      "    response = gen.send(None)\n",
      "               ^^^^^^^^^^^^^^\n",
      "  File \"/home/spuser/.conda/envs/yanpan/lib/python3.11/site-packages/ultralytics/engine/predictor.py\", line 266, in stream_inference\n",
      "    self.results = self.postprocess(preds, im, im0s)\n",
      "                   ^^^^^^^^^^^^^^^^^^^^^^^^^^^^^^^^^\n",
      "  File \"/home/spuser/.conda/envs/yanpan/lib/python3.11/site-packages/ultralytics/models/yolo/segment/predict.py\", line 52, in postprocess\n",
      "    masks = ops.process_mask(proto[i], pred[:, 6:], pred[:, :4], img.shape[2:], upsample=True)  # HWC\n",
      "            ^^^^^^^^^^^^^^^^^^^^^^^^^^^^^^^^^^^^^^^^^^^^^^^^^^^^^^^^^^^^^^^^^^^^^^^^^^^^^^^^^^\n",
      "  File \"/home/spuser/.conda/envs/yanpan/lib/python3.11/site-packages/ultralytics/utils/ops.py\", line 671, in process_mask\n",
      "    c, mh, mw = protos.shape  # CHW\n",
      "    ^^^^^^^^^\n",
      "ValueError: too many values to unpack (expected 3)\n",
      "Traceback (most recent call last):\n",
      "  File \"/tmp/ipykernel_2239786/1301476628.py\", line 65, in main\n",
      "    for result in results_generator:\n",
      "  File \"/home/spuser/.conda/envs/yanpan/lib/python3.11/site-packages/torch/utils/_contextlib.py\", line 36, in generator_context\n",
      "    response = gen.send(None)\n",
      "               ^^^^^^^^^^^^^^\n",
      "  File \"/home/spuser/.conda/envs/yanpan/lib/python3.11/site-packages/ultralytics/engine/predictor.py\", line 266, in stream_inference\n",
      "    self.results = self.postprocess(preds, im, im0s)\n",
      "                   ^^^^^^^^^^^^^^^^^^^^^^^^^^^^^^^^^\n",
      "  File \"/home/spuser/.conda/envs/yanpan/lib/python3.11/site-packages/ultralytics/models/yolo/segment/predict.py\", line 52, in postprocess\n",
      "    masks = ops.process_mask(proto[i], pred[:, 6:], pred[:, :4], img.shape[2:], upsample=True)  # HWC\n",
      "            ^^^^^^^^^^^^^^^^^^^^^^^^^^^^^^^^^^^^^^^^^^^^^^^^^^^^^^^^^^^^^^^^^^^^^^^^^^^^^^^^^^\n",
      "  File \"/home/spuser/.conda/envs/yanpan/lib/python3.11/site-packages/ultralytics/utils/ops.py\", line 671, in process_mask\n",
      "    c, mh, mw = protos.shape  # CHW\n",
      "    ^^^^^^^^^\n",
      "ValueError: too many values to unpack (expected 3)\n",
      "Traceback (most recent call last):\n",
      "  File \"/tmp/ipykernel_2239786/1301476628.py\", line 65, in main\n",
      "    for result in results_generator:\n",
      "  File \"/home/spuser/.conda/envs/yanpan/lib/python3.11/site-packages/torch/utils/_contextlib.py\", line 36, in generator_context\n",
      "    response = gen.send(None)\n",
      "               ^^^^^^^^^^^^^^\n",
      "  File \"/home/spuser/.conda/envs/yanpan/lib/python3.11/site-packages/ultralytics/engine/predictor.py\", line 266, in stream_inference\n",
      "    self.results = self.postprocess(preds, im, im0s)\n",
      "                   ^^^^^^^^^^^^^^^^^^^^^^^^^^^^^^^^^\n",
      "  File \"/home/spuser/.conda/envs/yanpan/lib/python3.11/site-packages/ultralytics/models/yolo/segment/predict.py\", line 52, in postprocess\n",
      "    masks = ops.process_mask(proto[i], pred[:, 6:], pred[:, :4], img.shape[2:], upsample=True)  # HWC\n",
      "            ^^^^^^^^^^^^^^^^^^^^^^^^^^^^^^^^^^^^^^^^^^^^^^^^^^^^^^^^^^^^^^^^^^^^^^^^^^^^^^^^^^\n",
      "  File \"/home/spuser/.conda/envs/yanpan/lib/python3.11/site-packages/ultralytics/utils/ops.py\", line 671, in process_mask\n",
      "    c, mh, mw = protos.shape  # CHW\n",
      "    ^^^^^^^^^\n",
      "ValueError: too many values to unpack (expected 3)\n"
     ]
    },
    {
     "name": "stdout",
     "output_type": "stream",
     "text": [
      "Error processing frame 38: too many values to unpack (expected 3)\n",
      "Frame shape: (640, 640, 3), dtype: uint8\n",
      "\n",
      "Error processing frame 39: too many values to unpack (expected 3)\n",
      "Frame shape: (640, 640, 3), dtype: uint8\n",
      "\n",
      "Error processing frame 40: too many values to unpack (expected 3)\n",
      "Frame shape: (640, 640, 3), dtype: uint8\n",
      "\n",
      "Error processing frame 41: too many values to unpack (expected 3)\n",
      "Frame shape: (640, 640, 3), dtype: uint8\n",
      "\n",
      "Error processing frame 42: too many values to unpack (expected 3)\n",
      "Frame shape: (640, 640, 3), dtype: uint8\n",
      "\n",
      "Error processing frame 43: too many values to unpack (expected 3)\n",
      "Frame shape: (640, 640, 3), dtype: uint8\n",
      "\n",
      "Error processing frame 44: too many values to unpack (expected 3)\n",
      "Frame shape: (640, 640, 3), dtype: uint8\n",
      "\n",
      "Error processing frame 45: too many values to unpack (expected 3)\n",
      "Frame shape: (640, 640, 3), dtype: uint8\n",
      "\n",
      "Error processing frame 46: too many values to unpack (expected 3)\n",
      "Frame shape: (640, 640, 3), dtype: uint8\n",
      "\n",
      "Error processing frame 47: too many values to unpack (expected 3)\n",
      "Frame shape: (640, 640, 3), dtype: uint8\n",
      "\n",
      "Error processing frame 48: too many values to unpack (expected 3)\n",
      "Frame shape: (640, 640, 3), dtype: uint8\n",
      "\n",
      "Error processing frame 49: too many values to unpack (expected 3)\n",
      "Frame shape: (640, 640, 3), dtype: uint8\n",
      "\n",
      "Error processing frame 50: too many values to unpack (expected 3)\n",
      "Frame shape: (640, 640, 3), dtype: uint8\n",
      "\n"
     ]
    },
    {
     "name": "stderr",
     "output_type": "stream",
     "text": [
      "Traceback (most recent call last):\n",
      "  File \"/tmp/ipykernel_2239786/1301476628.py\", line 65, in main\n",
      "    for result in results_generator:\n",
      "  File \"/home/spuser/.conda/envs/yanpan/lib/python3.11/site-packages/torch/utils/_contextlib.py\", line 36, in generator_context\n",
      "    response = gen.send(None)\n",
      "               ^^^^^^^^^^^^^^\n",
      "  File \"/home/spuser/.conda/envs/yanpan/lib/python3.11/site-packages/ultralytics/engine/predictor.py\", line 266, in stream_inference\n",
      "    self.results = self.postprocess(preds, im, im0s)\n",
      "                   ^^^^^^^^^^^^^^^^^^^^^^^^^^^^^^^^^\n",
      "  File \"/home/spuser/.conda/envs/yanpan/lib/python3.11/site-packages/ultralytics/models/yolo/segment/predict.py\", line 52, in postprocess\n",
      "    masks = ops.process_mask(proto[i], pred[:, 6:], pred[:, :4], img.shape[2:], upsample=True)  # HWC\n",
      "            ^^^^^^^^^^^^^^^^^^^^^^^^^^^^^^^^^^^^^^^^^^^^^^^^^^^^^^^^^^^^^^^^^^^^^^^^^^^^^^^^^^\n",
      "  File \"/home/spuser/.conda/envs/yanpan/lib/python3.11/site-packages/ultralytics/utils/ops.py\", line 671, in process_mask\n",
      "    c, mh, mw = protos.shape  # CHW\n",
      "    ^^^^^^^^^\n",
      "ValueError: too many values to unpack (expected 3)\n",
      "Traceback (most recent call last):\n",
      "  File \"/tmp/ipykernel_2239786/1301476628.py\", line 65, in main\n",
      "    for result in results_generator:\n",
      "  File \"/home/spuser/.conda/envs/yanpan/lib/python3.11/site-packages/torch/utils/_contextlib.py\", line 36, in generator_context\n",
      "    response = gen.send(None)\n",
      "               ^^^^^^^^^^^^^^\n",
      "  File \"/home/spuser/.conda/envs/yanpan/lib/python3.11/site-packages/ultralytics/engine/predictor.py\", line 266, in stream_inference\n",
      "    self.results = self.postprocess(preds, im, im0s)\n",
      "                   ^^^^^^^^^^^^^^^^^^^^^^^^^^^^^^^^^\n",
      "  File \"/home/spuser/.conda/envs/yanpan/lib/python3.11/site-packages/ultralytics/models/yolo/segment/predict.py\", line 52, in postprocess\n",
      "    masks = ops.process_mask(proto[i], pred[:, 6:], pred[:, :4], img.shape[2:], upsample=True)  # HWC\n",
      "            ^^^^^^^^^^^^^^^^^^^^^^^^^^^^^^^^^^^^^^^^^^^^^^^^^^^^^^^^^^^^^^^^^^^^^^^^^^^^^^^^^^\n",
      "  File \"/home/spuser/.conda/envs/yanpan/lib/python3.11/site-packages/ultralytics/utils/ops.py\", line 671, in process_mask\n",
      "    c, mh, mw = protos.shape  # CHW\n",
      "    ^^^^^^^^^\n",
      "ValueError: too many values to unpack (expected 3)\n",
      "Traceback (most recent call last):\n",
      "  File \"/tmp/ipykernel_2239786/1301476628.py\", line 65, in main\n",
      "    for result in results_generator:\n",
      "  File \"/home/spuser/.conda/envs/yanpan/lib/python3.11/site-packages/torch/utils/_contextlib.py\", line 36, in generator_context\n",
      "    response = gen.send(None)\n",
      "               ^^^^^^^^^^^^^^\n",
      "  File \"/home/spuser/.conda/envs/yanpan/lib/python3.11/site-packages/ultralytics/engine/predictor.py\", line 266, in stream_inference\n",
      "    self.results = self.postprocess(preds, im, im0s)\n",
      "                   ^^^^^^^^^^^^^^^^^^^^^^^^^^^^^^^^^\n",
      "  File \"/home/spuser/.conda/envs/yanpan/lib/python3.11/site-packages/ultralytics/models/yolo/segment/predict.py\", line 52, in postprocess\n",
      "    masks = ops.process_mask(proto[i], pred[:, 6:], pred[:, :4], img.shape[2:], upsample=True)  # HWC\n",
      "            ^^^^^^^^^^^^^^^^^^^^^^^^^^^^^^^^^^^^^^^^^^^^^^^^^^^^^^^^^^^^^^^^^^^^^^^^^^^^^^^^^^\n",
      "  File \"/home/spuser/.conda/envs/yanpan/lib/python3.11/site-packages/ultralytics/utils/ops.py\", line 671, in process_mask\n",
      "    c, mh, mw = protos.shape  # CHW\n",
      "    ^^^^^^^^^\n",
      "ValueError: too many values to unpack (expected 3)\n",
      "Traceback (most recent call last):\n",
      "  File \"/tmp/ipykernel_2239786/1301476628.py\", line 65, in main\n",
      "    for result in results_generator:\n",
      "  File \"/home/spuser/.conda/envs/yanpan/lib/python3.11/site-packages/torch/utils/_contextlib.py\", line 36, in generator_context\n",
      "    response = gen.send(None)\n",
      "               ^^^^^^^^^^^^^^\n",
      "  File \"/home/spuser/.conda/envs/yanpan/lib/python3.11/site-packages/ultralytics/engine/predictor.py\", line 266, in stream_inference\n",
      "    self.results = self.postprocess(preds, im, im0s)\n",
      "                   ^^^^^^^^^^^^^^^^^^^^^^^^^^^^^^^^^\n",
      "  File \"/home/spuser/.conda/envs/yanpan/lib/python3.11/site-packages/ultralytics/models/yolo/segment/predict.py\", line 52, in postprocess\n",
      "    masks = ops.process_mask(proto[i], pred[:, 6:], pred[:, :4], img.shape[2:], upsample=True)  # HWC\n",
      "            ^^^^^^^^^^^^^^^^^^^^^^^^^^^^^^^^^^^^^^^^^^^^^^^^^^^^^^^^^^^^^^^^^^^^^^^^^^^^^^^^^^\n",
      "  File \"/home/spuser/.conda/envs/yanpan/lib/python3.11/site-packages/ultralytics/utils/ops.py\", line 671, in process_mask\n",
      "    c, mh, mw = protos.shape  # CHW\n",
      "    ^^^^^^^^^\n",
      "ValueError: too many values to unpack (expected 3)\n",
      "Traceback (most recent call last):\n",
      "  File \"/tmp/ipykernel_2239786/1301476628.py\", line 65, in main\n",
      "    for result in results_generator:\n",
      "  File \"/home/spuser/.conda/envs/yanpan/lib/python3.11/site-packages/torch/utils/_contextlib.py\", line 36, in generator_context\n",
      "    response = gen.send(None)\n",
      "               ^^^^^^^^^^^^^^\n",
      "  File \"/home/spuser/.conda/envs/yanpan/lib/python3.11/site-packages/ultralytics/engine/predictor.py\", line 266, in stream_inference\n",
      "    self.results = self.postprocess(preds, im, im0s)\n",
      "                   ^^^^^^^^^^^^^^^^^^^^^^^^^^^^^^^^^\n",
      "  File \"/home/spuser/.conda/envs/yanpan/lib/python3.11/site-packages/ultralytics/models/yolo/segment/predict.py\", line 52, in postprocess\n",
      "    masks = ops.process_mask(proto[i], pred[:, 6:], pred[:, :4], img.shape[2:], upsample=True)  # HWC\n",
      "            ^^^^^^^^^^^^^^^^^^^^^^^^^^^^^^^^^^^^^^^^^^^^^^^^^^^^^^^^^^^^^^^^^^^^^^^^^^^^^^^^^^\n",
      "  File \"/home/spuser/.conda/envs/yanpan/lib/python3.11/site-packages/ultralytics/utils/ops.py\", line 671, in process_mask\n",
      "    c, mh, mw = protos.shape  # CHW\n",
      "    ^^^^^^^^^\n",
      "ValueError: too many values to unpack (expected 3)\n",
      "Traceback (most recent call last):\n",
      "  File \"/tmp/ipykernel_2239786/1301476628.py\", line 65, in main\n",
      "    for result in results_generator:\n",
      "  File \"/home/spuser/.conda/envs/yanpan/lib/python3.11/site-packages/torch/utils/_contextlib.py\", line 36, in generator_context\n",
      "    response = gen.send(None)\n",
      "               ^^^^^^^^^^^^^^\n",
      "  File \"/home/spuser/.conda/envs/yanpan/lib/python3.11/site-packages/ultralytics/engine/predictor.py\", line 266, in stream_inference\n",
      "    self.results = self.postprocess(preds, im, im0s)\n",
      "                   ^^^^^^^^^^^^^^^^^^^^^^^^^^^^^^^^^\n",
      "  File \"/home/spuser/.conda/envs/yanpan/lib/python3.11/site-packages/ultralytics/models/yolo/segment/predict.py\", line 52, in postprocess\n",
      "    masks = ops.process_mask(proto[i], pred[:, 6:], pred[:, :4], img.shape[2:], upsample=True)  # HWC\n",
      "            ^^^^^^^^^^^^^^^^^^^^^^^^^^^^^^^^^^^^^^^^^^^^^^^^^^^^^^^^^^^^^^^^^^^^^^^^^^^^^^^^^^\n",
      "  File \"/home/spuser/.conda/envs/yanpan/lib/python3.11/site-packages/ultralytics/utils/ops.py\", line 671, in process_mask\n",
      "    c, mh, mw = protos.shape  # CHW\n",
      "    ^^^^^^^^^\n",
      "ValueError: too many values to unpack (expected 3)\n",
      "Traceback (most recent call last):\n",
      "  File \"/tmp/ipykernel_2239786/1301476628.py\", line 65, in main\n",
      "    for result in results_generator:\n",
      "  File \"/home/spuser/.conda/envs/yanpan/lib/python3.11/site-packages/torch/utils/_contextlib.py\", line 36, in generator_context\n",
      "    response = gen.send(None)\n",
      "               ^^^^^^^^^^^^^^\n",
      "  File \"/home/spuser/.conda/envs/yanpan/lib/python3.11/site-packages/ultralytics/engine/predictor.py\", line 266, in stream_inference\n",
      "    self.results = self.postprocess(preds, im, im0s)\n",
      "                   ^^^^^^^^^^^^^^^^^^^^^^^^^^^^^^^^^\n",
      "  File \"/home/spuser/.conda/envs/yanpan/lib/python3.11/site-packages/ultralytics/models/yolo/segment/predict.py\", line 52, in postprocess\n",
      "    masks = ops.process_mask(proto[i], pred[:, 6:], pred[:, :4], img.shape[2:], upsample=True)  # HWC\n",
      "            ^^^^^^^^^^^^^^^^^^^^^^^^^^^^^^^^^^^^^^^^^^^^^^^^^^^^^^^^^^^^^^^^^^^^^^^^^^^^^^^^^^\n",
      "  File \"/home/spuser/.conda/envs/yanpan/lib/python3.11/site-packages/ultralytics/utils/ops.py\", line 671, in process_mask\n",
      "    c, mh, mw = protos.shape  # CHW\n",
      "    ^^^^^^^^^\n",
      "ValueError: too many values to unpack (expected 3)\n",
      "Traceback (most recent call last):\n",
      "  File \"/tmp/ipykernel_2239786/1301476628.py\", line 65, in main\n",
      "    for result in results_generator:\n",
      "  File \"/home/spuser/.conda/envs/yanpan/lib/python3.11/site-packages/torch/utils/_contextlib.py\", line 36, in generator_context\n",
      "    response = gen.send(None)\n",
      "               ^^^^^^^^^^^^^^\n",
      "  File \"/home/spuser/.conda/envs/yanpan/lib/python3.11/site-packages/ultralytics/engine/predictor.py\", line 266, in stream_inference\n",
      "    self.results = self.postprocess(preds, im, im0s)\n",
      "                   ^^^^^^^^^^^^^^^^^^^^^^^^^^^^^^^^^\n",
      "  File \"/home/spuser/.conda/envs/yanpan/lib/python3.11/site-packages/ultralytics/models/yolo/segment/predict.py\", line 52, in postprocess\n",
      "    masks = ops.process_mask(proto[i], pred[:, 6:], pred[:, :4], img.shape[2:], upsample=True)  # HWC\n",
      "            ^^^^^^^^^^^^^^^^^^^^^^^^^^^^^^^^^^^^^^^^^^^^^^^^^^^^^^^^^^^^^^^^^^^^^^^^^^^^^^^^^^\n",
      "  File \"/home/spuser/.conda/envs/yanpan/lib/python3.11/site-packages/ultralytics/utils/ops.py\", line 671, in process_mask\n",
      "    c, mh, mw = protos.shape  # CHW\n",
      "    ^^^^^^^^^\n",
      "ValueError: too many values to unpack (expected 3)\n",
      "Traceback (most recent call last):\n",
      "  File \"/tmp/ipykernel_2239786/1301476628.py\", line 65, in main\n",
      "    for result in results_generator:\n",
      "  File \"/home/spuser/.conda/envs/yanpan/lib/python3.11/site-packages/torch/utils/_contextlib.py\", line 36, in generator_context\n",
      "    response = gen.send(None)\n",
      "               ^^^^^^^^^^^^^^\n",
      "  File \"/home/spuser/.conda/envs/yanpan/lib/python3.11/site-packages/ultralytics/engine/predictor.py\", line 266, in stream_inference\n",
      "    self.results = self.postprocess(preds, im, im0s)\n",
      "                   ^^^^^^^^^^^^^^^^^^^^^^^^^^^^^^^^^\n",
      "  File \"/home/spuser/.conda/envs/yanpan/lib/python3.11/site-packages/ultralytics/models/yolo/segment/predict.py\", line 52, in postprocess\n",
      "    masks = ops.process_mask(proto[i], pred[:, 6:], pred[:, :4], img.shape[2:], upsample=True)  # HWC\n",
      "            ^^^^^^^^^^^^^^^^^^^^^^^^^^^^^^^^^^^^^^^^^^^^^^^^^^^^^^^^^^^^^^^^^^^^^^^^^^^^^^^^^^\n",
      "  File \"/home/spuser/.conda/envs/yanpan/lib/python3.11/site-packages/ultralytics/utils/ops.py\", line 671, in process_mask\n",
      "    c, mh, mw = protos.shape  # CHW\n",
      "    ^^^^^^^^^\n",
      "ValueError: too many values to unpack (expected 3)\n",
      "Traceback (most recent call last):\n",
      "  File \"/tmp/ipykernel_2239786/1301476628.py\", line 65, in main\n",
      "    for result in results_generator:\n",
      "  File \"/home/spuser/.conda/envs/yanpan/lib/python3.11/site-packages/torch/utils/_contextlib.py\", line 36, in generator_context\n",
      "    response = gen.send(None)\n",
      "               ^^^^^^^^^^^^^^\n",
      "  File \"/home/spuser/.conda/envs/yanpan/lib/python3.11/site-packages/ultralytics/engine/predictor.py\", line 266, in stream_inference\n",
      "    self.results = self.postprocess(preds, im, im0s)\n",
      "                   ^^^^^^^^^^^^^^^^^^^^^^^^^^^^^^^^^\n",
      "  File \"/home/spuser/.conda/envs/yanpan/lib/python3.11/site-packages/ultralytics/models/yolo/segment/predict.py\", line 52, in postprocess\n",
      "    masks = ops.process_mask(proto[i], pred[:, 6:], pred[:, :4], img.shape[2:], upsample=True)  # HWC\n",
      "            ^^^^^^^^^^^^^^^^^^^^^^^^^^^^^^^^^^^^^^^^^^^^^^^^^^^^^^^^^^^^^^^^^^^^^^^^^^^^^^^^^^\n",
      "  File \"/home/spuser/.conda/envs/yanpan/lib/python3.11/site-packages/ultralytics/utils/ops.py\", line 671, in process_mask\n",
      "    c, mh, mw = protos.shape  # CHW\n",
      "    ^^^^^^^^^\n",
      "ValueError: too many values to unpack (expected 3)\n",
      "Traceback (most recent call last):\n",
      "  File \"/tmp/ipykernel_2239786/1301476628.py\", line 65, in main\n",
      "    for result in results_generator:\n",
      "  File \"/home/spuser/.conda/envs/yanpan/lib/python3.11/site-packages/torch/utils/_contextlib.py\", line 36, in generator_context\n",
      "    response = gen.send(None)\n",
      "               ^^^^^^^^^^^^^^\n",
      "  File \"/home/spuser/.conda/envs/yanpan/lib/python3.11/site-packages/ultralytics/engine/predictor.py\", line 266, in stream_inference\n",
      "    self.results = self.postprocess(preds, im, im0s)\n",
      "                   ^^^^^^^^^^^^^^^^^^^^^^^^^^^^^^^^^\n",
      "  File \"/home/spuser/.conda/envs/yanpan/lib/python3.11/site-packages/ultralytics/models/yolo/segment/predict.py\", line 52, in postprocess\n",
      "    masks = ops.process_mask(proto[i], pred[:, 6:], pred[:, :4], img.shape[2:], upsample=True)  # HWC\n",
      "            ^^^^^^^^^^^^^^^^^^^^^^^^^^^^^^^^^^^^^^^^^^^^^^^^^^^^^^^^^^^^^^^^^^^^^^^^^^^^^^^^^^\n",
      "  File \"/home/spuser/.conda/envs/yanpan/lib/python3.11/site-packages/ultralytics/utils/ops.py\", line 671, in process_mask\n",
      "    c, mh, mw = protos.shape  # CHW\n",
      "    ^^^^^^^^^\n",
      "ValueError: too many values to unpack (expected 3)\n",
      "Traceback (most recent call last):\n",
      "  File \"/tmp/ipykernel_2239786/1301476628.py\", line 65, in main\n",
      "    for result in results_generator:\n",
      "  File \"/home/spuser/.conda/envs/yanpan/lib/python3.11/site-packages/torch/utils/_contextlib.py\", line 36, in generator_context\n",
      "    response = gen.send(None)\n",
      "               ^^^^^^^^^^^^^^\n",
      "  File \"/home/spuser/.conda/envs/yanpan/lib/python3.11/site-packages/ultralytics/engine/predictor.py\", line 266, in stream_inference\n",
      "    self.results = self.postprocess(preds, im, im0s)\n",
      "                   ^^^^^^^^^^^^^^^^^^^^^^^^^^^^^^^^^\n",
      "  File \"/home/spuser/.conda/envs/yanpan/lib/python3.11/site-packages/ultralytics/models/yolo/segment/predict.py\", line 52, in postprocess\n",
      "    masks = ops.process_mask(proto[i], pred[:, 6:], pred[:, :4], img.shape[2:], upsample=True)  # HWC\n",
      "            ^^^^^^^^^^^^^^^^^^^^^^^^^^^^^^^^^^^^^^^^^^^^^^^^^^^^^^^^^^^^^^^^^^^^^^^^^^^^^^^^^^\n",
      "  File \"/home/spuser/.conda/envs/yanpan/lib/python3.11/site-packages/ultralytics/utils/ops.py\", line 671, in process_mask\n",
      "    c, mh, mw = protos.shape  # CHW\n",
      "    ^^^^^^^^^\n",
      "ValueError: too many values to unpack (expected 3)\n",
      "Traceback (most recent call last):\n",
      "  File \"/tmp/ipykernel_2239786/1301476628.py\", line 65, in main\n",
      "    for result in results_generator:\n",
      "  File \"/home/spuser/.conda/envs/yanpan/lib/python3.11/site-packages/torch/utils/_contextlib.py\", line 36, in generator_context\n",
      "    response = gen.send(None)\n",
      "               ^^^^^^^^^^^^^^\n",
      "  File \"/home/spuser/.conda/envs/yanpan/lib/python3.11/site-packages/ultralytics/engine/predictor.py\", line 266, in stream_inference\n",
      "    self.results = self.postprocess(preds, im, im0s)\n",
      "                   ^^^^^^^^^^^^^^^^^^^^^^^^^^^^^^^^^\n",
      "  File \"/home/spuser/.conda/envs/yanpan/lib/python3.11/site-packages/ultralytics/models/yolo/segment/predict.py\", line 52, in postprocess\n",
      "    masks = ops.process_mask(proto[i], pred[:, 6:], pred[:, :4], img.shape[2:], upsample=True)  # HWC\n",
      "            ^^^^^^^^^^^^^^^^^^^^^^^^^^^^^^^^^^^^^^^^^^^^^^^^^^^^^^^^^^^^^^^^^^^^^^^^^^^^^^^^^^\n",
      "  File \"/home/spuser/.conda/envs/yanpan/lib/python3.11/site-packages/ultralytics/utils/ops.py\", line 671, in process_mask\n",
      "    c, mh, mw = protos.shape  # CHW\n",
      "    ^^^^^^^^^\n",
      "ValueError: too many values to unpack (expected 3)\n"
     ]
    },
    {
     "name": "stdout",
     "output_type": "stream",
     "text": [
      "Error processing frame 51: too many values to unpack (expected 3)\n",
      "Frame shape: (640, 640, 3), dtype: uint8\n",
      "\n",
      "Error processing frame 52: too many values to unpack (expected 3)\n",
      "Frame shape: (640, 640, 3), dtype: uint8\n",
      "\n",
      "Error processing frame 53: too many values to unpack (expected 3)\n",
      "Frame shape: (640, 640, 3), dtype: uint8\n",
      "\n",
      "Error processing frame 54: too many values to unpack (expected 3)\n",
      "Frame shape: (640, 640, 3), dtype: uint8\n",
      "\n",
      "Error processing frame 55: too many values to unpack (expected 3)\n",
      "Frame shape: (640, 640, 3), dtype: uint8\n",
      "\n",
      "Error processing frame 56: too many values to unpack (expected 3)\n",
      "Frame shape: (640, 640, 3), dtype: uint8\n",
      "\n",
      "Error processing frame 57: too many values to unpack (expected 3)\n",
      "Frame shape: (640, 640, 3), dtype: uint8\n",
      "\n",
      "Error processing frame 58: too many values to unpack (expected 3)\n",
      "Frame shape: (640, 640, 3), dtype: uint8\n",
      "\n",
      "Error processing frame 59: too many values to unpack (expected 3)\n",
      "Frame shape: (640, 640, 3), dtype: uint8\n",
      "\n",
      "Error processing frame 60: too many values to unpack (expected 3)\n",
      "Frame shape: (640, 640, 3), dtype: uint8\n",
      "\n",
      "Error processing frame 61: too many values to unpack (expected 3)\n",
      "Frame shape: (640, 640, 3), dtype: uint8\n",
      "\n"
     ]
    },
    {
     "name": "stderr",
     "output_type": "stream",
     "text": [
      "Traceback (most recent call last):\n",
      "  File \"/tmp/ipykernel_2239786/1301476628.py\", line 65, in main\n",
      "    for result in results_generator:\n",
      "  File \"/home/spuser/.conda/envs/yanpan/lib/python3.11/site-packages/torch/utils/_contextlib.py\", line 36, in generator_context\n",
      "    response = gen.send(None)\n",
      "               ^^^^^^^^^^^^^^\n",
      "  File \"/home/spuser/.conda/envs/yanpan/lib/python3.11/site-packages/ultralytics/engine/predictor.py\", line 266, in stream_inference\n",
      "    self.results = self.postprocess(preds, im, im0s)\n",
      "                   ^^^^^^^^^^^^^^^^^^^^^^^^^^^^^^^^^\n",
      "  File \"/home/spuser/.conda/envs/yanpan/lib/python3.11/site-packages/ultralytics/models/yolo/segment/predict.py\", line 52, in postprocess\n",
      "    masks = ops.process_mask(proto[i], pred[:, 6:], pred[:, :4], img.shape[2:], upsample=True)  # HWC\n",
      "            ^^^^^^^^^^^^^^^^^^^^^^^^^^^^^^^^^^^^^^^^^^^^^^^^^^^^^^^^^^^^^^^^^^^^^^^^^^^^^^^^^^\n",
      "  File \"/home/spuser/.conda/envs/yanpan/lib/python3.11/site-packages/ultralytics/utils/ops.py\", line 671, in process_mask\n",
      "    c, mh, mw = protos.shape  # CHW\n",
      "    ^^^^^^^^^\n",
      "ValueError: too many values to unpack (expected 3)\n",
      "Traceback (most recent call last):\n",
      "  File \"/tmp/ipykernel_2239786/1301476628.py\", line 65, in main\n",
      "    for result in results_generator:\n",
      "  File \"/home/spuser/.conda/envs/yanpan/lib/python3.11/site-packages/torch/utils/_contextlib.py\", line 36, in generator_context\n",
      "    response = gen.send(None)\n",
      "               ^^^^^^^^^^^^^^\n",
      "  File \"/home/spuser/.conda/envs/yanpan/lib/python3.11/site-packages/ultralytics/engine/predictor.py\", line 266, in stream_inference\n",
      "    self.results = self.postprocess(preds, im, im0s)\n",
      "                   ^^^^^^^^^^^^^^^^^^^^^^^^^^^^^^^^^\n",
      "  File \"/home/spuser/.conda/envs/yanpan/lib/python3.11/site-packages/ultralytics/models/yolo/segment/predict.py\", line 52, in postprocess\n",
      "    masks = ops.process_mask(proto[i], pred[:, 6:], pred[:, :4], img.shape[2:], upsample=True)  # HWC\n",
      "            ^^^^^^^^^^^^^^^^^^^^^^^^^^^^^^^^^^^^^^^^^^^^^^^^^^^^^^^^^^^^^^^^^^^^^^^^^^^^^^^^^^\n",
      "  File \"/home/spuser/.conda/envs/yanpan/lib/python3.11/site-packages/ultralytics/utils/ops.py\", line 671, in process_mask\n",
      "    c, mh, mw = protos.shape  # CHW\n",
      "    ^^^^^^^^^\n",
      "ValueError: too many values to unpack (expected 3)\n",
      "Traceback (most recent call last):\n",
      "  File \"/tmp/ipykernel_2239786/1301476628.py\", line 65, in main\n",
      "    for result in results_generator:\n",
      "  File \"/home/spuser/.conda/envs/yanpan/lib/python3.11/site-packages/torch/utils/_contextlib.py\", line 36, in generator_context\n",
      "    response = gen.send(None)\n",
      "               ^^^^^^^^^^^^^^\n",
      "  File \"/home/spuser/.conda/envs/yanpan/lib/python3.11/site-packages/ultralytics/engine/predictor.py\", line 266, in stream_inference\n",
      "    self.results = self.postprocess(preds, im, im0s)\n",
      "                   ^^^^^^^^^^^^^^^^^^^^^^^^^^^^^^^^^\n",
      "  File \"/home/spuser/.conda/envs/yanpan/lib/python3.11/site-packages/ultralytics/models/yolo/segment/predict.py\", line 52, in postprocess\n",
      "    masks = ops.process_mask(proto[i], pred[:, 6:], pred[:, :4], img.shape[2:], upsample=True)  # HWC\n",
      "            ^^^^^^^^^^^^^^^^^^^^^^^^^^^^^^^^^^^^^^^^^^^^^^^^^^^^^^^^^^^^^^^^^^^^^^^^^^^^^^^^^^\n",
      "  File \"/home/spuser/.conda/envs/yanpan/lib/python3.11/site-packages/ultralytics/utils/ops.py\", line 671, in process_mask\n",
      "    c, mh, mw = protos.shape  # CHW\n",
      "    ^^^^^^^^^\n",
      "ValueError: too many values to unpack (expected 3)\n",
      "Traceback (most recent call last):\n",
      "  File \"/tmp/ipykernel_2239786/1301476628.py\", line 65, in main\n",
      "    for result in results_generator:\n",
      "  File \"/home/spuser/.conda/envs/yanpan/lib/python3.11/site-packages/torch/utils/_contextlib.py\", line 36, in generator_context\n",
      "    response = gen.send(None)\n",
      "               ^^^^^^^^^^^^^^\n",
      "  File \"/home/spuser/.conda/envs/yanpan/lib/python3.11/site-packages/ultralytics/engine/predictor.py\", line 266, in stream_inference\n",
      "    self.results = self.postprocess(preds, im, im0s)\n",
      "                   ^^^^^^^^^^^^^^^^^^^^^^^^^^^^^^^^^\n",
      "  File \"/home/spuser/.conda/envs/yanpan/lib/python3.11/site-packages/ultralytics/models/yolo/segment/predict.py\", line 52, in postprocess\n",
      "    masks = ops.process_mask(proto[i], pred[:, 6:], pred[:, :4], img.shape[2:], upsample=True)  # HWC\n",
      "            ^^^^^^^^^^^^^^^^^^^^^^^^^^^^^^^^^^^^^^^^^^^^^^^^^^^^^^^^^^^^^^^^^^^^^^^^^^^^^^^^^^\n",
      "  File \"/home/spuser/.conda/envs/yanpan/lib/python3.11/site-packages/ultralytics/utils/ops.py\", line 671, in process_mask\n",
      "    c, mh, mw = protos.shape  # CHW\n",
      "    ^^^^^^^^^\n",
      "ValueError: too many values to unpack (expected 3)\n",
      "Traceback (most recent call last):\n",
      "  File \"/tmp/ipykernel_2239786/1301476628.py\", line 65, in main\n",
      "    for result in results_generator:\n",
      "  File \"/home/spuser/.conda/envs/yanpan/lib/python3.11/site-packages/torch/utils/_contextlib.py\", line 36, in generator_context\n",
      "    response = gen.send(None)\n",
      "               ^^^^^^^^^^^^^^\n",
      "  File \"/home/spuser/.conda/envs/yanpan/lib/python3.11/site-packages/ultralytics/engine/predictor.py\", line 266, in stream_inference\n",
      "    self.results = self.postprocess(preds, im, im0s)\n",
      "                   ^^^^^^^^^^^^^^^^^^^^^^^^^^^^^^^^^\n",
      "  File \"/home/spuser/.conda/envs/yanpan/lib/python3.11/site-packages/ultralytics/models/yolo/segment/predict.py\", line 52, in postprocess\n",
      "    masks = ops.process_mask(proto[i], pred[:, 6:], pred[:, :4], img.shape[2:], upsample=True)  # HWC\n",
      "            ^^^^^^^^^^^^^^^^^^^^^^^^^^^^^^^^^^^^^^^^^^^^^^^^^^^^^^^^^^^^^^^^^^^^^^^^^^^^^^^^^^\n",
      "  File \"/home/spuser/.conda/envs/yanpan/lib/python3.11/site-packages/ultralytics/utils/ops.py\", line 671, in process_mask\n",
      "    c, mh, mw = protos.shape  # CHW\n",
      "    ^^^^^^^^^\n",
      "ValueError: too many values to unpack (expected 3)\n",
      "Traceback (most recent call last):\n",
      "  File \"/tmp/ipykernel_2239786/1301476628.py\", line 65, in main\n",
      "    for result in results_generator:\n",
      "  File \"/home/spuser/.conda/envs/yanpan/lib/python3.11/site-packages/torch/utils/_contextlib.py\", line 36, in generator_context\n",
      "    response = gen.send(None)\n",
      "               ^^^^^^^^^^^^^^\n",
      "  File \"/home/spuser/.conda/envs/yanpan/lib/python3.11/site-packages/ultralytics/engine/predictor.py\", line 266, in stream_inference\n",
      "    self.results = self.postprocess(preds, im, im0s)\n",
      "                   ^^^^^^^^^^^^^^^^^^^^^^^^^^^^^^^^^\n",
      "  File \"/home/spuser/.conda/envs/yanpan/lib/python3.11/site-packages/ultralytics/models/yolo/segment/predict.py\", line 52, in postprocess\n",
      "    masks = ops.process_mask(proto[i], pred[:, 6:], pred[:, :4], img.shape[2:], upsample=True)  # HWC\n",
      "            ^^^^^^^^^^^^^^^^^^^^^^^^^^^^^^^^^^^^^^^^^^^^^^^^^^^^^^^^^^^^^^^^^^^^^^^^^^^^^^^^^^\n",
      "  File \"/home/spuser/.conda/envs/yanpan/lib/python3.11/site-packages/ultralytics/utils/ops.py\", line 671, in process_mask\n",
      "    c, mh, mw = protos.shape  # CHW\n",
      "    ^^^^^^^^^\n",
      "ValueError: too many values to unpack (expected 3)\n",
      "Traceback (most recent call last):\n",
      "  File \"/tmp/ipykernel_2239786/1301476628.py\", line 65, in main\n",
      "    for result in results_generator:\n",
      "  File \"/home/spuser/.conda/envs/yanpan/lib/python3.11/site-packages/torch/utils/_contextlib.py\", line 36, in generator_context\n",
      "    response = gen.send(None)\n",
      "               ^^^^^^^^^^^^^^\n",
      "  File \"/home/spuser/.conda/envs/yanpan/lib/python3.11/site-packages/ultralytics/engine/predictor.py\", line 266, in stream_inference\n",
      "    self.results = self.postprocess(preds, im, im0s)\n",
      "                   ^^^^^^^^^^^^^^^^^^^^^^^^^^^^^^^^^\n",
      "  File \"/home/spuser/.conda/envs/yanpan/lib/python3.11/site-packages/ultralytics/models/yolo/segment/predict.py\", line 52, in postprocess\n",
      "    masks = ops.process_mask(proto[i], pred[:, 6:], pred[:, :4], img.shape[2:], upsample=True)  # HWC\n",
      "            ^^^^^^^^^^^^^^^^^^^^^^^^^^^^^^^^^^^^^^^^^^^^^^^^^^^^^^^^^^^^^^^^^^^^^^^^^^^^^^^^^^\n",
      "  File \"/home/spuser/.conda/envs/yanpan/lib/python3.11/site-packages/ultralytics/utils/ops.py\", line 671, in process_mask\n",
      "    c, mh, mw = protos.shape  # CHW\n",
      "    ^^^^^^^^^\n",
      "ValueError: too many values to unpack (expected 3)\n",
      "Traceback (most recent call last):\n",
      "  File \"/tmp/ipykernel_2239786/1301476628.py\", line 65, in main\n",
      "    for result in results_generator:\n",
      "  File \"/home/spuser/.conda/envs/yanpan/lib/python3.11/site-packages/torch/utils/_contextlib.py\", line 36, in generator_context\n",
      "    response = gen.send(None)\n",
      "               ^^^^^^^^^^^^^^\n",
      "  File \"/home/spuser/.conda/envs/yanpan/lib/python3.11/site-packages/ultralytics/engine/predictor.py\", line 266, in stream_inference\n",
      "    self.results = self.postprocess(preds, im, im0s)\n",
      "                   ^^^^^^^^^^^^^^^^^^^^^^^^^^^^^^^^^\n",
      "  File \"/home/spuser/.conda/envs/yanpan/lib/python3.11/site-packages/ultralytics/models/yolo/segment/predict.py\", line 52, in postprocess\n",
      "    masks = ops.process_mask(proto[i], pred[:, 6:], pred[:, :4], img.shape[2:], upsample=True)  # HWC\n",
      "            ^^^^^^^^^^^^^^^^^^^^^^^^^^^^^^^^^^^^^^^^^^^^^^^^^^^^^^^^^^^^^^^^^^^^^^^^^^^^^^^^^^\n",
      "  File \"/home/spuser/.conda/envs/yanpan/lib/python3.11/site-packages/ultralytics/utils/ops.py\", line 671, in process_mask\n",
      "    c, mh, mw = protos.shape  # CHW\n",
      "    ^^^^^^^^^\n",
      "ValueError: too many values to unpack (expected 3)\n",
      "Traceback (most recent call last):\n",
      "  File \"/tmp/ipykernel_2239786/1301476628.py\", line 65, in main\n",
      "    for result in results_generator:\n",
      "  File \"/home/spuser/.conda/envs/yanpan/lib/python3.11/site-packages/torch/utils/_contextlib.py\", line 36, in generator_context\n",
      "    response = gen.send(None)\n",
      "               ^^^^^^^^^^^^^^\n",
      "  File \"/home/spuser/.conda/envs/yanpan/lib/python3.11/site-packages/ultralytics/engine/predictor.py\", line 266, in stream_inference\n",
      "    self.results = self.postprocess(preds, im, im0s)\n",
      "                   ^^^^^^^^^^^^^^^^^^^^^^^^^^^^^^^^^\n",
      "  File \"/home/spuser/.conda/envs/yanpan/lib/python3.11/site-packages/ultralytics/models/yolo/segment/predict.py\", line 52, in postprocess\n",
      "    masks = ops.process_mask(proto[i], pred[:, 6:], pred[:, :4], img.shape[2:], upsample=True)  # HWC\n",
      "            ^^^^^^^^^^^^^^^^^^^^^^^^^^^^^^^^^^^^^^^^^^^^^^^^^^^^^^^^^^^^^^^^^^^^^^^^^^^^^^^^^^\n",
      "  File \"/home/spuser/.conda/envs/yanpan/lib/python3.11/site-packages/ultralytics/utils/ops.py\", line 671, in process_mask\n",
      "    c, mh, mw = protos.shape  # CHW\n",
      "    ^^^^^^^^^\n",
      "ValueError: too many values to unpack (expected 3)\n",
      "Traceback (most recent call last):\n",
      "  File \"/tmp/ipykernel_2239786/1301476628.py\", line 65, in main\n",
      "    for result in results_generator:\n",
      "  File \"/home/spuser/.conda/envs/yanpan/lib/python3.11/site-packages/torch/utils/_contextlib.py\", line 36, in generator_context\n",
      "    response = gen.send(None)\n",
      "               ^^^^^^^^^^^^^^\n",
      "  File \"/home/spuser/.conda/envs/yanpan/lib/python3.11/site-packages/ultralytics/engine/predictor.py\", line 266, in stream_inference\n",
      "    self.results = self.postprocess(preds, im, im0s)\n",
      "                   ^^^^^^^^^^^^^^^^^^^^^^^^^^^^^^^^^\n",
      "  File \"/home/spuser/.conda/envs/yanpan/lib/python3.11/site-packages/ultralytics/models/yolo/segment/predict.py\", line 52, in postprocess\n",
      "    masks = ops.process_mask(proto[i], pred[:, 6:], pred[:, :4], img.shape[2:], upsample=True)  # HWC\n",
      "            ^^^^^^^^^^^^^^^^^^^^^^^^^^^^^^^^^^^^^^^^^^^^^^^^^^^^^^^^^^^^^^^^^^^^^^^^^^^^^^^^^^\n",
      "  File \"/home/spuser/.conda/envs/yanpan/lib/python3.11/site-packages/ultralytics/utils/ops.py\", line 671, in process_mask\n",
      "    c, mh, mw = protos.shape  # CHW\n",
      "    ^^^^^^^^^\n",
      "ValueError: too many values to unpack (expected 3)\n",
      "Traceback (most recent call last):\n",
      "  File \"/tmp/ipykernel_2239786/1301476628.py\", line 65, in main\n",
      "    for result in results_generator:\n",
      "  File \"/home/spuser/.conda/envs/yanpan/lib/python3.11/site-packages/torch/utils/_contextlib.py\", line 36, in generator_context\n",
      "    response = gen.send(None)\n",
      "               ^^^^^^^^^^^^^^\n",
      "  File \"/home/spuser/.conda/envs/yanpan/lib/python3.11/site-packages/ultralytics/engine/predictor.py\", line 266, in stream_inference\n",
      "    self.results = self.postprocess(preds, im, im0s)\n",
      "                   ^^^^^^^^^^^^^^^^^^^^^^^^^^^^^^^^^\n",
      "  File \"/home/spuser/.conda/envs/yanpan/lib/python3.11/site-packages/ultralytics/models/yolo/segment/predict.py\", line 52, in postprocess\n",
      "    masks = ops.process_mask(proto[i], pred[:, 6:], pred[:, :4], img.shape[2:], upsample=True)  # HWC\n",
      "            ^^^^^^^^^^^^^^^^^^^^^^^^^^^^^^^^^^^^^^^^^^^^^^^^^^^^^^^^^^^^^^^^^^^^^^^^^^^^^^^^^^\n",
      "  File \"/home/spuser/.conda/envs/yanpan/lib/python3.11/site-packages/ultralytics/utils/ops.py\", line 671, in process_mask\n",
      "    c, mh, mw = protos.shape  # CHW\n",
      "    ^^^^^^^^^\n",
      "ValueError: too many values to unpack (expected 3)\n"
     ]
    },
    {
     "name": "stdout",
     "output_type": "stream",
     "text": [
      "Error processing frame 62: too many values to unpack (expected 3)\n",
      "Frame shape: (640, 640, 3), dtype: uint8\n",
      "\n",
      "Error processing frame 63: too many values to unpack (expected 3)\n",
      "Frame shape: (640, 640, 3), dtype: uint8\n",
      "\n",
      "Error processing frame 64: too many values to unpack (expected 3)\n",
      "Frame shape: (640, 640, 3), dtype: uint8\n",
      "\n",
      "Error processing frame 65: too many values to unpack (expected 3)\n",
      "Frame shape: (640, 640, 3), dtype: uint8\n",
      "\n",
      "Error processing frame 66: too many values to unpack (expected 3)\n",
      "Frame shape: (640, 640, 3), dtype: uint8\n",
      "\n",
      "Error processing frame 67: too many values to unpack (expected 3)\n",
      "Frame shape: (640, 640, 3), dtype: uint8\n",
      "\n",
      "Error processing frame 68: too many values to unpack (expected 3)\n",
      "Frame shape: (640, 640, 3), dtype: uint8\n",
      "\n",
      "Error processing frame 69: too many values to unpack (expected 3)\n",
      "Frame shape: (640, 640, 3), dtype: uint8\n",
      "\n",
      "Error processing frame 70: too many values to unpack (expected 3)\n",
      "Frame shape: (640, 640, 3), dtype: uint8\n",
      "\n",
      "Error processing frame 71: too many values to unpack (expected 3)\n",
      "Frame shape: (640, 640, 3), dtype: uint8\n",
      "\n",
      "Error processing frame 72: too many values to unpack (expected 3)\n",
      "Frame shape: (640, 640, 3), dtype: uint8\n",
      "\n",
      "Error processing frame 73: too many values to unpack (expected 3)\n"
     ]
    },
    {
     "name": "stderr",
     "output_type": "stream",
     "text": [
      "Traceback (most recent call last):\n",
      "  File \"/tmp/ipykernel_2239786/1301476628.py\", line 65, in main\n",
      "    for result in results_generator:\n",
      "  File \"/home/spuser/.conda/envs/yanpan/lib/python3.11/site-packages/torch/utils/_contextlib.py\", line 36, in generator_context\n",
      "    response = gen.send(None)\n",
      "               ^^^^^^^^^^^^^^\n",
      "  File \"/home/spuser/.conda/envs/yanpan/lib/python3.11/site-packages/ultralytics/engine/predictor.py\", line 266, in stream_inference\n",
      "    self.results = self.postprocess(preds, im, im0s)\n",
      "                   ^^^^^^^^^^^^^^^^^^^^^^^^^^^^^^^^^\n",
      "  File \"/home/spuser/.conda/envs/yanpan/lib/python3.11/site-packages/ultralytics/models/yolo/segment/predict.py\", line 52, in postprocess\n",
      "    masks = ops.process_mask(proto[i], pred[:, 6:], pred[:, :4], img.shape[2:], upsample=True)  # HWC\n",
      "            ^^^^^^^^^^^^^^^^^^^^^^^^^^^^^^^^^^^^^^^^^^^^^^^^^^^^^^^^^^^^^^^^^^^^^^^^^^^^^^^^^^\n",
      "  File \"/home/spuser/.conda/envs/yanpan/lib/python3.11/site-packages/ultralytics/utils/ops.py\", line 671, in process_mask\n",
      "    c, mh, mw = protos.shape  # CHW\n",
      "    ^^^^^^^^^\n",
      "ValueError: too many values to unpack (expected 3)\n",
      "Traceback (most recent call last):\n",
      "  File \"/tmp/ipykernel_2239786/1301476628.py\", line 65, in main\n",
      "    for result in results_generator:\n",
      "  File \"/home/spuser/.conda/envs/yanpan/lib/python3.11/site-packages/torch/utils/_contextlib.py\", line 36, in generator_context\n",
      "    response = gen.send(None)\n",
      "               ^^^^^^^^^^^^^^\n",
      "  File \"/home/spuser/.conda/envs/yanpan/lib/python3.11/site-packages/ultralytics/engine/predictor.py\", line 266, in stream_inference\n",
      "    self.results = self.postprocess(preds, im, im0s)\n",
      "                   ^^^^^^^^^^^^^^^^^^^^^^^^^^^^^^^^^\n",
      "  File \"/home/spuser/.conda/envs/yanpan/lib/python3.11/site-packages/ultralytics/models/yolo/segment/predict.py\", line 52, in postprocess\n",
      "    masks = ops.process_mask(proto[i], pred[:, 6:], pred[:, :4], img.shape[2:], upsample=True)  # HWC\n",
      "            ^^^^^^^^^^^^^^^^^^^^^^^^^^^^^^^^^^^^^^^^^^^^^^^^^^^^^^^^^^^^^^^^^^^^^^^^^^^^^^^^^^\n",
      "  File \"/home/spuser/.conda/envs/yanpan/lib/python3.11/site-packages/ultralytics/utils/ops.py\", line 671, in process_mask\n",
      "    c, mh, mw = protos.shape  # CHW\n",
      "    ^^^^^^^^^\n",
      "ValueError: too many values to unpack (expected 3)\n",
      "Traceback (most recent call last):\n",
      "  File \"/tmp/ipykernel_2239786/1301476628.py\", line 65, in main\n",
      "    for result in results_generator:\n",
      "  File \"/home/spuser/.conda/envs/yanpan/lib/python3.11/site-packages/torch/utils/_contextlib.py\", line 36, in generator_context\n",
      "    response = gen.send(None)\n",
      "               ^^^^^^^^^^^^^^\n",
      "  File \"/home/spuser/.conda/envs/yanpan/lib/python3.11/site-packages/ultralytics/engine/predictor.py\", line 266, in stream_inference\n",
      "    self.results = self.postprocess(preds, im, im0s)\n",
      "                   ^^^^^^^^^^^^^^^^^^^^^^^^^^^^^^^^^\n",
      "  File \"/home/spuser/.conda/envs/yanpan/lib/python3.11/site-packages/ultralytics/models/yolo/segment/predict.py\", line 52, in postprocess\n",
      "    masks = ops.process_mask(proto[i], pred[:, 6:], pred[:, :4], img.shape[2:], upsample=True)  # HWC\n",
      "            ^^^^^^^^^^^^^^^^^^^^^^^^^^^^^^^^^^^^^^^^^^^^^^^^^^^^^^^^^^^^^^^^^^^^^^^^^^^^^^^^^^\n",
      "  File \"/home/spuser/.conda/envs/yanpan/lib/python3.11/site-packages/ultralytics/utils/ops.py\", line 671, in process_mask\n",
      "    c, mh, mw = protos.shape  # CHW\n",
      "    ^^^^^^^^^\n",
      "ValueError: too many values to unpack (expected 3)\n",
      "Traceback (most recent call last):\n",
      "  File \"/tmp/ipykernel_2239786/1301476628.py\", line 65, in main\n",
      "    for result in results_generator:\n",
      "  File \"/home/spuser/.conda/envs/yanpan/lib/python3.11/site-packages/torch/utils/_contextlib.py\", line 36, in generator_context\n",
      "    response = gen.send(None)\n",
      "               ^^^^^^^^^^^^^^\n",
      "  File \"/home/spuser/.conda/envs/yanpan/lib/python3.11/site-packages/ultralytics/engine/predictor.py\", line 266, in stream_inference\n",
      "    self.results = self.postprocess(preds, im, im0s)\n",
      "                   ^^^^^^^^^^^^^^^^^^^^^^^^^^^^^^^^^\n",
      "  File \"/home/spuser/.conda/envs/yanpan/lib/python3.11/site-packages/ultralytics/models/yolo/segment/predict.py\", line 52, in postprocess\n",
      "    masks = ops.process_mask(proto[i], pred[:, 6:], pred[:, :4], img.shape[2:], upsample=True)  # HWC\n",
      "            ^^^^^^^^^^^^^^^^^^^^^^^^^^^^^^^^^^^^^^^^^^^^^^^^^^^^^^^^^^^^^^^^^^^^^^^^^^^^^^^^^^\n",
      "  File \"/home/spuser/.conda/envs/yanpan/lib/python3.11/site-packages/ultralytics/utils/ops.py\", line 671, in process_mask\n",
      "    c, mh, mw = protos.shape  # CHW\n",
      "    ^^^^^^^^^\n",
      "ValueError: too many values to unpack (expected 3)\n",
      "Traceback (most recent call last):\n",
      "  File \"/tmp/ipykernel_2239786/1301476628.py\", line 65, in main\n",
      "    for result in results_generator:\n",
      "  File \"/home/spuser/.conda/envs/yanpan/lib/python3.11/site-packages/torch/utils/_contextlib.py\", line 36, in generator_context\n",
      "    response = gen.send(None)\n",
      "               ^^^^^^^^^^^^^^\n",
      "  File \"/home/spuser/.conda/envs/yanpan/lib/python3.11/site-packages/ultralytics/engine/predictor.py\", line 266, in stream_inference\n",
      "    self.results = self.postprocess(preds, im, im0s)\n",
      "                   ^^^^^^^^^^^^^^^^^^^^^^^^^^^^^^^^^\n",
      "  File \"/home/spuser/.conda/envs/yanpan/lib/python3.11/site-packages/ultralytics/models/yolo/segment/predict.py\", line 52, in postprocess\n",
      "    masks = ops.process_mask(proto[i], pred[:, 6:], pred[:, :4], img.shape[2:], upsample=True)  # HWC\n",
      "            ^^^^^^^^^^^^^^^^^^^^^^^^^^^^^^^^^^^^^^^^^^^^^^^^^^^^^^^^^^^^^^^^^^^^^^^^^^^^^^^^^^\n",
      "  File \"/home/spuser/.conda/envs/yanpan/lib/python3.11/site-packages/ultralytics/utils/ops.py\", line 671, in process_mask\n",
      "    c, mh, mw = protos.shape  # CHW\n",
      "    ^^^^^^^^^\n",
      "ValueError: too many values to unpack (expected 3)\n",
      "Traceback (most recent call last):\n",
      "  File \"/tmp/ipykernel_2239786/1301476628.py\", line 65, in main\n",
      "    for result in results_generator:\n",
      "  File \"/home/spuser/.conda/envs/yanpan/lib/python3.11/site-packages/torch/utils/_contextlib.py\", line 36, in generator_context\n",
      "    response = gen.send(None)\n",
      "               ^^^^^^^^^^^^^^\n",
      "  File \"/home/spuser/.conda/envs/yanpan/lib/python3.11/site-packages/ultralytics/engine/predictor.py\", line 266, in stream_inference\n",
      "    self.results = self.postprocess(preds, im, im0s)\n",
      "                   ^^^^^^^^^^^^^^^^^^^^^^^^^^^^^^^^^\n",
      "  File \"/home/spuser/.conda/envs/yanpan/lib/python3.11/site-packages/ultralytics/models/yolo/segment/predict.py\", line 52, in postprocess\n",
      "    masks = ops.process_mask(proto[i], pred[:, 6:], pred[:, :4], img.shape[2:], upsample=True)  # HWC\n",
      "            ^^^^^^^^^^^^^^^^^^^^^^^^^^^^^^^^^^^^^^^^^^^^^^^^^^^^^^^^^^^^^^^^^^^^^^^^^^^^^^^^^^\n",
      "  File \"/home/spuser/.conda/envs/yanpan/lib/python3.11/site-packages/ultralytics/utils/ops.py\", line 671, in process_mask\n",
      "    c, mh, mw = protos.shape  # CHW\n",
      "    ^^^^^^^^^\n",
      "ValueError: too many values to unpack (expected 3)\n",
      "Traceback (most recent call last):\n",
      "  File \"/tmp/ipykernel_2239786/1301476628.py\", line 65, in main\n",
      "    for result in results_generator:\n",
      "  File \"/home/spuser/.conda/envs/yanpan/lib/python3.11/site-packages/torch/utils/_contextlib.py\", line 36, in generator_context\n",
      "    response = gen.send(None)\n",
      "               ^^^^^^^^^^^^^^\n",
      "  File \"/home/spuser/.conda/envs/yanpan/lib/python3.11/site-packages/ultralytics/engine/predictor.py\", line 266, in stream_inference\n",
      "    self.results = self.postprocess(preds, im, im0s)\n",
      "                   ^^^^^^^^^^^^^^^^^^^^^^^^^^^^^^^^^\n",
      "  File \"/home/spuser/.conda/envs/yanpan/lib/python3.11/site-packages/ultralytics/models/yolo/segment/predict.py\", line 52, in postprocess\n",
      "    masks = ops.process_mask(proto[i], pred[:, 6:], pred[:, :4], img.shape[2:], upsample=True)  # HWC\n",
      "            ^^^^^^^^^^^^^^^^^^^^^^^^^^^^^^^^^^^^^^^^^^^^^^^^^^^^^^^^^^^^^^^^^^^^^^^^^^^^^^^^^^\n",
      "  File \"/home/spuser/.conda/envs/yanpan/lib/python3.11/site-packages/ultralytics/utils/ops.py\", line 671, in process_mask\n",
      "    c, mh, mw = protos.shape  # CHW\n",
      "    ^^^^^^^^^\n",
      "ValueError: too many values to unpack (expected 3)\n",
      "Traceback (most recent call last):\n",
      "  File \"/tmp/ipykernel_2239786/1301476628.py\", line 65, in main\n",
      "    for result in results_generator:\n",
      "  File \"/home/spuser/.conda/envs/yanpan/lib/python3.11/site-packages/torch/utils/_contextlib.py\", line 36, in generator_context\n",
      "    response = gen.send(None)\n",
      "               ^^^^^^^^^^^^^^\n",
      "  File \"/home/spuser/.conda/envs/yanpan/lib/python3.11/site-packages/ultralytics/engine/predictor.py\", line 266, in stream_inference\n",
      "    self.results = self.postprocess(preds, im, im0s)\n",
      "                   ^^^^^^^^^^^^^^^^^^^^^^^^^^^^^^^^^\n",
      "  File \"/home/spuser/.conda/envs/yanpan/lib/python3.11/site-packages/ultralytics/models/yolo/segment/predict.py\", line 52, in postprocess\n",
      "    masks = ops.process_mask(proto[i], pred[:, 6:], pred[:, :4], img.shape[2:], upsample=True)  # HWC\n",
      "            ^^^^^^^^^^^^^^^^^^^^^^^^^^^^^^^^^^^^^^^^^^^^^^^^^^^^^^^^^^^^^^^^^^^^^^^^^^^^^^^^^^\n",
      "  File \"/home/spuser/.conda/envs/yanpan/lib/python3.11/site-packages/ultralytics/utils/ops.py\", line 671, in process_mask\n",
      "    c, mh, mw = protos.shape  # CHW\n",
      "    ^^^^^^^^^\n",
      "ValueError: too many values to unpack (expected 3)\n",
      "Traceback (most recent call last):\n",
      "  File \"/tmp/ipykernel_2239786/1301476628.py\", line 65, in main\n",
      "    for result in results_generator:\n",
      "  File \"/home/spuser/.conda/envs/yanpan/lib/python3.11/site-packages/torch/utils/_contextlib.py\", line 36, in generator_context\n",
      "    response = gen.send(None)\n",
      "               ^^^^^^^^^^^^^^\n",
      "  File \"/home/spuser/.conda/envs/yanpan/lib/python3.11/site-packages/ultralytics/engine/predictor.py\", line 266, in stream_inference\n",
      "    self.results = self.postprocess(preds, im, im0s)\n",
      "                   ^^^^^^^^^^^^^^^^^^^^^^^^^^^^^^^^^\n",
      "  File \"/home/spuser/.conda/envs/yanpan/lib/python3.11/site-packages/ultralytics/models/yolo/segment/predict.py\", line 52, in postprocess\n",
      "    masks = ops.process_mask(proto[i], pred[:, 6:], pred[:, :4], img.shape[2:], upsample=True)  # HWC\n",
      "            ^^^^^^^^^^^^^^^^^^^^^^^^^^^^^^^^^^^^^^^^^^^^^^^^^^^^^^^^^^^^^^^^^^^^^^^^^^^^^^^^^^\n",
      "  File \"/home/spuser/.conda/envs/yanpan/lib/python3.11/site-packages/ultralytics/utils/ops.py\", line 671, in process_mask\n",
      "    c, mh, mw = protos.shape  # CHW\n",
      "    ^^^^^^^^^\n",
      "ValueError: too many values to unpack (expected 3)\n",
      "Traceback (most recent call last):\n",
      "  File \"/tmp/ipykernel_2239786/1301476628.py\", line 65, in main\n",
      "    for result in results_generator:\n",
      "  File \"/home/spuser/.conda/envs/yanpan/lib/python3.11/site-packages/torch/utils/_contextlib.py\", line 36, in generator_context\n",
      "    response = gen.send(None)\n",
      "               ^^^^^^^^^^^^^^\n",
      "  File \"/home/spuser/.conda/envs/yanpan/lib/python3.11/site-packages/ultralytics/engine/predictor.py\", line 266, in stream_inference\n",
      "    self.results = self.postprocess(preds, im, im0s)\n",
      "                   ^^^^^^^^^^^^^^^^^^^^^^^^^^^^^^^^^\n",
      "  File \"/home/spuser/.conda/envs/yanpan/lib/python3.11/site-packages/ultralytics/models/yolo/segment/predict.py\", line 52, in postprocess\n",
      "    masks = ops.process_mask(proto[i], pred[:, 6:], pred[:, :4], img.shape[2:], upsample=True)  # HWC\n",
      "            ^^^^^^^^^^^^^^^^^^^^^^^^^^^^^^^^^^^^^^^^^^^^^^^^^^^^^^^^^^^^^^^^^^^^^^^^^^^^^^^^^^\n",
      "  File \"/home/spuser/.conda/envs/yanpan/lib/python3.11/site-packages/ultralytics/utils/ops.py\", line 671, in process_mask\n",
      "    c, mh, mw = protos.shape  # CHW\n",
      "    ^^^^^^^^^\n",
      "ValueError: too many values to unpack (expected 3)\n",
      "Traceback (most recent call last):\n",
      "  File \"/tmp/ipykernel_2239786/1301476628.py\", line 65, in main\n",
      "    for result in results_generator:\n",
      "  File \"/home/spuser/.conda/envs/yanpan/lib/python3.11/site-packages/torch/utils/_contextlib.py\", line 36, in generator_context\n",
      "    response = gen.send(None)\n",
      "               ^^^^^^^^^^^^^^\n",
      "  File \"/home/spuser/.conda/envs/yanpan/lib/python3.11/site-packages/ultralytics/engine/predictor.py\", line 266, in stream_inference\n",
      "    self.results = self.postprocess(preds, im, im0s)\n",
      "                   ^^^^^^^^^^^^^^^^^^^^^^^^^^^^^^^^^\n",
      "  File \"/home/spuser/.conda/envs/yanpan/lib/python3.11/site-packages/ultralytics/models/yolo/segment/predict.py\", line 52, in postprocess\n",
      "    masks = ops.process_mask(proto[i], pred[:, 6:], pred[:, :4], img.shape[2:], upsample=True)  # HWC\n",
      "            ^^^^^^^^^^^^^^^^^^^^^^^^^^^^^^^^^^^^^^^^^^^^^^^^^^^^^^^^^^^^^^^^^^^^^^^^^^^^^^^^^^\n",
      "  File \"/home/spuser/.conda/envs/yanpan/lib/python3.11/site-packages/ultralytics/utils/ops.py\", line 671, in process_mask\n",
      "    c, mh, mw = protos.shape  # CHW\n",
      "    ^^^^^^^^^\n",
      "ValueError: too many values to unpack (expected 3)\n",
      "Traceback (most recent call last):\n",
      "  File \"/tmp/ipykernel_2239786/1301476628.py\", line 65, in main\n",
      "    for result in results_generator:\n",
      "  File \"/home/spuser/.conda/envs/yanpan/lib/python3.11/site-packages/torch/utils/_contextlib.py\", line 36, in generator_context\n",
      "    response = gen.send(None)\n",
      "               ^^^^^^^^^^^^^^\n",
      "  File \"/home/spuser/.conda/envs/yanpan/lib/python3.11/site-packages/ultralytics/engine/predictor.py\", line 266, in stream_inference\n",
      "    self.results = self.postprocess(preds, im, im0s)\n",
      "                   ^^^^^^^^^^^^^^^^^^^^^^^^^^^^^^^^^\n",
      "  File \"/home/spuser/.conda/envs/yanpan/lib/python3.11/site-packages/ultralytics/models/yolo/segment/predict.py\", line 52, in postprocess\n",
      "    masks = ops.process_mask(proto[i], pred[:, 6:], pred[:, :4], img.shape[2:], upsample=True)  # HWC\n",
      "            ^^^^^^^^^^^^^^^^^^^^^^^^^^^^^^^^^^^^^^^^^^^^^^^^^^^^^^^^^^^^^^^^^^^^^^^^^^^^^^^^^^\n",
      "  File \"/home/spuser/.conda/envs/yanpan/lib/python3.11/site-packages/ultralytics/utils/ops.py\", line 671, in process_mask\n",
      "    c, mh, mw = protos.shape  # CHW\n",
      "    ^^^^^^^^^\n",
      "ValueError: too many values to unpack (expected 3)\n"
     ]
    },
    {
     "name": "stdout",
     "output_type": "stream",
     "text": [
      "Frame shape: (640, 640, 3), dtype: uint8\n",
      "\n",
      "Error processing frame 74: too many values to unpack (expected 3)\n",
      "Frame shape: (640, 640, 3), dtype: uint8\n",
      "\n",
      "Error processing frame 75: too many values to unpack (expected 3)\n",
      "Frame shape: (640, 640, 3), dtype: uint8\n",
      "\n",
      "Error processing frame 76: too many values to unpack (expected 3)\n",
      "Frame shape: (640, 640, 3), dtype: uint8\n",
      "\n",
      "Error processing frame 77: too many values to unpack (expected 3)\n",
      "Frame shape: (640, 640, 3), dtype: uint8\n",
      "\n",
      "Error processing frame 78: too many values to unpack (expected 3)\n",
      "Frame shape: (640, 640, 3), dtype: uint8\n",
      "\n",
      "Error processing frame 79: too many values to unpack (expected 3)\n",
      "Frame shape: (640, 640, 3), dtype: uint8\n",
      "\n",
      "Error processing frame 80: too many values to unpack (expected 3)\n",
      "Frame shape: (640, 640, 3), dtype: uint8\n",
      "\n",
      "Error processing frame 81: too many values to unpack (expected 3)\n",
      "Frame shape: (640, 640, 3), dtype: uint8\n",
      "\n",
      "Error processing frame 82: too many values to unpack (expected 3)\n",
      "Frame shape: (640, 640, 3), dtype: uint8\n",
      "\n",
      "Error processing frame 83: too many values to unpack (expected 3)\n",
      "Frame shape: (640, 640, 3), dtype: uint8\n",
      "\n",
      "Error processing frame 84: too many values to unpack (expected 3)\n",
      "Frame shape: (640, 640, 3), dtype: uint8\n",
      "\n",
      "Error processing frame 85: too many values to unpack (expected 3)\n",
      "Frame shape: (640, 640, 3), dtype: uint8\n",
      "\n"
     ]
    },
    {
     "name": "stderr",
     "output_type": "stream",
     "text": [
      "Traceback (most recent call last):\n",
      "  File \"/tmp/ipykernel_2239786/1301476628.py\", line 65, in main\n",
      "    for result in results_generator:\n",
      "  File \"/home/spuser/.conda/envs/yanpan/lib/python3.11/site-packages/torch/utils/_contextlib.py\", line 36, in generator_context\n",
      "    response = gen.send(None)\n",
      "               ^^^^^^^^^^^^^^\n",
      "  File \"/home/spuser/.conda/envs/yanpan/lib/python3.11/site-packages/ultralytics/engine/predictor.py\", line 266, in stream_inference\n",
      "    self.results = self.postprocess(preds, im, im0s)\n",
      "                   ^^^^^^^^^^^^^^^^^^^^^^^^^^^^^^^^^\n",
      "  File \"/home/spuser/.conda/envs/yanpan/lib/python3.11/site-packages/ultralytics/models/yolo/segment/predict.py\", line 52, in postprocess\n",
      "    masks = ops.process_mask(proto[i], pred[:, 6:], pred[:, :4], img.shape[2:], upsample=True)  # HWC\n",
      "            ^^^^^^^^^^^^^^^^^^^^^^^^^^^^^^^^^^^^^^^^^^^^^^^^^^^^^^^^^^^^^^^^^^^^^^^^^^^^^^^^^^\n",
      "  File \"/home/spuser/.conda/envs/yanpan/lib/python3.11/site-packages/ultralytics/utils/ops.py\", line 671, in process_mask\n",
      "    c, mh, mw = protos.shape  # CHW\n",
      "    ^^^^^^^^^\n",
      "ValueError: too many values to unpack (expected 3)\n",
      "Traceback (most recent call last):\n",
      "  File \"/tmp/ipykernel_2239786/1301476628.py\", line 65, in main\n",
      "    for result in results_generator:\n",
      "  File \"/home/spuser/.conda/envs/yanpan/lib/python3.11/site-packages/torch/utils/_contextlib.py\", line 36, in generator_context\n",
      "    response = gen.send(None)\n",
      "               ^^^^^^^^^^^^^^\n",
      "  File \"/home/spuser/.conda/envs/yanpan/lib/python3.11/site-packages/ultralytics/engine/predictor.py\", line 266, in stream_inference\n",
      "    self.results = self.postprocess(preds, im, im0s)\n",
      "                   ^^^^^^^^^^^^^^^^^^^^^^^^^^^^^^^^^\n",
      "  File \"/home/spuser/.conda/envs/yanpan/lib/python3.11/site-packages/ultralytics/models/yolo/segment/predict.py\", line 52, in postprocess\n",
      "    masks = ops.process_mask(proto[i], pred[:, 6:], pred[:, :4], img.shape[2:], upsample=True)  # HWC\n",
      "            ^^^^^^^^^^^^^^^^^^^^^^^^^^^^^^^^^^^^^^^^^^^^^^^^^^^^^^^^^^^^^^^^^^^^^^^^^^^^^^^^^^\n",
      "  File \"/home/spuser/.conda/envs/yanpan/lib/python3.11/site-packages/ultralytics/utils/ops.py\", line 671, in process_mask\n",
      "    c, mh, mw = protos.shape  # CHW\n",
      "    ^^^^^^^^^\n",
      "ValueError: too many values to unpack (expected 3)\n",
      "Traceback (most recent call last):\n",
      "  File \"/tmp/ipykernel_2239786/1301476628.py\", line 65, in main\n",
      "    for result in results_generator:\n",
      "  File \"/home/spuser/.conda/envs/yanpan/lib/python3.11/site-packages/torch/utils/_contextlib.py\", line 36, in generator_context\n",
      "    response = gen.send(None)\n",
      "               ^^^^^^^^^^^^^^\n",
      "  File \"/home/spuser/.conda/envs/yanpan/lib/python3.11/site-packages/ultralytics/engine/predictor.py\", line 266, in stream_inference\n",
      "    self.results = self.postprocess(preds, im, im0s)\n",
      "                   ^^^^^^^^^^^^^^^^^^^^^^^^^^^^^^^^^\n",
      "  File \"/home/spuser/.conda/envs/yanpan/lib/python3.11/site-packages/ultralytics/models/yolo/segment/predict.py\", line 52, in postprocess\n",
      "    masks = ops.process_mask(proto[i], pred[:, 6:], pred[:, :4], img.shape[2:], upsample=True)  # HWC\n",
      "            ^^^^^^^^^^^^^^^^^^^^^^^^^^^^^^^^^^^^^^^^^^^^^^^^^^^^^^^^^^^^^^^^^^^^^^^^^^^^^^^^^^\n",
      "  File \"/home/spuser/.conda/envs/yanpan/lib/python3.11/site-packages/ultralytics/utils/ops.py\", line 671, in process_mask\n",
      "    c, mh, mw = protos.shape  # CHW\n",
      "    ^^^^^^^^^\n",
      "ValueError: too many values to unpack (expected 3)\n",
      "Traceback (most recent call last):\n",
      "  File \"/tmp/ipykernel_2239786/1301476628.py\", line 65, in main\n",
      "    for result in results_generator:\n",
      "  File \"/home/spuser/.conda/envs/yanpan/lib/python3.11/site-packages/torch/utils/_contextlib.py\", line 36, in generator_context\n",
      "    response = gen.send(None)\n",
      "               ^^^^^^^^^^^^^^\n",
      "  File \"/home/spuser/.conda/envs/yanpan/lib/python3.11/site-packages/ultralytics/engine/predictor.py\", line 266, in stream_inference\n",
      "    self.results = self.postprocess(preds, im, im0s)\n",
      "                   ^^^^^^^^^^^^^^^^^^^^^^^^^^^^^^^^^\n",
      "  File \"/home/spuser/.conda/envs/yanpan/lib/python3.11/site-packages/ultralytics/models/yolo/segment/predict.py\", line 52, in postprocess\n",
      "    masks = ops.process_mask(proto[i], pred[:, 6:], pred[:, :4], img.shape[2:], upsample=True)  # HWC\n",
      "            ^^^^^^^^^^^^^^^^^^^^^^^^^^^^^^^^^^^^^^^^^^^^^^^^^^^^^^^^^^^^^^^^^^^^^^^^^^^^^^^^^^\n",
      "  File \"/home/spuser/.conda/envs/yanpan/lib/python3.11/site-packages/ultralytics/utils/ops.py\", line 671, in process_mask\n",
      "    c, mh, mw = protos.shape  # CHW\n",
      "    ^^^^^^^^^\n",
      "ValueError: too many values to unpack (expected 3)\n",
      "Traceback (most recent call last):\n",
      "  File \"/tmp/ipykernel_2239786/1301476628.py\", line 65, in main\n",
      "    for result in results_generator:\n",
      "  File \"/home/spuser/.conda/envs/yanpan/lib/python3.11/site-packages/torch/utils/_contextlib.py\", line 36, in generator_context\n",
      "    response = gen.send(None)\n",
      "               ^^^^^^^^^^^^^^\n",
      "  File \"/home/spuser/.conda/envs/yanpan/lib/python3.11/site-packages/ultralytics/engine/predictor.py\", line 266, in stream_inference\n",
      "    self.results = self.postprocess(preds, im, im0s)\n",
      "                   ^^^^^^^^^^^^^^^^^^^^^^^^^^^^^^^^^\n",
      "  File \"/home/spuser/.conda/envs/yanpan/lib/python3.11/site-packages/ultralytics/models/yolo/segment/predict.py\", line 52, in postprocess\n",
      "    masks = ops.process_mask(proto[i], pred[:, 6:], pred[:, :4], img.shape[2:], upsample=True)  # HWC\n",
      "            ^^^^^^^^^^^^^^^^^^^^^^^^^^^^^^^^^^^^^^^^^^^^^^^^^^^^^^^^^^^^^^^^^^^^^^^^^^^^^^^^^^\n",
      "  File \"/home/spuser/.conda/envs/yanpan/lib/python3.11/site-packages/ultralytics/utils/ops.py\", line 671, in process_mask\n",
      "    c, mh, mw = protos.shape  # CHW\n",
      "    ^^^^^^^^^\n",
      "ValueError: too many values to unpack (expected 3)\n",
      "Traceback (most recent call last):\n",
      "  File \"/tmp/ipykernel_2239786/1301476628.py\", line 65, in main\n",
      "    for result in results_generator:\n",
      "  File \"/home/spuser/.conda/envs/yanpan/lib/python3.11/site-packages/torch/utils/_contextlib.py\", line 36, in generator_context\n",
      "    response = gen.send(None)\n",
      "               ^^^^^^^^^^^^^^\n",
      "  File \"/home/spuser/.conda/envs/yanpan/lib/python3.11/site-packages/ultralytics/engine/predictor.py\", line 266, in stream_inference\n",
      "    self.results = self.postprocess(preds, im, im0s)\n",
      "                   ^^^^^^^^^^^^^^^^^^^^^^^^^^^^^^^^^\n",
      "  File \"/home/spuser/.conda/envs/yanpan/lib/python3.11/site-packages/ultralytics/models/yolo/segment/predict.py\", line 52, in postprocess\n",
      "    masks = ops.process_mask(proto[i], pred[:, 6:], pred[:, :4], img.shape[2:], upsample=True)  # HWC\n",
      "            ^^^^^^^^^^^^^^^^^^^^^^^^^^^^^^^^^^^^^^^^^^^^^^^^^^^^^^^^^^^^^^^^^^^^^^^^^^^^^^^^^^\n",
      "  File \"/home/spuser/.conda/envs/yanpan/lib/python3.11/site-packages/ultralytics/utils/ops.py\", line 671, in process_mask\n",
      "    c, mh, mw = protos.shape  # CHW\n",
      "    ^^^^^^^^^\n",
      "ValueError: too many values to unpack (expected 3)\n",
      "Traceback (most recent call last):\n",
      "  File \"/tmp/ipykernel_2239786/1301476628.py\", line 65, in main\n",
      "    for result in results_generator:\n",
      "  File \"/home/spuser/.conda/envs/yanpan/lib/python3.11/site-packages/torch/utils/_contextlib.py\", line 36, in generator_context\n",
      "    response = gen.send(None)\n",
      "               ^^^^^^^^^^^^^^\n",
      "  File \"/home/spuser/.conda/envs/yanpan/lib/python3.11/site-packages/ultralytics/engine/predictor.py\", line 266, in stream_inference\n",
      "    self.results = self.postprocess(preds, im, im0s)\n",
      "                   ^^^^^^^^^^^^^^^^^^^^^^^^^^^^^^^^^\n",
      "  File \"/home/spuser/.conda/envs/yanpan/lib/python3.11/site-packages/ultralytics/models/yolo/segment/predict.py\", line 52, in postprocess\n",
      "    masks = ops.process_mask(proto[i], pred[:, 6:], pred[:, :4], img.shape[2:], upsample=True)  # HWC\n",
      "            ^^^^^^^^^^^^^^^^^^^^^^^^^^^^^^^^^^^^^^^^^^^^^^^^^^^^^^^^^^^^^^^^^^^^^^^^^^^^^^^^^^\n",
      "  File \"/home/spuser/.conda/envs/yanpan/lib/python3.11/site-packages/ultralytics/utils/ops.py\", line 671, in process_mask\n",
      "    c, mh, mw = protos.shape  # CHW\n",
      "    ^^^^^^^^^\n",
      "ValueError: too many values to unpack (expected 3)\n",
      "Traceback (most recent call last):\n",
      "  File \"/tmp/ipykernel_2239786/1301476628.py\", line 65, in main\n",
      "    for result in results_generator:\n",
      "  File \"/home/spuser/.conda/envs/yanpan/lib/python3.11/site-packages/torch/utils/_contextlib.py\", line 36, in generator_context\n",
      "    response = gen.send(None)\n",
      "               ^^^^^^^^^^^^^^\n",
      "  File \"/home/spuser/.conda/envs/yanpan/lib/python3.11/site-packages/ultralytics/engine/predictor.py\", line 266, in stream_inference\n",
      "    self.results = self.postprocess(preds, im, im0s)\n",
      "                   ^^^^^^^^^^^^^^^^^^^^^^^^^^^^^^^^^\n",
      "  File \"/home/spuser/.conda/envs/yanpan/lib/python3.11/site-packages/ultralytics/models/yolo/segment/predict.py\", line 52, in postprocess\n",
      "    masks = ops.process_mask(proto[i], pred[:, 6:], pred[:, :4], img.shape[2:], upsample=True)  # HWC\n",
      "            ^^^^^^^^^^^^^^^^^^^^^^^^^^^^^^^^^^^^^^^^^^^^^^^^^^^^^^^^^^^^^^^^^^^^^^^^^^^^^^^^^^\n",
      "  File \"/home/spuser/.conda/envs/yanpan/lib/python3.11/site-packages/ultralytics/utils/ops.py\", line 671, in process_mask\n",
      "    c, mh, mw = protos.shape  # CHW\n",
      "    ^^^^^^^^^\n",
      "ValueError: too many values to unpack (expected 3)\n",
      "Traceback (most recent call last):\n",
      "  File \"/tmp/ipykernel_2239786/1301476628.py\", line 65, in main\n",
      "    for result in results_generator:\n",
      "  File \"/home/spuser/.conda/envs/yanpan/lib/python3.11/site-packages/torch/utils/_contextlib.py\", line 36, in generator_context\n",
      "    response = gen.send(None)\n",
      "               ^^^^^^^^^^^^^^\n",
      "  File \"/home/spuser/.conda/envs/yanpan/lib/python3.11/site-packages/ultralytics/engine/predictor.py\", line 266, in stream_inference\n",
      "    self.results = self.postprocess(preds, im, im0s)\n",
      "                   ^^^^^^^^^^^^^^^^^^^^^^^^^^^^^^^^^\n",
      "  File \"/home/spuser/.conda/envs/yanpan/lib/python3.11/site-packages/ultralytics/models/yolo/segment/predict.py\", line 52, in postprocess\n",
      "    masks = ops.process_mask(proto[i], pred[:, 6:], pred[:, :4], img.shape[2:], upsample=True)  # HWC\n",
      "            ^^^^^^^^^^^^^^^^^^^^^^^^^^^^^^^^^^^^^^^^^^^^^^^^^^^^^^^^^^^^^^^^^^^^^^^^^^^^^^^^^^\n",
      "  File \"/home/spuser/.conda/envs/yanpan/lib/python3.11/site-packages/ultralytics/utils/ops.py\", line 671, in process_mask\n",
      "    c, mh, mw = protos.shape  # CHW\n",
      "    ^^^^^^^^^\n",
      "ValueError: too many values to unpack (expected 3)\n",
      "Traceback (most recent call last):\n",
      "  File \"/tmp/ipykernel_2239786/1301476628.py\", line 65, in main\n",
      "    for result in results_generator:\n",
      "  File \"/home/spuser/.conda/envs/yanpan/lib/python3.11/site-packages/torch/utils/_contextlib.py\", line 36, in generator_context\n",
      "    response = gen.send(None)\n",
      "               ^^^^^^^^^^^^^^\n",
      "  File \"/home/spuser/.conda/envs/yanpan/lib/python3.11/site-packages/ultralytics/engine/predictor.py\", line 266, in stream_inference\n",
      "    self.results = self.postprocess(preds, im, im0s)\n",
      "                   ^^^^^^^^^^^^^^^^^^^^^^^^^^^^^^^^^\n",
      "  File \"/home/spuser/.conda/envs/yanpan/lib/python3.11/site-packages/ultralytics/models/yolo/segment/predict.py\", line 52, in postprocess\n",
      "    masks = ops.process_mask(proto[i], pred[:, 6:], pred[:, :4], img.shape[2:], upsample=True)  # HWC\n",
      "            ^^^^^^^^^^^^^^^^^^^^^^^^^^^^^^^^^^^^^^^^^^^^^^^^^^^^^^^^^^^^^^^^^^^^^^^^^^^^^^^^^^\n",
      "  File \"/home/spuser/.conda/envs/yanpan/lib/python3.11/site-packages/ultralytics/utils/ops.py\", line 671, in process_mask\n",
      "    c, mh, mw = protos.shape  # CHW\n",
      "    ^^^^^^^^^\n",
      "ValueError: too many values to unpack (expected 3)\n",
      "Traceback (most recent call last):\n",
      "  File \"/tmp/ipykernel_2239786/1301476628.py\", line 65, in main\n",
      "    for result in results_generator:\n",
      "  File \"/home/spuser/.conda/envs/yanpan/lib/python3.11/site-packages/torch/utils/_contextlib.py\", line 36, in generator_context\n",
      "    response = gen.send(None)\n",
      "               ^^^^^^^^^^^^^^\n",
      "  File \"/home/spuser/.conda/envs/yanpan/lib/python3.11/site-packages/ultralytics/engine/predictor.py\", line 266, in stream_inference\n",
      "    self.results = self.postprocess(preds, im, im0s)\n",
      "                   ^^^^^^^^^^^^^^^^^^^^^^^^^^^^^^^^^\n",
      "  File \"/home/spuser/.conda/envs/yanpan/lib/python3.11/site-packages/ultralytics/models/yolo/segment/predict.py\", line 52, in postprocess\n",
      "    masks = ops.process_mask(proto[i], pred[:, 6:], pred[:, :4], img.shape[2:], upsample=True)  # HWC\n",
      "            ^^^^^^^^^^^^^^^^^^^^^^^^^^^^^^^^^^^^^^^^^^^^^^^^^^^^^^^^^^^^^^^^^^^^^^^^^^^^^^^^^^\n",
      "  File \"/home/spuser/.conda/envs/yanpan/lib/python3.11/site-packages/ultralytics/utils/ops.py\", line 671, in process_mask\n",
      "    c, mh, mw = protos.shape  # CHW\n",
      "    ^^^^^^^^^\n",
      "ValueError: too many values to unpack (expected 3)\n",
      "Traceback (most recent call last):\n",
      "  File \"/tmp/ipykernel_2239786/1301476628.py\", line 65, in main\n",
      "    for result in results_generator:\n",
      "  File \"/home/spuser/.conda/envs/yanpan/lib/python3.11/site-packages/torch/utils/_contextlib.py\", line 36, in generator_context\n",
      "    response = gen.send(None)\n",
      "               ^^^^^^^^^^^^^^\n",
      "  File \"/home/spuser/.conda/envs/yanpan/lib/python3.11/site-packages/ultralytics/engine/predictor.py\", line 266, in stream_inference\n",
      "    self.results = self.postprocess(preds, im, im0s)\n",
      "                   ^^^^^^^^^^^^^^^^^^^^^^^^^^^^^^^^^\n",
      "  File \"/home/spuser/.conda/envs/yanpan/lib/python3.11/site-packages/ultralytics/models/yolo/segment/predict.py\", line 52, in postprocess\n",
      "    masks = ops.process_mask(proto[i], pred[:, 6:], pred[:, :4], img.shape[2:], upsample=True)  # HWC\n",
      "            ^^^^^^^^^^^^^^^^^^^^^^^^^^^^^^^^^^^^^^^^^^^^^^^^^^^^^^^^^^^^^^^^^^^^^^^^^^^^^^^^^^\n",
      "  File \"/home/spuser/.conda/envs/yanpan/lib/python3.11/site-packages/ultralytics/utils/ops.py\", line 671, in process_mask\n",
      "    c, mh, mw = protos.shape  # CHW\n",
      "    ^^^^^^^^^\n",
      "ValueError: too many values to unpack (expected 3)\n"
     ]
    },
    {
     "name": "stdout",
     "output_type": "stream",
     "text": [
      "Error processing frame 86: too many values to unpack (expected 3)\n",
      "Frame shape: (640, 640, 3), dtype: uint8\n",
      "\n",
      "Error processing frame 87: too many values to unpack (expected 3)\n",
      "Frame shape: (640, 640, 3), dtype: uint8\n",
      "\n",
      "Error processing frame 88: too many values to unpack (expected 3)\n",
      "Frame shape: (640, 640, 3), dtype: uint8\n",
      "\n",
      "Error processing frame 89: too many values to unpack (expected 3)\n",
      "Frame shape: (640, 640, 3), dtype: uint8\n",
      "\n",
      "Error processing frame 90: too many values to unpack (expected 3)\n",
      "Frame shape: (640, 640, 3), dtype: uint8\n",
      "\n",
      "Error processing frame 91: too many values to unpack (expected 3)\n",
      "Frame shape: (640, 640, 3), dtype: uint8\n",
      "\n",
      "Error processing frame 92: too many values to unpack (expected 3)\n",
      "Frame shape: (640, 640, 3), dtype: uint8\n",
      "\n",
      "Error processing frame 93: too many values to unpack (expected 3)\n",
      "Frame shape: (640, 640, 3), dtype: uint8\n",
      "\n",
      "Error processing frame 94: too many values to unpack (expected 3)\n",
      "Frame shape: (640, 640, 3), dtype: uint8\n",
      "\n",
      "Error processing frame 95: too many values to unpack (expected 3)\n",
      "Frame shape: (640, 640, 3), dtype: uint8\n",
      "\n",
      "Error processing frame 96: too many values to unpack (expected 3)\n",
      "Frame shape: (640, 640, 3), dtype: uint8\n",
      "\n",
      "Error processing frame 97: too many values to unpack (expected 3)\n",
      "Frame shape: (640, 640, 3), dtype: uint8\n",
      "\n",
      "Error processing frame 98: too many values to unpack (expected 3)\n",
      "Frame shape: (640, 640, 3), dtype: uint8\n",
      "\n"
     ]
    },
    {
     "name": "stderr",
     "output_type": "stream",
     "text": [
      "Traceback (most recent call last):\n",
      "  File \"/tmp/ipykernel_2239786/1301476628.py\", line 65, in main\n",
      "    for result in results_generator:\n",
      "  File \"/home/spuser/.conda/envs/yanpan/lib/python3.11/site-packages/torch/utils/_contextlib.py\", line 36, in generator_context\n",
      "    response = gen.send(None)\n",
      "               ^^^^^^^^^^^^^^\n",
      "  File \"/home/spuser/.conda/envs/yanpan/lib/python3.11/site-packages/ultralytics/engine/predictor.py\", line 266, in stream_inference\n",
      "    self.results = self.postprocess(preds, im, im0s)\n",
      "                   ^^^^^^^^^^^^^^^^^^^^^^^^^^^^^^^^^\n",
      "  File \"/home/spuser/.conda/envs/yanpan/lib/python3.11/site-packages/ultralytics/models/yolo/segment/predict.py\", line 52, in postprocess\n",
      "    masks = ops.process_mask(proto[i], pred[:, 6:], pred[:, :4], img.shape[2:], upsample=True)  # HWC\n",
      "            ^^^^^^^^^^^^^^^^^^^^^^^^^^^^^^^^^^^^^^^^^^^^^^^^^^^^^^^^^^^^^^^^^^^^^^^^^^^^^^^^^^\n",
      "  File \"/home/spuser/.conda/envs/yanpan/lib/python3.11/site-packages/ultralytics/utils/ops.py\", line 671, in process_mask\n",
      "    c, mh, mw = protos.shape  # CHW\n",
      "    ^^^^^^^^^\n",
      "ValueError: too many values to unpack (expected 3)\n",
      "Traceback (most recent call last):\n",
      "  File \"/tmp/ipykernel_2239786/1301476628.py\", line 65, in main\n",
      "    for result in results_generator:\n",
      "  File \"/home/spuser/.conda/envs/yanpan/lib/python3.11/site-packages/torch/utils/_contextlib.py\", line 36, in generator_context\n",
      "    response = gen.send(None)\n",
      "               ^^^^^^^^^^^^^^\n",
      "  File \"/home/spuser/.conda/envs/yanpan/lib/python3.11/site-packages/ultralytics/engine/predictor.py\", line 266, in stream_inference\n",
      "    self.results = self.postprocess(preds, im, im0s)\n",
      "                   ^^^^^^^^^^^^^^^^^^^^^^^^^^^^^^^^^\n",
      "  File \"/home/spuser/.conda/envs/yanpan/lib/python3.11/site-packages/ultralytics/models/yolo/segment/predict.py\", line 52, in postprocess\n",
      "    masks = ops.process_mask(proto[i], pred[:, 6:], pred[:, :4], img.shape[2:], upsample=True)  # HWC\n",
      "            ^^^^^^^^^^^^^^^^^^^^^^^^^^^^^^^^^^^^^^^^^^^^^^^^^^^^^^^^^^^^^^^^^^^^^^^^^^^^^^^^^^\n",
      "  File \"/home/spuser/.conda/envs/yanpan/lib/python3.11/site-packages/ultralytics/utils/ops.py\", line 671, in process_mask\n",
      "    c, mh, mw = protos.shape  # CHW\n",
      "    ^^^^^^^^^\n",
      "ValueError: too many values to unpack (expected 3)\n",
      "Traceback (most recent call last):\n",
      "  File \"/tmp/ipykernel_2239786/1301476628.py\", line 65, in main\n",
      "    for result in results_generator:\n",
      "  File \"/home/spuser/.conda/envs/yanpan/lib/python3.11/site-packages/torch/utils/_contextlib.py\", line 36, in generator_context\n",
      "    response = gen.send(None)\n",
      "               ^^^^^^^^^^^^^^\n",
      "  File \"/home/spuser/.conda/envs/yanpan/lib/python3.11/site-packages/ultralytics/engine/predictor.py\", line 266, in stream_inference\n",
      "    self.results = self.postprocess(preds, im, im0s)\n",
      "                   ^^^^^^^^^^^^^^^^^^^^^^^^^^^^^^^^^\n",
      "  File \"/home/spuser/.conda/envs/yanpan/lib/python3.11/site-packages/ultralytics/models/yolo/segment/predict.py\", line 52, in postprocess\n",
      "    masks = ops.process_mask(proto[i], pred[:, 6:], pred[:, :4], img.shape[2:], upsample=True)  # HWC\n",
      "            ^^^^^^^^^^^^^^^^^^^^^^^^^^^^^^^^^^^^^^^^^^^^^^^^^^^^^^^^^^^^^^^^^^^^^^^^^^^^^^^^^^\n",
      "  File \"/home/spuser/.conda/envs/yanpan/lib/python3.11/site-packages/ultralytics/utils/ops.py\", line 671, in process_mask\n",
      "    c, mh, mw = protos.shape  # CHW\n",
      "    ^^^^^^^^^\n",
      "ValueError: too many values to unpack (expected 3)\n",
      "Traceback (most recent call last):\n",
      "  File \"/tmp/ipykernel_2239786/1301476628.py\", line 65, in main\n",
      "    for result in results_generator:\n",
      "  File \"/home/spuser/.conda/envs/yanpan/lib/python3.11/site-packages/torch/utils/_contextlib.py\", line 36, in generator_context\n",
      "    response = gen.send(None)\n",
      "               ^^^^^^^^^^^^^^\n",
      "  File \"/home/spuser/.conda/envs/yanpan/lib/python3.11/site-packages/ultralytics/engine/predictor.py\", line 266, in stream_inference\n",
      "    self.results = self.postprocess(preds, im, im0s)\n",
      "                   ^^^^^^^^^^^^^^^^^^^^^^^^^^^^^^^^^\n",
      "  File \"/home/spuser/.conda/envs/yanpan/lib/python3.11/site-packages/ultralytics/models/yolo/segment/predict.py\", line 52, in postprocess\n",
      "    masks = ops.process_mask(proto[i], pred[:, 6:], pred[:, :4], img.shape[2:], upsample=True)  # HWC\n",
      "            ^^^^^^^^^^^^^^^^^^^^^^^^^^^^^^^^^^^^^^^^^^^^^^^^^^^^^^^^^^^^^^^^^^^^^^^^^^^^^^^^^^\n",
      "  File \"/home/spuser/.conda/envs/yanpan/lib/python3.11/site-packages/ultralytics/utils/ops.py\", line 671, in process_mask\n",
      "    c, mh, mw = protos.shape  # CHW\n",
      "    ^^^^^^^^^\n",
      "ValueError: too many values to unpack (expected 3)\n",
      "Traceback (most recent call last):\n",
      "  File \"/tmp/ipykernel_2239786/1301476628.py\", line 65, in main\n",
      "    for result in results_generator:\n",
      "  File \"/home/spuser/.conda/envs/yanpan/lib/python3.11/site-packages/torch/utils/_contextlib.py\", line 36, in generator_context\n",
      "    response = gen.send(None)\n",
      "               ^^^^^^^^^^^^^^\n",
      "  File \"/home/spuser/.conda/envs/yanpan/lib/python3.11/site-packages/ultralytics/engine/predictor.py\", line 266, in stream_inference\n",
      "    self.results = self.postprocess(preds, im, im0s)\n",
      "                   ^^^^^^^^^^^^^^^^^^^^^^^^^^^^^^^^^\n",
      "  File \"/home/spuser/.conda/envs/yanpan/lib/python3.11/site-packages/ultralytics/models/yolo/segment/predict.py\", line 52, in postprocess\n",
      "    masks = ops.process_mask(proto[i], pred[:, 6:], pred[:, :4], img.shape[2:], upsample=True)  # HWC\n",
      "            ^^^^^^^^^^^^^^^^^^^^^^^^^^^^^^^^^^^^^^^^^^^^^^^^^^^^^^^^^^^^^^^^^^^^^^^^^^^^^^^^^^\n",
      "  File \"/home/spuser/.conda/envs/yanpan/lib/python3.11/site-packages/ultralytics/utils/ops.py\", line 671, in process_mask\n",
      "    c, mh, mw = protos.shape  # CHW\n",
      "    ^^^^^^^^^\n",
      "ValueError: too many values to unpack (expected 3)\n",
      "Traceback (most recent call last):\n",
      "  File \"/tmp/ipykernel_2239786/1301476628.py\", line 65, in main\n",
      "    for result in results_generator:\n",
      "  File \"/home/spuser/.conda/envs/yanpan/lib/python3.11/site-packages/torch/utils/_contextlib.py\", line 36, in generator_context\n",
      "    response = gen.send(None)\n",
      "               ^^^^^^^^^^^^^^\n",
      "  File \"/home/spuser/.conda/envs/yanpan/lib/python3.11/site-packages/ultralytics/engine/predictor.py\", line 266, in stream_inference\n",
      "    self.results = self.postprocess(preds, im, im0s)\n",
      "                   ^^^^^^^^^^^^^^^^^^^^^^^^^^^^^^^^^\n",
      "  File \"/home/spuser/.conda/envs/yanpan/lib/python3.11/site-packages/ultralytics/models/yolo/segment/predict.py\", line 52, in postprocess\n",
      "    masks = ops.process_mask(proto[i], pred[:, 6:], pred[:, :4], img.shape[2:], upsample=True)  # HWC\n",
      "            ^^^^^^^^^^^^^^^^^^^^^^^^^^^^^^^^^^^^^^^^^^^^^^^^^^^^^^^^^^^^^^^^^^^^^^^^^^^^^^^^^^\n",
      "  File \"/home/spuser/.conda/envs/yanpan/lib/python3.11/site-packages/ultralytics/utils/ops.py\", line 671, in process_mask\n",
      "    c, mh, mw = protos.shape  # CHW\n",
      "    ^^^^^^^^^\n",
      "ValueError: too many values to unpack (expected 3)\n",
      "Traceback (most recent call last):\n",
      "  File \"/tmp/ipykernel_2239786/1301476628.py\", line 65, in main\n",
      "    for result in results_generator:\n",
      "  File \"/home/spuser/.conda/envs/yanpan/lib/python3.11/site-packages/torch/utils/_contextlib.py\", line 36, in generator_context\n",
      "    response = gen.send(None)\n",
      "               ^^^^^^^^^^^^^^\n",
      "  File \"/home/spuser/.conda/envs/yanpan/lib/python3.11/site-packages/ultralytics/engine/predictor.py\", line 266, in stream_inference\n",
      "    self.results = self.postprocess(preds, im, im0s)\n",
      "                   ^^^^^^^^^^^^^^^^^^^^^^^^^^^^^^^^^\n",
      "  File \"/home/spuser/.conda/envs/yanpan/lib/python3.11/site-packages/ultralytics/models/yolo/segment/predict.py\", line 52, in postprocess\n",
      "    masks = ops.process_mask(proto[i], pred[:, 6:], pred[:, :4], img.shape[2:], upsample=True)  # HWC\n",
      "            ^^^^^^^^^^^^^^^^^^^^^^^^^^^^^^^^^^^^^^^^^^^^^^^^^^^^^^^^^^^^^^^^^^^^^^^^^^^^^^^^^^\n",
      "  File \"/home/spuser/.conda/envs/yanpan/lib/python3.11/site-packages/ultralytics/utils/ops.py\", line 671, in process_mask\n",
      "    c, mh, mw = protos.shape  # CHW\n",
      "    ^^^^^^^^^\n",
      "ValueError: too many values to unpack (expected 3)\n",
      "Traceback (most recent call last):\n",
      "  File \"/tmp/ipykernel_2239786/1301476628.py\", line 65, in main\n",
      "    for result in results_generator:\n",
      "  File \"/home/spuser/.conda/envs/yanpan/lib/python3.11/site-packages/torch/utils/_contextlib.py\", line 36, in generator_context\n",
      "    response = gen.send(None)\n",
      "               ^^^^^^^^^^^^^^\n",
      "  File \"/home/spuser/.conda/envs/yanpan/lib/python3.11/site-packages/ultralytics/engine/predictor.py\", line 266, in stream_inference\n",
      "    self.results = self.postprocess(preds, im, im0s)\n",
      "                   ^^^^^^^^^^^^^^^^^^^^^^^^^^^^^^^^^\n",
      "  File \"/home/spuser/.conda/envs/yanpan/lib/python3.11/site-packages/ultralytics/models/yolo/segment/predict.py\", line 52, in postprocess\n",
      "    masks = ops.process_mask(proto[i], pred[:, 6:], pred[:, :4], img.shape[2:], upsample=True)  # HWC\n",
      "            ^^^^^^^^^^^^^^^^^^^^^^^^^^^^^^^^^^^^^^^^^^^^^^^^^^^^^^^^^^^^^^^^^^^^^^^^^^^^^^^^^^\n",
      "  File \"/home/spuser/.conda/envs/yanpan/lib/python3.11/site-packages/ultralytics/utils/ops.py\", line 671, in process_mask\n",
      "    c, mh, mw = protos.shape  # CHW\n",
      "    ^^^^^^^^^\n",
      "ValueError: too many values to unpack (expected 3)\n",
      "Traceback (most recent call last):\n",
      "  File \"/tmp/ipykernel_2239786/1301476628.py\", line 65, in main\n",
      "    for result in results_generator:\n",
      "  File \"/home/spuser/.conda/envs/yanpan/lib/python3.11/site-packages/torch/utils/_contextlib.py\", line 36, in generator_context\n",
      "    response = gen.send(None)\n",
      "               ^^^^^^^^^^^^^^\n",
      "  File \"/home/spuser/.conda/envs/yanpan/lib/python3.11/site-packages/ultralytics/engine/predictor.py\", line 266, in stream_inference\n",
      "    self.results = self.postprocess(preds, im, im0s)\n",
      "                   ^^^^^^^^^^^^^^^^^^^^^^^^^^^^^^^^^\n",
      "  File \"/home/spuser/.conda/envs/yanpan/lib/python3.11/site-packages/ultralytics/models/yolo/segment/predict.py\", line 52, in postprocess\n",
      "    masks = ops.process_mask(proto[i], pred[:, 6:], pred[:, :4], img.shape[2:], upsample=True)  # HWC\n",
      "            ^^^^^^^^^^^^^^^^^^^^^^^^^^^^^^^^^^^^^^^^^^^^^^^^^^^^^^^^^^^^^^^^^^^^^^^^^^^^^^^^^^\n",
      "  File \"/home/spuser/.conda/envs/yanpan/lib/python3.11/site-packages/ultralytics/utils/ops.py\", line 671, in process_mask\n",
      "    c, mh, mw = protos.shape  # CHW\n",
      "    ^^^^^^^^^\n",
      "ValueError: too many values to unpack (expected 3)\n",
      "Traceback (most recent call last):\n",
      "  File \"/tmp/ipykernel_2239786/1301476628.py\", line 65, in main\n",
      "    for result in results_generator:\n",
      "  File \"/home/spuser/.conda/envs/yanpan/lib/python3.11/site-packages/torch/utils/_contextlib.py\", line 36, in generator_context\n",
      "    response = gen.send(None)\n",
      "               ^^^^^^^^^^^^^^\n",
      "  File \"/home/spuser/.conda/envs/yanpan/lib/python3.11/site-packages/ultralytics/engine/predictor.py\", line 266, in stream_inference\n",
      "    self.results = self.postprocess(preds, im, im0s)\n",
      "                   ^^^^^^^^^^^^^^^^^^^^^^^^^^^^^^^^^\n",
      "  File \"/home/spuser/.conda/envs/yanpan/lib/python3.11/site-packages/ultralytics/models/yolo/segment/predict.py\", line 52, in postprocess\n",
      "    masks = ops.process_mask(proto[i], pred[:, 6:], pred[:, :4], img.shape[2:], upsample=True)  # HWC\n",
      "            ^^^^^^^^^^^^^^^^^^^^^^^^^^^^^^^^^^^^^^^^^^^^^^^^^^^^^^^^^^^^^^^^^^^^^^^^^^^^^^^^^^\n",
      "  File \"/home/spuser/.conda/envs/yanpan/lib/python3.11/site-packages/ultralytics/utils/ops.py\", line 671, in process_mask\n",
      "    c, mh, mw = protos.shape  # CHW\n",
      "    ^^^^^^^^^\n",
      "ValueError: too many values to unpack (expected 3)\n",
      "Traceback (most recent call last):\n",
      "  File \"/tmp/ipykernel_2239786/1301476628.py\", line 65, in main\n",
      "    for result in results_generator:\n",
      "  File \"/home/spuser/.conda/envs/yanpan/lib/python3.11/site-packages/torch/utils/_contextlib.py\", line 36, in generator_context\n",
      "    response = gen.send(None)\n",
      "               ^^^^^^^^^^^^^^\n",
      "  File \"/home/spuser/.conda/envs/yanpan/lib/python3.11/site-packages/ultralytics/engine/predictor.py\", line 266, in stream_inference\n",
      "    self.results = self.postprocess(preds, im, im0s)\n",
      "                   ^^^^^^^^^^^^^^^^^^^^^^^^^^^^^^^^^\n",
      "  File \"/home/spuser/.conda/envs/yanpan/lib/python3.11/site-packages/ultralytics/models/yolo/segment/predict.py\", line 52, in postprocess\n",
      "    masks = ops.process_mask(proto[i], pred[:, 6:], pred[:, :4], img.shape[2:], upsample=True)  # HWC\n",
      "            ^^^^^^^^^^^^^^^^^^^^^^^^^^^^^^^^^^^^^^^^^^^^^^^^^^^^^^^^^^^^^^^^^^^^^^^^^^^^^^^^^^\n",
      "  File \"/home/spuser/.conda/envs/yanpan/lib/python3.11/site-packages/ultralytics/utils/ops.py\", line 671, in process_mask\n",
      "    c, mh, mw = protos.shape  # CHW\n",
      "    ^^^^^^^^^\n",
      "ValueError: too many values to unpack (expected 3)\n",
      "Traceback (most recent call last):\n",
      "  File \"/tmp/ipykernel_2239786/1301476628.py\", line 65, in main\n",
      "    for result in results_generator:\n",
      "  File \"/home/spuser/.conda/envs/yanpan/lib/python3.11/site-packages/torch/utils/_contextlib.py\", line 36, in generator_context\n",
      "    response = gen.send(None)\n",
      "               ^^^^^^^^^^^^^^\n",
      "  File \"/home/spuser/.conda/envs/yanpan/lib/python3.11/site-packages/ultralytics/engine/predictor.py\", line 266, in stream_inference\n",
      "    self.results = self.postprocess(preds, im, im0s)\n",
      "                   ^^^^^^^^^^^^^^^^^^^^^^^^^^^^^^^^^\n",
      "  File \"/home/spuser/.conda/envs/yanpan/lib/python3.11/site-packages/ultralytics/models/yolo/segment/predict.py\", line 52, in postprocess\n",
      "    masks = ops.process_mask(proto[i], pred[:, 6:], pred[:, :4], img.shape[2:], upsample=True)  # HWC\n",
      "            ^^^^^^^^^^^^^^^^^^^^^^^^^^^^^^^^^^^^^^^^^^^^^^^^^^^^^^^^^^^^^^^^^^^^^^^^^^^^^^^^^^\n",
      "  File \"/home/spuser/.conda/envs/yanpan/lib/python3.11/site-packages/ultralytics/utils/ops.py\", line 671, in process_mask\n",
      "    c, mh, mw = protos.shape  # CHW\n",
      "    ^^^^^^^^^\n",
      "ValueError: too many values to unpack (expected 3)\n",
      "Traceback (most recent call last):\n",
      "  File \"/tmp/ipykernel_2239786/1301476628.py\", line 65, in main\n",
      "    for result in results_generator:\n",
      "  File \"/home/spuser/.conda/envs/yanpan/lib/python3.11/site-packages/torch/utils/_contextlib.py\", line 36, in generator_context\n",
      "    response = gen.send(None)\n",
      "               ^^^^^^^^^^^^^^\n",
      "  File \"/home/spuser/.conda/envs/yanpan/lib/python3.11/site-packages/ultralytics/engine/predictor.py\", line 266, in stream_inference\n",
      "    self.results = self.postprocess(preds, im, im0s)\n",
      "                   ^^^^^^^^^^^^^^^^^^^^^^^^^^^^^^^^^\n",
      "  File \"/home/spuser/.conda/envs/yanpan/lib/python3.11/site-packages/ultralytics/models/yolo/segment/predict.py\", line 52, in postprocess\n",
      "    masks = ops.process_mask(proto[i], pred[:, 6:], pred[:, :4], img.shape[2:], upsample=True)  # HWC\n",
      "            ^^^^^^^^^^^^^^^^^^^^^^^^^^^^^^^^^^^^^^^^^^^^^^^^^^^^^^^^^^^^^^^^^^^^^^^^^^^^^^^^^^\n",
      "  File \"/home/spuser/.conda/envs/yanpan/lib/python3.11/site-packages/ultralytics/utils/ops.py\", line 671, in process_mask\n",
      "    c, mh, mw = protos.shape  # CHW\n",
      "    ^^^^^^^^^\n",
      "ValueError: too many values to unpack (expected 3)\n"
     ]
    },
    {
     "name": "stdout",
     "output_type": "stream",
     "text": [
      "Error processing frame 99: too many values to unpack (expected 3)\n",
      "Frame shape: (640, 640, 3), dtype: uint8\n",
      "\n",
      "Error processing frame 100: too many values to unpack (expected 3)\n",
      "Frame shape: (640, 640, 3), dtype: uint8\n",
      "\n",
      "Error processing frame 101: too many values to unpack (expected 3)\n",
      "Frame shape: (640, 640, 3), dtype: uint8\n",
      "\n",
      "Error processing frame 102: too many values to unpack (expected 3)\n",
      "Frame shape: (640, 640, 3), dtype: uint8\n",
      "\n",
      "Error processing frame 103: too many values to unpack (expected 3)\n",
      "Frame shape: (640, 640, 3), dtype: uint8\n",
      "\n",
      "Error processing frame 104: too many values to unpack (expected 3)\n",
      "Frame shape: (640, 640, 3), dtype: uint8\n",
      "\n",
      "Error processing frame 105: too many values to unpack (expected 3)\n",
      "Frame shape: (640, 640, 3), dtype: uint8\n",
      "\n",
      "Error processing frame 106: too many values to unpack (expected 3)\n",
      "Frame shape: (640, 640, 3), dtype: uint8\n",
      "\n",
      "Error processing frame 107: too many values to unpack (expected 3)\n",
      "Frame shape: (640, 640, 3), dtype: uint8\n",
      "\n",
      "Error processing frame 108: too many values to unpack (expected 3)\n",
      "Frame shape: (640, 640, 3), dtype: uint8\n",
      "\n",
      "Error processing frame 109: too many values to unpack (expected 3)\n",
      "Frame shape: (640, 640, 3), dtype: uint8\n",
      "\n",
      "Error processing frame 110: too many values to unpack (expected 3)\n",
      "Frame shape: (640, 640, 3), dtype: uint8\n",
      "\n"
     ]
    },
    {
     "name": "stderr",
     "output_type": "stream",
     "text": [
      "Traceback (most recent call last):\n",
      "  File \"/tmp/ipykernel_2239786/1301476628.py\", line 65, in main\n",
      "    for result in results_generator:\n",
      "  File \"/home/spuser/.conda/envs/yanpan/lib/python3.11/site-packages/torch/utils/_contextlib.py\", line 36, in generator_context\n",
      "    response = gen.send(None)\n",
      "               ^^^^^^^^^^^^^^\n",
      "  File \"/home/spuser/.conda/envs/yanpan/lib/python3.11/site-packages/ultralytics/engine/predictor.py\", line 266, in stream_inference\n",
      "    self.results = self.postprocess(preds, im, im0s)\n",
      "                   ^^^^^^^^^^^^^^^^^^^^^^^^^^^^^^^^^\n",
      "  File \"/home/spuser/.conda/envs/yanpan/lib/python3.11/site-packages/ultralytics/models/yolo/segment/predict.py\", line 52, in postprocess\n",
      "    masks = ops.process_mask(proto[i], pred[:, 6:], pred[:, :4], img.shape[2:], upsample=True)  # HWC\n",
      "            ^^^^^^^^^^^^^^^^^^^^^^^^^^^^^^^^^^^^^^^^^^^^^^^^^^^^^^^^^^^^^^^^^^^^^^^^^^^^^^^^^^\n",
      "  File \"/home/spuser/.conda/envs/yanpan/lib/python3.11/site-packages/ultralytics/utils/ops.py\", line 671, in process_mask\n",
      "    c, mh, mw = protos.shape  # CHW\n",
      "    ^^^^^^^^^\n",
      "ValueError: too many values to unpack (expected 3)\n",
      "Traceback (most recent call last):\n",
      "  File \"/tmp/ipykernel_2239786/1301476628.py\", line 65, in main\n",
      "    for result in results_generator:\n",
      "  File \"/home/spuser/.conda/envs/yanpan/lib/python3.11/site-packages/torch/utils/_contextlib.py\", line 36, in generator_context\n",
      "    response = gen.send(None)\n",
      "               ^^^^^^^^^^^^^^\n",
      "  File \"/home/spuser/.conda/envs/yanpan/lib/python3.11/site-packages/ultralytics/engine/predictor.py\", line 266, in stream_inference\n",
      "    self.results = self.postprocess(preds, im, im0s)\n",
      "                   ^^^^^^^^^^^^^^^^^^^^^^^^^^^^^^^^^\n",
      "  File \"/home/spuser/.conda/envs/yanpan/lib/python3.11/site-packages/ultralytics/models/yolo/segment/predict.py\", line 52, in postprocess\n",
      "    masks = ops.process_mask(proto[i], pred[:, 6:], pred[:, :4], img.shape[2:], upsample=True)  # HWC\n",
      "            ^^^^^^^^^^^^^^^^^^^^^^^^^^^^^^^^^^^^^^^^^^^^^^^^^^^^^^^^^^^^^^^^^^^^^^^^^^^^^^^^^^\n",
      "  File \"/home/spuser/.conda/envs/yanpan/lib/python3.11/site-packages/ultralytics/utils/ops.py\", line 671, in process_mask\n",
      "    c, mh, mw = protos.shape  # CHW\n",
      "    ^^^^^^^^^\n",
      "ValueError: too many values to unpack (expected 3)\n",
      "Traceback (most recent call last):\n",
      "  File \"/tmp/ipykernel_2239786/1301476628.py\", line 65, in main\n",
      "    for result in results_generator:\n",
      "  File \"/home/spuser/.conda/envs/yanpan/lib/python3.11/site-packages/torch/utils/_contextlib.py\", line 36, in generator_context\n",
      "    response = gen.send(None)\n",
      "               ^^^^^^^^^^^^^^\n",
      "  File \"/home/spuser/.conda/envs/yanpan/lib/python3.11/site-packages/ultralytics/engine/predictor.py\", line 266, in stream_inference\n",
      "    self.results = self.postprocess(preds, im, im0s)\n",
      "                   ^^^^^^^^^^^^^^^^^^^^^^^^^^^^^^^^^\n",
      "  File \"/home/spuser/.conda/envs/yanpan/lib/python3.11/site-packages/ultralytics/models/yolo/segment/predict.py\", line 52, in postprocess\n",
      "    masks = ops.process_mask(proto[i], pred[:, 6:], pred[:, :4], img.shape[2:], upsample=True)  # HWC\n",
      "            ^^^^^^^^^^^^^^^^^^^^^^^^^^^^^^^^^^^^^^^^^^^^^^^^^^^^^^^^^^^^^^^^^^^^^^^^^^^^^^^^^^\n",
      "  File \"/home/spuser/.conda/envs/yanpan/lib/python3.11/site-packages/ultralytics/utils/ops.py\", line 671, in process_mask\n",
      "    c, mh, mw = protos.shape  # CHW\n",
      "    ^^^^^^^^^\n",
      "ValueError: too many values to unpack (expected 3)\n",
      "Traceback (most recent call last):\n",
      "  File \"/tmp/ipykernel_2239786/1301476628.py\", line 65, in main\n",
      "    for result in results_generator:\n",
      "  File \"/home/spuser/.conda/envs/yanpan/lib/python3.11/site-packages/torch/utils/_contextlib.py\", line 36, in generator_context\n",
      "    response = gen.send(None)\n",
      "               ^^^^^^^^^^^^^^\n",
      "  File \"/home/spuser/.conda/envs/yanpan/lib/python3.11/site-packages/ultralytics/engine/predictor.py\", line 266, in stream_inference\n",
      "    self.results = self.postprocess(preds, im, im0s)\n",
      "                   ^^^^^^^^^^^^^^^^^^^^^^^^^^^^^^^^^\n",
      "  File \"/home/spuser/.conda/envs/yanpan/lib/python3.11/site-packages/ultralytics/models/yolo/segment/predict.py\", line 52, in postprocess\n",
      "    masks = ops.process_mask(proto[i], pred[:, 6:], pred[:, :4], img.shape[2:], upsample=True)  # HWC\n",
      "            ^^^^^^^^^^^^^^^^^^^^^^^^^^^^^^^^^^^^^^^^^^^^^^^^^^^^^^^^^^^^^^^^^^^^^^^^^^^^^^^^^^\n",
      "  File \"/home/spuser/.conda/envs/yanpan/lib/python3.11/site-packages/ultralytics/utils/ops.py\", line 671, in process_mask\n",
      "    c, mh, mw = protos.shape  # CHW\n",
      "    ^^^^^^^^^\n",
      "ValueError: too many values to unpack (expected 3)\n",
      "Traceback (most recent call last):\n",
      "  File \"/tmp/ipykernel_2239786/1301476628.py\", line 65, in main\n",
      "    for result in results_generator:\n",
      "  File \"/home/spuser/.conda/envs/yanpan/lib/python3.11/site-packages/torch/utils/_contextlib.py\", line 36, in generator_context\n",
      "    response = gen.send(None)\n",
      "               ^^^^^^^^^^^^^^\n",
      "  File \"/home/spuser/.conda/envs/yanpan/lib/python3.11/site-packages/ultralytics/engine/predictor.py\", line 266, in stream_inference\n",
      "    self.results = self.postprocess(preds, im, im0s)\n",
      "                   ^^^^^^^^^^^^^^^^^^^^^^^^^^^^^^^^^\n",
      "  File \"/home/spuser/.conda/envs/yanpan/lib/python3.11/site-packages/ultralytics/models/yolo/segment/predict.py\", line 52, in postprocess\n",
      "    masks = ops.process_mask(proto[i], pred[:, 6:], pred[:, :4], img.shape[2:], upsample=True)  # HWC\n",
      "            ^^^^^^^^^^^^^^^^^^^^^^^^^^^^^^^^^^^^^^^^^^^^^^^^^^^^^^^^^^^^^^^^^^^^^^^^^^^^^^^^^^\n",
      "  File \"/home/spuser/.conda/envs/yanpan/lib/python3.11/site-packages/ultralytics/utils/ops.py\", line 671, in process_mask\n",
      "    c, mh, mw = protos.shape  # CHW\n",
      "    ^^^^^^^^^\n",
      "ValueError: too many values to unpack (expected 3)\n",
      "Traceback (most recent call last):\n",
      "  File \"/tmp/ipykernel_2239786/1301476628.py\", line 65, in main\n",
      "    for result in results_generator:\n",
      "  File \"/home/spuser/.conda/envs/yanpan/lib/python3.11/site-packages/torch/utils/_contextlib.py\", line 36, in generator_context\n",
      "    response = gen.send(None)\n",
      "               ^^^^^^^^^^^^^^\n",
      "  File \"/home/spuser/.conda/envs/yanpan/lib/python3.11/site-packages/ultralytics/engine/predictor.py\", line 266, in stream_inference\n",
      "    self.results = self.postprocess(preds, im, im0s)\n",
      "                   ^^^^^^^^^^^^^^^^^^^^^^^^^^^^^^^^^\n",
      "  File \"/home/spuser/.conda/envs/yanpan/lib/python3.11/site-packages/ultralytics/models/yolo/segment/predict.py\", line 52, in postprocess\n",
      "    masks = ops.process_mask(proto[i], pred[:, 6:], pred[:, :4], img.shape[2:], upsample=True)  # HWC\n",
      "            ^^^^^^^^^^^^^^^^^^^^^^^^^^^^^^^^^^^^^^^^^^^^^^^^^^^^^^^^^^^^^^^^^^^^^^^^^^^^^^^^^^\n",
      "  File \"/home/spuser/.conda/envs/yanpan/lib/python3.11/site-packages/ultralytics/utils/ops.py\", line 671, in process_mask\n",
      "    c, mh, mw = protos.shape  # CHW\n",
      "    ^^^^^^^^^\n",
      "ValueError: too many values to unpack (expected 3)\n",
      "Traceback (most recent call last):\n",
      "  File \"/tmp/ipykernel_2239786/1301476628.py\", line 65, in main\n",
      "    for result in results_generator:\n",
      "  File \"/home/spuser/.conda/envs/yanpan/lib/python3.11/site-packages/torch/utils/_contextlib.py\", line 36, in generator_context\n",
      "    response = gen.send(None)\n",
      "               ^^^^^^^^^^^^^^\n",
      "  File \"/home/spuser/.conda/envs/yanpan/lib/python3.11/site-packages/ultralytics/engine/predictor.py\", line 266, in stream_inference\n",
      "    self.results = self.postprocess(preds, im, im0s)\n",
      "                   ^^^^^^^^^^^^^^^^^^^^^^^^^^^^^^^^^\n",
      "  File \"/home/spuser/.conda/envs/yanpan/lib/python3.11/site-packages/ultralytics/models/yolo/segment/predict.py\", line 52, in postprocess\n",
      "    masks = ops.process_mask(proto[i], pred[:, 6:], pred[:, :4], img.shape[2:], upsample=True)  # HWC\n",
      "            ^^^^^^^^^^^^^^^^^^^^^^^^^^^^^^^^^^^^^^^^^^^^^^^^^^^^^^^^^^^^^^^^^^^^^^^^^^^^^^^^^^\n",
      "  File \"/home/spuser/.conda/envs/yanpan/lib/python3.11/site-packages/ultralytics/utils/ops.py\", line 671, in process_mask\n",
      "    c, mh, mw = protos.shape  # CHW\n",
      "    ^^^^^^^^^\n",
      "ValueError: too many values to unpack (expected 3)\n",
      "Traceback (most recent call last):\n",
      "  File \"/tmp/ipykernel_2239786/1301476628.py\", line 65, in main\n",
      "    for result in results_generator:\n",
      "  File \"/home/spuser/.conda/envs/yanpan/lib/python3.11/site-packages/torch/utils/_contextlib.py\", line 36, in generator_context\n",
      "    response = gen.send(None)\n",
      "               ^^^^^^^^^^^^^^\n",
      "  File \"/home/spuser/.conda/envs/yanpan/lib/python3.11/site-packages/ultralytics/engine/predictor.py\", line 266, in stream_inference\n",
      "    self.results = self.postprocess(preds, im, im0s)\n",
      "                   ^^^^^^^^^^^^^^^^^^^^^^^^^^^^^^^^^\n",
      "  File \"/home/spuser/.conda/envs/yanpan/lib/python3.11/site-packages/ultralytics/models/yolo/segment/predict.py\", line 52, in postprocess\n",
      "    masks = ops.process_mask(proto[i], pred[:, 6:], pred[:, :4], img.shape[2:], upsample=True)  # HWC\n",
      "            ^^^^^^^^^^^^^^^^^^^^^^^^^^^^^^^^^^^^^^^^^^^^^^^^^^^^^^^^^^^^^^^^^^^^^^^^^^^^^^^^^^\n",
      "  File \"/home/spuser/.conda/envs/yanpan/lib/python3.11/site-packages/ultralytics/utils/ops.py\", line 671, in process_mask\n",
      "    c, mh, mw = protos.shape  # CHW\n",
      "    ^^^^^^^^^\n",
      "ValueError: too many values to unpack (expected 3)\n",
      "Traceback (most recent call last):\n",
      "  File \"/tmp/ipykernel_2239786/1301476628.py\", line 65, in main\n",
      "    for result in results_generator:\n",
      "  File \"/home/spuser/.conda/envs/yanpan/lib/python3.11/site-packages/torch/utils/_contextlib.py\", line 36, in generator_context\n",
      "    response = gen.send(None)\n",
      "               ^^^^^^^^^^^^^^\n",
      "  File \"/home/spuser/.conda/envs/yanpan/lib/python3.11/site-packages/ultralytics/engine/predictor.py\", line 266, in stream_inference\n",
      "    self.results = self.postprocess(preds, im, im0s)\n",
      "                   ^^^^^^^^^^^^^^^^^^^^^^^^^^^^^^^^^\n",
      "  File \"/home/spuser/.conda/envs/yanpan/lib/python3.11/site-packages/ultralytics/models/yolo/segment/predict.py\", line 52, in postprocess\n",
      "    masks = ops.process_mask(proto[i], pred[:, 6:], pred[:, :4], img.shape[2:], upsample=True)  # HWC\n",
      "            ^^^^^^^^^^^^^^^^^^^^^^^^^^^^^^^^^^^^^^^^^^^^^^^^^^^^^^^^^^^^^^^^^^^^^^^^^^^^^^^^^^\n",
      "  File \"/home/spuser/.conda/envs/yanpan/lib/python3.11/site-packages/ultralytics/utils/ops.py\", line 671, in process_mask\n",
      "    c, mh, mw = protos.shape  # CHW\n",
      "    ^^^^^^^^^\n",
      "ValueError: too many values to unpack (expected 3)\n",
      "Traceback (most recent call last):\n",
      "  File \"/tmp/ipykernel_2239786/1301476628.py\", line 65, in main\n",
      "    for result in results_generator:\n",
      "  File \"/home/spuser/.conda/envs/yanpan/lib/python3.11/site-packages/torch/utils/_contextlib.py\", line 36, in generator_context\n",
      "    response = gen.send(None)\n",
      "               ^^^^^^^^^^^^^^\n",
      "  File \"/home/spuser/.conda/envs/yanpan/lib/python3.11/site-packages/ultralytics/engine/predictor.py\", line 266, in stream_inference\n",
      "    self.results = self.postprocess(preds, im, im0s)\n",
      "                   ^^^^^^^^^^^^^^^^^^^^^^^^^^^^^^^^^\n",
      "  File \"/home/spuser/.conda/envs/yanpan/lib/python3.11/site-packages/ultralytics/models/yolo/segment/predict.py\", line 52, in postprocess\n",
      "    masks = ops.process_mask(proto[i], pred[:, 6:], pred[:, :4], img.shape[2:], upsample=True)  # HWC\n",
      "            ^^^^^^^^^^^^^^^^^^^^^^^^^^^^^^^^^^^^^^^^^^^^^^^^^^^^^^^^^^^^^^^^^^^^^^^^^^^^^^^^^^\n",
      "  File \"/home/spuser/.conda/envs/yanpan/lib/python3.11/site-packages/ultralytics/utils/ops.py\", line 671, in process_mask\n",
      "    c, mh, mw = protos.shape  # CHW\n",
      "    ^^^^^^^^^\n",
      "ValueError: too many values to unpack (expected 3)\n",
      "Traceback (most recent call last):\n",
      "  File \"/tmp/ipykernel_2239786/1301476628.py\", line 65, in main\n",
      "    for result in results_generator:\n",
      "  File \"/home/spuser/.conda/envs/yanpan/lib/python3.11/site-packages/torch/utils/_contextlib.py\", line 36, in generator_context\n",
      "    response = gen.send(None)\n",
      "               ^^^^^^^^^^^^^^\n",
      "  File \"/home/spuser/.conda/envs/yanpan/lib/python3.11/site-packages/ultralytics/engine/predictor.py\", line 266, in stream_inference\n",
      "    self.results = self.postprocess(preds, im, im0s)\n",
      "                   ^^^^^^^^^^^^^^^^^^^^^^^^^^^^^^^^^\n",
      "  File \"/home/spuser/.conda/envs/yanpan/lib/python3.11/site-packages/ultralytics/models/yolo/segment/predict.py\", line 52, in postprocess\n",
      "    masks = ops.process_mask(proto[i], pred[:, 6:], pred[:, :4], img.shape[2:], upsample=True)  # HWC\n",
      "            ^^^^^^^^^^^^^^^^^^^^^^^^^^^^^^^^^^^^^^^^^^^^^^^^^^^^^^^^^^^^^^^^^^^^^^^^^^^^^^^^^^\n",
      "  File \"/home/spuser/.conda/envs/yanpan/lib/python3.11/site-packages/ultralytics/utils/ops.py\", line 671, in process_mask\n",
      "    c, mh, mw = protos.shape  # CHW\n",
      "    ^^^^^^^^^\n",
      "ValueError: too many values to unpack (expected 3)\n",
      "Traceback (most recent call last):\n",
      "  File \"/tmp/ipykernel_2239786/1301476628.py\", line 65, in main\n",
      "    for result in results_generator:\n",
      "  File \"/home/spuser/.conda/envs/yanpan/lib/python3.11/site-packages/torch/utils/_contextlib.py\", line 36, in generator_context\n",
      "    response = gen.send(None)\n",
      "               ^^^^^^^^^^^^^^\n",
      "  File \"/home/spuser/.conda/envs/yanpan/lib/python3.11/site-packages/ultralytics/engine/predictor.py\", line 266, in stream_inference\n",
      "    self.results = self.postprocess(preds, im, im0s)\n",
      "                   ^^^^^^^^^^^^^^^^^^^^^^^^^^^^^^^^^\n",
      "  File \"/home/spuser/.conda/envs/yanpan/lib/python3.11/site-packages/ultralytics/models/yolo/segment/predict.py\", line 52, in postprocess\n",
      "    masks = ops.process_mask(proto[i], pred[:, 6:], pred[:, :4], img.shape[2:], upsample=True)  # HWC\n",
      "            ^^^^^^^^^^^^^^^^^^^^^^^^^^^^^^^^^^^^^^^^^^^^^^^^^^^^^^^^^^^^^^^^^^^^^^^^^^^^^^^^^^\n",
      "  File \"/home/spuser/.conda/envs/yanpan/lib/python3.11/site-packages/ultralytics/utils/ops.py\", line 671, in process_mask\n",
      "    c, mh, mw = protos.shape  # CHW\n",
      "    ^^^^^^^^^\n",
      "ValueError: too many values to unpack (expected 3)\n"
     ]
    },
    {
     "name": "stdout",
     "output_type": "stream",
     "text": [
      "Error processing frame 111: too many values to unpack (expected 3)\n",
      "Frame shape: (640, 640, 3), dtype: uint8\n",
      "\n",
      "Error processing frame 112: too many values to unpack (expected 3)\n",
      "Frame shape: (640, 640, 3), dtype: uint8\n",
      "\n",
      "Error processing frame 113: too many values to unpack (expected 3)\n",
      "Frame shape: (640, 640, 3), dtype: uint8\n",
      "\n",
      "Error processing frame 114: too many values to unpack (expected 3)\n",
      "Frame shape: (640, 640, 3), dtype: uint8\n",
      "\n",
      "Error processing frame 115: too many values to unpack (expected 3)\n",
      "Frame shape: (640, 640, 3), dtype: uint8\n",
      "\n",
      "Error processing frame 116: too many values to unpack (expected 3)\n",
      "Frame shape: (640, 640, 3), dtype: uint8\n",
      "\n",
      "Error processing frame 117: too many values to unpack (expected 3)\n",
      "Frame shape: (640, 640, 3), dtype: uint8\n",
      "\n",
      "Error processing frame 118: too many values to unpack (expected 3)\n",
      "Frame shape: (640, 640, 3), dtype: uint8\n",
      "\n",
      "Error processing frame 119: too many values to unpack (expected 3)\n",
      "Frame shape: (640, 640, 3), dtype: uint8\n",
      "\n",
      "Error processing frame 120: too many values to unpack (expected 3)\n",
      "Frame shape: (640, 640, 3), dtype: uint8\n",
      "\n",
      "Error processing frame 121: too many values to unpack (expected 3)\n",
      "Frame shape: (640, 640, 3), dtype: uint8\n",
      "\n"
     ]
    },
    {
     "name": "stderr",
     "output_type": "stream",
     "text": [
      "Traceback (most recent call last):\n",
      "  File \"/tmp/ipykernel_2239786/1301476628.py\", line 65, in main\n",
      "    for result in results_generator:\n",
      "  File \"/home/spuser/.conda/envs/yanpan/lib/python3.11/site-packages/torch/utils/_contextlib.py\", line 36, in generator_context\n",
      "    response = gen.send(None)\n",
      "               ^^^^^^^^^^^^^^\n",
      "  File \"/home/spuser/.conda/envs/yanpan/lib/python3.11/site-packages/ultralytics/engine/predictor.py\", line 266, in stream_inference\n",
      "    self.results = self.postprocess(preds, im, im0s)\n",
      "                   ^^^^^^^^^^^^^^^^^^^^^^^^^^^^^^^^^\n",
      "  File \"/home/spuser/.conda/envs/yanpan/lib/python3.11/site-packages/ultralytics/models/yolo/segment/predict.py\", line 52, in postprocess\n",
      "    masks = ops.process_mask(proto[i], pred[:, 6:], pred[:, :4], img.shape[2:], upsample=True)  # HWC\n",
      "            ^^^^^^^^^^^^^^^^^^^^^^^^^^^^^^^^^^^^^^^^^^^^^^^^^^^^^^^^^^^^^^^^^^^^^^^^^^^^^^^^^^\n",
      "  File \"/home/spuser/.conda/envs/yanpan/lib/python3.11/site-packages/ultralytics/utils/ops.py\", line 671, in process_mask\n",
      "    c, mh, mw = protos.shape  # CHW\n",
      "    ^^^^^^^^^\n",
      "ValueError: too many values to unpack (expected 3)\n",
      "Traceback (most recent call last):\n",
      "  File \"/tmp/ipykernel_2239786/1301476628.py\", line 65, in main\n",
      "    for result in results_generator:\n",
      "  File \"/home/spuser/.conda/envs/yanpan/lib/python3.11/site-packages/torch/utils/_contextlib.py\", line 36, in generator_context\n",
      "    response = gen.send(None)\n",
      "               ^^^^^^^^^^^^^^\n",
      "  File \"/home/spuser/.conda/envs/yanpan/lib/python3.11/site-packages/ultralytics/engine/predictor.py\", line 266, in stream_inference\n",
      "    self.results = self.postprocess(preds, im, im0s)\n",
      "                   ^^^^^^^^^^^^^^^^^^^^^^^^^^^^^^^^^\n",
      "  File \"/home/spuser/.conda/envs/yanpan/lib/python3.11/site-packages/ultralytics/models/yolo/segment/predict.py\", line 52, in postprocess\n",
      "    masks = ops.process_mask(proto[i], pred[:, 6:], pred[:, :4], img.shape[2:], upsample=True)  # HWC\n",
      "            ^^^^^^^^^^^^^^^^^^^^^^^^^^^^^^^^^^^^^^^^^^^^^^^^^^^^^^^^^^^^^^^^^^^^^^^^^^^^^^^^^^\n",
      "  File \"/home/spuser/.conda/envs/yanpan/lib/python3.11/site-packages/ultralytics/utils/ops.py\", line 671, in process_mask\n",
      "    c, mh, mw = protos.shape  # CHW\n",
      "    ^^^^^^^^^\n",
      "ValueError: too many values to unpack (expected 3)\n",
      "Traceback (most recent call last):\n",
      "  File \"/tmp/ipykernel_2239786/1301476628.py\", line 65, in main\n",
      "    for result in results_generator:\n",
      "  File \"/home/spuser/.conda/envs/yanpan/lib/python3.11/site-packages/torch/utils/_contextlib.py\", line 36, in generator_context\n",
      "    response = gen.send(None)\n",
      "               ^^^^^^^^^^^^^^\n",
      "  File \"/home/spuser/.conda/envs/yanpan/lib/python3.11/site-packages/ultralytics/engine/predictor.py\", line 266, in stream_inference\n",
      "    self.results = self.postprocess(preds, im, im0s)\n",
      "                   ^^^^^^^^^^^^^^^^^^^^^^^^^^^^^^^^^\n",
      "  File \"/home/spuser/.conda/envs/yanpan/lib/python3.11/site-packages/ultralytics/models/yolo/segment/predict.py\", line 52, in postprocess\n",
      "    masks = ops.process_mask(proto[i], pred[:, 6:], pred[:, :4], img.shape[2:], upsample=True)  # HWC\n",
      "            ^^^^^^^^^^^^^^^^^^^^^^^^^^^^^^^^^^^^^^^^^^^^^^^^^^^^^^^^^^^^^^^^^^^^^^^^^^^^^^^^^^\n",
      "  File \"/home/spuser/.conda/envs/yanpan/lib/python3.11/site-packages/ultralytics/utils/ops.py\", line 671, in process_mask\n",
      "    c, mh, mw = protos.shape  # CHW\n",
      "    ^^^^^^^^^\n",
      "ValueError: too many values to unpack (expected 3)\n",
      "Traceback (most recent call last):\n",
      "  File \"/tmp/ipykernel_2239786/1301476628.py\", line 65, in main\n",
      "    for result in results_generator:\n",
      "  File \"/home/spuser/.conda/envs/yanpan/lib/python3.11/site-packages/torch/utils/_contextlib.py\", line 36, in generator_context\n",
      "    response = gen.send(None)\n",
      "               ^^^^^^^^^^^^^^\n",
      "  File \"/home/spuser/.conda/envs/yanpan/lib/python3.11/site-packages/ultralytics/engine/predictor.py\", line 266, in stream_inference\n",
      "    self.results = self.postprocess(preds, im, im0s)\n",
      "                   ^^^^^^^^^^^^^^^^^^^^^^^^^^^^^^^^^\n",
      "  File \"/home/spuser/.conda/envs/yanpan/lib/python3.11/site-packages/ultralytics/models/yolo/segment/predict.py\", line 52, in postprocess\n",
      "    masks = ops.process_mask(proto[i], pred[:, 6:], pred[:, :4], img.shape[2:], upsample=True)  # HWC\n",
      "            ^^^^^^^^^^^^^^^^^^^^^^^^^^^^^^^^^^^^^^^^^^^^^^^^^^^^^^^^^^^^^^^^^^^^^^^^^^^^^^^^^^\n",
      "  File \"/home/spuser/.conda/envs/yanpan/lib/python3.11/site-packages/ultralytics/utils/ops.py\", line 671, in process_mask\n",
      "    c, mh, mw = protos.shape  # CHW\n",
      "    ^^^^^^^^^\n",
      "ValueError: too many values to unpack (expected 3)\n",
      "Traceback (most recent call last):\n",
      "  File \"/tmp/ipykernel_2239786/1301476628.py\", line 65, in main\n",
      "    for result in results_generator:\n",
      "  File \"/home/spuser/.conda/envs/yanpan/lib/python3.11/site-packages/torch/utils/_contextlib.py\", line 36, in generator_context\n",
      "    response = gen.send(None)\n",
      "               ^^^^^^^^^^^^^^\n",
      "  File \"/home/spuser/.conda/envs/yanpan/lib/python3.11/site-packages/ultralytics/engine/predictor.py\", line 266, in stream_inference\n",
      "    self.results = self.postprocess(preds, im, im0s)\n",
      "                   ^^^^^^^^^^^^^^^^^^^^^^^^^^^^^^^^^\n",
      "  File \"/home/spuser/.conda/envs/yanpan/lib/python3.11/site-packages/ultralytics/models/yolo/segment/predict.py\", line 52, in postprocess\n",
      "    masks = ops.process_mask(proto[i], pred[:, 6:], pred[:, :4], img.shape[2:], upsample=True)  # HWC\n",
      "            ^^^^^^^^^^^^^^^^^^^^^^^^^^^^^^^^^^^^^^^^^^^^^^^^^^^^^^^^^^^^^^^^^^^^^^^^^^^^^^^^^^\n",
      "  File \"/home/spuser/.conda/envs/yanpan/lib/python3.11/site-packages/ultralytics/utils/ops.py\", line 671, in process_mask\n",
      "    c, mh, mw = protos.shape  # CHW\n",
      "    ^^^^^^^^^\n",
      "ValueError: too many values to unpack (expected 3)\n",
      "Traceback (most recent call last):\n",
      "  File \"/tmp/ipykernel_2239786/1301476628.py\", line 65, in main\n",
      "    for result in results_generator:\n",
      "  File \"/home/spuser/.conda/envs/yanpan/lib/python3.11/site-packages/torch/utils/_contextlib.py\", line 36, in generator_context\n",
      "    response = gen.send(None)\n",
      "               ^^^^^^^^^^^^^^\n",
      "  File \"/home/spuser/.conda/envs/yanpan/lib/python3.11/site-packages/ultralytics/engine/predictor.py\", line 266, in stream_inference\n",
      "    self.results = self.postprocess(preds, im, im0s)\n",
      "                   ^^^^^^^^^^^^^^^^^^^^^^^^^^^^^^^^^\n",
      "  File \"/home/spuser/.conda/envs/yanpan/lib/python3.11/site-packages/ultralytics/models/yolo/segment/predict.py\", line 52, in postprocess\n",
      "    masks = ops.process_mask(proto[i], pred[:, 6:], pred[:, :4], img.shape[2:], upsample=True)  # HWC\n",
      "            ^^^^^^^^^^^^^^^^^^^^^^^^^^^^^^^^^^^^^^^^^^^^^^^^^^^^^^^^^^^^^^^^^^^^^^^^^^^^^^^^^^\n",
      "  File \"/home/spuser/.conda/envs/yanpan/lib/python3.11/site-packages/ultralytics/utils/ops.py\", line 671, in process_mask\n",
      "    c, mh, mw = protos.shape  # CHW\n",
      "    ^^^^^^^^^\n",
      "ValueError: too many values to unpack (expected 3)\n",
      "Traceback (most recent call last):\n",
      "  File \"/tmp/ipykernel_2239786/1301476628.py\", line 65, in main\n",
      "    for result in results_generator:\n",
      "  File \"/home/spuser/.conda/envs/yanpan/lib/python3.11/site-packages/torch/utils/_contextlib.py\", line 36, in generator_context\n",
      "    response = gen.send(None)\n",
      "               ^^^^^^^^^^^^^^\n",
      "  File \"/home/spuser/.conda/envs/yanpan/lib/python3.11/site-packages/ultralytics/engine/predictor.py\", line 266, in stream_inference\n",
      "    self.results = self.postprocess(preds, im, im0s)\n",
      "                   ^^^^^^^^^^^^^^^^^^^^^^^^^^^^^^^^^\n",
      "  File \"/home/spuser/.conda/envs/yanpan/lib/python3.11/site-packages/ultralytics/models/yolo/segment/predict.py\", line 52, in postprocess\n",
      "    masks = ops.process_mask(proto[i], pred[:, 6:], pred[:, :4], img.shape[2:], upsample=True)  # HWC\n",
      "            ^^^^^^^^^^^^^^^^^^^^^^^^^^^^^^^^^^^^^^^^^^^^^^^^^^^^^^^^^^^^^^^^^^^^^^^^^^^^^^^^^^\n",
      "  File \"/home/spuser/.conda/envs/yanpan/lib/python3.11/site-packages/ultralytics/utils/ops.py\", line 671, in process_mask\n",
      "    c, mh, mw = protos.shape  # CHW\n",
      "    ^^^^^^^^^\n",
      "ValueError: too many values to unpack (expected 3)\n",
      "Traceback (most recent call last):\n",
      "  File \"/tmp/ipykernel_2239786/1301476628.py\", line 65, in main\n",
      "    for result in results_generator:\n",
      "  File \"/home/spuser/.conda/envs/yanpan/lib/python3.11/site-packages/torch/utils/_contextlib.py\", line 36, in generator_context\n",
      "    response = gen.send(None)\n",
      "               ^^^^^^^^^^^^^^\n",
      "  File \"/home/spuser/.conda/envs/yanpan/lib/python3.11/site-packages/ultralytics/engine/predictor.py\", line 266, in stream_inference\n",
      "    self.results = self.postprocess(preds, im, im0s)\n",
      "                   ^^^^^^^^^^^^^^^^^^^^^^^^^^^^^^^^^\n",
      "  File \"/home/spuser/.conda/envs/yanpan/lib/python3.11/site-packages/ultralytics/models/yolo/segment/predict.py\", line 52, in postprocess\n",
      "    masks = ops.process_mask(proto[i], pred[:, 6:], pred[:, :4], img.shape[2:], upsample=True)  # HWC\n",
      "            ^^^^^^^^^^^^^^^^^^^^^^^^^^^^^^^^^^^^^^^^^^^^^^^^^^^^^^^^^^^^^^^^^^^^^^^^^^^^^^^^^^\n",
      "  File \"/home/spuser/.conda/envs/yanpan/lib/python3.11/site-packages/ultralytics/utils/ops.py\", line 671, in process_mask\n",
      "    c, mh, mw = protos.shape  # CHW\n",
      "    ^^^^^^^^^\n",
      "ValueError: too many values to unpack (expected 3)\n",
      "Traceback (most recent call last):\n",
      "  File \"/tmp/ipykernel_2239786/1301476628.py\", line 65, in main\n",
      "    for result in results_generator:\n",
      "  File \"/home/spuser/.conda/envs/yanpan/lib/python3.11/site-packages/torch/utils/_contextlib.py\", line 36, in generator_context\n",
      "    response = gen.send(None)\n",
      "               ^^^^^^^^^^^^^^\n",
      "  File \"/home/spuser/.conda/envs/yanpan/lib/python3.11/site-packages/ultralytics/engine/predictor.py\", line 266, in stream_inference\n",
      "    self.results = self.postprocess(preds, im, im0s)\n",
      "                   ^^^^^^^^^^^^^^^^^^^^^^^^^^^^^^^^^\n",
      "  File \"/home/spuser/.conda/envs/yanpan/lib/python3.11/site-packages/ultralytics/models/yolo/segment/predict.py\", line 52, in postprocess\n",
      "    masks = ops.process_mask(proto[i], pred[:, 6:], pred[:, :4], img.shape[2:], upsample=True)  # HWC\n",
      "            ^^^^^^^^^^^^^^^^^^^^^^^^^^^^^^^^^^^^^^^^^^^^^^^^^^^^^^^^^^^^^^^^^^^^^^^^^^^^^^^^^^\n",
      "  File \"/home/spuser/.conda/envs/yanpan/lib/python3.11/site-packages/ultralytics/utils/ops.py\", line 671, in process_mask\n",
      "    c, mh, mw = protos.shape  # CHW\n",
      "    ^^^^^^^^^\n",
      "ValueError: too many values to unpack (expected 3)\n",
      "Traceback (most recent call last):\n",
      "  File \"/tmp/ipykernel_2239786/1301476628.py\", line 65, in main\n",
      "    for result in results_generator:\n",
      "  File \"/home/spuser/.conda/envs/yanpan/lib/python3.11/site-packages/torch/utils/_contextlib.py\", line 36, in generator_context\n",
      "    response = gen.send(None)\n",
      "               ^^^^^^^^^^^^^^\n",
      "  File \"/home/spuser/.conda/envs/yanpan/lib/python3.11/site-packages/ultralytics/engine/predictor.py\", line 266, in stream_inference\n",
      "    self.results = self.postprocess(preds, im, im0s)\n",
      "                   ^^^^^^^^^^^^^^^^^^^^^^^^^^^^^^^^^\n",
      "  File \"/home/spuser/.conda/envs/yanpan/lib/python3.11/site-packages/ultralytics/models/yolo/segment/predict.py\", line 52, in postprocess\n",
      "    masks = ops.process_mask(proto[i], pred[:, 6:], pred[:, :4], img.shape[2:], upsample=True)  # HWC\n",
      "            ^^^^^^^^^^^^^^^^^^^^^^^^^^^^^^^^^^^^^^^^^^^^^^^^^^^^^^^^^^^^^^^^^^^^^^^^^^^^^^^^^^\n",
      "  File \"/home/spuser/.conda/envs/yanpan/lib/python3.11/site-packages/ultralytics/utils/ops.py\", line 671, in process_mask\n",
      "    c, mh, mw = protos.shape  # CHW\n",
      "    ^^^^^^^^^\n",
      "ValueError: too many values to unpack (expected 3)\n",
      "Traceback (most recent call last):\n",
      "  File \"/tmp/ipykernel_2239786/1301476628.py\", line 65, in main\n",
      "    for result in results_generator:\n",
      "  File \"/home/spuser/.conda/envs/yanpan/lib/python3.11/site-packages/torch/utils/_contextlib.py\", line 36, in generator_context\n",
      "    response = gen.send(None)\n",
      "               ^^^^^^^^^^^^^^\n",
      "  File \"/home/spuser/.conda/envs/yanpan/lib/python3.11/site-packages/ultralytics/engine/predictor.py\", line 266, in stream_inference\n",
      "    self.results = self.postprocess(preds, im, im0s)\n",
      "                   ^^^^^^^^^^^^^^^^^^^^^^^^^^^^^^^^^\n",
      "  File \"/home/spuser/.conda/envs/yanpan/lib/python3.11/site-packages/ultralytics/models/yolo/segment/predict.py\", line 52, in postprocess\n",
      "    masks = ops.process_mask(proto[i], pred[:, 6:], pred[:, :4], img.shape[2:], upsample=True)  # HWC\n",
      "            ^^^^^^^^^^^^^^^^^^^^^^^^^^^^^^^^^^^^^^^^^^^^^^^^^^^^^^^^^^^^^^^^^^^^^^^^^^^^^^^^^^\n",
      "  File \"/home/spuser/.conda/envs/yanpan/lib/python3.11/site-packages/ultralytics/utils/ops.py\", line 671, in process_mask\n",
      "    c, mh, mw = protos.shape  # CHW\n",
      "    ^^^^^^^^^\n",
      "ValueError: too many values to unpack (expected 3)\n"
     ]
    },
    {
     "name": "stdout",
     "output_type": "stream",
     "text": [
      "Error processing frame 122: too many values to unpack (expected 3)\n",
      "Frame shape: (640, 640, 3), dtype: uint8\n",
      "\n",
      "Error processing frame 123: too many values to unpack (expected 3)\n",
      "Frame shape: (640, 640, 3), dtype: uint8\n",
      "\n",
      "Error processing frame 124: too many values to unpack (expected 3)\n",
      "Frame shape: (640, 640, 3), dtype: uint8\n",
      "\n",
      "Error processing frame 125: too many values to unpack (expected 3)\n",
      "Frame shape: (640, 640, 3), dtype: uint8\n",
      "\n",
      "Error processing frame 126: too many values to unpack (expected 3)\n",
      "Frame shape: (640, 640, 3), dtype: uint8\n",
      "\n",
      "Error processing frame 127: too many values to unpack (expected 3)\n",
      "Frame shape: (640, 640, 3), dtype: uint8\n",
      "\n",
      "Error processing frame 128: too many values to unpack (expected 3)\n",
      "Frame shape: (640, 640, 3), dtype: uint8\n",
      "\n",
      "Error processing frame 129: too many values to unpack (expected 3)\n",
      "Frame shape: (640, 640, 3), dtype: uint8\n",
      "\n",
      "Error processing frame 130: too many values to unpack (expected 3)\n",
      "Frame shape: (640, 640, 3), dtype: uint8\n",
      "\n",
      "Error processing frame 131: too many values to unpack (expected 3)\n",
      "Frame shape: (640, 640, 3), dtype: uint8\n",
      "\n",
      "Error processing frame 132: too many values to unpack (expected 3)\n",
      "Frame shape: (640, 640, 3), dtype: uint8\n",
      "\n"
     ]
    },
    {
     "name": "stderr",
     "output_type": "stream",
     "text": [
      "Traceback (most recent call last):\n",
      "  File \"/tmp/ipykernel_2239786/1301476628.py\", line 65, in main\n",
      "    for result in results_generator:\n",
      "  File \"/home/spuser/.conda/envs/yanpan/lib/python3.11/site-packages/torch/utils/_contextlib.py\", line 36, in generator_context\n",
      "    response = gen.send(None)\n",
      "               ^^^^^^^^^^^^^^\n",
      "  File \"/home/spuser/.conda/envs/yanpan/lib/python3.11/site-packages/ultralytics/engine/predictor.py\", line 266, in stream_inference\n",
      "    self.results = self.postprocess(preds, im, im0s)\n",
      "                   ^^^^^^^^^^^^^^^^^^^^^^^^^^^^^^^^^\n",
      "  File \"/home/spuser/.conda/envs/yanpan/lib/python3.11/site-packages/ultralytics/models/yolo/segment/predict.py\", line 52, in postprocess\n",
      "    masks = ops.process_mask(proto[i], pred[:, 6:], pred[:, :4], img.shape[2:], upsample=True)  # HWC\n",
      "            ^^^^^^^^^^^^^^^^^^^^^^^^^^^^^^^^^^^^^^^^^^^^^^^^^^^^^^^^^^^^^^^^^^^^^^^^^^^^^^^^^^\n",
      "  File \"/home/spuser/.conda/envs/yanpan/lib/python3.11/site-packages/ultralytics/utils/ops.py\", line 671, in process_mask\n",
      "    c, mh, mw = protos.shape  # CHW\n",
      "    ^^^^^^^^^\n",
      "ValueError: too many values to unpack (expected 3)\n",
      "Traceback (most recent call last):\n",
      "  File \"/tmp/ipykernel_2239786/1301476628.py\", line 65, in main\n",
      "    for result in results_generator:\n",
      "  File \"/home/spuser/.conda/envs/yanpan/lib/python3.11/site-packages/torch/utils/_contextlib.py\", line 36, in generator_context\n",
      "    response = gen.send(None)\n",
      "               ^^^^^^^^^^^^^^\n",
      "  File \"/home/spuser/.conda/envs/yanpan/lib/python3.11/site-packages/ultralytics/engine/predictor.py\", line 266, in stream_inference\n",
      "    self.results = self.postprocess(preds, im, im0s)\n",
      "                   ^^^^^^^^^^^^^^^^^^^^^^^^^^^^^^^^^\n",
      "  File \"/home/spuser/.conda/envs/yanpan/lib/python3.11/site-packages/ultralytics/models/yolo/segment/predict.py\", line 52, in postprocess\n",
      "    masks = ops.process_mask(proto[i], pred[:, 6:], pred[:, :4], img.shape[2:], upsample=True)  # HWC\n",
      "            ^^^^^^^^^^^^^^^^^^^^^^^^^^^^^^^^^^^^^^^^^^^^^^^^^^^^^^^^^^^^^^^^^^^^^^^^^^^^^^^^^^\n",
      "  File \"/home/spuser/.conda/envs/yanpan/lib/python3.11/site-packages/ultralytics/utils/ops.py\", line 671, in process_mask\n",
      "    c, mh, mw = protos.shape  # CHW\n",
      "    ^^^^^^^^^\n",
      "ValueError: too many values to unpack (expected 3)\n",
      "Traceback (most recent call last):\n",
      "  File \"/tmp/ipykernel_2239786/1301476628.py\", line 65, in main\n",
      "    for result in results_generator:\n",
      "  File \"/home/spuser/.conda/envs/yanpan/lib/python3.11/site-packages/torch/utils/_contextlib.py\", line 36, in generator_context\n",
      "    response = gen.send(None)\n",
      "               ^^^^^^^^^^^^^^\n",
      "  File \"/home/spuser/.conda/envs/yanpan/lib/python3.11/site-packages/ultralytics/engine/predictor.py\", line 266, in stream_inference\n",
      "    self.results = self.postprocess(preds, im, im0s)\n",
      "                   ^^^^^^^^^^^^^^^^^^^^^^^^^^^^^^^^^\n",
      "  File \"/home/spuser/.conda/envs/yanpan/lib/python3.11/site-packages/ultralytics/models/yolo/segment/predict.py\", line 52, in postprocess\n",
      "    masks = ops.process_mask(proto[i], pred[:, 6:], pred[:, :4], img.shape[2:], upsample=True)  # HWC\n",
      "            ^^^^^^^^^^^^^^^^^^^^^^^^^^^^^^^^^^^^^^^^^^^^^^^^^^^^^^^^^^^^^^^^^^^^^^^^^^^^^^^^^^\n",
      "  File \"/home/spuser/.conda/envs/yanpan/lib/python3.11/site-packages/ultralytics/utils/ops.py\", line 671, in process_mask\n",
      "    c, mh, mw = protos.shape  # CHW\n",
      "    ^^^^^^^^^\n",
      "ValueError: too many values to unpack (expected 3)\n",
      "Traceback (most recent call last):\n",
      "  File \"/tmp/ipykernel_2239786/1301476628.py\", line 65, in main\n",
      "    for result in results_generator:\n",
      "  File \"/home/spuser/.conda/envs/yanpan/lib/python3.11/site-packages/torch/utils/_contextlib.py\", line 36, in generator_context\n",
      "    response = gen.send(None)\n",
      "               ^^^^^^^^^^^^^^\n",
      "  File \"/home/spuser/.conda/envs/yanpan/lib/python3.11/site-packages/ultralytics/engine/predictor.py\", line 266, in stream_inference\n",
      "    self.results = self.postprocess(preds, im, im0s)\n",
      "                   ^^^^^^^^^^^^^^^^^^^^^^^^^^^^^^^^^\n",
      "  File \"/home/spuser/.conda/envs/yanpan/lib/python3.11/site-packages/ultralytics/models/yolo/segment/predict.py\", line 52, in postprocess\n",
      "    masks = ops.process_mask(proto[i], pred[:, 6:], pred[:, :4], img.shape[2:], upsample=True)  # HWC\n",
      "            ^^^^^^^^^^^^^^^^^^^^^^^^^^^^^^^^^^^^^^^^^^^^^^^^^^^^^^^^^^^^^^^^^^^^^^^^^^^^^^^^^^\n",
      "  File \"/home/spuser/.conda/envs/yanpan/lib/python3.11/site-packages/ultralytics/utils/ops.py\", line 671, in process_mask\n",
      "    c, mh, mw = protos.shape  # CHW\n",
      "    ^^^^^^^^^\n",
      "ValueError: too many values to unpack (expected 3)\n",
      "Traceback (most recent call last):\n",
      "  File \"/tmp/ipykernel_2239786/1301476628.py\", line 65, in main\n",
      "    for result in results_generator:\n",
      "  File \"/home/spuser/.conda/envs/yanpan/lib/python3.11/site-packages/torch/utils/_contextlib.py\", line 36, in generator_context\n",
      "    response = gen.send(None)\n",
      "               ^^^^^^^^^^^^^^\n",
      "  File \"/home/spuser/.conda/envs/yanpan/lib/python3.11/site-packages/ultralytics/engine/predictor.py\", line 266, in stream_inference\n",
      "    self.results = self.postprocess(preds, im, im0s)\n",
      "                   ^^^^^^^^^^^^^^^^^^^^^^^^^^^^^^^^^\n",
      "  File \"/home/spuser/.conda/envs/yanpan/lib/python3.11/site-packages/ultralytics/models/yolo/segment/predict.py\", line 52, in postprocess\n",
      "    masks = ops.process_mask(proto[i], pred[:, 6:], pred[:, :4], img.shape[2:], upsample=True)  # HWC\n",
      "            ^^^^^^^^^^^^^^^^^^^^^^^^^^^^^^^^^^^^^^^^^^^^^^^^^^^^^^^^^^^^^^^^^^^^^^^^^^^^^^^^^^\n",
      "  File \"/home/spuser/.conda/envs/yanpan/lib/python3.11/site-packages/ultralytics/utils/ops.py\", line 671, in process_mask\n",
      "    c, mh, mw = protos.shape  # CHW\n",
      "    ^^^^^^^^^\n",
      "ValueError: too many values to unpack (expected 3)\n",
      "Traceback (most recent call last):\n",
      "  File \"/tmp/ipykernel_2239786/1301476628.py\", line 65, in main\n",
      "    for result in results_generator:\n",
      "  File \"/home/spuser/.conda/envs/yanpan/lib/python3.11/site-packages/torch/utils/_contextlib.py\", line 36, in generator_context\n",
      "    response = gen.send(None)\n",
      "               ^^^^^^^^^^^^^^\n",
      "  File \"/home/spuser/.conda/envs/yanpan/lib/python3.11/site-packages/ultralytics/engine/predictor.py\", line 266, in stream_inference\n",
      "    self.results = self.postprocess(preds, im, im0s)\n",
      "                   ^^^^^^^^^^^^^^^^^^^^^^^^^^^^^^^^^\n",
      "  File \"/home/spuser/.conda/envs/yanpan/lib/python3.11/site-packages/ultralytics/models/yolo/segment/predict.py\", line 52, in postprocess\n",
      "    masks = ops.process_mask(proto[i], pred[:, 6:], pred[:, :4], img.shape[2:], upsample=True)  # HWC\n",
      "            ^^^^^^^^^^^^^^^^^^^^^^^^^^^^^^^^^^^^^^^^^^^^^^^^^^^^^^^^^^^^^^^^^^^^^^^^^^^^^^^^^^\n",
      "  File \"/home/spuser/.conda/envs/yanpan/lib/python3.11/site-packages/ultralytics/utils/ops.py\", line 671, in process_mask\n",
      "    c, mh, mw = protos.shape  # CHW\n",
      "    ^^^^^^^^^\n",
      "ValueError: too many values to unpack (expected 3)\n",
      "Traceback (most recent call last):\n",
      "  File \"/tmp/ipykernel_2239786/1301476628.py\", line 65, in main\n",
      "    for result in results_generator:\n",
      "  File \"/home/spuser/.conda/envs/yanpan/lib/python3.11/site-packages/torch/utils/_contextlib.py\", line 36, in generator_context\n",
      "    response = gen.send(None)\n",
      "               ^^^^^^^^^^^^^^\n",
      "  File \"/home/spuser/.conda/envs/yanpan/lib/python3.11/site-packages/ultralytics/engine/predictor.py\", line 266, in stream_inference\n",
      "    self.results = self.postprocess(preds, im, im0s)\n",
      "                   ^^^^^^^^^^^^^^^^^^^^^^^^^^^^^^^^^\n",
      "  File \"/home/spuser/.conda/envs/yanpan/lib/python3.11/site-packages/ultralytics/models/yolo/segment/predict.py\", line 52, in postprocess\n",
      "    masks = ops.process_mask(proto[i], pred[:, 6:], pred[:, :4], img.shape[2:], upsample=True)  # HWC\n",
      "            ^^^^^^^^^^^^^^^^^^^^^^^^^^^^^^^^^^^^^^^^^^^^^^^^^^^^^^^^^^^^^^^^^^^^^^^^^^^^^^^^^^\n",
      "  File \"/home/spuser/.conda/envs/yanpan/lib/python3.11/site-packages/ultralytics/utils/ops.py\", line 671, in process_mask\n",
      "    c, mh, mw = protos.shape  # CHW\n",
      "    ^^^^^^^^^\n",
      "ValueError: too many values to unpack (expected 3)\n",
      "Traceback (most recent call last):\n",
      "  File \"/tmp/ipykernel_2239786/1301476628.py\", line 65, in main\n",
      "    for result in results_generator:\n",
      "  File \"/home/spuser/.conda/envs/yanpan/lib/python3.11/site-packages/torch/utils/_contextlib.py\", line 36, in generator_context\n",
      "    response = gen.send(None)\n",
      "               ^^^^^^^^^^^^^^\n",
      "  File \"/home/spuser/.conda/envs/yanpan/lib/python3.11/site-packages/ultralytics/engine/predictor.py\", line 266, in stream_inference\n",
      "    self.results = self.postprocess(preds, im, im0s)\n",
      "                   ^^^^^^^^^^^^^^^^^^^^^^^^^^^^^^^^^\n",
      "  File \"/home/spuser/.conda/envs/yanpan/lib/python3.11/site-packages/ultralytics/models/yolo/segment/predict.py\", line 52, in postprocess\n",
      "    masks = ops.process_mask(proto[i], pred[:, 6:], pred[:, :4], img.shape[2:], upsample=True)  # HWC\n",
      "            ^^^^^^^^^^^^^^^^^^^^^^^^^^^^^^^^^^^^^^^^^^^^^^^^^^^^^^^^^^^^^^^^^^^^^^^^^^^^^^^^^^\n",
      "  File \"/home/spuser/.conda/envs/yanpan/lib/python3.11/site-packages/ultralytics/utils/ops.py\", line 671, in process_mask\n",
      "    c, mh, mw = protos.shape  # CHW\n",
      "    ^^^^^^^^^\n",
      "ValueError: too many values to unpack (expected 3)\n",
      "Traceback (most recent call last):\n",
      "  File \"/tmp/ipykernel_2239786/1301476628.py\", line 65, in main\n",
      "    for result in results_generator:\n",
      "  File \"/home/spuser/.conda/envs/yanpan/lib/python3.11/site-packages/torch/utils/_contextlib.py\", line 36, in generator_context\n",
      "    response = gen.send(None)\n",
      "               ^^^^^^^^^^^^^^\n",
      "  File \"/home/spuser/.conda/envs/yanpan/lib/python3.11/site-packages/ultralytics/engine/predictor.py\", line 266, in stream_inference\n",
      "    self.results = self.postprocess(preds, im, im0s)\n",
      "                   ^^^^^^^^^^^^^^^^^^^^^^^^^^^^^^^^^\n",
      "  File \"/home/spuser/.conda/envs/yanpan/lib/python3.11/site-packages/ultralytics/models/yolo/segment/predict.py\", line 52, in postprocess\n",
      "    masks = ops.process_mask(proto[i], pred[:, 6:], pred[:, :4], img.shape[2:], upsample=True)  # HWC\n",
      "            ^^^^^^^^^^^^^^^^^^^^^^^^^^^^^^^^^^^^^^^^^^^^^^^^^^^^^^^^^^^^^^^^^^^^^^^^^^^^^^^^^^\n",
      "  File \"/home/spuser/.conda/envs/yanpan/lib/python3.11/site-packages/ultralytics/utils/ops.py\", line 671, in process_mask\n",
      "    c, mh, mw = protos.shape  # CHW\n",
      "    ^^^^^^^^^\n",
      "ValueError: too many values to unpack (expected 3)\n",
      "Traceback (most recent call last):\n",
      "  File \"/tmp/ipykernel_2239786/1301476628.py\", line 65, in main\n",
      "    for result in results_generator:\n",
      "  File \"/home/spuser/.conda/envs/yanpan/lib/python3.11/site-packages/torch/utils/_contextlib.py\", line 36, in generator_context\n",
      "    response = gen.send(None)\n",
      "               ^^^^^^^^^^^^^^\n",
      "  File \"/home/spuser/.conda/envs/yanpan/lib/python3.11/site-packages/ultralytics/engine/predictor.py\", line 266, in stream_inference\n",
      "    self.results = self.postprocess(preds, im, im0s)\n",
      "                   ^^^^^^^^^^^^^^^^^^^^^^^^^^^^^^^^^\n",
      "  File \"/home/spuser/.conda/envs/yanpan/lib/python3.11/site-packages/ultralytics/models/yolo/segment/predict.py\", line 52, in postprocess\n",
      "    masks = ops.process_mask(proto[i], pred[:, 6:], pred[:, :4], img.shape[2:], upsample=True)  # HWC\n",
      "            ^^^^^^^^^^^^^^^^^^^^^^^^^^^^^^^^^^^^^^^^^^^^^^^^^^^^^^^^^^^^^^^^^^^^^^^^^^^^^^^^^^\n",
      "  File \"/home/spuser/.conda/envs/yanpan/lib/python3.11/site-packages/ultralytics/utils/ops.py\", line 671, in process_mask\n",
      "    c, mh, mw = protos.shape  # CHW\n",
      "    ^^^^^^^^^\n",
      "ValueError: too many values to unpack (expected 3)\n",
      "Traceback (most recent call last):\n",
      "  File \"/tmp/ipykernel_2239786/1301476628.py\", line 65, in main\n",
      "    for result in results_generator:\n",
      "  File \"/home/spuser/.conda/envs/yanpan/lib/python3.11/site-packages/torch/utils/_contextlib.py\", line 36, in generator_context\n",
      "    response = gen.send(None)\n",
      "               ^^^^^^^^^^^^^^\n",
      "  File \"/home/spuser/.conda/envs/yanpan/lib/python3.11/site-packages/ultralytics/engine/predictor.py\", line 266, in stream_inference\n",
      "    self.results = self.postprocess(preds, im, im0s)\n",
      "                   ^^^^^^^^^^^^^^^^^^^^^^^^^^^^^^^^^\n",
      "  File \"/home/spuser/.conda/envs/yanpan/lib/python3.11/site-packages/ultralytics/models/yolo/segment/predict.py\", line 52, in postprocess\n",
      "    masks = ops.process_mask(proto[i], pred[:, 6:], pred[:, :4], img.shape[2:], upsample=True)  # HWC\n",
      "            ^^^^^^^^^^^^^^^^^^^^^^^^^^^^^^^^^^^^^^^^^^^^^^^^^^^^^^^^^^^^^^^^^^^^^^^^^^^^^^^^^^\n",
      "  File \"/home/spuser/.conda/envs/yanpan/lib/python3.11/site-packages/ultralytics/utils/ops.py\", line 671, in process_mask\n",
      "    c, mh, mw = protos.shape  # CHW\n",
      "    ^^^^^^^^^\n",
      "ValueError: too many values to unpack (expected 3)\n"
     ]
    },
    {
     "name": "stdout",
     "output_type": "stream",
     "text": [
      "Error processing frame 133: too many values to unpack (expected 3)\n",
      "Frame shape: (640, 640, 3), dtype: uint8\n",
      "\n",
      "Error processing frame 134: too many values to unpack (expected 3)\n",
      "Frame shape: (640, 640, 3), dtype: uint8\n",
      "\n",
      "Error processing frame 135: too many values to unpack (expected 3)\n",
      "Frame shape: (640, 640, 3), dtype: uint8\n",
      "\n",
      "Error processing frame 136: too many values to unpack (expected 3)\n",
      "Frame shape: (640, 640, 3), dtype: uint8\n",
      "\n",
      "Error processing frame 137: too many values to unpack (expected 3)\n",
      "Frame shape: (640, 640, 3), dtype: uint8\n",
      "\n",
      "Error processing frame 138: too many values to unpack (expected 3)\n",
      "Frame shape: (640, 640, 3), dtype: uint8\n",
      "\n",
      "Error processing frame 139: too many values to unpack (expected 3)\n",
      "Frame shape: (640, 640, 3), dtype: uint8\n",
      "\n",
      "Error processing frame 140: too many values to unpack (expected 3)\n",
      "Frame shape: (640, 640, 3), dtype: uint8\n",
      "\n",
      "Error processing frame 141: too many values to unpack (expected 3)\n",
      "Frame shape: (640, 640, 3), dtype: uint8\n",
      "\n",
      "Error processing frame 142: too many values to unpack (expected 3)\n",
      "Frame shape: (640, 640, 3), dtype: uint8\n",
      "\n",
      "Error processing frame 143: too many values to unpack (expected 3)\n",
      "Frame shape: (640, 640, 3), dtype: uint8\n",
      "\n",
      "Error processing frame 144: too many values to unpack (expected 3)\n",
      "Frame shape: (640, 640, 3), dtype: uint8\n",
      "\n"
     ]
    },
    {
     "name": "stderr",
     "output_type": "stream",
     "text": [
      "Traceback (most recent call last):\n",
      "  File \"/tmp/ipykernel_2239786/1301476628.py\", line 65, in main\n",
      "    for result in results_generator:\n",
      "  File \"/home/spuser/.conda/envs/yanpan/lib/python3.11/site-packages/torch/utils/_contextlib.py\", line 36, in generator_context\n",
      "    response = gen.send(None)\n",
      "               ^^^^^^^^^^^^^^\n",
      "  File \"/home/spuser/.conda/envs/yanpan/lib/python3.11/site-packages/ultralytics/engine/predictor.py\", line 266, in stream_inference\n",
      "    self.results = self.postprocess(preds, im, im0s)\n",
      "                   ^^^^^^^^^^^^^^^^^^^^^^^^^^^^^^^^^\n",
      "  File \"/home/spuser/.conda/envs/yanpan/lib/python3.11/site-packages/ultralytics/models/yolo/segment/predict.py\", line 52, in postprocess\n",
      "    masks = ops.process_mask(proto[i], pred[:, 6:], pred[:, :4], img.shape[2:], upsample=True)  # HWC\n",
      "            ^^^^^^^^^^^^^^^^^^^^^^^^^^^^^^^^^^^^^^^^^^^^^^^^^^^^^^^^^^^^^^^^^^^^^^^^^^^^^^^^^^\n",
      "  File \"/home/spuser/.conda/envs/yanpan/lib/python3.11/site-packages/ultralytics/utils/ops.py\", line 671, in process_mask\n",
      "    c, mh, mw = protos.shape  # CHW\n",
      "    ^^^^^^^^^\n",
      "ValueError: too many values to unpack (expected 3)\n",
      "Traceback (most recent call last):\n",
      "  File \"/tmp/ipykernel_2239786/1301476628.py\", line 65, in main\n",
      "    for result in results_generator:\n",
      "  File \"/home/spuser/.conda/envs/yanpan/lib/python3.11/site-packages/torch/utils/_contextlib.py\", line 36, in generator_context\n",
      "    response = gen.send(None)\n",
      "               ^^^^^^^^^^^^^^\n",
      "  File \"/home/spuser/.conda/envs/yanpan/lib/python3.11/site-packages/ultralytics/engine/predictor.py\", line 266, in stream_inference\n",
      "    self.results = self.postprocess(preds, im, im0s)\n",
      "                   ^^^^^^^^^^^^^^^^^^^^^^^^^^^^^^^^^\n",
      "  File \"/home/spuser/.conda/envs/yanpan/lib/python3.11/site-packages/ultralytics/models/yolo/segment/predict.py\", line 52, in postprocess\n",
      "    masks = ops.process_mask(proto[i], pred[:, 6:], pred[:, :4], img.shape[2:], upsample=True)  # HWC\n",
      "            ^^^^^^^^^^^^^^^^^^^^^^^^^^^^^^^^^^^^^^^^^^^^^^^^^^^^^^^^^^^^^^^^^^^^^^^^^^^^^^^^^^\n",
      "  File \"/home/spuser/.conda/envs/yanpan/lib/python3.11/site-packages/ultralytics/utils/ops.py\", line 671, in process_mask\n",
      "    c, mh, mw = protos.shape  # CHW\n",
      "    ^^^^^^^^^\n",
      "ValueError: too many values to unpack (expected 3)\n",
      "Traceback (most recent call last):\n",
      "  File \"/tmp/ipykernel_2239786/1301476628.py\", line 65, in main\n",
      "    for result in results_generator:\n",
      "  File \"/home/spuser/.conda/envs/yanpan/lib/python3.11/site-packages/torch/utils/_contextlib.py\", line 36, in generator_context\n",
      "    response = gen.send(None)\n",
      "               ^^^^^^^^^^^^^^\n",
      "  File \"/home/spuser/.conda/envs/yanpan/lib/python3.11/site-packages/ultralytics/engine/predictor.py\", line 266, in stream_inference\n",
      "    self.results = self.postprocess(preds, im, im0s)\n",
      "                   ^^^^^^^^^^^^^^^^^^^^^^^^^^^^^^^^^\n",
      "  File \"/home/spuser/.conda/envs/yanpan/lib/python3.11/site-packages/ultralytics/models/yolo/segment/predict.py\", line 52, in postprocess\n",
      "    masks = ops.process_mask(proto[i], pred[:, 6:], pred[:, :4], img.shape[2:], upsample=True)  # HWC\n",
      "            ^^^^^^^^^^^^^^^^^^^^^^^^^^^^^^^^^^^^^^^^^^^^^^^^^^^^^^^^^^^^^^^^^^^^^^^^^^^^^^^^^^\n",
      "  File \"/home/spuser/.conda/envs/yanpan/lib/python3.11/site-packages/ultralytics/utils/ops.py\", line 671, in process_mask\n",
      "    c, mh, mw = protos.shape  # CHW\n",
      "    ^^^^^^^^^\n",
      "ValueError: too many values to unpack (expected 3)\n",
      "Traceback (most recent call last):\n",
      "  File \"/tmp/ipykernel_2239786/1301476628.py\", line 65, in main\n",
      "    for result in results_generator:\n",
      "  File \"/home/spuser/.conda/envs/yanpan/lib/python3.11/site-packages/torch/utils/_contextlib.py\", line 36, in generator_context\n",
      "    response = gen.send(None)\n",
      "               ^^^^^^^^^^^^^^\n",
      "  File \"/home/spuser/.conda/envs/yanpan/lib/python3.11/site-packages/ultralytics/engine/predictor.py\", line 266, in stream_inference\n",
      "    self.results = self.postprocess(preds, im, im0s)\n",
      "                   ^^^^^^^^^^^^^^^^^^^^^^^^^^^^^^^^^\n",
      "  File \"/home/spuser/.conda/envs/yanpan/lib/python3.11/site-packages/ultralytics/models/yolo/segment/predict.py\", line 52, in postprocess\n",
      "    masks = ops.process_mask(proto[i], pred[:, 6:], pred[:, :4], img.shape[2:], upsample=True)  # HWC\n",
      "            ^^^^^^^^^^^^^^^^^^^^^^^^^^^^^^^^^^^^^^^^^^^^^^^^^^^^^^^^^^^^^^^^^^^^^^^^^^^^^^^^^^\n",
      "  File \"/home/spuser/.conda/envs/yanpan/lib/python3.11/site-packages/ultralytics/utils/ops.py\", line 671, in process_mask\n",
      "    c, mh, mw = protos.shape  # CHW\n",
      "    ^^^^^^^^^\n",
      "ValueError: too many values to unpack (expected 3)\n",
      "Traceback (most recent call last):\n",
      "  File \"/tmp/ipykernel_2239786/1301476628.py\", line 65, in main\n",
      "    for result in results_generator:\n",
      "  File \"/home/spuser/.conda/envs/yanpan/lib/python3.11/site-packages/torch/utils/_contextlib.py\", line 36, in generator_context\n",
      "    response = gen.send(None)\n",
      "               ^^^^^^^^^^^^^^\n",
      "  File \"/home/spuser/.conda/envs/yanpan/lib/python3.11/site-packages/ultralytics/engine/predictor.py\", line 266, in stream_inference\n",
      "    self.results = self.postprocess(preds, im, im0s)\n",
      "                   ^^^^^^^^^^^^^^^^^^^^^^^^^^^^^^^^^\n",
      "  File \"/home/spuser/.conda/envs/yanpan/lib/python3.11/site-packages/ultralytics/models/yolo/segment/predict.py\", line 52, in postprocess\n",
      "    masks = ops.process_mask(proto[i], pred[:, 6:], pred[:, :4], img.shape[2:], upsample=True)  # HWC\n",
      "            ^^^^^^^^^^^^^^^^^^^^^^^^^^^^^^^^^^^^^^^^^^^^^^^^^^^^^^^^^^^^^^^^^^^^^^^^^^^^^^^^^^\n",
      "  File \"/home/spuser/.conda/envs/yanpan/lib/python3.11/site-packages/ultralytics/utils/ops.py\", line 671, in process_mask\n",
      "    c, mh, mw = protos.shape  # CHW\n",
      "    ^^^^^^^^^\n",
      "ValueError: too many values to unpack (expected 3)\n",
      "Traceback (most recent call last):\n",
      "  File \"/tmp/ipykernel_2239786/1301476628.py\", line 65, in main\n",
      "    for result in results_generator:\n",
      "  File \"/home/spuser/.conda/envs/yanpan/lib/python3.11/site-packages/torch/utils/_contextlib.py\", line 36, in generator_context\n",
      "    response = gen.send(None)\n",
      "               ^^^^^^^^^^^^^^\n",
      "  File \"/home/spuser/.conda/envs/yanpan/lib/python3.11/site-packages/ultralytics/engine/predictor.py\", line 266, in stream_inference\n",
      "    self.results = self.postprocess(preds, im, im0s)\n",
      "                   ^^^^^^^^^^^^^^^^^^^^^^^^^^^^^^^^^\n",
      "  File \"/home/spuser/.conda/envs/yanpan/lib/python3.11/site-packages/ultralytics/models/yolo/segment/predict.py\", line 52, in postprocess\n",
      "    masks = ops.process_mask(proto[i], pred[:, 6:], pred[:, :4], img.shape[2:], upsample=True)  # HWC\n",
      "            ^^^^^^^^^^^^^^^^^^^^^^^^^^^^^^^^^^^^^^^^^^^^^^^^^^^^^^^^^^^^^^^^^^^^^^^^^^^^^^^^^^\n",
      "  File \"/home/spuser/.conda/envs/yanpan/lib/python3.11/site-packages/ultralytics/utils/ops.py\", line 671, in process_mask\n",
      "    c, mh, mw = protos.shape  # CHW\n",
      "    ^^^^^^^^^\n",
      "ValueError: too many values to unpack (expected 3)\n",
      "Traceback (most recent call last):\n",
      "  File \"/tmp/ipykernel_2239786/1301476628.py\", line 65, in main\n",
      "    for result in results_generator:\n",
      "  File \"/home/spuser/.conda/envs/yanpan/lib/python3.11/site-packages/torch/utils/_contextlib.py\", line 36, in generator_context\n",
      "    response = gen.send(None)\n",
      "               ^^^^^^^^^^^^^^\n",
      "  File \"/home/spuser/.conda/envs/yanpan/lib/python3.11/site-packages/ultralytics/engine/predictor.py\", line 266, in stream_inference\n",
      "    self.results = self.postprocess(preds, im, im0s)\n",
      "                   ^^^^^^^^^^^^^^^^^^^^^^^^^^^^^^^^^\n",
      "  File \"/home/spuser/.conda/envs/yanpan/lib/python3.11/site-packages/ultralytics/models/yolo/segment/predict.py\", line 52, in postprocess\n",
      "    masks = ops.process_mask(proto[i], pred[:, 6:], pred[:, :4], img.shape[2:], upsample=True)  # HWC\n",
      "            ^^^^^^^^^^^^^^^^^^^^^^^^^^^^^^^^^^^^^^^^^^^^^^^^^^^^^^^^^^^^^^^^^^^^^^^^^^^^^^^^^^\n",
      "  File \"/home/spuser/.conda/envs/yanpan/lib/python3.11/site-packages/ultralytics/utils/ops.py\", line 671, in process_mask\n",
      "    c, mh, mw = protos.shape  # CHW\n",
      "    ^^^^^^^^^\n",
      "ValueError: too many values to unpack (expected 3)\n",
      "Traceback (most recent call last):\n",
      "  File \"/tmp/ipykernel_2239786/1301476628.py\", line 65, in main\n",
      "    for result in results_generator:\n",
      "  File \"/home/spuser/.conda/envs/yanpan/lib/python3.11/site-packages/torch/utils/_contextlib.py\", line 36, in generator_context\n",
      "    response = gen.send(None)\n",
      "               ^^^^^^^^^^^^^^\n",
      "  File \"/home/spuser/.conda/envs/yanpan/lib/python3.11/site-packages/ultralytics/engine/predictor.py\", line 266, in stream_inference\n",
      "    self.results = self.postprocess(preds, im, im0s)\n",
      "                   ^^^^^^^^^^^^^^^^^^^^^^^^^^^^^^^^^\n",
      "  File \"/home/spuser/.conda/envs/yanpan/lib/python3.11/site-packages/ultralytics/models/yolo/segment/predict.py\", line 52, in postprocess\n",
      "    masks = ops.process_mask(proto[i], pred[:, 6:], pred[:, :4], img.shape[2:], upsample=True)  # HWC\n",
      "            ^^^^^^^^^^^^^^^^^^^^^^^^^^^^^^^^^^^^^^^^^^^^^^^^^^^^^^^^^^^^^^^^^^^^^^^^^^^^^^^^^^\n",
      "  File \"/home/spuser/.conda/envs/yanpan/lib/python3.11/site-packages/ultralytics/utils/ops.py\", line 671, in process_mask\n",
      "    c, mh, mw = protos.shape  # CHW\n",
      "    ^^^^^^^^^\n",
      "ValueError: too many values to unpack (expected 3)\n",
      "Traceback (most recent call last):\n",
      "  File \"/tmp/ipykernel_2239786/1301476628.py\", line 65, in main\n",
      "    for result in results_generator:\n",
      "  File \"/home/spuser/.conda/envs/yanpan/lib/python3.11/site-packages/torch/utils/_contextlib.py\", line 36, in generator_context\n",
      "    response = gen.send(None)\n",
      "               ^^^^^^^^^^^^^^\n",
      "  File \"/home/spuser/.conda/envs/yanpan/lib/python3.11/site-packages/ultralytics/engine/predictor.py\", line 266, in stream_inference\n",
      "    self.results = self.postprocess(preds, im, im0s)\n",
      "                   ^^^^^^^^^^^^^^^^^^^^^^^^^^^^^^^^^\n",
      "  File \"/home/spuser/.conda/envs/yanpan/lib/python3.11/site-packages/ultralytics/models/yolo/segment/predict.py\", line 52, in postprocess\n",
      "    masks = ops.process_mask(proto[i], pred[:, 6:], pred[:, :4], img.shape[2:], upsample=True)  # HWC\n",
      "            ^^^^^^^^^^^^^^^^^^^^^^^^^^^^^^^^^^^^^^^^^^^^^^^^^^^^^^^^^^^^^^^^^^^^^^^^^^^^^^^^^^\n",
      "  File \"/home/spuser/.conda/envs/yanpan/lib/python3.11/site-packages/ultralytics/utils/ops.py\", line 671, in process_mask\n",
      "    c, mh, mw = protos.shape  # CHW\n",
      "    ^^^^^^^^^\n",
      "ValueError: too many values to unpack (expected 3)\n",
      "Traceback (most recent call last):\n",
      "  File \"/tmp/ipykernel_2239786/1301476628.py\", line 65, in main\n",
      "    for result in results_generator:\n",
      "  File \"/home/spuser/.conda/envs/yanpan/lib/python3.11/site-packages/torch/utils/_contextlib.py\", line 36, in generator_context\n",
      "    response = gen.send(None)\n",
      "               ^^^^^^^^^^^^^^\n",
      "  File \"/home/spuser/.conda/envs/yanpan/lib/python3.11/site-packages/ultralytics/engine/predictor.py\", line 266, in stream_inference\n",
      "    self.results = self.postprocess(preds, im, im0s)\n",
      "                   ^^^^^^^^^^^^^^^^^^^^^^^^^^^^^^^^^\n",
      "  File \"/home/spuser/.conda/envs/yanpan/lib/python3.11/site-packages/ultralytics/models/yolo/segment/predict.py\", line 52, in postprocess\n",
      "    masks = ops.process_mask(proto[i], pred[:, 6:], pred[:, :4], img.shape[2:], upsample=True)  # HWC\n",
      "            ^^^^^^^^^^^^^^^^^^^^^^^^^^^^^^^^^^^^^^^^^^^^^^^^^^^^^^^^^^^^^^^^^^^^^^^^^^^^^^^^^^\n",
      "  File \"/home/spuser/.conda/envs/yanpan/lib/python3.11/site-packages/ultralytics/utils/ops.py\", line 671, in process_mask\n",
      "    c, mh, mw = protos.shape  # CHW\n",
      "    ^^^^^^^^^\n",
      "ValueError: too many values to unpack (expected 3)\n",
      "Traceback (most recent call last):\n",
      "  File \"/tmp/ipykernel_2239786/1301476628.py\", line 65, in main\n",
      "    for result in results_generator:\n",
      "  File \"/home/spuser/.conda/envs/yanpan/lib/python3.11/site-packages/torch/utils/_contextlib.py\", line 36, in generator_context\n",
      "    response = gen.send(None)\n",
      "               ^^^^^^^^^^^^^^\n",
      "  File \"/home/spuser/.conda/envs/yanpan/lib/python3.11/site-packages/ultralytics/engine/predictor.py\", line 266, in stream_inference\n",
      "    self.results = self.postprocess(preds, im, im0s)\n",
      "                   ^^^^^^^^^^^^^^^^^^^^^^^^^^^^^^^^^\n",
      "  File \"/home/spuser/.conda/envs/yanpan/lib/python3.11/site-packages/ultralytics/models/yolo/segment/predict.py\", line 52, in postprocess\n",
      "    masks = ops.process_mask(proto[i], pred[:, 6:], pred[:, :4], img.shape[2:], upsample=True)  # HWC\n",
      "            ^^^^^^^^^^^^^^^^^^^^^^^^^^^^^^^^^^^^^^^^^^^^^^^^^^^^^^^^^^^^^^^^^^^^^^^^^^^^^^^^^^\n",
      "  File \"/home/spuser/.conda/envs/yanpan/lib/python3.11/site-packages/ultralytics/utils/ops.py\", line 671, in process_mask\n",
      "    c, mh, mw = protos.shape  # CHW\n",
      "    ^^^^^^^^^\n",
      "ValueError: too many values to unpack (expected 3)\n",
      "Traceback (most recent call last):\n",
      "  File \"/tmp/ipykernel_2239786/1301476628.py\", line 65, in main\n",
      "    for result in results_generator:\n",
      "  File \"/home/spuser/.conda/envs/yanpan/lib/python3.11/site-packages/torch/utils/_contextlib.py\", line 36, in generator_context\n",
      "    response = gen.send(None)\n",
      "               ^^^^^^^^^^^^^^\n",
      "  File \"/home/spuser/.conda/envs/yanpan/lib/python3.11/site-packages/ultralytics/engine/predictor.py\", line 266, in stream_inference\n",
      "    self.results = self.postprocess(preds, im, im0s)\n",
      "                   ^^^^^^^^^^^^^^^^^^^^^^^^^^^^^^^^^\n",
      "  File \"/home/spuser/.conda/envs/yanpan/lib/python3.11/site-packages/ultralytics/models/yolo/segment/predict.py\", line 52, in postprocess\n",
      "    masks = ops.process_mask(proto[i], pred[:, 6:], pred[:, :4], img.shape[2:], upsample=True)  # HWC\n",
      "            ^^^^^^^^^^^^^^^^^^^^^^^^^^^^^^^^^^^^^^^^^^^^^^^^^^^^^^^^^^^^^^^^^^^^^^^^^^^^^^^^^^\n",
      "  File \"/home/spuser/.conda/envs/yanpan/lib/python3.11/site-packages/ultralytics/utils/ops.py\", line 671, in process_mask\n",
      "    c, mh, mw = protos.shape  # CHW\n",
      "    ^^^^^^^^^\n",
      "ValueError: too many values to unpack (expected 3)\n"
     ]
    },
    {
     "name": "stdout",
     "output_type": "stream",
     "text": [
      "Error processing frame 145: too many values to unpack (expected 3)\n",
      "Frame shape: (640, 640, 3), dtype: uint8\n",
      "\n",
      "Error processing frame 146: too many values to unpack (expected 3)\n",
      "Frame shape: (640, 640, 3), dtype: uint8\n",
      "\n",
      "Error processing frame 147: too many values to unpack (expected 3)\n",
      "Frame shape: (640, 640, 3), dtype: uint8\n",
      "\n",
      "Error processing frame 148: too many values to unpack (expected 3)\n",
      "Frame shape: (640, 640, 3), dtype: uint8\n",
      "\n",
      "Error processing frame 149: too many values to unpack (expected 3)\n",
      "Frame shape: (640, 640, 3), dtype: uint8\n",
      "\n",
      "Error processing frame 150: too many values to unpack (expected 3)\n",
      "Frame shape: (640, 640, 3), dtype: uint8\n",
      "\n",
      "Error processing frame 151: too many values to unpack (expected 3)\n",
      "Frame shape: (640, 640, 3), dtype: uint8\n",
      "\n",
      "Error processing frame 152: too many values to unpack (expected 3)\n",
      "Frame shape: (640, 640, 3), dtype: uint8\n",
      "\n",
      "Error processing frame 153: too many values to unpack (expected 3)\n",
      "Frame shape: (640, 640, 3), dtype: uint8\n",
      "\n",
      "Error processing frame 154: too many values to unpack (expected 3)\n",
      "Frame shape: (640, 640, 3), dtype: uint8\n",
      "\n",
      "Error processing frame 155: too many values to unpack (expected 3)\n",
      "Frame shape: (640, 640, 3), dtype: uint8\n",
      "\n",
      "Error processing frame 156: too many values to unpack (expected 3)\n",
      "Frame shape: (640, 640, 3), dtype: uint8\n",
      "\n",
      "Error processing frame 157: too many values to unpack (expected 3)\n"
     ]
    },
    {
     "name": "stderr",
     "output_type": "stream",
     "text": [
      "Traceback (most recent call last):\n",
      "  File \"/tmp/ipykernel_2239786/1301476628.py\", line 65, in main\n",
      "    for result in results_generator:\n",
      "  File \"/home/spuser/.conda/envs/yanpan/lib/python3.11/site-packages/torch/utils/_contextlib.py\", line 36, in generator_context\n",
      "    response = gen.send(None)\n",
      "               ^^^^^^^^^^^^^^\n",
      "  File \"/home/spuser/.conda/envs/yanpan/lib/python3.11/site-packages/ultralytics/engine/predictor.py\", line 266, in stream_inference\n",
      "    self.results = self.postprocess(preds, im, im0s)\n",
      "                   ^^^^^^^^^^^^^^^^^^^^^^^^^^^^^^^^^\n",
      "  File \"/home/spuser/.conda/envs/yanpan/lib/python3.11/site-packages/ultralytics/models/yolo/segment/predict.py\", line 52, in postprocess\n",
      "    masks = ops.process_mask(proto[i], pred[:, 6:], pred[:, :4], img.shape[2:], upsample=True)  # HWC\n",
      "            ^^^^^^^^^^^^^^^^^^^^^^^^^^^^^^^^^^^^^^^^^^^^^^^^^^^^^^^^^^^^^^^^^^^^^^^^^^^^^^^^^^\n",
      "  File \"/home/spuser/.conda/envs/yanpan/lib/python3.11/site-packages/ultralytics/utils/ops.py\", line 671, in process_mask\n",
      "    c, mh, mw = protos.shape  # CHW\n",
      "    ^^^^^^^^^\n",
      "ValueError: too many values to unpack (expected 3)\n",
      "Traceback (most recent call last):\n",
      "  File \"/tmp/ipykernel_2239786/1301476628.py\", line 65, in main\n",
      "    for result in results_generator:\n",
      "  File \"/home/spuser/.conda/envs/yanpan/lib/python3.11/site-packages/torch/utils/_contextlib.py\", line 36, in generator_context\n",
      "    response = gen.send(None)\n",
      "               ^^^^^^^^^^^^^^\n",
      "  File \"/home/spuser/.conda/envs/yanpan/lib/python3.11/site-packages/ultralytics/engine/predictor.py\", line 266, in stream_inference\n",
      "    self.results = self.postprocess(preds, im, im0s)\n",
      "                   ^^^^^^^^^^^^^^^^^^^^^^^^^^^^^^^^^\n",
      "  File \"/home/spuser/.conda/envs/yanpan/lib/python3.11/site-packages/ultralytics/models/yolo/segment/predict.py\", line 52, in postprocess\n",
      "    masks = ops.process_mask(proto[i], pred[:, 6:], pred[:, :4], img.shape[2:], upsample=True)  # HWC\n",
      "            ^^^^^^^^^^^^^^^^^^^^^^^^^^^^^^^^^^^^^^^^^^^^^^^^^^^^^^^^^^^^^^^^^^^^^^^^^^^^^^^^^^\n",
      "  File \"/home/spuser/.conda/envs/yanpan/lib/python3.11/site-packages/ultralytics/utils/ops.py\", line 671, in process_mask\n",
      "    c, mh, mw = protos.shape  # CHW\n",
      "    ^^^^^^^^^\n",
      "ValueError: too many values to unpack (expected 3)\n",
      "Traceback (most recent call last):\n",
      "  File \"/tmp/ipykernel_2239786/1301476628.py\", line 65, in main\n",
      "    for result in results_generator:\n",
      "  File \"/home/spuser/.conda/envs/yanpan/lib/python3.11/site-packages/torch/utils/_contextlib.py\", line 36, in generator_context\n",
      "    response = gen.send(None)\n",
      "               ^^^^^^^^^^^^^^\n",
      "  File \"/home/spuser/.conda/envs/yanpan/lib/python3.11/site-packages/ultralytics/engine/predictor.py\", line 266, in stream_inference\n",
      "    self.results = self.postprocess(preds, im, im0s)\n",
      "                   ^^^^^^^^^^^^^^^^^^^^^^^^^^^^^^^^^\n",
      "  File \"/home/spuser/.conda/envs/yanpan/lib/python3.11/site-packages/ultralytics/models/yolo/segment/predict.py\", line 52, in postprocess\n",
      "    masks = ops.process_mask(proto[i], pred[:, 6:], pred[:, :4], img.shape[2:], upsample=True)  # HWC\n",
      "            ^^^^^^^^^^^^^^^^^^^^^^^^^^^^^^^^^^^^^^^^^^^^^^^^^^^^^^^^^^^^^^^^^^^^^^^^^^^^^^^^^^\n",
      "  File \"/home/spuser/.conda/envs/yanpan/lib/python3.11/site-packages/ultralytics/utils/ops.py\", line 671, in process_mask\n",
      "    c, mh, mw = protos.shape  # CHW\n",
      "    ^^^^^^^^^\n",
      "ValueError: too many values to unpack (expected 3)\n",
      "Traceback (most recent call last):\n",
      "  File \"/tmp/ipykernel_2239786/1301476628.py\", line 65, in main\n",
      "    for result in results_generator:\n",
      "  File \"/home/spuser/.conda/envs/yanpan/lib/python3.11/site-packages/torch/utils/_contextlib.py\", line 36, in generator_context\n",
      "    response = gen.send(None)\n",
      "               ^^^^^^^^^^^^^^\n",
      "  File \"/home/spuser/.conda/envs/yanpan/lib/python3.11/site-packages/ultralytics/engine/predictor.py\", line 266, in stream_inference\n",
      "    self.results = self.postprocess(preds, im, im0s)\n",
      "                   ^^^^^^^^^^^^^^^^^^^^^^^^^^^^^^^^^\n",
      "  File \"/home/spuser/.conda/envs/yanpan/lib/python3.11/site-packages/ultralytics/models/yolo/segment/predict.py\", line 52, in postprocess\n",
      "    masks = ops.process_mask(proto[i], pred[:, 6:], pred[:, :4], img.shape[2:], upsample=True)  # HWC\n",
      "            ^^^^^^^^^^^^^^^^^^^^^^^^^^^^^^^^^^^^^^^^^^^^^^^^^^^^^^^^^^^^^^^^^^^^^^^^^^^^^^^^^^\n",
      "  File \"/home/spuser/.conda/envs/yanpan/lib/python3.11/site-packages/ultralytics/utils/ops.py\", line 671, in process_mask\n",
      "    c, mh, mw = protos.shape  # CHW\n",
      "    ^^^^^^^^^\n",
      "ValueError: too many values to unpack (expected 3)\n",
      "Traceback (most recent call last):\n",
      "  File \"/tmp/ipykernel_2239786/1301476628.py\", line 65, in main\n",
      "    for result in results_generator:\n",
      "  File \"/home/spuser/.conda/envs/yanpan/lib/python3.11/site-packages/torch/utils/_contextlib.py\", line 36, in generator_context\n",
      "    response = gen.send(None)\n",
      "               ^^^^^^^^^^^^^^\n",
      "  File \"/home/spuser/.conda/envs/yanpan/lib/python3.11/site-packages/ultralytics/engine/predictor.py\", line 266, in stream_inference\n",
      "    self.results = self.postprocess(preds, im, im0s)\n",
      "                   ^^^^^^^^^^^^^^^^^^^^^^^^^^^^^^^^^\n",
      "  File \"/home/spuser/.conda/envs/yanpan/lib/python3.11/site-packages/ultralytics/models/yolo/segment/predict.py\", line 52, in postprocess\n",
      "    masks = ops.process_mask(proto[i], pred[:, 6:], pred[:, :4], img.shape[2:], upsample=True)  # HWC\n",
      "            ^^^^^^^^^^^^^^^^^^^^^^^^^^^^^^^^^^^^^^^^^^^^^^^^^^^^^^^^^^^^^^^^^^^^^^^^^^^^^^^^^^\n",
      "  File \"/home/spuser/.conda/envs/yanpan/lib/python3.11/site-packages/ultralytics/utils/ops.py\", line 671, in process_mask\n",
      "    c, mh, mw = protos.shape  # CHW\n",
      "    ^^^^^^^^^\n",
      "ValueError: too many values to unpack (expected 3)\n",
      "Traceback (most recent call last):\n",
      "  File \"/tmp/ipykernel_2239786/1301476628.py\", line 65, in main\n",
      "    for result in results_generator:\n",
      "  File \"/home/spuser/.conda/envs/yanpan/lib/python3.11/site-packages/torch/utils/_contextlib.py\", line 36, in generator_context\n",
      "    response = gen.send(None)\n",
      "               ^^^^^^^^^^^^^^\n",
      "  File \"/home/spuser/.conda/envs/yanpan/lib/python3.11/site-packages/ultralytics/engine/predictor.py\", line 266, in stream_inference\n",
      "    self.results = self.postprocess(preds, im, im0s)\n",
      "                   ^^^^^^^^^^^^^^^^^^^^^^^^^^^^^^^^^\n",
      "  File \"/home/spuser/.conda/envs/yanpan/lib/python3.11/site-packages/ultralytics/models/yolo/segment/predict.py\", line 52, in postprocess\n",
      "    masks = ops.process_mask(proto[i], pred[:, 6:], pred[:, :4], img.shape[2:], upsample=True)  # HWC\n",
      "            ^^^^^^^^^^^^^^^^^^^^^^^^^^^^^^^^^^^^^^^^^^^^^^^^^^^^^^^^^^^^^^^^^^^^^^^^^^^^^^^^^^\n",
      "  File \"/home/spuser/.conda/envs/yanpan/lib/python3.11/site-packages/ultralytics/utils/ops.py\", line 671, in process_mask\n",
      "    c, mh, mw = protos.shape  # CHW\n",
      "    ^^^^^^^^^\n",
      "ValueError: too many values to unpack (expected 3)\n",
      "Traceback (most recent call last):\n",
      "  File \"/tmp/ipykernel_2239786/1301476628.py\", line 65, in main\n",
      "    for result in results_generator:\n",
      "  File \"/home/spuser/.conda/envs/yanpan/lib/python3.11/site-packages/torch/utils/_contextlib.py\", line 36, in generator_context\n",
      "    response = gen.send(None)\n",
      "               ^^^^^^^^^^^^^^\n",
      "  File \"/home/spuser/.conda/envs/yanpan/lib/python3.11/site-packages/ultralytics/engine/predictor.py\", line 266, in stream_inference\n",
      "    self.results = self.postprocess(preds, im, im0s)\n",
      "                   ^^^^^^^^^^^^^^^^^^^^^^^^^^^^^^^^^\n",
      "  File \"/home/spuser/.conda/envs/yanpan/lib/python3.11/site-packages/ultralytics/models/yolo/segment/predict.py\", line 52, in postprocess\n",
      "    masks = ops.process_mask(proto[i], pred[:, 6:], pred[:, :4], img.shape[2:], upsample=True)  # HWC\n",
      "            ^^^^^^^^^^^^^^^^^^^^^^^^^^^^^^^^^^^^^^^^^^^^^^^^^^^^^^^^^^^^^^^^^^^^^^^^^^^^^^^^^^\n",
      "  File \"/home/spuser/.conda/envs/yanpan/lib/python3.11/site-packages/ultralytics/utils/ops.py\", line 671, in process_mask\n",
      "    c, mh, mw = protos.shape  # CHW\n",
      "    ^^^^^^^^^\n",
      "ValueError: too many values to unpack (expected 3)\n",
      "Traceback (most recent call last):\n",
      "  File \"/tmp/ipykernel_2239786/1301476628.py\", line 65, in main\n",
      "    for result in results_generator:\n",
      "  File \"/home/spuser/.conda/envs/yanpan/lib/python3.11/site-packages/torch/utils/_contextlib.py\", line 36, in generator_context\n",
      "    response = gen.send(None)\n",
      "               ^^^^^^^^^^^^^^\n",
      "  File \"/home/spuser/.conda/envs/yanpan/lib/python3.11/site-packages/ultralytics/engine/predictor.py\", line 266, in stream_inference\n",
      "    self.results = self.postprocess(preds, im, im0s)\n",
      "                   ^^^^^^^^^^^^^^^^^^^^^^^^^^^^^^^^^\n",
      "  File \"/home/spuser/.conda/envs/yanpan/lib/python3.11/site-packages/ultralytics/models/yolo/segment/predict.py\", line 52, in postprocess\n",
      "    masks = ops.process_mask(proto[i], pred[:, 6:], pred[:, :4], img.shape[2:], upsample=True)  # HWC\n",
      "            ^^^^^^^^^^^^^^^^^^^^^^^^^^^^^^^^^^^^^^^^^^^^^^^^^^^^^^^^^^^^^^^^^^^^^^^^^^^^^^^^^^\n",
      "  File \"/home/spuser/.conda/envs/yanpan/lib/python3.11/site-packages/ultralytics/utils/ops.py\", line 671, in process_mask\n",
      "    c, mh, mw = protos.shape  # CHW\n",
      "    ^^^^^^^^^\n",
      "ValueError: too many values to unpack (expected 3)\n",
      "Traceback (most recent call last):\n",
      "  File \"/tmp/ipykernel_2239786/1301476628.py\", line 65, in main\n",
      "    for result in results_generator:\n",
      "  File \"/home/spuser/.conda/envs/yanpan/lib/python3.11/site-packages/torch/utils/_contextlib.py\", line 36, in generator_context\n",
      "    response = gen.send(None)\n",
      "               ^^^^^^^^^^^^^^\n",
      "  File \"/home/spuser/.conda/envs/yanpan/lib/python3.11/site-packages/ultralytics/engine/predictor.py\", line 266, in stream_inference\n",
      "    self.results = self.postprocess(preds, im, im0s)\n",
      "                   ^^^^^^^^^^^^^^^^^^^^^^^^^^^^^^^^^\n",
      "  File \"/home/spuser/.conda/envs/yanpan/lib/python3.11/site-packages/ultralytics/models/yolo/segment/predict.py\", line 52, in postprocess\n",
      "    masks = ops.process_mask(proto[i], pred[:, 6:], pred[:, :4], img.shape[2:], upsample=True)  # HWC\n",
      "            ^^^^^^^^^^^^^^^^^^^^^^^^^^^^^^^^^^^^^^^^^^^^^^^^^^^^^^^^^^^^^^^^^^^^^^^^^^^^^^^^^^\n",
      "  File \"/home/spuser/.conda/envs/yanpan/lib/python3.11/site-packages/ultralytics/utils/ops.py\", line 671, in process_mask\n",
      "    c, mh, mw = protos.shape  # CHW\n",
      "    ^^^^^^^^^\n",
      "ValueError: too many values to unpack (expected 3)\n",
      "Traceback (most recent call last):\n",
      "  File \"/tmp/ipykernel_2239786/1301476628.py\", line 65, in main\n",
      "    for result in results_generator:\n",
      "  File \"/home/spuser/.conda/envs/yanpan/lib/python3.11/site-packages/torch/utils/_contextlib.py\", line 36, in generator_context\n",
      "    response = gen.send(None)\n",
      "               ^^^^^^^^^^^^^^\n",
      "  File \"/home/spuser/.conda/envs/yanpan/lib/python3.11/site-packages/ultralytics/engine/predictor.py\", line 266, in stream_inference\n",
      "    self.results = self.postprocess(preds, im, im0s)\n",
      "                   ^^^^^^^^^^^^^^^^^^^^^^^^^^^^^^^^^\n",
      "  File \"/home/spuser/.conda/envs/yanpan/lib/python3.11/site-packages/ultralytics/models/yolo/segment/predict.py\", line 52, in postprocess\n",
      "    masks = ops.process_mask(proto[i], pred[:, 6:], pred[:, :4], img.shape[2:], upsample=True)  # HWC\n",
      "            ^^^^^^^^^^^^^^^^^^^^^^^^^^^^^^^^^^^^^^^^^^^^^^^^^^^^^^^^^^^^^^^^^^^^^^^^^^^^^^^^^^\n",
      "  File \"/home/spuser/.conda/envs/yanpan/lib/python3.11/site-packages/ultralytics/utils/ops.py\", line 671, in process_mask\n",
      "    c, mh, mw = protos.shape  # CHW\n",
      "    ^^^^^^^^^\n",
      "ValueError: too many values to unpack (expected 3)\n",
      "Traceback (most recent call last):\n",
      "  File \"/tmp/ipykernel_2239786/1301476628.py\", line 65, in main\n",
      "    for result in results_generator:\n",
      "  File \"/home/spuser/.conda/envs/yanpan/lib/python3.11/site-packages/torch/utils/_contextlib.py\", line 36, in generator_context\n",
      "    response = gen.send(None)\n",
      "               ^^^^^^^^^^^^^^\n",
      "  File \"/home/spuser/.conda/envs/yanpan/lib/python3.11/site-packages/ultralytics/engine/predictor.py\", line 266, in stream_inference\n",
      "    self.results = self.postprocess(preds, im, im0s)\n",
      "                   ^^^^^^^^^^^^^^^^^^^^^^^^^^^^^^^^^\n",
      "  File \"/home/spuser/.conda/envs/yanpan/lib/python3.11/site-packages/ultralytics/models/yolo/segment/predict.py\", line 52, in postprocess\n",
      "    masks = ops.process_mask(proto[i], pred[:, 6:], pred[:, :4], img.shape[2:], upsample=True)  # HWC\n",
      "            ^^^^^^^^^^^^^^^^^^^^^^^^^^^^^^^^^^^^^^^^^^^^^^^^^^^^^^^^^^^^^^^^^^^^^^^^^^^^^^^^^^\n",
      "  File \"/home/spuser/.conda/envs/yanpan/lib/python3.11/site-packages/ultralytics/utils/ops.py\", line 671, in process_mask\n",
      "    c, mh, mw = protos.shape  # CHW\n",
      "    ^^^^^^^^^\n",
      "ValueError: too many values to unpack (expected 3)\n",
      "Traceback (most recent call last):\n",
      "  File \"/tmp/ipykernel_2239786/1301476628.py\", line 65, in main\n",
      "    for result in results_generator:\n",
      "  File \"/home/spuser/.conda/envs/yanpan/lib/python3.11/site-packages/torch/utils/_contextlib.py\", line 36, in generator_context\n",
      "    response = gen.send(None)\n",
      "               ^^^^^^^^^^^^^^\n",
      "  File \"/home/spuser/.conda/envs/yanpan/lib/python3.11/site-packages/ultralytics/engine/predictor.py\", line 266, in stream_inference\n",
      "    self.results = self.postprocess(preds, im, im0s)\n",
      "                   ^^^^^^^^^^^^^^^^^^^^^^^^^^^^^^^^^\n",
      "  File \"/home/spuser/.conda/envs/yanpan/lib/python3.11/site-packages/ultralytics/models/yolo/segment/predict.py\", line 52, in postprocess\n",
      "    masks = ops.process_mask(proto[i], pred[:, 6:], pred[:, :4], img.shape[2:], upsample=True)  # HWC\n",
      "            ^^^^^^^^^^^^^^^^^^^^^^^^^^^^^^^^^^^^^^^^^^^^^^^^^^^^^^^^^^^^^^^^^^^^^^^^^^^^^^^^^^\n",
      "  File \"/home/spuser/.conda/envs/yanpan/lib/python3.11/site-packages/ultralytics/utils/ops.py\", line 671, in process_mask\n",
      "    c, mh, mw = protos.shape  # CHW\n",
      "    ^^^^^^^^^\n",
      "ValueError: too many values to unpack (expected 3)\n",
      "Traceback (most recent call last):\n",
      "  File \"/tmp/ipykernel_2239786/1301476628.py\", line 65, in main\n",
      "    for result in results_generator:\n",
      "  File \"/home/spuser/.conda/envs/yanpan/lib/python3.11/site-packages/torch/utils/_contextlib.py\", line 36, in generator_context\n",
      "    response = gen.send(None)\n",
      "               ^^^^^^^^^^^^^^\n",
      "  File \"/home/spuser/.conda/envs/yanpan/lib/python3.11/site-packages/ultralytics/engine/predictor.py\", line 266, in stream_inference\n",
      "    self.results = self.postprocess(preds, im, im0s)\n",
      "                   ^^^^^^^^^^^^^^^^^^^^^^^^^^^^^^^^^\n",
      "  File \"/home/spuser/.conda/envs/yanpan/lib/python3.11/site-packages/ultralytics/models/yolo/segment/predict.py\", line 52, in postprocess\n",
      "    masks = ops.process_mask(proto[i], pred[:, 6:], pred[:, :4], img.shape[2:], upsample=True)  # HWC\n",
      "            ^^^^^^^^^^^^^^^^^^^^^^^^^^^^^^^^^^^^^^^^^^^^^^^^^^^^^^^^^^^^^^^^^^^^^^^^^^^^^^^^^^\n",
      "  File \"/home/spuser/.conda/envs/yanpan/lib/python3.11/site-packages/ultralytics/utils/ops.py\", line 671, in process_mask\n",
      "    c, mh, mw = protos.shape  # CHW\n",
      "    ^^^^^^^^^\n",
      "ValueError: too many values to unpack (expected 3)\n"
     ]
    },
    {
     "name": "stdout",
     "output_type": "stream",
     "text": [
      "Frame shape: (640, 640, 3), dtype: uint8\n",
      "\n",
      "Error processing frame 158: too many values to unpack (expected 3)\n",
      "Frame shape: (640, 640, 3), dtype: uint8\n",
      "\n",
      "Error processing frame 159: too many values to unpack (expected 3)\n",
      "Frame shape: (640, 640, 3), dtype: uint8\n",
      "\n",
      "Error processing frame 160: too many values to unpack (expected 3)\n",
      "Frame shape: (640, 640, 3), dtype: uint8\n",
      "\n",
      "Error processing frame 161: too many values to unpack (expected 3)\n",
      "Frame shape: (640, 640, 3), dtype: uint8\n",
      "\n",
      "Error processing frame 162: too many values to unpack (expected 3)\n",
      "Frame shape: (640, 640, 3), dtype: uint8\n",
      "\n",
      "Error processing frame 163: too many values to unpack (expected 3)\n",
      "Frame shape: (640, 640, 3), dtype: uint8\n",
      "\n",
      "Error processing frame 164: too many values to unpack (expected 3)\n",
      "Frame shape: (640, 640, 3), dtype: uint8\n",
      "\n",
      "Error processing frame 165: too many values to unpack (expected 3)\n",
      "Frame shape: (640, 640, 3), dtype: uint8\n",
      "\n",
      "Error processing frame 166: too many values to unpack (expected 3)\n",
      "Frame shape: (640, 640, 3), dtype: uint8\n",
      "\n",
      "Error processing frame 167: too many values to unpack (expected 3)\n",
      "Frame shape: (640, 640, 3), dtype: uint8\n",
      "\n",
      "Error processing frame 168: too many values to unpack (expected 3)\n",
      "Frame shape: (640, 640, 3), dtype: uint8\n",
      "\n",
      "Error processing frame 169: too many values to unpack (expected 3)\n",
      "Frame shape: (640, 640, 3), dtype: uint8\n",
      "\n"
     ]
    },
    {
     "name": "stderr",
     "output_type": "stream",
     "text": [
      "Traceback (most recent call last):\n",
      "  File \"/tmp/ipykernel_2239786/1301476628.py\", line 65, in main\n",
      "    for result in results_generator:\n",
      "  File \"/home/spuser/.conda/envs/yanpan/lib/python3.11/site-packages/torch/utils/_contextlib.py\", line 36, in generator_context\n",
      "    response = gen.send(None)\n",
      "               ^^^^^^^^^^^^^^\n",
      "  File \"/home/spuser/.conda/envs/yanpan/lib/python3.11/site-packages/ultralytics/engine/predictor.py\", line 266, in stream_inference\n",
      "    self.results = self.postprocess(preds, im, im0s)\n",
      "                   ^^^^^^^^^^^^^^^^^^^^^^^^^^^^^^^^^\n",
      "  File \"/home/spuser/.conda/envs/yanpan/lib/python3.11/site-packages/ultralytics/models/yolo/segment/predict.py\", line 52, in postprocess\n",
      "    masks = ops.process_mask(proto[i], pred[:, 6:], pred[:, :4], img.shape[2:], upsample=True)  # HWC\n",
      "            ^^^^^^^^^^^^^^^^^^^^^^^^^^^^^^^^^^^^^^^^^^^^^^^^^^^^^^^^^^^^^^^^^^^^^^^^^^^^^^^^^^\n",
      "  File \"/home/spuser/.conda/envs/yanpan/lib/python3.11/site-packages/ultralytics/utils/ops.py\", line 671, in process_mask\n",
      "    c, mh, mw = protos.shape  # CHW\n",
      "    ^^^^^^^^^\n",
      "ValueError: too many values to unpack (expected 3)\n",
      "Traceback (most recent call last):\n",
      "  File \"/tmp/ipykernel_2239786/1301476628.py\", line 65, in main\n",
      "    for result in results_generator:\n",
      "  File \"/home/spuser/.conda/envs/yanpan/lib/python3.11/site-packages/torch/utils/_contextlib.py\", line 36, in generator_context\n",
      "    response = gen.send(None)\n",
      "               ^^^^^^^^^^^^^^\n",
      "  File \"/home/spuser/.conda/envs/yanpan/lib/python3.11/site-packages/ultralytics/engine/predictor.py\", line 266, in stream_inference\n",
      "    self.results = self.postprocess(preds, im, im0s)\n",
      "                   ^^^^^^^^^^^^^^^^^^^^^^^^^^^^^^^^^\n",
      "  File \"/home/spuser/.conda/envs/yanpan/lib/python3.11/site-packages/ultralytics/models/yolo/segment/predict.py\", line 52, in postprocess\n",
      "    masks = ops.process_mask(proto[i], pred[:, 6:], pred[:, :4], img.shape[2:], upsample=True)  # HWC\n",
      "            ^^^^^^^^^^^^^^^^^^^^^^^^^^^^^^^^^^^^^^^^^^^^^^^^^^^^^^^^^^^^^^^^^^^^^^^^^^^^^^^^^^\n",
      "  File \"/home/spuser/.conda/envs/yanpan/lib/python3.11/site-packages/ultralytics/utils/ops.py\", line 671, in process_mask\n",
      "    c, mh, mw = protos.shape  # CHW\n",
      "    ^^^^^^^^^\n",
      "ValueError: too many values to unpack (expected 3)\n",
      "Traceback (most recent call last):\n",
      "  File \"/tmp/ipykernel_2239786/1301476628.py\", line 65, in main\n",
      "    for result in results_generator:\n",
      "  File \"/home/spuser/.conda/envs/yanpan/lib/python3.11/site-packages/torch/utils/_contextlib.py\", line 36, in generator_context\n",
      "    response = gen.send(None)\n",
      "               ^^^^^^^^^^^^^^\n",
      "  File \"/home/spuser/.conda/envs/yanpan/lib/python3.11/site-packages/ultralytics/engine/predictor.py\", line 266, in stream_inference\n",
      "    self.results = self.postprocess(preds, im, im0s)\n",
      "                   ^^^^^^^^^^^^^^^^^^^^^^^^^^^^^^^^^\n",
      "  File \"/home/spuser/.conda/envs/yanpan/lib/python3.11/site-packages/ultralytics/models/yolo/segment/predict.py\", line 52, in postprocess\n",
      "    masks = ops.process_mask(proto[i], pred[:, 6:], pred[:, :4], img.shape[2:], upsample=True)  # HWC\n",
      "            ^^^^^^^^^^^^^^^^^^^^^^^^^^^^^^^^^^^^^^^^^^^^^^^^^^^^^^^^^^^^^^^^^^^^^^^^^^^^^^^^^^\n",
      "  File \"/home/spuser/.conda/envs/yanpan/lib/python3.11/site-packages/ultralytics/utils/ops.py\", line 671, in process_mask\n",
      "    c, mh, mw = protos.shape  # CHW\n",
      "    ^^^^^^^^^\n",
      "ValueError: too many values to unpack (expected 3)\n",
      "Traceback (most recent call last):\n",
      "  File \"/tmp/ipykernel_2239786/1301476628.py\", line 65, in main\n",
      "    for result in results_generator:\n",
      "  File \"/home/spuser/.conda/envs/yanpan/lib/python3.11/site-packages/torch/utils/_contextlib.py\", line 36, in generator_context\n",
      "    response = gen.send(None)\n",
      "               ^^^^^^^^^^^^^^\n",
      "  File \"/home/spuser/.conda/envs/yanpan/lib/python3.11/site-packages/ultralytics/engine/predictor.py\", line 266, in stream_inference\n",
      "    self.results = self.postprocess(preds, im, im0s)\n",
      "                   ^^^^^^^^^^^^^^^^^^^^^^^^^^^^^^^^^\n",
      "  File \"/home/spuser/.conda/envs/yanpan/lib/python3.11/site-packages/ultralytics/models/yolo/segment/predict.py\", line 52, in postprocess\n",
      "    masks = ops.process_mask(proto[i], pred[:, 6:], pred[:, :4], img.shape[2:], upsample=True)  # HWC\n",
      "            ^^^^^^^^^^^^^^^^^^^^^^^^^^^^^^^^^^^^^^^^^^^^^^^^^^^^^^^^^^^^^^^^^^^^^^^^^^^^^^^^^^\n",
      "  File \"/home/spuser/.conda/envs/yanpan/lib/python3.11/site-packages/ultralytics/utils/ops.py\", line 671, in process_mask\n",
      "    c, mh, mw = protos.shape  # CHW\n",
      "    ^^^^^^^^^\n",
      "ValueError: too many values to unpack (expected 3)\n",
      "Traceback (most recent call last):\n",
      "  File \"/tmp/ipykernel_2239786/1301476628.py\", line 65, in main\n",
      "    for result in results_generator:\n",
      "  File \"/home/spuser/.conda/envs/yanpan/lib/python3.11/site-packages/torch/utils/_contextlib.py\", line 36, in generator_context\n",
      "    response = gen.send(None)\n",
      "               ^^^^^^^^^^^^^^\n",
      "  File \"/home/spuser/.conda/envs/yanpan/lib/python3.11/site-packages/ultralytics/engine/predictor.py\", line 266, in stream_inference\n",
      "    self.results = self.postprocess(preds, im, im0s)\n",
      "                   ^^^^^^^^^^^^^^^^^^^^^^^^^^^^^^^^^\n",
      "  File \"/home/spuser/.conda/envs/yanpan/lib/python3.11/site-packages/ultralytics/models/yolo/segment/predict.py\", line 52, in postprocess\n",
      "    masks = ops.process_mask(proto[i], pred[:, 6:], pred[:, :4], img.shape[2:], upsample=True)  # HWC\n",
      "            ^^^^^^^^^^^^^^^^^^^^^^^^^^^^^^^^^^^^^^^^^^^^^^^^^^^^^^^^^^^^^^^^^^^^^^^^^^^^^^^^^^\n",
      "  File \"/home/spuser/.conda/envs/yanpan/lib/python3.11/site-packages/ultralytics/utils/ops.py\", line 671, in process_mask\n",
      "    c, mh, mw = protos.shape  # CHW\n",
      "    ^^^^^^^^^\n",
      "ValueError: too many values to unpack (expected 3)\n",
      "Traceback (most recent call last):\n",
      "  File \"/tmp/ipykernel_2239786/1301476628.py\", line 65, in main\n",
      "    for result in results_generator:\n",
      "  File \"/home/spuser/.conda/envs/yanpan/lib/python3.11/site-packages/torch/utils/_contextlib.py\", line 36, in generator_context\n",
      "    response = gen.send(None)\n",
      "               ^^^^^^^^^^^^^^\n",
      "  File \"/home/spuser/.conda/envs/yanpan/lib/python3.11/site-packages/ultralytics/engine/predictor.py\", line 266, in stream_inference\n",
      "    self.results = self.postprocess(preds, im, im0s)\n",
      "                   ^^^^^^^^^^^^^^^^^^^^^^^^^^^^^^^^^\n",
      "  File \"/home/spuser/.conda/envs/yanpan/lib/python3.11/site-packages/ultralytics/models/yolo/segment/predict.py\", line 52, in postprocess\n",
      "    masks = ops.process_mask(proto[i], pred[:, 6:], pred[:, :4], img.shape[2:], upsample=True)  # HWC\n",
      "            ^^^^^^^^^^^^^^^^^^^^^^^^^^^^^^^^^^^^^^^^^^^^^^^^^^^^^^^^^^^^^^^^^^^^^^^^^^^^^^^^^^\n",
      "  File \"/home/spuser/.conda/envs/yanpan/lib/python3.11/site-packages/ultralytics/utils/ops.py\", line 671, in process_mask\n",
      "    c, mh, mw = protos.shape  # CHW\n",
      "    ^^^^^^^^^\n",
      "ValueError: too many values to unpack (expected 3)\n",
      "Traceback (most recent call last):\n",
      "  File \"/tmp/ipykernel_2239786/1301476628.py\", line 65, in main\n",
      "    for result in results_generator:\n",
      "  File \"/home/spuser/.conda/envs/yanpan/lib/python3.11/site-packages/torch/utils/_contextlib.py\", line 36, in generator_context\n",
      "    response = gen.send(None)\n",
      "               ^^^^^^^^^^^^^^\n",
      "  File \"/home/spuser/.conda/envs/yanpan/lib/python3.11/site-packages/ultralytics/engine/predictor.py\", line 266, in stream_inference\n",
      "    self.results = self.postprocess(preds, im, im0s)\n",
      "                   ^^^^^^^^^^^^^^^^^^^^^^^^^^^^^^^^^\n",
      "  File \"/home/spuser/.conda/envs/yanpan/lib/python3.11/site-packages/ultralytics/models/yolo/segment/predict.py\", line 52, in postprocess\n",
      "    masks = ops.process_mask(proto[i], pred[:, 6:], pred[:, :4], img.shape[2:], upsample=True)  # HWC\n",
      "            ^^^^^^^^^^^^^^^^^^^^^^^^^^^^^^^^^^^^^^^^^^^^^^^^^^^^^^^^^^^^^^^^^^^^^^^^^^^^^^^^^^\n",
      "  File \"/home/spuser/.conda/envs/yanpan/lib/python3.11/site-packages/ultralytics/utils/ops.py\", line 671, in process_mask\n",
      "    c, mh, mw = protos.shape  # CHW\n",
      "    ^^^^^^^^^\n",
      "ValueError: too many values to unpack (expected 3)\n",
      "Traceback (most recent call last):\n",
      "  File \"/tmp/ipykernel_2239786/1301476628.py\", line 65, in main\n",
      "    for result in results_generator:\n",
      "  File \"/home/spuser/.conda/envs/yanpan/lib/python3.11/site-packages/torch/utils/_contextlib.py\", line 36, in generator_context\n",
      "    response = gen.send(None)\n",
      "               ^^^^^^^^^^^^^^\n",
      "  File \"/home/spuser/.conda/envs/yanpan/lib/python3.11/site-packages/ultralytics/engine/predictor.py\", line 266, in stream_inference\n",
      "    self.results = self.postprocess(preds, im, im0s)\n",
      "                   ^^^^^^^^^^^^^^^^^^^^^^^^^^^^^^^^^\n",
      "  File \"/home/spuser/.conda/envs/yanpan/lib/python3.11/site-packages/ultralytics/models/yolo/segment/predict.py\", line 52, in postprocess\n",
      "    masks = ops.process_mask(proto[i], pred[:, 6:], pred[:, :4], img.shape[2:], upsample=True)  # HWC\n",
      "            ^^^^^^^^^^^^^^^^^^^^^^^^^^^^^^^^^^^^^^^^^^^^^^^^^^^^^^^^^^^^^^^^^^^^^^^^^^^^^^^^^^\n",
      "  File \"/home/spuser/.conda/envs/yanpan/lib/python3.11/site-packages/ultralytics/utils/ops.py\", line 671, in process_mask\n",
      "    c, mh, mw = protos.shape  # CHW\n",
      "    ^^^^^^^^^\n",
      "ValueError: too many values to unpack (expected 3)\n",
      "Traceback (most recent call last):\n",
      "  File \"/tmp/ipykernel_2239786/1301476628.py\", line 65, in main\n",
      "    for result in results_generator:\n",
      "  File \"/home/spuser/.conda/envs/yanpan/lib/python3.11/site-packages/torch/utils/_contextlib.py\", line 36, in generator_context\n",
      "    response = gen.send(None)\n",
      "               ^^^^^^^^^^^^^^\n",
      "  File \"/home/spuser/.conda/envs/yanpan/lib/python3.11/site-packages/ultralytics/engine/predictor.py\", line 266, in stream_inference\n",
      "    self.results = self.postprocess(preds, im, im0s)\n",
      "                   ^^^^^^^^^^^^^^^^^^^^^^^^^^^^^^^^^\n",
      "  File \"/home/spuser/.conda/envs/yanpan/lib/python3.11/site-packages/ultralytics/models/yolo/segment/predict.py\", line 52, in postprocess\n",
      "    masks = ops.process_mask(proto[i], pred[:, 6:], pred[:, :4], img.shape[2:], upsample=True)  # HWC\n",
      "            ^^^^^^^^^^^^^^^^^^^^^^^^^^^^^^^^^^^^^^^^^^^^^^^^^^^^^^^^^^^^^^^^^^^^^^^^^^^^^^^^^^\n",
      "  File \"/home/spuser/.conda/envs/yanpan/lib/python3.11/site-packages/ultralytics/utils/ops.py\", line 671, in process_mask\n",
      "    c, mh, mw = protos.shape  # CHW\n",
      "    ^^^^^^^^^\n",
      "ValueError: too many values to unpack (expected 3)\n",
      "Traceback (most recent call last):\n",
      "  File \"/tmp/ipykernel_2239786/1301476628.py\", line 65, in main\n",
      "    for result in results_generator:\n",
      "  File \"/home/spuser/.conda/envs/yanpan/lib/python3.11/site-packages/torch/utils/_contextlib.py\", line 36, in generator_context\n",
      "    response = gen.send(None)\n",
      "               ^^^^^^^^^^^^^^\n",
      "  File \"/home/spuser/.conda/envs/yanpan/lib/python3.11/site-packages/ultralytics/engine/predictor.py\", line 266, in stream_inference\n",
      "    self.results = self.postprocess(preds, im, im0s)\n",
      "                   ^^^^^^^^^^^^^^^^^^^^^^^^^^^^^^^^^\n",
      "  File \"/home/spuser/.conda/envs/yanpan/lib/python3.11/site-packages/ultralytics/models/yolo/segment/predict.py\", line 52, in postprocess\n",
      "    masks = ops.process_mask(proto[i], pred[:, 6:], pred[:, :4], img.shape[2:], upsample=True)  # HWC\n",
      "            ^^^^^^^^^^^^^^^^^^^^^^^^^^^^^^^^^^^^^^^^^^^^^^^^^^^^^^^^^^^^^^^^^^^^^^^^^^^^^^^^^^\n",
      "  File \"/home/spuser/.conda/envs/yanpan/lib/python3.11/site-packages/ultralytics/utils/ops.py\", line 671, in process_mask\n",
      "    c, mh, mw = protos.shape  # CHW\n",
      "    ^^^^^^^^^\n",
      "ValueError: too many values to unpack (expected 3)\n",
      "Traceback (most recent call last):\n",
      "  File \"/tmp/ipykernel_2239786/1301476628.py\", line 65, in main\n",
      "    for result in results_generator:\n",
      "  File \"/home/spuser/.conda/envs/yanpan/lib/python3.11/site-packages/torch/utils/_contextlib.py\", line 36, in generator_context\n",
      "    response = gen.send(None)\n",
      "               ^^^^^^^^^^^^^^\n",
      "  File \"/home/spuser/.conda/envs/yanpan/lib/python3.11/site-packages/ultralytics/engine/predictor.py\", line 266, in stream_inference\n",
      "    self.results = self.postprocess(preds, im, im0s)\n",
      "                   ^^^^^^^^^^^^^^^^^^^^^^^^^^^^^^^^^\n",
      "  File \"/home/spuser/.conda/envs/yanpan/lib/python3.11/site-packages/ultralytics/models/yolo/segment/predict.py\", line 52, in postprocess\n",
      "    masks = ops.process_mask(proto[i], pred[:, 6:], pred[:, :4], img.shape[2:], upsample=True)  # HWC\n",
      "            ^^^^^^^^^^^^^^^^^^^^^^^^^^^^^^^^^^^^^^^^^^^^^^^^^^^^^^^^^^^^^^^^^^^^^^^^^^^^^^^^^^\n",
      "  File \"/home/spuser/.conda/envs/yanpan/lib/python3.11/site-packages/ultralytics/utils/ops.py\", line 671, in process_mask\n",
      "    c, mh, mw = protos.shape  # CHW\n",
      "    ^^^^^^^^^\n",
      "ValueError: too many values to unpack (expected 3)\n",
      "Traceback (most recent call last):\n",
      "  File \"/tmp/ipykernel_2239786/1301476628.py\", line 65, in main\n",
      "    for result in results_generator:\n",
      "  File \"/home/spuser/.conda/envs/yanpan/lib/python3.11/site-packages/torch/utils/_contextlib.py\", line 36, in generator_context\n",
      "    response = gen.send(None)\n",
      "               ^^^^^^^^^^^^^^\n",
      "  File \"/home/spuser/.conda/envs/yanpan/lib/python3.11/site-packages/ultralytics/engine/predictor.py\", line 266, in stream_inference\n",
      "    self.results = self.postprocess(preds, im, im0s)\n",
      "                   ^^^^^^^^^^^^^^^^^^^^^^^^^^^^^^^^^\n",
      "  File \"/home/spuser/.conda/envs/yanpan/lib/python3.11/site-packages/ultralytics/models/yolo/segment/predict.py\", line 52, in postprocess\n",
      "    masks = ops.process_mask(proto[i], pred[:, 6:], pred[:, :4], img.shape[2:], upsample=True)  # HWC\n",
      "            ^^^^^^^^^^^^^^^^^^^^^^^^^^^^^^^^^^^^^^^^^^^^^^^^^^^^^^^^^^^^^^^^^^^^^^^^^^^^^^^^^^\n",
      "  File \"/home/spuser/.conda/envs/yanpan/lib/python3.11/site-packages/ultralytics/utils/ops.py\", line 671, in process_mask\n",
      "    c, mh, mw = protos.shape  # CHW\n",
      "    ^^^^^^^^^\n",
      "ValueError: too many values to unpack (expected 3)\n"
     ]
    },
    {
     "name": "stdout",
     "output_type": "stream",
     "text": [
      "Error processing frame 170: too many values to unpack (expected 3)\n",
      "Frame shape: (640, 640, 3), dtype: uint8\n",
      "\n",
      "Error processing frame 171: too many values to unpack (expected 3)\n",
      "Frame shape: (640, 640, 3), dtype: uint8\n",
      "\n",
      "Error processing frame 172: too many values to unpack (expected 3)\n",
      "Frame shape: (640, 640, 3), dtype: uint8\n",
      "\n",
      "Error processing frame 173: too many values to unpack (expected 3)\n",
      "Frame shape: (640, 640, 3), dtype: uint8\n",
      "\n",
      "Error processing frame 174: too many values to unpack (expected 3)\n",
      "Frame shape: (640, 640, 3), dtype: uint8\n",
      "\n",
      "Error processing frame 175: too many values to unpack (expected 3)\n",
      "Frame shape: (640, 640, 3), dtype: uint8\n",
      "\n",
      "Error processing frame 176: too many values to unpack (expected 3)\n",
      "Frame shape: (640, 640, 3), dtype: uint8\n",
      "\n",
      "Error processing frame 177: too many values to unpack (expected 3)\n",
      "Frame shape: (640, 640, 3), dtype: uint8\n",
      "\n",
      "Error processing frame 178: too many values to unpack (expected 3)\n",
      "Frame shape: (640, 640, 3), dtype: uint8\n",
      "\n",
      "Error processing frame 179: too many values to unpack (expected 3)\n",
      "Frame shape: (640, 640, 3), dtype: uint8\n",
      "\n",
      "Error processing frame 180: too many values to unpack (expected 3)\n",
      "Frame shape: (640, 640, 3), dtype: uint8\n",
      "\n"
     ]
    },
    {
     "name": "stderr",
     "output_type": "stream",
     "text": [
      "Traceback (most recent call last):\n",
      "  File \"/tmp/ipykernel_2239786/1301476628.py\", line 65, in main\n",
      "    for result in results_generator:\n",
      "  File \"/home/spuser/.conda/envs/yanpan/lib/python3.11/site-packages/torch/utils/_contextlib.py\", line 36, in generator_context\n",
      "    response = gen.send(None)\n",
      "               ^^^^^^^^^^^^^^\n",
      "  File \"/home/spuser/.conda/envs/yanpan/lib/python3.11/site-packages/ultralytics/engine/predictor.py\", line 266, in stream_inference\n",
      "    self.results = self.postprocess(preds, im, im0s)\n",
      "                   ^^^^^^^^^^^^^^^^^^^^^^^^^^^^^^^^^\n",
      "  File \"/home/spuser/.conda/envs/yanpan/lib/python3.11/site-packages/ultralytics/models/yolo/segment/predict.py\", line 52, in postprocess\n",
      "    masks = ops.process_mask(proto[i], pred[:, 6:], pred[:, :4], img.shape[2:], upsample=True)  # HWC\n",
      "            ^^^^^^^^^^^^^^^^^^^^^^^^^^^^^^^^^^^^^^^^^^^^^^^^^^^^^^^^^^^^^^^^^^^^^^^^^^^^^^^^^^\n",
      "  File \"/home/spuser/.conda/envs/yanpan/lib/python3.11/site-packages/ultralytics/utils/ops.py\", line 671, in process_mask\n",
      "    c, mh, mw = protos.shape  # CHW\n",
      "    ^^^^^^^^^\n",
      "ValueError: too many values to unpack (expected 3)\n",
      "Traceback (most recent call last):\n",
      "  File \"/tmp/ipykernel_2239786/1301476628.py\", line 65, in main\n",
      "    for result in results_generator:\n",
      "  File \"/home/spuser/.conda/envs/yanpan/lib/python3.11/site-packages/torch/utils/_contextlib.py\", line 36, in generator_context\n",
      "    response = gen.send(None)\n",
      "               ^^^^^^^^^^^^^^\n",
      "  File \"/home/spuser/.conda/envs/yanpan/lib/python3.11/site-packages/ultralytics/engine/predictor.py\", line 266, in stream_inference\n",
      "    self.results = self.postprocess(preds, im, im0s)\n",
      "                   ^^^^^^^^^^^^^^^^^^^^^^^^^^^^^^^^^\n",
      "  File \"/home/spuser/.conda/envs/yanpan/lib/python3.11/site-packages/ultralytics/models/yolo/segment/predict.py\", line 52, in postprocess\n",
      "    masks = ops.process_mask(proto[i], pred[:, 6:], pred[:, :4], img.shape[2:], upsample=True)  # HWC\n",
      "            ^^^^^^^^^^^^^^^^^^^^^^^^^^^^^^^^^^^^^^^^^^^^^^^^^^^^^^^^^^^^^^^^^^^^^^^^^^^^^^^^^^\n",
      "  File \"/home/spuser/.conda/envs/yanpan/lib/python3.11/site-packages/ultralytics/utils/ops.py\", line 671, in process_mask\n",
      "    c, mh, mw = protos.shape  # CHW\n",
      "    ^^^^^^^^^\n",
      "ValueError: too many values to unpack (expected 3)\n",
      "Traceback (most recent call last):\n",
      "  File \"/tmp/ipykernel_2239786/1301476628.py\", line 65, in main\n",
      "    for result in results_generator:\n",
      "  File \"/home/spuser/.conda/envs/yanpan/lib/python3.11/site-packages/torch/utils/_contextlib.py\", line 36, in generator_context\n",
      "    response = gen.send(None)\n",
      "               ^^^^^^^^^^^^^^\n",
      "  File \"/home/spuser/.conda/envs/yanpan/lib/python3.11/site-packages/ultralytics/engine/predictor.py\", line 266, in stream_inference\n",
      "    self.results = self.postprocess(preds, im, im0s)\n",
      "                   ^^^^^^^^^^^^^^^^^^^^^^^^^^^^^^^^^\n",
      "  File \"/home/spuser/.conda/envs/yanpan/lib/python3.11/site-packages/ultralytics/models/yolo/segment/predict.py\", line 52, in postprocess\n",
      "    masks = ops.process_mask(proto[i], pred[:, 6:], pred[:, :4], img.shape[2:], upsample=True)  # HWC\n",
      "            ^^^^^^^^^^^^^^^^^^^^^^^^^^^^^^^^^^^^^^^^^^^^^^^^^^^^^^^^^^^^^^^^^^^^^^^^^^^^^^^^^^\n",
      "  File \"/home/spuser/.conda/envs/yanpan/lib/python3.11/site-packages/ultralytics/utils/ops.py\", line 671, in process_mask\n",
      "    c, mh, mw = protos.shape  # CHW\n",
      "    ^^^^^^^^^\n",
      "ValueError: too many values to unpack (expected 3)\n",
      "Traceback (most recent call last):\n",
      "  File \"/tmp/ipykernel_2239786/1301476628.py\", line 65, in main\n",
      "    for result in results_generator:\n",
      "  File \"/home/spuser/.conda/envs/yanpan/lib/python3.11/site-packages/torch/utils/_contextlib.py\", line 36, in generator_context\n",
      "    response = gen.send(None)\n",
      "               ^^^^^^^^^^^^^^\n",
      "  File \"/home/spuser/.conda/envs/yanpan/lib/python3.11/site-packages/ultralytics/engine/predictor.py\", line 266, in stream_inference\n",
      "    self.results = self.postprocess(preds, im, im0s)\n",
      "                   ^^^^^^^^^^^^^^^^^^^^^^^^^^^^^^^^^\n",
      "  File \"/home/spuser/.conda/envs/yanpan/lib/python3.11/site-packages/ultralytics/models/yolo/segment/predict.py\", line 52, in postprocess\n",
      "    masks = ops.process_mask(proto[i], pred[:, 6:], pred[:, :4], img.shape[2:], upsample=True)  # HWC\n",
      "            ^^^^^^^^^^^^^^^^^^^^^^^^^^^^^^^^^^^^^^^^^^^^^^^^^^^^^^^^^^^^^^^^^^^^^^^^^^^^^^^^^^\n",
      "  File \"/home/spuser/.conda/envs/yanpan/lib/python3.11/site-packages/ultralytics/utils/ops.py\", line 671, in process_mask\n",
      "    c, mh, mw = protos.shape  # CHW\n",
      "    ^^^^^^^^^\n",
      "ValueError: too many values to unpack (expected 3)\n",
      "Traceback (most recent call last):\n",
      "  File \"/tmp/ipykernel_2239786/1301476628.py\", line 65, in main\n",
      "    for result in results_generator:\n",
      "  File \"/home/spuser/.conda/envs/yanpan/lib/python3.11/site-packages/torch/utils/_contextlib.py\", line 36, in generator_context\n",
      "    response = gen.send(None)\n",
      "               ^^^^^^^^^^^^^^\n",
      "  File \"/home/spuser/.conda/envs/yanpan/lib/python3.11/site-packages/ultralytics/engine/predictor.py\", line 266, in stream_inference\n",
      "    self.results = self.postprocess(preds, im, im0s)\n",
      "                   ^^^^^^^^^^^^^^^^^^^^^^^^^^^^^^^^^\n",
      "  File \"/home/spuser/.conda/envs/yanpan/lib/python3.11/site-packages/ultralytics/models/yolo/segment/predict.py\", line 52, in postprocess\n",
      "    masks = ops.process_mask(proto[i], pred[:, 6:], pred[:, :4], img.shape[2:], upsample=True)  # HWC\n",
      "            ^^^^^^^^^^^^^^^^^^^^^^^^^^^^^^^^^^^^^^^^^^^^^^^^^^^^^^^^^^^^^^^^^^^^^^^^^^^^^^^^^^\n",
      "  File \"/home/spuser/.conda/envs/yanpan/lib/python3.11/site-packages/ultralytics/utils/ops.py\", line 671, in process_mask\n",
      "    c, mh, mw = protos.shape  # CHW\n",
      "    ^^^^^^^^^\n",
      "ValueError: too many values to unpack (expected 3)\n",
      "Traceback (most recent call last):\n",
      "  File \"/tmp/ipykernel_2239786/1301476628.py\", line 65, in main\n",
      "    for result in results_generator:\n",
      "  File \"/home/spuser/.conda/envs/yanpan/lib/python3.11/site-packages/torch/utils/_contextlib.py\", line 36, in generator_context\n",
      "    response = gen.send(None)\n",
      "               ^^^^^^^^^^^^^^\n",
      "  File \"/home/spuser/.conda/envs/yanpan/lib/python3.11/site-packages/ultralytics/engine/predictor.py\", line 266, in stream_inference\n",
      "    self.results = self.postprocess(preds, im, im0s)\n",
      "                   ^^^^^^^^^^^^^^^^^^^^^^^^^^^^^^^^^\n",
      "  File \"/home/spuser/.conda/envs/yanpan/lib/python3.11/site-packages/ultralytics/models/yolo/segment/predict.py\", line 52, in postprocess\n",
      "    masks = ops.process_mask(proto[i], pred[:, 6:], pred[:, :4], img.shape[2:], upsample=True)  # HWC\n",
      "            ^^^^^^^^^^^^^^^^^^^^^^^^^^^^^^^^^^^^^^^^^^^^^^^^^^^^^^^^^^^^^^^^^^^^^^^^^^^^^^^^^^\n",
      "  File \"/home/spuser/.conda/envs/yanpan/lib/python3.11/site-packages/ultralytics/utils/ops.py\", line 671, in process_mask\n",
      "    c, mh, mw = protos.shape  # CHW\n",
      "    ^^^^^^^^^\n",
      "ValueError: too many values to unpack (expected 3)\n",
      "Traceback (most recent call last):\n",
      "  File \"/tmp/ipykernel_2239786/1301476628.py\", line 65, in main\n",
      "    for result in results_generator:\n",
      "  File \"/home/spuser/.conda/envs/yanpan/lib/python3.11/site-packages/torch/utils/_contextlib.py\", line 36, in generator_context\n",
      "    response = gen.send(None)\n",
      "               ^^^^^^^^^^^^^^\n",
      "  File \"/home/spuser/.conda/envs/yanpan/lib/python3.11/site-packages/ultralytics/engine/predictor.py\", line 266, in stream_inference\n",
      "    self.results = self.postprocess(preds, im, im0s)\n",
      "                   ^^^^^^^^^^^^^^^^^^^^^^^^^^^^^^^^^\n",
      "  File \"/home/spuser/.conda/envs/yanpan/lib/python3.11/site-packages/ultralytics/models/yolo/segment/predict.py\", line 52, in postprocess\n",
      "    masks = ops.process_mask(proto[i], pred[:, 6:], pred[:, :4], img.shape[2:], upsample=True)  # HWC\n",
      "            ^^^^^^^^^^^^^^^^^^^^^^^^^^^^^^^^^^^^^^^^^^^^^^^^^^^^^^^^^^^^^^^^^^^^^^^^^^^^^^^^^^\n",
      "  File \"/home/spuser/.conda/envs/yanpan/lib/python3.11/site-packages/ultralytics/utils/ops.py\", line 671, in process_mask\n",
      "    c, mh, mw = protos.shape  # CHW\n",
      "    ^^^^^^^^^\n",
      "ValueError: too many values to unpack (expected 3)\n",
      "Traceback (most recent call last):\n",
      "  File \"/tmp/ipykernel_2239786/1301476628.py\", line 65, in main\n",
      "    for result in results_generator:\n",
      "  File \"/home/spuser/.conda/envs/yanpan/lib/python3.11/site-packages/torch/utils/_contextlib.py\", line 36, in generator_context\n",
      "    response = gen.send(None)\n",
      "               ^^^^^^^^^^^^^^\n",
      "  File \"/home/spuser/.conda/envs/yanpan/lib/python3.11/site-packages/ultralytics/engine/predictor.py\", line 266, in stream_inference\n",
      "    self.results = self.postprocess(preds, im, im0s)\n",
      "                   ^^^^^^^^^^^^^^^^^^^^^^^^^^^^^^^^^\n",
      "  File \"/home/spuser/.conda/envs/yanpan/lib/python3.11/site-packages/ultralytics/models/yolo/segment/predict.py\", line 52, in postprocess\n",
      "    masks = ops.process_mask(proto[i], pred[:, 6:], pred[:, :4], img.shape[2:], upsample=True)  # HWC\n",
      "            ^^^^^^^^^^^^^^^^^^^^^^^^^^^^^^^^^^^^^^^^^^^^^^^^^^^^^^^^^^^^^^^^^^^^^^^^^^^^^^^^^^\n",
      "  File \"/home/spuser/.conda/envs/yanpan/lib/python3.11/site-packages/ultralytics/utils/ops.py\", line 671, in process_mask\n",
      "    c, mh, mw = protos.shape  # CHW\n",
      "    ^^^^^^^^^\n",
      "ValueError: too many values to unpack (expected 3)\n",
      "Traceback (most recent call last):\n",
      "  File \"/tmp/ipykernel_2239786/1301476628.py\", line 65, in main\n",
      "    for result in results_generator:\n",
      "  File \"/home/spuser/.conda/envs/yanpan/lib/python3.11/site-packages/torch/utils/_contextlib.py\", line 36, in generator_context\n",
      "    response = gen.send(None)\n",
      "               ^^^^^^^^^^^^^^\n",
      "  File \"/home/spuser/.conda/envs/yanpan/lib/python3.11/site-packages/ultralytics/engine/predictor.py\", line 266, in stream_inference\n",
      "    self.results = self.postprocess(preds, im, im0s)\n",
      "                   ^^^^^^^^^^^^^^^^^^^^^^^^^^^^^^^^^\n",
      "  File \"/home/spuser/.conda/envs/yanpan/lib/python3.11/site-packages/ultralytics/models/yolo/segment/predict.py\", line 52, in postprocess\n",
      "    masks = ops.process_mask(proto[i], pred[:, 6:], pred[:, :4], img.shape[2:], upsample=True)  # HWC\n",
      "            ^^^^^^^^^^^^^^^^^^^^^^^^^^^^^^^^^^^^^^^^^^^^^^^^^^^^^^^^^^^^^^^^^^^^^^^^^^^^^^^^^^\n",
      "  File \"/home/spuser/.conda/envs/yanpan/lib/python3.11/site-packages/ultralytics/utils/ops.py\", line 671, in process_mask\n",
      "    c, mh, mw = protos.shape  # CHW\n",
      "    ^^^^^^^^^\n",
      "ValueError: too many values to unpack (expected 3)\n",
      "Traceback (most recent call last):\n",
      "  File \"/tmp/ipykernel_2239786/1301476628.py\", line 65, in main\n",
      "    for result in results_generator:\n",
      "  File \"/home/spuser/.conda/envs/yanpan/lib/python3.11/site-packages/torch/utils/_contextlib.py\", line 36, in generator_context\n",
      "    response = gen.send(None)\n",
      "               ^^^^^^^^^^^^^^\n",
      "  File \"/home/spuser/.conda/envs/yanpan/lib/python3.11/site-packages/ultralytics/engine/predictor.py\", line 266, in stream_inference\n",
      "    self.results = self.postprocess(preds, im, im0s)\n",
      "                   ^^^^^^^^^^^^^^^^^^^^^^^^^^^^^^^^^\n",
      "  File \"/home/spuser/.conda/envs/yanpan/lib/python3.11/site-packages/ultralytics/models/yolo/segment/predict.py\", line 52, in postprocess\n",
      "    masks = ops.process_mask(proto[i], pred[:, 6:], pred[:, :4], img.shape[2:], upsample=True)  # HWC\n",
      "            ^^^^^^^^^^^^^^^^^^^^^^^^^^^^^^^^^^^^^^^^^^^^^^^^^^^^^^^^^^^^^^^^^^^^^^^^^^^^^^^^^^\n",
      "  File \"/home/spuser/.conda/envs/yanpan/lib/python3.11/site-packages/ultralytics/utils/ops.py\", line 671, in process_mask\n",
      "    c, mh, mw = protos.shape  # CHW\n",
      "    ^^^^^^^^^\n",
      "ValueError: too many values to unpack (expected 3)\n",
      "Traceback (most recent call last):\n",
      "  File \"/tmp/ipykernel_2239786/1301476628.py\", line 65, in main\n",
      "    for result in results_generator:\n",
      "  File \"/home/spuser/.conda/envs/yanpan/lib/python3.11/site-packages/torch/utils/_contextlib.py\", line 36, in generator_context\n",
      "    response = gen.send(None)\n",
      "               ^^^^^^^^^^^^^^\n",
      "  File \"/home/spuser/.conda/envs/yanpan/lib/python3.11/site-packages/ultralytics/engine/predictor.py\", line 266, in stream_inference\n",
      "    self.results = self.postprocess(preds, im, im0s)\n",
      "                   ^^^^^^^^^^^^^^^^^^^^^^^^^^^^^^^^^\n",
      "  File \"/home/spuser/.conda/envs/yanpan/lib/python3.11/site-packages/ultralytics/models/yolo/segment/predict.py\", line 52, in postprocess\n",
      "    masks = ops.process_mask(proto[i], pred[:, 6:], pred[:, :4], img.shape[2:], upsample=True)  # HWC\n",
      "            ^^^^^^^^^^^^^^^^^^^^^^^^^^^^^^^^^^^^^^^^^^^^^^^^^^^^^^^^^^^^^^^^^^^^^^^^^^^^^^^^^^\n",
      "  File \"/home/spuser/.conda/envs/yanpan/lib/python3.11/site-packages/ultralytics/utils/ops.py\", line 671, in process_mask\n",
      "    c, mh, mw = protos.shape  # CHW\n",
      "    ^^^^^^^^^\n",
      "ValueError: too many values to unpack (expected 3)\n"
     ]
    },
    {
     "name": "stdout",
     "output_type": "stream",
     "text": [
      "Error processing frame 181: too many values to unpack (expected 3)\n",
      "Frame shape: (640, 640, 3), dtype: uint8\n",
      "\n",
      "Error processing frame 182: too many values to unpack (expected 3)\n",
      "Frame shape: (640, 640, 3), dtype: uint8\n",
      "\n",
      "Error processing frame 183: too many values to unpack (expected 3)\n",
      "Frame shape: (640, 640, 3), dtype: uint8\n",
      "\n",
      "Error processing frame 184: too many values to unpack (expected 3)\n",
      "Frame shape: (640, 640, 3), dtype: uint8\n",
      "\n",
      "Error processing frame 185: too many values to unpack (expected 3)\n",
      "Frame shape: (640, 640, 3), dtype: uint8\n",
      "\n",
      "Error processing frame 186: too many values to unpack (expected 3)\n",
      "Frame shape: (640, 640, 3), dtype: uint8\n",
      "\n",
      "Error processing frame 187: too many values to unpack (expected 3)\n",
      "Frame shape: (640, 640, 3), dtype: uint8\n",
      "\n",
      "Error processing frame 188: too many values to unpack (expected 3)\n",
      "Frame shape: (640, 640, 3), dtype: uint8\n",
      "\n",
      "Error processing frame 189: too many values to unpack (expected 3)\n",
      "Frame shape: (640, 640, 3), dtype: uint8\n",
      "\n",
      "Error processing frame 190: too many values to unpack (expected 3)\n",
      "Frame shape: (640, 640, 3), dtype: uint8\n",
      "\n",
      "Error processing frame 191: too many values to unpack (expected 3)\n",
      "Frame shape: (640, 640, 3), dtype: uint8\n",
      "\n"
     ]
    },
    {
     "name": "stderr",
     "output_type": "stream",
     "text": [
      "Traceback (most recent call last):\n",
      "  File \"/tmp/ipykernel_2239786/1301476628.py\", line 65, in main\n",
      "    for result in results_generator:\n",
      "  File \"/home/spuser/.conda/envs/yanpan/lib/python3.11/site-packages/torch/utils/_contextlib.py\", line 36, in generator_context\n",
      "    response = gen.send(None)\n",
      "               ^^^^^^^^^^^^^^\n",
      "  File \"/home/spuser/.conda/envs/yanpan/lib/python3.11/site-packages/ultralytics/engine/predictor.py\", line 266, in stream_inference\n",
      "    self.results = self.postprocess(preds, im, im0s)\n",
      "                   ^^^^^^^^^^^^^^^^^^^^^^^^^^^^^^^^^\n",
      "  File \"/home/spuser/.conda/envs/yanpan/lib/python3.11/site-packages/ultralytics/models/yolo/segment/predict.py\", line 52, in postprocess\n",
      "    masks = ops.process_mask(proto[i], pred[:, 6:], pred[:, :4], img.shape[2:], upsample=True)  # HWC\n",
      "            ^^^^^^^^^^^^^^^^^^^^^^^^^^^^^^^^^^^^^^^^^^^^^^^^^^^^^^^^^^^^^^^^^^^^^^^^^^^^^^^^^^\n",
      "  File \"/home/spuser/.conda/envs/yanpan/lib/python3.11/site-packages/ultralytics/utils/ops.py\", line 671, in process_mask\n",
      "    c, mh, mw = protos.shape  # CHW\n",
      "    ^^^^^^^^^\n",
      "ValueError: too many values to unpack (expected 3)\n",
      "Traceback (most recent call last):\n",
      "  File \"/tmp/ipykernel_2239786/1301476628.py\", line 65, in main\n",
      "    for result in results_generator:\n",
      "  File \"/home/spuser/.conda/envs/yanpan/lib/python3.11/site-packages/torch/utils/_contextlib.py\", line 36, in generator_context\n",
      "    response = gen.send(None)\n",
      "               ^^^^^^^^^^^^^^\n",
      "  File \"/home/spuser/.conda/envs/yanpan/lib/python3.11/site-packages/ultralytics/engine/predictor.py\", line 266, in stream_inference\n",
      "    self.results = self.postprocess(preds, im, im0s)\n",
      "                   ^^^^^^^^^^^^^^^^^^^^^^^^^^^^^^^^^\n",
      "  File \"/home/spuser/.conda/envs/yanpan/lib/python3.11/site-packages/ultralytics/models/yolo/segment/predict.py\", line 52, in postprocess\n",
      "    masks = ops.process_mask(proto[i], pred[:, 6:], pred[:, :4], img.shape[2:], upsample=True)  # HWC\n",
      "            ^^^^^^^^^^^^^^^^^^^^^^^^^^^^^^^^^^^^^^^^^^^^^^^^^^^^^^^^^^^^^^^^^^^^^^^^^^^^^^^^^^\n",
      "  File \"/home/spuser/.conda/envs/yanpan/lib/python3.11/site-packages/ultralytics/utils/ops.py\", line 671, in process_mask\n",
      "    c, mh, mw = protos.shape  # CHW\n",
      "    ^^^^^^^^^\n",
      "ValueError: too many values to unpack (expected 3)\n",
      "Traceback (most recent call last):\n",
      "  File \"/tmp/ipykernel_2239786/1301476628.py\", line 65, in main\n",
      "    for result in results_generator:\n",
      "  File \"/home/spuser/.conda/envs/yanpan/lib/python3.11/site-packages/torch/utils/_contextlib.py\", line 36, in generator_context\n",
      "    response = gen.send(None)\n",
      "               ^^^^^^^^^^^^^^\n",
      "  File \"/home/spuser/.conda/envs/yanpan/lib/python3.11/site-packages/ultralytics/engine/predictor.py\", line 266, in stream_inference\n",
      "    self.results = self.postprocess(preds, im, im0s)\n",
      "                   ^^^^^^^^^^^^^^^^^^^^^^^^^^^^^^^^^\n",
      "  File \"/home/spuser/.conda/envs/yanpan/lib/python3.11/site-packages/ultralytics/models/yolo/segment/predict.py\", line 52, in postprocess\n",
      "    masks = ops.process_mask(proto[i], pred[:, 6:], pred[:, :4], img.shape[2:], upsample=True)  # HWC\n",
      "            ^^^^^^^^^^^^^^^^^^^^^^^^^^^^^^^^^^^^^^^^^^^^^^^^^^^^^^^^^^^^^^^^^^^^^^^^^^^^^^^^^^\n",
      "  File \"/home/spuser/.conda/envs/yanpan/lib/python3.11/site-packages/ultralytics/utils/ops.py\", line 671, in process_mask\n",
      "    c, mh, mw = protos.shape  # CHW\n",
      "    ^^^^^^^^^\n",
      "ValueError: too many values to unpack (expected 3)\n",
      "Traceback (most recent call last):\n",
      "  File \"/tmp/ipykernel_2239786/1301476628.py\", line 65, in main\n",
      "    for result in results_generator:\n",
      "  File \"/home/spuser/.conda/envs/yanpan/lib/python3.11/site-packages/torch/utils/_contextlib.py\", line 36, in generator_context\n",
      "    response = gen.send(None)\n",
      "               ^^^^^^^^^^^^^^\n",
      "  File \"/home/spuser/.conda/envs/yanpan/lib/python3.11/site-packages/ultralytics/engine/predictor.py\", line 266, in stream_inference\n",
      "    self.results = self.postprocess(preds, im, im0s)\n",
      "                   ^^^^^^^^^^^^^^^^^^^^^^^^^^^^^^^^^\n",
      "  File \"/home/spuser/.conda/envs/yanpan/lib/python3.11/site-packages/ultralytics/models/yolo/segment/predict.py\", line 52, in postprocess\n",
      "    masks = ops.process_mask(proto[i], pred[:, 6:], pred[:, :4], img.shape[2:], upsample=True)  # HWC\n",
      "            ^^^^^^^^^^^^^^^^^^^^^^^^^^^^^^^^^^^^^^^^^^^^^^^^^^^^^^^^^^^^^^^^^^^^^^^^^^^^^^^^^^\n",
      "  File \"/home/spuser/.conda/envs/yanpan/lib/python3.11/site-packages/ultralytics/utils/ops.py\", line 671, in process_mask\n",
      "    c, mh, mw = protos.shape  # CHW\n",
      "    ^^^^^^^^^\n",
      "ValueError: too many values to unpack (expected 3)\n",
      "Traceback (most recent call last):\n",
      "  File \"/tmp/ipykernel_2239786/1301476628.py\", line 65, in main\n",
      "    for result in results_generator:\n",
      "  File \"/home/spuser/.conda/envs/yanpan/lib/python3.11/site-packages/torch/utils/_contextlib.py\", line 36, in generator_context\n",
      "    response = gen.send(None)\n",
      "               ^^^^^^^^^^^^^^\n",
      "  File \"/home/spuser/.conda/envs/yanpan/lib/python3.11/site-packages/ultralytics/engine/predictor.py\", line 266, in stream_inference\n",
      "    self.results = self.postprocess(preds, im, im0s)\n",
      "                   ^^^^^^^^^^^^^^^^^^^^^^^^^^^^^^^^^\n",
      "  File \"/home/spuser/.conda/envs/yanpan/lib/python3.11/site-packages/ultralytics/models/yolo/segment/predict.py\", line 52, in postprocess\n",
      "    masks = ops.process_mask(proto[i], pred[:, 6:], pred[:, :4], img.shape[2:], upsample=True)  # HWC\n",
      "            ^^^^^^^^^^^^^^^^^^^^^^^^^^^^^^^^^^^^^^^^^^^^^^^^^^^^^^^^^^^^^^^^^^^^^^^^^^^^^^^^^^\n",
      "  File \"/home/spuser/.conda/envs/yanpan/lib/python3.11/site-packages/ultralytics/utils/ops.py\", line 671, in process_mask\n",
      "    c, mh, mw = protos.shape  # CHW\n",
      "    ^^^^^^^^^\n",
      "ValueError: too many values to unpack (expected 3)\n",
      "Traceback (most recent call last):\n",
      "  File \"/tmp/ipykernel_2239786/1301476628.py\", line 65, in main\n",
      "    for result in results_generator:\n",
      "  File \"/home/spuser/.conda/envs/yanpan/lib/python3.11/site-packages/torch/utils/_contextlib.py\", line 36, in generator_context\n",
      "    response = gen.send(None)\n",
      "               ^^^^^^^^^^^^^^\n",
      "  File \"/home/spuser/.conda/envs/yanpan/lib/python3.11/site-packages/ultralytics/engine/predictor.py\", line 266, in stream_inference\n",
      "    self.results = self.postprocess(preds, im, im0s)\n",
      "                   ^^^^^^^^^^^^^^^^^^^^^^^^^^^^^^^^^\n",
      "  File \"/home/spuser/.conda/envs/yanpan/lib/python3.11/site-packages/ultralytics/models/yolo/segment/predict.py\", line 52, in postprocess\n",
      "    masks = ops.process_mask(proto[i], pred[:, 6:], pred[:, :4], img.shape[2:], upsample=True)  # HWC\n",
      "            ^^^^^^^^^^^^^^^^^^^^^^^^^^^^^^^^^^^^^^^^^^^^^^^^^^^^^^^^^^^^^^^^^^^^^^^^^^^^^^^^^^\n",
      "  File \"/home/spuser/.conda/envs/yanpan/lib/python3.11/site-packages/ultralytics/utils/ops.py\", line 671, in process_mask\n",
      "    c, mh, mw = protos.shape  # CHW\n",
      "    ^^^^^^^^^\n",
      "ValueError: too many values to unpack (expected 3)\n",
      "Traceback (most recent call last):\n",
      "  File \"/tmp/ipykernel_2239786/1301476628.py\", line 65, in main\n",
      "    for result in results_generator:\n",
      "  File \"/home/spuser/.conda/envs/yanpan/lib/python3.11/site-packages/torch/utils/_contextlib.py\", line 36, in generator_context\n",
      "    response = gen.send(None)\n",
      "               ^^^^^^^^^^^^^^\n",
      "  File \"/home/spuser/.conda/envs/yanpan/lib/python3.11/site-packages/ultralytics/engine/predictor.py\", line 266, in stream_inference\n",
      "    self.results = self.postprocess(preds, im, im0s)\n",
      "                   ^^^^^^^^^^^^^^^^^^^^^^^^^^^^^^^^^\n",
      "  File \"/home/spuser/.conda/envs/yanpan/lib/python3.11/site-packages/ultralytics/models/yolo/segment/predict.py\", line 52, in postprocess\n",
      "    masks = ops.process_mask(proto[i], pred[:, 6:], pred[:, :4], img.shape[2:], upsample=True)  # HWC\n",
      "            ^^^^^^^^^^^^^^^^^^^^^^^^^^^^^^^^^^^^^^^^^^^^^^^^^^^^^^^^^^^^^^^^^^^^^^^^^^^^^^^^^^\n",
      "  File \"/home/spuser/.conda/envs/yanpan/lib/python3.11/site-packages/ultralytics/utils/ops.py\", line 671, in process_mask\n",
      "    c, mh, mw = protos.shape  # CHW\n",
      "    ^^^^^^^^^\n",
      "ValueError: too many values to unpack (expected 3)\n",
      "Traceback (most recent call last):\n",
      "  File \"/tmp/ipykernel_2239786/1301476628.py\", line 65, in main\n",
      "    for result in results_generator:\n",
      "  File \"/home/spuser/.conda/envs/yanpan/lib/python3.11/site-packages/torch/utils/_contextlib.py\", line 36, in generator_context\n",
      "    response = gen.send(None)\n",
      "               ^^^^^^^^^^^^^^\n",
      "  File \"/home/spuser/.conda/envs/yanpan/lib/python3.11/site-packages/ultralytics/engine/predictor.py\", line 266, in stream_inference\n",
      "    self.results = self.postprocess(preds, im, im0s)\n",
      "                   ^^^^^^^^^^^^^^^^^^^^^^^^^^^^^^^^^\n",
      "  File \"/home/spuser/.conda/envs/yanpan/lib/python3.11/site-packages/ultralytics/models/yolo/segment/predict.py\", line 52, in postprocess\n",
      "    masks = ops.process_mask(proto[i], pred[:, 6:], pred[:, :4], img.shape[2:], upsample=True)  # HWC\n",
      "            ^^^^^^^^^^^^^^^^^^^^^^^^^^^^^^^^^^^^^^^^^^^^^^^^^^^^^^^^^^^^^^^^^^^^^^^^^^^^^^^^^^\n",
      "  File \"/home/spuser/.conda/envs/yanpan/lib/python3.11/site-packages/ultralytics/utils/ops.py\", line 671, in process_mask\n",
      "    c, mh, mw = protos.shape  # CHW\n",
      "    ^^^^^^^^^\n",
      "ValueError: too many values to unpack (expected 3)\n",
      "Traceback (most recent call last):\n",
      "  File \"/tmp/ipykernel_2239786/1301476628.py\", line 65, in main\n",
      "    for result in results_generator:\n",
      "  File \"/home/spuser/.conda/envs/yanpan/lib/python3.11/site-packages/torch/utils/_contextlib.py\", line 36, in generator_context\n",
      "    response = gen.send(None)\n",
      "               ^^^^^^^^^^^^^^\n",
      "  File \"/home/spuser/.conda/envs/yanpan/lib/python3.11/site-packages/ultralytics/engine/predictor.py\", line 266, in stream_inference\n",
      "    self.results = self.postprocess(preds, im, im0s)\n",
      "                   ^^^^^^^^^^^^^^^^^^^^^^^^^^^^^^^^^\n",
      "  File \"/home/spuser/.conda/envs/yanpan/lib/python3.11/site-packages/ultralytics/models/yolo/segment/predict.py\", line 52, in postprocess\n",
      "    masks = ops.process_mask(proto[i], pred[:, 6:], pred[:, :4], img.shape[2:], upsample=True)  # HWC\n",
      "            ^^^^^^^^^^^^^^^^^^^^^^^^^^^^^^^^^^^^^^^^^^^^^^^^^^^^^^^^^^^^^^^^^^^^^^^^^^^^^^^^^^\n",
      "  File \"/home/spuser/.conda/envs/yanpan/lib/python3.11/site-packages/ultralytics/utils/ops.py\", line 671, in process_mask\n",
      "    c, mh, mw = protos.shape  # CHW\n",
      "    ^^^^^^^^^\n",
      "ValueError: too many values to unpack (expected 3)\n",
      "Traceback (most recent call last):\n",
      "  File \"/tmp/ipykernel_2239786/1301476628.py\", line 65, in main\n",
      "    for result in results_generator:\n",
      "  File \"/home/spuser/.conda/envs/yanpan/lib/python3.11/site-packages/torch/utils/_contextlib.py\", line 36, in generator_context\n",
      "    response = gen.send(None)\n",
      "               ^^^^^^^^^^^^^^\n",
      "  File \"/home/spuser/.conda/envs/yanpan/lib/python3.11/site-packages/ultralytics/engine/predictor.py\", line 266, in stream_inference\n",
      "    self.results = self.postprocess(preds, im, im0s)\n",
      "                   ^^^^^^^^^^^^^^^^^^^^^^^^^^^^^^^^^\n",
      "  File \"/home/spuser/.conda/envs/yanpan/lib/python3.11/site-packages/ultralytics/models/yolo/segment/predict.py\", line 52, in postprocess\n",
      "    masks = ops.process_mask(proto[i], pred[:, 6:], pred[:, :4], img.shape[2:], upsample=True)  # HWC\n",
      "            ^^^^^^^^^^^^^^^^^^^^^^^^^^^^^^^^^^^^^^^^^^^^^^^^^^^^^^^^^^^^^^^^^^^^^^^^^^^^^^^^^^\n",
      "  File \"/home/spuser/.conda/envs/yanpan/lib/python3.11/site-packages/ultralytics/utils/ops.py\", line 671, in process_mask\n",
      "    c, mh, mw = protos.shape  # CHW\n",
      "    ^^^^^^^^^\n",
      "ValueError: too many values to unpack (expected 3)\n",
      "Traceback (most recent call last):\n",
      "  File \"/tmp/ipykernel_2239786/1301476628.py\", line 65, in main\n",
      "    for result in results_generator:\n",
      "  File \"/home/spuser/.conda/envs/yanpan/lib/python3.11/site-packages/torch/utils/_contextlib.py\", line 36, in generator_context\n",
      "    response = gen.send(None)\n",
      "               ^^^^^^^^^^^^^^\n",
      "  File \"/home/spuser/.conda/envs/yanpan/lib/python3.11/site-packages/ultralytics/engine/predictor.py\", line 266, in stream_inference\n",
      "    self.results = self.postprocess(preds, im, im0s)\n",
      "                   ^^^^^^^^^^^^^^^^^^^^^^^^^^^^^^^^^\n",
      "  File \"/home/spuser/.conda/envs/yanpan/lib/python3.11/site-packages/ultralytics/models/yolo/segment/predict.py\", line 52, in postprocess\n",
      "    masks = ops.process_mask(proto[i], pred[:, 6:], pred[:, :4], img.shape[2:], upsample=True)  # HWC\n",
      "            ^^^^^^^^^^^^^^^^^^^^^^^^^^^^^^^^^^^^^^^^^^^^^^^^^^^^^^^^^^^^^^^^^^^^^^^^^^^^^^^^^^\n",
      "  File \"/home/spuser/.conda/envs/yanpan/lib/python3.11/site-packages/ultralytics/utils/ops.py\", line 671, in process_mask\n",
      "    c, mh, mw = protos.shape  # CHW\n",
      "    ^^^^^^^^^\n",
      "ValueError: too many values to unpack (expected 3)\n"
     ]
    },
    {
     "name": "stdout",
     "output_type": "stream",
     "text": [
      "Error processing frame 192: too many values to unpack (expected 3)\n",
      "Frame shape: (640, 640, 3), dtype: uint8\n",
      "\n",
      "Error processing frame 193: too many values to unpack (expected 3)\n",
      "Frame shape: (640, 640, 3), dtype: uint8\n",
      "\n",
      "Error processing frame 194: too many values to unpack (expected 3)\n",
      "Frame shape: (640, 640, 3), dtype: uint8\n",
      "\n",
      "Error processing frame 195: too many values to unpack (expected 3)\n",
      "Frame shape: (640, 640, 3), dtype: uint8\n",
      "\n",
      "Error processing frame 196: too many values to unpack (expected 3)\n",
      "Frame shape: (640, 640, 3), dtype: uint8\n",
      "\n",
      "Error processing frame 197: too many values to unpack (expected 3)\n",
      "Frame shape: (640, 640, 3), dtype: uint8\n",
      "\n",
      "Error processing frame 198: too many values to unpack (expected 3)\n",
      "Frame shape: (640, 640, 3), dtype: uint8\n",
      "\n",
      "Error processing frame 199: too many values to unpack (expected 3)\n",
      "Frame shape: (640, 640, 3), dtype: uint8\n",
      "\n",
      "Error processing frame 200: too many values to unpack (expected 3)\n",
      "Frame shape: (640, 640, 3), dtype: uint8\n",
      "\n",
      "Error processing frame 201: too many values to unpack (expected 3)\n",
      "Frame shape: (640, 640, 3), dtype: uint8\n",
      "\n",
      "Error processing frame 202: too many values to unpack (expected 3)\n",
      "Frame shape: (640, 640, 3), dtype: uint8\n",
      "\n",
      "Error processing frame 203: too many values to unpack (expected 3)\n",
      "Frame shape: (640, 640, 3), dtype: uint8\n",
      "\n"
     ]
    },
    {
     "name": "stderr",
     "output_type": "stream",
     "text": [
      "Traceback (most recent call last):\n",
      "  File \"/tmp/ipykernel_2239786/1301476628.py\", line 65, in main\n",
      "    for result in results_generator:\n",
      "  File \"/home/spuser/.conda/envs/yanpan/lib/python3.11/site-packages/torch/utils/_contextlib.py\", line 36, in generator_context\n",
      "    response = gen.send(None)\n",
      "               ^^^^^^^^^^^^^^\n",
      "  File \"/home/spuser/.conda/envs/yanpan/lib/python3.11/site-packages/ultralytics/engine/predictor.py\", line 266, in stream_inference\n",
      "    self.results = self.postprocess(preds, im, im0s)\n",
      "                   ^^^^^^^^^^^^^^^^^^^^^^^^^^^^^^^^^\n",
      "  File \"/home/spuser/.conda/envs/yanpan/lib/python3.11/site-packages/ultralytics/models/yolo/segment/predict.py\", line 52, in postprocess\n",
      "    masks = ops.process_mask(proto[i], pred[:, 6:], pred[:, :4], img.shape[2:], upsample=True)  # HWC\n",
      "            ^^^^^^^^^^^^^^^^^^^^^^^^^^^^^^^^^^^^^^^^^^^^^^^^^^^^^^^^^^^^^^^^^^^^^^^^^^^^^^^^^^\n",
      "  File \"/home/spuser/.conda/envs/yanpan/lib/python3.11/site-packages/ultralytics/utils/ops.py\", line 671, in process_mask\n",
      "    c, mh, mw = protos.shape  # CHW\n",
      "    ^^^^^^^^^\n",
      "ValueError: too many values to unpack (expected 3)\n",
      "Traceback (most recent call last):\n",
      "  File \"/tmp/ipykernel_2239786/1301476628.py\", line 65, in main\n",
      "    for result in results_generator:\n",
      "  File \"/home/spuser/.conda/envs/yanpan/lib/python3.11/site-packages/torch/utils/_contextlib.py\", line 36, in generator_context\n",
      "    response = gen.send(None)\n",
      "               ^^^^^^^^^^^^^^\n",
      "  File \"/home/spuser/.conda/envs/yanpan/lib/python3.11/site-packages/ultralytics/engine/predictor.py\", line 266, in stream_inference\n",
      "    self.results = self.postprocess(preds, im, im0s)\n",
      "                   ^^^^^^^^^^^^^^^^^^^^^^^^^^^^^^^^^\n",
      "  File \"/home/spuser/.conda/envs/yanpan/lib/python3.11/site-packages/ultralytics/models/yolo/segment/predict.py\", line 52, in postprocess\n",
      "    masks = ops.process_mask(proto[i], pred[:, 6:], pred[:, :4], img.shape[2:], upsample=True)  # HWC\n",
      "            ^^^^^^^^^^^^^^^^^^^^^^^^^^^^^^^^^^^^^^^^^^^^^^^^^^^^^^^^^^^^^^^^^^^^^^^^^^^^^^^^^^\n",
      "  File \"/home/spuser/.conda/envs/yanpan/lib/python3.11/site-packages/ultralytics/utils/ops.py\", line 671, in process_mask\n",
      "    c, mh, mw = protos.shape  # CHW\n",
      "    ^^^^^^^^^\n",
      "ValueError: too many values to unpack (expected 3)\n",
      "Traceback (most recent call last):\n",
      "  File \"/tmp/ipykernel_2239786/1301476628.py\", line 65, in main\n",
      "    for result in results_generator:\n",
      "  File \"/home/spuser/.conda/envs/yanpan/lib/python3.11/site-packages/torch/utils/_contextlib.py\", line 36, in generator_context\n",
      "    response = gen.send(None)\n",
      "               ^^^^^^^^^^^^^^\n",
      "  File \"/home/spuser/.conda/envs/yanpan/lib/python3.11/site-packages/ultralytics/engine/predictor.py\", line 266, in stream_inference\n",
      "    self.results = self.postprocess(preds, im, im0s)\n",
      "                   ^^^^^^^^^^^^^^^^^^^^^^^^^^^^^^^^^\n",
      "  File \"/home/spuser/.conda/envs/yanpan/lib/python3.11/site-packages/ultralytics/models/yolo/segment/predict.py\", line 52, in postprocess\n",
      "    masks = ops.process_mask(proto[i], pred[:, 6:], pred[:, :4], img.shape[2:], upsample=True)  # HWC\n",
      "            ^^^^^^^^^^^^^^^^^^^^^^^^^^^^^^^^^^^^^^^^^^^^^^^^^^^^^^^^^^^^^^^^^^^^^^^^^^^^^^^^^^\n",
      "  File \"/home/spuser/.conda/envs/yanpan/lib/python3.11/site-packages/ultralytics/utils/ops.py\", line 671, in process_mask\n",
      "    c, mh, mw = protos.shape  # CHW\n",
      "    ^^^^^^^^^\n",
      "ValueError: too many values to unpack (expected 3)\n",
      "Traceback (most recent call last):\n",
      "  File \"/tmp/ipykernel_2239786/1301476628.py\", line 65, in main\n",
      "    for result in results_generator:\n",
      "  File \"/home/spuser/.conda/envs/yanpan/lib/python3.11/site-packages/torch/utils/_contextlib.py\", line 36, in generator_context\n",
      "    response = gen.send(None)\n",
      "               ^^^^^^^^^^^^^^\n",
      "  File \"/home/spuser/.conda/envs/yanpan/lib/python3.11/site-packages/ultralytics/engine/predictor.py\", line 266, in stream_inference\n",
      "    self.results = self.postprocess(preds, im, im0s)\n",
      "                   ^^^^^^^^^^^^^^^^^^^^^^^^^^^^^^^^^\n",
      "  File \"/home/spuser/.conda/envs/yanpan/lib/python3.11/site-packages/ultralytics/models/yolo/segment/predict.py\", line 52, in postprocess\n",
      "    masks = ops.process_mask(proto[i], pred[:, 6:], pred[:, :4], img.shape[2:], upsample=True)  # HWC\n",
      "            ^^^^^^^^^^^^^^^^^^^^^^^^^^^^^^^^^^^^^^^^^^^^^^^^^^^^^^^^^^^^^^^^^^^^^^^^^^^^^^^^^^\n",
      "  File \"/home/spuser/.conda/envs/yanpan/lib/python3.11/site-packages/ultralytics/utils/ops.py\", line 671, in process_mask\n",
      "    c, mh, mw = protos.shape  # CHW\n",
      "    ^^^^^^^^^\n",
      "ValueError: too many values to unpack (expected 3)\n",
      "Traceback (most recent call last):\n",
      "  File \"/tmp/ipykernel_2239786/1301476628.py\", line 65, in main\n",
      "    for result in results_generator:\n",
      "  File \"/home/spuser/.conda/envs/yanpan/lib/python3.11/site-packages/torch/utils/_contextlib.py\", line 36, in generator_context\n",
      "    response = gen.send(None)\n",
      "               ^^^^^^^^^^^^^^\n",
      "  File \"/home/spuser/.conda/envs/yanpan/lib/python3.11/site-packages/ultralytics/engine/predictor.py\", line 266, in stream_inference\n",
      "    self.results = self.postprocess(preds, im, im0s)\n",
      "                   ^^^^^^^^^^^^^^^^^^^^^^^^^^^^^^^^^\n",
      "  File \"/home/spuser/.conda/envs/yanpan/lib/python3.11/site-packages/ultralytics/models/yolo/segment/predict.py\", line 52, in postprocess\n",
      "    masks = ops.process_mask(proto[i], pred[:, 6:], pred[:, :4], img.shape[2:], upsample=True)  # HWC\n",
      "            ^^^^^^^^^^^^^^^^^^^^^^^^^^^^^^^^^^^^^^^^^^^^^^^^^^^^^^^^^^^^^^^^^^^^^^^^^^^^^^^^^^\n",
      "  File \"/home/spuser/.conda/envs/yanpan/lib/python3.11/site-packages/ultralytics/utils/ops.py\", line 671, in process_mask\n",
      "    c, mh, mw = protos.shape  # CHW\n",
      "    ^^^^^^^^^\n",
      "ValueError: too many values to unpack (expected 3)\n",
      "Traceback (most recent call last):\n",
      "  File \"/tmp/ipykernel_2239786/1301476628.py\", line 65, in main\n",
      "    for result in results_generator:\n",
      "  File \"/home/spuser/.conda/envs/yanpan/lib/python3.11/site-packages/torch/utils/_contextlib.py\", line 36, in generator_context\n",
      "    response = gen.send(None)\n",
      "               ^^^^^^^^^^^^^^\n",
      "  File \"/home/spuser/.conda/envs/yanpan/lib/python3.11/site-packages/ultralytics/engine/predictor.py\", line 266, in stream_inference\n",
      "    self.results = self.postprocess(preds, im, im0s)\n",
      "                   ^^^^^^^^^^^^^^^^^^^^^^^^^^^^^^^^^\n",
      "  File \"/home/spuser/.conda/envs/yanpan/lib/python3.11/site-packages/ultralytics/models/yolo/segment/predict.py\", line 52, in postprocess\n",
      "    masks = ops.process_mask(proto[i], pred[:, 6:], pred[:, :4], img.shape[2:], upsample=True)  # HWC\n",
      "            ^^^^^^^^^^^^^^^^^^^^^^^^^^^^^^^^^^^^^^^^^^^^^^^^^^^^^^^^^^^^^^^^^^^^^^^^^^^^^^^^^^\n",
      "  File \"/home/spuser/.conda/envs/yanpan/lib/python3.11/site-packages/ultralytics/utils/ops.py\", line 671, in process_mask\n",
      "    c, mh, mw = protos.shape  # CHW\n",
      "    ^^^^^^^^^\n",
      "ValueError: too many values to unpack (expected 3)\n",
      "Traceback (most recent call last):\n",
      "  File \"/tmp/ipykernel_2239786/1301476628.py\", line 65, in main\n",
      "    for result in results_generator:\n",
      "  File \"/home/spuser/.conda/envs/yanpan/lib/python3.11/site-packages/torch/utils/_contextlib.py\", line 36, in generator_context\n",
      "    response = gen.send(None)\n",
      "               ^^^^^^^^^^^^^^\n",
      "  File \"/home/spuser/.conda/envs/yanpan/lib/python3.11/site-packages/ultralytics/engine/predictor.py\", line 266, in stream_inference\n",
      "    self.results = self.postprocess(preds, im, im0s)\n",
      "                   ^^^^^^^^^^^^^^^^^^^^^^^^^^^^^^^^^\n",
      "  File \"/home/spuser/.conda/envs/yanpan/lib/python3.11/site-packages/ultralytics/models/yolo/segment/predict.py\", line 52, in postprocess\n",
      "    masks = ops.process_mask(proto[i], pred[:, 6:], pred[:, :4], img.shape[2:], upsample=True)  # HWC\n",
      "            ^^^^^^^^^^^^^^^^^^^^^^^^^^^^^^^^^^^^^^^^^^^^^^^^^^^^^^^^^^^^^^^^^^^^^^^^^^^^^^^^^^\n",
      "  File \"/home/spuser/.conda/envs/yanpan/lib/python3.11/site-packages/ultralytics/utils/ops.py\", line 671, in process_mask\n",
      "    c, mh, mw = protos.shape  # CHW\n",
      "    ^^^^^^^^^\n",
      "ValueError: too many values to unpack (expected 3)\n",
      "Traceback (most recent call last):\n",
      "  File \"/tmp/ipykernel_2239786/1301476628.py\", line 65, in main\n",
      "    for result in results_generator:\n",
      "  File \"/home/spuser/.conda/envs/yanpan/lib/python3.11/site-packages/torch/utils/_contextlib.py\", line 36, in generator_context\n",
      "    response = gen.send(None)\n",
      "               ^^^^^^^^^^^^^^\n",
      "  File \"/home/spuser/.conda/envs/yanpan/lib/python3.11/site-packages/ultralytics/engine/predictor.py\", line 266, in stream_inference\n",
      "    self.results = self.postprocess(preds, im, im0s)\n",
      "                   ^^^^^^^^^^^^^^^^^^^^^^^^^^^^^^^^^\n",
      "  File \"/home/spuser/.conda/envs/yanpan/lib/python3.11/site-packages/ultralytics/models/yolo/segment/predict.py\", line 52, in postprocess\n",
      "    masks = ops.process_mask(proto[i], pred[:, 6:], pred[:, :4], img.shape[2:], upsample=True)  # HWC\n",
      "            ^^^^^^^^^^^^^^^^^^^^^^^^^^^^^^^^^^^^^^^^^^^^^^^^^^^^^^^^^^^^^^^^^^^^^^^^^^^^^^^^^^\n",
      "  File \"/home/spuser/.conda/envs/yanpan/lib/python3.11/site-packages/ultralytics/utils/ops.py\", line 671, in process_mask\n",
      "    c, mh, mw = protos.shape  # CHW\n",
      "    ^^^^^^^^^\n",
      "ValueError: too many values to unpack (expected 3)\n",
      "Traceback (most recent call last):\n",
      "  File \"/tmp/ipykernel_2239786/1301476628.py\", line 65, in main\n",
      "    for result in results_generator:\n",
      "  File \"/home/spuser/.conda/envs/yanpan/lib/python3.11/site-packages/torch/utils/_contextlib.py\", line 36, in generator_context\n",
      "    response = gen.send(None)\n",
      "               ^^^^^^^^^^^^^^\n",
      "  File \"/home/spuser/.conda/envs/yanpan/lib/python3.11/site-packages/ultralytics/engine/predictor.py\", line 266, in stream_inference\n",
      "    self.results = self.postprocess(preds, im, im0s)\n",
      "                   ^^^^^^^^^^^^^^^^^^^^^^^^^^^^^^^^^\n",
      "  File \"/home/spuser/.conda/envs/yanpan/lib/python3.11/site-packages/ultralytics/models/yolo/segment/predict.py\", line 52, in postprocess\n",
      "    masks = ops.process_mask(proto[i], pred[:, 6:], pred[:, :4], img.shape[2:], upsample=True)  # HWC\n",
      "            ^^^^^^^^^^^^^^^^^^^^^^^^^^^^^^^^^^^^^^^^^^^^^^^^^^^^^^^^^^^^^^^^^^^^^^^^^^^^^^^^^^\n",
      "  File \"/home/spuser/.conda/envs/yanpan/lib/python3.11/site-packages/ultralytics/utils/ops.py\", line 671, in process_mask\n",
      "    c, mh, mw = protos.shape  # CHW\n",
      "    ^^^^^^^^^\n",
      "ValueError: too many values to unpack (expected 3)\n",
      "Traceback (most recent call last):\n",
      "  File \"/tmp/ipykernel_2239786/1301476628.py\", line 65, in main\n",
      "    for result in results_generator:\n",
      "  File \"/home/spuser/.conda/envs/yanpan/lib/python3.11/site-packages/torch/utils/_contextlib.py\", line 36, in generator_context\n",
      "    response = gen.send(None)\n",
      "               ^^^^^^^^^^^^^^\n",
      "  File \"/home/spuser/.conda/envs/yanpan/lib/python3.11/site-packages/ultralytics/engine/predictor.py\", line 266, in stream_inference\n",
      "    self.results = self.postprocess(preds, im, im0s)\n",
      "                   ^^^^^^^^^^^^^^^^^^^^^^^^^^^^^^^^^\n",
      "  File \"/home/spuser/.conda/envs/yanpan/lib/python3.11/site-packages/ultralytics/models/yolo/segment/predict.py\", line 52, in postprocess\n",
      "    masks = ops.process_mask(proto[i], pred[:, 6:], pred[:, :4], img.shape[2:], upsample=True)  # HWC\n",
      "            ^^^^^^^^^^^^^^^^^^^^^^^^^^^^^^^^^^^^^^^^^^^^^^^^^^^^^^^^^^^^^^^^^^^^^^^^^^^^^^^^^^\n",
      "  File \"/home/spuser/.conda/envs/yanpan/lib/python3.11/site-packages/ultralytics/utils/ops.py\", line 671, in process_mask\n",
      "    c, mh, mw = protos.shape  # CHW\n",
      "    ^^^^^^^^^\n",
      "ValueError: too many values to unpack (expected 3)\n",
      "Traceback (most recent call last):\n",
      "  File \"/tmp/ipykernel_2239786/1301476628.py\", line 65, in main\n",
      "    for result in results_generator:\n",
      "  File \"/home/spuser/.conda/envs/yanpan/lib/python3.11/site-packages/torch/utils/_contextlib.py\", line 36, in generator_context\n",
      "    response = gen.send(None)\n",
      "               ^^^^^^^^^^^^^^\n",
      "  File \"/home/spuser/.conda/envs/yanpan/lib/python3.11/site-packages/ultralytics/engine/predictor.py\", line 266, in stream_inference\n",
      "    self.results = self.postprocess(preds, im, im0s)\n",
      "                   ^^^^^^^^^^^^^^^^^^^^^^^^^^^^^^^^^\n",
      "  File \"/home/spuser/.conda/envs/yanpan/lib/python3.11/site-packages/ultralytics/models/yolo/segment/predict.py\", line 52, in postprocess\n",
      "    masks = ops.process_mask(proto[i], pred[:, 6:], pred[:, :4], img.shape[2:], upsample=True)  # HWC\n",
      "            ^^^^^^^^^^^^^^^^^^^^^^^^^^^^^^^^^^^^^^^^^^^^^^^^^^^^^^^^^^^^^^^^^^^^^^^^^^^^^^^^^^\n",
      "  File \"/home/spuser/.conda/envs/yanpan/lib/python3.11/site-packages/ultralytics/utils/ops.py\", line 671, in process_mask\n",
      "    c, mh, mw = protos.shape  # CHW\n",
      "    ^^^^^^^^^\n",
      "ValueError: too many values to unpack (expected 3)\n",
      "Traceback (most recent call last):\n",
      "  File \"/tmp/ipykernel_2239786/1301476628.py\", line 65, in main\n",
      "    for result in results_generator:\n",
      "  File \"/home/spuser/.conda/envs/yanpan/lib/python3.11/site-packages/torch/utils/_contextlib.py\", line 36, in generator_context\n",
      "    response = gen.send(None)\n",
      "               ^^^^^^^^^^^^^^\n",
      "  File \"/home/spuser/.conda/envs/yanpan/lib/python3.11/site-packages/ultralytics/engine/predictor.py\", line 266, in stream_inference\n",
      "    self.results = self.postprocess(preds, im, im0s)\n",
      "                   ^^^^^^^^^^^^^^^^^^^^^^^^^^^^^^^^^\n",
      "  File \"/home/spuser/.conda/envs/yanpan/lib/python3.11/site-packages/ultralytics/models/yolo/segment/predict.py\", line 52, in postprocess\n",
      "    masks = ops.process_mask(proto[i], pred[:, 6:], pred[:, :4], img.shape[2:], upsample=True)  # HWC\n",
      "            ^^^^^^^^^^^^^^^^^^^^^^^^^^^^^^^^^^^^^^^^^^^^^^^^^^^^^^^^^^^^^^^^^^^^^^^^^^^^^^^^^^\n",
      "  File \"/home/spuser/.conda/envs/yanpan/lib/python3.11/site-packages/ultralytics/utils/ops.py\", line 671, in process_mask\n",
      "    c, mh, mw = protos.shape  # CHW\n",
      "    ^^^^^^^^^\n",
      "ValueError: too many values to unpack (expected 3)\n"
     ]
    },
    {
     "name": "stdout",
     "output_type": "stream",
     "text": [
      "Error processing frame 204: too many values to unpack (expected 3)\n",
      "Frame shape: (640, 640, 3), dtype: uint8\n",
      "\n",
      "Error processing frame 205: too many values to unpack (expected 3)\n",
      "Frame shape: (640, 640, 3), dtype: uint8\n",
      "\n",
      "Error processing frame 206: too many values to unpack (expected 3)\n",
      "Frame shape: (640, 640, 3), dtype: uint8\n",
      "\n",
      "Error processing frame 207: too many values to unpack (expected 3)\n",
      "Frame shape: (640, 640, 3), dtype: uint8\n",
      "\n",
      "Error processing frame 208: too many values to unpack (expected 3)\n",
      "Frame shape: (640, 640, 3), dtype: uint8\n",
      "\n",
      "Error processing frame 209: too many values to unpack (expected 3)\n",
      "Frame shape: (640, 640, 3), dtype: uint8\n",
      "\n",
      "Error processing frame 210: too many values to unpack (expected 3)\n",
      "Frame shape: (640, 640, 3), dtype: uint8\n",
      "\n",
      "Error processing frame 211: too many values to unpack (expected 3)\n",
      "Frame shape: (640, 640, 3), dtype: uint8\n",
      "\n",
      "Error processing frame 212: too many values to unpack (expected 3)\n",
      "Frame shape: (640, 640, 3), dtype: uint8\n",
      "\n",
      "Error processing frame 213: too many values to unpack (expected 3)\n",
      "Frame shape: (640, 640, 3), dtype: uint8\n",
      "\n",
      "Error processing frame 214: too many values to unpack (expected 3)\n",
      "Frame shape: (640, 640, 3), dtype: uint8\n",
      "\n",
      "Error processing frame 215: too many values to unpack (expected 3)\n",
      "Frame shape: (640, 640, 3), dtype: uint8\n",
      "\n",
      "Error processing frame 216: too many values to unpack (expected 3)\n",
      "Frame shape: (640, 640, 3), dtype: uint8\n",
      "\n"
     ]
    },
    {
     "name": "stderr",
     "output_type": "stream",
     "text": [
      "Traceback (most recent call last):\n",
      "  File \"/tmp/ipykernel_2239786/1301476628.py\", line 65, in main\n",
      "    for result in results_generator:\n",
      "  File \"/home/spuser/.conda/envs/yanpan/lib/python3.11/site-packages/torch/utils/_contextlib.py\", line 36, in generator_context\n",
      "    response = gen.send(None)\n",
      "               ^^^^^^^^^^^^^^\n",
      "  File \"/home/spuser/.conda/envs/yanpan/lib/python3.11/site-packages/ultralytics/engine/predictor.py\", line 266, in stream_inference\n",
      "    self.results = self.postprocess(preds, im, im0s)\n",
      "                   ^^^^^^^^^^^^^^^^^^^^^^^^^^^^^^^^^\n",
      "  File \"/home/spuser/.conda/envs/yanpan/lib/python3.11/site-packages/ultralytics/models/yolo/segment/predict.py\", line 52, in postprocess\n",
      "    masks = ops.process_mask(proto[i], pred[:, 6:], pred[:, :4], img.shape[2:], upsample=True)  # HWC\n",
      "            ^^^^^^^^^^^^^^^^^^^^^^^^^^^^^^^^^^^^^^^^^^^^^^^^^^^^^^^^^^^^^^^^^^^^^^^^^^^^^^^^^^\n",
      "  File \"/home/spuser/.conda/envs/yanpan/lib/python3.11/site-packages/ultralytics/utils/ops.py\", line 671, in process_mask\n",
      "    c, mh, mw = protos.shape  # CHW\n",
      "    ^^^^^^^^^\n",
      "ValueError: too many values to unpack (expected 3)\n",
      "Traceback (most recent call last):\n",
      "  File \"/tmp/ipykernel_2239786/1301476628.py\", line 65, in main\n",
      "    for result in results_generator:\n",
      "  File \"/home/spuser/.conda/envs/yanpan/lib/python3.11/site-packages/torch/utils/_contextlib.py\", line 36, in generator_context\n",
      "    response = gen.send(None)\n",
      "               ^^^^^^^^^^^^^^\n",
      "  File \"/home/spuser/.conda/envs/yanpan/lib/python3.11/site-packages/ultralytics/engine/predictor.py\", line 266, in stream_inference\n",
      "    self.results = self.postprocess(preds, im, im0s)\n",
      "                   ^^^^^^^^^^^^^^^^^^^^^^^^^^^^^^^^^\n",
      "  File \"/home/spuser/.conda/envs/yanpan/lib/python3.11/site-packages/ultralytics/models/yolo/segment/predict.py\", line 52, in postprocess\n",
      "    masks = ops.process_mask(proto[i], pred[:, 6:], pred[:, :4], img.shape[2:], upsample=True)  # HWC\n",
      "            ^^^^^^^^^^^^^^^^^^^^^^^^^^^^^^^^^^^^^^^^^^^^^^^^^^^^^^^^^^^^^^^^^^^^^^^^^^^^^^^^^^\n",
      "  File \"/home/spuser/.conda/envs/yanpan/lib/python3.11/site-packages/ultralytics/utils/ops.py\", line 671, in process_mask\n",
      "    c, mh, mw = protos.shape  # CHW\n",
      "    ^^^^^^^^^\n",
      "ValueError: too many values to unpack (expected 3)\n",
      "Traceback (most recent call last):\n",
      "  File \"/tmp/ipykernel_2239786/1301476628.py\", line 65, in main\n",
      "    for result in results_generator:\n",
      "  File \"/home/spuser/.conda/envs/yanpan/lib/python3.11/site-packages/torch/utils/_contextlib.py\", line 36, in generator_context\n",
      "    response = gen.send(None)\n",
      "               ^^^^^^^^^^^^^^\n",
      "  File \"/home/spuser/.conda/envs/yanpan/lib/python3.11/site-packages/ultralytics/engine/predictor.py\", line 266, in stream_inference\n",
      "    self.results = self.postprocess(preds, im, im0s)\n",
      "                   ^^^^^^^^^^^^^^^^^^^^^^^^^^^^^^^^^\n",
      "  File \"/home/spuser/.conda/envs/yanpan/lib/python3.11/site-packages/ultralytics/models/yolo/segment/predict.py\", line 52, in postprocess\n",
      "    masks = ops.process_mask(proto[i], pred[:, 6:], pred[:, :4], img.shape[2:], upsample=True)  # HWC\n",
      "            ^^^^^^^^^^^^^^^^^^^^^^^^^^^^^^^^^^^^^^^^^^^^^^^^^^^^^^^^^^^^^^^^^^^^^^^^^^^^^^^^^^\n",
      "  File \"/home/spuser/.conda/envs/yanpan/lib/python3.11/site-packages/ultralytics/utils/ops.py\", line 671, in process_mask\n",
      "    c, mh, mw = protos.shape  # CHW\n",
      "    ^^^^^^^^^\n",
      "ValueError: too many values to unpack (expected 3)\n",
      "Traceback (most recent call last):\n",
      "  File \"/tmp/ipykernel_2239786/1301476628.py\", line 65, in main\n",
      "    for result in results_generator:\n",
      "  File \"/home/spuser/.conda/envs/yanpan/lib/python3.11/site-packages/torch/utils/_contextlib.py\", line 36, in generator_context\n",
      "    response = gen.send(None)\n",
      "               ^^^^^^^^^^^^^^\n",
      "  File \"/home/spuser/.conda/envs/yanpan/lib/python3.11/site-packages/ultralytics/engine/predictor.py\", line 266, in stream_inference\n",
      "    self.results = self.postprocess(preds, im, im0s)\n",
      "                   ^^^^^^^^^^^^^^^^^^^^^^^^^^^^^^^^^\n",
      "  File \"/home/spuser/.conda/envs/yanpan/lib/python3.11/site-packages/ultralytics/models/yolo/segment/predict.py\", line 52, in postprocess\n",
      "    masks = ops.process_mask(proto[i], pred[:, 6:], pred[:, :4], img.shape[2:], upsample=True)  # HWC\n",
      "            ^^^^^^^^^^^^^^^^^^^^^^^^^^^^^^^^^^^^^^^^^^^^^^^^^^^^^^^^^^^^^^^^^^^^^^^^^^^^^^^^^^\n",
      "  File \"/home/spuser/.conda/envs/yanpan/lib/python3.11/site-packages/ultralytics/utils/ops.py\", line 671, in process_mask\n",
      "    c, mh, mw = protos.shape  # CHW\n",
      "    ^^^^^^^^^\n",
      "ValueError: too many values to unpack (expected 3)\n",
      "Traceback (most recent call last):\n",
      "  File \"/tmp/ipykernel_2239786/1301476628.py\", line 65, in main\n",
      "    for result in results_generator:\n",
      "  File \"/home/spuser/.conda/envs/yanpan/lib/python3.11/site-packages/torch/utils/_contextlib.py\", line 36, in generator_context\n",
      "    response = gen.send(None)\n",
      "               ^^^^^^^^^^^^^^\n",
      "  File \"/home/spuser/.conda/envs/yanpan/lib/python3.11/site-packages/ultralytics/engine/predictor.py\", line 266, in stream_inference\n",
      "    self.results = self.postprocess(preds, im, im0s)\n",
      "                   ^^^^^^^^^^^^^^^^^^^^^^^^^^^^^^^^^\n",
      "  File \"/home/spuser/.conda/envs/yanpan/lib/python3.11/site-packages/ultralytics/models/yolo/segment/predict.py\", line 52, in postprocess\n",
      "    masks = ops.process_mask(proto[i], pred[:, 6:], pred[:, :4], img.shape[2:], upsample=True)  # HWC\n",
      "            ^^^^^^^^^^^^^^^^^^^^^^^^^^^^^^^^^^^^^^^^^^^^^^^^^^^^^^^^^^^^^^^^^^^^^^^^^^^^^^^^^^\n",
      "  File \"/home/spuser/.conda/envs/yanpan/lib/python3.11/site-packages/ultralytics/utils/ops.py\", line 671, in process_mask\n",
      "    c, mh, mw = protos.shape  # CHW\n",
      "    ^^^^^^^^^\n",
      "ValueError: too many values to unpack (expected 3)\n",
      "Traceback (most recent call last):\n",
      "  File \"/tmp/ipykernel_2239786/1301476628.py\", line 65, in main\n",
      "    for result in results_generator:\n",
      "  File \"/home/spuser/.conda/envs/yanpan/lib/python3.11/site-packages/torch/utils/_contextlib.py\", line 36, in generator_context\n",
      "    response = gen.send(None)\n",
      "               ^^^^^^^^^^^^^^\n",
      "  File \"/home/spuser/.conda/envs/yanpan/lib/python3.11/site-packages/ultralytics/engine/predictor.py\", line 266, in stream_inference\n",
      "    self.results = self.postprocess(preds, im, im0s)\n",
      "                   ^^^^^^^^^^^^^^^^^^^^^^^^^^^^^^^^^\n",
      "  File \"/home/spuser/.conda/envs/yanpan/lib/python3.11/site-packages/ultralytics/models/yolo/segment/predict.py\", line 52, in postprocess\n",
      "    masks = ops.process_mask(proto[i], pred[:, 6:], pred[:, :4], img.shape[2:], upsample=True)  # HWC\n",
      "            ^^^^^^^^^^^^^^^^^^^^^^^^^^^^^^^^^^^^^^^^^^^^^^^^^^^^^^^^^^^^^^^^^^^^^^^^^^^^^^^^^^\n",
      "  File \"/home/spuser/.conda/envs/yanpan/lib/python3.11/site-packages/ultralytics/utils/ops.py\", line 671, in process_mask\n",
      "    c, mh, mw = protos.shape  # CHW\n",
      "    ^^^^^^^^^\n",
      "ValueError: too many values to unpack (expected 3)\n",
      "Traceback (most recent call last):\n",
      "  File \"/tmp/ipykernel_2239786/1301476628.py\", line 65, in main\n",
      "    for result in results_generator:\n",
      "  File \"/home/spuser/.conda/envs/yanpan/lib/python3.11/site-packages/torch/utils/_contextlib.py\", line 36, in generator_context\n",
      "    response = gen.send(None)\n",
      "               ^^^^^^^^^^^^^^\n",
      "  File \"/home/spuser/.conda/envs/yanpan/lib/python3.11/site-packages/ultralytics/engine/predictor.py\", line 266, in stream_inference\n",
      "    self.results = self.postprocess(preds, im, im0s)\n",
      "                   ^^^^^^^^^^^^^^^^^^^^^^^^^^^^^^^^^\n",
      "  File \"/home/spuser/.conda/envs/yanpan/lib/python3.11/site-packages/ultralytics/models/yolo/segment/predict.py\", line 52, in postprocess\n",
      "    masks = ops.process_mask(proto[i], pred[:, 6:], pred[:, :4], img.shape[2:], upsample=True)  # HWC\n",
      "            ^^^^^^^^^^^^^^^^^^^^^^^^^^^^^^^^^^^^^^^^^^^^^^^^^^^^^^^^^^^^^^^^^^^^^^^^^^^^^^^^^^\n",
      "  File \"/home/spuser/.conda/envs/yanpan/lib/python3.11/site-packages/ultralytics/utils/ops.py\", line 671, in process_mask\n",
      "    c, mh, mw = protos.shape  # CHW\n",
      "    ^^^^^^^^^\n",
      "ValueError: too many values to unpack (expected 3)\n",
      "Traceback (most recent call last):\n",
      "  File \"/tmp/ipykernel_2239786/1301476628.py\", line 65, in main\n",
      "    for result in results_generator:\n",
      "  File \"/home/spuser/.conda/envs/yanpan/lib/python3.11/site-packages/torch/utils/_contextlib.py\", line 36, in generator_context\n",
      "    response = gen.send(None)\n",
      "               ^^^^^^^^^^^^^^\n",
      "  File \"/home/spuser/.conda/envs/yanpan/lib/python3.11/site-packages/ultralytics/engine/predictor.py\", line 266, in stream_inference\n",
      "    self.results = self.postprocess(preds, im, im0s)\n",
      "                   ^^^^^^^^^^^^^^^^^^^^^^^^^^^^^^^^^\n",
      "  File \"/home/spuser/.conda/envs/yanpan/lib/python3.11/site-packages/ultralytics/models/yolo/segment/predict.py\", line 52, in postprocess\n",
      "    masks = ops.process_mask(proto[i], pred[:, 6:], pred[:, :4], img.shape[2:], upsample=True)  # HWC\n",
      "            ^^^^^^^^^^^^^^^^^^^^^^^^^^^^^^^^^^^^^^^^^^^^^^^^^^^^^^^^^^^^^^^^^^^^^^^^^^^^^^^^^^\n",
      "  File \"/home/spuser/.conda/envs/yanpan/lib/python3.11/site-packages/ultralytics/utils/ops.py\", line 671, in process_mask\n",
      "    c, mh, mw = protos.shape  # CHW\n",
      "    ^^^^^^^^^\n",
      "ValueError: too many values to unpack (expected 3)\n",
      "Traceback (most recent call last):\n",
      "  File \"/tmp/ipykernel_2239786/1301476628.py\", line 65, in main\n",
      "    for result in results_generator:\n",
      "  File \"/home/spuser/.conda/envs/yanpan/lib/python3.11/site-packages/torch/utils/_contextlib.py\", line 36, in generator_context\n",
      "    response = gen.send(None)\n",
      "               ^^^^^^^^^^^^^^\n",
      "  File \"/home/spuser/.conda/envs/yanpan/lib/python3.11/site-packages/ultralytics/engine/predictor.py\", line 266, in stream_inference\n",
      "    self.results = self.postprocess(preds, im, im0s)\n",
      "                   ^^^^^^^^^^^^^^^^^^^^^^^^^^^^^^^^^\n",
      "  File \"/home/spuser/.conda/envs/yanpan/lib/python3.11/site-packages/ultralytics/models/yolo/segment/predict.py\", line 52, in postprocess\n",
      "    masks = ops.process_mask(proto[i], pred[:, 6:], pred[:, :4], img.shape[2:], upsample=True)  # HWC\n",
      "            ^^^^^^^^^^^^^^^^^^^^^^^^^^^^^^^^^^^^^^^^^^^^^^^^^^^^^^^^^^^^^^^^^^^^^^^^^^^^^^^^^^\n",
      "  File \"/home/spuser/.conda/envs/yanpan/lib/python3.11/site-packages/ultralytics/utils/ops.py\", line 671, in process_mask\n",
      "    c, mh, mw = protos.shape  # CHW\n",
      "    ^^^^^^^^^\n",
      "ValueError: too many values to unpack (expected 3)\n",
      "Traceback (most recent call last):\n",
      "  File \"/tmp/ipykernel_2239786/1301476628.py\", line 65, in main\n",
      "    for result in results_generator:\n",
      "  File \"/home/spuser/.conda/envs/yanpan/lib/python3.11/site-packages/torch/utils/_contextlib.py\", line 36, in generator_context\n",
      "    response = gen.send(None)\n",
      "               ^^^^^^^^^^^^^^\n",
      "  File \"/home/spuser/.conda/envs/yanpan/lib/python3.11/site-packages/ultralytics/engine/predictor.py\", line 266, in stream_inference\n",
      "    self.results = self.postprocess(preds, im, im0s)\n",
      "                   ^^^^^^^^^^^^^^^^^^^^^^^^^^^^^^^^^\n",
      "  File \"/home/spuser/.conda/envs/yanpan/lib/python3.11/site-packages/ultralytics/models/yolo/segment/predict.py\", line 52, in postprocess\n",
      "    masks = ops.process_mask(proto[i], pred[:, 6:], pred[:, :4], img.shape[2:], upsample=True)  # HWC\n",
      "            ^^^^^^^^^^^^^^^^^^^^^^^^^^^^^^^^^^^^^^^^^^^^^^^^^^^^^^^^^^^^^^^^^^^^^^^^^^^^^^^^^^\n",
      "  File \"/home/spuser/.conda/envs/yanpan/lib/python3.11/site-packages/ultralytics/utils/ops.py\", line 671, in process_mask\n",
      "    c, mh, mw = protos.shape  # CHW\n",
      "    ^^^^^^^^^\n",
      "ValueError: too many values to unpack (expected 3)\n",
      "Traceback (most recent call last):\n",
      "  File \"/tmp/ipykernel_2239786/1301476628.py\", line 65, in main\n",
      "    for result in results_generator:\n",
      "  File \"/home/spuser/.conda/envs/yanpan/lib/python3.11/site-packages/torch/utils/_contextlib.py\", line 36, in generator_context\n",
      "    response = gen.send(None)\n",
      "               ^^^^^^^^^^^^^^\n",
      "  File \"/home/spuser/.conda/envs/yanpan/lib/python3.11/site-packages/ultralytics/engine/predictor.py\", line 266, in stream_inference\n",
      "    self.results = self.postprocess(preds, im, im0s)\n",
      "                   ^^^^^^^^^^^^^^^^^^^^^^^^^^^^^^^^^\n",
      "  File \"/home/spuser/.conda/envs/yanpan/lib/python3.11/site-packages/ultralytics/models/yolo/segment/predict.py\", line 52, in postprocess\n",
      "    masks = ops.process_mask(proto[i], pred[:, 6:], pred[:, :4], img.shape[2:], upsample=True)  # HWC\n",
      "            ^^^^^^^^^^^^^^^^^^^^^^^^^^^^^^^^^^^^^^^^^^^^^^^^^^^^^^^^^^^^^^^^^^^^^^^^^^^^^^^^^^\n",
      "  File \"/home/spuser/.conda/envs/yanpan/lib/python3.11/site-packages/ultralytics/utils/ops.py\", line 671, in process_mask\n",
      "    c, mh, mw = protos.shape  # CHW\n",
      "    ^^^^^^^^^\n",
      "ValueError: too many values to unpack (expected 3)\n",
      "Traceback (most recent call last):\n",
      "  File \"/tmp/ipykernel_2239786/1301476628.py\", line 65, in main\n",
      "    for result in results_generator:\n",
      "  File \"/home/spuser/.conda/envs/yanpan/lib/python3.11/site-packages/torch/utils/_contextlib.py\", line 36, in generator_context\n",
      "    response = gen.send(None)\n",
      "               ^^^^^^^^^^^^^^\n",
      "  File \"/home/spuser/.conda/envs/yanpan/lib/python3.11/site-packages/ultralytics/engine/predictor.py\", line 266, in stream_inference\n",
      "    self.results = self.postprocess(preds, im, im0s)\n",
      "                   ^^^^^^^^^^^^^^^^^^^^^^^^^^^^^^^^^\n",
      "  File \"/home/spuser/.conda/envs/yanpan/lib/python3.11/site-packages/ultralytics/models/yolo/segment/predict.py\", line 52, in postprocess\n",
      "    masks = ops.process_mask(proto[i], pred[:, 6:], pred[:, :4], img.shape[2:], upsample=True)  # HWC\n",
      "            ^^^^^^^^^^^^^^^^^^^^^^^^^^^^^^^^^^^^^^^^^^^^^^^^^^^^^^^^^^^^^^^^^^^^^^^^^^^^^^^^^^\n",
      "  File \"/home/spuser/.conda/envs/yanpan/lib/python3.11/site-packages/ultralytics/utils/ops.py\", line 671, in process_mask\n",
      "    c, mh, mw = protos.shape  # CHW\n",
      "    ^^^^^^^^^\n",
      "ValueError: too many values to unpack (expected 3)\n",
      "Traceback (most recent call last):\n",
      "  File \"/tmp/ipykernel_2239786/1301476628.py\", line 65, in main\n",
      "    for result in results_generator:\n",
      "  File \"/home/spuser/.conda/envs/yanpan/lib/python3.11/site-packages/torch/utils/_contextlib.py\", line 36, in generator_context\n",
      "    response = gen.send(None)\n",
      "               ^^^^^^^^^^^^^^\n",
      "  File \"/home/spuser/.conda/envs/yanpan/lib/python3.11/site-packages/ultralytics/engine/predictor.py\", line 266, in stream_inference\n",
      "    self.results = self.postprocess(preds, im, im0s)\n",
      "                   ^^^^^^^^^^^^^^^^^^^^^^^^^^^^^^^^^\n",
      "  File \"/home/spuser/.conda/envs/yanpan/lib/python3.11/site-packages/ultralytics/models/yolo/segment/predict.py\", line 52, in postprocess\n",
      "    masks = ops.process_mask(proto[i], pred[:, 6:], pred[:, :4], img.shape[2:], upsample=True)  # HWC\n",
      "            ^^^^^^^^^^^^^^^^^^^^^^^^^^^^^^^^^^^^^^^^^^^^^^^^^^^^^^^^^^^^^^^^^^^^^^^^^^^^^^^^^^\n",
      "  File \"/home/spuser/.conda/envs/yanpan/lib/python3.11/site-packages/ultralytics/utils/ops.py\", line 671, in process_mask\n",
      "    c, mh, mw = protos.shape  # CHW\n",
      "    ^^^^^^^^^\n",
      "ValueError: too many values to unpack (expected 3)\n"
     ]
    },
    {
     "name": "stdout",
     "output_type": "stream",
     "text": [
      "Error processing frame 217: too many values to unpack (expected 3)\n",
      "Frame shape: (640, 640, 3), dtype: uint8\n",
      "\n",
      "Error processing frame 218: too many values to unpack (expected 3)\n",
      "Frame shape: (640, 640, 3), dtype: uint8\n",
      "\n",
      "Error processing frame 219: too many values to unpack (expected 3)\n",
      "Frame shape: (640, 640, 3), dtype: uint8\n",
      "\n",
      "Error processing frame 220: too many values to unpack (expected 3)\n",
      "Frame shape: (640, 640, 3), dtype: uint8\n",
      "\n",
      "Error processing frame 221: too many values to unpack (expected 3)\n",
      "Frame shape: (640, 640, 3), dtype: uint8\n",
      "\n",
      "Error processing frame 222: too many values to unpack (expected 3)\n",
      "Frame shape: (640, 640, 3), dtype: uint8\n",
      "\n",
      "Error processing frame 223: too many values to unpack (expected 3)\n",
      "Frame shape: (640, 640, 3), dtype: uint8\n",
      "\n",
      "Error processing frame 224: too many values to unpack (expected 3)\n",
      "Frame shape: (640, 640, 3), dtype: uint8\n",
      "\n",
      "Error processing frame 225: too many values to unpack (expected 3)\n",
      "Frame shape: (640, 640, 3), dtype: uint8\n",
      "\n",
      "Error processing frame 226: too many values to unpack (expected 3)\n",
      "Frame shape: (640, 640, 3), dtype: uint8\n",
      "\n",
      "Error processing frame 227: too many values to unpack (expected 3)\n",
      "Frame shape: (640, 640, 3), dtype: uint8\n",
      "\n",
      "Error processing frame 228: too many values to unpack (expected 3)\n",
      "Frame shape: (640, 640, 3), dtype: uint8\n",
      "\n"
     ]
    },
    {
     "name": "stderr",
     "output_type": "stream",
     "text": [
      "Traceback (most recent call last):\n",
      "  File \"/tmp/ipykernel_2239786/1301476628.py\", line 65, in main\n",
      "    for result in results_generator:\n",
      "  File \"/home/spuser/.conda/envs/yanpan/lib/python3.11/site-packages/torch/utils/_contextlib.py\", line 36, in generator_context\n",
      "    response = gen.send(None)\n",
      "               ^^^^^^^^^^^^^^\n",
      "  File \"/home/spuser/.conda/envs/yanpan/lib/python3.11/site-packages/ultralytics/engine/predictor.py\", line 266, in stream_inference\n",
      "    self.results = self.postprocess(preds, im, im0s)\n",
      "                   ^^^^^^^^^^^^^^^^^^^^^^^^^^^^^^^^^\n",
      "  File \"/home/spuser/.conda/envs/yanpan/lib/python3.11/site-packages/ultralytics/models/yolo/segment/predict.py\", line 52, in postprocess\n",
      "    masks = ops.process_mask(proto[i], pred[:, 6:], pred[:, :4], img.shape[2:], upsample=True)  # HWC\n",
      "            ^^^^^^^^^^^^^^^^^^^^^^^^^^^^^^^^^^^^^^^^^^^^^^^^^^^^^^^^^^^^^^^^^^^^^^^^^^^^^^^^^^\n",
      "  File \"/home/spuser/.conda/envs/yanpan/lib/python3.11/site-packages/ultralytics/utils/ops.py\", line 671, in process_mask\n",
      "    c, mh, mw = protos.shape  # CHW\n",
      "    ^^^^^^^^^\n",
      "ValueError: too many values to unpack (expected 3)\n",
      "Traceback (most recent call last):\n",
      "  File \"/tmp/ipykernel_2239786/1301476628.py\", line 65, in main\n",
      "    for result in results_generator:\n",
      "  File \"/home/spuser/.conda/envs/yanpan/lib/python3.11/site-packages/torch/utils/_contextlib.py\", line 36, in generator_context\n",
      "    response = gen.send(None)\n",
      "               ^^^^^^^^^^^^^^\n",
      "  File \"/home/spuser/.conda/envs/yanpan/lib/python3.11/site-packages/ultralytics/engine/predictor.py\", line 266, in stream_inference\n",
      "    self.results = self.postprocess(preds, im, im0s)\n",
      "                   ^^^^^^^^^^^^^^^^^^^^^^^^^^^^^^^^^\n",
      "  File \"/home/spuser/.conda/envs/yanpan/lib/python3.11/site-packages/ultralytics/models/yolo/segment/predict.py\", line 52, in postprocess\n",
      "    masks = ops.process_mask(proto[i], pred[:, 6:], pred[:, :4], img.shape[2:], upsample=True)  # HWC\n",
      "            ^^^^^^^^^^^^^^^^^^^^^^^^^^^^^^^^^^^^^^^^^^^^^^^^^^^^^^^^^^^^^^^^^^^^^^^^^^^^^^^^^^\n",
      "  File \"/home/spuser/.conda/envs/yanpan/lib/python3.11/site-packages/ultralytics/utils/ops.py\", line 671, in process_mask\n",
      "    c, mh, mw = protos.shape  # CHW\n",
      "    ^^^^^^^^^\n",
      "ValueError: too many values to unpack (expected 3)\n",
      "Traceback (most recent call last):\n",
      "  File \"/tmp/ipykernel_2239786/1301476628.py\", line 65, in main\n",
      "    for result in results_generator:\n",
      "  File \"/home/spuser/.conda/envs/yanpan/lib/python3.11/site-packages/torch/utils/_contextlib.py\", line 36, in generator_context\n",
      "    response = gen.send(None)\n",
      "               ^^^^^^^^^^^^^^\n",
      "  File \"/home/spuser/.conda/envs/yanpan/lib/python3.11/site-packages/ultralytics/engine/predictor.py\", line 266, in stream_inference\n",
      "    self.results = self.postprocess(preds, im, im0s)\n",
      "                   ^^^^^^^^^^^^^^^^^^^^^^^^^^^^^^^^^\n",
      "  File \"/home/spuser/.conda/envs/yanpan/lib/python3.11/site-packages/ultralytics/models/yolo/segment/predict.py\", line 52, in postprocess\n",
      "    masks = ops.process_mask(proto[i], pred[:, 6:], pred[:, :4], img.shape[2:], upsample=True)  # HWC\n",
      "            ^^^^^^^^^^^^^^^^^^^^^^^^^^^^^^^^^^^^^^^^^^^^^^^^^^^^^^^^^^^^^^^^^^^^^^^^^^^^^^^^^^\n",
      "  File \"/home/spuser/.conda/envs/yanpan/lib/python3.11/site-packages/ultralytics/utils/ops.py\", line 671, in process_mask\n",
      "    c, mh, mw = protos.shape  # CHW\n",
      "    ^^^^^^^^^\n",
      "ValueError: too many values to unpack (expected 3)\n",
      "Traceback (most recent call last):\n",
      "  File \"/tmp/ipykernel_2239786/1301476628.py\", line 65, in main\n",
      "    for result in results_generator:\n",
      "  File \"/home/spuser/.conda/envs/yanpan/lib/python3.11/site-packages/torch/utils/_contextlib.py\", line 36, in generator_context\n",
      "    response = gen.send(None)\n",
      "               ^^^^^^^^^^^^^^\n",
      "  File \"/home/spuser/.conda/envs/yanpan/lib/python3.11/site-packages/ultralytics/engine/predictor.py\", line 266, in stream_inference\n",
      "    self.results = self.postprocess(preds, im, im0s)\n",
      "                   ^^^^^^^^^^^^^^^^^^^^^^^^^^^^^^^^^\n",
      "  File \"/home/spuser/.conda/envs/yanpan/lib/python3.11/site-packages/ultralytics/models/yolo/segment/predict.py\", line 52, in postprocess\n",
      "    masks = ops.process_mask(proto[i], pred[:, 6:], pred[:, :4], img.shape[2:], upsample=True)  # HWC\n",
      "            ^^^^^^^^^^^^^^^^^^^^^^^^^^^^^^^^^^^^^^^^^^^^^^^^^^^^^^^^^^^^^^^^^^^^^^^^^^^^^^^^^^\n",
      "  File \"/home/spuser/.conda/envs/yanpan/lib/python3.11/site-packages/ultralytics/utils/ops.py\", line 671, in process_mask\n",
      "    c, mh, mw = protos.shape  # CHW\n",
      "    ^^^^^^^^^\n",
      "ValueError: too many values to unpack (expected 3)\n",
      "Traceback (most recent call last):\n",
      "  File \"/tmp/ipykernel_2239786/1301476628.py\", line 65, in main\n",
      "    for result in results_generator:\n",
      "  File \"/home/spuser/.conda/envs/yanpan/lib/python3.11/site-packages/torch/utils/_contextlib.py\", line 36, in generator_context\n",
      "    response = gen.send(None)\n",
      "               ^^^^^^^^^^^^^^\n",
      "  File \"/home/spuser/.conda/envs/yanpan/lib/python3.11/site-packages/ultralytics/engine/predictor.py\", line 266, in stream_inference\n",
      "    self.results = self.postprocess(preds, im, im0s)\n",
      "                   ^^^^^^^^^^^^^^^^^^^^^^^^^^^^^^^^^\n",
      "  File \"/home/spuser/.conda/envs/yanpan/lib/python3.11/site-packages/ultralytics/models/yolo/segment/predict.py\", line 52, in postprocess\n",
      "    masks = ops.process_mask(proto[i], pred[:, 6:], pred[:, :4], img.shape[2:], upsample=True)  # HWC\n",
      "            ^^^^^^^^^^^^^^^^^^^^^^^^^^^^^^^^^^^^^^^^^^^^^^^^^^^^^^^^^^^^^^^^^^^^^^^^^^^^^^^^^^\n",
      "  File \"/home/spuser/.conda/envs/yanpan/lib/python3.11/site-packages/ultralytics/utils/ops.py\", line 671, in process_mask\n",
      "    c, mh, mw = protos.shape  # CHW\n",
      "    ^^^^^^^^^\n",
      "ValueError: too many values to unpack (expected 3)\n",
      "Traceback (most recent call last):\n",
      "  File \"/tmp/ipykernel_2239786/1301476628.py\", line 65, in main\n",
      "    for result in results_generator:\n",
      "  File \"/home/spuser/.conda/envs/yanpan/lib/python3.11/site-packages/torch/utils/_contextlib.py\", line 36, in generator_context\n",
      "    response = gen.send(None)\n",
      "               ^^^^^^^^^^^^^^\n",
      "  File \"/home/spuser/.conda/envs/yanpan/lib/python3.11/site-packages/ultralytics/engine/predictor.py\", line 266, in stream_inference\n",
      "    self.results = self.postprocess(preds, im, im0s)\n",
      "                   ^^^^^^^^^^^^^^^^^^^^^^^^^^^^^^^^^\n",
      "  File \"/home/spuser/.conda/envs/yanpan/lib/python3.11/site-packages/ultralytics/models/yolo/segment/predict.py\", line 52, in postprocess\n",
      "    masks = ops.process_mask(proto[i], pred[:, 6:], pred[:, :4], img.shape[2:], upsample=True)  # HWC\n",
      "            ^^^^^^^^^^^^^^^^^^^^^^^^^^^^^^^^^^^^^^^^^^^^^^^^^^^^^^^^^^^^^^^^^^^^^^^^^^^^^^^^^^\n",
      "  File \"/home/spuser/.conda/envs/yanpan/lib/python3.11/site-packages/ultralytics/utils/ops.py\", line 671, in process_mask\n",
      "    c, mh, mw = protos.shape  # CHW\n",
      "    ^^^^^^^^^\n",
      "ValueError: too many values to unpack (expected 3)\n",
      "Traceback (most recent call last):\n",
      "  File \"/tmp/ipykernel_2239786/1301476628.py\", line 65, in main\n",
      "    for result in results_generator:\n",
      "  File \"/home/spuser/.conda/envs/yanpan/lib/python3.11/site-packages/torch/utils/_contextlib.py\", line 36, in generator_context\n",
      "    response = gen.send(None)\n",
      "               ^^^^^^^^^^^^^^\n",
      "  File \"/home/spuser/.conda/envs/yanpan/lib/python3.11/site-packages/ultralytics/engine/predictor.py\", line 266, in stream_inference\n",
      "    self.results = self.postprocess(preds, im, im0s)\n",
      "                   ^^^^^^^^^^^^^^^^^^^^^^^^^^^^^^^^^\n",
      "  File \"/home/spuser/.conda/envs/yanpan/lib/python3.11/site-packages/ultralytics/models/yolo/segment/predict.py\", line 52, in postprocess\n",
      "    masks = ops.process_mask(proto[i], pred[:, 6:], pred[:, :4], img.shape[2:], upsample=True)  # HWC\n",
      "            ^^^^^^^^^^^^^^^^^^^^^^^^^^^^^^^^^^^^^^^^^^^^^^^^^^^^^^^^^^^^^^^^^^^^^^^^^^^^^^^^^^\n",
      "  File \"/home/spuser/.conda/envs/yanpan/lib/python3.11/site-packages/ultralytics/utils/ops.py\", line 671, in process_mask\n",
      "    c, mh, mw = protos.shape  # CHW\n",
      "    ^^^^^^^^^\n",
      "ValueError: too many values to unpack (expected 3)\n",
      "Traceback (most recent call last):\n",
      "  File \"/tmp/ipykernel_2239786/1301476628.py\", line 65, in main\n",
      "    for result in results_generator:\n",
      "  File \"/home/spuser/.conda/envs/yanpan/lib/python3.11/site-packages/torch/utils/_contextlib.py\", line 36, in generator_context\n",
      "    response = gen.send(None)\n",
      "               ^^^^^^^^^^^^^^\n",
      "  File \"/home/spuser/.conda/envs/yanpan/lib/python3.11/site-packages/ultralytics/engine/predictor.py\", line 266, in stream_inference\n",
      "    self.results = self.postprocess(preds, im, im0s)\n",
      "                   ^^^^^^^^^^^^^^^^^^^^^^^^^^^^^^^^^\n",
      "  File \"/home/spuser/.conda/envs/yanpan/lib/python3.11/site-packages/ultralytics/models/yolo/segment/predict.py\", line 52, in postprocess\n",
      "    masks = ops.process_mask(proto[i], pred[:, 6:], pred[:, :4], img.shape[2:], upsample=True)  # HWC\n",
      "            ^^^^^^^^^^^^^^^^^^^^^^^^^^^^^^^^^^^^^^^^^^^^^^^^^^^^^^^^^^^^^^^^^^^^^^^^^^^^^^^^^^\n",
      "  File \"/home/spuser/.conda/envs/yanpan/lib/python3.11/site-packages/ultralytics/utils/ops.py\", line 671, in process_mask\n",
      "    c, mh, mw = protos.shape  # CHW\n",
      "    ^^^^^^^^^\n",
      "ValueError: too many values to unpack (expected 3)\n",
      "Traceback (most recent call last):\n",
      "  File \"/tmp/ipykernel_2239786/1301476628.py\", line 65, in main\n",
      "    for result in results_generator:\n",
      "  File \"/home/spuser/.conda/envs/yanpan/lib/python3.11/site-packages/torch/utils/_contextlib.py\", line 36, in generator_context\n",
      "    response = gen.send(None)\n",
      "               ^^^^^^^^^^^^^^\n",
      "  File \"/home/spuser/.conda/envs/yanpan/lib/python3.11/site-packages/ultralytics/engine/predictor.py\", line 266, in stream_inference\n",
      "    self.results = self.postprocess(preds, im, im0s)\n",
      "                   ^^^^^^^^^^^^^^^^^^^^^^^^^^^^^^^^^\n",
      "  File \"/home/spuser/.conda/envs/yanpan/lib/python3.11/site-packages/ultralytics/models/yolo/segment/predict.py\", line 52, in postprocess\n",
      "    masks = ops.process_mask(proto[i], pred[:, 6:], pred[:, :4], img.shape[2:], upsample=True)  # HWC\n",
      "            ^^^^^^^^^^^^^^^^^^^^^^^^^^^^^^^^^^^^^^^^^^^^^^^^^^^^^^^^^^^^^^^^^^^^^^^^^^^^^^^^^^\n",
      "  File \"/home/spuser/.conda/envs/yanpan/lib/python3.11/site-packages/ultralytics/utils/ops.py\", line 671, in process_mask\n",
      "    c, mh, mw = protos.shape  # CHW\n",
      "    ^^^^^^^^^\n",
      "ValueError: too many values to unpack (expected 3)\n",
      "Traceback (most recent call last):\n",
      "  File \"/tmp/ipykernel_2239786/1301476628.py\", line 65, in main\n",
      "    for result in results_generator:\n",
      "  File \"/home/spuser/.conda/envs/yanpan/lib/python3.11/site-packages/torch/utils/_contextlib.py\", line 36, in generator_context\n",
      "    response = gen.send(None)\n",
      "               ^^^^^^^^^^^^^^\n",
      "  File \"/home/spuser/.conda/envs/yanpan/lib/python3.11/site-packages/ultralytics/engine/predictor.py\", line 266, in stream_inference\n",
      "    self.results = self.postprocess(preds, im, im0s)\n",
      "                   ^^^^^^^^^^^^^^^^^^^^^^^^^^^^^^^^^\n",
      "  File \"/home/spuser/.conda/envs/yanpan/lib/python3.11/site-packages/ultralytics/models/yolo/segment/predict.py\", line 52, in postprocess\n",
      "    masks = ops.process_mask(proto[i], pred[:, 6:], pred[:, :4], img.shape[2:], upsample=True)  # HWC\n",
      "            ^^^^^^^^^^^^^^^^^^^^^^^^^^^^^^^^^^^^^^^^^^^^^^^^^^^^^^^^^^^^^^^^^^^^^^^^^^^^^^^^^^\n",
      "  File \"/home/spuser/.conda/envs/yanpan/lib/python3.11/site-packages/ultralytics/utils/ops.py\", line 671, in process_mask\n",
      "    c, mh, mw = protos.shape  # CHW\n",
      "    ^^^^^^^^^\n",
      "ValueError: too many values to unpack (expected 3)\n",
      "Traceback (most recent call last):\n",
      "  File \"/tmp/ipykernel_2239786/1301476628.py\", line 65, in main\n",
      "    for result in results_generator:\n",
      "  File \"/home/spuser/.conda/envs/yanpan/lib/python3.11/site-packages/torch/utils/_contextlib.py\", line 36, in generator_context\n",
      "    response = gen.send(None)\n",
      "               ^^^^^^^^^^^^^^\n",
      "  File \"/home/spuser/.conda/envs/yanpan/lib/python3.11/site-packages/ultralytics/engine/predictor.py\", line 266, in stream_inference\n",
      "    self.results = self.postprocess(preds, im, im0s)\n",
      "                   ^^^^^^^^^^^^^^^^^^^^^^^^^^^^^^^^^\n",
      "  File \"/home/spuser/.conda/envs/yanpan/lib/python3.11/site-packages/ultralytics/models/yolo/segment/predict.py\", line 52, in postprocess\n",
      "    masks = ops.process_mask(proto[i], pred[:, 6:], pred[:, :4], img.shape[2:], upsample=True)  # HWC\n",
      "            ^^^^^^^^^^^^^^^^^^^^^^^^^^^^^^^^^^^^^^^^^^^^^^^^^^^^^^^^^^^^^^^^^^^^^^^^^^^^^^^^^^\n",
      "  File \"/home/spuser/.conda/envs/yanpan/lib/python3.11/site-packages/ultralytics/utils/ops.py\", line 671, in process_mask\n",
      "    c, mh, mw = protos.shape  # CHW\n",
      "    ^^^^^^^^^\n",
      "ValueError: too many values to unpack (expected 3)\n",
      "Traceback (most recent call last):\n",
      "  File \"/tmp/ipykernel_2239786/1301476628.py\", line 65, in main\n",
      "    for result in results_generator:\n",
      "  File \"/home/spuser/.conda/envs/yanpan/lib/python3.11/site-packages/torch/utils/_contextlib.py\", line 36, in generator_context\n",
      "    response = gen.send(None)\n",
      "               ^^^^^^^^^^^^^^\n",
      "  File \"/home/spuser/.conda/envs/yanpan/lib/python3.11/site-packages/ultralytics/engine/predictor.py\", line 266, in stream_inference\n",
      "    self.results = self.postprocess(preds, im, im0s)\n",
      "                   ^^^^^^^^^^^^^^^^^^^^^^^^^^^^^^^^^\n",
      "  File \"/home/spuser/.conda/envs/yanpan/lib/python3.11/site-packages/ultralytics/models/yolo/segment/predict.py\", line 52, in postprocess\n",
      "    masks = ops.process_mask(proto[i], pred[:, 6:], pred[:, :4], img.shape[2:], upsample=True)  # HWC\n",
      "            ^^^^^^^^^^^^^^^^^^^^^^^^^^^^^^^^^^^^^^^^^^^^^^^^^^^^^^^^^^^^^^^^^^^^^^^^^^^^^^^^^^\n",
      "  File \"/home/spuser/.conda/envs/yanpan/lib/python3.11/site-packages/ultralytics/utils/ops.py\", line 671, in process_mask\n",
      "    c, mh, mw = protos.shape  # CHW\n",
      "    ^^^^^^^^^\n",
      "ValueError: too many values to unpack (expected 3)\n"
     ]
    },
    {
     "name": "stdout",
     "output_type": "stream",
     "text": [
      "Error processing frame 229: too many values to unpack (expected 3)\n",
      "Frame shape: (640, 640, 3), dtype: uint8\n",
      "\n",
      "Error processing frame 230: too many values to unpack (expected 3)\n",
      "Frame shape: (640, 640, 3), dtype: uint8\n",
      "\n",
      "Error processing frame 231: too many values to unpack (expected 3)\n",
      "Frame shape: (640, 640, 3), dtype: uint8\n",
      "\n",
      "Error processing frame 232: too many values to unpack (expected 3)\n",
      "Frame shape: (640, 640, 3), dtype: uint8\n",
      "\n",
      "Error processing frame 233: too many values to unpack (expected 3)\n",
      "Frame shape: (640, 640, 3), dtype: uint8\n",
      "\n",
      "Error processing frame 234: too many values to unpack (expected 3)\n",
      "Frame shape: (640, 640, 3), dtype: uint8\n",
      "\n",
      "Error processing frame 235: too many values to unpack (expected 3)\n",
      "Frame shape: (640, 640, 3), dtype: uint8\n",
      "\n",
      "Error processing frame 236: too many values to unpack (expected 3)\n",
      "Frame shape: (640, 640, 3), dtype: uint8\n",
      "\n",
      "Error processing frame 237: too many values to unpack (expected 3)\n",
      "Frame shape: (640, 640, 3), dtype: uint8\n",
      "\n",
      "Error processing frame 238: too many values to unpack (expected 3)\n",
      "Frame shape: (640, 640, 3), dtype: uint8\n",
      "\n",
      "Error processing frame 239: too many values to unpack (expected 3)\n",
      "Frame shape: (640, 640, 3), dtype: uint8\n",
      "\n",
      "Error processing frame 240: too many values to unpack (expected 3)\n",
      "Processing frame 241/293\r"
     ]
    },
    {
     "name": "stderr",
     "output_type": "stream",
     "text": [
      "Traceback (most recent call last):\n",
      "  File \"/tmp/ipykernel_2239786/1301476628.py\", line 65, in main\n",
      "    for result in results_generator:\n",
      "  File \"/home/spuser/.conda/envs/yanpan/lib/python3.11/site-packages/torch/utils/_contextlib.py\", line 36, in generator_context\n",
      "    response = gen.send(None)\n",
      "               ^^^^^^^^^^^^^^\n",
      "  File \"/home/spuser/.conda/envs/yanpan/lib/python3.11/site-packages/ultralytics/engine/predictor.py\", line 266, in stream_inference\n",
      "    self.results = self.postprocess(preds, im, im0s)\n",
      "                   ^^^^^^^^^^^^^^^^^^^^^^^^^^^^^^^^^\n",
      "  File \"/home/spuser/.conda/envs/yanpan/lib/python3.11/site-packages/ultralytics/models/yolo/segment/predict.py\", line 52, in postprocess\n",
      "    masks = ops.process_mask(proto[i], pred[:, 6:], pred[:, :4], img.shape[2:], upsample=True)  # HWC\n",
      "            ^^^^^^^^^^^^^^^^^^^^^^^^^^^^^^^^^^^^^^^^^^^^^^^^^^^^^^^^^^^^^^^^^^^^^^^^^^^^^^^^^^\n",
      "  File \"/home/spuser/.conda/envs/yanpan/lib/python3.11/site-packages/ultralytics/utils/ops.py\", line 671, in process_mask\n",
      "    c, mh, mw = protos.shape  # CHW\n",
      "    ^^^^^^^^^\n",
      "ValueError: too many values to unpack (expected 3)\n",
      "Traceback (most recent call last):\n",
      "  File \"/tmp/ipykernel_2239786/1301476628.py\", line 65, in main\n",
      "    for result in results_generator:\n",
      "  File \"/home/spuser/.conda/envs/yanpan/lib/python3.11/site-packages/torch/utils/_contextlib.py\", line 36, in generator_context\n",
      "    response = gen.send(None)\n",
      "               ^^^^^^^^^^^^^^\n",
      "  File \"/home/spuser/.conda/envs/yanpan/lib/python3.11/site-packages/ultralytics/engine/predictor.py\", line 266, in stream_inference\n",
      "    self.results = self.postprocess(preds, im, im0s)\n",
      "                   ^^^^^^^^^^^^^^^^^^^^^^^^^^^^^^^^^\n",
      "  File \"/home/spuser/.conda/envs/yanpan/lib/python3.11/site-packages/ultralytics/models/yolo/segment/predict.py\", line 52, in postprocess\n",
      "    masks = ops.process_mask(proto[i], pred[:, 6:], pred[:, :4], img.shape[2:], upsample=True)  # HWC\n",
      "            ^^^^^^^^^^^^^^^^^^^^^^^^^^^^^^^^^^^^^^^^^^^^^^^^^^^^^^^^^^^^^^^^^^^^^^^^^^^^^^^^^^\n",
      "  File \"/home/spuser/.conda/envs/yanpan/lib/python3.11/site-packages/ultralytics/utils/ops.py\", line 671, in process_mask\n",
      "    c, mh, mw = protos.shape  # CHW\n",
      "    ^^^^^^^^^\n",
      "ValueError: too many values to unpack (expected 3)\n",
      "Traceback (most recent call last):\n",
      "  File \"/tmp/ipykernel_2239786/1301476628.py\", line 65, in main\n",
      "    for result in results_generator:\n",
      "  File \"/home/spuser/.conda/envs/yanpan/lib/python3.11/site-packages/torch/utils/_contextlib.py\", line 36, in generator_context\n",
      "    response = gen.send(None)\n",
      "               ^^^^^^^^^^^^^^\n",
      "  File \"/home/spuser/.conda/envs/yanpan/lib/python3.11/site-packages/ultralytics/engine/predictor.py\", line 266, in stream_inference\n",
      "    self.results = self.postprocess(preds, im, im0s)\n",
      "                   ^^^^^^^^^^^^^^^^^^^^^^^^^^^^^^^^^\n",
      "  File \"/home/spuser/.conda/envs/yanpan/lib/python3.11/site-packages/ultralytics/models/yolo/segment/predict.py\", line 52, in postprocess\n",
      "    masks = ops.process_mask(proto[i], pred[:, 6:], pred[:, :4], img.shape[2:], upsample=True)  # HWC\n",
      "            ^^^^^^^^^^^^^^^^^^^^^^^^^^^^^^^^^^^^^^^^^^^^^^^^^^^^^^^^^^^^^^^^^^^^^^^^^^^^^^^^^^\n",
      "  File \"/home/spuser/.conda/envs/yanpan/lib/python3.11/site-packages/ultralytics/utils/ops.py\", line 671, in process_mask\n",
      "    c, mh, mw = protos.shape  # CHW\n",
      "    ^^^^^^^^^\n",
      "ValueError: too many values to unpack (expected 3)\n",
      "Traceback (most recent call last):\n",
      "  File \"/tmp/ipykernel_2239786/1301476628.py\", line 65, in main\n",
      "    for result in results_generator:\n",
      "  File \"/home/spuser/.conda/envs/yanpan/lib/python3.11/site-packages/torch/utils/_contextlib.py\", line 36, in generator_context\n",
      "    response = gen.send(None)\n",
      "               ^^^^^^^^^^^^^^\n",
      "  File \"/home/spuser/.conda/envs/yanpan/lib/python3.11/site-packages/ultralytics/engine/predictor.py\", line 266, in stream_inference\n",
      "    self.results = self.postprocess(preds, im, im0s)\n",
      "                   ^^^^^^^^^^^^^^^^^^^^^^^^^^^^^^^^^\n",
      "  File \"/home/spuser/.conda/envs/yanpan/lib/python3.11/site-packages/ultralytics/models/yolo/segment/predict.py\", line 52, in postprocess\n",
      "    masks = ops.process_mask(proto[i], pred[:, 6:], pred[:, :4], img.shape[2:], upsample=True)  # HWC\n",
      "            ^^^^^^^^^^^^^^^^^^^^^^^^^^^^^^^^^^^^^^^^^^^^^^^^^^^^^^^^^^^^^^^^^^^^^^^^^^^^^^^^^^\n",
      "  File \"/home/spuser/.conda/envs/yanpan/lib/python3.11/site-packages/ultralytics/utils/ops.py\", line 671, in process_mask\n",
      "    c, mh, mw = protos.shape  # CHW\n",
      "    ^^^^^^^^^\n",
      "ValueError: too many values to unpack (expected 3)\n",
      "Traceback (most recent call last):\n",
      "  File \"/tmp/ipykernel_2239786/1301476628.py\", line 65, in main\n",
      "    for result in results_generator:\n",
      "  File \"/home/spuser/.conda/envs/yanpan/lib/python3.11/site-packages/torch/utils/_contextlib.py\", line 36, in generator_context\n",
      "    response = gen.send(None)\n",
      "               ^^^^^^^^^^^^^^\n",
      "  File \"/home/spuser/.conda/envs/yanpan/lib/python3.11/site-packages/ultralytics/engine/predictor.py\", line 266, in stream_inference\n",
      "    self.results = self.postprocess(preds, im, im0s)\n",
      "                   ^^^^^^^^^^^^^^^^^^^^^^^^^^^^^^^^^\n",
      "  File \"/home/spuser/.conda/envs/yanpan/lib/python3.11/site-packages/ultralytics/models/yolo/segment/predict.py\", line 52, in postprocess\n",
      "    masks = ops.process_mask(proto[i], pred[:, 6:], pred[:, :4], img.shape[2:], upsample=True)  # HWC\n",
      "            ^^^^^^^^^^^^^^^^^^^^^^^^^^^^^^^^^^^^^^^^^^^^^^^^^^^^^^^^^^^^^^^^^^^^^^^^^^^^^^^^^^\n",
      "  File \"/home/spuser/.conda/envs/yanpan/lib/python3.11/site-packages/ultralytics/utils/ops.py\", line 671, in process_mask\n",
      "    c, mh, mw = protos.shape  # CHW\n",
      "    ^^^^^^^^^\n",
      "ValueError: too many values to unpack (expected 3)\n",
      "Traceback (most recent call last):\n",
      "  File \"/tmp/ipykernel_2239786/1301476628.py\", line 65, in main\n",
      "    for result in results_generator:\n",
      "  File \"/home/spuser/.conda/envs/yanpan/lib/python3.11/site-packages/torch/utils/_contextlib.py\", line 36, in generator_context\n",
      "    response = gen.send(None)\n",
      "               ^^^^^^^^^^^^^^\n",
      "  File \"/home/spuser/.conda/envs/yanpan/lib/python3.11/site-packages/ultralytics/engine/predictor.py\", line 266, in stream_inference\n",
      "    self.results = self.postprocess(preds, im, im0s)\n",
      "                   ^^^^^^^^^^^^^^^^^^^^^^^^^^^^^^^^^\n",
      "  File \"/home/spuser/.conda/envs/yanpan/lib/python3.11/site-packages/ultralytics/models/yolo/segment/predict.py\", line 52, in postprocess\n",
      "    masks = ops.process_mask(proto[i], pred[:, 6:], pred[:, :4], img.shape[2:], upsample=True)  # HWC\n",
      "            ^^^^^^^^^^^^^^^^^^^^^^^^^^^^^^^^^^^^^^^^^^^^^^^^^^^^^^^^^^^^^^^^^^^^^^^^^^^^^^^^^^\n",
      "  File \"/home/spuser/.conda/envs/yanpan/lib/python3.11/site-packages/ultralytics/utils/ops.py\", line 671, in process_mask\n",
      "    c, mh, mw = protos.shape  # CHW\n",
      "    ^^^^^^^^^\n",
      "ValueError: too many values to unpack (expected 3)\n",
      "Traceback (most recent call last):\n",
      "  File \"/tmp/ipykernel_2239786/1301476628.py\", line 65, in main\n",
      "    for result in results_generator:\n",
      "  File \"/home/spuser/.conda/envs/yanpan/lib/python3.11/site-packages/torch/utils/_contextlib.py\", line 36, in generator_context\n",
      "    response = gen.send(None)\n",
      "               ^^^^^^^^^^^^^^\n",
      "  File \"/home/spuser/.conda/envs/yanpan/lib/python3.11/site-packages/ultralytics/engine/predictor.py\", line 266, in stream_inference\n",
      "    self.results = self.postprocess(preds, im, im0s)\n",
      "                   ^^^^^^^^^^^^^^^^^^^^^^^^^^^^^^^^^\n",
      "  File \"/home/spuser/.conda/envs/yanpan/lib/python3.11/site-packages/ultralytics/models/yolo/segment/predict.py\", line 52, in postprocess\n",
      "    masks = ops.process_mask(proto[i], pred[:, 6:], pred[:, :4], img.shape[2:], upsample=True)  # HWC\n",
      "            ^^^^^^^^^^^^^^^^^^^^^^^^^^^^^^^^^^^^^^^^^^^^^^^^^^^^^^^^^^^^^^^^^^^^^^^^^^^^^^^^^^\n",
      "  File \"/home/spuser/.conda/envs/yanpan/lib/python3.11/site-packages/ultralytics/utils/ops.py\", line 671, in process_mask\n",
      "    c, mh, mw = protos.shape  # CHW\n",
      "    ^^^^^^^^^\n",
      "ValueError: too many values to unpack (expected 3)\n",
      "Traceback (most recent call last):\n",
      "  File \"/tmp/ipykernel_2239786/1301476628.py\", line 65, in main\n",
      "    for result in results_generator:\n",
      "  File \"/home/spuser/.conda/envs/yanpan/lib/python3.11/site-packages/torch/utils/_contextlib.py\", line 36, in generator_context\n",
      "    response = gen.send(None)\n",
      "               ^^^^^^^^^^^^^^\n",
      "  File \"/home/spuser/.conda/envs/yanpan/lib/python3.11/site-packages/ultralytics/engine/predictor.py\", line 266, in stream_inference\n",
      "    self.results = self.postprocess(preds, im, im0s)\n",
      "                   ^^^^^^^^^^^^^^^^^^^^^^^^^^^^^^^^^\n",
      "  File \"/home/spuser/.conda/envs/yanpan/lib/python3.11/site-packages/ultralytics/models/yolo/segment/predict.py\", line 52, in postprocess\n",
      "    masks = ops.process_mask(proto[i], pred[:, 6:], pred[:, :4], img.shape[2:], upsample=True)  # HWC\n",
      "            ^^^^^^^^^^^^^^^^^^^^^^^^^^^^^^^^^^^^^^^^^^^^^^^^^^^^^^^^^^^^^^^^^^^^^^^^^^^^^^^^^^\n",
      "  File \"/home/spuser/.conda/envs/yanpan/lib/python3.11/site-packages/ultralytics/utils/ops.py\", line 671, in process_mask\n",
      "    c, mh, mw = protos.shape  # CHW\n",
      "    ^^^^^^^^^\n",
      "ValueError: too many values to unpack (expected 3)\n",
      "Traceback (most recent call last):\n",
      "  File \"/tmp/ipykernel_2239786/1301476628.py\", line 65, in main\n",
      "    for result in results_generator:\n",
      "  File \"/home/spuser/.conda/envs/yanpan/lib/python3.11/site-packages/torch/utils/_contextlib.py\", line 36, in generator_context\n",
      "    response = gen.send(None)\n",
      "               ^^^^^^^^^^^^^^\n",
      "  File \"/home/spuser/.conda/envs/yanpan/lib/python3.11/site-packages/ultralytics/engine/predictor.py\", line 266, in stream_inference\n",
      "    self.results = self.postprocess(preds, im, im0s)\n",
      "                   ^^^^^^^^^^^^^^^^^^^^^^^^^^^^^^^^^\n",
      "  File \"/home/spuser/.conda/envs/yanpan/lib/python3.11/site-packages/ultralytics/models/yolo/segment/predict.py\", line 52, in postprocess\n",
      "    masks = ops.process_mask(proto[i], pred[:, 6:], pred[:, :4], img.shape[2:], upsample=True)  # HWC\n",
      "            ^^^^^^^^^^^^^^^^^^^^^^^^^^^^^^^^^^^^^^^^^^^^^^^^^^^^^^^^^^^^^^^^^^^^^^^^^^^^^^^^^^\n",
      "  File \"/home/spuser/.conda/envs/yanpan/lib/python3.11/site-packages/ultralytics/utils/ops.py\", line 671, in process_mask\n",
      "    c, mh, mw = protos.shape  # CHW\n",
      "    ^^^^^^^^^\n",
      "ValueError: too many values to unpack (expected 3)\n",
      "Traceback (most recent call last):\n",
      "  File \"/tmp/ipykernel_2239786/1301476628.py\", line 65, in main\n",
      "    for result in results_generator:\n",
      "  File \"/home/spuser/.conda/envs/yanpan/lib/python3.11/site-packages/torch/utils/_contextlib.py\", line 36, in generator_context\n",
      "    response = gen.send(None)\n",
      "               ^^^^^^^^^^^^^^\n",
      "  File \"/home/spuser/.conda/envs/yanpan/lib/python3.11/site-packages/ultralytics/engine/predictor.py\", line 266, in stream_inference\n",
      "    self.results = self.postprocess(preds, im, im0s)\n",
      "                   ^^^^^^^^^^^^^^^^^^^^^^^^^^^^^^^^^\n",
      "  File \"/home/spuser/.conda/envs/yanpan/lib/python3.11/site-packages/ultralytics/models/yolo/segment/predict.py\", line 52, in postprocess\n",
      "    masks = ops.process_mask(proto[i], pred[:, 6:], pred[:, :4], img.shape[2:], upsample=True)  # HWC\n",
      "            ^^^^^^^^^^^^^^^^^^^^^^^^^^^^^^^^^^^^^^^^^^^^^^^^^^^^^^^^^^^^^^^^^^^^^^^^^^^^^^^^^^\n",
      "  File \"/home/spuser/.conda/envs/yanpan/lib/python3.11/site-packages/ultralytics/utils/ops.py\", line 671, in process_mask\n",
      "    c, mh, mw = protos.shape  # CHW\n",
      "    ^^^^^^^^^\n",
      "ValueError: too many values to unpack (expected 3)\n",
      "Traceback (most recent call last):\n",
      "  File \"/tmp/ipykernel_2239786/1301476628.py\", line 65, in main\n",
      "    for result in results_generator:\n",
      "  File \"/home/spuser/.conda/envs/yanpan/lib/python3.11/site-packages/torch/utils/_contextlib.py\", line 36, in generator_context\n",
      "    response = gen.send(None)\n",
      "               ^^^^^^^^^^^^^^\n",
      "  File \"/home/spuser/.conda/envs/yanpan/lib/python3.11/site-packages/ultralytics/engine/predictor.py\", line 266, in stream_inference\n",
      "    self.results = self.postprocess(preds, im, im0s)\n",
      "                   ^^^^^^^^^^^^^^^^^^^^^^^^^^^^^^^^^\n",
      "  File \"/home/spuser/.conda/envs/yanpan/lib/python3.11/site-packages/ultralytics/models/yolo/segment/predict.py\", line 52, in postprocess\n",
      "    masks = ops.process_mask(proto[i], pred[:, 6:], pred[:, :4], img.shape[2:], upsample=True)  # HWC\n",
      "            ^^^^^^^^^^^^^^^^^^^^^^^^^^^^^^^^^^^^^^^^^^^^^^^^^^^^^^^^^^^^^^^^^^^^^^^^^^^^^^^^^^\n",
      "  File \"/home/spuser/.conda/envs/yanpan/lib/python3.11/site-packages/ultralytics/utils/ops.py\", line 671, in process_mask\n",
      "    c, mh, mw = protos.shape  # CHW\n",
      "    ^^^^^^^^^\n",
      "ValueError: too many values to unpack (expected 3)\n",
      "Traceback (most recent call last):\n",
      "  File \"/tmp/ipykernel_2239786/1301476628.py\", line 65, in main\n",
      "    for result in results_generator:\n",
      "  File \"/home/spuser/.conda/envs/yanpan/lib/python3.11/site-packages/torch/utils/_contextlib.py\", line 36, in generator_context\n",
      "    response = gen.send(None)\n",
      "               ^^^^^^^^^^^^^^\n",
      "  File \"/home/spuser/.conda/envs/yanpan/lib/python3.11/site-packages/ultralytics/engine/predictor.py\", line 266, in stream_inference\n",
      "    self.results = self.postprocess(preds, im, im0s)\n",
      "                   ^^^^^^^^^^^^^^^^^^^^^^^^^^^^^^^^^\n",
      "  File \"/home/spuser/.conda/envs/yanpan/lib/python3.11/site-packages/ultralytics/models/yolo/segment/predict.py\", line 52, in postprocess\n",
      "    masks = ops.process_mask(proto[i], pred[:, 6:], pred[:, :4], img.shape[2:], upsample=True)  # HWC\n",
      "            ^^^^^^^^^^^^^^^^^^^^^^^^^^^^^^^^^^^^^^^^^^^^^^^^^^^^^^^^^^^^^^^^^^^^^^^^^^^^^^^^^^\n",
      "  File \"/home/spuser/.conda/envs/yanpan/lib/python3.11/site-packages/ultralytics/utils/ops.py\", line 671, in process_mask\n",
      "    c, mh, mw = protos.shape  # CHW\n",
      "    ^^^^^^^^^\n",
      "ValueError: too many values to unpack (expected 3)\n"
     ]
    },
    {
     "name": "stdout",
     "output_type": "stream",
     "text": [
      "Frame shape: (640, 640, 3), dtype: uint8\n",
      "\n",
      "Error processing frame 241: too many values to unpack (expected 3)\n",
      "Frame shape: (640, 640, 3), dtype: uint8\n",
      "\n",
      "Error processing frame 242: too many values to unpack (expected 3)\n",
      "Frame shape: (640, 640, 3), dtype: uint8\n",
      "\n",
      "Error processing frame 243: too many values to unpack (expected 3)\n",
      "Frame shape: (640, 640, 3), dtype: uint8\n",
      "\n",
      "Error processing frame 244: too many values to unpack (expected 3)\n",
      "Frame shape: (640, 640, 3), dtype: uint8\n",
      "\n",
      "Error processing frame 245: too many values to unpack (expected 3)\n",
      "Frame shape: (640, 640, 3), dtype: uint8\n",
      "\n",
      "Error processing frame 246: too many values to unpack (expected 3)\n",
      "\n",
      "Processing complete, output images saved in: output_images\n"
     ]
    },
    {
     "name": "stderr",
     "output_type": "stream",
     "text": [
      "Traceback (most recent call last):\n",
      "  File \"/tmp/ipykernel_2239786/1301476628.py\", line 65, in main\n",
      "    for result in results_generator:\n",
      "  File \"/home/spuser/.conda/envs/yanpan/lib/python3.11/site-packages/torch/utils/_contextlib.py\", line 36, in generator_context\n",
      "    response = gen.send(None)\n",
      "               ^^^^^^^^^^^^^^\n",
      "  File \"/home/spuser/.conda/envs/yanpan/lib/python3.11/site-packages/ultralytics/engine/predictor.py\", line 266, in stream_inference\n",
      "    self.results = self.postprocess(preds, im, im0s)\n",
      "                   ^^^^^^^^^^^^^^^^^^^^^^^^^^^^^^^^^\n",
      "  File \"/home/spuser/.conda/envs/yanpan/lib/python3.11/site-packages/ultralytics/models/yolo/segment/predict.py\", line 52, in postprocess\n",
      "    masks = ops.process_mask(proto[i], pred[:, 6:], pred[:, :4], img.shape[2:], upsample=True)  # HWC\n",
      "            ^^^^^^^^^^^^^^^^^^^^^^^^^^^^^^^^^^^^^^^^^^^^^^^^^^^^^^^^^^^^^^^^^^^^^^^^^^^^^^^^^^\n",
      "  File \"/home/spuser/.conda/envs/yanpan/lib/python3.11/site-packages/ultralytics/utils/ops.py\", line 671, in process_mask\n",
      "    c, mh, mw = protos.shape  # CHW\n",
      "    ^^^^^^^^^\n",
      "ValueError: too many values to unpack (expected 3)\n",
      "Traceback (most recent call last):\n",
      "  File \"/tmp/ipykernel_2239786/1301476628.py\", line 65, in main\n",
      "    for result in results_generator:\n",
      "  File \"/home/spuser/.conda/envs/yanpan/lib/python3.11/site-packages/torch/utils/_contextlib.py\", line 36, in generator_context\n",
      "    response = gen.send(None)\n",
      "               ^^^^^^^^^^^^^^\n",
      "  File \"/home/spuser/.conda/envs/yanpan/lib/python3.11/site-packages/ultralytics/engine/predictor.py\", line 266, in stream_inference\n",
      "    self.results = self.postprocess(preds, im, im0s)\n",
      "                   ^^^^^^^^^^^^^^^^^^^^^^^^^^^^^^^^^\n",
      "  File \"/home/spuser/.conda/envs/yanpan/lib/python3.11/site-packages/ultralytics/models/yolo/segment/predict.py\", line 52, in postprocess\n",
      "    masks = ops.process_mask(proto[i], pred[:, 6:], pred[:, :4], img.shape[2:], upsample=True)  # HWC\n",
      "            ^^^^^^^^^^^^^^^^^^^^^^^^^^^^^^^^^^^^^^^^^^^^^^^^^^^^^^^^^^^^^^^^^^^^^^^^^^^^^^^^^^\n",
      "  File \"/home/spuser/.conda/envs/yanpan/lib/python3.11/site-packages/ultralytics/utils/ops.py\", line 671, in process_mask\n",
      "    c, mh, mw = protos.shape  # CHW\n",
      "    ^^^^^^^^^\n",
      "ValueError: too many values to unpack (expected 3)\n",
      "Traceback (most recent call last):\n",
      "  File \"/tmp/ipykernel_2239786/1301476628.py\", line 65, in main\n",
      "    for result in results_generator:\n",
      "  File \"/home/spuser/.conda/envs/yanpan/lib/python3.11/site-packages/torch/utils/_contextlib.py\", line 36, in generator_context\n",
      "    response = gen.send(None)\n",
      "               ^^^^^^^^^^^^^^\n",
      "  File \"/home/spuser/.conda/envs/yanpan/lib/python3.11/site-packages/ultralytics/engine/predictor.py\", line 266, in stream_inference\n",
      "    self.results = self.postprocess(preds, im, im0s)\n",
      "                   ^^^^^^^^^^^^^^^^^^^^^^^^^^^^^^^^^\n",
      "  File \"/home/spuser/.conda/envs/yanpan/lib/python3.11/site-packages/ultralytics/models/yolo/segment/predict.py\", line 52, in postprocess\n",
      "    masks = ops.process_mask(proto[i], pred[:, 6:], pred[:, :4], img.shape[2:], upsample=True)  # HWC\n",
      "            ^^^^^^^^^^^^^^^^^^^^^^^^^^^^^^^^^^^^^^^^^^^^^^^^^^^^^^^^^^^^^^^^^^^^^^^^^^^^^^^^^^\n",
      "  File \"/home/spuser/.conda/envs/yanpan/lib/python3.11/site-packages/ultralytics/utils/ops.py\", line 671, in process_mask\n",
      "    c, mh, mw = protos.shape  # CHW\n",
      "    ^^^^^^^^^\n",
      "ValueError: too many values to unpack (expected 3)\n",
      "Traceback (most recent call last):\n",
      "  File \"/tmp/ipykernel_2239786/1301476628.py\", line 65, in main\n",
      "    for result in results_generator:\n",
      "  File \"/home/spuser/.conda/envs/yanpan/lib/python3.11/site-packages/torch/utils/_contextlib.py\", line 36, in generator_context\n",
      "    response = gen.send(None)\n",
      "               ^^^^^^^^^^^^^^\n",
      "  File \"/home/spuser/.conda/envs/yanpan/lib/python3.11/site-packages/ultralytics/engine/predictor.py\", line 266, in stream_inference\n",
      "    self.results = self.postprocess(preds, im, im0s)\n",
      "                   ^^^^^^^^^^^^^^^^^^^^^^^^^^^^^^^^^\n",
      "  File \"/home/spuser/.conda/envs/yanpan/lib/python3.11/site-packages/ultralytics/models/yolo/segment/predict.py\", line 52, in postprocess\n",
      "    masks = ops.process_mask(proto[i], pred[:, 6:], pred[:, :4], img.shape[2:], upsample=True)  # HWC\n",
      "            ^^^^^^^^^^^^^^^^^^^^^^^^^^^^^^^^^^^^^^^^^^^^^^^^^^^^^^^^^^^^^^^^^^^^^^^^^^^^^^^^^^\n",
      "  File \"/home/spuser/.conda/envs/yanpan/lib/python3.11/site-packages/ultralytics/utils/ops.py\", line 671, in process_mask\n",
      "    c, mh, mw = protos.shape  # CHW\n",
      "    ^^^^^^^^^\n",
      "ValueError: too many values to unpack (expected 3)\n",
      "Traceback (most recent call last):\n",
      "  File \"/tmp/ipykernel_2239786/1301476628.py\", line 65, in main\n",
      "    for result in results_generator:\n",
      "  File \"/home/spuser/.conda/envs/yanpan/lib/python3.11/site-packages/torch/utils/_contextlib.py\", line 36, in generator_context\n",
      "    response = gen.send(None)\n",
      "               ^^^^^^^^^^^^^^\n",
      "  File \"/home/spuser/.conda/envs/yanpan/lib/python3.11/site-packages/ultralytics/engine/predictor.py\", line 266, in stream_inference\n",
      "    self.results = self.postprocess(preds, im, im0s)\n",
      "                   ^^^^^^^^^^^^^^^^^^^^^^^^^^^^^^^^^\n",
      "  File \"/home/spuser/.conda/envs/yanpan/lib/python3.11/site-packages/ultralytics/models/yolo/segment/predict.py\", line 52, in postprocess\n",
      "    masks = ops.process_mask(proto[i], pred[:, 6:], pred[:, :4], img.shape[2:], upsample=True)  # HWC\n",
      "            ^^^^^^^^^^^^^^^^^^^^^^^^^^^^^^^^^^^^^^^^^^^^^^^^^^^^^^^^^^^^^^^^^^^^^^^^^^^^^^^^^^\n",
      "  File \"/home/spuser/.conda/envs/yanpan/lib/python3.11/site-packages/ultralytics/utils/ops.py\", line 671, in process_mask\n",
      "    c, mh, mw = protos.shape  # CHW\n",
      "    ^^^^^^^^^\n",
      "ValueError: too many values to unpack (expected 3)\n",
      "Traceback (most recent call last):\n",
      "  File \"/tmp/ipykernel_2239786/1301476628.py\", line 65, in main\n",
      "    for result in results_generator:\n",
      "  File \"/home/spuser/.conda/envs/yanpan/lib/python3.11/site-packages/torch/utils/_contextlib.py\", line 36, in generator_context\n",
      "    response = gen.send(None)\n",
      "               ^^^^^^^^^^^^^^\n",
      "  File \"/home/spuser/.conda/envs/yanpan/lib/python3.11/site-packages/ultralytics/engine/predictor.py\", line 266, in stream_inference\n",
      "    self.results = self.postprocess(preds, im, im0s)\n",
      "                   ^^^^^^^^^^^^^^^^^^^^^^^^^^^^^^^^^\n",
      "  File \"/home/spuser/.conda/envs/yanpan/lib/python3.11/site-packages/ultralytics/models/yolo/segment/predict.py\", line 52, in postprocess\n",
      "    masks = ops.process_mask(proto[i], pred[:, 6:], pred[:, :4], img.shape[2:], upsample=True)  # HWC\n",
      "            ^^^^^^^^^^^^^^^^^^^^^^^^^^^^^^^^^^^^^^^^^^^^^^^^^^^^^^^^^^^^^^^^^^^^^^^^^^^^^^^^^^\n",
      "  File \"/home/spuser/.conda/envs/yanpan/lib/python3.11/site-packages/ultralytics/utils/ops.py\", line 671, in process_mask\n",
      "    c, mh, mw = protos.shape  # CHW\n",
      "    ^^^^^^^^^\n",
      "ValueError: too many values to unpack (expected 3)\n"
     ]
    }
   ],
   "source": [
    "import cv2\n",
    "from ultralytics import YOLO\n",
    "import os\n",
    "import numpy as np\n",
    "import traceback\n",
    "\n",
    "def main():\n",
    "    # Load the trained model\n",
    "    model_path = '/data/yan/track/runs/segment/yolov11_WormCNN-HTT22/weights/best.pt'  # Replace with your best model path\n",
    "    if not os.path.exists(model_path):\n",
    "        raise FileNotFoundError(f\"Model file does not exist: {model_path}\")\n",
    "    model = YOLO(model_path)\n",
    "\n",
    "    # Input video path\n",
    "    video_path = '/data/yan/track/vedio/TS-20241123220321351.avi'  # Replace with your video path\n",
    "    if not os.path.exists(video_path):\n",
    "        raise FileNotFoundError(f\"Video file does not exist: {video_path}\")\n",
    "    \n",
    "    # Open the video\n",
    "    cap = cv2.VideoCapture(video_path)\n",
    "    if not cap.isOpened():\n",
    "        raise IOError(f\"Cannot open video file: {video_path}\")\n",
    "\n",
    "    # Get video parameters\n",
    "    fps = cap.get(cv2.CAP_PROP_FPS)\n",
    "    width = int(cap.get(cv2.CAP_PROP_FRAME_WIDTH))\n",
    "    height = int(cap.get(cv2.CAP_PROP_FRAME_HEIGHT))\n",
    "    total_frames = int(cap.get(cv2.CAP_PROP_FRAME_COUNT))\n",
    "    print(f\"Video FPS: {fps}, Resolution: {width}x{height}, Total frames: {total_frames}\")\n",
    "\n",
    "    # Define the output image save path\n",
    "    output_dir = 'output_images'\n",
    "    os.makedirs(output_dir, exist_ok=True)\n",
    "\n",
    "    frame_count = 0\n",
    "\n",
    "    while True:\n",
    "        ret, frame = cap.read()\n",
    "        if not ret:\n",
    "            break\n",
    "\n",
    "        frame_count += 1\n",
    "        print(f\"Processing frame {frame_count}/{total_frames}\", end='\\r')\n",
    "\n",
    "        if frame is not None:\n",
    "            # Ensure the input size matches the model's requirement\n",
    "            frame_resized = cv2.resize(frame, (640, 640))\n",
    "            # Print frame shape and data type\n",
    "            print(f\"Frame shape: {frame_resized.shape}, dtype: {frame_resized.dtype}\")\n",
    "        else:\n",
    "            print(f\"Skipping empty frame {frame_count}\")\n",
    "            continue\n",
    "\n",
    "        # Perform detection\n",
    "        try:\n",
    "            # Adjust confidence threshold if necessary\n",
    "            results_generator = model.predict(\n",
    "                source=frame_resized,\n",
    "                imgsz=640,\n",
    "                stream=True,\n",
    "                conf=0.1  # Adjust confidence threshold\n",
    "            )\n",
    "            \n",
    "            # Since results_generator is a generator, we need to iterate over it\n",
    "            for result in results_generator:\n",
    "                boxes = result.boxes\n",
    "                if boxes:\n",
    "                    print(f\"Frame {frame_count}: {len(boxes)} detections\")\n",
    "                    for box in boxes:\n",
    "                        # Print detection details\n",
    "                        print(f\"Detection: Class {box.cls}, Confidence {box.conf}\")\n",
    "                else:\n",
    "                    print(f\"Frame {frame_count}: No detections\")\n",
    "                \n",
    "                # Draw detection results\n",
    "                annotated_frame = result.plot()\n",
    "\n",
    "                # Save the image\n",
    "                output_image_path = os.path.join(output_dir, f\"frame_{frame_count:06d}.jpg\")\n",
    "                cv2.imwrite(output_image_path, annotated_frame)\n",
    "        except Exception as e:\n",
    "            print(f\"Error processing frame {frame_count}: {e}\")\n",
    "            traceback.print_exc()\n",
    "            continue\n",
    "\n",
    "    # Release resources\n",
    "    cap.release()\n",
    "    print(f\"\\nProcessing complete, output images saved in: {output_dir}\")\n",
    "\n",
    "if __name__ == \"__main__\":\n",
    "    main()\n"
   ]
  }
 ],
 "metadata": {
  "kernelspec": {
   "display_name": "yanpan",
   "language": "python",
   "name": "python3"
  },
  "language_info": {
   "codemirror_mode": {
    "name": "ipython",
    "version": 3
   },
   "file_extension": ".py",
   "mimetype": "text/x-python",
   "name": "python",
   "nbconvert_exporter": "python",
   "pygments_lexer": "ipython3",
   "version": "3.11.10"
  }
 },
 "nbformat": 4,
 "nbformat_minor": 2
}
