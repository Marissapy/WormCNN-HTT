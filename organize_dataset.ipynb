{
 "cells": [
  {
   "cell_type": "code",
   "execution_count": 13,
   "metadata": {},
   "outputs": [],
   "source": [
    "# 导入必要的库\n",
    "import os\n",
    "import shutil\n",
    "import random\n",
    "from pathlib import Path\n",
    "from typing import List, Tuple\n",
    "from tqdm import tqdm\n",
    "def find_annotated_images(image_dir: str, annotation_dir: str, image_extensions: List[str] = ['.jpg','.tiff', '.jpeg', '.png', '.bmp']) -> Tuple[List[Path], List[Path]]:\n",
    "    \"\"\"\n",
    "    查找有标注和无标注的图片。\n",
    "\n",
    "    Args:\n",
    "        image_dir (str): 图片目录路径。\n",
    "        annotation_dir (str): 标注文件目录路径。\n",
    "        image_extensions (List[str], optional): 支持的图片扩展名列表。默认为 ['.jpg', '.jpeg', '.png', '.bmp']。\n",
    "\n",
    "    Returns:\n",
    "        Tuple[List[Path], List[Path]]: 有标注的图片路径列表和无标注的图片路径列表。\n",
    "    \"\"\"\n",
    "    image_dir = Path(image_dir)\n",
    "    annotation_dir = Path(annotation_dir)\n",
    "\n",
    "    # 收集所有图片文件\n",
    "    all_images = [p for p in image_dir.iterdir() if p.suffix.lower() in image_extensions and p.is_file()]\n",
    "\n",
    "    annotated_images = []\n",
    "    non_annotated_images = []\n",
    "\n",
    "    for img_path in tqdm(all_images, desc=\"查找有标注和无标注的图片\"):\n",
    "        # 假设标注文件与图片同名但扩展名为 .txt\n",
    "        label_path = annotation_dir / f\"{img_path.stem}.json\"\n",
    "        if label_path.exists():\n",
    "            annotated_images.append(img_path)\n",
    "        else:\n",
    "            non_annotated_images.append(img_path)\n",
    "\n",
    "    return annotated_images, non_annotated_images\n",
    "\n",
    "def split_data(annotated_images: List[Path], train_ratio: float = 0.8) -> Tuple[List[Path], List[Path]]:\n",
    "    \"\"\"\n",
    "    将有标注的图片随机划分为训练集和验证集。\n",
    "\n",
    "    Args:\n",
    "        annotated_images (List[Path]): 有标注的图片路径列表。\n",
    "        train_ratio (float, optional): 训练集比例。默认为 0.8。\n",
    "\n",
    "    Returns:\n",
    "        Tuple[List[Path], List[Path]]: 训练集图片路径列表和验证集图片路径列表。\n",
    "    \"\"\"\n",
    "    random.shuffle(annotated_images)\n",
    "    split_index = int(len(annotated_images) * train_ratio)\n",
    "    train_images = annotated_images[:split_index]\n",
    "    val_images = annotated_images[split_index:]\n",
    "    return train_images, val_images\n",
    "\n",
    "def organize_data(\n",
    "    image_dir: str,\n",
    "    annotation_dir: str,\n",
    "    output_dir: str,\n",
    "    annotated_images: List[Path],\n",
    "    non_annotated_images: List[Path],\n",
    "    train_ratio: float = 0.8\n",
    ") -> None:\n",
    "    \"\"\"\n",
    "    将图片和标注文件组织到不同的目录中，并划分训练集和验证集。\n",
    "\n",
    "    Args:\n",
    "        image_dir (str): 图片目录路径。\n",
    "        annotation_dir (str): 标注文件目录路径。\n",
    "        output_dir (str): 输出的组织后数据的目录路径。\n",
    "        annotated_images (List[Path]): 有标注的图片路径列表。\n",
    "        non_annotated_images (List[Path]): 无标注的图片路径列表。\n",
    "        train_ratio (float, optional): 训练集比例。默认为 0.8。\n",
    "    \"\"\"\n",
    "    image_dir = Path(image_dir)\n",
    "    annotation_dir = Path(annotation_dir)\n",
    "    output_dir = Path(output_dir)\n",
    "\n",
    "    train_images_dir = output_dir / 'train' / 'images'\n",
    "    train_labels_dir = output_dir / 'train' / 'labels'\n",
    "    val_images_dir = output_dir / 'val' / 'images'\n",
    "    val_labels_dir = output_dir / 'val' / 'labels'\n",
    "    non_annotated_images_dir = output_dir / 'non_annotated_images'\n",
    "\n",
    "    # 创建目标目录\n",
    "    train_images_dir.mkdir(parents=True, exist_ok=True)\n",
    "    train_labels_dir.mkdir(parents=True, exist_ok=True)\n",
    "    val_images_dir.mkdir(parents=True, exist_ok=True)\n",
    "    val_labels_dir.mkdir(parents=True, exist_ok=True)\n",
    "    non_annotated_images_dir.mkdir(parents=True, exist_ok=True)\n",
    "\n",
    "    # 划分训练集和验证集\n",
    "    train_images, val_images = split_data(annotated_images, train_ratio)\n",
    "\n",
    "    # 复制训练集\n",
    "    for img_path in tqdm(train_images, desc=\"复制训练集图片\"):\n",
    "        shutil.copy(img_path, train_images_dir / img_path.name)\n",
    "        label_path = annotation_dir / f\"{img_path.stem}.json\"\n",
    "        if label_path.exists():\n",
    "            shutil.copy(label_path, train_labels_dir / label_path.name)\n",
    "\n",
    "    # 复制验证集\n",
    "    for img_path in tqdm(val_images, desc=\"复制验证集图片\"):\n",
    "        shutil.copy(img_path, val_images_dir / img_path.name)\n",
    "        label_path = annotation_dir / f\"{img_path.stem}.json\"\n",
    "        if label_path.exists():\n",
    "            shutil.copy(label_path, val_labels_dir / label_path.name)\n",
    "\n",
    "    # 复制无标注的图片\n",
    "    for img_path in tqdm(non_annotated_images, desc=\"复制无标注的图片\"):\n",
    "        shutil.copy(img_path, non_annotated_images_dir / img_path.name)\n",
    "\n",
    "    print(f\"训练集图片已复制到: {train_images_dir}\")\n",
    "    print(f\"训练集标注文件已复制到: {train_labels_dir}\")\n",
    "    print(f\"验证集图片已复制到: {val_images_dir}\")\n",
    "    print(f\"验证集标注文件已复制到: {val_labels_dir}\")\n",
    "    print(f\"无标注的图片已复制到: {non_annotated_images_dir}\")\n"
   ]
  },
  {
   "cell_type": "code",
   "execution_count": 14,
   "metadata": {},
   "outputs": [
    {
     "name": "stderr",
     "output_type": "stream",
     "text": [
      "查找有标注和无标注的图片: 100%|██████████| 2184/2184 [00:00<00:00, 135462.19it/s]\n"
     ]
    },
    {
     "name": "stdout",
     "output_type": "stream",
     "text": [
      "找到 23 张有标注的图片。\n",
      "找到 2161 张无标注的图片。\n"
     ]
    },
    {
     "name": "stderr",
     "output_type": "stream",
     "text": [
      "复制训练集图片: 100%|██████████| 18/18 [00:00<00:00, 795.55it/s]\n",
      "复制验证集图片:   0%|          | 0/5 [00:00<?, ?it/s]"
     ]
    },
    {
     "name": "stderr",
     "output_type": "stream",
     "text": [
      "复制验证集图片: 100%|██████████| 5/5 [00:00<00:00, 718.25it/s]\n",
      "复制无标注的图片: 100%|██████████| 2161/2161 [00:01<00:00, 1106.39it/s]"
     ]
    },
    {
     "name": "stdout",
     "output_type": "stream",
     "text": [
      "训练集图片已复制到: dataset/train/images\n",
      "训练集标注文件已复制到: dataset/train/labels\n",
      "验证集图片已复制到: dataset/val/images\n",
      "验证集标注文件已复制到: dataset/val/labels\n",
      "无标注的图片已复制到: dataset/non_annotated_images\n"
     ]
    },
    {
     "name": "stderr",
     "output_type": "stream",
     "text": [
      "\n"
     ]
    }
   ],
   "source": [
    "# 设置目录路径\n",
    "image_dir = \"/data/yan/track/TS-20241123222043114.avi_frames\"          # 原始图片目录\n",
    "annotation_dir = \"/data/yan/track/TS-20241123222043114.avi_frames/annotations\"  # 标注文件目录\n",
    "output_dir = \"./dataset\"                                 # 输出数据集目录\n",
    "train_ratio = 0.8                                        # 训练集比例\n",
    "\n",
    "# 查找有标注和无标注的图片\n",
    "annotated_images, non_annotated_images = find_annotated_images(image_dir, annotation_dir)\n",
    "\n",
    "print(f\"找到 {len(annotated_images)} 张有标注的图片。\")\n",
    "print(f\"找到 {len(non_annotated_images)} 张无标注的图片。\")\n",
    "\n",
    "# 组织数据并划分训练集和验证集\n",
    "organize_data(\n",
    "    image_dir=image_dir,\n",
    "    annotation_dir=annotation_dir,\n",
    "    output_dir=output_dir,\n",
    "    annotated_images=annotated_images,\n",
    "    non_annotated_images=non_annotated_images,\n",
    "    train_ratio=train_ratio\n",
    ")\n"
   ]
  }
 ],
 "metadata": {
  "kernelspec": {
   "display_name": "yanpan",
   "language": "python",
   "name": "python3"
  },
  "language_info": {
   "codemirror_mode": {
    "name": "ipython",
    "version": 3
   },
   "file_extension": ".py",
   "mimetype": "text/x-python",
   "name": "python",
   "nbconvert_exporter": "python",
   "pygments_lexer": "ipython3",
   "version": "3.11.10"
  }
 },
 "nbformat": 4,
 "nbformat_minor": 2
}
