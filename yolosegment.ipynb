{
 "cells": [
  {
   "cell_type": "code",
   "execution_count": 38,
   "metadata": {},
   "outputs": [
    {
     "name": "stderr",
     "output_type": "stream",
     "text": [
      "查找有标注和无标注的图片: 100%|██████████| 2184/2184 [00:00<00:00, 163861.69it/s]\n"
     ]
    },
    {
     "name": "stdout",
     "output_type": "stream",
     "text": [
      "找到 23 张有标注的图片。\n",
      "找到 2161 张无标注的图片。\n"
     ]
    },
    {
     "name": "stderr",
     "output_type": "stream",
     "text": [
      "复制训练集图片: 100%|██████████| 18/18 [00:00<00:00, 707.04it/s]\n",
      "复制验证集图片: 100%|██████████| 5/5 [00:00<00:00, 631.20it/s]\n",
      "复制无标注的图片:   0%|          | 0/2161 [00:00<?, ?it/s]"
     ]
    },
    {
     "name": "stderr",
     "output_type": "stream",
     "text": [
      "复制无标注的图片: 100%|██████████| 2161/2161 [00:01<00:00, 1140.36it/s]"
     ]
    },
    {
     "name": "stdout",
     "output_type": "stream",
     "text": [
      "训练集图片已复制到: dataset/train/images\n",
      "训练集标注文件已复制到: dataset/train/labels\n",
      "验证集图片已复制到: dataset/val/images\n",
      "验证集标注文件已复制到: dataset/val/labels\n",
      "无标注的图片已复制到: dataset/non_annotated_images\n"
     ]
    },
    {
     "name": "stderr",
     "output_type": "stream",
     "text": [
      "\n"
     ]
    }
   ],
   "source": [
    "# 导入必要的库\n",
    "import os\n",
    "import shutil\n",
    "import random\n",
    "from pathlib import Path\n",
    "from typing import List, Tuple\n",
    "from tqdm import tqdm\n",
    "def find_annotated_images(image_dir: str, annotation_dir: str, image_extensions: List[str] = ['.jpg','.tiff', '.jpeg', '.png', '.bmp']) -> Tuple[List[Path], List[Path]]:\n",
    "    \"\"\"\n",
    "    查找有标注和无标注的图片。\n",
    "\n",
    "    Args:\n",
    "        image_dir (str): 图片目录路径。\n",
    "        annotation_dir (str): 标注文件目录路径。\n",
    "        image_extensions (List[str], optional): 支持的图片扩展名列表。默认为 ['.jpg', '.jpeg', '.png', '.bmp']。\n",
    "\n",
    "    Returns:\n",
    "        Tuple[List[Path], List[Path]]: 有标注的图片路径列表和无标注的图片路径列表。\n",
    "    \"\"\"\n",
    "    image_dir = Path(image_dir)\n",
    "    annotation_dir = Path(annotation_dir)\n",
    "\n",
    "    # 收集所有图片文件\n",
    "    all_images = [p for p in image_dir.iterdir() if p.suffix.lower() in image_extensions and p.is_file()]\n",
    "\n",
    "    annotated_images = []\n",
    "    non_annotated_images = []\n",
    "\n",
    "    for img_path in tqdm(all_images, desc=\"查找有标注和无标注的图片\"):\n",
    "        # 假设标注文件与图片同名但扩展名为 .txt\n",
    "        label_path = annotation_dir / f\"{img_path.stem}.json\"\n",
    "        if label_path.exists():\n",
    "            annotated_images.append(img_path)\n",
    "        else:\n",
    "            non_annotated_images.append(img_path)\n",
    "\n",
    "    return annotated_images, non_annotated_images\n",
    "\n",
    "def split_data(annotated_images: List[Path], train_ratio: float = 0.8) -> Tuple[List[Path], List[Path]]:\n",
    "    \"\"\"\n",
    "    将有标注的图片随机划分为训练集和验证集。\n",
    "\n",
    "    Args:\n",
    "        annotated_images (List[Path]): 有标注的图片路径列表。\n",
    "        train_ratio (float, optional): 训练集比例。默认为 0.8。\n",
    "\n",
    "    Returns:\n",
    "        Tuple[List[Path], List[Path]]: 训练集图片路径列表和验证集图片路径列表。\n",
    "    \"\"\"\n",
    "    random.shuffle(annotated_images)\n",
    "    split_index = int(len(annotated_images) * train_ratio)\n",
    "    train_images = annotated_images[:split_index]\n",
    "    val_images = annotated_images[split_index:]\n",
    "    return train_images, val_images\n",
    "\n",
    "def organize_data(\n",
    "    image_dir: str,\n",
    "    annotation_dir: str,\n",
    "    output_dir: str,\n",
    "    annotated_images: List[Path],\n",
    "    non_annotated_images: List[Path],\n",
    "    train_ratio: float = 0.8\n",
    ") -> None:\n",
    "    \"\"\"\n",
    "    将图片和标注文件组织到不同的目录中，并划分训练集和验证集。\n",
    "\n",
    "    Args:\n",
    "        image_dir (str): 图片目录路径。\n",
    "        annotation_dir (str): 标注文件目录路径。\n",
    "        output_dir (str): 输出的组织后数据的目录路径。\n",
    "        annotated_images (List[Path]): 有标注的图片路径列表。\n",
    "        non_annotated_images (List[Path]): 无标注的图片路径列表。\n",
    "        train_ratio (float, optional): 训练集比例。默认为 0.8。\n",
    "    \"\"\"\n",
    "    image_dir = Path(image_dir)\n",
    "    annotation_dir = Path(annotation_dir)\n",
    "    output_dir = Path(output_dir)\n",
    "\n",
    "    train_images_dir = output_dir / 'train' / 'images'\n",
    "    train_labels_dir = output_dir / 'train' / 'labels'\n",
    "    val_images_dir = output_dir / 'val' / 'images'\n",
    "    val_labels_dir = output_dir / 'val' / 'labels'\n",
    "    non_annotated_images_dir = output_dir / 'non_annotated_images'\n",
    "\n",
    "    # 创建目标目录\n",
    "    train_images_dir.mkdir(parents=True, exist_ok=True)\n",
    "    train_labels_dir.mkdir(parents=True, exist_ok=True)\n",
    "    val_images_dir.mkdir(parents=True, exist_ok=True)\n",
    "    val_labels_dir.mkdir(parents=True, exist_ok=True)\n",
    "    non_annotated_images_dir.mkdir(parents=True, exist_ok=True)\n",
    "\n",
    "    # 划分训练集和验证集\n",
    "    train_images, val_images = split_data(annotated_images, train_ratio)\n",
    "\n",
    "    # 复制训练集\n",
    "    for img_path in tqdm(train_images, desc=\"复制训练集图片\"):\n",
    "        shutil.copy(img_path, train_images_dir / img_path.name)\n",
    "        label_path = annotation_dir / f\"{img_path.stem}.json\"\n",
    "        if label_path.exists():\n",
    "            shutil.copy(label_path, train_labels_dir / label_path.name)\n",
    "\n",
    "    # 复制验证集\n",
    "    for img_path in tqdm(val_images, desc=\"复制验证集图片\"):\n",
    "        shutil.copy(img_path, val_images_dir / img_path.name)\n",
    "        label_path = annotation_dir / f\"{img_path.stem}.json\"\n",
    "        if label_path.exists():\n",
    "            shutil.copy(label_path, val_labels_dir / label_path.name)\n",
    "\n",
    "    # 复制无标注的图片\n",
    "    for img_path in tqdm(non_annotated_images, desc=\"复制无标注的图片\"):\n",
    "        shutil.copy(img_path, non_annotated_images_dir / img_path.name)\n",
    "\n",
    "    print(f\"训练集图片已复制到: {train_images_dir}\")\n",
    "    print(f\"训练集标注文件已复制到: {train_labels_dir}\")\n",
    "    print(f\"验证集图片已复制到: {val_images_dir}\")\n",
    "    print(f\"验证集标注文件已复制到: {val_labels_dir}\")\n",
    "    print(f\"无标注的图片已复制到: {non_annotated_images_dir}\")\n",
    "\n",
    "\n",
    "# 设置目录路径\n",
    "image_dir = \"/data/yan/track/TS-20241123222043114.avi_frames\"          # 原始图片目录\n",
    "annotation_dir = \"/data/yan/track/TS-20241123222043114.avi_frames/annotations\"  # 标注文件目录\n",
    "output_dir = \"./dataset\"                                 # 输出数据集目录\n",
    "train_ratio = 0.8                                        # 训练集比例\n",
    "\n",
    "# 查找有标注和无标注的图片\n",
    "annotated_images, non_annotated_images = find_annotated_images(image_dir, annotation_dir)\n",
    "\n",
    "print(f\"找到 {len(annotated_images)} 张有标注的图片。\")\n",
    "print(f\"找到 {len(non_annotated_images)} 张无标注的图片。\")\n",
    "\n",
    "# 组织数据并划分训练集和验证集\n",
    "organize_data(\n",
    "    image_dir=image_dir,\n",
    "    annotation_dir=annotation_dir,\n",
    "    output_dir=output_dir,\n",
    "    annotated_images=annotated_images,\n",
    "    non_annotated_images=non_annotated_images,\n",
    "    train_ratio=train_ratio\n",
    ")\n"
   ]
  },
  {
   "cell_type": "code",
   "execution_count": null,
   "metadata": {},
   "outputs": [
    {
     "name": "stderr",
     "output_type": "stream",
     "text": [
      "转换分割标注文件: 100%|██████████| 18/18 [00:00<00:00, 334.06it/s]"
     ]
    },
    {
     "name": "stdout",
     "output_type": "stream",
     "text": [
      "所有分割标注文件已转换并保存到 dataset/train/yololabels\n"
     ]
    },
    {
     "name": "stderr",
     "output_type": "stream",
     "text": [
      "\n"
     ]
    }
   ],
   "source": [
    "import json\n",
    "from pathlib import Path\n",
    "from tqdm import tqdm\n",
    "\n",
    "def convert_labelme_to_yolo_segmentation(json_dir: str, output_dir: str, classes: list):\n",
    "    \"\"\"\n",
    "    将 Labelme 的 JSON 格式转化为 YOLO 分割格式。\n",
    "\n",
    "    Args:\n",
    "        json_dir (str): 存放 JSON 文件的目录。\n",
    "        output_dir (str): 存放 YOLO 格式标注文件的目录。\n",
    "        classes (list): 类别名称列表。\n",
    "    \"\"\"\n",
    "    json_dir = Path(json_dir)\n",
    "    output_dir = Path(output_dir)\n",
    "    output_dir.mkdir(parents=True, exist_ok=True)\n",
    "    \n",
    "    json_files = list(json_dir.glob(\"*.json\"))\n",
    "    \n",
    "    for json_file in tqdm(json_files, desc=\"转换分割标注文件\"):\n",
    "        with open(json_file, \"r\", encoding=\"utf-8\") as f:\n",
    "            data = json.load(f)\n",
    "        \n",
    "        img_width = data['imageWidth']\n",
    "        img_height = data['imageHeight']\n",
    "        yolo_annotations = []\n",
    "        \n",
    "        for shape in data['shapes']:\n",
    "            label = shape['label']\n",
    "            points = shape['points']\n",
    "            \n",
    "            # 归一化多边形点\n",
    "            normalized_points = [\n",
    "                f\"{point[0] / img_width:.6f} {point[1] / img_height:.6f}\" \n",
    "                for point in points\n",
    "            ]\n",
    "            \n",
    "            if label in classes:\n",
    "                class_id = classes.index(label)\n",
    "                # YOLO 分割格式：<class_id> <x1> <y1> <x2> <y2> ... <xn> <yn>\n",
    "                annotation = f\"{class_id} \" + \" \".join(normalized_points)\n",
    "                yolo_annotations.append(annotation)\n",
    "            else:\n",
    "                print(f\"警告: 标签 {label} 不在 classes 列表中，已跳过。\")\n",
    "        \n",
    "        # 输出 YOLO 格式的标注文件\n",
    "        output_path = output_dir / f\"{json_file.stem}.txt\"\n",
    "        with open(output_path, \"w\", encoding=\"utf-8\") as f:\n",
    "            f.write(\"\\n\".join(yolo_annotations))\n",
    "    \n",
    "    print(f\"所有分割标注文件已转换并保存到 {output_dir}\")\n",
    "\n",
    "# 设置目录路径和类别列表\n",
    "json_dir = \"./dataset/train/labels\"  # 标注文件 JSON 目录\n",
    "output_dir = \"./dataset/train/yololabels\"  # 转换后保存 YOLO 格式的目录\n",
    "classes = [\"Celegans\"]  # 替换为你的实际类别名称\n",
    "\n",
    "# 转换标注文件\n",
    "convert_labelme_to_yolo_segmentation(json_dir, output_dir, classes)\n",
    "#  pip install ultralytics -i https://pypi.tuna.tsinghua.edu.cn/simple"
   ]
  },
  {
   "cell_type": "code",
   "execution_count": 4,
   "metadata": {},
   "outputs": [
    {
     "name": "stdout",
     "output_type": "stream",
     "text": [
      "Ultralytics 8.3.36 🚀 Python-3.11.10 torch-2.5.1+cu124 CUDA:0 (NVIDIA GeForce RTX 4090, 24210MiB)\n",
      "\u001b[34m\u001b[1mengine/trainer: \u001b[0mtask=segment, mode=train, model=/data/yan/track/yolomodel/yolo11x.pt, data=./data.yaml, epochs=128, time=None, patience=100, batch=24, imgsz=640, save=True, save_period=-1, cache=False, device=None, workers=8, project=runs/segment, name=yolov11_WormCNN-HTT12, exist_ok=False, pretrained=True, optimizer=auto, verbose=True, seed=0, deterministic=True, single_cls=False, rect=False, cos_lr=False, close_mosaic=10, resume=False, amp=True, fraction=1.0, profile=False, freeze=None, multi_scale=False, overlap_mask=True, mask_ratio=4, dropout=0.0, val=True, split=val, save_json=False, save_hybrid=False, conf=None, iou=0.7, max_det=300, half=False, dnn=False, plots=True, source=None, vid_stride=1, stream_buffer=False, visualize=False, augment=False, agnostic_nms=False, classes=None, retina_masks=False, embed=None, show=False, save_frames=False, save_txt=False, save_conf=False, save_crop=False, show_labels=True, show_conf=True, show_boxes=True, line_width=None, format=torchscript, keras=False, optimize=False, int8=False, dynamic=False, simplify=True, opset=None, workspace=4, nms=False, lr0=0.01, lrf=0.01, momentum=0.937, weight_decay=0.0005, warmup_epochs=3.0, warmup_momentum=0.8, warmup_bias_lr=0.1, box=7.5, cls=0.5, dfl=1.5, pose=12.0, kobj=1.0, label_smoothing=0.0, nbs=64, hsv_h=0.015, hsv_s=0.7, hsv_v=0.4, degrees=0.0, translate=0.1, scale=0.5, shear=0.0, perspective=0.0, flipud=0.0, fliplr=0.5, bgr=0.0, mosaic=1.0, mixup=0.0, copy_paste=0.0, copy_paste_mode=flip, auto_augment=randaugment, erasing=0.4, crop_fraction=1.0, cfg=None, tracker=botsort.yaml, save_dir=runs/segment/yolov11_WormCNN-HTT12\n",
      "Overriding model.yaml nc=80 with nc=1\n",
      "\n",
      "                   from  n    params  module                                       arguments                     \n",
      "  0                  -1  1      2784  ultralytics.nn.modules.conv.Conv             [3, 96, 3, 2]                 \n",
      "  1                  -1  1    166272  ultralytics.nn.modules.conv.Conv             [96, 192, 3, 2]               \n",
      "  2                  -1  2    389760  ultralytics.nn.modules.block.C3k2            [192, 384, 2, True, 0.25]     \n",
      "  3                  -1  1   1327872  ultralytics.nn.modules.conv.Conv             [384, 384, 3, 2]              \n",
      "  4                  -1  2   1553664  ultralytics.nn.modules.block.C3k2            [384, 768, 2, True, 0.25]     \n",
      "  5                  -1  1   5309952  ultralytics.nn.modules.conv.Conv             [768, 768, 3, 2]              \n",
      "  6                  -1  2   5022720  ultralytics.nn.modules.block.C3k2            [768, 768, 2, True]           \n",
      "  7                  -1  1   5309952  ultralytics.nn.modules.conv.Conv             [768, 768, 3, 2]              \n",
      "  8                  -1  2   5022720  ultralytics.nn.modules.block.C3k2            [768, 768, 2, True]           \n",
      "  9                  -1  1   1476864  ultralytics.nn.modules.block.SPPF            [768, 768, 5]                 \n",
      " 10                  -1  2   3264768  ultralytics.nn.modules.block.C2PSA           [768, 768, 2]                 \n",
      " 11                  -1  1         0  torch.nn.modules.upsampling.Upsample         [None, 2, 'nearest']          \n",
      " 12             [-1, 6]  1         0  ultralytics.nn.modules.conv.Concat           [1]                           \n",
      " 13                  -1  2   5612544  ultralytics.nn.modules.block.C3k2            [1536, 768, 2, True]          \n",
      " 14                  -1  1         0  torch.nn.modules.upsampling.Upsample         [None, 2, 'nearest']          \n",
      " 15             [-1, 4]  1         0  ultralytics.nn.modules.conv.Concat           [1]                           \n",
      " 16                  -1  2   1700352  ultralytics.nn.modules.block.C3k2            [1536, 384, 2, True]          \n",
      " 17                  -1  1   1327872  ultralytics.nn.modules.conv.Conv             [384, 384, 3, 2]              \n",
      " 18            [-1, 13]  1         0  ultralytics.nn.modules.conv.Concat           [1]                           \n",
      " 19                  -1  2   5317632  ultralytics.nn.modules.block.C3k2            [1152, 768, 2, True]          \n",
      " 20                  -1  1   5309952  ultralytics.nn.modules.conv.Conv             [768, 768, 3, 2]              \n",
      " 21            [-1, 10]  1         0  ultralytics.nn.modules.conv.Concat           [1]                           \n",
      " 22                  -1  2   5612544  ultralytics.nn.modules.block.C3k2            [1536, 768, 2, True]          \n",
      " 23        [16, 19, 22]  1   3146707  ultralytics.nn.modules.head.Detect           [1, [384, 768, 768]]          \n",
      "YOLO11x summary: 631 layers, 56,874,931 parameters, 56,874,915 gradients, 195.4 GFLOPs\n",
      "\n",
      "Transferred 1009/1015 items from pretrained weights\n",
      "Freezing layer 'model.23.dfl.conv.weight'\n",
      "\u001b[34m\u001b[1mAMP: \u001b[0mrunning Automatic Mixed Precision (AMP) checks...\n",
      "\u001b[34m\u001b[1mAMP: \u001b[0mchecks passed ✅\n"
     ]
    },
    {
     "name": "stderr",
     "output_type": "stream",
     "text": [
      "\u001b[34m\u001b[1mtrain: \u001b[0mScanning /data/yan/track/datasets/train/labels... 18 images, 0 backgrounds, 0 corrupt: 100%|██████████| 18/18 [00:00<00:00, 1454.84it/s]"
     ]
    },
    {
     "name": "stdout",
     "output_type": "stream",
     "text": [
      "\u001b[34m\u001b[1mtrain: \u001b[0mNew cache created: /data/yan/track/datasets/train/labels.cache\n"
     ]
    },
    {
     "name": "stderr",
     "output_type": "stream",
     "text": [
      "\n",
      "\u001b[34m\u001b[1mval: \u001b[0mScanning /data/yan/track/datasets/val/labels... 5 images, 0 backgrounds, 0 corrupt: 100%|██████████| 5/5 [00:00<00:00, 1112.72it/s]"
     ]
    },
    {
     "name": "stdout",
     "output_type": "stream",
     "text": [
      "\u001b[34m\u001b[1mval: \u001b[0mNew cache created: /data/yan/track/datasets/val/labels.cache\n"
     ]
    },
    {
     "name": "stderr",
     "output_type": "stream",
     "text": [
      "\n"
     ]
    },
    {
     "name": "stdout",
     "output_type": "stream",
     "text": [
      "Plotting labels to runs/segment/yolov11_WormCNN-HTT12/labels.jpg... \n",
      "\u001b[34m\u001b[1moptimizer:\u001b[0m 'optimizer=auto' found, ignoring 'lr0=0.01' and 'momentum=0.937' and determining best 'optimizer', 'lr0' and 'momentum' automatically... \n",
      "\u001b[34m\u001b[1moptimizer:\u001b[0m AdamW(lr=0.002, momentum=0.9) with parameter groups 167 weight(decay=0.0), 174 weight(decay=0.0005625000000000001), 173 bias(decay=0.0)\n",
      "Image sizes 640 train, 640 val\n",
      "Using 8 dataloader workers\n",
      "Logging results to \u001b[1mruns/segment/yolov11_WormCNN-HTT12\u001b[0m\n",
      "Starting training for 128 epochs...\n",
      "\n",
      "      Epoch    GPU_mem   box_loss   cls_loss   dfl_loss  Instances       Size\n"
     ]
    },
    {
     "name": "stderr",
     "output_type": "stream",
     "text": [
      "      1/128      18.3G      1.106      2.968     0.9182        121        640: 100%|██████████| 1/1 [00:01<00:00,  1.19s/it]\n",
      "                 Class     Images  Instances      Box(P          R      mAP50  mAP50-95): 100%|██████████| 1/1 [00:00<00:00,  4.06it/s]"
     ]
    },
    {
     "name": "stdout",
     "output_type": "stream",
     "text": [
      "                   all          5         23      0.886      0.913      0.937      0.795\n"
     ]
    },
    {
     "name": "stderr",
     "output_type": "stream",
     "text": [
      "\n"
     ]
    },
    {
     "name": "stdout",
     "output_type": "stream",
     "text": [
      "\n",
      "      Epoch    GPU_mem   box_loss   cls_loss   dfl_loss  Instances       Size\n"
     ]
    },
    {
     "name": "stderr",
     "output_type": "stream",
     "text": [
      "      2/128      18.3G       1.13      2.756     0.8834        136        640: 100%|██████████| 1/1 [00:00<00:00,  3.04it/s]\n",
      "                 Class     Images  Instances      Box(P          R      mAP50  mAP50-95): 100%|██████████| 1/1 [00:00<00:00, 13.95it/s]"
     ]
    },
    {
     "name": "stdout",
     "output_type": "stream",
     "text": [
      "                   all          5         23      0.954      0.908       0.94      0.799\n"
     ]
    },
    {
     "name": "stderr",
     "output_type": "stream",
     "text": [
      "\n"
     ]
    },
    {
     "name": "stdout",
     "output_type": "stream",
     "text": [
      "\n",
      "      Epoch    GPU_mem   box_loss   cls_loss   dfl_loss  Instances       Size\n"
     ]
    },
    {
     "name": "stderr",
     "output_type": "stream",
     "text": [
      "      3/128      18.3G      1.208      2.665     0.9015        152        640: 100%|██████████| 1/1 [00:00<00:00,  2.93it/s]\n",
      "                 Class     Images  Instances      Box(P          R      mAP50  mAP50-95): 100%|██████████| 1/1 [00:00<00:00, 15.33it/s]"
     ]
    },
    {
     "name": "stdout",
     "output_type": "stream",
     "text": [
      "                   all          5         23      0.908      0.913      0.939       0.79\n"
     ]
    },
    {
     "name": "stderr",
     "output_type": "stream",
     "text": [
      "\n"
     ]
    },
    {
     "name": "stdout",
     "output_type": "stream",
     "text": [
      "\n",
      "      Epoch    GPU_mem   box_loss   cls_loss   dfl_loss  Instances       Size\n"
     ]
    },
    {
     "name": "stderr",
     "output_type": "stream",
     "text": [
      "      4/128      18.3G      1.185       2.76     0.9075        135        640: 100%|██████████| 1/1 [00:00<00:00,  2.94it/s]\n",
      "                 Class     Images  Instances      Box(P          R      mAP50  mAP50-95): 100%|██████████| 1/1 [00:00<00:00, 17.59it/s]"
     ]
    },
    {
     "name": "stdout",
     "output_type": "stream",
     "text": [
      "                   all          5         23      0.902      0.913      0.937       0.78\n"
     ]
    },
    {
     "name": "stderr",
     "output_type": "stream",
     "text": [
      "\n"
     ]
    },
    {
     "name": "stdout",
     "output_type": "stream",
     "text": [
      "\n",
      "      Epoch    GPU_mem   box_loss   cls_loss   dfl_loss  Instances       Size\n"
     ]
    },
    {
     "name": "stderr",
     "output_type": "stream",
     "text": [
      "      5/128      18.3G      1.131      2.867     0.9225        118        640: 100%|██████████| 1/1 [00:00<00:00,  2.98it/s]\n",
      "                 Class     Images  Instances      Box(P          R      mAP50  mAP50-95): 100%|██████████| 1/1 [00:00<00:00, 20.52it/s]"
     ]
    },
    {
     "name": "stdout",
     "output_type": "stream",
     "text": [
      "                   all          5         23      0.904      0.913      0.934       0.77\n"
     ]
    },
    {
     "name": "stderr",
     "output_type": "stream",
     "text": [
      "\n"
     ]
    },
    {
     "name": "stdout",
     "output_type": "stream",
     "text": [
      "\n",
      "      Epoch    GPU_mem   box_loss   cls_loss   dfl_loss  Instances       Size\n"
     ]
    },
    {
     "name": "stderr",
     "output_type": "stream",
     "text": [
      "      6/128      18.3G      1.199      2.728     0.8862        157        640: 100%|██████████| 1/1 [00:00<00:00,  2.99it/s]\n",
      "                 Class     Images  Instances      Box(P          R      mAP50  mAP50-95): 100%|██████████| 1/1 [00:00<00:00, 22.60it/s]"
     ]
    },
    {
     "name": "stdout",
     "output_type": "stream",
     "text": [
      "                   all          5         23      0.911      0.913      0.934       0.77\n"
     ]
    },
    {
     "name": "stderr",
     "output_type": "stream",
     "text": [
      "\n"
     ]
    },
    {
     "name": "stdout",
     "output_type": "stream",
     "text": [
      "\n",
      "      Epoch    GPU_mem   box_loss   cls_loss   dfl_loss  Instances       Size\n"
     ]
    },
    {
     "name": "stderr",
     "output_type": "stream",
     "text": [
      "      7/128      18.3G      1.175      2.945     0.9376        105        640: 100%|██████████| 1/1 [00:00<00:00,  3.03it/s]\n",
      "                 Class     Images  Instances      Box(P          R      mAP50  mAP50-95): 100%|██████████| 1/1 [00:00<00:00, 22.85it/s]"
     ]
    },
    {
     "name": "stdout",
     "output_type": "stream",
     "text": [
      "                   all          5         23      0.912      0.898      0.934      0.778\n"
     ]
    },
    {
     "name": "stderr",
     "output_type": "stream",
     "text": [
      "\n"
     ]
    },
    {
     "name": "stdout",
     "output_type": "stream",
     "text": [
      "\n",
      "      Epoch    GPU_mem   box_loss   cls_loss   dfl_loss  Instances       Size\n"
     ]
    },
    {
     "name": "stderr",
     "output_type": "stream",
     "text": [
      "      8/128      18.3G       1.05      2.752     0.8897        138        640: 100%|██████████| 1/1 [00:00<00:00,  3.00it/s]\n",
      "                 Class     Images  Instances      Box(P          R      mAP50  mAP50-95): 100%|██████████| 1/1 [00:00<00:00, 22.81it/s]"
     ]
    },
    {
     "name": "stdout",
     "output_type": "stream",
     "text": [
      "                   all          5         23      0.912      0.906      0.932      0.777\n"
     ]
    },
    {
     "name": "stderr",
     "output_type": "stream",
     "text": [
      "\n"
     ]
    },
    {
     "name": "stdout",
     "output_type": "stream",
     "text": [
      "\n",
      "      Epoch    GPU_mem   box_loss   cls_loss   dfl_loss  Instances       Size\n"
     ]
    },
    {
     "name": "stderr",
     "output_type": "stream",
     "text": [
      "      9/128      18.4G      1.216      2.778     0.9158        140        640: 100%|██████████| 1/1 [00:00<00:00,  2.48it/s]\n",
      "                 Class     Images  Instances      Box(P          R      mAP50  mAP50-95): 100%|██████████| 1/1 [00:00<00:00, 22.17it/s]"
     ]
    },
    {
     "name": "stdout",
     "output_type": "stream",
     "text": [
      "                   all          5         23      0.524      0.957      0.625      0.343\n"
     ]
    },
    {
     "name": "stderr",
     "output_type": "stream",
     "text": [
      "\n"
     ]
    },
    {
     "name": "stdout",
     "output_type": "stream",
     "text": [
      "\n",
      "      Epoch    GPU_mem   box_loss   cls_loss   dfl_loss  Instances       Size\n"
     ]
    },
    {
     "name": "stderr",
     "output_type": "stream",
     "text": [
      "     10/128      18.7G      2.291      9.935      1.024        132        640: 100%|██████████| 1/1 [00:00<00:00,  3.37it/s]\n",
      "                 Class     Images  Instances      Box(P          R      mAP50  mAP50-95): 100%|██████████| 1/1 [00:00<00:00, 21.03it/s]"
     ]
    },
    {
     "name": "stdout",
     "output_type": "stream",
     "text": [
      "                   all          5         23      0.537      0.957      0.592       0.31\n"
     ]
    },
    {
     "name": "stderr",
     "output_type": "stream",
     "text": [
      "\n"
     ]
    },
    {
     "name": "stdout",
     "output_type": "stream",
     "text": [
      "\n",
      "      Epoch    GPU_mem   box_loss   cls_loss   dfl_loss  Instances       Size\n"
     ]
    },
    {
     "name": "stderr",
     "output_type": "stream",
     "text": [
      "     11/128      18.8G      2.419        9.3      1.038        140        640: 100%|██████████| 1/1 [00:00<00:00,  3.37it/s]\n",
      "                 Class     Images  Instances      Box(P          R      mAP50  mAP50-95): 100%|██████████| 1/1 [00:00<00:00, 23.49it/s]"
     ]
    },
    {
     "name": "stdout",
     "output_type": "stream",
     "text": [
      "                   all          5         23      0.537      0.957      0.636      0.328\n"
     ]
    },
    {
     "name": "stderr",
     "output_type": "stream",
     "text": [
      "\n"
     ]
    },
    {
     "name": "stdout",
     "output_type": "stream",
     "text": [
      "\n",
      "      Epoch    GPU_mem   box_loss   cls_loss   dfl_loss  Instances       Size\n"
     ]
    },
    {
     "name": "stderr",
     "output_type": "stream",
     "text": [
      "     12/128      18.8G      2.388      9.383      1.021        145        640: 100%|██████████| 1/1 [00:00<00:00,  3.26it/s]\n",
      "                 Class     Images  Instances      Box(P          R      mAP50  mAP50-95): 100%|██████████| 1/1 [00:00<00:00, 21.90it/s]"
     ]
    },
    {
     "name": "stdout",
     "output_type": "stream",
     "text": [
      "                   all          5         23      0.537      0.957      0.636      0.328\n"
     ]
    },
    {
     "name": "stderr",
     "output_type": "stream",
     "text": [
      "\n"
     ]
    },
    {
     "name": "stdout",
     "output_type": "stream",
     "text": [
      "\n",
      "      Epoch    GPU_mem   box_loss   cls_loss   dfl_loss  Instances       Size\n"
     ]
    },
    {
     "name": "stderr",
     "output_type": "stream",
     "text": [
      "     13/128      18.8G      3.557       8.97      1.822        130        640: 100%|██████████| 1/1 [00:00<00:00,  3.24it/s]\n",
      "                 Class     Images  Instances      Box(P          R      mAP50  mAP50-95): 100%|██████████| 1/1 [00:00<00:00, 23.93it/s]"
     ]
    },
    {
     "name": "stdout",
     "output_type": "stream",
     "text": [
      "                   all          5         23      0.537      0.957      0.636      0.328\n"
     ]
    },
    {
     "name": "stderr",
     "output_type": "stream",
     "text": [
      "\n"
     ]
    },
    {
     "name": "stdout",
     "output_type": "stream",
     "text": [
      "\n",
      "      Epoch    GPU_mem   box_loss   cls_loss   dfl_loss  Instances       Size\n"
     ]
    },
    {
     "name": "stderr",
     "output_type": "stream",
     "text": [
      "     14/128      18.8G      2.021      5.479      1.089        127        640: 100%|██████████| 1/1 [00:00<00:00,  3.24it/s]\n",
      "                 Class     Images  Instances      Box(P          R      mAP50  mAP50-95): 100%|██████████| 1/1 [00:00<00:00, 22.67it/s]"
     ]
    },
    {
     "name": "stdout",
     "output_type": "stream",
     "text": [
      "                   all          5         23      0.537      0.957      0.636      0.328\n"
     ]
    },
    {
     "name": "stderr",
     "output_type": "stream",
     "text": [
      "\n"
     ]
    },
    {
     "name": "stdout",
     "output_type": "stream",
     "text": [
      "\n",
      "      Epoch    GPU_mem   box_loss   cls_loss   dfl_loss  Instances       Size\n"
     ]
    },
    {
     "name": "stderr",
     "output_type": "stream",
     "text": [
      "     15/128      18.8G      2.427      3.486      1.337        137        640: 100%|██████████| 1/1 [00:00<00:00,  3.29it/s]\n",
      "                 Class     Images  Instances      Box(P          R      mAP50  mAP50-95): 100%|██████████| 1/1 [00:00<00:00, 22.93it/s]"
     ]
    },
    {
     "name": "stdout",
     "output_type": "stream",
     "text": [
      "                   all          5         23      0.537      0.957      0.636      0.328\n"
     ]
    },
    {
     "name": "stderr",
     "output_type": "stream",
     "text": [
      "\n"
     ]
    },
    {
     "name": "stdout",
     "output_type": "stream",
     "text": [
      "\n",
      "      Epoch    GPU_mem   box_loss   cls_loss   dfl_loss  Instances       Size\n"
     ]
    },
    {
     "name": "stderr",
     "output_type": "stream",
     "text": [
      "     16/128      18.8G      1.329      1.824     0.9036        126        640: 100%|██████████| 1/1 [00:00<00:00,  2.97it/s]\n",
      "                 Class     Images  Instances      Box(P          R      mAP50  mAP50-95): 100%|██████████| 1/1 [00:00<00:00, 23.82it/s]"
     ]
    },
    {
     "name": "stdout",
     "output_type": "stream",
     "text": [
      "                   all          5         23      0.537      0.957      0.636      0.328\n"
     ]
    },
    {
     "name": "stderr",
     "output_type": "stream",
     "text": [
      "\n"
     ]
    },
    {
     "name": "stdout",
     "output_type": "stream",
     "text": [
      "\n",
      "      Epoch    GPU_mem   box_loss   cls_loss   dfl_loss  Instances       Size\n"
     ]
    },
    {
     "name": "stderr",
     "output_type": "stream",
     "text": [
      "     17/128      18.8G       1.19      2.177     0.8556        122        640: 100%|██████████| 1/1 [00:00<00:00,  3.23it/s]\n",
      "                 Class     Images  Instances      Box(P          R      mAP50  mAP50-95): 100%|██████████| 1/1 [00:00<00:00, 28.89it/s]"
     ]
    },
    {
     "name": "stdout",
     "output_type": "stream",
     "text": [
      "                   all          5         23      0.537      0.957      0.636      0.328\n"
     ]
    },
    {
     "name": "stderr",
     "output_type": "stream",
     "text": [
      "\n"
     ]
    },
    {
     "name": "stdout",
     "output_type": "stream",
     "text": [
      "\n",
      "      Epoch    GPU_mem   box_loss   cls_loss   dfl_loss  Instances       Size\n"
     ]
    },
    {
     "name": "stderr",
     "output_type": "stream",
     "text": [
      "     18/128      18.8G      1.322      1.818     0.9068        153        640: 100%|██████████| 1/1 [00:00<00:00,  3.17it/s]\n",
      "                 Class     Images  Instances      Box(P          R      mAP50  mAP50-95): 100%|██████████| 1/1 [00:00<00:00, 19.88it/s]"
     ]
    },
    {
     "name": "stdout",
     "output_type": "stream",
     "text": [
      "                   all          5         23      0.537      0.957      0.636      0.328\n"
     ]
    },
    {
     "name": "stderr",
     "output_type": "stream",
     "text": [
      "\n"
     ]
    },
    {
     "name": "stdout",
     "output_type": "stream",
     "text": [
      "\n",
      "      Epoch    GPU_mem   box_loss   cls_loss   dfl_loss  Instances       Size\n"
     ]
    },
    {
     "name": "stderr",
     "output_type": "stream",
     "text": [
      "     19/128      18.7G      1.096      1.282     0.8872        145        640: 100%|██████████| 1/1 [00:00<00:00,  3.12it/s]\n",
      "                 Class     Images  Instances      Box(P          R      mAP50  mAP50-95): 100%|██████████| 1/1 [00:00<00:00, 23.90it/s]"
     ]
    },
    {
     "name": "stdout",
     "output_type": "stream",
     "text": [
      "                   all          5         23      0.537      0.957      0.636      0.328\n"
     ]
    },
    {
     "name": "stderr",
     "output_type": "stream",
     "text": [
      "\n"
     ]
    },
    {
     "name": "stdout",
     "output_type": "stream",
     "text": [
      "\n",
      "      Epoch    GPU_mem   box_loss   cls_loss   dfl_loss  Instances       Size\n"
     ]
    },
    {
     "name": "stderr",
     "output_type": "stream",
     "text": [
      "     20/128      18.8G     0.8765      0.914     0.8454        118        640: 100%|██████████| 1/1 [00:00<00:00,  3.32it/s]\n",
      "                 Class     Images  Instances      Box(P          R      mAP50  mAP50-95): 100%|██████████| 1/1 [00:00<00:00, 33.07it/s]"
     ]
    },
    {
     "name": "stdout",
     "output_type": "stream",
     "text": [
      "                   all          5         23      0.537      0.957      0.636      0.328\n"
     ]
    },
    {
     "name": "stderr",
     "output_type": "stream",
     "text": [
      "\n"
     ]
    },
    {
     "name": "stdout",
     "output_type": "stream",
     "text": [
      "\n",
      "      Epoch    GPU_mem   box_loss   cls_loss   dfl_loss  Instances       Size\n"
     ]
    },
    {
     "name": "stderr",
     "output_type": "stream",
     "text": [
      "     21/128      18.8G      0.995      0.861     0.8593        120        640: 100%|██████████| 1/1 [00:00<00:00,  3.30it/s]\n",
      "                 Class     Images  Instances      Box(P          R      mAP50  mAP50-95): 100%|██████████| 1/1 [00:00<00:00, 35.36it/s]"
     ]
    },
    {
     "name": "stdout",
     "output_type": "stream",
     "text": [
      "                   all          5         23      0.537      0.957      0.636      0.328\n"
     ]
    },
    {
     "name": "stderr",
     "output_type": "stream",
     "text": [
      "\n"
     ]
    },
    {
     "name": "stdout",
     "output_type": "stream",
     "text": [
      "\n",
      "      Epoch    GPU_mem   box_loss   cls_loss   dfl_loss  Instances       Size\n"
     ]
    },
    {
     "name": "stderr",
     "output_type": "stream",
     "text": [
      "     22/128      18.8G     0.8489     0.9861     0.8187        132        640: 100%|██████████| 1/1 [00:00<00:00,  3.25it/s]\n",
      "                 Class     Images  Instances      Box(P          R      mAP50  mAP50-95): 100%|██████████| 1/1 [00:00<00:00, 34.29it/s]"
     ]
    },
    {
     "name": "stdout",
     "output_type": "stream",
     "text": [
      "                   all          5         23      0.537      0.957      0.636      0.328\n"
     ]
    },
    {
     "name": "stderr",
     "output_type": "stream",
     "text": [
      "\n"
     ]
    },
    {
     "name": "stdout",
     "output_type": "stream",
     "text": [
      "\n",
      "      Epoch    GPU_mem   box_loss   cls_loss   dfl_loss  Instances       Size\n"
     ]
    },
    {
     "name": "stderr",
     "output_type": "stream",
     "text": [
      "     23/128      18.7G     0.8815     0.7313     0.8238        126        640: 100%|██████████| 1/1 [00:00<00:00,  3.28it/s]\n",
      "                 Class     Images  Instances      Box(P          R      mAP50  mAP50-95): 100%|██████████| 1/1 [00:00<00:00, 34.86it/s]"
     ]
    },
    {
     "name": "stdout",
     "output_type": "stream",
     "text": [
      "                   all          5         23      0.537      0.957      0.636      0.328\n"
     ]
    },
    {
     "name": "stderr",
     "output_type": "stream",
     "text": [
      "\n"
     ]
    },
    {
     "name": "stdout",
     "output_type": "stream",
     "text": [
      "\n",
      "      Epoch    GPU_mem   box_loss   cls_loss   dfl_loss  Instances       Size\n"
     ]
    },
    {
     "name": "stderr",
     "output_type": "stream",
     "text": [
      "     24/128      18.8G     0.8567     0.6566     0.8183        131        640: 100%|██████████| 1/1 [00:00<00:00,  3.33it/s]\n",
      "                 Class     Images  Instances      Box(P          R      mAP50  mAP50-95): 100%|██████████| 1/1 [00:00<00:00, 31.66it/s]"
     ]
    },
    {
     "name": "stdout",
     "output_type": "stream",
     "text": [
      "                   all          5         23      0.537      0.957      0.636      0.328\n"
     ]
    },
    {
     "name": "stderr",
     "output_type": "stream",
     "text": [
      "\n"
     ]
    },
    {
     "name": "stdout",
     "output_type": "stream",
     "text": [
      "\n",
      "      Epoch    GPU_mem   box_loss   cls_loss   dfl_loss  Instances       Size\n"
     ]
    },
    {
     "name": "stderr",
     "output_type": "stream",
     "text": [
      "     25/128      18.8G     0.8873     0.8017     0.8324        111        640: 100%|██████████| 1/1 [00:00<00:00,  3.27it/s]\n",
      "                 Class     Images  Instances      Box(P          R      mAP50  mAP50-95): 100%|██████████| 1/1 [00:00<00:00, 31.50it/s]"
     ]
    },
    {
     "name": "stdout",
     "output_type": "stream",
     "text": [
      "                   all          5         23      0.537      0.957      0.636      0.328\n"
     ]
    },
    {
     "name": "stderr",
     "output_type": "stream",
     "text": [
      "\n"
     ]
    },
    {
     "name": "stdout",
     "output_type": "stream",
     "text": [
      "\n",
      "      Epoch    GPU_mem   box_loss   cls_loss   dfl_loss  Instances       Size\n"
     ]
    },
    {
     "name": "stderr",
     "output_type": "stream",
     "text": [
      "     26/128      18.8G     0.8544     0.6535     0.8265        154        640: 100%|██████████| 1/1 [00:00<00:00,  3.22it/s]\n",
      "                 Class     Images  Instances      Box(P          R      mAP50  mAP50-95): 100%|██████████| 1/1 [00:00<00:00, 25.20it/s]"
     ]
    },
    {
     "name": "stdout",
     "output_type": "stream",
     "text": [
      "                   all          5         23      0.537      0.957      0.636      0.328\n"
     ]
    },
    {
     "name": "stderr",
     "output_type": "stream",
     "text": [
      "\n"
     ]
    },
    {
     "name": "stdout",
     "output_type": "stream",
     "text": [
      "\n",
      "      Epoch    GPU_mem   box_loss   cls_loss   dfl_loss  Instances       Size\n"
     ]
    },
    {
     "name": "stderr",
     "output_type": "stream",
     "text": [
      "     27/128      18.8G     0.8254     0.6545     0.8792         95        640: 100%|██████████| 1/1 [00:00<00:00,  3.26it/s]\n",
      "                 Class     Images  Instances      Box(P          R      mAP50  mAP50-95): 100%|██████████| 1/1 [00:00<00:00, 33.35it/s]"
     ]
    },
    {
     "name": "stdout",
     "output_type": "stream",
     "text": [
      "                   all          5         23      0.537      0.957      0.636      0.328\n"
     ]
    },
    {
     "name": "stderr",
     "output_type": "stream",
     "text": [
      "\n"
     ]
    },
    {
     "name": "stdout",
     "output_type": "stream",
     "text": [
      "\n",
      "      Epoch    GPU_mem   box_loss   cls_loss   dfl_loss  Instances       Size\n"
     ]
    },
    {
     "name": "stderr",
     "output_type": "stream",
     "text": [
      "     28/128      18.8G     0.9367     0.6597     0.8509        121        640: 100%|██████████| 1/1 [00:00<00:00,  3.27it/s]\n",
      "                 Class     Images  Instances      Box(P          R      mAP50  mAP50-95): 100%|██████████| 1/1 [00:00<00:00, 34.36it/s]"
     ]
    },
    {
     "name": "stdout",
     "output_type": "stream",
     "text": [
      "                   all          5         23      0.537      0.957      0.636      0.328\n"
     ]
    },
    {
     "name": "stderr",
     "output_type": "stream",
     "text": [
      "\n"
     ]
    },
    {
     "name": "stdout",
     "output_type": "stream",
     "text": [
      "\n",
      "      Epoch    GPU_mem   box_loss   cls_loss   dfl_loss  Instances       Size\n"
     ]
    },
    {
     "name": "stderr",
     "output_type": "stream",
     "text": [
      "     29/128      18.8G     0.8247     0.6076     0.8274        119        640: 100%|██████████| 1/1 [00:00<00:00,  3.27it/s]\n",
      "                 Class     Images  Instances      Box(P          R      mAP50  mAP50-95): 100%|██████████| 1/1 [00:00<00:00, 33.63it/s]"
     ]
    },
    {
     "name": "stdout",
     "output_type": "stream",
     "text": [
      "                   all          5         23      0.537      0.957      0.636      0.328\n"
     ]
    },
    {
     "name": "stderr",
     "output_type": "stream",
     "text": [
      "\n"
     ]
    },
    {
     "name": "stdout",
     "output_type": "stream",
     "text": [
      "\n",
      "      Epoch    GPU_mem   box_loss   cls_loss   dfl_loss  Instances       Size\n"
     ]
    },
    {
     "name": "stderr",
     "output_type": "stream",
     "text": [
      "     30/128      18.8G     0.8139     0.5854     0.8238        109        640: 100%|██████████| 1/1 [00:00<00:00,  3.30it/s]\n",
      "                 Class     Images  Instances      Box(P          R      mAP50  mAP50-95): 100%|██████████| 1/1 [00:00<00:00, 31.92it/s]"
     ]
    },
    {
     "name": "stdout",
     "output_type": "stream",
     "text": [
      "                   all          5         23      0.537      0.957      0.636      0.328\n"
     ]
    },
    {
     "name": "stderr",
     "output_type": "stream",
     "text": [
      "\n"
     ]
    },
    {
     "name": "stdout",
     "output_type": "stream",
     "text": [
      "\n",
      "      Epoch    GPU_mem   box_loss   cls_loss   dfl_loss  Instances       Size\n"
     ]
    },
    {
     "name": "stderr",
     "output_type": "stream",
     "text": [
      "     31/128      18.8G     0.8864      0.571     0.8343        115        640: 100%|██████████| 1/1 [00:00<00:00,  3.69it/s]\n",
      "                 Class     Images  Instances      Box(P          R      mAP50  mAP50-95): 100%|██████████| 1/1 [00:00<00:00, 30.71it/s]"
     ]
    },
    {
     "name": "stdout",
     "output_type": "stream",
     "text": [
      "                   all          5         23      0.537      0.957      0.636      0.328\n"
     ]
    },
    {
     "name": "stderr",
     "output_type": "stream",
     "text": [
      "\n"
     ]
    },
    {
     "name": "stdout",
     "output_type": "stream",
     "text": [
      "\n",
      "      Epoch    GPU_mem   box_loss   cls_loss   dfl_loss  Instances       Size\n"
     ]
    },
    {
     "name": "stderr",
     "output_type": "stream",
     "text": [
      "     32/128      18.8G     0.9535      0.568       0.84        144        640: 100%|██████████| 1/1 [00:00<00:00,  3.49it/s]\n",
      "                 Class     Images  Instances      Box(P          R      mAP50  mAP50-95): 100%|██████████| 1/1 [00:00<00:00, 35.48it/s]"
     ]
    },
    {
     "name": "stdout",
     "output_type": "stream",
     "text": [
      "                   all          5         23      0.537      0.957      0.636      0.328\n"
     ]
    },
    {
     "name": "stderr",
     "output_type": "stream",
     "text": [
      "\n"
     ]
    },
    {
     "name": "stdout",
     "output_type": "stream",
     "text": [
      "\n",
      "      Epoch    GPU_mem   box_loss   cls_loss   dfl_loss  Instances       Size\n"
     ]
    },
    {
     "name": "stderr",
     "output_type": "stream",
     "text": [
      "     33/128      18.7G     0.8583     0.5184     0.8274        147        640: 100%|██████████| 1/1 [00:00<00:00,  3.65it/s]\n",
      "                 Class     Images  Instances      Box(P          R      mAP50  mAP50-95): 100%|██████████| 1/1 [00:00<00:00, 32.91it/s]"
     ]
    },
    {
     "name": "stdout",
     "output_type": "stream",
     "text": [
      "                   all          5         23      0.537      0.957      0.636      0.328\n"
     ]
    },
    {
     "name": "stderr",
     "output_type": "stream",
     "text": [
      "\n"
     ]
    },
    {
     "name": "stdout",
     "output_type": "stream",
     "text": [
      "\n",
      "      Epoch    GPU_mem   box_loss   cls_loss   dfl_loss  Instances       Size\n"
     ]
    },
    {
     "name": "stderr",
     "output_type": "stream",
     "text": [
      "     34/128      18.8G     0.8166     0.4836     0.8279        115        640: 100%|██████████| 1/1 [00:00<00:00,  3.47it/s]\n",
      "                 Class     Images  Instances      Box(P          R      mAP50  mAP50-95): 100%|██████████| 1/1 [00:00<00:00, 34.27it/s]"
     ]
    },
    {
     "name": "stdout",
     "output_type": "stream",
     "text": [
      "                   all          5         23      0.537      0.957      0.636      0.328\n"
     ]
    },
    {
     "name": "stderr",
     "output_type": "stream",
     "text": [
      "\n"
     ]
    },
    {
     "name": "stdout",
     "output_type": "stream",
     "text": [
      "\n",
      "      Epoch    GPU_mem   box_loss   cls_loss   dfl_loss  Instances       Size\n"
     ]
    },
    {
     "name": "stderr",
     "output_type": "stream",
     "text": [
      "     35/128      18.8G     0.8714     0.5048      0.871         91        640: 100%|██████████| 1/1 [00:00<00:00,  3.64it/s]\n",
      "                 Class     Images  Instances      Box(P          R      mAP50  mAP50-95): 100%|██████████| 1/1 [00:00<00:00, 32.15it/s]"
     ]
    },
    {
     "name": "stdout",
     "output_type": "stream",
     "text": [
      "                   all          5         23      0.537      0.957      0.636      0.328\n"
     ]
    },
    {
     "name": "stderr",
     "output_type": "stream",
     "text": [
      "\n"
     ]
    },
    {
     "name": "stdout",
     "output_type": "stream",
     "text": [
      "\n",
      "      Epoch    GPU_mem   box_loss   cls_loss   dfl_loss  Instances       Size\n"
     ]
    },
    {
     "name": "stderr",
     "output_type": "stream",
     "text": [
      "     36/128      18.8G     0.8741     0.4984     0.8431        127        640: 100%|██████████| 1/1 [00:00<00:00,  3.37it/s]\n",
      "                 Class     Images  Instances      Box(P          R      mAP50  mAP50-95): 100%|██████████| 1/1 [00:00<00:00, 32.32it/s]"
     ]
    },
    {
     "name": "stdout",
     "output_type": "stream",
     "text": [
      "                   all          5         23      0.537      0.957      0.636      0.328\n"
     ]
    },
    {
     "name": "stderr",
     "output_type": "stream",
     "text": [
      "\n"
     ]
    },
    {
     "name": "stdout",
     "output_type": "stream",
     "text": [
      "\n",
      "      Epoch    GPU_mem   box_loss   cls_loss   dfl_loss  Instances       Size\n"
     ]
    },
    {
     "name": "stderr",
     "output_type": "stream",
     "text": [
      "     37/128      18.8G      0.899     0.5105     0.8388        125        640: 100%|██████████| 1/1 [00:00<00:00,  3.55it/s]\n",
      "                 Class     Images  Instances      Box(P          R      mAP50  mAP50-95): 100%|██████████| 1/1 [00:00<00:00, 30.80it/s]"
     ]
    },
    {
     "name": "stdout",
     "output_type": "stream",
     "text": [
      "                   all          5         23      0.537      0.957      0.636      0.328\n"
     ]
    },
    {
     "name": "stderr",
     "output_type": "stream",
     "text": [
      "\n"
     ]
    },
    {
     "name": "stdout",
     "output_type": "stream",
     "text": [
      "\n",
      "      Epoch    GPU_mem   box_loss   cls_loss   dfl_loss  Instances       Size\n"
     ]
    },
    {
     "name": "stderr",
     "output_type": "stream",
     "text": [
      "     38/128      18.9G     0.8519     0.5169     0.8641        118        640: 100%|██████████| 1/1 [00:00<00:00,  3.43it/s]\n",
      "                 Class     Images  Instances      Box(P          R      mAP50  mAP50-95): 100%|██████████| 1/1 [00:00<00:00, 32.92it/s]"
     ]
    },
    {
     "name": "stdout",
     "output_type": "stream",
     "text": [
      "                   all          5         23      0.537      0.957      0.636      0.328\n"
     ]
    },
    {
     "name": "stderr",
     "output_type": "stream",
     "text": [
      "\n"
     ]
    },
    {
     "name": "stdout",
     "output_type": "stream",
     "text": [
      "\n",
      "      Epoch    GPU_mem   box_loss   cls_loss   dfl_loss  Instances       Size\n"
     ]
    },
    {
     "name": "stderr",
     "output_type": "stream",
     "text": [
      "     39/128      18.8G      0.919     0.5246     0.8342        137        640: 100%|██████████| 1/1 [00:00<00:00,  3.61it/s]\n",
      "                 Class     Images  Instances      Box(P          R      mAP50  mAP50-95): 100%|██████████| 1/1 [00:00<00:00, 34.48it/s]"
     ]
    },
    {
     "name": "stdout",
     "output_type": "stream",
     "text": [
      "                   all          5         23      0.537      0.957      0.636      0.328\n"
     ]
    },
    {
     "name": "stderr",
     "output_type": "stream",
     "text": [
      "\n"
     ]
    },
    {
     "name": "stdout",
     "output_type": "stream",
     "text": [
      "\n",
      "      Epoch    GPU_mem   box_loss   cls_loss   dfl_loss  Instances       Size\n"
     ]
    },
    {
     "name": "stderr",
     "output_type": "stream",
     "text": [
      "     40/128      18.8G     0.8338     0.5096     0.8448        122        640: 100%|██████████| 1/1 [00:00<00:00,  3.46it/s]\n",
      "                 Class     Images  Instances      Box(P          R      mAP50  mAP50-95): 100%|██████████| 1/1 [00:00<00:00, 33.79it/s]"
     ]
    },
    {
     "name": "stdout",
     "output_type": "stream",
     "text": [
      "                   all          5         23      0.537      0.957      0.636      0.328\n"
     ]
    },
    {
     "name": "stderr",
     "output_type": "stream",
     "text": [
      "\n"
     ]
    },
    {
     "name": "stdout",
     "output_type": "stream",
     "text": [
      "\n",
      "      Epoch    GPU_mem   box_loss   cls_loss   dfl_loss  Instances       Size\n"
     ]
    },
    {
     "name": "stderr",
     "output_type": "stream",
     "text": [
      "     41/128      18.8G     0.7769       0.49     0.8168        139        640: 100%|██████████| 1/1 [00:00<00:00,  3.63it/s]\n",
      "                 Class     Images  Instances      Box(P          R      mAP50  mAP50-95): 100%|██████████| 1/1 [00:00<00:00, 32.91it/s]"
     ]
    },
    {
     "name": "stdout",
     "output_type": "stream",
     "text": [
      "                   all          5         23      0.537      0.957      0.636      0.328\n"
     ]
    },
    {
     "name": "stderr",
     "output_type": "stream",
     "text": [
      "\n"
     ]
    },
    {
     "name": "stdout",
     "output_type": "stream",
     "text": [
      "\n",
      "      Epoch    GPU_mem   box_loss   cls_loss   dfl_loss  Instances       Size\n"
     ]
    },
    {
     "name": "stderr",
     "output_type": "stream",
     "text": [
      "     42/128      18.9G      0.705     0.4982     0.8218        115        640: 100%|██████████| 1/1 [00:00<00:00,  3.43it/s]\n",
      "                 Class     Images  Instances      Box(P          R      mAP50  mAP50-95): 100%|██████████| 1/1 [00:00<00:00, 33.11it/s]"
     ]
    },
    {
     "name": "stdout",
     "output_type": "stream",
     "text": [
      "                   all          5         23      0.537      0.957      0.636      0.328\n"
     ]
    },
    {
     "name": "stderr",
     "output_type": "stream",
     "text": [
      "\n"
     ]
    },
    {
     "name": "stdout",
     "output_type": "stream",
     "text": [
      "\n",
      "      Epoch    GPU_mem   box_loss   cls_loss   dfl_loss  Instances       Size\n"
     ]
    },
    {
     "name": "stderr",
     "output_type": "stream",
     "text": [
      "     43/128      18.8G     0.7879     0.4719     0.8123        116        640: 100%|██████████| 1/1 [00:00<00:00,  3.68it/s]\n",
      "                 Class     Images  Instances      Box(P          R      mAP50  mAP50-95): 100%|██████████| 1/1 [00:00<00:00, 33.37it/s]"
     ]
    },
    {
     "name": "stdout",
     "output_type": "stream",
     "text": [
      "                   all          5         23      0.537      0.957      0.636      0.328\n"
     ]
    },
    {
     "name": "stderr",
     "output_type": "stream",
     "text": [
      "\n"
     ]
    },
    {
     "name": "stdout",
     "output_type": "stream",
     "text": [
      "\n",
      "      Epoch    GPU_mem   box_loss   cls_loss   dfl_loss  Instances       Size\n"
     ]
    },
    {
     "name": "stderr",
     "output_type": "stream",
     "text": [
      "     44/128      18.8G     0.9424     0.4951     0.8523        126        640: 100%|██████████| 1/1 [00:00<00:00,  3.34it/s]\n",
      "                 Class     Images  Instances      Box(P          R      mAP50  mAP50-95): 100%|██████████| 1/1 [00:00<00:00, 26.54it/s]"
     ]
    },
    {
     "name": "stdout",
     "output_type": "stream",
     "text": [
      "                   all          5         23      0.537      0.957      0.636      0.328\n"
     ]
    },
    {
     "name": "stderr",
     "output_type": "stream",
     "text": [
      "\n"
     ]
    },
    {
     "name": "stdout",
     "output_type": "stream",
     "text": [
      "\n",
      "      Epoch    GPU_mem   box_loss   cls_loss   dfl_loss  Instances       Size\n"
     ]
    },
    {
     "name": "stderr",
     "output_type": "stream",
     "text": [
      "     45/128      18.8G     0.8893     0.5382     0.8307        171        640: 100%|██████████| 1/1 [00:00<00:00,  3.70it/s]\n",
      "                 Class     Images  Instances      Box(P          R      mAP50  mAP50-95): 100%|██████████| 1/1 [00:00<00:00, 32.45it/s]"
     ]
    },
    {
     "name": "stdout",
     "output_type": "stream",
     "text": [
      "                   all          5         23      0.537      0.957      0.636      0.328\n"
     ]
    },
    {
     "name": "stderr",
     "output_type": "stream",
     "text": [
      "\n"
     ]
    },
    {
     "name": "stdout",
     "output_type": "stream",
     "text": [
      "\n",
      "      Epoch    GPU_mem   box_loss   cls_loss   dfl_loss  Instances       Size\n"
     ]
    },
    {
     "name": "stderr",
     "output_type": "stream",
     "text": [
      "     46/128      18.8G      0.816     0.4995     0.8294        144        640: 100%|██████████| 1/1 [00:00<00:00,  3.47it/s]\n",
      "                 Class     Images  Instances      Box(P          R      mAP50  mAP50-95): 100%|██████████| 1/1 [00:00<00:00, 33.94it/s]"
     ]
    },
    {
     "name": "stdout",
     "output_type": "stream",
     "text": [
      "                   all          5         23      0.537      0.957      0.636      0.328\n"
     ]
    },
    {
     "name": "stderr",
     "output_type": "stream",
     "text": [
      "\n"
     ]
    },
    {
     "name": "stdout",
     "output_type": "stream",
     "text": [
      "\n",
      "      Epoch    GPU_mem   box_loss   cls_loss   dfl_loss  Instances       Size\n"
     ]
    },
    {
     "name": "stderr",
     "output_type": "stream",
     "text": [
      "     47/128      18.8G     0.8272     0.5008     0.8173        136        640: 100%|██████████| 1/1 [00:00<00:00,  3.68it/s]\n",
      "                 Class     Images  Instances      Box(P          R      mAP50  mAP50-95): 100%|██████████| 1/1 [00:00<00:00, 31.89it/s]"
     ]
    },
    {
     "name": "stdout",
     "output_type": "stream",
     "text": [
      "                   all          5         23      0.537      0.957      0.636      0.328\n"
     ]
    },
    {
     "name": "stderr",
     "output_type": "stream",
     "text": [
      "\n"
     ]
    },
    {
     "name": "stdout",
     "output_type": "stream",
     "text": [
      "\n",
      "      Epoch    GPU_mem   box_loss   cls_loss   dfl_loss  Instances       Size\n"
     ]
    },
    {
     "name": "stderr",
     "output_type": "stream",
     "text": [
      "     48/128      18.9G     0.8356     0.5153     0.8115        128        640: 100%|██████████| 1/1 [00:00<00:00,  3.18it/s]\n",
      "                 Class     Images  Instances      Box(P          R      mAP50  mAP50-95): 100%|██████████| 1/1 [00:00<00:00, 29.04it/s]"
     ]
    },
    {
     "name": "stdout",
     "output_type": "stream",
     "text": [
      "                   all          5         23      0.537      0.957      0.636      0.328\n"
     ]
    },
    {
     "name": "stderr",
     "output_type": "stream",
     "text": [
      "\n"
     ]
    },
    {
     "name": "stdout",
     "output_type": "stream",
     "text": [
      "\n",
      "      Epoch    GPU_mem   box_loss   cls_loss   dfl_loss  Instances       Size\n"
     ]
    },
    {
     "name": "stderr",
     "output_type": "stream",
     "text": [
      "     49/128      18.7G     0.7964     0.4558     0.7927        145        640: 100%|██████████| 1/1 [00:00<00:00,  3.59it/s]\n",
      "                 Class     Images  Instances      Box(P          R      mAP50  mAP50-95): 100%|██████████| 1/1 [00:00<00:00, 31.97it/s]"
     ]
    },
    {
     "name": "stdout",
     "output_type": "stream",
     "text": [
      "                   all          5         23      0.537      0.957      0.636      0.328\n"
     ]
    },
    {
     "name": "stderr",
     "output_type": "stream",
     "text": [
      "\n"
     ]
    },
    {
     "name": "stdout",
     "output_type": "stream",
     "text": [
      "\n",
      "      Epoch    GPU_mem   box_loss   cls_loss   dfl_loss  Instances       Size\n"
     ]
    },
    {
     "name": "stderr",
     "output_type": "stream",
     "text": [
      "     50/128      18.8G     0.7344     0.4882     0.8302         86        640: 100%|██████████| 1/1 [00:00<00:00,  3.47it/s]\n",
      "                 Class     Images  Instances      Box(P          R      mAP50  mAP50-95): 100%|██████████| 1/1 [00:00<00:00, 34.39it/s]"
     ]
    },
    {
     "name": "stdout",
     "output_type": "stream",
     "text": [
      "                   all          5         23      0.537      0.957      0.636      0.328\n"
     ]
    },
    {
     "name": "stderr",
     "output_type": "stream",
     "text": [
      "\n"
     ]
    },
    {
     "name": "stdout",
     "output_type": "stream",
     "text": [
      "\n",
      "      Epoch    GPU_mem   box_loss   cls_loss   dfl_loss  Instances       Size\n"
     ]
    },
    {
     "name": "stderr",
     "output_type": "stream",
     "text": [
      "     51/128      18.7G     0.7833     0.4821     0.8333        124        640: 100%|██████████| 1/1 [00:00<00:00,  3.67it/s]\n",
      "                 Class     Images  Instances      Box(P          R      mAP50  mAP50-95): 100%|██████████| 1/1 [00:00<00:00, 33.30it/s]"
     ]
    },
    {
     "name": "stdout",
     "output_type": "stream",
     "text": [
      "                   all          5         23      0.537      0.957      0.636      0.328\n"
     ]
    },
    {
     "name": "stderr",
     "output_type": "stream",
     "text": [
      "\n"
     ]
    },
    {
     "name": "stdout",
     "output_type": "stream",
     "text": [
      "\n",
      "      Epoch    GPU_mem   box_loss   cls_loss   dfl_loss  Instances       Size\n"
     ]
    },
    {
     "name": "stderr",
     "output_type": "stream",
     "text": [
      "     52/128      18.8G     0.7725     0.4844     0.8116        120        640: 100%|██████████| 1/1 [00:00<00:00,  3.48it/s]\n",
      "                 Class     Images  Instances      Box(P          R      mAP50  mAP50-95): 100%|██████████| 1/1 [00:00<00:00, 33.36it/s]"
     ]
    },
    {
     "name": "stdout",
     "output_type": "stream",
     "text": [
      "                   all          5         23      0.537      0.957      0.636      0.328\n"
     ]
    },
    {
     "name": "stderr",
     "output_type": "stream",
     "text": [
      "\n"
     ]
    },
    {
     "name": "stdout",
     "output_type": "stream",
     "text": [
      "\n",
      "      Epoch    GPU_mem   box_loss   cls_loss   dfl_loss  Instances       Size\n"
     ]
    },
    {
     "name": "stderr",
     "output_type": "stream",
     "text": [
      "     53/128      18.8G     0.7746     0.4461     0.8093        109        640: 100%|██████████| 1/1 [00:00<00:00,  3.65it/s]\n",
      "                 Class     Images  Instances      Box(P          R      mAP50  mAP50-95): 100%|██████████| 1/1 [00:00<00:00, 33.70it/s]"
     ]
    },
    {
     "name": "stdout",
     "output_type": "stream",
     "text": [
      "                   all          5         23      0.537      0.957      0.636      0.328\n"
     ]
    },
    {
     "name": "stderr",
     "output_type": "stream",
     "text": [
      "\n"
     ]
    },
    {
     "name": "stdout",
     "output_type": "stream",
     "text": [
      "\n",
      "      Epoch    GPU_mem   box_loss   cls_loss   dfl_loss  Instances       Size\n"
     ]
    },
    {
     "name": "stderr",
     "output_type": "stream",
     "text": [
      "     54/128      18.8G     0.8211     0.4607     0.8206        149        640: 100%|██████████| 1/1 [00:00<00:00,  3.46it/s]\n",
      "                 Class     Images  Instances      Box(P          R      mAP50  mAP50-95): 100%|██████████| 1/1 [00:00<00:00, 33.69it/s]"
     ]
    },
    {
     "name": "stdout",
     "output_type": "stream",
     "text": [
      "                   all          5         23      0.537      0.957      0.636      0.328\n"
     ]
    },
    {
     "name": "stderr",
     "output_type": "stream",
     "text": [
      "\n"
     ]
    },
    {
     "name": "stdout",
     "output_type": "stream",
     "text": [
      "\n",
      "      Epoch    GPU_mem   box_loss   cls_loss   dfl_loss  Instances       Size\n"
     ]
    },
    {
     "name": "stderr",
     "output_type": "stream",
     "text": [
      "     55/128      18.8G     0.7382     0.4478     0.8562        127        640: 100%|██████████| 1/1 [00:00<00:00,  3.64it/s]\n",
      "                 Class     Images  Instances      Box(P          R      mAP50  mAP50-95): 100%|██████████| 1/1 [00:00<00:00, 24.81it/s]"
     ]
    },
    {
     "name": "stdout",
     "output_type": "stream",
     "text": [
      "                   all          5         23      0.537      0.957      0.636      0.328\n"
     ]
    },
    {
     "name": "stderr",
     "output_type": "stream",
     "text": [
      "\n"
     ]
    },
    {
     "name": "stdout",
     "output_type": "stream",
     "text": [
      "\n",
      "      Epoch    GPU_mem   box_loss   cls_loss   dfl_loss  Instances       Size\n"
     ]
    },
    {
     "name": "stderr",
     "output_type": "stream",
     "text": [
      "     56/128      18.8G     0.7611     0.4571     0.8145        159        640: 100%|██████████| 1/1 [00:00<00:00,  3.50it/s]\n",
      "                 Class     Images  Instances      Box(P          R      mAP50  mAP50-95): 100%|██████████| 1/1 [00:00<00:00, 35.41it/s]"
     ]
    },
    {
     "name": "stdout",
     "output_type": "stream",
     "text": [
      "                   all          5         23      0.537      0.957      0.636      0.328\n"
     ]
    },
    {
     "name": "stderr",
     "output_type": "stream",
     "text": [
      "\n"
     ]
    },
    {
     "name": "stdout",
     "output_type": "stream",
     "text": [
      "\n",
      "      Epoch    GPU_mem   box_loss   cls_loss   dfl_loss  Instances       Size\n"
     ]
    },
    {
     "name": "stderr",
     "output_type": "stream",
     "text": [
      "     57/128      18.8G     0.7992     0.4514      0.797        130        640: 100%|██████████| 1/1 [00:00<00:00,  3.62it/s]\n",
      "                 Class     Images  Instances      Box(P          R      mAP50  mAP50-95): 100%|██████████| 1/1 [00:00<00:00, 30.71it/s]"
     ]
    },
    {
     "name": "stdout",
     "output_type": "stream",
     "text": [
      "                   all          5         23      0.537      0.957      0.636      0.328\n"
     ]
    },
    {
     "name": "stderr",
     "output_type": "stream",
     "text": [
      "\n"
     ]
    },
    {
     "name": "stdout",
     "output_type": "stream",
     "text": [
      "\n",
      "      Epoch    GPU_mem   box_loss   cls_loss   dfl_loss  Instances       Size\n"
     ]
    },
    {
     "name": "stderr",
     "output_type": "stream",
     "text": [
      "     58/128      18.8G     0.7664     0.4134     0.8209        135        640: 100%|██████████| 1/1 [00:00<00:00,  3.46it/s]\n",
      "                 Class     Images  Instances      Box(P          R      mAP50  mAP50-95): 100%|██████████| 1/1 [00:00<00:00, 34.29it/s]"
     ]
    },
    {
     "name": "stdout",
     "output_type": "stream",
     "text": [
      "                   all          5         23      0.537      0.957      0.636      0.328\n"
     ]
    },
    {
     "name": "stderr",
     "output_type": "stream",
     "text": [
      "\n"
     ]
    },
    {
     "name": "stdout",
     "output_type": "stream",
     "text": [
      "\n",
      "      Epoch    GPU_mem   box_loss   cls_loss   dfl_loss  Instances       Size\n"
     ]
    },
    {
     "name": "stderr",
     "output_type": "stream",
     "text": [
      "     59/128      18.8G     0.7146     0.4365     0.8029        155        640: 100%|██████████| 1/1 [00:00<00:00,  3.68it/s]\n",
      "                 Class     Images  Instances      Box(P          R      mAP50  mAP50-95): 100%|██████████| 1/1 [00:00<00:00, 33.21it/s]"
     ]
    },
    {
     "name": "stdout",
     "output_type": "stream",
     "text": [
      "                   all          5         23      0.537      0.957      0.636      0.328\n"
     ]
    },
    {
     "name": "stderr",
     "output_type": "stream",
     "text": [
      "\n"
     ]
    },
    {
     "name": "stdout",
     "output_type": "stream",
     "text": [
      "\n",
      "      Epoch    GPU_mem   box_loss   cls_loss   dfl_loss  Instances       Size\n"
     ]
    },
    {
     "name": "stderr",
     "output_type": "stream",
     "text": [
      "     60/128      18.8G     0.6732     0.4554     0.8442         96        640: 100%|██████████| 1/1 [00:00<00:00,  3.44it/s]\n",
      "                 Class     Images  Instances      Box(P          R      mAP50  mAP50-95): 100%|██████████| 1/1 [00:00<00:00, 33.89it/s]"
     ]
    },
    {
     "name": "stdout",
     "output_type": "stream",
     "text": [
      "                   all          5         23      0.537      0.957      0.636      0.328\n"
     ]
    },
    {
     "name": "stderr",
     "output_type": "stream",
     "text": [
      "\n"
     ]
    },
    {
     "name": "stdout",
     "output_type": "stream",
     "text": [
      "\n",
      "      Epoch    GPU_mem   box_loss   cls_loss   dfl_loss  Instances       Size\n"
     ]
    },
    {
     "name": "stderr",
     "output_type": "stream",
     "text": [
      "     61/128      18.7G     0.8003     0.4687     0.8258        161        640: 100%|██████████| 1/1 [00:00<00:00,  3.62it/s]\n",
      "                 Class     Images  Instances      Box(P          R      mAP50  mAP50-95): 100%|██████████| 1/1 [00:00<00:00, 34.28it/s]"
     ]
    },
    {
     "name": "stdout",
     "output_type": "stream",
     "text": [
      "                   all          5         23      0.537      0.957      0.636      0.328\n"
     ]
    },
    {
     "name": "stderr",
     "output_type": "stream",
     "text": [
      "\n"
     ]
    },
    {
     "name": "stdout",
     "output_type": "stream",
     "text": [
      "\n",
      "      Epoch    GPU_mem   box_loss   cls_loss   dfl_loss  Instances       Size\n"
     ]
    },
    {
     "name": "stderr",
     "output_type": "stream",
     "text": [
      "     62/128      18.8G     0.7297     0.4632     0.8291        118        640: 100%|██████████| 1/1 [00:00<00:00,  3.35it/s]\n",
      "                 Class     Images  Instances      Box(P          R      mAP50  mAP50-95): 100%|██████████| 1/1 [00:00<00:00, 25.62it/s]"
     ]
    },
    {
     "name": "stdout",
     "output_type": "stream",
     "text": [
      "                   all          5         23      0.537      0.957      0.636      0.328\n"
     ]
    },
    {
     "name": "stderr",
     "output_type": "stream",
     "text": [
      "\n"
     ]
    },
    {
     "name": "stdout",
     "output_type": "stream",
     "text": [
      "\n",
      "      Epoch    GPU_mem   box_loss   cls_loss   dfl_loss  Instances       Size\n"
     ]
    },
    {
     "name": "stderr",
     "output_type": "stream",
     "text": [
      "     63/128      18.8G     0.6889      0.418     0.8195        120        640: 100%|██████████| 1/1 [00:00<00:00,  3.68it/s]\n",
      "                 Class     Images  Instances      Box(P          R      mAP50  mAP50-95): 100%|██████████| 1/1 [00:00<00:00, 34.90it/s]"
     ]
    },
    {
     "name": "stdout",
     "output_type": "stream",
     "text": [
      "                   all          5         23      0.537      0.957      0.636      0.328\n"
     ]
    },
    {
     "name": "stderr",
     "output_type": "stream",
     "text": [
      "\n"
     ]
    },
    {
     "name": "stdout",
     "output_type": "stream",
     "text": [
      "\n",
      "      Epoch    GPU_mem   box_loss   cls_loss   dfl_loss  Instances       Size\n"
     ]
    },
    {
     "name": "stderr",
     "output_type": "stream",
     "text": [
      "     64/128      18.8G     0.6966     0.4245     0.8156        102        640: 100%|██████████| 1/1 [00:00<00:00,  3.48it/s]\n",
      "                 Class     Images  Instances      Box(P          R      mAP50  mAP50-95): 100%|██████████| 1/1 [00:00<00:00, 31.34it/s]"
     ]
    },
    {
     "name": "stdout",
     "output_type": "stream",
     "text": [
      "                   all          5         23      0.537      0.957      0.636      0.328\n"
     ]
    },
    {
     "name": "stderr",
     "output_type": "stream",
     "text": [
      "\n"
     ]
    },
    {
     "name": "stdout",
     "output_type": "stream",
     "text": [
      "\n",
      "      Epoch    GPU_mem   box_loss   cls_loss   dfl_loss  Instances       Size\n"
     ]
    },
    {
     "name": "stderr",
     "output_type": "stream",
     "text": [
      "     65/128      18.8G     0.7491     0.4997     0.8162        152        640: 100%|██████████| 1/1 [00:00<00:00,  3.57it/s]\n",
      "                 Class     Images  Instances      Box(P          R      mAP50  mAP50-95): 100%|██████████| 1/1 [00:00<00:00, 32.68it/s]"
     ]
    },
    {
     "name": "stdout",
     "output_type": "stream",
     "text": [
      "                   all          5         23      0.537      0.957      0.636      0.328\n"
     ]
    },
    {
     "name": "stderr",
     "output_type": "stream",
     "text": [
      "\n"
     ]
    },
    {
     "name": "stdout",
     "output_type": "stream",
     "text": [
      "\n",
      "      Epoch    GPU_mem   box_loss   cls_loss   dfl_loss  Instances       Size\n"
     ]
    },
    {
     "name": "stderr",
     "output_type": "stream",
     "text": [
      "     66/128      18.8G     0.8028      0.505     0.8257        140        640: 100%|██████████| 1/1 [00:00<00:00,  3.29it/s]\n",
      "                 Class     Images  Instances      Box(P          R      mAP50  mAP50-95): 100%|██████████| 1/1 [00:00<00:00, 20.61it/s]"
     ]
    },
    {
     "name": "stdout",
     "output_type": "stream",
     "text": [
      "                   all          5         23      0.245      0.888      0.229      0.181\n"
     ]
    },
    {
     "name": "stderr",
     "output_type": "stream",
     "text": [
      "\n"
     ]
    },
    {
     "name": "stdout",
     "output_type": "stream",
     "text": [
      "\n",
      "      Epoch    GPU_mem   box_loss   cls_loss   dfl_loss  Instances       Size\n"
     ]
    },
    {
     "name": "stderr",
     "output_type": "stream",
     "text": [
      "     67/128      18.8G     0.7658     0.4412     0.8308        107        640: 100%|██████████| 1/1 [00:00<00:00,  3.61it/s]\n",
      "                 Class     Images  Instances      Box(P          R      mAP50  mAP50-95): 100%|██████████| 1/1 [00:00<00:00, 23.58it/s]"
     ]
    },
    {
     "name": "stdout",
     "output_type": "stream",
     "text": [
      "                   all          5         23      0.245      0.888      0.229      0.181\n"
     ]
    },
    {
     "name": "stderr",
     "output_type": "stream",
     "text": [
      "\n"
     ]
    },
    {
     "name": "stdout",
     "output_type": "stream",
     "text": [
      "\n",
      "      Epoch    GPU_mem   box_loss   cls_loss   dfl_loss  Instances       Size\n"
     ]
    },
    {
     "name": "stderr",
     "output_type": "stream",
     "text": [
      "     68/128      18.9G     0.7589     0.4358     0.8539        108        640: 100%|██████████| 1/1 [00:00<00:00,  3.43it/s]\n",
      "                 Class     Images  Instances      Box(P          R      mAP50  mAP50-95): 100%|██████████| 1/1 [00:00<00:00, 31.47it/s]"
     ]
    },
    {
     "name": "stdout",
     "output_type": "stream",
     "text": [
      "                   all          5         23      0.245      0.888      0.229      0.181\n"
     ]
    },
    {
     "name": "stderr",
     "output_type": "stream",
     "text": [
      "\n"
     ]
    },
    {
     "name": "stdout",
     "output_type": "stream",
     "text": [
      "\n",
      "      Epoch    GPU_mem   box_loss   cls_loss   dfl_loss  Instances       Size\n"
     ]
    },
    {
     "name": "stderr",
     "output_type": "stream",
     "text": [
      "     69/128      18.8G     0.7467     0.4332     0.8151        105        640: 100%|██████████| 1/1 [00:00<00:00,  3.73it/s]\n",
      "                 Class     Images  Instances      Box(P          R      mAP50  mAP50-95): 100%|██████████| 1/1 [00:00<00:00, 29.44it/s]"
     ]
    },
    {
     "name": "stdout",
     "output_type": "stream",
     "text": [
      "                   all          5         23      0.245      0.888      0.229      0.181\n"
     ]
    },
    {
     "name": "stderr",
     "output_type": "stream",
     "text": [
      "\n"
     ]
    },
    {
     "name": "stdout",
     "output_type": "stream",
     "text": [
      "\n",
      "      Epoch    GPU_mem   box_loss   cls_loss   dfl_loss  Instances       Size\n"
     ]
    },
    {
     "name": "stderr",
     "output_type": "stream",
     "text": [
      "     70/128      18.8G     0.7144     0.4547     0.8114         99        640: 100%|██████████| 1/1 [00:00<00:00,  3.44it/s]\n",
      "                 Class     Images  Instances      Box(P          R      mAP50  mAP50-95): 100%|██████████| 1/1 [00:00<00:00, 31.11it/s]"
     ]
    },
    {
     "name": "stdout",
     "output_type": "stream",
     "text": [
      "                   all          5         23      0.245      0.888      0.229      0.181\n"
     ]
    },
    {
     "name": "stderr",
     "output_type": "stream",
     "text": [
      "\n"
     ]
    },
    {
     "name": "stdout",
     "output_type": "stream",
     "text": [
      "\n",
      "      Epoch    GPU_mem   box_loss   cls_loss   dfl_loss  Instances       Size\n"
     ]
    },
    {
     "name": "stderr",
     "output_type": "stream",
     "text": [
      "     71/128      18.7G     0.7834      0.433     0.8157        137        640: 100%|██████████| 1/1 [00:00<00:00,  3.65it/s]\n",
      "                 Class     Images  Instances      Box(P          R      mAP50  mAP50-95): 100%|██████████| 1/1 [00:00<00:00, 30.25it/s]"
     ]
    },
    {
     "name": "stdout",
     "output_type": "stream",
     "text": [
      "                   all          5         23      0.245      0.888      0.229      0.181\n"
     ]
    },
    {
     "name": "stderr",
     "output_type": "stream",
     "text": [
      "\n"
     ]
    },
    {
     "name": "stdout",
     "output_type": "stream",
     "text": [
      "\n",
      "      Epoch    GPU_mem   box_loss   cls_loss   dfl_loss  Instances       Size\n"
     ]
    },
    {
     "name": "stderr",
     "output_type": "stream",
     "text": [
      "     72/128      18.8G     0.8125     0.4474     0.8396        118        640: 100%|██████████| 1/1 [00:00<00:00,  3.46it/s]\n",
      "                 Class     Images  Instances      Box(P          R      mAP50  mAP50-95): 100%|██████████| 1/1 [00:00<00:00, 27.35it/s]"
     ]
    },
    {
     "name": "stdout",
     "output_type": "stream",
     "text": [
      "                   all          5         23     0.0101      0.087    0.00426    0.00211\n"
     ]
    },
    {
     "name": "stderr",
     "output_type": "stream",
     "text": [
      "\n"
     ]
    },
    {
     "name": "stdout",
     "output_type": "stream",
     "text": [
      "\n",
      "      Epoch    GPU_mem   box_loss   cls_loss   dfl_loss  Instances       Size\n"
     ]
    },
    {
     "name": "stderr",
     "output_type": "stream",
     "text": [
      "     73/128      18.8G     0.7178     0.4384     0.7994        131        640: 100%|██████████| 1/1 [00:00<00:00,  3.40it/s]\n",
      "                 Class     Images  Instances      Box(P          R      mAP50  mAP50-95): 100%|██████████| 1/1 [00:00<00:00, 28.57it/s]"
     ]
    },
    {
     "name": "stdout",
     "output_type": "stream",
     "text": [
      "                   all          5         23     0.0101      0.087    0.00426    0.00211\n"
     ]
    },
    {
     "name": "stderr",
     "output_type": "stream",
     "text": [
      "\n"
     ]
    },
    {
     "name": "stdout",
     "output_type": "stream",
     "text": [
      "\n",
      "      Epoch    GPU_mem   box_loss   cls_loss   dfl_loss  Instances       Size\n"
     ]
    },
    {
     "name": "stderr",
     "output_type": "stream",
     "text": [
      "     74/128      18.8G     0.7008      0.474     0.8239        106        640: 100%|██████████| 1/1 [00:00<00:00,  3.36it/s]\n",
      "                 Class     Images  Instances      Box(P          R      mAP50  mAP50-95): 100%|██████████| 1/1 [00:00<00:00, 26.83it/s]"
     ]
    },
    {
     "name": "stdout",
     "output_type": "stream",
     "text": [
      "                   all          5         23     0.0266      0.522     0.0163     0.0114\n"
     ]
    },
    {
     "name": "stderr",
     "output_type": "stream",
     "text": [
      "\n"
     ]
    },
    {
     "name": "stdout",
     "output_type": "stream",
     "text": [
      "\n",
      "      Epoch    GPU_mem   box_loss   cls_loss   dfl_loss  Instances       Size\n"
     ]
    },
    {
     "name": "stderr",
     "output_type": "stream",
     "text": [
      "     75/128      18.7G     0.7795     0.4288      0.809        133        640: 100%|██████████| 1/1 [00:00<00:00,  3.61it/s]\n",
      "                 Class     Images  Instances      Box(P          R      mAP50  mAP50-95): 100%|██████████| 1/1 [00:00<00:00, 28.36it/s]"
     ]
    },
    {
     "name": "stdout",
     "output_type": "stream",
     "text": [
      "                   all          5         23     0.0266      0.522     0.0163     0.0114\n"
     ]
    },
    {
     "name": "stderr",
     "output_type": "stream",
     "text": [
      "\n"
     ]
    },
    {
     "name": "stdout",
     "output_type": "stream",
     "text": [
      "\n",
      "      Epoch    GPU_mem   box_loss   cls_loss   dfl_loss  Instances       Size\n"
     ]
    },
    {
     "name": "stderr",
     "output_type": "stream",
     "text": [
      "     76/128      18.8G     0.8379     0.4055     0.8097        184        640: 100%|██████████| 1/1 [00:00<00:00,  3.45it/s]\n",
      "                 Class     Images  Instances      Box(P          R      mAP50  mAP50-95): 100%|██████████| 1/1 [00:00<00:00, 26.84it/s]"
     ]
    },
    {
     "name": "stdout",
     "output_type": "stream",
     "text": [
      "                   all          5         23     0.0363      0.565     0.0234     0.0154\n"
     ]
    },
    {
     "name": "stderr",
     "output_type": "stream",
     "text": [
      "\n"
     ]
    },
    {
     "name": "stdout",
     "output_type": "stream",
     "text": [
      "\n",
      "      Epoch    GPU_mem   box_loss   cls_loss   dfl_loss  Instances       Size\n"
     ]
    },
    {
     "name": "stderr",
     "output_type": "stream",
     "text": [
      "     77/128      18.8G     0.7081     0.4545     0.7909        143        640: 100%|██████████| 1/1 [00:00<00:00,  3.59it/s]\n",
      "                 Class     Images  Instances      Box(P          R      mAP50  mAP50-95): 100%|██████████| 1/1 [00:00<00:00, 28.05it/s]"
     ]
    },
    {
     "name": "stdout",
     "output_type": "stream",
     "text": [
      "                   all          5         23     0.0363      0.565     0.0234     0.0154\n"
     ]
    },
    {
     "name": "stderr",
     "output_type": "stream",
     "text": [
      "\n"
     ]
    },
    {
     "name": "stdout",
     "output_type": "stream",
     "text": [
      "\n",
      "      Epoch    GPU_mem   box_loss   cls_loss   dfl_loss  Instances       Size\n"
     ]
    },
    {
     "name": "stderr",
     "output_type": "stream",
     "text": [
      "     78/128      18.8G     0.6804     0.4064     0.8164        140        640: 100%|██████████| 1/1 [00:00<00:00,  3.40it/s]\n",
      "                 Class     Images  Instances      Box(P          R      mAP50  mAP50-95): 100%|██████████| 1/1 [00:00<00:00, 27.96it/s]"
     ]
    },
    {
     "name": "stdout",
     "output_type": "stream",
     "text": [
      "                   all          5         23     0.0363      0.565     0.0234     0.0154\n"
     ]
    },
    {
     "name": "stderr",
     "output_type": "stream",
     "text": [
      "\n"
     ]
    },
    {
     "name": "stdout",
     "output_type": "stream",
     "text": [
      "\n",
      "      Epoch    GPU_mem   box_loss   cls_loss   dfl_loss  Instances       Size\n"
     ]
    },
    {
     "name": "stderr",
     "output_type": "stream",
     "text": [
      "     79/128      18.7G     0.6756      0.381     0.8239        126        640: 100%|██████████| 1/1 [00:00<00:00,  3.66it/s]\n",
      "                 Class     Images  Instances      Box(P          R      mAP50  mAP50-95): 100%|██████████| 1/1 [00:00<00:00, 27.31it/s]"
     ]
    },
    {
     "name": "stdout",
     "output_type": "stream",
     "text": [
      "                   all          5         23     0.0363      0.565     0.0234     0.0154\n"
     ]
    },
    {
     "name": "stderr",
     "output_type": "stream",
     "text": [
      "\n"
     ]
    },
    {
     "name": "stdout",
     "output_type": "stream",
     "text": [
      "\n",
      "      Epoch    GPU_mem   box_loss   cls_loss   dfl_loss  Instances       Size\n"
     ]
    },
    {
     "name": "stderr",
     "output_type": "stream",
     "text": [
      "     80/128      18.8G     0.7438     0.3886     0.8258        142        640: 100%|██████████| 1/1 [00:00<00:00,  3.41it/s]\n",
      "                 Class     Images  Instances      Box(P          R      mAP50  mAP50-95): 100%|██████████| 1/1 [00:00<00:00, 25.89it/s]"
     ]
    },
    {
     "name": "stdout",
     "output_type": "stream",
     "text": [
      "                   all          5         23     0.0363      0.565     0.0234     0.0154\n"
     ]
    },
    {
     "name": "stderr",
     "output_type": "stream",
     "text": [
      "\n"
     ]
    },
    {
     "name": "stdout",
     "output_type": "stream",
     "text": [
      "\n",
      "      Epoch    GPU_mem   box_loss   cls_loss   dfl_loss  Instances       Size\n"
     ]
    },
    {
     "name": "stderr",
     "output_type": "stream",
     "text": [
      "     81/128      18.8G     0.6303     0.3779      0.808        136        640: 100%|██████████| 1/1 [00:00<00:00,  3.67it/s]\n",
      "                 Class     Images  Instances      Box(P          R      mAP50  mAP50-95): 100%|██████████| 1/1 [00:00<00:00, 28.04it/s]"
     ]
    },
    {
     "name": "stdout",
     "output_type": "stream",
     "text": [
      "                   all          5         23     0.0363      0.565     0.0234     0.0154\n"
     ]
    },
    {
     "name": "stderr",
     "output_type": "stream",
     "text": [
      "\n"
     ]
    },
    {
     "name": "stdout",
     "output_type": "stream",
     "text": [
      "\n",
      "      Epoch    GPU_mem   box_loss   cls_loss   dfl_loss  Instances       Size\n"
     ]
    },
    {
     "name": "stderr",
     "output_type": "stream",
     "text": [
      "     82/128      18.8G     0.6436     0.3905     0.8105        111        640: 100%|██████████| 1/1 [00:00<00:00,  3.48it/s]\n",
      "                 Class     Images  Instances      Box(P          R      mAP50  mAP50-95): 100%|██████████| 1/1 [00:00<00:00, 31.10it/s]"
     ]
    },
    {
     "name": "stdout",
     "output_type": "stream",
     "text": [
      "                   all          5         23     0.0363      0.565     0.0234     0.0154\n"
     ]
    },
    {
     "name": "stderr",
     "output_type": "stream",
     "text": [
      "\n"
     ]
    },
    {
     "name": "stdout",
     "output_type": "stream",
     "text": [
      "\n",
      "      Epoch    GPU_mem   box_loss   cls_loss   dfl_loss  Instances       Size\n"
     ]
    },
    {
     "name": "stderr",
     "output_type": "stream",
     "text": [
      "     83/128      18.8G     0.7915     0.4038     0.7864        160        640: 100%|██████████| 1/1 [00:00<00:00,  3.67it/s]\n",
      "                 Class     Images  Instances      Box(P          R      mAP50  mAP50-95): 100%|██████████| 1/1 [00:00<00:00, 29.09it/s]"
     ]
    },
    {
     "name": "stdout",
     "output_type": "stream",
     "text": [
      "                   all          5         23     0.0363      0.565     0.0234     0.0154\n"
     ]
    },
    {
     "name": "stderr",
     "output_type": "stream",
     "text": [
      "\n"
     ]
    },
    {
     "name": "stdout",
     "output_type": "stream",
     "text": [
      "\n",
      "      Epoch    GPU_mem   box_loss   cls_loss   dfl_loss  Instances       Size\n"
     ]
    },
    {
     "name": "stderr",
     "output_type": "stream",
     "text": [
      "     84/128      18.8G     0.7352      0.419     0.8009        141        640: 100%|██████████| 1/1 [00:00<00:00,  3.32it/s]\n",
      "                 Class     Images  Instances      Box(P          R      mAP50  mAP50-95): 100%|██████████| 1/1 [00:00<00:00, 34.34it/s]"
     ]
    },
    {
     "name": "stdout",
     "output_type": "stream",
     "text": [
      "                   all          5         23     0.0363      0.565     0.0234     0.0154\n"
     ]
    },
    {
     "name": "stderr",
     "output_type": "stream",
     "text": [
      "\n"
     ]
    },
    {
     "name": "stdout",
     "output_type": "stream",
     "text": [
      "\n",
      "      Epoch    GPU_mem   box_loss   cls_loss   dfl_loss  Instances       Size\n"
     ]
    },
    {
     "name": "stderr",
     "output_type": "stream",
     "text": [
      "     85/128      18.8G     0.7008     0.3817     0.8388        138        640: 100%|██████████| 1/1 [00:00<00:00,  3.63it/s]\n",
      "                 Class     Images  Instances      Box(P          R      mAP50  mAP50-95): 100%|██████████| 1/1 [00:00<00:00, 31.51it/s]"
     ]
    },
    {
     "name": "stdout",
     "output_type": "stream",
     "text": [
      "                   all          5         23     0.0363      0.565     0.0234     0.0154\n"
     ]
    },
    {
     "name": "stderr",
     "output_type": "stream",
     "text": [
      "\n"
     ]
    },
    {
     "name": "stdout",
     "output_type": "stream",
     "text": [
      "\n",
      "      Epoch    GPU_mem   box_loss   cls_loss   dfl_loss  Instances       Size\n"
     ]
    },
    {
     "name": "stderr",
     "output_type": "stream",
     "text": [
      "     86/128      18.8G     0.6141     0.3718     0.7973        142        640: 100%|██████████| 1/1 [00:00<00:00,  3.40it/s]\n",
      "                 Class     Images  Instances      Box(P          R      mAP50  mAP50-95): 100%|██████████| 1/1 [00:00<00:00, 30.92it/s]"
     ]
    },
    {
     "name": "stdout",
     "output_type": "stream",
     "text": [
      "                   all          5         23     0.0363      0.565     0.0234     0.0154\n"
     ]
    },
    {
     "name": "stderr",
     "output_type": "stream",
     "text": [
      "\n"
     ]
    },
    {
     "name": "stdout",
     "output_type": "stream",
     "text": [
      "\n",
      "      Epoch    GPU_mem   box_loss   cls_loss   dfl_loss  Instances       Size\n"
     ]
    },
    {
     "name": "stderr",
     "output_type": "stream",
     "text": [
      "     87/128      18.8G     0.6595     0.3882     0.7803        125        640: 100%|██████████| 1/1 [00:00<00:00,  3.65it/s]\n",
      "                 Class     Images  Instances      Box(P          R      mAP50  mAP50-95): 100%|██████████| 1/1 [00:00<00:00, 35.35it/s]"
     ]
    },
    {
     "name": "stdout",
     "output_type": "stream",
     "text": [
      "                   all          5         23     0.0363      0.565     0.0234     0.0154\n"
     ]
    },
    {
     "name": "stderr",
     "output_type": "stream",
     "text": [
      "\n"
     ]
    },
    {
     "name": "stdout",
     "output_type": "stream",
     "text": [
      "\n",
      "      Epoch    GPU_mem   box_loss   cls_loss   dfl_loss  Instances       Size\n"
     ]
    },
    {
     "name": "stderr",
     "output_type": "stream",
     "text": [
      "     88/128      18.8G     0.6979     0.3995     0.8086        141        640: 100%|██████████| 1/1 [00:00<00:00,  3.31it/s]\n",
      "                 Class     Images  Instances      Box(P          R      mAP50  mAP50-95): 100%|██████████| 1/1 [00:00<00:00, 31.38it/s]"
     ]
    },
    {
     "name": "stdout",
     "output_type": "stream",
     "text": [
      "                   all          5         23     0.0363      0.565     0.0234     0.0154\n"
     ]
    },
    {
     "name": "stderr",
     "output_type": "stream",
     "text": [
      "\n"
     ]
    },
    {
     "name": "stdout",
     "output_type": "stream",
     "text": [
      "\n",
      "      Epoch    GPU_mem   box_loss   cls_loss   dfl_loss  Instances       Size\n"
     ]
    },
    {
     "name": "stderr",
     "output_type": "stream",
     "text": [
      "     89/128      18.8G     0.6734     0.3914     0.7961        114        640: 100%|██████████| 1/1 [00:00<00:00,  3.61it/s]\n",
      "                 Class     Images  Instances      Box(P          R      mAP50  mAP50-95): 100%|██████████| 1/1 [00:00<00:00, 33.92it/s]"
     ]
    },
    {
     "name": "stdout",
     "output_type": "stream",
     "text": [
      "                   all          5         23     0.0363      0.565     0.0234     0.0154\n"
     ]
    },
    {
     "name": "stderr",
     "output_type": "stream",
     "text": [
      "\n"
     ]
    },
    {
     "name": "stdout",
     "output_type": "stream",
     "text": [
      "\n",
      "      Epoch    GPU_mem   box_loss   cls_loss   dfl_loss  Instances       Size\n"
     ]
    },
    {
     "name": "stderr",
     "output_type": "stream",
     "text": [
      "     90/128      18.8G     0.6781     0.4108     0.8008        138        640: 100%|██████████| 1/1 [00:00<00:00,  3.44it/s]\n",
      "                 Class     Images  Instances      Box(P          R      mAP50  mAP50-95): 100%|██████████| 1/1 [00:00<00:00, 31.83it/s]"
     ]
    },
    {
     "name": "stdout",
     "output_type": "stream",
     "text": [
      "                   all          5         23     0.0363      0.565     0.0234     0.0154\n"
     ]
    },
    {
     "name": "stderr",
     "output_type": "stream",
     "text": [
      "\n"
     ]
    },
    {
     "name": "stdout",
     "output_type": "stream",
     "text": [
      "\n",
      "      Epoch    GPU_mem   box_loss   cls_loss   dfl_loss  Instances       Size\n"
     ]
    },
    {
     "name": "stderr",
     "output_type": "stream",
     "text": [
      "     91/128      18.8G     0.6908     0.3765      0.765        141        640: 100%|██████████| 1/1 [00:00<00:00,  3.44it/s]\n",
      "                 Class     Images  Instances      Box(P          R      mAP50  mAP50-95): 100%|██████████| 1/1 [00:00<00:00, 33.98it/s]"
     ]
    },
    {
     "name": "stdout",
     "output_type": "stream",
     "text": [
      "                   all          5         23     0.0363      0.565     0.0234     0.0154\n"
     ]
    },
    {
     "name": "stderr",
     "output_type": "stream",
     "text": [
      "\n"
     ]
    },
    {
     "name": "stdout",
     "output_type": "stream",
     "text": [
      "\n",
      "      Epoch    GPU_mem   box_loss   cls_loss   dfl_loss  Instances       Size\n"
     ]
    },
    {
     "name": "stderr",
     "output_type": "stream",
     "text": [
      "     92/128      18.8G     0.6216     0.3497     0.7838        137        640: 100%|██████████| 1/1 [00:00<00:00,  3.99it/s]\n",
      "                 Class     Images  Instances      Box(P          R      mAP50  mAP50-95): 100%|██████████| 1/1 [00:00<00:00, 32.13it/s]"
     ]
    },
    {
     "name": "stdout",
     "output_type": "stream",
     "text": [
      "                   all          5         23     0.0363      0.565     0.0234     0.0154\n"
     ]
    },
    {
     "name": "stderr",
     "output_type": "stream",
     "text": [
      "\n"
     ]
    },
    {
     "name": "stdout",
     "output_type": "stream",
     "text": [
      "\n",
      "      Epoch    GPU_mem   box_loss   cls_loss   dfl_loss  Instances       Size\n"
     ]
    },
    {
     "name": "stderr",
     "output_type": "stream",
     "text": [
      "     93/128      18.8G     0.6174     0.3687     0.7999        120        640: 100%|██████████| 1/1 [00:00<00:00,  3.42it/s]\n",
      "                 Class     Images  Instances      Box(P          R      mAP50  mAP50-95): 100%|██████████| 1/1 [00:00<00:00, 32.00it/s]"
     ]
    },
    {
     "name": "stdout",
     "output_type": "stream",
     "text": [
      "                   all          5         23     0.0363      0.565     0.0234     0.0154\n"
     ]
    },
    {
     "name": "stderr",
     "output_type": "stream",
     "text": [
      "\n"
     ]
    },
    {
     "name": "stdout",
     "output_type": "stream",
     "text": [
      "\n",
      "      Epoch    GPU_mem   box_loss   cls_loss   dfl_loss  Instances       Size\n"
     ]
    },
    {
     "name": "stderr",
     "output_type": "stream",
     "text": [
      "     94/128      18.8G     0.6202     0.3811     0.7921        114        640: 100%|██████████| 1/1 [00:00<00:00,  3.59it/s]\n",
      "                 Class     Images  Instances      Box(P          R      mAP50  mAP50-95): 100%|██████████| 1/1 [00:00<00:00, 34.17it/s]"
     ]
    },
    {
     "name": "stdout",
     "output_type": "stream",
     "text": [
      "                   all          5         23     0.0363      0.565     0.0234     0.0154\n"
     ]
    },
    {
     "name": "stderr",
     "output_type": "stream",
     "text": [
      "\n"
     ]
    },
    {
     "name": "stdout",
     "output_type": "stream",
     "text": [
      "\n",
      "      Epoch    GPU_mem   box_loss   cls_loss   dfl_loss  Instances       Size\n"
     ]
    },
    {
     "name": "stderr",
     "output_type": "stream",
     "text": [
      "     95/128      18.9G     0.6139     0.3582     0.7984        123        640: 100%|██████████| 1/1 [00:00<00:00,  3.87it/s]\n",
      "                 Class     Images  Instances      Box(P          R      mAP50  mAP50-95): 100%|██████████| 1/1 [00:00<00:00, 31.71it/s]"
     ]
    },
    {
     "name": "stdout",
     "output_type": "stream",
     "text": [
      "                   all          5         23     0.0363      0.565     0.0234     0.0154\n"
     ]
    },
    {
     "name": "stderr",
     "output_type": "stream",
     "text": [
      "\n"
     ]
    },
    {
     "name": "stdout",
     "output_type": "stream",
     "text": [
      "\n",
      "      Epoch    GPU_mem   box_loss   cls_loss   dfl_loss  Instances       Size\n"
     ]
    },
    {
     "name": "stderr",
     "output_type": "stream",
     "text": [
      "     96/128      18.9G      0.629     0.3544     0.7841        124        640: 100%|██████████| 1/1 [00:00<00:00,  3.35it/s]\n",
      "                 Class     Images  Instances      Box(P          R      mAP50  mAP50-95): 100%|██████████| 1/1 [00:00<00:00, 30.37it/s]"
     ]
    },
    {
     "name": "stdout",
     "output_type": "stream",
     "text": [
      "                   all          5         23     0.0363      0.565     0.0234     0.0154\n"
     ]
    },
    {
     "name": "stderr",
     "output_type": "stream",
     "text": [
      "\n"
     ]
    },
    {
     "name": "stdout",
     "output_type": "stream",
     "text": [
      "\n",
      "      Epoch    GPU_mem   box_loss   cls_loss   dfl_loss  Instances       Size\n"
     ]
    },
    {
     "name": "stderr",
     "output_type": "stream",
     "text": [
      "     97/128      18.8G     0.6251      0.359     0.7791        133        640: 100%|██████████| 1/1 [00:00<00:00,  3.67it/s]\n",
      "                 Class     Images  Instances      Box(P          R      mAP50  mAP50-95): 100%|██████████| 1/1 [00:00<00:00, 26.96it/s]"
     ]
    },
    {
     "name": "stdout",
     "output_type": "stream",
     "text": [
      "                   all          5         23     0.0363      0.565     0.0234     0.0154\n"
     ]
    },
    {
     "name": "stderr",
     "output_type": "stream",
     "text": [
      "\n"
     ]
    },
    {
     "name": "stdout",
     "output_type": "stream",
     "text": [
      "\n",
      "      Epoch    GPU_mem   box_loss   cls_loss   dfl_loss  Instances       Size\n"
     ]
    },
    {
     "name": "stderr",
     "output_type": "stream",
     "text": [
      "     98/128      18.8G     0.6852     0.3752     0.8364        124        640: 100%|██████████| 1/1 [00:00<00:00,  3.90it/s]\n",
      "                 Class     Images  Instances      Box(P          R      mAP50  mAP50-95): 100%|██████████| 1/1 [00:00<00:00, 27.16it/s]"
     ]
    },
    {
     "name": "stdout",
     "output_type": "stream",
     "text": [
      "                   all          5         23     0.0363      0.565     0.0234     0.0154\n"
     ]
    },
    {
     "name": "stderr",
     "output_type": "stream",
     "text": [
      "\n"
     ]
    },
    {
     "name": "stdout",
     "output_type": "stream",
     "text": [
      "\n",
      "      Epoch    GPU_mem   box_loss   cls_loss   dfl_loss  Instances       Size\n"
     ]
    },
    {
     "name": "stderr",
     "output_type": "stream",
     "text": [
      "     99/128      18.8G     0.5836     0.3528       0.83        112        640: 100%|██████████| 1/1 [00:00<00:00,  3.46it/s]\n",
      "                 Class     Images  Instances      Box(P          R      mAP50  mAP50-95): 100%|██████████| 1/1 [00:00<00:00, 27.94it/s]"
     ]
    },
    {
     "name": "stdout",
     "output_type": "stream",
     "text": [
      "                   all          5         23     0.0363      0.565     0.0234     0.0154\n"
     ]
    },
    {
     "name": "stderr",
     "output_type": "stream",
     "text": [
      "\n"
     ]
    },
    {
     "name": "stdout",
     "output_type": "stream",
     "text": [
      "\n",
      "      Epoch    GPU_mem   box_loss   cls_loss   dfl_loss  Instances       Size\n"
     ]
    },
    {
     "name": "stderr",
     "output_type": "stream",
     "text": [
      "    100/128      18.8G     0.5633     0.3499      0.808        125        640: 100%|██████████| 1/1 [00:00<00:00,  3.53it/s]\n",
      "                 Class     Images  Instances      Box(P          R      mAP50  mAP50-95): 100%|██████████| 1/1 [00:00<00:00, 27.62it/s]"
     ]
    },
    {
     "name": "stdout",
     "output_type": "stream",
     "text": [
      "                   all          5         23     0.0363      0.565     0.0234     0.0154\n"
     ]
    },
    {
     "name": "stderr",
     "output_type": "stream",
     "text": [
      "\n"
     ]
    },
    {
     "name": "stdout",
     "output_type": "stream",
     "text": [
      "\n",
      "      Epoch    GPU_mem   box_loss   cls_loss   dfl_loss  Instances       Size\n"
     ]
    },
    {
     "name": "stderr",
     "output_type": "stream",
     "text": [
      "    101/128      18.8G     0.6677     0.3693     0.7885        143        640: 100%|██████████| 1/1 [00:00<00:00,  3.99it/s]\n",
      "                 Class     Images  Instances      Box(P          R      mAP50  mAP50-95): 100%|██████████| 1/1 [00:00<00:00, 27.41it/s]"
     ]
    },
    {
     "name": "stdout",
     "output_type": "stream",
     "text": [
      "                   all          5         23     0.0363      0.565     0.0234     0.0154\n"
     ]
    },
    {
     "name": "stderr",
     "output_type": "stream",
     "text": [
      "\n"
     ]
    },
    {
     "name": "stdout",
     "output_type": "stream",
     "text": [
      "\n",
      "      Epoch    GPU_mem   box_loss   cls_loss   dfl_loss  Instances       Size\n"
     ]
    },
    {
     "name": "stderr",
     "output_type": "stream",
     "text": [
      "    102/128      18.8G     0.6124     0.3359     0.8019        131        640: 100%|██████████| 1/1 [00:00<00:00,  3.40it/s]\n",
      "                 Class     Images  Instances      Box(P          R      mAP50  mAP50-95): 100%|██████████| 1/1 [00:00<00:00, 28.49it/s]"
     ]
    },
    {
     "name": "stdout",
     "output_type": "stream",
     "text": [
      "                   all          5         23     0.0363      0.565     0.0234     0.0154\n",
      "\u001b[34m\u001b[1mEarlyStopping: \u001b[0mTraining stopped early as no improvement observed in last 100 epochs. Best results observed at epoch 2, best model saved as best.pt.\n",
      "To update EarlyStopping(patience=100) pass a new patience value, i.e. `patience=300` or use `patience=0` to disable EarlyStopping.\n"
     ]
    },
    {
     "name": "stderr",
     "output_type": "stream",
     "text": [
      "\n"
     ]
    },
    {
     "name": "stdout",
     "output_type": "stream",
     "text": [
      "\n",
      "102 epochs completed in 0.040 hours.\n",
      "Optimizer stripped from runs/segment/yolov11_WormCNN-HTT12/weights/last.pt, 114.4MB\n",
      "Optimizer stripped from runs/segment/yolov11_WormCNN-HTT12/weights/best.pt, 114.4MB\n",
      "\n",
      "Validating runs/segment/yolov11_WormCNN-HTT12/weights/best.pt...\n",
      "Ultralytics 8.3.36 🚀 Python-3.11.10 torch-2.5.1+cu124 CUDA:0 (NVIDIA GeForce RTX 4090, 24210MiB)\n",
      "YOLO11x summary (fused): 464 layers, 56,828,179 parameters, 0 gradients, 194.4 GFLOPs\n"
     ]
    },
    {
     "name": "stderr",
     "output_type": "stream",
     "text": [
      "                 Class     Images  Instances      Box(P          R      mAP50  mAP50-95): 100%|██████████| 1/1 [00:00<00:00, 24.38it/s]\n"
     ]
    },
    {
     "name": "stdout",
     "output_type": "stream",
     "text": [
      "                   all          5         23      0.954      0.908       0.94       0.79\n",
      "Speed: 0.1ms preprocess, 2.8ms inference, 0.0ms loss, 2.4ms postprocess per image\n",
      "Results saved to \u001b[1mruns/segment/yolov11_WormCNN-HTT12\u001b[0m\n"
     ]
    },
    {
     "data": {
      "text/plain": [
       "ultralytics.utils.metrics.DetMetrics object with attributes:\n",
       "\n",
       "ap_class_index: array([0])\n",
       "box: ultralytics.utils.metrics.Metric object\n",
       "confusion_matrix: <ultralytics.utils.metrics.ConfusionMatrix object at 0x7fd9d8dc6610>\n",
       "curves: ['Precision-Recall(B)', 'F1-Confidence(B)', 'Precision-Confidence(B)', 'Recall-Confidence(B)']\n",
       "curves_results: [[array([          0,    0.001001,    0.002002,    0.003003,    0.004004,    0.005005,    0.006006,    0.007007,    0.008008,    0.009009,     0.01001,    0.011011,    0.012012,    0.013013,    0.014014,    0.015015,    0.016016,    0.017017,    0.018018,    0.019019,     0.02002,    0.021021,    0.022022,    0.023023,\n",
       "          0.024024,    0.025025,    0.026026,    0.027027,    0.028028,    0.029029,     0.03003,    0.031031,    0.032032,    0.033033,    0.034034,    0.035035,    0.036036,    0.037037,    0.038038,    0.039039,     0.04004,    0.041041,    0.042042,    0.043043,    0.044044,    0.045045,    0.046046,    0.047047,\n",
       "          0.048048,    0.049049,     0.05005,    0.051051,    0.052052,    0.053053,    0.054054,    0.055055,    0.056056,    0.057057,    0.058058,    0.059059,     0.06006,    0.061061,    0.062062,    0.063063,    0.064064,    0.065065,    0.066066,    0.067067,    0.068068,    0.069069,     0.07007,    0.071071,\n",
       "          0.072072,    0.073073,    0.074074,    0.075075,    0.076076,    0.077077,    0.078078,    0.079079,     0.08008,    0.081081,    0.082082,    0.083083,    0.084084,    0.085085,    0.086086,    0.087087,    0.088088,    0.089089,     0.09009,    0.091091,    0.092092,    0.093093,    0.094094,    0.095095,\n",
       "          0.096096,    0.097097,    0.098098,    0.099099,      0.1001,      0.1011,      0.1021,      0.1031,      0.1041,     0.10511,     0.10611,     0.10711,     0.10811,     0.10911,     0.11011,     0.11111,     0.11211,     0.11311,     0.11411,     0.11512,     0.11612,     0.11712,     0.11812,     0.11912,\n",
       "           0.12012,     0.12112,     0.12212,     0.12312,     0.12412,     0.12513,     0.12613,     0.12713,     0.12813,     0.12913,     0.13013,     0.13113,     0.13213,     0.13313,     0.13413,     0.13514,     0.13614,     0.13714,     0.13814,     0.13914,     0.14014,     0.14114,     0.14214,     0.14314,\n",
       "           0.14414,     0.14515,     0.14615,     0.14715,     0.14815,     0.14915,     0.15015,     0.15115,     0.15215,     0.15315,     0.15415,     0.15516,     0.15616,     0.15716,     0.15816,     0.15916,     0.16016,     0.16116,     0.16216,     0.16316,     0.16416,     0.16517,     0.16617,     0.16717,\n",
       "           0.16817,     0.16917,     0.17017,     0.17117,     0.17217,     0.17317,     0.17417,     0.17518,     0.17618,     0.17718,     0.17818,     0.17918,     0.18018,     0.18118,     0.18218,     0.18318,     0.18418,     0.18519,     0.18619,     0.18719,     0.18819,     0.18919,     0.19019,     0.19119,\n",
       "           0.19219,     0.19319,     0.19419,      0.1952,      0.1962,      0.1972,      0.1982,      0.1992,      0.2002,      0.2012,      0.2022,      0.2032,      0.2042,     0.20521,     0.20621,     0.20721,     0.20821,     0.20921,     0.21021,     0.21121,     0.21221,     0.21321,     0.21421,     0.21522,\n",
       "           0.21622,     0.21722,     0.21822,     0.21922,     0.22022,     0.22122,     0.22222,     0.22322,     0.22422,     0.22523,     0.22623,     0.22723,     0.22823,     0.22923,     0.23023,     0.23123,     0.23223,     0.23323,     0.23423,     0.23524,     0.23624,     0.23724,     0.23824,     0.23924,\n",
       "           0.24024,     0.24124,     0.24224,     0.24324,     0.24424,     0.24525,     0.24625,     0.24725,     0.24825,     0.24925,     0.25025,     0.25125,     0.25225,     0.25325,     0.25425,     0.25526,     0.25626,     0.25726,     0.25826,     0.25926,     0.26026,     0.26126,     0.26226,     0.26326,\n",
       "           0.26426,     0.26527,     0.26627,     0.26727,     0.26827,     0.26927,     0.27027,     0.27127,     0.27227,     0.27327,     0.27427,     0.27528,     0.27628,     0.27728,     0.27828,     0.27928,     0.28028,     0.28128,     0.28228,     0.28328,     0.28428,     0.28529,     0.28629,     0.28729,\n",
       "           0.28829,     0.28929,     0.29029,     0.29129,     0.29229,     0.29329,     0.29429,      0.2953,      0.2963,      0.2973,      0.2983,      0.2993,      0.3003,      0.3013,      0.3023,      0.3033,      0.3043,     0.30531,     0.30631,     0.30731,     0.30831,     0.30931,     0.31031,     0.31131,\n",
       "           0.31231,     0.31331,     0.31431,     0.31532,     0.31632,     0.31732,     0.31832,     0.31932,     0.32032,     0.32132,     0.32232,     0.32332,     0.32432,     0.32533,     0.32633,     0.32733,     0.32833,     0.32933,     0.33033,     0.33133,     0.33233,     0.33333,     0.33433,     0.33534,\n",
       "           0.33634,     0.33734,     0.33834,     0.33934,     0.34034,     0.34134,     0.34234,     0.34334,     0.34434,     0.34535,     0.34635,     0.34735,     0.34835,     0.34935,     0.35035,     0.35135,     0.35235,     0.35335,     0.35435,     0.35536,     0.35636,     0.35736,     0.35836,     0.35936,\n",
       "           0.36036,     0.36136,     0.36236,     0.36336,     0.36436,     0.36537,     0.36637,     0.36737,     0.36837,     0.36937,     0.37037,     0.37137,     0.37237,     0.37337,     0.37437,     0.37538,     0.37638,     0.37738,     0.37838,     0.37938,     0.38038,     0.38138,     0.38238,     0.38338,\n",
       "           0.38438,     0.38539,     0.38639,     0.38739,     0.38839,     0.38939,     0.39039,     0.39139,     0.39239,     0.39339,     0.39439,      0.3954,      0.3964,      0.3974,      0.3984,      0.3994,      0.4004,      0.4014,      0.4024,      0.4034,      0.4044,     0.40541,     0.40641,     0.40741,\n",
       "           0.40841,     0.40941,     0.41041,     0.41141,     0.41241,     0.41341,     0.41441,     0.41542,     0.41642,     0.41742,     0.41842,     0.41942,     0.42042,     0.42142,     0.42242,     0.42342,     0.42442,     0.42543,     0.42643,     0.42743,     0.42843,     0.42943,     0.43043,     0.43143,\n",
       "           0.43243,     0.43343,     0.43443,     0.43544,     0.43644,     0.43744,     0.43844,     0.43944,     0.44044,     0.44144,     0.44244,     0.44344,     0.44444,     0.44545,     0.44645,     0.44745,     0.44845,     0.44945,     0.45045,     0.45145,     0.45245,     0.45345,     0.45445,     0.45546,\n",
       "           0.45646,     0.45746,     0.45846,     0.45946,     0.46046,     0.46146,     0.46246,     0.46346,     0.46446,     0.46547,     0.46647,     0.46747,     0.46847,     0.46947,     0.47047,     0.47147,     0.47247,     0.47347,     0.47447,     0.47548,     0.47648,     0.47748,     0.47848,     0.47948,\n",
       "           0.48048,     0.48148,     0.48248,     0.48348,     0.48448,     0.48549,     0.48649,     0.48749,     0.48849,     0.48949,     0.49049,     0.49149,     0.49249,     0.49349,     0.49449,      0.4955,      0.4965,      0.4975,      0.4985,      0.4995,      0.5005,      0.5015,      0.5025,      0.5035,\n",
       "            0.5045,     0.50551,     0.50651,     0.50751,     0.50851,     0.50951,     0.51051,     0.51151,     0.51251,     0.51351,     0.51451,     0.51552,     0.51652,     0.51752,     0.51852,     0.51952,     0.52052,     0.52152,     0.52252,     0.52352,     0.52452,     0.52553,     0.52653,     0.52753,\n",
       "           0.52853,     0.52953,     0.53053,     0.53153,     0.53253,     0.53353,     0.53453,     0.53554,     0.53654,     0.53754,     0.53854,     0.53954,     0.54054,     0.54154,     0.54254,     0.54354,     0.54454,     0.54555,     0.54655,     0.54755,     0.54855,     0.54955,     0.55055,     0.55155,\n",
       "           0.55255,     0.55355,     0.55455,     0.55556,     0.55656,     0.55756,     0.55856,     0.55956,     0.56056,     0.56156,     0.56256,     0.56356,     0.56456,     0.56557,     0.56657,     0.56757,     0.56857,     0.56957,     0.57057,     0.57157,     0.57257,     0.57357,     0.57457,     0.57558,\n",
       "           0.57658,     0.57758,     0.57858,     0.57958,     0.58058,     0.58158,     0.58258,     0.58358,     0.58458,     0.58559,     0.58659,     0.58759,     0.58859,     0.58959,     0.59059,     0.59159,     0.59259,     0.59359,     0.59459,      0.5956,      0.5966,      0.5976,      0.5986,      0.5996,\n",
       "            0.6006,      0.6016,      0.6026,      0.6036,      0.6046,     0.60561,     0.60661,     0.60761,     0.60861,     0.60961,     0.61061,     0.61161,     0.61261,     0.61361,     0.61461,     0.61562,     0.61662,     0.61762,     0.61862,     0.61962,     0.62062,     0.62162,     0.62262,     0.62362,\n",
       "           0.62462,     0.62563,     0.62663,     0.62763,     0.62863,     0.62963,     0.63063,     0.63163,     0.63263,     0.63363,     0.63463,     0.63564,     0.63664,     0.63764,     0.63864,     0.63964,     0.64064,     0.64164,     0.64264,     0.64364,     0.64464,     0.64565,     0.64665,     0.64765,\n",
       "           0.64865,     0.64965,     0.65065,     0.65165,     0.65265,     0.65365,     0.65465,     0.65566,     0.65666,     0.65766,     0.65866,     0.65966,     0.66066,     0.66166,     0.66266,     0.66366,     0.66466,     0.66567,     0.66667,     0.66767,     0.66867,     0.66967,     0.67067,     0.67167,\n",
       "           0.67267,     0.67367,     0.67467,     0.67568,     0.67668,     0.67768,     0.67868,     0.67968,     0.68068,     0.68168,     0.68268,     0.68368,     0.68468,     0.68569,     0.68669,     0.68769,     0.68869,     0.68969,     0.69069,     0.69169,     0.69269,     0.69369,     0.69469,      0.6957,\n",
       "            0.6967,      0.6977,      0.6987,      0.6997,      0.7007,      0.7017,      0.7027,      0.7037,      0.7047,     0.70571,     0.70671,     0.70771,     0.70871,     0.70971,     0.71071,     0.71171,     0.71271,     0.71371,     0.71471,     0.71572,     0.71672,     0.71772,     0.71872,     0.71972,\n",
       "           0.72072,     0.72172,     0.72272,     0.72372,     0.72472,     0.72573,     0.72673,     0.72773,     0.72873,     0.72973,     0.73073,     0.73173,     0.73273,     0.73373,     0.73473,     0.73574,     0.73674,     0.73774,     0.73874,     0.73974,     0.74074,     0.74174,     0.74274,     0.74374,\n",
       "           0.74474,     0.74575,     0.74675,     0.74775,     0.74875,     0.74975,     0.75075,     0.75175,     0.75275,     0.75375,     0.75475,     0.75576,     0.75676,     0.75776,     0.75876,     0.75976,     0.76076,     0.76176,     0.76276,     0.76376,     0.76476,     0.76577,     0.76677,     0.76777,\n",
       "           0.76877,     0.76977,     0.77077,     0.77177,     0.77277,     0.77377,     0.77477,     0.77578,     0.77678,     0.77778,     0.77878,     0.77978,     0.78078,     0.78178,     0.78278,     0.78378,     0.78478,     0.78579,     0.78679,     0.78779,     0.78879,     0.78979,     0.79079,     0.79179,\n",
       "           0.79279,     0.79379,     0.79479,      0.7958,      0.7968,      0.7978,      0.7988,      0.7998,      0.8008,      0.8018,      0.8028,      0.8038,      0.8048,     0.80581,     0.80681,     0.80781,     0.80881,     0.80981,     0.81081,     0.81181,     0.81281,     0.81381,     0.81481,     0.81582,\n",
       "           0.81682,     0.81782,     0.81882,     0.81982,     0.82082,     0.82182,     0.82282,     0.82382,     0.82482,     0.82583,     0.82683,     0.82783,     0.82883,     0.82983,     0.83083,     0.83183,     0.83283,     0.83383,     0.83483,     0.83584,     0.83684,     0.83784,     0.83884,     0.83984,\n",
       "           0.84084,     0.84184,     0.84284,     0.84384,     0.84484,     0.84585,     0.84685,     0.84785,     0.84885,     0.84985,     0.85085,     0.85185,     0.85285,     0.85385,     0.85485,     0.85586,     0.85686,     0.85786,     0.85886,     0.85986,     0.86086,     0.86186,     0.86286,     0.86386,\n",
       "           0.86486,     0.86587,     0.86687,     0.86787,     0.86887,     0.86987,     0.87087,     0.87187,     0.87287,     0.87387,     0.87487,     0.87588,     0.87688,     0.87788,     0.87888,     0.87988,     0.88088,     0.88188,     0.88288,     0.88388,     0.88488,     0.88589,     0.88689,     0.88789,\n",
       "           0.88889,     0.88989,     0.89089,     0.89189,     0.89289,     0.89389,     0.89489,      0.8959,      0.8969,      0.8979,      0.8989,      0.8999,      0.9009,      0.9019,      0.9029,      0.9039,      0.9049,     0.90591,     0.90691,     0.90791,     0.90891,     0.90991,     0.91091,     0.91191,\n",
       "           0.91291,     0.91391,     0.91491,     0.91592,     0.91692,     0.91792,     0.91892,     0.91992,     0.92092,     0.92192,     0.92292,     0.92392,     0.92492,     0.92593,     0.92693,     0.92793,     0.92893,     0.92993,     0.93093,     0.93193,     0.93293,     0.93393,     0.93493,     0.93594,\n",
       "           0.93694,     0.93794,     0.93894,     0.93994,     0.94094,     0.94194,     0.94294,     0.94394,     0.94494,     0.94595,     0.94695,     0.94795,     0.94895,     0.94995,     0.95095,     0.95195,     0.95295,     0.95395,     0.95495,     0.95596,     0.95696,     0.95796,     0.95896,     0.95996,\n",
       "           0.96096,     0.96196,     0.96296,     0.96396,     0.96496,     0.96597,     0.96697,     0.96797,     0.96897,     0.96997,     0.97097,     0.97197,     0.97297,     0.97397,     0.97497,     0.97598,     0.97698,     0.97798,     0.97898,     0.97998,     0.98098,     0.98198,     0.98298,     0.98398,\n",
       "           0.98498,     0.98599,     0.98699,     0.98799,     0.98899,     0.98999,     0.99099,     0.99199,     0.99299,     0.99399,     0.99499,       0.996,       0.997,       0.998,       0.999,           1]), array([[          1,           1,           1,           1,           1,           1,           1,           1,           1,           1,           1,           1,           1,           1,           1,           1,           1,           1,           1,           1,           1,           1,           1,\n",
       "                  1,           1,           1,           1,           1,           1,           1,           1,           1,           1,           1,           1,           1,           1,           1,           1,           1,           1,           1,           1,           1,           1,           1,\n",
       "                  1,           1,           1,           1,           1,           1,           1,           1,           1,           1,           1,           1,           1,           1,           1,           1,           1,           1,           1,           1,           1,           1,           1,\n",
       "                  1,           1,           1,           1,           1,           1,           1,           1,           1,           1,           1,           1,           1,           1,           1,           1,           1,           1,           1,           1,           1,           1,           1,\n",
       "                  1,           1,           1,           1,           1,           1,           1,           1,           1,           1,           1,           1,           1,           1,           1,           1,           1,           1,           1,           1,           1,           1,           1,\n",
       "                  1,           1,           1,           1,           1,           1,           1,           1,           1,           1,           1,           1,           1,           1,           1,           1,           1,           1,           1,           1,           1,           1,           1,\n",
       "                  1,           1,           1,           1,           1,           1,           1,           1,           1,           1,           1,           1,           1,           1,           1,           1,           1,           1,           1,           1,           1,           1,           1,\n",
       "                  1,           1,           1,           1,           1,           1,           1,           1,           1,           1,           1,           1,           1,           1,           1,           1,           1,           1,           1,           1,           1,           1,           1,\n",
       "                  1,           1,           1,           1,           1,           1,           1,           1,           1,           1,           1,           1,           1,           1,           1,           1,           1,           1,           1,           1,           1,           1,           1,\n",
       "                  1,           1,           1,           1,           1,           1,           1,           1,           1,           1,           1,           1,           1,           1,           1,           1,           1,           1,           1,           1,           1,           1,           1,\n",
       "                  1,           1,           1,           1,           1,           1,           1,           1,           1,           1,           1,           1,           1,           1,           1,           1,           1,           1,           1,           1,           1,           1,           1,\n",
       "                  1,           1,           1,           1,           1,           1,           1,           1,           1,           1,           1,           1,           1,           1,           1,           1,           1,           1,           1,           1,           1,           1,           1,\n",
       "                  1,           1,           1,           1,           1,           1,           1,           1,           1,           1,           1,           1,           1,           1,           1,           1,           1,           1,           1,           1,           1,           1,           1,\n",
       "                  1,           1,           1,           1,           1,           1,           1,           1,           1,           1,           1,           1,           1,           1,           1,           1,           1,           1,           1,           1,           1,           1,           1,\n",
       "                  1,           1,           1,           1,           1,           1,           1,           1,           1,           1,           1,           1,           1,           1,           1,           1,           1,           1,           1,           1,           1,           1,           1,\n",
       "                  1,           1,           1,           1,           1,           1,           1,           1,           1,           1,           1,           1,           1,           1,           1,           1,           1,           1,           1,           1,           1,           1,           1,\n",
       "                  1,           1,           1,           1,           1,           1,           1,           1,           1,           1,           1,           1,           1,           1,           1,           1,           1,           1,           1,           1,           1,           1,           1,\n",
       "                  1,           1,           1,           1,           1,           1,           1,           1,           1,           1,           1,           1,           1,           1,           1,           1,           1,           1,           1,           1,           1,           1,           1,\n",
       "                  1,           1,           1,           1,           1,           1,           1,           1,           1,           1,           1,           1,           1,           1,           1,           1,           1,           1,           1,           1,           1,           1,           1,\n",
       "                  1,           1,           1,           1,           1,           1,           1,           1,           1,           1,           1,           1,           1,           1,           1,           1,           1,           1,           1,           1,           1,           1,           1,\n",
       "                  1,           1,           1,           1,           1,           1,           1,           1,           1,           1,           1,           1,           1,           1,           1,           1,           1,           1,           1,           1,           1,           1,           1,\n",
       "                  1,           1,           1,           1,           1,           1,           1,           1,           1,           1,           1,           1,           1,           1,           1,           1,           1,           1,           1,           1,           1,           1,           1,\n",
       "                  1,           1,           1,           1,           1,           1,           1,           1,           1,           1,           1,           1,           1,           1,           1,           1,           1,           1,           1,           1,           1,           1,           1,\n",
       "                  1,           1,           1,           1,           1,           1,           1,           1,           1,           1,           1,           1,           1,           1,           1,           1,           1,           1,           1,           1,           1,           1,           1,\n",
       "                  1,           1,           1,           1,           1,           1,           1,           1,           1,           1,           1,           1,           1,           1,           1,           1,           1,           1,           1,           1,           1,           1,           1,\n",
       "                  1,           1,           1,           1,           1,           1,           1,           1,           1,           1,           1,           1,           1,           1,           1,           1,           1,           1,           1,           1,           1,           1,           1,\n",
       "                  1,           1,           1,           1,           1,           1,           1,           1,           1,           1,           1,     0.95455,     0.95455,     0.95455,     0.95455,     0.95455,     0.95455,     0.95455,     0.95455,     0.95455,     0.95455,     0.95455,     0.95455,\n",
       "            0.95455,     0.95455,     0.95455,     0.95455,     0.95455,     0.95455,     0.95455,     0.95455,     0.95455,     0.95455,     0.95455,     0.95455,     0.95455,     0.95455,     0.95455,     0.95455,     0.95455,     0.95455,     0.95455,     0.95455,     0.95455,     0.95455,     0.95455,\n",
       "            0.95455,     0.95455,     0.95455,     0.95455,     0.95455,     0.95455,     0.95455,     0.95455,     0.95455,     0.95455,     0.95455,     0.95455,     0.95455,     0.95455,     0.95455,     0.95455,     0.95455,     0.95455,     0.95455,     0.95455,     0.95455,     0.95455,     0.95455,\n",
       "            0.95455,     0.95455,     0.95455,     0.95455,     0.95455,     0.95455,     0.95455,     0.95455,     0.95455,     0.95455,     0.95455,     0.95455,     0.95455,     0.95455,     0.95455,     0.95455,     0.95455,     0.95455,     0.95455,     0.95455,     0.95455,     0.95455,     0.95455,\n",
       "            0.95455,     0.95455,     0.95455,     0.95455,     0.95455,     0.95455,     0.95455,     0.95455,     0.95455,     0.95455,     0.95455,     0.95455,     0.95455,     0.95455,     0.95455,     0.95455,     0.95455,     0.95455,     0.95455,     0.95455,     0.95455,     0.95455,     0.95455,\n",
       "            0.95455,     0.95455,     0.95455,     0.95455,     0.95455,     0.95455,     0.95455,     0.95455,     0.95455,     0.95455,     0.95455,     0.95455,     0.95455,     0.95455,     0.95455,     0.95455,     0.95455,     0.95455,     0.95455,     0.95455,     0.95455,     0.95455,     0.95455,\n",
       "            0.95455,     0.95455,     0.95455,     0.95455,     0.95455,     0.95455,     0.95455,     0.95455,     0.95455,     0.95455,     0.95455,     0.95455,     0.95455,     0.95455,     0.95455,     0.95455,     0.95455,     0.95455,     0.95455,     0.95455,     0.95455,     0.95455,     0.95455,\n",
       "            0.95455,     0.95455,     0.95455,     0.95455,     0.95455,     0.95455,     0.95455,     0.95455,     0.95455,     0.95455,     0.95455,     0.95455,     0.95455,     0.95455,     0.95455,     0.95455,     0.95455,     0.95455,     0.95455,     0.95455,     0.95455,     0.95455,     0.95455,\n",
       "            0.95455,     0.95455,     0.95455,     0.95455,     0.95455,     0.95455,     0.95455,     0.95455,     0.95455,     0.95455,     0.95455,     0.95455,     0.95455,     0.95455,     0.95455,     0.95455,     0.95455,     0.95455,     0.95455,     0.95455,     0.95455,     0.95455,     0.95455,\n",
       "            0.95455,     0.95455,     0.95455,     0.95455,     0.95455,     0.95455,     0.95455,     0.95455,     0.95455,     0.95455,     0.95455,     0.95455,     0.95455,     0.95455,     0.95455,     0.95455,     0.95455,     0.95455,     0.95455,     0.95455,     0.95455,     0.95455,     0.95455,\n",
       "            0.95455,     0.95455,     0.95455,     0.95455,     0.95455,     0.95455,     0.95455,     0.95455,     0.95455,     0.95455,     0.95455,     0.95455,     0.95455,     0.95455,     0.95455,     0.95455,     0.95455,     0.95455,     0.95455,     0.95455,     0.95455,     0.95455,     0.95455,\n",
       "            0.95455,     0.95455,     0.95455,     0.95455,     0.95455,     0.95455,     0.95455,     0.95455,     0.95455,     0.95455,     0.95455,     0.95455,     0.95455,     0.95455,     0.95455,     0.95455,     0.95455,     0.95455,     0.95455,     0.95455,     0.95455,     0.95455,     0.95455,\n",
       "            0.95455,     0.95455,     0.95455,     0.95455,     0.95455,     0.95455,     0.95455,     0.95455,     0.95455,     0.95455,     0.95455,     0.95455,     0.95455,     0.95455,     0.95455,     0.95455,     0.95455,     0.95455,     0.95455,     0.95455,     0.95455,     0.95455,     0.95455,\n",
       "            0.95455,     0.95455,     0.95455,     0.95455,     0.95455,     0.95455,     0.95455,     0.95455,     0.95455,     0.95455,     0.95455,     0.95455,     0.95455,     0.95455,     0.95455,     0.95455,      0.6875,      0.6875,      0.6875,      0.6875,      0.6875,      0.6875,      0.6875,\n",
       "             0.6875,      0.6875,      0.6875,      0.6875,      0.6875,      0.6875,      0.6875,      0.6875,      0.6875,      0.6875,      0.6875,      0.6875,      0.6875,      0.6875,      0.6875,      0.6875,      0.6875,      0.6875,      0.6875,      0.6875,      0.6875,      0.6875,      0.6875,\n",
       "             0.6875,      0.6875,      0.6875,      0.6875,      0.6875,      0.6875,      0.6875,      0.6875,      0.6875,      0.6875,      0.6875,      0.6875,      0.6875,      0.2875,      0.2875,      0.2875,      0.2875,      0.2875,      0.2875,      0.2875,      0.2875,      0.2875,      0.2875,\n",
       "             0.2875,      0.2875,      0.2875,      0.2875,      0.2875,      0.2875,      0.2875,      0.2875,      0.2875,      0.2875,      0.2875,      0.2875,      0.2875,      0.2875,      0.2875,      0.2875,      0.2875,      0.2875,      0.2875,      0.2875,      0.2875,      0.2875,      0.2875,\n",
       "             0.2875,      0.2875,      0.2875,      0.2875,      0.2875,      0.2875,      0.2875,      0.2875,      0.2875,      0.2875,           0]]), 'Recall', 'Precision'], [array([          0,    0.001001,    0.002002,    0.003003,    0.004004,    0.005005,    0.006006,    0.007007,    0.008008,    0.009009,     0.01001,    0.011011,    0.012012,    0.013013,    0.014014,    0.015015,    0.016016,    0.017017,    0.018018,    0.019019,     0.02002,    0.021021,    0.022022,    0.023023,\n",
       "          0.024024,    0.025025,    0.026026,    0.027027,    0.028028,    0.029029,     0.03003,    0.031031,    0.032032,    0.033033,    0.034034,    0.035035,    0.036036,    0.037037,    0.038038,    0.039039,     0.04004,    0.041041,    0.042042,    0.043043,    0.044044,    0.045045,    0.046046,    0.047047,\n",
       "          0.048048,    0.049049,     0.05005,    0.051051,    0.052052,    0.053053,    0.054054,    0.055055,    0.056056,    0.057057,    0.058058,    0.059059,     0.06006,    0.061061,    0.062062,    0.063063,    0.064064,    0.065065,    0.066066,    0.067067,    0.068068,    0.069069,     0.07007,    0.071071,\n",
       "          0.072072,    0.073073,    0.074074,    0.075075,    0.076076,    0.077077,    0.078078,    0.079079,     0.08008,    0.081081,    0.082082,    0.083083,    0.084084,    0.085085,    0.086086,    0.087087,    0.088088,    0.089089,     0.09009,    0.091091,    0.092092,    0.093093,    0.094094,    0.095095,\n",
       "          0.096096,    0.097097,    0.098098,    0.099099,      0.1001,      0.1011,      0.1021,      0.1031,      0.1041,     0.10511,     0.10611,     0.10711,     0.10811,     0.10911,     0.11011,     0.11111,     0.11211,     0.11311,     0.11411,     0.11512,     0.11612,     0.11712,     0.11812,     0.11912,\n",
       "           0.12012,     0.12112,     0.12212,     0.12312,     0.12412,     0.12513,     0.12613,     0.12713,     0.12813,     0.12913,     0.13013,     0.13113,     0.13213,     0.13313,     0.13413,     0.13514,     0.13614,     0.13714,     0.13814,     0.13914,     0.14014,     0.14114,     0.14214,     0.14314,\n",
       "           0.14414,     0.14515,     0.14615,     0.14715,     0.14815,     0.14915,     0.15015,     0.15115,     0.15215,     0.15315,     0.15415,     0.15516,     0.15616,     0.15716,     0.15816,     0.15916,     0.16016,     0.16116,     0.16216,     0.16316,     0.16416,     0.16517,     0.16617,     0.16717,\n",
       "           0.16817,     0.16917,     0.17017,     0.17117,     0.17217,     0.17317,     0.17417,     0.17518,     0.17618,     0.17718,     0.17818,     0.17918,     0.18018,     0.18118,     0.18218,     0.18318,     0.18418,     0.18519,     0.18619,     0.18719,     0.18819,     0.18919,     0.19019,     0.19119,\n",
       "           0.19219,     0.19319,     0.19419,      0.1952,      0.1962,      0.1972,      0.1982,      0.1992,      0.2002,      0.2012,      0.2022,      0.2032,      0.2042,     0.20521,     0.20621,     0.20721,     0.20821,     0.20921,     0.21021,     0.21121,     0.21221,     0.21321,     0.21421,     0.21522,\n",
       "           0.21622,     0.21722,     0.21822,     0.21922,     0.22022,     0.22122,     0.22222,     0.22322,     0.22422,     0.22523,     0.22623,     0.22723,     0.22823,     0.22923,     0.23023,     0.23123,     0.23223,     0.23323,     0.23423,     0.23524,     0.23624,     0.23724,     0.23824,     0.23924,\n",
       "           0.24024,     0.24124,     0.24224,     0.24324,     0.24424,     0.24525,     0.24625,     0.24725,     0.24825,     0.24925,     0.25025,     0.25125,     0.25225,     0.25325,     0.25425,     0.25526,     0.25626,     0.25726,     0.25826,     0.25926,     0.26026,     0.26126,     0.26226,     0.26326,\n",
       "           0.26426,     0.26527,     0.26627,     0.26727,     0.26827,     0.26927,     0.27027,     0.27127,     0.27227,     0.27327,     0.27427,     0.27528,     0.27628,     0.27728,     0.27828,     0.27928,     0.28028,     0.28128,     0.28228,     0.28328,     0.28428,     0.28529,     0.28629,     0.28729,\n",
       "           0.28829,     0.28929,     0.29029,     0.29129,     0.29229,     0.29329,     0.29429,      0.2953,      0.2963,      0.2973,      0.2983,      0.2993,      0.3003,      0.3013,      0.3023,      0.3033,      0.3043,     0.30531,     0.30631,     0.30731,     0.30831,     0.30931,     0.31031,     0.31131,\n",
       "           0.31231,     0.31331,     0.31431,     0.31532,     0.31632,     0.31732,     0.31832,     0.31932,     0.32032,     0.32132,     0.32232,     0.32332,     0.32432,     0.32533,     0.32633,     0.32733,     0.32833,     0.32933,     0.33033,     0.33133,     0.33233,     0.33333,     0.33433,     0.33534,\n",
       "           0.33634,     0.33734,     0.33834,     0.33934,     0.34034,     0.34134,     0.34234,     0.34334,     0.34434,     0.34535,     0.34635,     0.34735,     0.34835,     0.34935,     0.35035,     0.35135,     0.35235,     0.35335,     0.35435,     0.35536,     0.35636,     0.35736,     0.35836,     0.35936,\n",
       "           0.36036,     0.36136,     0.36236,     0.36336,     0.36436,     0.36537,     0.36637,     0.36737,     0.36837,     0.36937,     0.37037,     0.37137,     0.37237,     0.37337,     0.37437,     0.37538,     0.37638,     0.37738,     0.37838,     0.37938,     0.38038,     0.38138,     0.38238,     0.38338,\n",
       "           0.38438,     0.38539,     0.38639,     0.38739,     0.38839,     0.38939,     0.39039,     0.39139,     0.39239,     0.39339,     0.39439,      0.3954,      0.3964,      0.3974,      0.3984,      0.3994,      0.4004,      0.4014,      0.4024,      0.4034,      0.4044,     0.40541,     0.40641,     0.40741,\n",
       "           0.40841,     0.40941,     0.41041,     0.41141,     0.41241,     0.41341,     0.41441,     0.41542,     0.41642,     0.41742,     0.41842,     0.41942,     0.42042,     0.42142,     0.42242,     0.42342,     0.42442,     0.42543,     0.42643,     0.42743,     0.42843,     0.42943,     0.43043,     0.43143,\n",
       "           0.43243,     0.43343,     0.43443,     0.43544,     0.43644,     0.43744,     0.43844,     0.43944,     0.44044,     0.44144,     0.44244,     0.44344,     0.44444,     0.44545,     0.44645,     0.44745,     0.44845,     0.44945,     0.45045,     0.45145,     0.45245,     0.45345,     0.45445,     0.45546,\n",
       "           0.45646,     0.45746,     0.45846,     0.45946,     0.46046,     0.46146,     0.46246,     0.46346,     0.46446,     0.46547,     0.46647,     0.46747,     0.46847,     0.46947,     0.47047,     0.47147,     0.47247,     0.47347,     0.47447,     0.47548,     0.47648,     0.47748,     0.47848,     0.47948,\n",
       "           0.48048,     0.48148,     0.48248,     0.48348,     0.48448,     0.48549,     0.48649,     0.48749,     0.48849,     0.48949,     0.49049,     0.49149,     0.49249,     0.49349,     0.49449,      0.4955,      0.4965,      0.4975,      0.4985,      0.4995,      0.5005,      0.5015,      0.5025,      0.5035,\n",
       "            0.5045,     0.50551,     0.50651,     0.50751,     0.50851,     0.50951,     0.51051,     0.51151,     0.51251,     0.51351,     0.51451,     0.51552,     0.51652,     0.51752,     0.51852,     0.51952,     0.52052,     0.52152,     0.52252,     0.52352,     0.52452,     0.52553,     0.52653,     0.52753,\n",
       "           0.52853,     0.52953,     0.53053,     0.53153,     0.53253,     0.53353,     0.53453,     0.53554,     0.53654,     0.53754,     0.53854,     0.53954,     0.54054,     0.54154,     0.54254,     0.54354,     0.54454,     0.54555,     0.54655,     0.54755,     0.54855,     0.54955,     0.55055,     0.55155,\n",
       "           0.55255,     0.55355,     0.55455,     0.55556,     0.55656,     0.55756,     0.55856,     0.55956,     0.56056,     0.56156,     0.56256,     0.56356,     0.56456,     0.56557,     0.56657,     0.56757,     0.56857,     0.56957,     0.57057,     0.57157,     0.57257,     0.57357,     0.57457,     0.57558,\n",
       "           0.57658,     0.57758,     0.57858,     0.57958,     0.58058,     0.58158,     0.58258,     0.58358,     0.58458,     0.58559,     0.58659,     0.58759,     0.58859,     0.58959,     0.59059,     0.59159,     0.59259,     0.59359,     0.59459,      0.5956,      0.5966,      0.5976,      0.5986,      0.5996,\n",
       "            0.6006,      0.6016,      0.6026,      0.6036,      0.6046,     0.60561,     0.60661,     0.60761,     0.60861,     0.60961,     0.61061,     0.61161,     0.61261,     0.61361,     0.61461,     0.61562,     0.61662,     0.61762,     0.61862,     0.61962,     0.62062,     0.62162,     0.62262,     0.62362,\n",
       "           0.62462,     0.62563,     0.62663,     0.62763,     0.62863,     0.62963,     0.63063,     0.63163,     0.63263,     0.63363,     0.63463,     0.63564,     0.63664,     0.63764,     0.63864,     0.63964,     0.64064,     0.64164,     0.64264,     0.64364,     0.64464,     0.64565,     0.64665,     0.64765,\n",
       "           0.64865,     0.64965,     0.65065,     0.65165,     0.65265,     0.65365,     0.65465,     0.65566,     0.65666,     0.65766,     0.65866,     0.65966,     0.66066,     0.66166,     0.66266,     0.66366,     0.66466,     0.66567,     0.66667,     0.66767,     0.66867,     0.66967,     0.67067,     0.67167,\n",
       "           0.67267,     0.67367,     0.67467,     0.67568,     0.67668,     0.67768,     0.67868,     0.67968,     0.68068,     0.68168,     0.68268,     0.68368,     0.68468,     0.68569,     0.68669,     0.68769,     0.68869,     0.68969,     0.69069,     0.69169,     0.69269,     0.69369,     0.69469,      0.6957,\n",
       "            0.6967,      0.6977,      0.6987,      0.6997,      0.7007,      0.7017,      0.7027,      0.7037,      0.7047,     0.70571,     0.70671,     0.70771,     0.70871,     0.70971,     0.71071,     0.71171,     0.71271,     0.71371,     0.71471,     0.71572,     0.71672,     0.71772,     0.71872,     0.71972,\n",
       "           0.72072,     0.72172,     0.72272,     0.72372,     0.72472,     0.72573,     0.72673,     0.72773,     0.72873,     0.72973,     0.73073,     0.73173,     0.73273,     0.73373,     0.73473,     0.73574,     0.73674,     0.73774,     0.73874,     0.73974,     0.74074,     0.74174,     0.74274,     0.74374,\n",
       "           0.74474,     0.74575,     0.74675,     0.74775,     0.74875,     0.74975,     0.75075,     0.75175,     0.75275,     0.75375,     0.75475,     0.75576,     0.75676,     0.75776,     0.75876,     0.75976,     0.76076,     0.76176,     0.76276,     0.76376,     0.76476,     0.76577,     0.76677,     0.76777,\n",
       "           0.76877,     0.76977,     0.77077,     0.77177,     0.77277,     0.77377,     0.77477,     0.77578,     0.77678,     0.77778,     0.77878,     0.77978,     0.78078,     0.78178,     0.78278,     0.78378,     0.78478,     0.78579,     0.78679,     0.78779,     0.78879,     0.78979,     0.79079,     0.79179,\n",
       "           0.79279,     0.79379,     0.79479,      0.7958,      0.7968,      0.7978,      0.7988,      0.7998,      0.8008,      0.8018,      0.8028,      0.8038,      0.8048,     0.80581,     0.80681,     0.80781,     0.80881,     0.80981,     0.81081,     0.81181,     0.81281,     0.81381,     0.81481,     0.81582,\n",
       "           0.81682,     0.81782,     0.81882,     0.81982,     0.82082,     0.82182,     0.82282,     0.82382,     0.82482,     0.82583,     0.82683,     0.82783,     0.82883,     0.82983,     0.83083,     0.83183,     0.83283,     0.83383,     0.83483,     0.83584,     0.83684,     0.83784,     0.83884,     0.83984,\n",
       "           0.84084,     0.84184,     0.84284,     0.84384,     0.84484,     0.84585,     0.84685,     0.84785,     0.84885,     0.84985,     0.85085,     0.85185,     0.85285,     0.85385,     0.85485,     0.85586,     0.85686,     0.85786,     0.85886,     0.85986,     0.86086,     0.86186,     0.86286,     0.86386,\n",
       "           0.86486,     0.86587,     0.86687,     0.86787,     0.86887,     0.86987,     0.87087,     0.87187,     0.87287,     0.87387,     0.87487,     0.87588,     0.87688,     0.87788,     0.87888,     0.87988,     0.88088,     0.88188,     0.88288,     0.88388,     0.88488,     0.88589,     0.88689,     0.88789,\n",
       "           0.88889,     0.88989,     0.89089,     0.89189,     0.89289,     0.89389,     0.89489,      0.8959,      0.8969,      0.8979,      0.8989,      0.8999,      0.9009,      0.9019,      0.9029,      0.9039,      0.9049,     0.90591,     0.90691,     0.90791,     0.90891,     0.90991,     0.91091,     0.91191,\n",
       "           0.91291,     0.91391,     0.91491,     0.91592,     0.91692,     0.91792,     0.91892,     0.91992,     0.92092,     0.92192,     0.92292,     0.92392,     0.92492,     0.92593,     0.92693,     0.92793,     0.92893,     0.92993,     0.93093,     0.93193,     0.93293,     0.93393,     0.93493,     0.93594,\n",
       "           0.93694,     0.93794,     0.93894,     0.93994,     0.94094,     0.94194,     0.94294,     0.94394,     0.94494,     0.94595,     0.94695,     0.94795,     0.94895,     0.94995,     0.95095,     0.95195,     0.95295,     0.95395,     0.95495,     0.95596,     0.95696,     0.95796,     0.95896,     0.95996,\n",
       "           0.96096,     0.96196,     0.96296,     0.96396,     0.96496,     0.96597,     0.96697,     0.96797,     0.96897,     0.96997,     0.97097,     0.97197,     0.97297,     0.97397,     0.97497,     0.97598,     0.97698,     0.97798,     0.97898,     0.97998,     0.98098,     0.98198,     0.98298,     0.98398,\n",
       "           0.98498,     0.98599,     0.98699,     0.98799,     0.98899,     0.98999,     0.99099,     0.99199,     0.99299,     0.99399,     0.99499,       0.996,       0.997,       0.998,       0.999,           1]), array([[   0.030204,    0.030204,    0.030204,    0.030204,    0.030204,    0.030204,    0.030204,    0.030204,    0.030204,     0.03047,    0.034535,    0.040655,     0.04802,    0.055948,    0.065167,    0.075287,    0.085487,    0.098408,     0.11097,     0.12172,      0.1349,     0.14499,     0.15372,\n",
       "            0.16591,      0.1759,     0.19485,     0.21165,     0.22808,     0.24357,     0.25263,     0.27045,     0.28754,     0.30251,     0.31518,     0.33206,     0.36253,      0.3766,     0.38608,     0.40471,     0.41954,     0.42693,     0.44211,     0.44303,     0.45595,     0.46189,     0.46721,\n",
       "            0.48192,     0.49958,     0.52238,     0.53294,     0.54436,     0.55249,     0.55762,     0.58781,     0.59281,     0.60418,     0.61002,       0.624,     0.64217,     0.66251,     0.66981,     0.67469,     0.68506,     0.69096,     0.69508,     0.71088,     0.72235,     0.72463,      0.7269,\n",
       "            0.72916,     0.73142,     0.75926,      0.7994,      0.7873,     0.80108,     0.80842,     0.81079,     0.81315,     0.81549,     0.81783,     0.82015,     0.82247,      0.8251,       0.828,     0.83089,     0.83376,     0.83662,     0.83945,     0.85141,     0.85936,      0.8631,     0.86682,\n",
       "            0.87051,     0.87416,     0.87574,     0.87671,     0.87767,     0.87863,     0.87959,     0.88055,      0.8815,     0.88246,     0.88341,     0.88436,      0.8853,     0.88625,     0.88719,     0.88813,     0.88907,     0.89001,     0.89095,     0.89188,     0.89281,     0.89398,     0.89664,\n",
       "            0.89928,     0.90191,     0.90452,     0.90712,      0.9097,     0.91227,     0.93075,     0.92113,     0.91135,     0.90004,     0.88811,     0.88023,      0.8747,     0.86912,      0.8635,     0.85782,     0.85419,     0.85083,     0.84745,     0.84405,     0.84064,      0.8372,     0.83375,\n",
       "            0.83028,     0.81522,     0.79789,     0.78931,     0.78061,      0.7718,      0.7678,     0.76578,     0.76376,     0.76173,     0.75969,     0.75765,      0.7556,     0.75354,     0.75148,     0.74942,     0.74734,     0.74526,     0.74318,     0.74109,     0.73899,     0.73689,     0.74594,\n",
       "            0.75487,     0.75543,     0.75373,     0.75203,     0.75033,     0.74862,      0.7469,     0.74518,     0.74346,     0.74173,     0.73999,     0.73826,     0.73651,     0.73476,     0.73301,     0.73125,     0.72949,     0.72772,     0.72595,     0.72417,     0.72239,     0.71963,     0.71676,\n",
       "            0.71387,     0.71098,     0.70807,     0.70514,      0.7022,     0.69925,     0.69629,     0.69331,     0.69032,     0.68732,     0.68535,     0.68456,     0.68377,     0.68298,     0.68219,     0.68139,      0.6806,     0.67981,     0.67901,     0.67822,     0.67742,     0.67662,     0.67582,\n",
       "            0.67502,     0.67422,     0.67342,     0.67262,     0.67181,     0.67101,      0.6702,     0.66939,     0.66859,     0.66778,     0.66697,     0.66616,     0.66535,     0.66453,     0.66372,     0.66291,     0.66209,     0.66127,     0.66046,     0.65964,     0.65882,       0.658,     0.65718,\n",
       "            0.65635,     0.65553,      0.6547,     0.65388,     0.65305,     0.65222,      0.6514,     0.65057,     0.64974,      0.6489,     0.64807,     0.64724,     0.62533,     0.60545,     0.60354,     0.60163,     0.59971,     0.59778,     0.59586,     0.59392,     0.59198,     0.59004,     0.58809,\n",
       "            0.58613,     0.58417,     0.58221,     0.58023,     0.57826,     0.57627,     0.57429,     0.57229,     0.57029,     0.56829,     0.56628,     0.56426,     0.56053,     0.54497,     0.52907,     0.51557,      0.5128,     0.51002,     0.50723,     0.50442,     0.50161,     0.49879,     0.49595,\n",
       "            0.49311,     0.49025,     0.48738,     0.48451,     0.48162,     0.47872,     0.47581,     0.47288,     0.46995,     0.46701,     0.46443,     0.46189,     0.45935,     0.45679,     0.45423,     0.45166,     0.44908,      0.4465,      0.4439,      0.4413,     0.43868,     0.43606,     0.43343,\n",
       "            0.43079,     0.42814,     0.42548,     0.42282,     0.42014,     0.41745,     0.41476,     0.41161,      0.4082,     0.40477,     0.40132,     0.39786,     0.39439,      0.3909,      0.3874,     0.38388,     0.38034,     0.37679,     0.37322,     0.36964,     0.36604,     0.36243,      0.3588,\n",
       "            0.31229,      0.2897,     0.28151,     0.27325,      0.2649,     0.25648,     0.24797,     0.23938,     0.23076,     0.22912,     0.22749,     0.22585,     0.22421,     0.22256,     0.22091,     0.21926,     0.21761,     0.21595,     0.21429,     0.21262,     0.21096,     0.20929,     0.20761,\n",
       "            0.20594,     0.20426,     0.20258,     0.20089,      0.1992,     0.19751,     0.19582,     0.19412,     0.19242,     0.19071,       0.189,     0.18729,     0.18558,     0.18386,     0.18214,     0.18042,     0.17869,     0.17696,     0.17522,     0.17349,     0.17175,        0.17,     0.16825,\n",
       "             0.1665,     0.16475,     0.16299,     0.16123,     0.15982,     0.15923,     0.15864,     0.15805,     0.15746,     0.15687,     0.15628,     0.15569,     0.15509,      0.1545,     0.15391,     0.15331,     0.15272,     0.15213,     0.15153,     0.15094,     0.15034,     0.14975,     0.14915,\n",
       "            0.14855,     0.14796,     0.14736,     0.14676,     0.14616,     0.14556,     0.14497,     0.14437,     0.14377,     0.14317,     0.14257,     0.14197,     0.14136,     0.14076,     0.14016,     0.13956,     0.13896,     0.13835,     0.13775,     0.13714,     0.13654,     0.13594,     0.13533,\n",
       "            0.13473,     0.13412,     0.13351,     0.13291,      0.1323,     0.13169,     0.13108,     0.13048,     0.12987,     0.12926,     0.12865,     0.12804,     0.12743,     0.12682,     0.12621,      0.1256,     0.12498,     0.12437,     0.12376,     0.12315,     0.12253,     0.12192,      0.1213,\n",
       "            0.12069,     0.12007,     0.11946,     0.11884,     0.11823,     0.11761,     0.11699,     0.11638,     0.11576,     0.11514,     0.11452,      0.1139,     0.11328,     0.11266,     0.11204,     0.11142,      0.1108,     0.11018,     0.10956,     0.10893,     0.10831,     0.10769,     0.10706,\n",
       "            0.10644,     0.10582,     0.10519,     0.10457,     0.10394,     0.10331,     0.10269,     0.10206,     0.10143,     0.10081,     0.10018,     0.09955,    0.098921,    0.098291,    0.097662,    0.097031,    0.096401,     0.09577,    0.095138,    0.094506,    0.093874,    0.093241,    0.092608,\n",
       "           0.091975,    0.091341,    0.090706,    0.090071,    0.089436,    0.088801,    0.088164,    0.087528,    0.086891,    0.086254,    0.085616,    0.084978,    0.084339,      0.0837,           0,           0,           0,           0,           0,           0,           0,           0,           0,\n",
       "                  0,           0,           0,           0,           0,           0,           0,           0,           0,           0,           0,           0,           0,           0,           0,           0,           0,           0,           0,           0,           0,           0,           0,\n",
       "                  0,           0,           0,           0,           0,           0,           0,           0,           0,           0,           0,           0,           0,           0,           0,           0,           0,           0,           0,           0,           0,           0,           0,\n",
       "                  0,           0,           0,           0,           0,           0,           0,           0,           0,           0,           0,           0,           0,           0,           0,           0,           0,           0,           0,           0,           0,           0,           0,\n",
       "                  0,           0,           0,           0,           0,           0,           0,           0,           0,           0,           0,           0,           0,           0,           0,           0,           0,           0,           0,           0,           0,           0,           0,\n",
       "                  0,           0,           0,           0,           0,           0,           0,           0,           0,           0,           0,           0,           0,           0,           0,           0,           0,           0,           0,           0,           0,           0,           0,\n",
       "                  0,           0,           0,           0,           0,           0,           0,           0,           0,           0,           0,           0,           0,           0,           0,           0,           0,           0,           0,           0,           0,           0,           0,\n",
       "                  0,           0,           0,           0,           0,           0,           0,           0,           0,           0,           0,           0,           0,           0,           0,           0,           0,           0,           0,           0,           0,           0,           0,\n",
       "                  0,           0,           0,           0,           0,           0,           0,           0,           0,           0,           0,           0,           0,           0,           0,           0,           0,           0,           0,           0,           0,           0,           0,\n",
       "                  0,           0,           0,           0,           0,           0,           0,           0,           0,           0,           0,           0,           0,           0,           0,           0,           0,           0,           0,           0,           0,           0,           0,\n",
       "                  0,           0,           0,           0,           0,           0,           0,           0,           0,           0,           0,           0,           0,           0,           0,           0,           0,           0,           0,           0,           0,           0,           0,\n",
       "                  0,           0,           0,           0,           0,           0,           0,           0,           0,           0,           0,           0,           0,           0,           0,           0,           0,           0,           0,           0,           0,           0,           0,\n",
       "                  0,           0,           0,           0,           0,           0,           0,           0,           0,           0,           0,           0,           0,           0,           0,           0,           0,           0,           0,           0,           0,           0,           0,\n",
       "                  0,           0,           0,           0,           0,           0,           0,           0,           0,           0,           0,           0,           0,           0,           0,           0,           0,           0,           0,           0,           0,           0,           0,\n",
       "                  0,           0,           0,           0,           0,           0,           0,           0,           0,           0,           0,           0,           0,           0,           0,           0,           0,           0,           0,           0,           0,           0,           0,\n",
       "                  0,           0,           0,           0,           0,           0,           0,           0,           0,           0,           0,           0,           0,           0,           0,           0,           0,           0,           0,           0,           0,           0,           0,\n",
       "                  0,           0,           0,           0,           0,           0,           0,           0,           0,           0,           0,           0,           0,           0,           0,           0,           0,           0,           0,           0,           0,           0,           0,\n",
       "                  0,           0,           0,           0,           0,           0,           0,           0,           0,           0,           0,           0,           0,           0,           0,           0,           0,           0,           0,           0,           0,           0,           0,\n",
       "                  0,           0,           0,           0,           0,           0,           0,           0,           0,           0,           0,           0,           0,           0,           0,           0,           0,           0,           0,           0,           0,           0,           0,\n",
       "                  0,           0,           0,           0,           0,           0,           0,           0,           0,           0,           0,           0,           0,           0,           0,           0,           0,           0,           0,           0,           0,           0,           0,\n",
       "                  0,           0,           0,           0,           0,           0,           0,           0,           0,           0,           0,           0,           0,           0,           0,           0,           0,           0,           0,           0,           0,           0,           0,\n",
       "                  0,           0,           0,           0,           0,           0,           0,           0,           0,           0,           0,           0,           0,           0,           0,           0,           0,           0,           0,           0,           0,           0,           0,\n",
       "                  0,           0,           0,           0,           0,           0,           0,           0,           0,           0,           0]]), 'Confidence', 'F1'], [array([          0,    0.001001,    0.002002,    0.003003,    0.004004,    0.005005,    0.006006,    0.007007,    0.008008,    0.009009,     0.01001,    0.011011,    0.012012,    0.013013,    0.014014,    0.015015,    0.016016,    0.017017,    0.018018,    0.019019,     0.02002,    0.021021,    0.022022,    0.023023,\n",
       "          0.024024,    0.025025,    0.026026,    0.027027,    0.028028,    0.029029,     0.03003,    0.031031,    0.032032,    0.033033,    0.034034,    0.035035,    0.036036,    0.037037,    0.038038,    0.039039,     0.04004,    0.041041,    0.042042,    0.043043,    0.044044,    0.045045,    0.046046,    0.047047,\n",
       "          0.048048,    0.049049,     0.05005,    0.051051,    0.052052,    0.053053,    0.054054,    0.055055,    0.056056,    0.057057,    0.058058,    0.059059,     0.06006,    0.061061,    0.062062,    0.063063,    0.064064,    0.065065,    0.066066,    0.067067,    0.068068,    0.069069,     0.07007,    0.071071,\n",
       "          0.072072,    0.073073,    0.074074,    0.075075,    0.076076,    0.077077,    0.078078,    0.079079,     0.08008,    0.081081,    0.082082,    0.083083,    0.084084,    0.085085,    0.086086,    0.087087,    0.088088,    0.089089,     0.09009,    0.091091,    0.092092,    0.093093,    0.094094,    0.095095,\n",
       "          0.096096,    0.097097,    0.098098,    0.099099,      0.1001,      0.1011,      0.1021,      0.1031,      0.1041,     0.10511,     0.10611,     0.10711,     0.10811,     0.10911,     0.11011,     0.11111,     0.11211,     0.11311,     0.11411,     0.11512,     0.11612,     0.11712,     0.11812,     0.11912,\n",
       "           0.12012,     0.12112,     0.12212,     0.12312,     0.12412,     0.12513,     0.12613,     0.12713,     0.12813,     0.12913,     0.13013,     0.13113,     0.13213,     0.13313,     0.13413,     0.13514,     0.13614,     0.13714,     0.13814,     0.13914,     0.14014,     0.14114,     0.14214,     0.14314,\n",
       "           0.14414,     0.14515,     0.14615,     0.14715,     0.14815,     0.14915,     0.15015,     0.15115,     0.15215,     0.15315,     0.15415,     0.15516,     0.15616,     0.15716,     0.15816,     0.15916,     0.16016,     0.16116,     0.16216,     0.16316,     0.16416,     0.16517,     0.16617,     0.16717,\n",
       "           0.16817,     0.16917,     0.17017,     0.17117,     0.17217,     0.17317,     0.17417,     0.17518,     0.17618,     0.17718,     0.17818,     0.17918,     0.18018,     0.18118,     0.18218,     0.18318,     0.18418,     0.18519,     0.18619,     0.18719,     0.18819,     0.18919,     0.19019,     0.19119,\n",
       "           0.19219,     0.19319,     0.19419,      0.1952,      0.1962,      0.1972,      0.1982,      0.1992,      0.2002,      0.2012,      0.2022,      0.2032,      0.2042,     0.20521,     0.20621,     0.20721,     0.20821,     0.20921,     0.21021,     0.21121,     0.21221,     0.21321,     0.21421,     0.21522,\n",
       "           0.21622,     0.21722,     0.21822,     0.21922,     0.22022,     0.22122,     0.22222,     0.22322,     0.22422,     0.22523,     0.22623,     0.22723,     0.22823,     0.22923,     0.23023,     0.23123,     0.23223,     0.23323,     0.23423,     0.23524,     0.23624,     0.23724,     0.23824,     0.23924,\n",
       "           0.24024,     0.24124,     0.24224,     0.24324,     0.24424,     0.24525,     0.24625,     0.24725,     0.24825,     0.24925,     0.25025,     0.25125,     0.25225,     0.25325,     0.25425,     0.25526,     0.25626,     0.25726,     0.25826,     0.25926,     0.26026,     0.26126,     0.26226,     0.26326,\n",
       "           0.26426,     0.26527,     0.26627,     0.26727,     0.26827,     0.26927,     0.27027,     0.27127,     0.27227,     0.27327,     0.27427,     0.27528,     0.27628,     0.27728,     0.27828,     0.27928,     0.28028,     0.28128,     0.28228,     0.28328,     0.28428,     0.28529,     0.28629,     0.28729,\n",
       "           0.28829,     0.28929,     0.29029,     0.29129,     0.29229,     0.29329,     0.29429,      0.2953,      0.2963,      0.2973,      0.2983,      0.2993,      0.3003,      0.3013,      0.3023,      0.3033,      0.3043,     0.30531,     0.30631,     0.30731,     0.30831,     0.30931,     0.31031,     0.31131,\n",
       "           0.31231,     0.31331,     0.31431,     0.31532,     0.31632,     0.31732,     0.31832,     0.31932,     0.32032,     0.32132,     0.32232,     0.32332,     0.32432,     0.32533,     0.32633,     0.32733,     0.32833,     0.32933,     0.33033,     0.33133,     0.33233,     0.33333,     0.33433,     0.33534,\n",
       "           0.33634,     0.33734,     0.33834,     0.33934,     0.34034,     0.34134,     0.34234,     0.34334,     0.34434,     0.34535,     0.34635,     0.34735,     0.34835,     0.34935,     0.35035,     0.35135,     0.35235,     0.35335,     0.35435,     0.35536,     0.35636,     0.35736,     0.35836,     0.35936,\n",
       "           0.36036,     0.36136,     0.36236,     0.36336,     0.36436,     0.36537,     0.36637,     0.36737,     0.36837,     0.36937,     0.37037,     0.37137,     0.37237,     0.37337,     0.37437,     0.37538,     0.37638,     0.37738,     0.37838,     0.37938,     0.38038,     0.38138,     0.38238,     0.38338,\n",
       "           0.38438,     0.38539,     0.38639,     0.38739,     0.38839,     0.38939,     0.39039,     0.39139,     0.39239,     0.39339,     0.39439,      0.3954,      0.3964,      0.3974,      0.3984,      0.3994,      0.4004,      0.4014,      0.4024,      0.4034,      0.4044,     0.40541,     0.40641,     0.40741,\n",
       "           0.40841,     0.40941,     0.41041,     0.41141,     0.41241,     0.41341,     0.41441,     0.41542,     0.41642,     0.41742,     0.41842,     0.41942,     0.42042,     0.42142,     0.42242,     0.42342,     0.42442,     0.42543,     0.42643,     0.42743,     0.42843,     0.42943,     0.43043,     0.43143,\n",
       "           0.43243,     0.43343,     0.43443,     0.43544,     0.43644,     0.43744,     0.43844,     0.43944,     0.44044,     0.44144,     0.44244,     0.44344,     0.44444,     0.44545,     0.44645,     0.44745,     0.44845,     0.44945,     0.45045,     0.45145,     0.45245,     0.45345,     0.45445,     0.45546,\n",
       "           0.45646,     0.45746,     0.45846,     0.45946,     0.46046,     0.46146,     0.46246,     0.46346,     0.46446,     0.46547,     0.46647,     0.46747,     0.46847,     0.46947,     0.47047,     0.47147,     0.47247,     0.47347,     0.47447,     0.47548,     0.47648,     0.47748,     0.47848,     0.47948,\n",
       "           0.48048,     0.48148,     0.48248,     0.48348,     0.48448,     0.48549,     0.48649,     0.48749,     0.48849,     0.48949,     0.49049,     0.49149,     0.49249,     0.49349,     0.49449,      0.4955,      0.4965,      0.4975,      0.4985,      0.4995,      0.5005,      0.5015,      0.5025,      0.5035,\n",
       "            0.5045,     0.50551,     0.50651,     0.50751,     0.50851,     0.50951,     0.51051,     0.51151,     0.51251,     0.51351,     0.51451,     0.51552,     0.51652,     0.51752,     0.51852,     0.51952,     0.52052,     0.52152,     0.52252,     0.52352,     0.52452,     0.52553,     0.52653,     0.52753,\n",
       "           0.52853,     0.52953,     0.53053,     0.53153,     0.53253,     0.53353,     0.53453,     0.53554,     0.53654,     0.53754,     0.53854,     0.53954,     0.54054,     0.54154,     0.54254,     0.54354,     0.54454,     0.54555,     0.54655,     0.54755,     0.54855,     0.54955,     0.55055,     0.55155,\n",
       "           0.55255,     0.55355,     0.55455,     0.55556,     0.55656,     0.55756,     0.55856,     0.55956,     0.56056,     0.56156,     0.56256,     0.56356,     0.56456,     0.56557,     0.56657,     0.56757,     0.56857,     0.56957,     0.57057,     0.57157,     0.57257,     0.57357,     0.57457,     0.57558,\n",
       "           0.57658,     0.57758,     0.57858,     0.57958,     0.58058,     0.58158,     0.58258,     0.58358,     0.58458,     0.58559,     0.58659,     0.58759,     0.58859,     0.58959,     0.59059,     0.59159,     0.59259,     0.59359,     0.59459,      0.5956,      0.5966,      0.5976,      0.5986,      0.5996,\n",
       "            0.6006,      0.6016,      0.6026,      0.6036,      0.6046,     0.60561,     0.60661,     0.60761,     0.60861,     0.60961,     0.61061,     0.61161,     0.61261,     0.61361,     0.61461,     0.61562,     0.61662,     0.61762,     0.61862,     0.61962,     0.62062,     0.62162,     0.62262,     0.62362,\n",
       "           0.62462,     0.62563,     0.62663,     0.62763,     0.62863,     0.62963,     0.63063,     0.63163,     0.63263,     0.63363,     0.63463,     0.63564,     0.63664,     0.63764,     0.63864,     0.63964,     0.64064,     0.64164,     0.64264,     0.64364,     0.64464,     0.64565,     0.64665,     0.64765,\n",
       "           0.64865,     0.64965,     0.65065,     0.65165,     0.65265,     0.65365,     0.65465,     0.65566,     0.65666,     0.65766,     0.65866,     0.65966,     0.66066,     0.66166,     0.66266,     0.66366,     0.66466,     0.66567,     0.66667,     0.66767,     0.66867,     0.66967,     0.67067,     0.67167,\n",
       "           0.67267,     0.67367,     0.67467,     0.67568,     0.67668,     0.67768,     0.67868,     0.67968,     0.68068,     0.68168,     0.68268,     0.68368,     0.68468,     0.68569,     0.68669,     0.68769,     0.68869,     0.68969,     0.69069,     0.69169,     0.69269,     0.69369,     0.69469,      0.6957,\n",
       "            0.6967,      0.6977,      0.6987,      0.6997,      0.7007,      0.7017,      0.7027,      0.7037,      0.7047,     0.70571,     0.70671,     0.70771,     0.70871,     0.70971,     0.71071,     0.71171,     0.71271,     0.71371,     0.71471,     0.71572,     0.71672,     0.71772,     0.71872,     0.71972,\n",
       "           0.72072,     0.72172,     0.72272,     0.72372,     0.72472,     0.72573,     0.72673,     0.72773,     0.72873,     0.72973,     0.73073,     0.73173,     0.73273,     0.73373,     0.73473,     0.73574,     0.73674,     0.73774,     0.73874,     0.73974,     0.74074,     0.74174,     0.74274,     0.74374,\n",
       "           0.74474,     0.74575,     0.74675,     0.74775,     0.74875,     0.74975,     0.75075,     0.75175,     0.75275,     0.75375,     0.75475,     0.75576,     0.75676,     0.75776,     0.75876,     0.75976,     0.76076,     0.76176,     0.76276,     0.76376,     0.76476,     0.76577,     0.76677,     0.76777,\n",
       "           0.76877,     0.76977,     0.77077,     0.77177,     0.77277,     0.77377,     0.77477,     0.77578,     0.77678,     0.77778,     0.77878,     0.77978,     0.78078,     0.78178,     0.78278,     0.78378,     0.78478,     0.78579,     0.78679,     0.78779,     0.78879,     0.78979,     0.79079,     0.79179,\n",
       "           0.79279,     0.79379,     0.79479,      0.7958,      0.7968,      0.7978,      0.7988,      0.7998,      0.8008,      0.8018,      0.8028,      0.8038,      0.8048,     0.80581,     0.80681,     0.80781,     0.80881,     0.80981,     0.81081,     0.81181,     0.81281,     0.81381,     0.81481,     0.81582,\n",
       "           0.81682,     0.81782,     0.81882,     0.81982,     0.82082,     0.82182,     0.82282,     0.82382,     0.82482,     0.82583,     0.82683,     0.82783,     0.82883,     0.82983,     0.83083,     0.83183,     0.83283,     0.83383,     0.83483,     0.83584,     0.83684,     0.83784,     0.83884,     0.83984,\n",
       "           0.84084,     0.84184,     0.84284,     0.84384,     0.84484,     0.84585,     0.84685,     0.84785,     0.84885,     0.84985,     0.85085,     0.85185,     0.85285,     0.85385,     0.85485,     0.85586,     0.85686,     0.85786,     0.85886,     0.85986,     0.86086,     0.86186,     0.86286,     0.86386,\n",
       "           0.86486,     0.86587,     0.86687,     0.86787,     0.86887,     0.86987,     0.87087,     0.87187,     0.87287,     0.87387,     0.87487,     0.87588,     0.87688,     0.87788,     0.87888,     0.87988,     0.88088,     0.88188,     0.88288,     0.88388,     0.88488,     0.88589,     0.88689,     0.88789,\n",
       "           0.88889,     0.88989,     0.89089,     0.89189,     0.89289,     0.89389,     0.89489,      0.8959,      0.8969,      0.8979,      0.8989,      0.8999,      0.9009,      0.9019,      0.9029,      0.9039,      0.9049,     0.90591,     0.90691,     0.90791,     0.90891,     0.90991,     0.91091,     0.91191,\n",
       "           0.91291,     0.91391,     0.91491,     0.91592,     0.91692,     0.91792,     0.91892,     0.91992,     0.92092,     0.92192,     0.92292,     0.92392,     0.92492,     0.92593,     0.92693,     0.92793,     0.92893,     0.92993,     0.93093,     0.93193,     0.93293,     0.93393,     0.93493,     0.93594,\n",
       "           0.93694,     0.93794,     0.93894,     0.93994,     0.94094,     0.94194,     0.94294,     0.94394,     0.94494,     0.94595,     0.94695,     0.94795,     0.94895,     0.94995,     0.95095,     0.95195,     0.95295,     0.95395,     0.95495,     0.95596,     0.95696,     0.95796,     0.95896,     0.95996,\n",
       "           0.96096,     0.96196,     0.96296,     0.96396,     0.96496,     0.96597,     0.96697,     0.96797,     0.96897,     0.96997,     0.97097,     0.97197,     0.97297,     0.97397,     0.97497,     0.97598,     0.97698,     0.97798,     0.97898,     0.97998,     0.98098,     0.98198,     0.98298,     0.98398,\n",
       "           0.98498,     0.98599,     0.98699,     0.98799,     0.98899,     0.98999,     0.99099,     0.99199,     0.99299,     0.99399,     0.99499,       0.996,       0.997,       0.998,       0.999,           1]), array([[   0.015333,    0.015333,    0.015333,    0.015333,    0.015333,    0.015333,    0.015333,    0.015333,    0.015333,    0.015471,    0.017571,    0.020749,    0.024601,    0.028779,    0.033681,    0.039116,    0.044652,     0.05175,    0.058742,    0.064804,    0.072329,    0.078159,    0.083257,\n",
       "           0.090458,    0.096428,     0.10794,     0.11835,     0.12872,     0.13867,     0.14458,     0.15637,     0.16791,     0.17821,     0.18707,     0.19909,      0.2214,     0.23198,     0.23922,     0.25369,     0.26545,      0.2714,     0.28484,     0.28828,     0.29931,     0.30445,      0.3091,\n",
       "            0.32211,     0.33807,      0.3593,     0.36937,     0.38043,     0.38842,     0.39351,     0.42426,      0.4295,     0.44154,      0.4478,     0.46304,     0.48333,     0.50675,     0.51534,     0.52113,     0.53361,     0.54082,     0.54588,     0.56563,     0.58028,     0.58323,     0.58618,\n",
       "            0.58913,     0.59208,     0.62945,     0.68661,       0.692,     0.71358,     0.72531,     0.72913,     0.73295,     0.73677,     0.74059,     0.74442,     0.74824,     0.75261,     0.75746,      0.7623,     0.76715,       0.772,     0.77684,     0.79757,     0.81163,     0.81834,     0.82505,\n",
       "            0.83175,     0.83846,     0.84137,     0.84316,     0.84494,     0.84672,      0.8485,     0.85029,     0.85207,     0.85385,     0.85563,     0.85742,      0.8592,     0.86098,     0.86277,     0.86455,     0.86633,     0.86811,      0.8699,     0.87168,     0.87346,      0.8757,     0.88081,\n",
       "            0.88593,     0.89104,     0.89616,     0.90127,     0.90639,      0.9115,     0.95431,     0.95344,     0.95258,     0.95152,      0.9504,     0.94965,     0.94909,     0.94854,     0.94799,     0.94743,     0.94705,      0.9467,     0.94634,     0.94598,     0.94562,     0.94526,     0.94491,\n",
       "            0.94455,     0.94286,     0.94092,     0.93988,     0.93884,      0.9378,     0.93731,     0.93705,     0.93678,     0.93652,     0.93625,     0.93599,     0.93572,     0.93546,     0.93519,     0.93493,     0.93466,      0.9344,     0.93413,     0.93387,      0.9336,     0.93334,     0.96308,\n",
       "            0.99345,           1,           1,           1,           1,           1,           1,           1,           1,           1,           1,           1,           1,           1,           1,           1,           1,           1,           1,           1,           1,           1,           1,\n",
       "                  1,           1,           1,           1,           1,           1,           1,           1,           1,           1,           1,           1,           1,           1,           1,           1,           1,           1,           1,           1,           1,           1,           1,\n",
       "                  1,           1,           1,           1,           1,           1,           1,           1,           1,           1,           1,           1,           1,           1,           1,           1,           1,           1,           1,           1,           1,           1,           1,\n",
       "                  1,           1,           1,           1,           1,           1,           1,           1,           1,           1,           1,           1,           1,           1,           1,           1,           1,           1,           1,           1,           1,           1,           1,\n",
       "                  1,           1,           1,           1,           1,           1,           1,           1,           1,           1,           1,           1,           1,           1,           1,           1,           1,           1,           1,           1,           1,           1,           1,\n",
       "                  1,           1,           1,           1,           1,           1,           1,           1,           1,           1,           1,           1,           1,           1,           1,           1,           1,           1,           1,           1,           1,           1,           1,\n",
       "                  1,           1,           1,           1,           1,           1,           1,           1,           1,           1,           1,           1,           1,           1,           1,           1,           1,           1,           1,           1,           1,           1,           1,\n",
       "                  1,           1,           1,           1,           1,           1,           1,           1,           1,           1,           1,           1,           1,           1,           1,           1,           1,           1,           1,           1,           1,           1,           1,\n",
       "                  1,           1,           1,           1,           1,           1,           1,           1,           1,           1,           1,           1,           1,           1,           1,           1,           1,           1,           1,           1,           1,           1,           1,\n",
       "                  1,           1,           1,           1,           1,           1,           1,           1,           1,           1,           1,           1,           1,           1,           1,           1,           1,           1,           1,           1,           1,           1,           1,\n",
       "                  1,           1,           1,           1,           1,           1,           1,           1,           1,           1,           1,           1,           1,           1,           1,           1,           1,           1,           1,           1,           1,           1,           1,\n",
       "                  1,           1,           1,           1,           1,           1,           1,           1,           1,           1,           1,           1,           1,           1,           1,           1,           1,           1,           1,           1,           1,           1,           1,\n",
       "                  1,           1,           1,           1,           1,           1,           1,           1,           1,           1,           1,           1,           1,           1,           1,           1,           1,           1,           1,           1,           1,           1,           1,\n",
       "                  1,           1,           1,           1,           1,           1,           1,           1,           1,           1,           1,           1,           1,           1,           1,           1,           1,           1,           1,           1,           1,           1,           1,\n",
       "                  1,           1,           1,           1,           1,           1,           1,           1,           1,           1,           1,           1,           1,           1,           1,           1,           1,           1,           1,           1,           1,           1,           1,\n",
       "                  1,           1,           1,           1,           1,           1,           1,           1,           1,           1,           1,           1,           1,           1,           1,           1,           1,           1,           1,           1,           1,           1,           1,\n",
       "                  1,           1,           1,           1,           1,           1,           1,           1,           1,           1,           1,           1,           1,           1,           1,           1,           1,           1,           1,           1,           1,           1,           1,\n",
       "                  1,           1,           1,           1,           1,           1,           1,           1,           1,           1,           1,           1,           1,           1,           1,           1,           1,           1,           1,           1,           1,           1,           1,\n",
       "                  1,           1,           1,           1,           1,           1,           1,           1,           1,           1,           1,           1,           1,           1,           1,           1,           1,           1,           1,           1,           1,           1,           1,\n",
       "                  1,           1,           1,           1,           1,           1,           1,           1,           1,           1,           1,           1,           1,           1,           1,           1,           1,           1,           1,           1,           1,           1,           1,\n",
       "                  1,           1,           1,           1,           1,           1,           1,           1,           1,           1,           1,           1,           1,           1,           1,           1,           1,           1,           1,           1,           1,           1,           1,\n",
       "                  1,           1,           1,           1,           1,           1,           1,           1,           1,           1,           1,           1,           1,           1,           1,           1,           1,           1,           1,           1,           1,           1,           1,\n",
       "                  1,           1,           1,           1,           1,           1,           1,           1,           1,           1,           1,           1,           1,           1,           1,           1,           1,           1,           1,           1,           1,           1,           1,\n",
       "                  1,           1,           1,           1,           1,           1,           1,           1,           1,           1,           1,           1,           1,           1,           1,           1,           1,           1,           1,           1,           1,           1,           1,\n",
       "                  1,           1,           1,           1,           1,           1,           1,           1,           1,           1,           1,           1,           1,           1,           1,           1,           1,           1,           1,           1,           1,           1,           1,\n",
       "                  1,           1,           1,           1,           1,           1,           1,           1,           1,           1,           1,           1,           1,           1,           1,           1,           1,           1,           1,           1,           1,           1,           1,\n",
       "                  1,           1,           1,           1,           1,           1,           1,           1,           1,           1,           1,           1,           1,           1,           1,           1,           1,           1,           1,           1,           1,           1,           1,\n",
       "                  1,           1,           1,           1,           1,           1,           1,           1,           1,           1,           1,           1,           1,           1,           1,           1,           1,           1,           1,           1,           1,           1,           1,\n",
       "                  1,           1,           1,           1,           1,           1,           1,           1,           1,           1,           1,           1,           1,           1,           1,           1,           1,           1,           1,           1,           1,           1,           1,\n",
       "                  1,           1,           1,           1,           1,           1,           1,           1,           1,           1,           1,           1,           1,           1,           1,           1,           1,           1,           1,           1,           1,           1,           1,\n",
       "                  1,           1,           1,           1,           1,           1,           1,           1,           1,           1,           1,           1,           1,           1,           1,           1,           1,           1,           1,           1,           1,           1,           1,\n",
       "                  1,           1,           1,           1,           1,           1,           1,           1,           1,           1,           1,           1,           1,           1,           1,           1,           1,           1,           1,           1,           1,           1,           1,\n",
       "                  1,           1,           1,           1,           1,           1,           1,           1,           1,           1,           1,           1,           1,           1,           1,           1,           1,           1,           1,           1,           1,           1,           1,\n",
       "                  1,           1,           1,           1,           1,           1,           1,           1,           1,           1,           1,           1,           1,           1,           1,           1,           1,           1,           1,           1,           1,           1,           1,\n",
       "                  1,           1,           1,           1,           1,           1,           1,           1,           1,           1,           1,           1,           1,           1,           1,           1,           1,           1,           1,           1,           1,           1,           1,\n",
       "                  1,           1,           1,           1,           1,           1,           1,           1,           1,           1,           1,           1,           1,           1,           1,           1,           1,           1,           1,           1,           1,           1,           1,\n",
       "                  1,           1,           1,           1,           1,           1,           1,           1,           1,           1,           1]]), 'Confidence', 'Precision'], [array([          0,    0.001001,    0.002002,    0.003003,    0.004004,    0.005005,    0.006006,    0.007007,    0.008008,    0.009009,     0.01001,    0.011011,    0.012012,    0.013013,    0.014014,    0.015015,    0.016016,    0.017017,    0.018018,    0.019019,     0.02002,    0.021021,    0.022022,    0.023023,\n",
       "          0.024024,    0.025025,    0.026026,    0.027027,    0.028028,    0.029029,     0.03003,    0.031031,    0.032032,    0.033033,    0.034034,    0.035035,    0.036036,    0.037037,    0.038038,    0.039039,     0.04004,    0.041041,    0.042042,    0.043043,    0.044044,    0.045045,    0.046046,    0.047047,\n",
       "          0.048048,    0.049049,     0.05005,    0.051051,    0.052052,    0.053053,    0.054054,    0.055055,    0.056056,    0.057057,    0.058058,    0.059059,     0.06006,    0.061061,    0.062062,    0.063063,    0.064064,    0.065065,    0.066066,    0.067067,    0.068068,    0.069069,     0.07007,    0.071071,\n",
       "          0.072072,    0.073073,    0.074074,    0.075075,    0.076076,    0.077077,    0.078078,    0.079079,     0.08008,    0.081081,    0.082082,    0.083083,    0.084084,    0.085085,    0.086086,    0.087087,    0.088088,    0.089089,     0.09009,    0.091091,    0.092092,    0.093093,    0.094094,    0.095095,\n",
       "          0.096096,    0.097097,    0.098098,    0.099099,      0.1001,      0.1011,      0.1021,      0.1031,      0.1041,     0.10511,     0.10611,     0.10711,     0.10811,     0.10911,     0.11011,     0.11111,     0.11211,     0.11311,     0.11411,     0.11512,     0.11612,     0.11712,     0.11812,     0.11912,\n",
       "           0.12012,     0.12112,     0.12212,     0.12312,     0.12412,     0.12513,     0.12613,     0.12713,     0.12813,     0.12913,     0.13013,     0.13113,     0.13213,     0.13313,     0.13413,     0.13514,     0.13614,     0.13714,     0.13814,     0.13914,     0.14014,     0.14114,     0.14214,     0.14314,\n",
       "           0.14414,     0.14515,     0.14615,     0.14715,     0.14815,     0.14915,     0.15015,     0.15115,     0.15215,     0.15315,     0.15415,     0.15516,     0.15616,     0.15716,     0.15816,     0.15916,     0.16016,     0.16116,     0.16216,     0.16316,     0.16416,     0.16517,     0.16617,     0.16717,\n",
       "           0.16817,     0.16917,     0.17017,     0.17117,     0.17217,     0.17317,     0.17417,     0.17518,     0.17618,     0.17718,     0.17818,     0.17918,     0.18018,     0.18118,     0.18218,     0.18318,     0.18418,     0.18519,     0.18619,     0.18719,     0.18819,     0.18919,     0.19019,     0.19119,\n",
       "           0.19219,     0.19319,     0.19419,      0.1952,      0.1962,      0.1972,      0.1982,      0.1992,      0.2002,      0.2012,      0.2022,      0.2032,      0.2042,     0.20521,     0.20621,     0.20721,     0.20821,     0.20921,     0.21021,     0.21121,     0.21221,     0.21321,     0.21421,     0.21522,\n",
       "           0.21622,     0.21722,     0.21822,     0.21922,     0.22022,     0.22122,     0.22222,     0.22322,     0.22422,     0.22523,     0.22623,     0.22723,     0.22823,     0.22923,     0.23023,     0.23123,     0.23223,     0.23323,     0.23423,     0.23524,     0.23624,     0.23724,     0.23824,     0.23924,\n",
       "           0.24024,     0.24124,     0.24224,     0.24324,     0.24424,     0.24525,     0.24625,     0.24725,     0.24825,     0.24925,     0.25025,     0.25125,     0.25225,     0.25325,     0.25425,     0.25526,     0.25626,     0.25726,     0.25826,     0.25926,     0.26026,     0.26126,     0.26226,     0.26326,\n",
       "           0.26426,     0.26527,     0.26627,     0.26727,     0.26827,     0.26927,     0.27027,     0.27127,     0.27227,     0.27327,     0.27427,     0.27528,     0.27628,     0.27728,     0.27828,     0.27928,     0.28028,     0.28128,     0.28228,     0.28328,     0.28428,     0.28529,     0.28629,     0.28729,\n",
       "           0.28829,     0.28929,     0.29029,     0.29129,     0.29229,     0.29329,     0.29429,      0.2953,      0.2963,      0.2973,      0.2983,      0.2993,      0.3003,      0.3013,      0.3023,      0.3033,      0.3043,     0.30531,     0.30631,     0.30731,     0.30831,     0.30931,     0.31031,     0.31131,\n",
       "           0.31231,     0.31331,     0.31431,     0.31532,     0.31632,     0.31732,     0.31832,     0.31932,     0.32032,     0.32132,     0.32232,     0.32332,     0.32432,     0.32533,     0.32633,     0.32733,     0.32833,     0.32933,     0.33033,     0.33133,     0.33233,     0.33333,     0.33433,     0.33534,\n",
       "           0.33634,     0.33734,     0.33834,     0.33934,     0.34034,     0.34134,     0.34234,     0.34334,     0.34434,     0.34535,     0.34635,     0.34735,     0.34835,     0.34935,     0.35035,     0.35135,     0.35235,     0.35335,     0.35435,     0.35536,     0.35636,     0.35736,     0.35836,     0.35936,\n",
       "           0.36036,     0.36136,     0.36236,     0.36336,     0.36436,     0.36537,     0.36637,     0.36737,     0.36837,     0.36937,     0.37037,     0.37137,     0.37237,     0.37337,     0.37437,     0.37538,     0.37638,     0.37738,     0.37838,     0.37938,     0.38038,     0.38138,     0.38238,     0.38338,\n",
       "           0.38438,     0.38539,     0.38639,     0.38739,     0.38839,     0.38939,     0.39039,     0.39139,     0.39239,     0.39339,     0.39439,      0.3954,      0.3964,      0.3974,      0.3984,      0.3994,      0.4004,      0.4014,      0.4024,      0.4034,      0.4044,     0.40541,     0.40641,     0.40741,\n",
       "           0.40841,     0.40941,     0.41041,     0.41141,     0.41241,     0.41341,     0.41441,     0.41542,     0.41642,     0.41742,     0.41842,     0.41942,     0.42042,     0.42142,     0.42242,     0.42342,     0.42442,     0.42543,     0.42643,     0.42743,     0.42843,     0.42943,     0.43043,     0.43143,\n",
       "           0.43243,     0.43343,     0.43443,     0.43544,     0.43644,     0.43744,     0.43844,     0.43944,     0.44044,     0.44144,     0.44244,     0.44344,     0.44444,     0.44545,     0.44645,     0.44745,     0.44845,     0.44945,     0.45045,     0.45145,     0.45245,     0.45345,     0.45445,     0.45546,\n",
       "           0.45646,     0.45746,     0.45846,     0.45946,     0.46046,     0.46146,     0.46246,     0.46346,     0.46446,     0.46547,     0.46647,     0.46747,     0.46847,     0.46947,     0.47047,     0.47147,     0.47247,     0.47347,     0.47447,     0.47548,     0.47648,     0.47748,     0.47848,     0.47948,\n",
       "           0.48048,     0.48148,     0.48248,     0.48348,     0.48448,     0.48549,     0.48649,     0.48749,     0.48849,     0.48949,     0.49049,     0.49149,     0.49249,     0.49349,     0.49449,      0.4955,      0.4965,      0.4975,      0.4985,      0.4995,      0.5005,      0.5015,      0.5025,      0.5035,\n",
       "            0.5045,     0.50551,     0.50651,     0.50751,     0.50851,     0.50951,     0.51051,     0.51151,     0.51251,     0.51351,     0.51451,     0.51552,     0.51652,     0.51752,     0.51852,     0.51952,     0.52052,     0.52152,     0.52252,     0.52352,     0.52452,     0.52553,     0.52653,     0.52753,\n",
       "           0.52853,     0.52953,     0.53053,     0.53153,     0.53253,     0.53353,     0.53453,     0.53554,     0.53654,     0.53754,     0.53854,     0.53954,     0.54054,     0.54154,     0.54254,     0.54354,     0.54454,     0.54555,     0.54655,     0.54755,     0.54855,     0.54955,     0.55055,     0.55155,\n",
       "           0.55255,     0.55355,     0.55455,     0.55556,     0.55656,     0.55756,     0.55856,     0.55956,     0.56056,     0.56156,     0.56256,     0.56356,     0.56456,     0.56557,     0.56657,     0.56757,     0.56857,     0.56957,     0.57057,     0.57157,     0.57257,     0.57357,     0.57457,     0.57558,\n",
       "           0.57658,     0.57758,     0.57858,     0.57958,     0.58058,     0.58158,     0.58258,     0.58358,     0.58458,     0.58559,     0.58659,     0.58759,     0.58859,     0.58959,     0.59059,     0.59159,     0.59259,     0.59359,     0.59459,      0.5956,      0.5966,      0.5976,      0.5986,      0.5996,\n",
       "            0.6006,      0.6016,      0.6026,      0.6036,      0.6046,     0.60561,     0.60661,     0.60761,     0.60861,     0.60961,     0.61061,     0.61161,     0.61261,     0.61361,     0.61461,     0.61562,     0.61662,     0.61762,     0.61862,     0.61962,     0.62062,     0.62162,     0.62262,     0.62362,\n",
       "           0.62462,     0.62563,     0.62663,     0.62763,     0.62863,     0.62963,     0.63063,     0.63163,     0.63263,     0.63363,     0.63463,     0.63564,     0.63664,     0.63764,     0.63864,     0.63964,     0.64064,     0.64164,     0.64264,     0.64364,     0.64464,     0.64565,     0.64665,     0.64765,\n",
       "           0.64865,     0.64965,     0.65065,     0.65165,     0.65265,     0.65365,     0.65465,     0.65566,     0.65666,     0.65766,     0.65866,     0.65966,     0.66066,     0.66166,     0.66266,     0.66366,     0.66466,     0.66567,     0.66667,     0.66767,     0.66867,     0.66967,     0.67067,     0.67167,\n",
       "           0.67267,     0.67367,     0.67467,     0.67568,     0.67668,     0.67768,     0.67868,     0.67968,     0.68068,     0.68168,     0.68268,     0.68368,     0.68468,     0.68569,     0.68669,     0.68769,     0.68869,     0.68969,     0.69069,     0.69169,     0.69269,     0.69369,     0.69469,      0.6957,\n",
       "            0.6967,      0.6977,      0.6987,      0.6997,      0.7007,      0.7017,      0.7027,      0.7037,      0.7047,     0.70571,     0.70671,     0.70771,     0.70871,     0.70971,     0.71071,     0.71171,     0.71271,     0.71371,     0.71471,     0.71572,     0.71672,     0.71772,     0.71872,     0.71972,\n",
       "           0.72072,     0.72172,     0.72272,     0.72372,     0.72472,     0.72573,     0.72673,     0.72773,     0.72873,     0.72973,     0.73073,     0.73173,     0.73273,     0.73373,     0.73473,     0.73574,     0.73674,     0.73774,     0.73874,     0.73974,     0.74074,     0.74174,     0.74274,     0.74374,\n",
       "           0.74474,     0.74575,     0.74675,     0.74775,     0.74875,     0.74975,     0.75075,     0.75175,     0.75275,     0.75375,     0.75475,     0.75576,     0.75676,     0.75776,     0.75876,     0.75976,     0.76076,     0.76176,     0.76276,     0.76376,     0.76476,     0.76577,     0.76677,     0.76777,\n",
       "           0.76877,     0.76977,     0.77077,     0.77177,     0.77277,     0.77377,     0.77477,     0.77578,     0.77678,     0.77778,     0.77878,     0.77978,     0.78078,     0.78178,     0.78278,     0.78378,     0.78478,     0.78579,     0.78679,     0.78779,     0.78879,     0.78979,     0.79079,     0.79179,\n",
       "           0.79279,     0.79379,     0.79479,      0.7958,      0.7968,      0.7978,      0.7988,      0.7998,      0.8008,      0.8018,      0.8028,      0.8038,      0.8048,     0.80581,     0.80681,     0.80781,     0.80881,     0.80981,     0.81081,     0.81181,     0.81281,     0.81381,     0.81481,     0.81582,\n",
       "           0.81682,     0.81782,     0.81882,     0.81982,     0.82082,     0.82182,     0.82282,     0.82382,     0.82482,     0.82583,     0.82683,     0.82783,     0.82883,     0.82983,     0.83083,     0.83183,     0.83283,     0.83383,     0.83483,     0.83584,     0.83684,     0.83784,     0.83884,     0.83984,\n",
       "           0.84084,     0.84184,     0.84284,     0.84384,     0.84484,     0.84585,     0.84685,     0.84785,     0.84885,     0.84985,     0.85085,     0.85185,     0.85285,     0.85385,     0.85485,     0.85586,     0.85686,     0.85786,     0.85886,     0.85986,     0.86086,     0.86186,     0.86286,     0.86386,\n",
       "           0.86486,     0.86587,     0.86687,     0.86787,     0.86887,     0.86987,     0.87087,     0.87187,     0.87287,     0.87387,     0.87487,     0.87588,     0.87688,     0.87788,     0.87888,     0.87988,     0.88088,     0.88188,     0.88288,     0.88388,     0.88488,     0.88589,     0.88689,     0.88789,\n",
       "           0.88889,     0.88989,     0.89089,     0.89189,     0.89289,     0.89389,     0.89489,      0.8959,      0.8969,      0.8979,      0.8989,      0.8999,      0.9009,      0.9019,      0.9029,      0.9039,      0.9049,     0.90591,     0.90691,     0.90791,     0.90891,     0.90991,     0.91091,     0.91191,\n",
       "           0.91291,     0.91391,     0.91491,     0.91592,     0.91692,     0.91792,     0.91892,     0.91992,     0.92092,     0.92192,     0.92292,     0.92392,     0.92492,     0.92593,     0.92693,     0.92793,     0.92893,     0.92993,     0.93093,     0.93193,     0.93293,     0.93393,     0.93493,     0.93594,\n",
       "           0.93694,     0.93794,     0.93894,     0.93994,     0.94094,     0.94194,     0.94294,     0.94394,     0.94494,     0.94595,     0.94695,     0.94795,     0.94895,     0.94995,     0.95095,     0.95195,     0.95295,     0.95395,     0.95495,     0.95596,     0.95696,     0.95796,     0.95896,     0.95996,\n",
       "           0.96096,     0.96196,     0.96296,     0.96396,     0.96496,     0.96597,     0.96697,     0.96797,     0.96897,     0.96997,     0.97097,     0.97197,     0.97297,     0.97397,     0.97497,     0.97598,     0.97698,     0.97798,     0.97898,     0.97998,     0.98098,     0.98198,     0.98298,     0.98398,\n",
       "           0.98498,     0.98599,     0.98699,     0.98799,     0.98899,     0.98999,     0.99099,     0.99199,     0.99299,     0.99399,     0.99499,       0.996,       0.997,       0.998,       0.999,           1]), array([[          1,           1,           1,           1,           1,           1,           1,           1,           1,           1,           1,           1,           1,           1,           1,           1,           1,           1,           1,           1,           1,           1,           1,\n",
       "                  1,           1,           1,           1,           1,           1,           1,           1,           1,           1,           1,           1,           1,           1,           1,           1,           1,           1,     0.98718,     0.95652,     0.95652,     0.95652,     0.95652,\n",
       "            0.95652,     0.95652,     0.95652,     0.95652,     0.95652,     0.95652,     0.95652,     0.95652,     0.95652,     0.95652,     0.95652,     0.95652,     0.95652,     0.95652,     0.95652,     0.95652,     0.95652,     0.95652,     0.95652,     0.95652,     0.95652,     0.95652,     0.95652,\n",
       "            0.95652,     0.95652,     0.95652,     0.95652,     0.91304,     0.91304,     0.91304,     0.91304,     0.91304,     0.91304,     0.91304,     0.91304,     0.91304,     0.91304,     0.91304,     0.91304,     0.91304,     0.91304,     0.91304,     0.91304,     0.91304,     0.91304,     0.91304,\n",
       "            0.91304,     0.91304,     0.91304,     0.91304,     0.91304,     0.91304,     0.91304,     0.91304,     0.91304,     0.91304,     0.91304,     0.91304,     0.91304,     0.91304,     0.91304,     0.91304,     0.91304,     0.91304,     0.91304,     0.91304,     0.91304,     0.91304,     0.91304,\n",
       "            0.91304,     0.91304,     0.91304,     0.91304,     0.91304,     0.91304,     0.90833,     0.89093,     0.87354,     0.85385,     0.83348,     0.82026,     0.81112,     0.80198,     0.79284,     0.78369,     0.77792,      0.7726,     0.76728,     0.76196,     0.75663,     0.75131,     0.74599,\n",
       "            0.74067,     0.71802,     0.69261,     0.68032,     0.66802,     0.65573,     0.65021,     0.64745,     0.64468,     0.64192,     0.63915,     0.63639,     0.63363,     0.63086,      0.6281,     0.62534,     0.62257,     0.61981,     0.61704,     0.61428,     0.61152,     0.60875,      0.6087,\n",
       "             0.6087,     0.60698,     0.60479,     0.60261,     0.60042,     0.59823,     0.59604,     0.59386,     0.59167,     0.58948,     0.58729,     0.58511,     0.58292,     0.58073,     0.57854,     0.57636,     0.57417,     0.57198,      0.5698,     0.56761,     0.56542,     0.56205,     0.55855,\n",
       "            0.55506,     0.55156,     0.54807,     0.54457,     0.54108,     0.53758,     0.53408,     0.53059,     0.52709,      0.5236,     0.52131,      0.5204,     0.51949,     0.51858,     0.51766,     0.51675,     0.51584,     0.51493,     0.51402,     0.51311,     0.51219,     0.51128,     0.51037,\n",
       "            0.50946,     0.50855,     0.50763,     0.50672,     0.50581,      0.5049,     0.50399,     0.50308,     0.50216,     0.50125,     0.50034,     0.49943,     0.49852,      0.4976,     0.49669,     0.49578,     0.49487,     0.49396,     0.49305,     0.49213,     0.49122,     0.49031,      0.4894,\n",
       "            0.48849,     0.48757,     0.48666,     0.48575,     0.48484,     0.48393,     0.48301,      0.4821,     0.48119,     0.48028,     0.47937,     0.47846,      0.4549,     0.43415,     0.43219,     0.43023,     0.42827,     0.42631,     0.42436,      0.4224,     0.42044,     0.41848,     0.41652,\n",
       "            0.41456,      0.4126,     0.41064,     0.40868,     0.40672,     0.40477,     0.40281,     0.40085,     0.39889,     0.39693,     0.39497,     0.39301,      0.3894,     0.37454,     0.35969,     0.34732,     0.34481,      0.3423,     0.33979,     0.33728,     0.33477,     0.33226,     0.32974,\n",
       "            0.32723,     0.32472,     0.32221,      0.3197,     0.31719,     0.31468,     0.31217,     0.30966,     0.30715,     0.30464,     0.30245,      0.3003,     0.29815,       0.296,     0.29386,     0.29171,     0.28956,     0.28741,     0.28526,     0.28312,     0.28097,     0.27882,     0.27667,\n",
       "            0.27453,     0.27238,     0.27023,     0.26808,     0.26593,     0.26379,     0.26164,     0.25914,     0.25644,     0.25373,     0.25103,     0.24833,     0.24563,     0.24293,     0.24023,     0.23753,     0.23483,     0.23213,     0.22943,     0.22672,     0.22402,     0.22132,     0.21862,\n",
       "            0.18504,     0.16939,     0.16381,     0.15824,     0.15267,      0.1471,     0.14153,     0.13596,     0.13043,     0.12938,     0.12834,      0.1273,     0.12626,     0.12521,     0.12417,     0.12313,     0.12209,     0.12104,        0.12,     0.11896,     0.11792,     0.11687,     0.11583,\n",
       "            0.11479,     0.11375,      0.1127,     0.11166,     0.11062,     0.10958,     0.10853,     0.10749,     0.10645,     0.10541,     0.10436,     0.10332,     0.10228,     0.10124,     0.10019,    0.099152,    0.098109,    0.097067,    0.096024,    0.094982,    0.093939,    0.092897,    0.091854,\n",
       "           0.090812,    0.089769,    0.088727,    0.087684,    0.086851,    0.086503,    0.086155,    0.085807,    0.085459,    0.085111,    0.084762,    0.084414,    0.084066,    0.083718,     0.08337,    0.083022,    0.082673,    0.082325,    0.081977,    0.081629,    0.081281,    0.080932,    0.080584,\n",
       "           0.080236,    0.079888,     0.07954,    0.079192,    0.078843,    0.078495,    0.078147,    0.077799,    0.077451,    0.077103,    0.076754,    0.076406,    0.076058,     0.07571,    0.075362,    0.075014,    0.074665,    0.074317,    0.073969,    0.073621,    0.073273,    0.072924,    0.072576,\n",
       "           0.072228,     0.07188,    0.071532,    0.071184,    0.070835,    0.070487,    0.070139,    0.069791,    0.069443,    0.069095,    0.068746,    0.068398,     0.06805,    0.067702,    0.067354,    0.067006,    0.066657,    0.066309,    0.065961,    0.065613,    0.065265,    0.064916,    0.064568,\n",
       "            0.06422,    0.063872,    0.063524,    0.063176,    0.062827,    0.062479,    0.062131,    0.061783,    0.061435,    0.061087,    0.060738,     0.06039,    0.060042,    0.059694,    0.059346,    0.058998,    0.058649,    0.058301,    0.057953,    0.057605,    0.057257,    0.056908,     0.05656,\n",
       "           0.056212,    0.055864,    0.055516,    0.055168,    0.054819,    0.054471,    0.054123,    0.053775,    0.053427,    0.053079,     0.05273,    0.052382,    0.052034,    0.051686,    0.051338,     0.05099,    0.050641,    0.050293,    0.049945,    0.049597,    0.049249,      0.0489,    0.048552,\n",
       "           0.048204,    0.047856,    0.047508,     0.04716,    0.046811,    0.046463,    0.046115,    0.045767,    0.045419,    0.045071,    0.044722,    0.044374,    0.044026,    0.043678,           0,           0,           0,           0,           0,           0,           0,           0,           0,\n",
       "                  0,           0,           0,           0,           0,           0,           0,           0,           0,           0,           0,           0,           0,           0,           0,           0,           0,           0,           0,           0,           0,           0,           0,\n",
       "                  0,           0,           0,           0,           0,           0,           0,           0,           0,           0,           0,           0,           0,           0,           0,           0,           0,           0,           0,           0,           0,           0,           0,\n",
       "                  0,           0,           0,           0,           0,           0,           0,           0,           0,           0,           0,           0,           0,           0,           0,           0,           0,           0,           0,           0,           0,           0,           0,\n",
       "                  0,           0,           0,           0,           0,           0,           0,           0,           0,           0,           0,           0,           0,           0,           0,           0,           0,           0,           0,           0,           0,           0,           0,\n",
       "                  0,           0,           0,           0,           0,           0,           0,           0,           0,           0,           0,           0,           0,           0,           0,           0,           0,           0,           0,           0,           0,           0,           0,\n",
       "                  0,           0,           0,           0,           0,           0,           0,           0,           0,           0,           0,           0,           0,           0,           0,           0,           0,           0,           0,           0,           0,           0,           0,\n",
       "                  0,           0,           0,           0,           0,           0,           0,           0,           0,           0,           0,           0,           0,           0,           0,           0,           0,           0,           0,           0,           0,           0,           0,\n",
       "                  0,           0,           0,           0,           0,           0,           0,           0,           0,           0,           0,           0,           0,           0,           0,           0,           0,           0,           0,           0,           0,           0,           0,\n",
       "                  0,           0,           0,           0,           0,           0,           0,           0,           0,           0,           0,           0,           0,           0,           0,           0,           0,           0,           0,           0,           0,           0,           0,\n",
       "                  0,           0,           0,           0,           0,           0,           0,           0,           0,           0,           0,           0,           0,           0,           0,           0,           0,           0,           0,           0,           0,           0,           0,\n",
       "                  0,           0,           0,           0,           0,           0,           0,           0,           0,           0,           0,           0,           0,           0,           0,           0,           0,           0,           0,           0,           0,           0,           0,\n",
       "                  0,           0,           0,           0,           0,           0,           0,           0,           0,           0,           0,           0,           0,           0,           0,           0,           0,           0,           0,           0,           0,           0,           0,\n",
       "                  0,           0,           0,           0,           0,           0,           0,           0,           0,           0,           0,           0,           0,           0,           0,           0,           0,           0,           0,           0,           0,           0,           0,\n",
       "                  0,           0,           0,           0,           0,           0,           0,           0,           0,           0,           0,           0,           0,           0,           0,           0,           0,           0,           0,           0,           0,           0,           0,\n",
       "                  0,           0,           0,           0,           0,           0,           0,           0,           0,           0,           0,           0,           0,           0,           0,           0,           0,           0,           0,           0,           0,           0,           0,\n",
       "                  0,           0,           0,           0,           0,           0,           0,           0,           0,           0,           0,           0,           0,           0,           0,           0,           0,           0,           0,           0,           0,           0,           0,\n",
       "                  0,           0,           0,           0,           0,           0,           0,           0,           0,           0,           0,           0,           0,           0,           0,           0,           0,           0,           0,           0,           0,           0,           0,\n",
       "                  0,           0,           0,           0,           0,           0,           0,           0,           0,           0,           0,           0,           0,           0,           0,           0,           0,           0,           0,           0,           0,           0,           0,\n",
       "                  0,           0,           0,           0,           0,           0,           0,           0,           0,           0,           0,           0,           0,           0,           0,           0,           0,           0,           0,           0,           0,           0,           0,\n",
       "                  0,           0,           0,           0,           0,           0,           0,           0,           0,           0,           0,           0,           0,           0,           0,           0,           0,           0,           0,           0,           0,           0,           0,\n",
       "                  0,           0,           0,           0,           0,           0,           0,           0,           0,           0,           0,           0,           0,           0,           0,           0,           0,           0,           0,           0,           0,           0,           0,\n",
       "                  0,           0,           0,           0,           0,           0,           0,           0,           0,           0,           0]]), 'Confidence', 'Recall']]\n",
       "fitness: np.float64(0.8052607134675325)\n",
       "keys: ['metrics/precision(B)', 'metrics/recall(B)', 'metrics/mAP50(B)', 'metrics/mAP50-95(B)']\n",
       "maps: array([     0.7903])\n",
       "names: {0: 'Celegans'}\n",
       "plot: True\n",
       "results_dict: {'metrics/precision(B)': np.float64(0.9543106087821536), 'metrics/recall(B)': np.float64(0.9083261416241266), 'metrics/mAP50(B)': np.float64(0.9399090909090907), 'metrics/mAP50-95(B)': np.float64(0.7902997826406926), 'fitness': np.float64(0.8052607134675325)}\n",
       "save_dir: PosixPath('runs/segment/yolov11_WormCNN-HTT12')\n",
       "speed: {'preprocess': 0.06756782531738281, 'inference': 2.8347015380859375, 'loss': 0.0010967254638671875, 'postprocess': 2.4209022521972656}\n",
       "task: 'detect'"
      ]
     },
     "execution_count": 4,
     "metadata": {},
     "output_type": "execute_result"
    }
   ],
   "source": [
    "from ultralytics import YOLO\n",
    "\n",
    "# 加载预训练的 YOLO11 分割模型\n",
    "model = YOLO('/data/yan/track/yolomodel/yolo11x.pt')  # 确保模型支持分割任务\n",
    "\n",
    "# 开始训练\n",
    "model.train(\n",
    "    data='./data.yaml',       # 数据集配置文件路径\n",
    "    epochs=128,               # 训练轮数\n",
    "    imgsz=640,                # 输入图片尺寸\n",
    "    batch=24,                 # 批量大小，根据GPU内存调整\n",
    "    lr0=0.01,                 # 初始学习率\n",
    "    name='yolov11_WormCNN-HTT',  # 训练名称，用于保存模型\n",
    "    project='runs/segment',   # 保存路径（用于分割任务）\n",
    "    task='segment'            # 设置任务为分割\n",
    ")\n"
   ]
  },
  {
   "cell_type": "code",
   "execution_count": null,
   "metadata": {},
   "outputs": [
    {
     "name": "stdout",
     "output_type": "stream",
     "text": [
      "视频帧率: 29.3, 分辨率: 1600x1200, 总帧数: 293\n",
      "处理帧 1/293\n",
      "0: 640x640 (no detections), 11.2ms\n",
      "Speed: 3.2ms preprocess, 11.2ms inference, 0.3ms postprocess per image at shape (1, 3, 640, 640)\n",
      "处理帧 2/293\n",
      "0: 640x640 (no detections), 11.4ms\n",
      "Speed: 2.3ms preprocess, 11.4ms inference, 0.3ms postprocess per image at shape (1, 3, 640, 640)\n",
      "处理帧 3/293\n",
      "0: 640x640 (no detections), 11.9ms\n",
      "Speed: 2.1ms preprocess, 11.9ms inference, 0.3ms postprocess per image at shape (1, 3, 640, 640)\n",
      "处理帧 4/293\n",
      "0: 640x640 (no detections), 11.2ms\n",
      "Speed: 2.5ms preprocess, 11.2ms inference, 0.3ms postprocess per image at shape (1, 3, 640, 640)\n",
      "处理帧 5/293\n",
      "0: 640x640 (no detections), 11.2ms\n",
      "Speed: 2.2ms preprocess, 11.2ms inference, 0.3ms postprocess per image at shape (1, 3, 640, 640)\n",
      "处理帧 6/293\n",
      "0: 640x640 (no detections), 11.2ms\n",
      "Speed: 2.0ms preprocess, 11.2ms inference, 0.3ms postprocess per image at shape (1, 3, 640, 640)\n",
      "处理帧 7/293\n",
      "0: 640x640 (no detections), 11.4ms\n",
      "Speed: 2.0ms preprocess, 11.4ms inference, 0.3ms postprocess per image at shape (1, 3, 640, 640)\n",
      "处理帧 8/293\n",
      "0: 640x640 (no detections), 11.3ms\n",
      "Speed: 2.5ms preprocess, 11.3ms inference, 0.3ms postprocess per image at shape (1, 3, 640, 640)\n",
      "处理帧 9/293\n",
      "0: 640x640 (no detections), 11.3ms\n",
      "Speed: 2.2ms preprocess, 11.3ms inference, 0.3ms postprocess per image at shape (1, 3, 640, 640)\n",
      "处理帧 10/293\n",
      "0: 640x640 (no detections), 11.2ms\n",
      "Speed: 2.0ms preprocess, 11.2ms inference, 0.3ms postprocess per image at shape (1, 3, 640, 640)\n",
      "处理帧 11/293\n",
      "0: 640x640 (no detections), 11.7ms\n",
      "Speed: 2.0ms preprocess, 11.7ms inference, 0.3ms postprocess per image at shape (1, 3, 640, 640)\n",
      "处理帧 12/293\n",
      "0: 640x640 (no detections), 11.8ms\n",
      "Speed: 2.5ms preprocess, 11.8ms inference, 0.3ms postprocess per image at shape (1, 3, 640, 640)\n",
      "处理帧 13/293\n",
      "0: 640x640 (no detections), 11.3ms\n",
      "Speed: 2.2ms preprocess, 11.3ms inference, 0.3ms postprocess per image at shape (1, 3, 640, 640)\n",
      "处理帧 14/293\n",
      "0: 640x640 (no detections), 11.9ms\n",
      "Speed: 2.1ms preprocess, 11.9ms inference, 0.3ms postprocess per image at shape (1, 3, 640, 640)\n",
      "处理帧 15/293\n",
      "0: 640x640 (no detections), 12.0ms\n",
      "Speed: 2.0ms preprocess, 12.0ms inference, 0.3ms postprocess per image at shape (1, 3, 640, 640)\n",
      "处理帧 16/293\n",
      "0: 640x640 (no detections), 12.2ms\n",
      "Speed: 2.5ms preprocess, 12.2ms inference, 0.3ms postprocess per image at shape (1, 3, 640, 640)\n",
      "处理帧 17/293\n",
      "0: 640x640 (no detections), 12.2ms\n",
      "Speed: 2.3ms preprocess, 12.2ms inference, 0.3ms postprocess per image at shape (1, 3, 640, 640)\n",
      "处理帧 18/293\n",
      "0: 640x640 (no detections), 11.1ms\n",
      "Speed: 2.0ms preprocess, 11.1ms inference, 0.3ms postprocess per image at shape (1, 3, 640, 640)\n",
      "处理帧 19/293\n",
      "0: 640x640 (no detections), 11.8ms\n",
      "Speed: 2.0ms preprocess, 11.8ms inference, 0.3ms postprocess per image at shape (1, 3, 640, 640)\n",
      "处理帧 20/293\n",
      "0: 640x640 (no detections), 11.9ms\n",
      "Speed: 2.6ms preprocess, 11.9ms inference, 0.3ms postprocess per image at shape (1, 3, 640, 640)\n",
      "处理帧 21/293\n",
      "0: 640x640 (no detections), 11.2ms\n",
      "Speed: 2.2ms preprocess, 11.2ms inference, 0.3ms postprocess per image at shape (1, 3, 640, 640)\n",
      "处理帧 22/293\n",
      "0: 640x640 (no detections), 11.5ms\n",
      "Speed: 2.1ms preprocess, 11.5ms inference, 0.3ms postprocess per image at shape (1, 3, 640, 640)\n",
      "处理帧 23/293\n",
      "0: 640x640 (no detections), 11.7ms\n",
      "Speed: 2.0ms preprocess, 11.7ms inference, 0.3ms postprocess per image at shape (1, 3, 640, 640)\n",
      "处理帧 24/293\n",
      "0: 640x640 (no detections), 12.2ms\n",
      "Speed: 2.6ms preprocess, 12.2ms inference, 0.3ms postprocess per image at shape (1, 3, 640, 640)\n",
      "处理帧 25/293\n",
      "0: 640x640 (no detections), 11.6ms\n",
      "Speed: 2.2ms preprocess, 11.6ms inference, 0.3ms postprocess per image at shape (1, 3, 640, 640)\n",
      "处理帧 26/293\n",
      "0: 640x640 (no detections), 11.3ms\n",
      "Speed: 2.1ms preprocess, 11.3ms inference, 0.3ms postprocess per image at shape (1, 3, 640, 640)\n",
      "处理帧 27/293\n",
      "0: 640x640 (no detections), 11.8ms\n",
      "Speed: 2.0ms preprocess, 11.8ms inference, 0.3ms postprocess per image at shape (1, 3, 640, 640)\n",
      "处理帧 28/293\n",
      "0: 640x640 (no detections), 11.2ms\n",
      "Speed: 2.3ms preprocess, 11.2ms inference, 0.3ms postprocess per image at shape (1, 3, 640, 640)\n",
      "处理帧 29/293\n",
      "0: 640x640 (no detections), 11.1ms\n",
      "Speed: 2.1ms preprocess, 11.1ms inference, 0.3ms postprocess per image at shape (1, 3, 640, 640)\n",
      "处理帧 30/293\n",
      "0: 640x640 (no detections), 11.7ms\n",
      "Speed: 1.8ms preprocess, 11.7ms inference, 0.3ms postprocess per image at shape (1, 3, 640, 640)\n",
      "处理帧 31/293\n",
      "0: 640x640 (no detections), 11.2ms\n",
      "Speed: 1.8ms preprocess, 11.2ms inference, 0.3ms postprocess per image at shape (1, 3, 640, 640)\n",
      "处理帧 32/293\n",
      "0: 640x640 (no detections), 10.9ms\n",
      "Speed: 2.3ms preprocess, 10.9ms inference, 0.3ms postprocess per image at shape (1, 3, 640, 640)\n",
      "处理帧 33/293\n",
      "0: 640x640 (no detections), 10.9ms\n",
      "Speed: 2.0ms preprocess, 10.9ms inference, 0.3ms postprocess per image at shape (1, 3, 640, 640)\n",
      "处理帧 34/293\n",
      "0: 640x640 (no detections), 11.7ms\n",
      "Speed: 1.9ms preprocess, 11.7ms inference, 0.3ms postprocess per image at shape (1, 3, 640, 640)\n",
      "处理帧 35/293\n",
      "0: 640x640 (no detections), 10.9ms\n",
      "Speed: 1.7ms preprocess, 10.9ms inference, 0.3ms postprocess per image at shape (1, 3, 640, 640)\n",
      "处理帧 36/293\n",
      "0: 640x640 (no detections), 11.5ms\n",
      "Speed: 2.4ms preprocess, 11.5ms inference, 0.3ms postprocess per image at shape (1, 3, 640, 640)\n",
      "处理帧 37/293\n",
      "0: 640x640 (no detections), 11.0ms\n",
      "Speed: 2.0ms preprocess, 11.0ms inference, 0.3ms postprocess per image at shape (1, 3, 640, 640)\n",
      "处理帧 38/293\n",
      "0: 640x640 (no detections), 11.9ms\n",
      "Speed: 1.8ms preprocess, 11.9ms inference, 0.3ms postprocess per image at shape (1, 3, 640, 640)\n",
      "处理帧 39/293\n",
      "0: 640x640 (no detections), 12.0ms\n",
      "Speed: 1.8ms preprocess, 12.0ms inference, 0.3ms postprocess per image at shape (1, 3, 640, 640)\n",
      "处理帧 40/293\n",
      "0: 640x640 (no detections), 11.0ms\n",
      "Speed: 2.3ms preprocess, 11.0ms inference, 0.3ms postprocess per image at shape (1, 3, 640, 640)\n",
      "处理帧 41/293\n",
      "0: 640x640 (no detections), 11.0ms\n",
      "Speed: 2.0ms preprocess, 11.0ms inference, 0.3ms postprocess per image at shape (1, 3, 640, 640)\n",
      "处理帧 42/293\n",
      "0: 640x640 (no detections), 10.9ms\n",
      "Speed: 1.8ms preprocess, 10.9ms inference, 0.3ms postprocess per image at shape (1, 3, 640, 640)\n",
      "处理帧 43/293\n",
      "0: 640x640 (no detections), 10.9ms\n",
      "Speed: 1.7ms preprocess, 10.9ms inference, 0.3ms postprocess per image at shape (1, 3, 640, 640)\n",
      "处理帧 44/293\n",
      "0: 640x640 (no detections), 11.2ms\n",
      "Speed: 2.2ms preprocess, 11.2ms inference, 0.3ms postprocess per image at shape (1, 3, 640, 640)\n",
      "处理帧 45/293\n",
      "0: 640x640 (no detections), 12.1ms\n",
      "Speed: 2.1ms preprocess, 12.1ms inference, 0.3ms postprocess per image at shape (1, 3, 640, 640)\n",
      "处理帧 46/293\n",
      "0: 640x640 (no detections), 11.2ms\n",
      "Speed: 1.9ms preprocess, 11.2ms inference, 0.3ms postprocess per image at shape (1, 3, 640, 640)\n",
      "处理帧 47/293\n",
      "0: 640x640 (no detections), 11.0ms\n",
      "Speed: 1.8ms preprocess, 11.0ms inference, 0.3ms postprocess per image at shape (1, 3, 640, 640)\n",
      "处理帧 48/293\n",
      "0: 640x640 (no detections), 11.5ms\n",
      "Speed: 2.3ms preprocess, 11.5ms inference, 0.3ms postprocess per image at shape (1, 3, 640, 640)\n",
      "处理帧 49/293\n",
      "0: 640x640 (no detections), 11.3ms\n",
      "Speed: 2.0ms preprocess, 11.3ms inference, 0.3ms postprocess per image at shape (1, 3, 640, 640)\n",
      "处理帧 50/293\n",
      "0: 640x640 (no detections), 11.1ms\n",
      "Speed: 1.8ms preprocess, 11.1ms inference, 0.3ms postprocess per image at shape (1, 3, 640, 640)\n",
      "处理帧 51/293\n",
      "0: 640x640 (no detections), 10.9ms\n",
      "Speed: 1.7ms preprocess, 10.9ms inference, 0.3ms postprocess per image at shape (1, 3, 640, 640)\n",
      "处理帧 52/293\n",
      "0: 640x640 (no detections), 11.2ms\n",
      "Speed: 2.4ms preprocess, 11.2ms inference, 0.3ms postprocess per image at shape (1, 3, 640, 640)\n",
      "处理帧 53/293\n",
      "0: 640x640 (no detections), 11.1ms\n",
      "Speed: 2.0ms preprocess, 11.1ms inference, 0.3ms postprocess per image at shape (1, 3, 640, 640)\n",
      "处理帧 54/293\n",
      "0: 640x640 (no detections), 11.7ms\n",
      "Speed: 1.8ms preprocess, 11.7ms inference, 0.3ms postprocess per image at shape (1, 3, 640, 640)\n",
      "处理帧 55/293\n",
      "0: 640x640 (no detections), 11.2ms\n",
      "Speed: 1.7ms preprocess, 11.2ms inference, 0.3ms postprocess per image at shape (1, 3, 640, 640)\n",
      "处理帧 56/293\n",
      "0: 640x640 (no detections), 10.9ms\n",
      "Speed: 2.3ms preprocess, 10.9ms inference, 0.3ms postprocess per image at shape (1, 3, 640, 640)\n",
      "处理帧 57/293\n",
      "0: 640x640 (no detections), 11.6ms\n",
      "Speed: 2.0ms preprocess, 11.6ms inference, 0.3ms postprocess per image at shape (1, 3, 640, 640)\n",
      "处理帧 58/293\n",
      "0: 640x640 (no detections), 12.2ms\n",
      "Speed: 1.9ms preprocess, 12.2ms inference, 0.3ms postprocess per image at shape (1, 3, 640, 640)\n",
      "处理帧 59/293\n",
      "0: 640x640 (no detections), 11.0ms\n",
      "Speed: 1.8ms preprocess, 11.0ms inference, 0.3ms postprocess per image at shape (1, 3, 640, 640)\n",
      "处理帧 60/293\n",
      "0: 640x640 (no detections), 11.1ms\n",
      "Speed: 2.4ms preprocess, 11.1ms inference, 0.3ms postprocess per image at shape (1, 3, 640, 640)\n",
      "处理帧 61/293\n",
      "0: 640x640 (no detections), 12.0ms\n",
      "Speed: 2.1ms preprocess, 12.0ms inference, 0.3ms postprocess per image at shape (1, 3, 640, 640)\n",
      "处理帧 62/293\n",
      "0: 640x640 (no detections), 11.7ms\n",
      "Speed: 1.9ms preprocess, 11.7ms inference, 0.3ms postprocess per image at shape (1, 3, 640, 640)\n",
      "处理帧 63/293\n",
      "0: 640x640 (no detections), 11.1ms\n",
      "Speed: 1.7ms preprocess, 11.1ms inference, 0.3ms postprocess per image at shape (1, 3, 640, 640)\n",
      "处理帧 64/293\n",
      "0: 640x640 (no detections), 12.1ms\n",
      "Speed: 2.4ms preprocess, 12.1ms inference, 0.3ms postprocess per image at shape (1, 3, 640, 640)\n",
      "处理帧 65/293\n",
      "0: 640x640 (no detections), 11.6ms\n",
      "Speed: 2.1ms preprocess, 11.6ms inference, 0.3ms postprocess per image at shape (1, 3, 640, 640)\n",
      "处理帧 66/293\n",
      "0: 640x640 (no detections), 11.6ms\n",
      "Speed: 1.8ms preprocess, 11.6ms inference, 0.3ms postprocess per image at shape (1, 3, 640, 640)\n",
      "处理帧 67/293\n",
      "0: 640x640 (no detections), 11.1ms\n",
      "Speed: 1.8ms preprocess, 11.1ms inference, 0.3ms postprocess per image at shape (1, 3, 640, 640)\n",
      "处理帧 68/293\n",
      "0: 640x640 (no detections), 11.3ms\n",
      "Speed: 2.3ms preprocess, 11.3ms inference, 0.3ms postprocess per image at shape (1, 3, 640, 640)\n",
      "处理帧 69/293\n",
      "0: 640x640 (no detections), 11.8ms\n",
      "Speed: 2.1ms preprocess, 11.8ms inference, 0.3ms postprocess per image at shape (1, 3, 640, 640)\n",
      "处理帧 70/293\n",
      "0: 640x640 (no detections), 11.4ms\n",
      "Speed: 1.9ms preprocess, 11.4ms inference, 0.3ms postprocess per image at shape (1, 3, 640, 640)\n",
      "处理帧 71/293\n",
      "0: 640x640 (no detections), 11.0ms\n",
      "Speed: 1.8ms preprocess, 11.0ms inference, 0.3ms postprocess per image at shape (1, 3, 640, 640)\n",
      "处理帧 72/293\n",
      "0: 640x640 (no detections), 11.2ms\n",
      "Speed: 2.3ms preprocess, 11.2ms inference, 0.3ms postprocess per image at shape (1, 3, 640, 640)\n",
      "处理帧 73/293\n",
      "0: 640x640 (no detections), 11.6ms\n",
      "Speed: 2.1ms preprocess, 11.6ms inference, 0.3ms postprocess per image at shape (1, 3, 640, 640)\n",
      "处理帧 74/293\n",
      "0: 640x640 (no detections), 11.4ms\n",
      "Speed: 1.9ms preprocess, 11.4ms inference, 0.3ms postprocess per image at shape (1, 3, 640, 640)\n",
      "处理帧 75/293\n",
      "0: 640x640 (no detections), 11.2ms\n",
      "Speed: 1.7ms preprocess, 11.2ms inference, 0.3ms postprocess per image at shape (1, 3, 640, 640)\n",
      "处理帧 76/293\n",
      "0: 640x640 (no detections), 11.6ms\n",
      "Speed: 2.3ms preprocess, 11.6ms inference, 0.3ms postprocess per image at shape (1, 3, 640, 640)\n",
      "处理帧 77/293\n",
      "0: 640x640 (no detections), 11.7ms\n",
      "Speed: 2.1ms preprocess, 11.7ms inference, 0.3ms postprocess per image at shape (1, 3, 640, 640)\n",
      "处理帧 78/293\n",
      "0: 640x640 (no detections), 11.4ms\n",
      "Speed: 1.8ms preprocess, 11.4ms inference, 0.3ms postprocess per image at shape (1, 3, 640, 640)\n",
      "处理帧 79/293\n",
      "0: 640x640 (no detections), 11.1ms\n",
      "Speed: 1.8ms preprocess, 11.1ms inference, 0.3ms postprocess per image at shape (1, 3, 640, 640)\n",
      "处理帧 80/293\n",
      "0: 640x640 (no detections), 11.2ms\n",
      "Speed: 2.3ms preprocess, 11.2ms inference, 0.3ms postprocess per image at shape (1, 3, 640, 640)\n",
      "处理帧 81/293\n",
      "0: 640x640 (no detections), 11.2ms\n",
      "Speed: 2.0ms preprocess, 11.2ms inference, 0.3ms postprocess per image at shape (1, 3, 640, 640)\n",
      "处理帧 82/293\n",
      "0: 640x640 (no detections), 11.9ms\n",
      "Speed: 1.9ms preprocess, 11.9ms inference, 0.3ms postprocess per image at shape (1, 3, 640, 640)\n",
      "处理帧 83/293\n",
      "0: 640x640 (no detections), 12.2ms\n",
      "Speed: 1.8ms preprocess, 12.2ms inference, 0.3ms postprocess per image at shape (1, 3, 640, 640)\n",
      "处理帧 84/293\n",
      "0: 640x640 (no detections), 11.7ms\n",
      "Speed: 2.3ms preprocess, 11.7ms inference, 0.3ms postprocess per image at shape (1, 3, 640, 640)\n",
      "处理帧 85/293\n",
      "0: 640x640 (no detections), 11.7ms\n",
      "Speed: 2.0ms preprocess, 11.7ms inference, 0.3ms postprocess per image at shape (1, 3, 640, 640)\n",
      "处理帧 86/293\n",
      "0: 640x640 (no detections), 11.4ms\n",
      "Speed: 1.9ms preprocess, 11.4ms inference, 0.3ms postprocess per image at shape (1, 3, 640, 640)\n",
      "处理帧 87/293\n",
      "0: 640x640 (no detections), 11.3ms\n",
      "Speed: 1.8ms preprocess, 11.3ms inference, 0.3ms postprocess per image at shape (1, 3, 640, 640)\n",
      "处理帧 88/293\n",
      "0: 640x640 (no detections), 11.4ms\n",
      "Speed: 2.3ms preprocess, 11.4ms inference, 0.3ms postprocess per image at shape (1, 3, 640, 640)\n",
      "处理帧 89/293\n",
      "0: 640x640 (no detections), 11.0ms\n",
      "Speed: 2.0ms preprocess, 11.0ms inference, 0.3ms postprocess per image at shape (1, 3, 640, 640)\n",
      "处理帧 90/293\n",
      "0: 640x640 (no detections), 11.0ms\n",
      "Speed: 1.8ms preprocess, 11.0ms inference, 0.3ms postprocess per image at shape (1, 3, 640, 640)\n",
      "处理帧 91/293\n",
      "0: 640x640 (no detections), 11.0ms\n",
      "Speed: 1.7ms preprocess, 11.0ms inference, 0.3ms postprocess per image at shape (1, 3, 640, 640)\n",
      "处理帧 92/293\n",
      "0: 640x640 (no detections), 11.0ms\n",
      "Speed: 2.2ms preprocess, 11.0ms inference, 0.3ms postprocess per image at shape (1, 3, 640, 640)\n",
      "处理帧 93/293\n",
      "0: 640x640 (no detections), 11.8ms\n",
      "Speed: 2.2ms preprocess, 11.8ms inference, 0.3ms postprocess per image at shape (1, 3, 640, 640)\n",
      "处理帧 94/293\n",
      "0: 640x640 (no detections), 11.1ms\n",
      "Speed: 1.9ms preprocess, 11.1ms inference, 0.3ms postprocess per image at shape (1, 3, 640, 640)\n",
      "处理帧 95/293\n",
      "0: 640x640 (no detections), 12.1ms\n",
      "Speed: 1.7ms preprocess, 12.1ms inference, 0.3ms postprocess per image at shape (1, 3, 640, 640)\n",
      "处理帧 96/293\n",
      "0: 640x640 (no detections), 13.1ms\n",
      "Speed: 2.3ms preprocess, 13.1ms inference, 0.3ms postprocess per image at shape (1, 3, 640, 640)\n",
      "处理帧 97/293\n",
      "0: 640x640 (no detections), 11.5ms\n",
      "Speed: 2.1ms preprocess, 11.5ms inference, 0.3ms postprocess per image at shape (1, 3, 640, 640)\n",
      "处理帧 98/293\n",
      "0: 640x640 (no detections), 11.7ms\n",
      "Speed: 1.9ms preprocess, 11.7ms inference, 0.3ms postprocess per image at shape (1, 3, 640, 640)\n",
      "处理帧 99/293\n",
      "0: 640x640 (no detections), 11.6ms\n",
      "Speed: 1.8ms preprocess, 11.6ms inference, 0.3ms postprocess per image at shape (1, 3, 640, 640)\n",
      "处理帧 100/293\n",
      "0: 640x640 (no detections), 11.4ms\n",
      "Speed: 2.3ms preprocess, 11.4ms inference, 0.3ms postprocess per image at shape (1, 3, 640, 640)\n",
      "处理帧 101/293\n",
      "0: 640x640 (no detections), 11.0ms\n",
      "Speed: 2.0ms preprocess, 11.0ms inference, 0.3ms postprocess per image at shape (1, 3, 640, 640)\n",
      "处理帧 102/293\n",
      "0: 640x640 (no detections), 11.3ms\n",
      "Speed: 1.9ms preprocess, 11.3ms inference, 0.3ms postprocess per image at shape (1, 3, 640, 640)\n",
      "处理帧 103/293\n",
      "0: 640x640 (no detections), 11.3ms\n",
      "Speed: 1.7ms preprocess, 11.3ms inference, 0.3ms postprocess per image at shape (1, 3, 640, 640)\n",
      "处理帧 104/293\n",
      "0: 640x640 (no detections), 11.2ms\n",
      "Speed: 2.2ms preprocess, 11.2ms inference, 0.3ms postprocess per image at shape (1, 3, 640, 640)\n",
      "处理帧 105/293\n",
      "0: 640x640 (no detections), 12.0ms\n",
      "Speed: 2.2ms preprocess, 12.0ms inference, 0.3ms postprocess per image at shape (1, 3, 640, 640)\n",
      "处理帧 106/293\n",
      "0: 640x640 (no detections), 11.2ms\n",
      "Speed: 1.9ms preprocess, 11.2ms inference, 0.3ms postprocess per image at shape (1, 3, 640, 640)\n",
      "处理帧 107/293\n",
      "0: 640x640 (no detections), 11.7ms\n",
      "Speed: 1.7ms preprocess, 11.7ms inference, 0.3ms postprocess per image at shape (1, 3, 640, 640)\n",
      "处理帧 108/293\n",
      "0: 640x640 (no detections), 12.0ms\n",
      "Speed: 2.4ms preprocess, 12.0ms inference, 0.3ms postprocess per image at shape (1, 3, 640, 640)\n",
      "处理帧 109/293\n",
      "0: 640x640 (no detections), 12.0ms\n",
      "Speed: 2.1ms preprocess, 12.0ms inference, 0.3ms postprocess per image at shape (1, 3, 640, 640)\n",
      "处理帧 110/293\n",
      "0: 640x640 (no detections), 11.7ms\n",
      "Speed: 1.9ms preprocess, 11.7ms inference, 0.3ms postprocess per image at shape (1, 3, 640, 640)\n",
      "处理帧 111/293\n",
      "0: 640x640 (no detections), 11.8ms\n",
      "Speed: 1.8ms preprocess, 11.8ms inference, 0.3ms postprocess per image at shape (1, 3, 640, 640)\n",
      "处理帧 112/293\n",
      "0: 640x640 (no detections), 11.4ms\n",
      "Speed: 2.3ms preprocess, 11.4ms inference, 0.3ms postprocess per image at shape (1, 3, 640, 640)\n",
      "处理帧 113/293\n",
      "0: 640x640 (no detections), 11.3ms\n",
      "Speed: 2.0ms preprocess, 11.3ms inference, 0.3ms postprocess per image at shape (1, 3, 640, 640)\n",
      "处理帧 114/293\n",
      "0: 640x640 (no detections), 11.5ms\n",
      "Speed: 1.8ms preprocess, 11.5ms inference, 0.3ms postprocess per image at shape (1, 3, 640, 640)\n",
      "处理帧 115/293\n",
      "0: 640x640 (no detections), 11.3ms\n",
      "Speed: 1.7ms preprocess, 11.3ms inference, 0.3ms postprocess per image at shape (1, 3, 640, 640)\n",
      "处理帧 116/293\n",
      "0: 640x640 (no detections), 10.9ms\n",
      "Speed: 2.3ms preprocess, 10.9ms inference, 0.3ms postprocess per image at shape (1, 3, 640, 640)\n",
      "处理帧 117/293\n",
      "0: 640x640 (no detections), 11.3ms\n",
      "Speed: 2.1ms preprocess, 11.3ms inference, 0.3ms postprocess per image at shape (1, 3, 640, 640)\n",
      "处理帧 118/293\n",
      "0: 640x640 (no detections), 11.9ms\n",
      "Speed: 1.9ms preprocess, 11.9ms inference, 0.3ms postprocess per image at shape (1, 3, 640, 640)\n",
      "处理帧 119/293\n",
      "0: 640x640 (no detections), 12.0ms\n",
      "Speed: 1.8ms preprocess, 12.0ms inference, 0.3ms postprocess per image at shape (1, 3, 640, 640)\n",
      "处理帧 120/293\n",
      "0: 640x640 (no detections), 13.5ms\n",
      "Speed: 2.5ms preprocess, 13.5ms inference, 0.3ms postprocess per image at shape (1, 3, 640, 640)\n",
      "处理帧 121/293\n",
      "0: 640x640 (no detections), 11.8ms\n",
      "Speed: 2.2ms preprocess, 11.8ms inference, 0.3ms postprocess per image at shape (1, 3, 640, 640)\n",
      "处理帧 122/293\n",
      "0: 640x640 (no detections), 12.9ms\n",
      "Speed: 2.0ms preprocess, 12.9ms inference, 0.3ms postprocess per image at shape (1, 3, 640, 640)\n",
      "处理帧 123/293\n",
      "0: 640x640 (no detections), 12.4ms\n",
      "Speed: 1.8ms preprocess, 12.4ms inference, 0.3ms postprocess per image at shape (1, 3, 640, 640)\n",
      "处理帧 124/293\n",
      "0: 640x640 (no detections), 12.3ms\n",
      "Speed: 2.4ms preprocess, 12.3ms inference, 0.3ms postprocess per image at shape (1, 3, 640, 640)\n",
      "处理帧 125/293\n",
      "0: 640x640 (no detections), 12.1ms\n",
      "Speed: 2.0ms preprocess, 12.1ms inference, 0.3ms postprocess per image at shape (1, 3, 640, 640)\n",
      "处理帧 126/293\n",
      "0: 640x640 (no detections), 12.2ms\n",
      "Speed: 1.9ms preprocess, 12.2ms inference, 0.3ms postprocess per image at shape (1, 3, 640, 640)\n",
      "处理帧 127/293\n",
      "0: 640x640 (no detections), 12.3ms\n",
      "Speed: 1.9ms preprocess, 12.3ms inference, 0.3ms postprocess per image at shape (1, 3, 640, 640)\n",
      "处理帧 128/293\n",
      "0: 640x640 (no detections), 11.9ms\n",
      "Speed: 2.4ms preprocess, 11.9ms inference, 0.3ms postprocess per image at shape (1, 3, 640, 640)\n",
      "处理帧 129/293\n",
      "0: 640x640 (no detections), 13.2ms\n",
      "Speed: 2.4ms preprocess, 13.2ms inference, 0.3ms postprocess per image at shape (1, 3, 640, 640)\n",
      "处理帧 130/293\n",
      "0: 640x640 (no detections), 11.1ms\n",
      "Speed: 1.9ms preprocess, 11.1ms inference, 0.3ms postprocess per image at shape (1, 3, 640, 640)\n",
      "处理帧 131/293\n",
      "0: 640x640 (no detections), 13.6ms\n",
      "Speed: 1.7ms preprocess, 13.6ms inference, 0.3ms postprocess per image at shape (1, 3, 640, 640)\n",
      "处理帧 132/293\n",
      "0: 640x640 (no detections), 11.9ms\n",
      "Speed: 2.4ms preprocess, 11.9ms inference, 0.3ms postprocess per image at shape (1, 3, 640, 640)\n",
      "处理帧 133/293\n",
      "0: 640x640 (no detections), 11.1ms\n",
      "Speed: 2.0ms preprocess, 11.1ms inference, 0.3ms postprocess per image at shape (1, 3, 640, 640)\n",
      "处理帧 134/293\n",
      "0: 640x640 (no detections), 11.5ms\n",
      "Speed: 1.9ms preprocess, 11.5ms inference, 0.3ms postprocess per image at shape (1, 3, 640, 640)\n",
      "处理帧 135/293\n",
      "0: 640x640 (no detections), 11.7ms\n",
      "Speed: 1.8ms preprocess, 11.7ms inference, 0.3ms postprocess per image at shape (1, 3, 640, 640)\n",
      "处理帧 136/293\n",
      "0: 640x640 (no detections), 11.0ms\n",
      "Speed: 2.3ms preprocess, 11.0ms inference, 0.3ms postprocess per image at shape (1, 3, 640, 640)\n",
      "处理帧 137/293\n",
      "0: 640x640 (no detections), 11.2ms\n",
      "Speed: 1.9ms preprocess, 11.2ms inference, 0.3ms postprocess per image at shape (1, 3, 640, 640)\n",
      "处理帧 138/293\n",
      "0: 640x640 (no detections), 12.2ms\n",
      "Speed: 1.9ms preprocess, 12.2ms inference, 0.3ms postprocess per image at shape (1, 3, 640, 640)\n",
      "处理帧 139/293\n",
      "0: 640x640 (no detections), 11.0ms\n",
      "Speed: 1.7ms preprocess, 11.0ms inference, 0.3ms postprocess per image at shape (1, 3, 640, 640)\n",
      "处理帧 140/293\n",
      "0: 640x640 (no detections), 11.0ms\n",
      "Speed: 2.3ms preprocess, 11.0ms inference, 0.3ms postprocess per image at shape (1, 3, 640, 640)\n",
      "处理帧 141/293\n",
      "0: 640x640 (no detections), 11.5ms\n",
      "Speed: 2.1ms preprocess, 11.5ms inference, 0.3ms postprocess per image at shape (1, 3, 640, 640)\n",
      "处理帧 142/293\n",
      "0: 640x640 (no detections), 11.4ms\n",
      "Speed: 1.9ms preprocess, 11.4ms inference, 0.3ms postprocess per image at shape (1, 3, 640, 640)\n",
      "处理帧 143/293\n",
      "0: 640x640 (no detections), 10.9ms\n",
      "Speed: 1.7ms preprocess, 10.9ms inference, 0.3ms postprocess per image at shape (1, 3, 640, 640)\n",
      "处理帧 144/293\n",
      "0: 640x640 (no detections), 11.1ms\n",
      "Speed: 2.3ms preprocess, 11.1ms inference, 0.3ms postprocess per image at shape (1, 3, 640, 640)\n",
      "处理帧 145/293\n",
      "0: 640x640 (no detections), 11.3ms\n",
      "Speed: 2.2ms preprocess, 11.3ms inference, 0.3ms postprocess per image at shape (1, 3, 640, 640)\n",
      "处理帧 146/293\n",
      "0: 640x640 (no detections), 11.2ms\n",
      "Speed: 1.9ms preprocess, 11.2ms inference, 0.3ms postprocess per image at shape (1, 3, 640, 640)\n",
      "处理帧 147/293\n",
      "0: 640x640 (no detections), 10.9ms\n",
      "Speed: 1.7ms preprocess, 10.9ms inference, 0.3ms postprocess per image at shape (1, 3, 640, 640)\n",
      "处理帧 148/293\n",
      "0: 640x640 (no detections), 11.5ms\n",
      "Speed: 2.3ms preprocess, 11.5ms inference, 0.3ms postprocess per image at shape (1, 3, 640, 640)\n",
      "处理帧 149/293\n",
      "0: 640x640 (no detections), 13.0ms\n",
      "Speed: 2.0ms preprocess, 13.0ms inference, 0.3ms postprocess per image at shape (1, 3, 640, 640)\n",
      "处理帧 150/293\n",
      "0: 640x640 (no detections), 11.4ms\n",
      "Speed: 1.8ms preprocess, 11.4ms inference, 0.3ms postprocess per image at shape (1, 3, 640, 640)\n",
      "处理帧 151/293\n",
      "0: 640x640 (no detections), 11.2ms\n",
      "Speed: 1.8ms preprocess, 11.2ms inference, 0.3ms postprocess per image at shape (1, 3, 640, 640)\n",
      "处理帧 152/293\n",
      "0: 640x640 (no detections), 11.2ms\n",
      "Speed: 2.3ms preprocess, 11.2ms inference, 0.3ms postprocess per image at shape (1, 3, 640, 640)\n",
      "处理帧 153/293\n",
      "0: 640x640 (no detections), 11.0ms\n",
      "Speed: 2.0ms preprocess, 11.0ms inference, 0.3ms postprocess per image at shape (1, 3, 640, 640)\n",
      "处理帧 154/293\n",
      "0: 640x640 (no detections), 11.1ms\n",
      "Speed: 1.9ms preprocess, 11.1ms inference, 0.3ms postprocess per image at shape (1, 3, 640, 640)\n",
      "处理帧 155/293\n",
      "0: 640x640 (no detections), 11.0ms\n",
      "Speed: 1.7ms preprocess, 11.0ms inference, 0.3ms postprocess per image at shape (1, 3, 640, 640)\n",
      "处理帧 156/293\n",
      "0: 640x640 (no detections), 11.6ms\n",
      "Speed: 2.3ms preprocess, 11.6ms inference, 0.3ms postprocess per image at shape (1, 3, 640, 640)\n",
      "处理帧 157/293\n",
      "0: 640x640 (no detections), 11.6ms\n",
      "Speed: 2.0ms preprocess, 11.6ms inference, 0.3ms postprocess per image at shape (1, 3, 640, 640)\n",
      "处理帧 158/293\n",
      "0: 640x640 (no detections), 11.5ms\n",
      "Speed: 1.9ms preprocess, 11.5ms inference, 0.3ms postprocess per image at shape (1, 3, 640, 640)\n",
      "处理帧 159/293\n",
      "0: 640x640 (no detections), 10.9ms\n",
      "Speed: 1.7ms preprocess, 10.9ms inference, 0.3ms postprocess per image at shape (1, 3, 640, 640)\n",
      "处理帧 160/293\n",
      "0: 640x640 (no detections), 11.6ms\n",
      "Speed: 2.3ms preprocess, 11.6ms inference, 0.3ms postprocess per image at shape (1, 3, 640, 640)\n",
      "处理帧 161/293\n",
      "0: 640x640 (no detections), 12.3ms\n",
      "Speed: 2.1ms preprocess, 12.3ms inference, 0.3ms postprocess per image at shape (1, 3, 640, 640)\n",
      "处理帧 162/293\n",
      "0: 640x640 (no detections), 11.5ms\n",
      "Speed: 1.9ms preprocess, 11.5ms inference, 0.3ms postprocess per image at shape (1, 3, 640, 640)\n",
      "处理帧 163/293\n",
      "0: 640x640 (no detections), 10.9ms\n",
      "Speed: 1.7ms preprocess, 10.9ms inference, 0.3ms postprocess per image at shape (1, 3, 640, 640)\n",
      "处理帧 164/293\n",
      "0: 640x640 (no detections), 11.7ms\n",
      "Speed: 2.3ms preprocess, 11.7ms inference, 0.3ms postprocess per image at shape (1, 3, 640, 640)\n",
      "处理帧 165/293\n",
      "0: 640x640 (no detections), 11.5ms\n",
      "Speed: 2.1ms preprocess, 11.5ms inference, 0.3ms postprocess per image at shape (1, 3, 640, 640)\n",
      "处理帧 166/293\n",
      "0: 640x640 (no detections), 11.1ms\n",
      "Speed: 1.8ms preprocess, 11.1ms inference, 0.3ms postprocess per image at shape (1, 3, 640, 640)\n",
      "处理帧 167/293\n",
      "0: 640x640 (no detections), 14.9ms\n",
      "Speed: 1.9ms preprocess, 14.9ms inference, 0.4ms postprocess per image at shape (1, 3, 640, 640)\n",
      "处理帧 168/293\n",
      "0: 640x640 (no detections), 14.6ms\n",
      "Speed: 2.6ms preprocess, 14.6ms inference, 0.3ms postprocess per image at shape (1, 3, 640, 640)\n",
      "处理帧 169/293\n",
      "0: 640x640 (no detections), 14.7ms\n",
      "Speed: 2.3ms preprocess, 14.7ms inference, 0.3ms postprocess per image at shape (1, 3, 640, 640)\n",
      "处理帧 170/293\n",
      "0: 640x640 (no detections), 12.0ms\n",
      "Speed: 2.0ms preprocess, 12.0ms inference, 0.3ms postprocess per image at shape (1, 3, 640, 640)\n",
      "处理帧 171/293\n",
      "0: 640x640 (no detections), 11.8ms\n",
      "Speed: 1.8ms preprocess, 11.8ms inference, 0.3ms postprocess per image at shape (1, 3, 640, 640)\n",
      "处理帧 172/293\n",
      "0: 640x640 (no detections), 11.2ms\n",
      "Speed: 2.3ms preprocess, 11.2ms inference, 0.3ms postprocess per image at shape (1, 3, 640, 640)\n",
      "处理帧 173/293\n",
      "0: 640x640 (no detections), 12.3ms\n",
      "Speed: 2.1ms preprocess, 12.3ms inference, 0.3ms postprocess per image at shape (1, 3, 640, 640)\n",
      "处理帧 174/293\n",
      "0: 640x640 (no detections), 11.8ms\n",
      "Speed: 1.9ms preprocess, 11.8ms inference, 0.3ms postprocess per image at shape (1, 3, 640, 640)\n",
      "处理帧 175/293\n",
      "0: 640x640 (no detections), 11.9ms\n",
      "Speed: 1.9ms preprocess, 11.9ms inference, 0.3ms postprocess per image at shape (1, 3, 640, 640)\n",
      "处理帧 176/293\n",
      "0: 640x640 (no detections), 12.0ms\n",
      "Speed: 2.4ms preprocess, 12.0ms inference, 0.3ms postprocess per image at shape (1, 3, 640, 640)\n",
      "处理帧 177/293\n",
      "0: 640x640 (no detections), 12.0ms\n",
      "Speed: 2.1ms preprocess, 12.0ms inference, 0.3ms postprocess per image at shape (1, 3, 640, 640)\n",
      "处理帧 178/293\n",
      "0: 640x640 (no detections), 11.2ms\n",
      "Speed: 1.8ms preprocess, 11.2ms inference, 0.3ms postprocess per image at shape (1, 3, 640, 640)\n",
      "处理帧 179/293\n",
      "0: 640x640 (no detections), 11.0ms\n",
      "Speed: 1.8ms preprocess, 11.0ms inference, 0.3ms postprocess per image at shape (1, 3, 640, 640)\n",
      "处理帧 180/293\n",
      "0: 640x640 (no detections), 11.6ms\n",
      "Speed: 2.3ms preprocess, 11.6ms inference, 0.3ms postprocess per image at shape (1, 3, 640, 640)\n",
      "处理帧 181/293\n",
      "0: 640x640 (no detections), 10.9ms\n",
      "Speed: 2.0ms preprocess, 10.9ms inference, 0.3ms postprocess per image at shape (1, 3, 640, 640)\n",
      "处理帧 182/293\n",
      "0: 640x640 (no detections), 11.2ms\n",
      "Speed: 1.7ms preprocess, 11.2ms inference, 0.3ms postprocess per image at shape (1, 3, 640, 640)\n",
      "处理帧 183/293\n",
      "0: 640x640 (no detections), 11.0ms\n",
      "Speed: 1.8ms preprocess, 11.0ms inference, 0.3ms postprocess per image at shape (1, 3, 640, 640)\n",
      "处理帧 184/293\n",
      "0: 640x640 (no detections), 10.9ms\n",
      "Speed: 2.3ms preprocess, 10.9ms inference, 0.3ms postprocess per image at shape (1, 3, 640, 640)\n",
      "处理帧 185/293\n",
      "0: 640x640 (no detections), 11.6ms\n",
      "Speed: 2.3ms preprocess, 11.6ms inference, 0.3ms postprocess per image at shape (1, 3, 640, 640)\n",
      "处理帧 186/293\n",
      "0: 640x640 (no detections), 11.4ms\n",
      "Speed: 1.9ms preprocess, 11.4ms inference, 0.3ms postprocess per image at shape (1, 3, 640, 640)\n",
      "处理帧 187/293\n",
      "0: 640x640 (no detections), 11.4ms\n",
      "Speed: 1.7ms preprocess, 11.4ms inference, 0.3ms postprocess per image at shape (1, 3, 640, 640)\n",
      "处理帧 188/293\n",
      "0: 640x640 (no detections), 11.2ms\n",
      "Speed: 2.3ms preprocess, 11.2ms inference, 0.3ms postprocess per image at shape (1, 3, 640, 640)\n",
      "处理帧 189/293\n",
      "0: 640x640 (no detections), 11.9ms\n",
      "Speed: 2.1ms preprocess, 11.9ms inference, 0.3ms postprocess per image at shape (1, 3, 640, 640)\n",
      "处理帧 190/293\n",
      "0: 640x640 (no detections), 11.1ms\n",
      "Speed: 1.9ms preprocess, 11.1ms inference, 0.3ms postprocess per image at shape (1, 3, 640, 640)\n",
      "处理帧 191/293\n",
      "0: 640x640 (no detections), 11.3ms\n",
      "Speed: 1.8ms preprocess, 11.3ms inference, 0.3ms postprocess per image at shape (1, 3, 640, 640)\n",
      "处理帧 192/293\n",
      "0: 640x640 (no detections), 11.5ms\n",
      "Speed: 2.4ms preprocess, 11.5ms inference, 0.3ms postprocess per image at shape (1, 3, 640, 640)\n",
      "处理帧 193/293\n",
      "0: 640x640 (no detections), 11.5ms\n",
      "Speed: 2.0ms preprocess, 11.5ms inference, 0.3ms postprocess per image at shape (1, 3, 640, 640)\n",
      "处理帧 194/293\n",
      "0: 640x640 (no detections), 11.0ms\n",
      "Speed: 1.8ms preprocess, 11.0ms inference, 0.3ms postprocess per image at shape (1, 3, 640, 640)\n",
      "处理帧 195/293\n",
      "0: 640x640 (no detections), 10.9ms\n",
      "Speed: 1.7ms preprocess, 10.9ms inference, 0.3ms postprocess per image at shape (1, 3, 640, 640)\n",
      "处理帧 196/293\n",
      "0: 640x640 (no detections), 11.9ms\n",
      "Speed: 2.3ms preprocess, 11.9ms inference, 0.3ms postprocess per image at shape (1, 3, 640, 640)\n",
      "处理帧 197/293\n",
      "0: 640x640 (no detections), 11.4ms\n",
      "Speed: 2.2ms preprocess, 11.4ms inference, 0.3ms postprocess per image at shape (1, 3, 640, 640)\n",
      "处理帧 198/293\n",
      "0: 640x640 (no detections), 11.2ms\n",
      "Speed: 1.9ms preprocess, 11.2ms inference, 0.3ms postprocess per image at shape (1, 3, 640, 640)\n",
      "处理帧 199/293\n",
      "0: 640x640 (no detections), 11.2ms\n",
      "Speed: 1.8ms preprocess, 11.2ms inference, 0.3ms postprocess per image at shape (1, 3, 640, 640)\n",
      "处理帧 200/293\n",
      "0: 640x640 (no detections), 11.1ms\n",
      "Speed: 2.3ms preprocess, 11.1ms inference, 0.3ms postprocess per image at shape (1, 3, 640, 640)\n",
      "处理帧 201/293\n",
      "0: 640x640 (no detections), 12.2ms\n",
      "Speed: 2.0ms preprocess, 12.2ms inference, 0.3ms postprocess per image at shape (1, 3, 640, 640)\n",
      "处理帧 202/293\n",
      "0: 640x640 (no detections), 12.1ms\n",
      "Speed: 1.9ms preprocess, 12.1ms inference, 0.3ms postprocess per image at shape (1, 3, 640, 640)\n",
      "处理帧 203/293\n",
      "0: 640x640 (no detections), 10.8ms\n",
      "Speed: 1.7ms preprocess, 10.8ms inference, 0.3ms postprocess per image at shape (1, 3, 640, 640)\n",
      "处理帧 204/293\n",
      "0: 640x640 (no detections), 11.7ms\n",
      "Speed: 2.4ms preprocess, 11.7ms inference, 0.3ms postprocess per image at shape (1, 3, 640, 640)\n",
      "处理帧 205/293\n",
      "0: 640x640 (no detections), 11.6ms\n",
      "Speed: 2.1ms preprocess, 11.6ms inference, 0.3ms postprocess per image at shape (1, 3, 640, 640)\n",
      "处理帧 206/293\n",
      "0: 640x640 (no detections), 11.2ms\n",
      "Speed: 1.8ms preprocess, 11.2ms inference, 0.3ms postprocess per image at shape (1, 3, 640, 640)\n",
      "处理帧 207/293\n",
      "0: 640x640 (no detections), 11.6ms\n",
      "Speed: 1.7ms preprocess, 11.6ms inference, 0.3ms postprocess per image at shape (1, 3, 640, 640)\n",
      "处理帧 208/293\n",
      "0: 640x640 (no detections), 11.8ms\n",
      "Speed: 2.4ms preprocess, 11.8ms inference, 0.3ms postprocess per image at shape (1, 3, 640, 640)\n",
      "处理帧 209/293\n",
      "0: 640x640 (no detections), 11.0ms\n",
      "Speed: 1.9ms preprocess, 11.0ms inference, 0.3ms postprocess per image at shape (1, 3, 640, 640)\n",
      "处理帧 210/293\n",
      "0: 640x640 (no detections), 11.4ms\n",
      "Speed: 1.9ms preprocess, 11.4ms inference, 0.3ms postprocess per image at shape (1, 3, 640, 640)\n",
      "处理帧 211/293\n",
      "0: 640x640 (no detections), 11.2ms\n",
      "Speed: 1.8ms preprocess, 11.2ms inference, 0.3ms postprocess per image at shape (1, 3, 640, 640)\n",
      "处理帧 212/293\n",
      "0: 640x640 (no detections), 11.3ms\n",
      "Speed: 2.3ms preprocess, 11.3ms inference, 0.3ms postprocess per image at shape (1, 3, 640, 640)\n",
      "处理帧 213/293\n",
      "0: 640x640 (no detections), 11.0ms\n",
      "Speed: 2.0ms preprocess, 11.0ms inference, 0.3ms postprocess per image at shape (1, 3, 640, 640)\n",
      "处理帧 214/293\n",
      "0: 640x640 (no detections), 11.9ms\n",
      "Speed: 1.8ms preprocess, 11.9ms inference, 0.3ms postprocess per image at shape (1, 3, 640, 640)\n",
      "处理帧 215/293\n",
      "0: 640x640 (no detections), 11.2ms\n",
      "Speed: 1.7ms preprocess, 11.2ms inference, 0.3ms postprocess per image at shape (1, 3, 640, 640)\n",
      "处理帧 216/293\n",
      "0: 640x640 (no detections), 11.3ms\n",
      "Speed: 2.4ms preprocess, 11.3ms inference, 0.3ms postprocess per image at shape (1, 3, 640, 640)\n",
      "处理帧 217/293\n",
      "0: 640x640 (no detections), 11.2ms\n",
      "Speed: 2.0ms preprocess, 11.2ms inference, 0.3ms postprocess per image at shape (1, 3, 640, 640)\n",
      "处理帧 218/293\n",
      "0: 640x640 (no detections), 10.9ms\n",
      "Speed: 1.8ms preprocess, 10.9ms inference, 0.3ms postprocess per image at shape (1, 3, 640, 640)\n",
      "处理帧 219/293\n",
      "0: 640x640 (no detections), 11.4ms\n",
      "Speed: 1.8ms preprocess, 11.4ms inference, 0.3ms postprocess per image at shape (1, 3, 640, 640)\n",
      "处理帧 220/293\n",
      "0: 640x640 (no detections), 12.2ms\n",
      "Speed: 2.3ms preprocess, 12.2ms inference, 0.3ms postprocess per image at shape (1, 3, 640, 640)\n",
      "处理帧 221/293\n",
      "0: 640x640 (no detections), 11.6ms\n",
      "Speed: 2.1ms preprocess, 11.6ms inference, 0.3ms postprocess per image at shape (1, 3, 640, 640)\n",
      "处理帧 222/293\n",
      "0: 640x640 (no detections), 12.1ms\n",
      "Speed: 1.8ms preprocess, 12.1ms inference, 0.3ms postprocess per image at shape (1, 3, 640, 640)\n",
      "处理帧 223/293\n",
      "0: 640x640 (no detections), 11.9ms\n",
      "Speed: 1.8ms preprocess, 11.9ms inference, 0.3ms postprocess per image at shape (1, 3, 640, 640)\n",
      "处理帧 224/293\n",
      "0: 640x640 (no detections), 11.7ms\n",
      "Speed: 2.3ms preprocess, 11.7ms inference, 0.3ms postprocess per image at shape (1, 3, 640, 640)\n",
      "处理帧 225/293\n",
      "0: 640x640 (no detections), 11.6ms\n",
      "Speed: 2.0ms preprocess, 11.6ms inference, 0.3ms postprocess per image at shape (1, 3, 640, 640)\n",
      "处理帧 226/293\n",
      "0: 640x640 (no detections), 12.0ms\n",
      "Speed: 1.9ms preprocess, 12.0ms inference, 0.3ms postprocess per image at shape (1, 3, 640, 640)\n",
      "处理帧 227/293\n",
      "0: 640x640 (no detections), 11.0ms\n",
      "Speed: 1.8ms preprocess, 11.0ms inference, 0.3ms postprocess per image at shape (1, 3, 640, 640)\n",
      "处理帧 228/293\n",
      "0: 640x640 (no detections), 11.1ms\n",
      "Speed: 2.3ms preprocess, 11.1ms inference, 0.3ms postprocess per image at shape (1, 3, 640, 640)\n",
      "处理帧 229/293\n",
      "0: 640x640 (no detections), 11.6ms\n",
      "Speed: 2.0ms preprocess, 11.6ms inference, 0.3ms postprocess per image at shape (1, 3, 640, 640)\n",
      "处理帧 230/293\n",
      "0: 640x640 (no detections), 11.2ms\n",
      "Speed: 1.8ms preprocess, 11.2ms inference, 0.3ms postprocess per image at shape (1, 3, 640, 640)\n",
      "处理帧 231/293\n",
      "0: 640x640 (no detections), 10.9ms\n",
      "Speed: 1.7ms preprocess, 10.9ms inference, 0.3ms postprocess per image at shape (1, 3, 640, 640)\n",
      "处理帧 232/293\n",
      "0: 640x640 (no detections), 11.2ms\n",
      "Speed: 2.3ms preprocess, 11.2ms inference, 0.3ms postprocess per image at shape (1, 3, 640, 640)\n",
      "处理帧 233/293\n",
      "0: 640x640 (no detections), 11.3ms\n",
      "Speed: 2.0ms preprocess, 11.3ms inference, 0.3ms postprocess per image at shape (1, 3, 640, 640)\n",
      "处理帧 234/293\n",
      "0: 640x640 (no detections), 11.7ms\n",
      "Speed: 1.8ms preprocess, 11.7ms inference, 0.3ms postprocess per image at shape (1, 3, 640, 640)\n",
      "处理帧 235/293\n",
      "0: 640x640 (no detections), 11.6ms\n",
      "Speed: 1.7ms preprocess, 11.6ms inference, 0.3ms postprocess per image at shape (1, 3, 640, 640)\n",
      "处理帧 236/293\n",
      "0: 640x640 (no detections), 11.1ms\n",
      "Speed: 2.2ms preprocess, 11.1ms inference, 0.3ms postprocess per image at shape (1, 3, 640, 640)\n",
      "处理帧 237/293\n",
      "0: 640x640 (no detections), 11.2ms\n",
      "Speed: 2.0ms preprocess, 11.2ms inference, 0.3ms postprocess per image at shape (1, 3, 640, 640)\n",
      "处理帧 238/293\n",
      "0: 640x640 (no detections), 11.1ms\n",
      "Speed: 1.8ms preprocess, 11.1ms inference, 0.3ms postprocess per image at shape (1, 3, 640, 640)\n",
      "处理帧 239/293\n",
      "0: 640x640 (no detections), 11.1ms\n",
      "Speed: 1.7ms preprocess, 11.1ms inference, 0.3ms postprocess per image at shape (1, 3, 640, 640)\n",
      "处理帧 240/293\n",
      "0: 640x640 (no detections), 11.1ms\n",
      "Speed: 2.3ms preprocess, 11.1ms inference, 0.3ms postprocess per image at shape (1, 3, 640, 640)\n",
      "处理帧 241/293\n",
      "0: 640x640 (no detections), 11.0ms\n",
      "Speed: 1.9ms preprocess, 11.0ms inference, 0.3ms postprocess per image at shape (1, 3, 640, 640)\n",
      "处理帧 242/293\n",
      "0: 640x640 (no detections), 10.9ms\n",
      "Speed: 1.8ms preprocess, 10.9ms inference, 0.3ms postprocess per image at shape (1, 3, 640, 640)\n",
      "处理帧 243/293\n",
      "0: 640x640 (no detections), 11.0ms\n",
      "Speed: 1.7ms preprocess, 11.0ms inference, 0.3ms postprocess per image at shape (1, 3, 640, 640)\n",
      "处理帧 244/293\n",
      "0: 640x640 (no detections), 11.9ms\n",
      "Speed: 2.4ms preprocess, 11.9ms inference, 0.3ms postprocess per image at shape (1, 3, 640, 640)\n",
      "处理帧 245/293\n",
      "0: 640x640 (no detections), 12.0ms\n",
      "Speed: 2.2ms preprocess, 12.0ms inference, 0.3ms postprocess per image at shape (1, 3, 640, 640)\n",
      "处理帧 246/293\n",
      "0: 640x640 (no detections), 11.6ms\n",
      "Speed: 1.9ms preprocess, 11.6ms inference, 0.3ms postprocess per image at shape (1, 3, 640, 640)\n",
      "\n",
      "处理完成，输出视频保存在: output_videos/annotated_TS-20241123220321351.avi\n"
     ]
    }
   ],
   "source": [
    "import cv2\n",
    "from ultralytics import YOLO\n",
    "import os\n",
    "\n",
    "def main():\n",
    "    # 加载训练好的模型\n",
    "    model_path = '/data/yan/track/runs/segment/yolov11_WormCNN-HTT12/weights/best.pt'  # 替换为您的最佳模型路径\n",
    "    if not os.path.exists(model_path):\n",
    "        raise FileNotFoundError(f\"模型文件不存在: {model_path}\")\n",
    "    model = YOLO(model_path)\n",
    "\n",
    "    # 输入视频路径\n",
    "    video_path = './vedio/TS-20241123220321351.avi'  # 替换为您的视频路径\n",
    "    if not os.path.exists(video_path):\n",
    "        raise FileNotFoundError(f\"视频文件不存在: {video_path}\")\n",
    "    \n",
    "    # 打开视频\n",
    "    cap = cv2.VideoCapture(video_path)\n",
    "    if not cap.isOpened():\n",
    "        raise IOError(f\"无法打开视频文件: {video_path}\")\n",
    "\n",
    "    # 获取视频参数\n",
    "    fps = cap.get(cv2.CAP_PROP_FPS)\n",
    "    width = int(cap.get(cv2.CAP_PROP_FRAME_WIDTH))\n",
    "    height = int(cap.get(cv2.CAP_PROP_FRAME_HEIGHT))\n",
    "    total_frames = int(cap.get(cv2.CAP_PROP_FRAME_COUNT))\n",
    "    print(f\"视频帧率: {fps}, 分辨率: {width}x{height}, 总帧数: {total_frames}\")\n",
    "\n",
    "    # 定义输出视频的保存路径和编码器\n",
    "    output_dir = 'output_videos'\n",
    "    os.makedirs(output_dir, exist_ok=True)\n",
    "    # output_path = os.path.join(output_dir, 'annotated_TS-20241123220321351.avi')\n",
    "    # fourcc = cv2.VideoWriter_fourcc(*'XVID')  # 使用 XVID 编码器\n",
    "    # out = cv2.VideoWriter(output_path, fourcc, fps, (width, height))\n",
    "\n",
    "    fourcc = cv2.VideoWriter_fourcc(*'mp4v')  # 更换为 MP4 编码器\n",
    "    output_path = os.path.join(output_dir, 'annotated_video.mp4')\n",
    "    out = cv2.VideoWriter(output_path, fourcc, fps, (width, height))\n",
    "\n",
    "    frame_count = 0\n",
    "\n",
    "    while True:\n",
    "        ret, frame = cap.read()\n",
    "        if not ret:\n",
    "            break\n",
    "\n",
    "        frame_count += 1\n",
    "        print(f\"处理帧 {frame_count}/{total_frames}\", end='\\r')\n",
    "\n",
    "        # 输入数据格式检查和处理\n",
    "        if frame is not None:\n",
    "            # 转换为 RGB 格式\n",
    "            frame = cv2.cvtColor(frame, cv2.COLOR_BGR2RGB)\n",
    "\n",
    "            # 确保输入尺寸与模型要求一致\n",
    "            frame_resized = cv2.resize(frame, (640, 640))\n",
    "\n",
    "            # 数据归一化到 [0, 1] 范围，并确保类型为 float32\n",
    "            frame_normalized = (frame_resized / 255.0).astype('float32')\n",
    "        else:\n",
    "            print(f\"跳过空帧 {frame_count}\")\n",
    "            continue\n",
    "\n",
    "        # 进行检测\n",
    "        try:\n",
    "            results = model.predict(source=frame_normalized, imgsz=640, stream=False)\n",
    "        except Exception as e:\n",
    "            print(f\"处理帧 {frame_count} 时出错: {e}\")\n",
    "            continue\n",
    "\n",
    "        # 绘制检测结果\n",
    "        for result in results:\n",
    "            annotated_frame = result.plot()\n",
    "\n",
    "        # 转换为 BGR 格式以保存到视频\n",
    "        annotated_frame_bgr = cv2.cvtColor(annotated_frame, cv2.COLOR_RGB2BGR)\n",
    "\n",
    "        # 确保图像数据类型为 uint8\n",
    "        annotated_frame_bgr_uint8 = (annotated_frame_bgr * 255).astype('uint8')\n",
    "\n",
    "        # 写入输出视频\n",
    "        out.write(annotated_frame_bgr_uint8)\n",
    "\n",
    "    # 释放资源\n",
    "    cap.release()\n",
    "    out.release()\n",
    "    print(f\"\\n处理完成，输出视频保存在: {output_path}\")\n",
    "\n",
    "if __name__ == \"__main__\":\n",
    "    main()\n"
   ]
  }
 ],
 "metadata": {
  "kernelspec": {
   "display_name": "yanpan",
   "language": "python",
   "name": "python3"
  },
  "language_info": {
   "codemirror_mode": {
    "name": "ipython",
    "version": 3
   },
   "file_extension": ".py",
   "mimetype": "text/x-python",
   "name": "python",
   "nbconvert_exporter": "python",
   "pygments_lexer": "ipython3",
   "version": "3.11.10"
  }
 },
 "nbformat": 4,
 "nbformat_minor": 2
}
