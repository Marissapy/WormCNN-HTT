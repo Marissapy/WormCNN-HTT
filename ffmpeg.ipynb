{
 "cells": [
  {
   "cell_type": "code",
   "execution_count": 5,
   "id": "b0812db3-7199-4897-9a0b-7f86d926d082",
   "metadata": {
    "tags": []
   },
   "outputs": [
    {
     "name": "stdout",
     "output_type": "stream",
     "text": [
      "原始视频帧率: 28.8 FPS\n",
      "自定义帧率的帧提取完成！\n"
     ]
    }
   ],
   "source": [
    "import cv2\n",
    "import os\n",
    "\n",
    "\n",
    "# 打开视频文件\n",
    "video_path = 'TS-20241123222043114.avi'\n",
    "cap = cv2.VideoCapture(video_path)\n",
    "\n",
    "# 创建输出目录\n",
    "output_dir = f'{video_path}_frames'\n",
    "os.makedirs(output_dir, exist_ok=True)\n",
    "\n",
    "\n",
    "# 获取视频帧率\n",
    "original_fps = cap.get(cv2.CAP_PROP_FPS)\n",
    "print(f\"原始视频帧率: {original_fps} FPS\")\n",
    "\n",
    "# 自定义帧率 (例如，提取 10 FPS)\n",
    "custom_fps = 6\n",
    "frame_interval = int(original_fps / custom_fps)\n",
    "\n",
    "frame_id = 0\n",
    "saved_frame_id = 0\n",
    "\n",
    "# 逐帧读取\n",
    "while cap.isOpened():\n",
    "    ret, frame = cap.read()\n",
    "    if not ret:\n",
    "        break\n",
    "\n",
    "    # 按照帧间隔保存\n",
    "    if frame_id % frame_interval == 0:\n",
    "        saved_frame_id += 1\n",
    "        output_path = os.path.join(output_dir, f\"{video_path}_{saved_frame_id:04d}.tiff\")\n",
    "        cv2.imwrite(output_path, frame)\n",
    "\n",
    "    frame_id += 1\n",
    "\n",
    "cap.release()\n",
    "print(\"自定义帧率的帧提取完成！\")\n",
    "\n"
   ]
  },
  {
   "cell_type": "code",
   "execution_count": 8,
   "id": "d5acdfdd-a55e-4a48-be2d-bb2f61cde554",
   "metadata": {
    "tags": []
   },
   "outputs": [
    {
     "name": "stdout",
     "output_type": "stream",
     "text": [
      "转换完成：TS-20241123222043114.avi_0001.json -> ./TS-20241123222043114.avi_frames/yolo_TS-20241123220321351\\TS-20241123222043114.avi_0001.txt\n",
      "转换完成：TS-20241123222043114.avi_0009.json -> ./TS-20241123222043114.avi_frames/yolo_TS-20241123220321351\\TS-20241123222043114.avi_0009.txt\n",
      "转换完成：TS-20241123222043114.avi_0014.json -> ./TS-20241123222043114.avi_frames/yolo_TS-20241123220321351\\TS-20241123222043114.avi_0014.txt\n",
      "转换完成：TS-20241123222043114.avi_0022.json -> ./TS-20241123222043114.avi_frames/yolo_TS-20241123220321351\\TS-20241123222043114.avi_0022.txt\n",
      "转换完成：TS-20241123222043114.avi_0032.json -> ./TS-20241123222043114.avi_frames/yolo_TS-20241123220321351\\TS-20241123222043114.avi_0032.txt\n",
      "转换完成：TS-20241123222043114.avi_0037.json -> ./TS-20241123222043114.avi_frames/yolo_TS-20241123220321351\\TS-20241123222043114.avi_0037.txt\n",
      "转换完成：TS-20241123222043114.avi_0120.json -> ./TS-20241123222043114.avi_frames/yolo_TS-20241123220321351\\TS-20241123222043114.avi_0120.txt\n",
      "转换完成：TS-20241123222043114.avi_0170.json -> ./TS-20241123222043114.avi_frames/yolo_TS-20241123220321351\\TS-20241123222043114.avi_0170.txt\n",
      "转换完成：TS-20241123222043114.avi_0201.json -> ./TS-20241123222043114.avi_frames/yolo_TS-20241123220321351\\TS-20241123222043114.avi_0201.txt\n",
      "转换完成：TS-20241123222043114.avi_0295.json -> ./TS-20241123222043114.avi_frames/yolo_TS-20241123220321351\\TS-20241123222043114.avi_0295.txt\n",
      "转换完成：TS-20241123222043114.avi_0578.json -> ./TS-20241123222043114.avi_frames/yolo_TS-20241123220321351\\TS-20241123222043114.avi_0578.txt\n",
      "转换完成：TS-20241123222043114.avi_0594.json -> ./TS-20241123222043114.avi_frames/yolo_TS-20241123220321351\\TS-20241123222043114.avi_0594.txt\n",
      "转换完成：TS-20241123222043114.avi_0629.json -> ./TS-20241123222043114.avi_frames/yolo_TS-20241123220321351\\TS-20241123222043114.avi_0629.txt\n",
      "转换完成：TS-20241123222043114.avi_0645.json -> ./TS-20241123222043114.avi_frames/yolo_TS-20241123220321351\\TS-20241123222043114.avi_0645.txt\n",
      "转换完成：TS-20241123222043114.avi_0667.json -> ./TS-20241123222043114.avi_frames/yolo_TS-20241123220321351\\TS-20241123222043114.avi_0667.txt\n",
      "转换完成：TS-20241123222043114.avi_0828.json -> ./TS-20241123222043114.avi_frames/yolo_TS-20241123220321351\\TS-20241123222043114.avi_0828.txt\n",
      "转换完成：TS-20241123222043114.avi_0930.json -> ./TS-20241123222043114.avi_frames/yolo_TS-20241123220321351\\TS-20241123222043114.avi_0930.txt\n",
      "转换完成：TS-20241123222043114.avi_1222.json -> ./TS-20241123222043114.avi_frames/yolo_TS-20241123220321351\\TS-20241123222043114.avi_1222.txt\n",
      "转换完成：TS-20241123222043114.avi_1242.json -> ./TS-20241123222043114.avi_frames/yolo_TS-20241123220321351\\TS-20241123222043114.avi_1242.txt\n",
      "转换完成：TS-20241123222043114.avi_1406.json -> ./TS-20241123222043114.avi_frames/yolo_TS-20241123220321351\\TS-20241123222043114.avi_1406.txt\n",
      "转换完成：TS-20241123222043114.avi_1498.json -> ./TS-20241123222043114.avi_frames/yolo_TS-20241123220321351\\TS-20241123222043114.avi_1498.txt\n",
      "转换完成：TS-20241123222043114.avi_1629.json -> ./TS-20241123222043114.avi_frames/yolo_TS-20241123220321351\\TS-20241123222043114.avi_1629.txt\n",
      "转换完成：TS-20241123222043114.avi_1667.json -> ./TS-20241123222043114.avi_frames/yolo_TS-20241123220321351\\TS-20241123222043114.avi_1667.txt\n",
      "转换完成：TS-20241123222043114.avi_1673.json -> ./TS-20241123222043114.avi_frames/yolo_TS-20241123220321351\\TS-20241123222043114.avi_1673.txt\n",
      "转换完成：TS-20241123222043114.avi_1702.json -> ./TS-20241123222043114.avi_frames/yolo_TS-20241123220321351\\TS-20241123222043114.avi_1702.txt\n",
      "转换完成：TS-20241123222043114.avi_1923.json -> ./TS-20241123222043114.avi_frames/yolo_TS-20241123220321351\\TS-20241123222043114.avi_1923.txt\n",
      "转换完成：TS-20241123222043114.avi_2068.json -> ./TS-20241123222043114.avi_frames/yolo_TS-20241123220321351\\TS-20241123222043114.avi_2068.txt\n",
      "转换完成：TS-20241123222043114.avi_2180.json -> ./TS-20241123222043114.avi_frames/yolo_TS-20241123220321351\\TS-20241123222043114.avi_2180.txt\n",
      "转换完成：TS-20241123222043114.avi_2184.json -> ./TS-20241123222043114.avi_frames/yolo_TS-20241123220321351\\TS-20241123222043114.avi_2184.txt\n",
      "所有标注文件已转换为 YOLO 格式！\n"
     ]
    }
   ],
   "source": [
    "import os\n",
    "import json\n",
    "import cv2\n",
    "\n",
    "# 定义路径\n",
    "labelme_dir = \"./TS-20241123222043114.avi_frames/annotations\"  # Labelme JSON 文件目录\n",
    "output_dir = \"./TS-20241123222043114.avi_frames/yolo_TS-20241123220321351\"  # 转换后的 YOLO 标注文件保存目录\n",
    "os.makedirs(output_dir, exist_ok=True)\n",
    "\n",
    "# 类别字典（支持多个类别）\n",
    "classes = {\"head\": 0, \"tail\": 1}  # 自定义类别及其对应的 ID\n",
    "\n",
    "# 遍历所有 JSON 文件\n",
    "for filename in os.listdir(labelme_dir):\n",
    "    if filename.endswith(\".json\"):\n",
    "        json_path = os.path.join(labelme_dir, filename)\n",
    "\n",
    "        # 读取 JSON 文件\n",
    "        with open(json_path, \"r\", encoding=\"utf-8\") as f:\n",
    "            data = json.load(f)\n",
    "\n",
    "        # 获取图片宽高\n",
    "        image_path = os.path.join(labelme_dir, data[\"imagePath\"])\n",
    "        image = cv2.imread(image_path)\n",
    "        if image is None:\n",
    "            print(f\"无法读取图片: {image_path}\")\n",
    "            continue\n",
    "        height, width, _ = image.shape\n",
    "\n",
    "        # YOLO 格式标注结果\n",
    "        yolo_labels = []\n",
    "\n",
    "        # 处理每个标注\n",
    "        for shape in data[\"shapes\"]:\n",
    "            label = shape[\"label\"]\n",
    "            if label in classes:  # 确保类别在类别字典中\n",
    "                points = shape[\"points\"]\n",
    "                x_min = min([p[0] for p in points])\n",
    "                y_min = min([p[1] for p in points])\n",
    "                x_max = max([p[0] for p in points])\n",
    "                y_max = max([p[1] for p in points])\n",
    "\n",
    "                # 转换为 YOLO 格式\n",
    "                x_center = (x_min + x_max) / 2 / width\n",
    "                y_center = (y_min + y_max) / 2 / height\n",
    "                bbox_width = (x_max - x_min) / width\n",
    "                bbox_height = (y_max - y_min) / height\n",
    "\n",
    "                class_id = classes[label]\n",
    "                yolo_labels.append(f\"{class_id} {x_center} {y_center} {bbox_width} {bbox_height}\")\n",
    "\n",
    "        # 保存为 YOLO 格式文件\n",
    "        yolo_filename = os.path.join(output_dir, filename.replace(\".json\", \".txt\"))\n",
    "        with open(yolo_filename, \"w\") as f:\n",
    "            f.write(\"\\n\".join(yolo_labels))\n",
    "\n",
    "        print(f\"转换完成：{filename} -> {yolo_filename}\")\n",
    "\n",
    "print(\"所有标注文件已转换为 YOLO 格式！\")\n"
   ]
  },
  {
   "cell_type": "code",
   "execution_count": 9,
   "id": "4eec0f7a-73cd-4233-8ee9-e4c20101110a",
   "metadata": {
    "tags": []
   },
   "outputs": [],
   "source": [
    "import cv2\n",
    "import os\n",
    "\n",
    "# 图片和标注目录\n",
    "image_dir = \"./TS-20241123222043114.avi_frames\"  # 图片目录\n",
    "label_dir = \"./TS-20241123222043114.avi_frames/yolo_TS-20241123220321351\"  # YOLO 标注目录\n",
    "\n",
    "for label_file in os.listdir(label_dir):\n",
    "    if label_file.endswith(\".txt\"):\n",
    "        # 加载图片\n",
    "        image_path = os.path.join(image_dir, label_file.replace(\".txt\", \".tiff\"))\n",
    "        image = cv2.imread(image_path)\n",
    "\n",
    "        # 加载标注\n",
    "        with open(os.path.join(label_dir, label_file), \"r\") as f:\n",
    "            for line in f.readlines():\n",
    "                class_id, x_center, y_center, width, height = map(float, line.strip().split())\n",
    "                img_h, img_w, _ = image.shape\n",
    "                x1 = int((x_center - width / 2) * img_w)\n",
    "                y1 = int((y_center - height / 2) * img_h)\n",
    "                x2 = int((x_center + width / 2) * img_w)\n",
    "                y2 = int((y_center + height / 2) * img_h)\n",
    "\n",
    "                # 绘制矩形框\n",
    "                cv2.rectangle(image, (x1, y1), (x2, y2), (0, 255, 0), 2)\n",
    "                cv2.putText(image, f\"Class {int(class_id)}\", (x1, y1 - 5), cv2.FONT_HERSHEY_SIMPLEX, 0.5, (0, 255, 0), 1)\n",
    "\n",
    "        # 显示图片\n",
    "        cv2.imshow(\"Annotated Image\", image)\n",
    "        cv2.waitKey(0)\n",
    "\n",
    "cv2.destroyAllWindows()\n"
   ]
  },
  {
   "cell_type": "code",
   "execution_count": 10,
   "id": "b0acf6af-8079-4f46-aa78-2eda7d5b80d1",
   "metadata": {
    "tags": []
   },
   "outputs": [
    {
     "name": "stdout",
     "output_type": "stream",
     "text": [
      "类别文件 classes.txt 已生成！\n"
     ]
    }
   ],
   "source": [
    "# 生成类别文件\n",
    "with open(os.path.join(output_dir, \"classes.txt\"), \"w\") as f:\n",
    "    for class_name in classes:\n",
    "        f.write(f\"{class_name}\\n\")\n",
    "print(\"类别文件 classes.txt 已生成！\")\n"
   ]
  }
 ],
 "metadata": {
  "kernelspec": {
   "display_name": "Python 3 (ipykernel)",
   "language": "python",
   "name": "python3"
  },
  "language_info": {
   "codemirror_mode": {
    "name": "ipython",
    "version": 3
   },
   "file_extension": ".py",
   "mimetype": "text/x-python",
   "name": "python",
   "nbconvert_exporter": "python",
   "pygments_lexer": "ipython3",
   "version": "3.11.5"
  }
 },
 "nbformat": 4,
 "nbformat_minor": 5
}
