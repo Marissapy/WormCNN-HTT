{
 "cells": [
  {
   "cell_type": "code",
   "execution_count": 10,
   "metadata": {},
   "outputs": [
    {
     "name": "stdout",
     "output_type": "stream",
     "text": [
      "Ultralytics 8.3.36 🚀 Python-3.11.10 torch-2.5.1+cu124 CUDA:0 (NVIDIA GeForce RTX 4090, 24210MiB)\n",
      "\u001b[34m\u001b[1mengine/trainer: \u001b[0mtask=detect, mode=train, model=/data/yan/track/yolomodel/yolo11x.pt, data=./data.yaml, epochs=512, time=None, patience=100, batch=24, imgsz=640, save=True, save_period=-1, cache=False, device=None, workers=8, project=runs/detect, name=yolov11_WormCNN-HTT9, exist_ok=False, pretrained=True, optimizer=auto, verbose=True, seed=0, deterministic=True, single_cls=False, rect=False, cos_lr=False, close_mosaic=10, resume=False, amp=True, fraction=1.0, profile=False, freeze=None, multi_scale=False, overlap_mask=True, mask_ratio=4, dropout=0.0, val=True, split=val, save_json=False, save_hybrid=False, conf=None, iou=0.7, max_det=300, half=False, dnn=False, plots=True, source=None, vid_stride=1, stream_buffer=False, visualize=False, augment=False, agnostic_nms=False, classes=None, retina_masks=False, embed=None, show=False, save_frames=False, save_txt=False, save_conf=False, save_crop=False, show_labels=True, show_conf=True, show_boxes=True, line_width=None, format=torchscript, keras=False, optimize=False, int8=False, dynamic=False, simplify=True, opset=None, workspace=4, nms=False, lr0=0.01, lrf=0.01, momentum=0.937, weight_decay=0.0005, warmup_epochs=3.0, warmup_momentum=0.8, warmup_bias_lr=0.1, box=7.5, cls=0.5, dfl=1.5, pose=12.0, kobj=1.0, label_smoothing=0.0, nbs=64, hsv_h=0.015, hsv_s=0.7, hsv_v=0.4, degrees=0.0, translate=0.1, scale=0.5, shear=0.0, perspective=0.0, flipud=0.0, fliplr=0.5, bgr=0.0, mosaic=1.0, mixup=0.0, copy_paste=0.0, copy_paste_mode=flip, auto_augment=randaugment, erasing=0.4, crop_fraction=1.0, cfg=None, tracker=botsort.yaml, save_dir=runs/detect/yolov11_WormCNN-HTT9\n",
      "Overriding model.yaml nc=80 with nc=2\n",
      "\n",
      "                   from  n    params  module                                       arguments                     \n",
      "  0                  -1  1      2784  ultralytics.nn.modules.conv.Conv             [3, 96, 3, 2]                 \n",
      "  1                  -1  1    166272  ultralytics.nn.modules.conv.Conv             [96, 192, 3, 2]               \n",
      "  2                  -1  2    389760  ultralytics.nn.modules.block.C3k2            [192, 384, 2, True, 0.25]     \n",
      "  3                  -1  1   1327872  ultralytics.nn.modules.conv.Conv             [384, 384, 3, 2]              \n",
      "  4                  -1  2   1553664  ultralytics.nn.modules.block.C3k2            [384, 768, 2, True, 0.25]     \n",
      "  5                  -1  1   5309952  ultralytics.nn.modules.conv.Conv             [768, 768, 3, 2]              \n",
      "  6                  -1  2   5022720  ultralytics.nn.modules.block.C3k2            [768, 768, 2, True]           \n",
      "  7                  -1  1   5309952  ultralytics.nn.modules.conv.Conv             [768, 768, 3, 2]              \n",
      "  8                  -1  2   5022720  ultralytics.nn.modules.block.C3k2            [768, 768, 2, True]           \n",
      "  9                  -1  1   1476864  ultralytics.nn.modules.block.SPPF            [768, 768, 5]                 \n",
      " 10                  -1  2   3264768  ultralytics.nn.modules.block.C2PSA           [768, 768, 2]                 \n",
      " 11                  -1  1         0  torch.nn.modules.upsampling.Upsample         [None, 2, 'nearest']          \n",
      " 12             [-1, 6]  1         0  ultralytics.nn.modules.conv.Concat           [1]                           \n",
      " 13                  -1  2   5612544  ultralytics.nn.modules.block.C3k2            [1536, 768, 2, True]          \n",
      " 14                  -1  1         0  torch.nn.modules.upsampling.Upsample         [None, 2, 'nearest']          \n",
      " 15             [-1, 4]  1         0  ultralytics.nn.modules.conv.Concat           [1]                           \n",
      " 16                  -1  2   1700352  ultralytics.nn.modules.block.C3k2            [1536, 384, 2, True]          \n",
      " 17                  -1  1   1327872  ultralytics.nn.modules.conv.Conv             [384, 384, 3, 2]              \n",
      " 18            [-1, 13]  1         0  ultralytics.nn.modules.conv.Concat           [1]                           \n",
      " 19                  -1  2   5317632  ultralytics.nn.modules.block.C3k2            [1152, 768, 2, True]          \n",
      " 20                  -1  1   5309952  ultralytics.nn.modules.conv.Conv             [768, 768, 3, 2]              \n",
      " 21            [-1, 10]  1         0  ultralytics.nn.modules.conv.Concat           [1]                           \n",
      " 22                  -1  2   5612544  ultralytics.nn.modules.block.C3k2            [1536, 768, 2, True]          \n",
      " 23        [16, 19, 22]  1   3147862  ultralytics.nn.modules.head.Detect           [2, [384, 768, 768]]          \n",
      "YOLO11x summary: 631 layers, 56,876,086 parameters, 56,876,070 gradients, 195.5 GFLOPs\n",
      "\n",
      "Transferred 1009/1015 items from pretrained weights\n",
      "Freezing layer 'model.23.dfl.conv.weight'\n",
      "\u001b[34m\u001b[1mAMP: \u001b[0mrunning Automatic Mixed Precision (AMP) checks...\n",
      "\u001b[34m\u001b[1mAMP: \u001b[0mchecks passed ✅\n"
     ]
    },
    {
     "name": "stderr",
     "output_type": "stream",
     "text": [
      "\u001b[34m\u001b[1mtrain: \u001b[0mScanning /data/yan/track/datasets/organized_data/train/labels.cache... 23 images, 0 backgrounds, 0 corrupt: 100%|██████████| 23/23 [00:00<?, ?it/s]\n",
      "\u001b[34m\u001b[1mval: \u001b[0mScanning /data/yan/track/datasets/organized_data/val/labels.cache... 6 images, 0 backgrounds, 0 corrupt: 100%|██████████| 6/6 [00:00<?, ?it/s]\n"
     ]
    },
    {
     "name": "stdout",
     "output_type": "stream",
     "text": [
      "Plotting labels to runs/detect/yolov11_WormCNN-HTT9/labels.jpg... \n",
      "\u001b[34m\u001b[1moptimizer:\u001b[0m 'optimizer=auto' found, ignoring 'lr0=0.01' and 'momentum=0.937' and determining best 'optimizer', 'lr0' and 'momentum' automatically... \n",
      "\u001b[34m\u001b[1moptimizer:\u001b[0m AdamW(lr=0.001667, momentum=0.9) with parameter groups 167 weight(decay=0.0), 174 weight(decay=0.0005625000000000001), 173 bias(decay=0.0)\n",
      "Image sizes 640 train, 640 val\n",
      "Using 8 dataloader workers\n",
      "Logging results to \u001b[1mruns/detect/yolov11_WormCNN-HTT9\u001b[0m\n",
      "Starting training for 512 epochs...\n",
      "\n",
      "      Epoch    GPU_mem   box_loss   cls_loss   dfl_loss  Instances       Size\n"
     ]
    },
    {
     "name": "stderr",
     "output_type": "stream",
     "text": [
      "      1/512      22.8G      5.832      36.17      2.566        292        640: 100%|██████████| 1/1 [00:00<00:00,  2.37it/s]\n",
      "                 Class     Images  Instances      Box(P          R      mAP50  mAP50-95): 100%|██████████| 1/1 [00:00<00:00, 13.70it/s]"
     ]
    },
    {
     "name": "stdout",
     "output_type": "stream",
     "text": [
      "                   all          6         50          0          0          0          0\n"
     ]
    },
    {
     "name": "stderr",
     "output_type": "stream",
     "text": [
      "\n"
     ]
    },
    {
     "name": "stdout",
     "output_type": "stream",
     "text": [
      "\n",
      "      Epoch    GPU_mem   box_loss   cls_loss   dfl_loss  Instances       Size\n"
     ]
    },
    {
     "name": "stderr",
     "output_type": "stream",
     "text": [
      "      2/512      22.6G       5.12      40.87      2.056        319        640: 100%|██████████| 1/1 [00:00<00:00,  2.38it/s]\n",
      "                 Class     Images  Instances      Box(P          R      mAP50  mAP50-95): 100%|██████████| 1/1 [00:00<00:00, 13.98it/s]"
     ]
    },
    {
     "name": "stdout",
     "output_type": "stream",
     "text": [
      "                   all          6         50          0          0          0          0\n"
     ]
    },
    {
     "name": "stderr",
     "output_type": "stream",
     "text": [
      "\n"
     ]
    },
    {
     "name": "stdout",
     "output_type": "stream",
     "text": [
      "\n",
      "      Epoch    GPU_mem   box_loss   cls_loss   dfl_loss  Instances       Size\n"
     ]
    },
    {
     "name": "stderr",
     "output_type": "stream",
     "text": [
      "      3/512      22.6G      5.439      41.45      2.278        340        640: 100%|██████████| 1/1 [00:00<00:00,  2.23it/s]\n",
      "                 Class     Images  Instances      Box(P          R      mAP50  mAP50-95): 100%|██████████| 1/1 [00:00<00:00, 12.54it/s]"
     ]
    },
    {
     "name": "stdout",
     "output_type": "stream",
     "text": [
      "                   all          6         50          0          0          0          0\n"
     ]
    },
    {
     "name": "stderr",
     "output_type": "stream",
     "text": [
      "\n"
     ]
    },
    {
     "name": "stdout",
     "output_type": "stream",
     "text": [
      "\n",
      "      Epoch    GPU_mem   box_loss   cls_loss   dfl_loss  Instances       Size\n"
     ]
    },
    {
     "name": "stderr",
     "output_type": "stream",
     "text": [
      "      4/512      22.6G      5.242      44.13      2.035        317        640: 100%|██████████| 1/1 [00:00<00:00,  2.28it/s]\n",
      "                 Class     Images  Instances      Box(P          R      mAP50  mAP50-95): 100%|██████████| 1/1 [00:00<00:00, 18.73it/s]"
     ]
    },
    {
     "name": "stdout",
     "output_type": "stream",
     "text": [
      "                   all          6         50          0          0          0          0\n"
     ]
    },
    {
     "name": "stderr",
     "output_type": "stream",
     "text": [
      "\n"
     ]
    },
    {
     "name": "stdout",
     "output_type": "stream",
     "text": [
      "\n",
      "      Epoch    GPU_mem   box_loss   cls_loss   dfl_loss  Instances       Size\n"
     ]
    },
    {
     "name": "stderr",
     "output_type": "stream",
     "text": [
      "      5/512      22.6G      5.609      41.93      2.299        313        640: 100%|██████████| 1/1 [00:00<00:00,  2.27it/s]\n",
      "                 Class     Images  Instances      Box(P          R      mAP50  mAP50-95): 100%|██████████| 1/1 [00:00<00:00, 18.91it/s]"
     ]
    },
    {
     "name": "stdout",
     "output_type": "stream",
     "text": [
      "                   all          6         50          0          0          0          0\n"
     ]
    },
    {
     "name": "stderr",
     "output_type": "stream",
     "text": [
      "\n"
     ]
    },
    {
     "name": "stdout",
     "output_type": "stream",
     "text": [
      "\n",
      "      Epoch    GPU_mem   box_loss   cls_loss   dfl_loss  Instances       Size\n"
     ]
    },
    {
     "name": "stderr",
     "output_type": "stream",
     "text": [
      "      6/512      22.6G      4.684      36.78       1.96        333        640: 100%|██████████| 1/1 [00:00<00:00,  2.28it/s]\n",
      "                 Class     Images  Instances      Box(P          R      mAP50  mAP50-95): 100%|██████████| 1/1 [00:00<00:00, 17.53it/s]"
     ]
    },
    {
     "name": "stdout",
     "output_type": "stream",
     "text": [
      "                   all          6         50          0          0          0          0\n"
     ]
    },
    {
     "name": "stderr",
     "output_type": "stream",
     "text": [
      "\n"
     ]
    },
    {
     "name": "stdout",
     "output_type": "stream",
     "text": [
      "\n",
      "      Epoch    GPU_mem   box_loss   cls_loss   dfl_loss  Instances       Size\n"
     ]
    },
    {
     "name": "stderr",
     "output_type": "stream",
     "text": [
      "      7/512      22.7G      5.344      34.73      2.171        249        640: 100%|██████████| 1/1 [00:00<00:00,  2.25it/s]\n",
      "                 Class     Images  Instances      Box(P          R      mAP50  mAP50-95): 100%|██████████| 1/1 [00:00<00:00, 14.81it/s]"
     ]
    },
    {
     "name": "stdout",
     "output_type": "stream",
     "text": [
      "                   all          6         50          0          0          0          0\n"
     ]
    },
    {
     "name": "stderr",
     "output_type": "stream",
     "text": [
      "\n"
     ]
    },
    {
     "name": "stdout",
     "output_type": "stream",
     "text": [
      "\n",
      "      Epoch    GPU_mem   box_loss   cls_loss   dfl_loss  Instances       Size\n"
     ]
    },
    {
     "name": "stderr",
     "output_type": "stream",
     "text": [
      "      8/512      22.7G      5.815      36.41      2.149        312        640: 100%|██████████| 1/1 [00:00<00:00,  2.28it/s]\n",
      "                 Class     Images  Instances      Box(P          R      mAP50  mAP50-95): 100%|██████████| 1/1 [00:00<00:00, 18.62it/s]"
     ]
    },
    {
     "name": "stdout",
     "output_type": "stream",
     "text": [
      "                   all          6         50          0          0          0          0\n"
     ]
    },
    {
     "name": "stderr",
     "output_type": "stream",
     "text": [
      "\n"
     ]
    },
    {
     "name": "stdout",
     "output_type": "stream",
     "text": [
      "\n",
      "      Epoch    GPU_mem   box_loss   cls_loss   dfl_loss  Instances       Size\n"
     ]
    },
    {
     "name": "stderr",
     "output_type": "stream",
     "text": [
      "      9/512      22.6G      5.679      42.92      2.342        300        640: 100%|██████████| 1/1 [00:00<00:00,  2.27it/s]\n",
      "                 Class     Images  Instances      Box(P          R      mAP50  mAP50-95): 100%|██████████| 1/1 [00:00<00:00, 18.81it/s]"
     ]
    },
    {
     "name": "stdout",
     "output_type": "stream",
     "text": [
      "                   all          6         50          0          0          0          0\n"
     ]
    },
    {
     "name": "stderr",
     "output_type": "stream",
     "text": [
      "\n"
     ]
    },
    {
     "name": "stdout",
     "output_type": "stream",
     "text": [
      "\n",
      "      Epoch    GPU_mem   box_loss   cls_loss   dfl_loss  Instances       Size\n"
     ]
    },
    {
     "name": "stderr",
     "output_type": "stream",
     "text": [
      "     10/512      22.7G      4.961      38.72      2.141        334        640: 100%|██████████| 1/1 [00:00<00:00,  2.28it/s]\n",
      "                 Class     Images  Instances      Box(P          R      mAP50  mAP50-95): 100%|██████████| 1/1 [00:00<00:00, 18.58it/s]"
     ]
    },
    {
     "name": "stdout",
     "output_type": "stream",
     "text": [
      "                   all          6         50          0          0          0          0\n"
     ]
    },
    {
     "name": "stderr",
     "output_type": "stream",
     "text": [
      "\n"
     ]
    },
    {
     "name": "stdout",
     "output_type": "stream",
     "text": [
      "\n",
      "      Epoch    GPU_mem   box_loss   cls_loss   dfl_loss  Instances       Size\n"
     ]
    },
    {
     "name": "stderr",
     "output_type": "stream",
     "text": [
      "     11/512      22.6G      6.252      57.59       2.61        381        640: 100%|██████████| 1/1 [00:00<00:00,  2.28it/s]\n",
      "                 Class     Images  Instances      Box(P          R      mAP50  mAP50-95): 100%|██████████| 1/1 [00:00<00:00, 14.56it/s]"
     ]
    },
    {
     "name": "stdout",
     "output_type": "stream",
     "text": [
      "                   all          6         50          0          0          0          0\n"
     ]
    },
    {
     "name": "stderr",
     "output_type": "stream",
     "text": [
      "\n"
     ]
    },
    {
     "name": "stdout",
     "output_type": "stream",
     "text": [
      "\n",
      "      Epoch    GPU_mem   box_loss   cls_loss   dfl_loss  Instances       Size\n"
     ]
    },
    {
     "name": "stderr",
     "output_type": "stream",
     "text": [
      "     12/512      22.7G      5.561      40.94       2.14        297        640: 100%|██████████| 1/1 [00:00<00:00,  2.17it/s]\n",
      "                 Class     Images  Instances      Box(P          R      mAP50  mAP50-95): 100%|██████████| 1/1 [00:00<00:00, 22.44it/s]"
     ]
    },
    {
     "name": "stdout",
     "output_type": "stream",
     "text": [
      "                   all          6         50          0          0          0          0\n"
     ]
    },
    {
     "name": "stderr",
     "output_type": "stream",
     "text": [
      "\n"
     ]
    },
    {
     "name": "stdout",
     "output_type": "stream",
     "text": [
      "\n",
      "      Epoch    GPU_mem   box_loss   cls_loss   dfl_loss  Instances       Size\n"
     ]
    },
    {
     "name": "stderr",
     "output_type": "stream",
     "text": [
      "     13/512      23.1G      3.957      8.187      1.097        289        640: 100%|██████████| 1/1 [00:00<00:00,  2.47it/s]\n",
      "                 Class     Images  Instances      Box(P          R      mAP50  mAP50-95): 100%|██████████| 1/1 [00:00<00:00, 24.73it/s]"
     ]
    },
    {
     "name": "stdout",
     "output_type": "stream",
     "text": [
      "                   all          6         50     0.0117       0.38     0.0109    0.00257\n"
     ]
    },
    {
     "name": "stderr",
     "output_type": "stream",
     "text": [
      "\n"
     ]
    },
    {
     "name": "stdout",
     "output_type": "stream",
     "text": [
      "\n",
      "      Epoch    GPU_mem   box_loss   cls_loss   dfl_loss  Instances       Size\n"
     ]
    },
    {
     "name": "stderr",
     "output_type": "stream",
     "text": [
      "     14/512      23.1G      3.454      5.464     0.9872        302        640: 100%|██████████| 1/1 [00:00<00:00,  2.47it/s]\n",
      "                 Class     Images  Instances      Box(P          R      mAP50  mAP50-95): 100%|██████████| 1/1 [00:00<00:00, 22.33it/s]"
     ]
    },
    {
     "name": "stdout",
     "output_type": "stream",
     "text": [
      "                   all          6         50      0.137       0.48      0.183     0.0582\n"
     ]
    },
    {
     "name": "stderr",
     "output_type": "stream",
     "text": [
      "\n"
     ]
    },
    {
     "name": "stdout",
     "output_type": "stream",
     "text": [
      "\n",
      "      Epoch    GPU_mem   box_loss   cls_loss   dfl_loss  Instances       Size\n"
     ]
    },
    {
     "name": "stderr",
     "output_type": "stream",
     "text": [
      "     15/512      23.1G      3.112      9.772     0.9642        312        640: 100%|██████████| 1/1 [00:00<00:00,  2.39it/s]\n",
      "                 Class     Images  Instances      Box(P          R      mAP50  mAP50-95): 100%|██████████| 1/1 [00:00<00:00, 18.14it/s]"
     ]
    },
    {
     "name": "stdout",
     "output_type": "stream",
     "text": [
      "                   all          6         50      0.137       0.48      0.183     0.0582\n"
     ]
    },
    {
     "name": "stderr",
     "output_type": "stream",
     "text": [
      "\n"
     ]
    },
    {
     "name": "stdout",
     "output_type": "stream",
     "text": [
      "\n",
      "      Epoch    GPU_mem   box_loss   cls_loss   dfl_loss  Instances       Size\n"
     ]
    },
    {
     "name": "stderr",
     "output_type": "stream",
     "text": [
      "     16/512      23.1G      3.184      4.802     0.9524        315        640: 100%|██████████| 1/1 [00:00<00:00,  2.46it/s]\n",
      "                 Class     Images  Instances      Box(P          R      mAP50  mAP50-95): 100%|██████████| 1/1 [00:00<00:00, 21.99it/s]"
     ]
    },
    {
     "name": "stdout",
     "output_type": "stream",
     "text": [
      "                   all          6         50      0.137       0.48      0.183     0.0582\n"
     ]
    },
    {
     "name": "stderr",
     "output_type": "stream",
     "text": [
      "\n"
     ]
    },
    {
     "name": "stdout",
     "output_type": "stream",
     "text": [
      "\n",
      "      Epoch    GPU_mem   box_loss   cls_loss   dfl_loss  Instances       Size\n"
     ]
    },
    {
     "name": "stderr",
     "output_type": "stream",
     "text": [
      "     17/512      23.1G      3.143      4.068     0.9467        276        640: 100%|██████████| 1/1 [00:00<00:00,  2.45it/s]\n",
      "                 Class     Images  Instances      Box(P          R      mAP50  mAP50-95): 100%|██████████| 1/1 [00:00<00:00, 23.63it/s]"
     ]
    },
    {
     "name": "stdout",
     "output_type": "stream",
     "text": [
      "                   all          6         50      0.137       0.48      0.183     0.0582\n"
     ]
    },
    {
     "name": "stderr",
     "output_type": "stream",
     "text": [
      "\n"
     ]
    },
    {
     "name": "stdout",
     "output_type": "stream",
     "text": [
      "\n",
      "      Epoch    GPU_mem   box_loss   cls_loss   dfl_loss  Instances       Size\n"
     ]
    },
    {
     "name": "stderr",
     "output_type": "stream",
     "text": [
      "     18/512      23.1G      3.074      3.476     0.9154        376        640: 100%|██████████| 1/1 [00:00<00:00,  2.34it/s]\n",
      "                 Class     Images  Instances      Box(P          R      mAP50  mAP50-95): 100%|██████████| 1/1 [00:00<00:00, 20.48it/s]"
     ]
    },
    {
     "name": "stdout",
     "output_type": "stream",
     "text": [
      "                   all          6         50   0.000417       0.02    0.00023   9.19e-05\n"
     ]
    },
    {
     "name": "stderr",
     "output_type": "stream",
     "text": [
      "\n"
     ]
    },
    {
     "name": "stdout",
     "output_type": "stream",
     "text": [
      "\n",
      "      Epoch    GPU_mem   box_loss   cls_loss   dfl_loss  Instances       Size\n"
     ]
    },
    {
     "name": "stderr",
     "output_type": "stream",
     "text": [
      "     19/512      23.1G      3.341      3.781      1.001        220        640: 100%|██████████| 1/1 [00:00<00:00,  2.37it/s]\n",
      "                 Class     Images  Instances      Box(P          R      mAP50  mAP50-95): 100%|██████████| 1/1 [00:00<00:00, 22.04it/s]"
     ]
    },
    {
     "name": "stdout",
     "output_type": "stream",
     "text": [
      "                   all          6         50   0.000417       0.02    0.00023   9.19e-05\n"
     ]
    },
    {
     "name": "stderr",
     "output_type": "stream",
     "text": [
      "\n"
     ]
    },
    {
     "name": "stdout",
     "output_type": "stream",
     "text": [
      "\n",
      "      Epoch    GPU_mem   box_loss   cls_loss   dfl_loss  Instances       Size\n"
     ]
    },
    {
     "name": "stderr",
     "output_type": "stream",
     "text": [
      "     20/512      23.1G      3.456      3.606      1.013        327        640: 100%|██████████| 1/1 [00:00<00:00,  2.45it/s]\n",
      "                 Class     Images  Instances      Box(P          R      mAP50  mAP50-95): 100%|██████████| 1/1 [00:00<00:00, 28.80it/s]"
     ]
    },
    {
     "name": "stdout",
     "output_type": "stream",
     "text": [
      "                   all          6         50   0.000417       0.02    0.00023   9.19e-05\n"
     ]
    },
    {
     "name": "stderr",
     "output_type": "stream",
     "text": [
      "\n"
     ]
    },
    {
     "name": "stdout",
     "output_type": "stream",
     "text": [
      "\n",
      "      Epoch    GPU_mem   box_loss   cls_loss   dfl_loss  Instances       Size\n"
     ]
    },
    {
     "name": "stderr",
     "output_type": "stream",
     "text": [
      "     21/512      23.1G      2.942      2.775     0.9472        249        640: 100%|██████████| 1/1 [00:00<00:00,  2.33it/s]\n",
      "                 Class     Images  Instances      Box(P          R      mAP50  mAP50-95): 100%|██████████| 1/1 [00:00<00:00, 10.97it/s]"
     ]
    },
    {
     "name": "stdout",
     "output_type": "stream",
     "text": [
      "                   all          6         50   0.000417       0.02    0.00023   9.19e-05\n"
     ]
    },
    {
     "name": "stderr",
     "output_type": "stream",
     "text": [
      "\n"
     ]
    },
    {
     "name": "stdout",
     "output_type": "stream",
     "text": [
      "\n",
      "      Epoch    GPU_mem   box_loss   cls_loss   dfl_loss  Instances       Size\n"
     ]
    },
    {
     "name": "stderr",
     "output_type": "stream",
     "text": [
      "     22/512      23.1G       2.87      2.909     0.9227        276        640: 100%|██████████| 1/1 [00:00<00:00,  2.44it/s]\n",
      "                 Class     Images  Instances      Box(P          R      mAP50  mAP50-95): 100%|██████████| 1/1 [00:00<00:00, 14.73it/s]"
     ]
    },
    {
     "name": "stdout",
     "output_type": "stream",
     "text": [
      "                   all          6         50   0.000417       0.02    0.00023   9.19e-05\n"
     ]
    },
    {
     "name": "stderr",
     "output_type": "stream",
     "text": [
      "\n"
     ]
    },
    {
     "name": "stdout",
     "output_type": "stream",
     "text": [
      "\n",
      "      Epoch    GPU_mem   box_loss   cls_loss   dfl_loss  Instances       Size\n"
     ]
    },
    {
     "name": "stderr",
     "output_type": "stream",
     "text": [
      "     23/512      23.1G      3.049      2.696      0.941        315        640: 100%|██████████| 1/1 [00:00<00:00,  2.44it/s]\n",
      "                 Class     Images  Instances      Box(P          R      mAP50  mAP50-95): 100%|██████████| 1/1 [00:00<00:00, 19.85it/s]"
     ]
    },
    {
     "name": "stdout",
     "output_type": "stream",
     "text": [
      "                   all          6         50   0.000417       0.02    0.00023   9.19e-05\n"
     ]
    },
    {
     "name": "stderr",
     "output_type": "stream",
     "text": [
      "\n"
     ]
    },
    {
     "name": "stdout",
     "output_type": "stream",
     "text": [
      "\n",
      "      Epoch    GPU_mem   box_loss   cls_loss   dfl_loss  Instances       Size\n"
     ]
    },
    {
     "name": "stderr",
     "output_type": "stream",
     "text": [
      "     24/512      23.1G      3.108      2.712     0.9499        339        640: 100%|██████████| 1/1 [00:00<00:00,  2.37it/s]\n",
      "                 Class     Images  Instances      Box(P          R      mAP50  mAP50-95): 100%|██████████| 1/1 [00:00<00:00, 20.52it/s]"
     ]
    },
    {
     "name": "stdout",
     "output_type": "stream",
     "text": [
      "                   all          6         50   0.000417       0.02    0.00023   9.19e-05\n"
     ]
    },
    {
     "name": "stderr",
     "output_type": "stream",
     "text": [
      "\n"
     ]
    },
    {
     "name": "stdout",
     "output_type": "stream",
     "text": [
      "\n",
      "      Epoch    GPU_mem   box_loss   cls_loss   dfl_loss  Instances       Size\n"
     ]
    },
    {
     "name": "stderr",
     "output_type": "stream",
     "text": [
      "     25/512      23.1G       3.19      2.408     0.9086        347        640: 100%|██████████| 1/1 [00:00<00:00,  2.43it/s]\n",
      "                 Class     Images  Instances      Box(P          R      mAP50  mAP50-95): 100%|██████████| 1/1 [00:00<00:00, 32.91it/s]"
     ]
    },
    {
     "name": "stdout",
     "output_type": "stream",
     "text": [
      "                   all          6         50   0.000417       0.02    0.00023   9.19e-05\n"
     ]
    },
    {
     "name": "stderr",
     "output_type": "stream",
     "text": [
      "\n"
     ]
    },
    {
     "name": "stdout",
     "output_type": "stream",
     "text": [
      "\n",
      "      Epoch    GPU_mem   box_loss   cls_loss   dfl_loss  Instances       Size\n"
     ]
    },
    {
     "name": "stderr",
     "output_type": "stream",
     "text": [
      "     26/512      23.1G      3.013       2.21     0.9216        297        640: 100%|██████████| 1/1 [00:00<00:00,  2.44it/s]\n",
      "                 Class     Images  Instances      Box(P          R      mAP50  mAP50-95): 100%|██████████| 1/1 [00:00<00:00, 34.20it/s]"
     ]
    },
    {
     "name": "stdout",
     "output_type": "stream",
     "text": [
      "                   all          6         50   0.000417       0.02    0.00023   9.19e-05\n"
     ]
    },
    {
     "name": "stderr",
     "output_type": "stream",
     "text": [
      "\n"
     ]
    },
    {
     "name": "stdout",
     "output_type": "stream",
     "text": [
      "\n",
      "      Epoch    GPU_mem   box_loss   cls_loss   dfl_loss  Instances       Size\n"
     ]
    },
    {
     "name": "stderr",
     "output_type": "stream",
     "text": [
      "     27/512      23.1G      2.896      2.257     0.9442        223        640: 100%|██████████| 1/1 [00:00<00:00,  2.33it/s]\n",
      "                 Class     Images  Instances      Box(P          R      mAP50  mAP50-95): 100%|██████████| 1/1 [00:00<00:00, 26.44it/s]"
     ]
    },
    {
     "name": "stdout",
     "output_type": "stream",
     "text": [
      "                   all          6         50   0.000417       0.02    0.00023   9.19e-05\n"
     ]
    },
    {
     "name": "stderr",
     "output_type": "stream",
     "text": [
      "\n"
     ]
    },
    {
     "name": "stdout",
     "output_type": "stream",
     "text": [
      "\n",
      "      Epoch    GPU_mem   box_loss   cls_loss   dfl_loss  Instances       Size\n"
     ]
    },
    {
     "name": "stderr",
     "output_type": "stream",
     "text": [
      "     28/512      23.1G      3.045      2.317     0.9206        296        640: 100%|██████████| 1/1 [00:00<00:00,  2.41it/s]\n",
      "                 Class     Images  Instances      Box(P          R      mAP50  mAP50-95): 100%|██████████| 1/1 [00:00<00:00, 33.75it/s]"
     ]
    },
    {
     "name": "stdout",
     "output_type": "stream",
     "text": [
      "                   all          6         50   0.000417       0.02    0.00023   9.19e-05\n"
     ]
    },
    {
     "name": "stderr",
     "output_type": "stream",
     "text": [
      "\n"
     ]
    },
    {
     "name": "stdout",
     "output_type": "stream",
     "text": [
      "\n",
      "      Epoch    GPU_mem   box_loss   cls_loss   dfl_loss  Instances       Size\n"
     ]
    },
    {
     "name": "stderr",
     "output_type": "stream",
     "text": [
      "     29/512      23.1G      2.919      2.079     0.9198        311        640: 100%|██████████| 1/1 [00:00<00:00,  2.44it/s]\n",
      "                 Class     Images  Instances      Box(P          R      mAP50  mAP50-95): 100%|██████████| 1/1 [00:00<00:00, 33.45it/s]"
     ]
    },
    {
     "name": "stdout",
     "output_type": "stream",
     "text": [
      "                   all          6         50   0.000417       0.02    0.00023   9.19e-05\n"
     ]
    },
    {
     "name": "stderr",
     "output_type": "stream",
     "text": [
      "\n"
     ]
    },
    {
     "name": "stdout",
     "output_type": "stream",
     "text": [
      "\n",
      "      Epoch    GPU_mem   box_loss   cls_loss   dfl_loss  Instances       Size\n"
     ]
    },
    {
     "name": "stderr",
     "output_type": "stream",
     "text": [
      "     30/512      23.1G      2.852      1.991     0.9026        292        640: 100%|██████████| 1/1 [00:00<00:00,  2.32it/s]\n",
      "                 Class     Images  Instances      Box(P          R      mAP50  mAP50-95): 100%|██████████| 1/1 [00:00<00:00, 25.96it/s]"
     ]
    },
    {
     "name": "stdout",
     "output_type": "stream",
     "text": [
      "                   all          6         50   0.000417       0.02    0.00023   9.19e-05\n"
     ]
    },
    {
     "name": "stderr",
     "output_type": "stream",
     "text": [
      "\n"
     ]
    },
    {
     "name": "stdout",
     "output_type": "stream",
     "text": [
      "\n",
      "      Epoch    GPU_mem   box_loss   cls_loss   dfl_loss  Instances       Size\n"
     ]
    },
    {
     "name": "stderr",
     "output_type": "stream",
     "text": [
      "     31/512      23.1G      2.924      2.158     0.8974        313        640: 100%|██████████| 1/1 [00:00<00:00,  2.67it/s]\n",
      "                 Class     Images  Instances      Box(P          R      mAP50  mAP50-95): 100%|██████████| 1/1 [00:00<00:00, 32.07it/s]"
     ]
    },
    {
     "name": "stdout",
     "output_type": "stream",
     "text": [
      "                   all          6         50   0.000417       0.02    0.00023   9.19e-05\n"
     ]
    },
    {
     "name": "stderr",
     "output_type": "stream",
     "text": [
      "\n"
     ]
    },
    {
     "name": "stdout",
     "output_type": "stream",
     "text": [
      "\n",
      "      Epoch    GPU_mem   box_loss   cls_loss   dfl_loss  Instances       Size\n"
     ]
    },
    {
     "name": "stderr",
     "output_type": "stream",
     "text": [
      "     32/512      23.2G      2.779      2.053     0.9131        259        640: 100%|██████████| 1/1 [00:00<00:00,  2.52it/s]\n",
      "                 Class     Images  Instances      Box(P          R      mAP50  mAP50-95): 100%|██████████| 1/1 [00:00<00:00, 32.56it/s]"
     ]
    },
    {
     "name": "stdout",
     "output_type": "stream",
     "text": [
      "                   all          6         50   0.000417       0.02    0.00023   9.19e-05\n"
     ]
    },
    {
     "name": "stderr",
     "output_type": "stream",
     "text": [
      "\n"
     ]
    },
    {
     "name": "stdout",
     "output_type": "stream",
     "text": [
      "\n",
      "      Epoch    GPU_mem   box_loss   cls_loss   dfl_loss  Instances       Size\n"
     ]
    },
    {
     "name": "stderr",
     "output_type": "stream",
     "text": [
      "     33/512      23.1G      2.932      1.862     0.8984        315        640: 100%|██████████| 1/1 [00:00<00:00,  2.68it/s]\n",
      "                 Class     Images  Instances      Box(P          R      mAP50  mAP50-95): 100%|██████████| 1/1 [00:00<00:00, 25.63it/s]"
     ]
    },
    {
     "name": "stdout",
     "output_type": "stream",
     "text": [
      "                   all          6         50   0.000417       0.02    0.00023   9.19e-05\n"
     ]
    },
    {
     "name": "stderr",
     "output_type": "stream",
     "text": [
      "\n"
     ]
    },
    {
     "name": "stdout",
     "output_type": "stream",
     "text": [
      "\n",
      "      Epoch    GPU_mem   box_loss   cls_loss   dfl_loss  Instances       Size\n"
     ]
    },
    {
     "name": "stderr",
     "output_type": "stream",
     "text": [
      "     34/512      23.2G      2.549      1.886     0.9137        236        640: 100%|██████████| 1/1 [00:00<00:00,  2.54it/s]\n",
      "                 Class     Images  Instances      Box(P          R      mAP50  mAP50-95): 100%|██████████| 1/1 [00:00<00:00, 34.53it/s]"
     ]
    },
    {
     "name": "stdout",
     "output_type": "stream",
     "text": [
      "                   all          6         50   0.000417       0.02    0.00023   9.19e-05\n"
     ]
    },
    {
     "name": "stderr",
     "output_type": "stream",
     "text": [
      "\n"
     ]
    },
    {
     "name": "stdout",
     "output_type": "stream",
     "text": [
      "\n",
      "      Epoch    GPU_mem   box_loss   cls_loss   dfl_loss  Instances       Size\n"
     ]
    },
    {
     "name": "stderr",
     "output_type": "stream",
     "text": [
      "     35/512      23.1G      2.359      1.881     0.8955        256        640: 100%|██████████| 1/1 [00:00<00:00,  2.71it/s]\n",
      "                 Class     Images  Instances      Box(P          R      mAP50  mAP50-95): 100%|██████████| 1/1 [00:00<00:00, 32.56it/s]"
     ]
    },
    {
     "name": "stdout",
     "output_type": "stream",
     "text": [
      "                   all          6         50   0.000417       0.02    0.00023   9.19e-05\n"
     ]
    },
    {
     "name": "stderr",
     "output_type": "stream",
     "text": [
      "\n"
     ]
    },
    {
     "name": "stdout",
     "output_type": "stream",
     "text": [
      "\n",
      "      Epoch    GPU_mem   box_loss   cls_loss   dfl_loss  Instances       Size\n"
     ]
    },
    {
     "name": "stderr",
     "output_type": "stream",
     "text": [
      "     36/512      23.2G      2.762      2.012     0.8865        296        640: 100%|██████████| 1/1 [00:00<00:00,  2.53it/s]\n",
      "                 Class     Images  Instances      Box(P          R      mAP50  mAP50-95): 100%|██████████| 1/1 [00:00<00:00, 33.63it/s]"
     ]
    },
    {
     "name": "stdout",
     "output_type": "stream",
     "text": [
      "                   all          6         50   0.000417       0.02    0.00023   9.19e-05\n"
     ]
    },
    {
     "name": "stderr",
     "output_type": "stream",
     "text": [
      "\n"
     ]
    },
    {
     "name": "stdout",
     "output_type": "stream",
     "text": [
      "\n",
      "      Epoch    GPU_mem   box_loss   cls_loss   dfl_loss  Instances       Size\n"
     ]
    },
    {
     "name": "stderr",
     "output_type": "stream",
     "text": [
      "     37/512      23.1G       2.73      1.843     0.8744        359        640: 100%|██████████| 1/1 [00:00<00:00,  2.69it/s]\n",
      "                 Class     Images  Instances      Box(P          R      mAP50  mAP50-95): 100%|██████████| 1/1 [00:00<00:00, 32.33it/s]"
     ]
    },
    {
     "name": "stdout",
     "output_type": "stream",
     "text": [
      "                   all          6         50   0.000417       0.02    0.00023   9.19e-05\n"
     ]
    },
    {
     "name": "stderr",
     "output_type": "stream",
     "text": [
      "\n"
     ]
    },
    {
     "name": "stdout",
     "output_type": "stream",
     "text": [
      "\n",
      "      Epoch    GPU_mem   box_loss   cls_loss   dfl_loss  Instances       Size\n"
     ]
    },
    {
     "name": "stderr",
     "output_type": "stream",
     "text": [
      "     38/512      23.2G      2.756      1.819     0.8822        353        640: 100%|██████████| 1/1 [00:00<00:00,  2.54it/s]\n",
      "                 Class     Images  Instances      Box(P          R      mAP50  mAP50-95): 100%|██████████| 1/1 [00:00<00:00, 31.79it/s]"
     ]
    },
    {
     "name": "stdout",
     "output_type": "stream",
     "text": [
      "                   all          6         50   0.000417       0.02    0.00023   9.19e-05\n"
     ]
    },
    {
     "name": "stderr",
     "output_type": "stream",
     "text": [
      "\n"
     ]
    },
    {
     "name": "stdout",
     "output_type": "stream",
     "text": [
      "\n",
      "      Epoch    GPU_mem   box_loss   cls_loss   dfl_loss  Instances       Size\n"
     ]
    },
    {
     "name": "stderr",
     "output_type": "stream",
     "text": [
      "     39/512      23.1G      2.868      1.659     0.9021        334        640: 100%|██████████| 1/1 [00:00<00:00,  2.71it/s]\n",
      "                 Class     Images  Instances      Box(P          R      mAP50  mAP50-95): 100%|██████████| 1/1 [00:00<00:00, 32.91it/s]"
     ]
    },
    {
     "name": "stdout",
     "output_type": "stream",
     "text": [
      "                   all          6         50   0.000417       0.02    0.00023   9.19e-05\n"
     ]
    },
    {
     "name": "stderr",
     "output_type": "stream",
     "text": [
      "\n"
     ]
    },
    {
     "name": "stdout",
     "output_type": "stream",
     "text": [
      "\n",
      "      Epoch    GPU_mem   box_loss   cls_loss   dfl_loss  Instances       Size\n"
     ]
    },
    {
     "name": "stderr",
     "output_type": "stream",
     "text": [
      "     40/512      23.2G      2.714      1.711     0.9056        326        640: 100%|██████████| 1/1 [00:00<00:00,  2.52it/s]\n",
      "                 Class     Images  Instances      Box(P          R      mAP50  mAP50-95): 100%|██████████| 1/1 [00:00<00:00, 26.16it/s]"
     ]
    },
    {
     "name": "stdout",
     "output_type": "stream",
     "text": [
      "                   all          6         50   0.000417       0.02    0.00023   9.19e-05\n"
     ]
    },
    {
     "name": "stderr",
     "output_type": "stream",
     "text": [
      "\n"
     ]
    },
    {
     "name": "stdout",
     "output_type": "stream",
     "text": [
      "\n",
      "      Epoch    GPU_mem   box_loss   cls_loss   dfl_loss  Instances       Size\n"
     ]
    },
    {
     "name": "stderr",
     "output_type": "stream",
     "text": [
      "     41/512      23.1G      2.752      1.729      0.877        321        640: 100%|██████████| 1/1 [00:00<00:00,  2.69it/s]\n",
      "                 Class     Images  Instances      Box(P          R      mAP50  mAP50-95): 100%|██████████| 1/1 [00:00<00:00, 26.92it/s]"
     ]
    },
    {
     "name": "stdout",
     "output_type": "stream",
     "text": [
      "                   all          6         50   0.000417       0.02    0.00023   9.19e-05\n"
     ]
    },
    {
     "name": "stderr",
     "output_type": "stream",
     "text": [
      "\n"
     ]
    },
    {
     "name": "stdout",
     "output_type": "stream",
     "text": [
      "\n",
      "      Epoch    GPU_mem   box_loss   cls_loss   dfl_loss  Instances       Size\n"
     ]
    },
    {
     "name": "stderr",
     "output_type": "stream",
     "text": [
      "     42/512      23.2G      2.714      1.863     0.9258        232        640: 100%|██████████| 1/1 [00:00<00:00,  2.55it/s]\n",
      "                 Class     Images  Instances      Box(P          R      mAP50  mAP50-95): 100%|██████████| 1/1 [00:00<00:00, 33.69it/s]"
     ]
    },
    {
     "name": "stdout",
     "output_type": "stream",
     "text": [
      "                   all          6         50   0.000417       0.02    0.00023   9.19e-05\n"
     ]
    },
    {
     "name": "stderr",
     "output_type": "stream",
     "text": [
      "\n"
     ]
    },
    {
     "name": "stdout",
     "output_type": "stream",
     "text": [
      "\n",
      "      Epoch    GPU_mem   box_loss   cls_loss   dfl_loss  Instances       Size\n"
     ]
    },
    {
     "name": "stderr",
     "output_type": "stream",
     "text": [
      "     43/512      23.1G      2.707      1.706     0.8873        329        640: 100%|██████████| 1/1 [00:00<00:00,  2.64it/s]\n",
      "                 Class     Images  Instances      Box(P          R      mAP50  mAP50-95): 100%|██████████| 1/1 [00:00<00:00, 33.62it/s]"
     ]
    },
    {
     "name": "stdout",
     "output_type": "stream",
     "text": [
      "                   all          6         50   0.000417       0.02    0.00023   9.19e-05\n"
     ]
    },
    {
     "name": "stderr",
     "output_type": "stream",
     "text": [
      "\n"
     ]
    },
    {
     "name": "stdout",
     "output_type": "stream",
     "text": [
      "\n",
      "      Epoch    GPU_mem   box_loss   cls_loss   dfl_loss  Instances       Size\n"
     ]
    },
    {
     "name": "stderr",
     "output_type": "stream",
     "text": [
      "     44/512      23.2G      2.714      1.731     0.9219        244        640: 100%|██████████| 1/1 [00:00<00:00,  2.52it/s]\n",
      "                 Class     Images  Instances      Box(P          R      mAP50  mAP50-95): 100%|██████████| 1/1 [00:00<00:00, 34.20it/s]"
     ]
    },
    {
     "name": "stdout",
     "output_type": "stream",
     "text": [
      "                   all          6         50   0.000417       0.02    0.00023   9.19e-05\n"
     ]
    },
    {
     "name": "stderr",
     "output_type": "stream",
     "text": [
      "\n"
     ]
    },
    {
     "name": "stdout",
     "output_type": "stream",
     "text": [
      "\n",
      "      Epoch    GPU_mem   box_loss   cls_loss   dfl_loss  Instances       Size\n"
     ]
    },
    {
     "name": "stderr",
     "output_type": "stream",
     "text": [
      "     45/512      23.1G      2.838      1.719     0.8997        313        640: 100%|██████████| 1/1 [00:00<00:00,  2.70it/s]\n",
      "                 Class     Images  Instances      Box(P          R      mAP50  mAP50-95): 100%|██████████| 1/1 [00:00<00:00, 33.93it/s]"
     ]
    },
    {
     "name": "stdout",
     "output_type": "stream",
     "text": [
      "                   all          6         50   0.000417       0.02    0.00023   9.19e-05\n"
     ]
    },
    {
     "name": "stderr",
     "output_type": "stream",
     "text": [
      "\n"
     ]
    },
    {
     "name": "stdout",
     "output_type": "stream",
     "text": [
      "\n",
      "      Epoch    GPU_mem   box_loss   cls_loss   dfl_loss  Instances       Size\n"
     ]
    },
    {
     "name": "stderr",
     "output_type": "stream",
     "text": [
      "     46/512      23.2G      2.709      1.697     0.9004        326        640: 100%|██████████| 1/1 [00:00<00:00,  2.48it/s]\n",
      "                 Class     Images  Instances      Box(P          R      mAP50  mAP50-95): 100%|██████████| 1/1 [00:00<00:00, 26.35it/s]"
     ]
    },
    {
     "name": "stdout",
     "output_type": "stream",
     "text": [
      "                   all          6         50   0.000417       0.02    0.00023   9.19e-05\n"
     ]
    },
    {
     "name": "stderr",
     "output_type": "stream",
     "text": [
      "\n"
     ]
    },
    {
     "name": "stdout",
     "output_type": "stream",
     "text": [
      "\n",
      "      Epoch    GPU_mem   box_loss   cls_loss   dfl_loss  Instances       Size\n"
     ]
    },
    {
     "name": "stderr",
     "output_type": "stream",
     "text": [
      "     47/512      23.1G      2.601      1.806     0.8938        285        640: 100%|██████████| 1/1 [00:00<00:00,  2.70it/s]\n",
      "                 Class     Images  Instances      Box(P          R      mAP50  mAP50-95): 100%|██████████| 1/1 [00:00<00:00, 34.14it/s]"
     ]
    },
    {
     "name": "stdout",
     "output_type": "stream",
     "text": [
      "                   all          6         50   0.000417       0.02    0.00023   9.19e-05\n"
     ]
    },
    {
     "name": "stderr",
     "output_type": "stream",
     "text": [
      "\n"
     ]
    },
    {
     "name": "stdout",
     "output_type": "stream",
     "text": [
      "\n",
      "      Epoch    GPU_mem   box_loss   cls_loss   dfl_loss  Instances       Size\n"
     ]
    },
    {
     "name": "stderr",
     "output_type": "stream",
     "text": [
      "     48/512      23.2G      2.755      1.885     0.9005        318        640: 100%|██████████| 1/1 [00:00<00:00,  2.50it/s]\n",
      "                 Class     Images  Instances      Box(P          R      mAP50  mAP50-95): 100%|██████████| 1/1 [00:00<00:00, 33.87it/s]"
     ]
    },
    {
     "name": "stdout",
     "output_type": "stream",
     "text": [
      "                   all          6         50   0.000417       0.02    0.00023   9.19e-05\n"
     ]
    },
    {
     "name": "stderr",
     "output_type": "stream",
     "text": [
      "\n"
     ]
    },
    {
     "name": "stdout",
     "output_type": "stream",
     "text": [
      "\n",
      "      Epoch    GPU_mem   box_loss   cls_loss   dfl_loss  Instances       Size\n"
     ]
    },
    {
     "name": "stderr",
     "output_type": "stream",
     "text": [
      "     49/512        23G      2.839      1.654     0.8822        345        640: 100%|██████████| 1/1 [00:00<00:00,  2.72it/s]\n",
      "                 Class     Images  Instances      Box(P          R      mAP50  mAP50-95): 100%|██████████| 1/1 [00:00<00:00, 33.80it/s]"
     ]
    },
    {
     "name": "stdout",
     "output_type": "stream",
     "text": [
      "                   all          6         50   0.000417       0.02    0.00023   9.19e-05\n"
     ]
    },
    {
     "name": "stderr",
     "output_type": "stream",
     "text": [
      "\n"
     ]
    },
    {
     "name": "stdout",
     "output_type": "stream",
     "text": [
      "\n",
      "      Epoch    GPU_mem   box_loss   cls_loss   dfl_loss  Instances       Size\n"
     ]
    },
    {
     "name": "stderr",
     "output_type": "stream",
     "text": [
      "     50/512      23.1G      2.765       1.65     0.8996        366        640: 100%|██████████| 1/1 [00:00<00:00,  2.53it/s]\n",
      "                 Class     Images  Instances      Box(P          R      mAP50  mAP50-95): 100%|██████████| 1/1 [00:00<00:00, 33.84it/s]"
     ]
    },
    {
     "name": "stdout",
     "output_type": "stream",
     "text": [
      "                   all          6         50   0.000417       0.02    0.00023   9.19e-05\n"
     ]
    },
    {
     "name": "stderr",
     "output_type": "stream",
     "text": [
      "\n"
     ]
    },
    {
     "name": "stdout",
     "output_type": "stream",
     "text": [
      "\n",
      "      Epoch    GPU_mem   box_loss   cls_loss   dfl_loss  Instances       Size\n"
     ]
    },
    {
     "name": "stderr",
     "output_type": "stream",
     "text": [
      "     51/512      23.1G      2.882      1.752      0.884        307        640: 100%|██████████| 1/1 [00:00<00:00,  2.70it/s]\n",
      "                 Class     Images  Instances      Box(P          R      mAP50  mAP50-95): 100%|██████████| 1/1 [00:00<00:00, 33.89it/s]"
     ]
    },
    {
     "name": "stdout",
     "output_type": "stream",
     "text": [
      "                   all          6         50   0.000417       0.02    0.00023   9.19e-05\n"
     ]
    },
    {
     "name": "stderr",
     "output_type": "stream",
     "text": [
      "\n"
     ]
    },
    {
     "name": "stdout",
     "output_type": "stream",
     "text": [
      "\n",
      "      Epoch    GPU_mem   box_loss   cls_loss   dfl_loss  Instances       Size\n"
     ]
    },
    {
     "name": "stderr",
     "output_type": "stream",
     "text": [
      "     52/512      23.2G      3.022      1.736     0.9264        259        640: 100%|██████████| 1/1 [00:00<00:00,  2.52it/s]\n",
      "                 Class     Images  Instances      Box(P          R      mAP50  mAP50-95): 100%|██████████| 1/1 [00:00<00:00, 33.49it/s]"
     ]
    },
    {
     "name": "stdout",
     "output_type": "stream",
     "text": [
      "                   all          6         50   0.000417       0.02    0.00023   9.19e-05\n"
     ]
    },
    {
     "name": "stderr",
     "output_type": "stream",
     "text": [
      "\n"
     ]
    },
    {
     "name": "stdout",
     "output_type": "stream",
     "text": [
      "\n",
      "      Epoch    GPU_mem   box_loss   cls_loss   dfl_loss  Instances       Size\n"
     ]
    },
    {
     "name": "stderr",
     "output_type": "stream",
     "text": [
      "     53/512      23.1G      3.015      1.655      0.927        299        640: 100%|██████████| 1/1 [00:00<00:00,  2.71it/s]\n",
      "                 Class     Images  Instances      Box(P          R      mAP50  mAP50-95): 100%|██████████| 1/1 [00:00<00:00, 31.71it/s]"
     ]
    },
    {
     "name": "stdout",
     "output_type": "stream",
     "text": [
      "                   all          6         50   0.000417       0.02    0.00023   9.19e-05\n"
     ]
    },
    {
     "name": "stderr",
     "output_type": "stream",
     "text": [
      "\n"
     ]
    },
    {
     "name": "stdout",
     "output_type": "stream",
     "text": [
      "\n",
      "      Epoch    GPU_mem   box_loss   cls_loss   dfl_loss  Instances       Size\n"
     ]
    },
    {
     "name": "stderr",
     "output_type": "stream",
     "text": [
      "     54/512      23.1G      2.733      1.621     0.9264        236        640: 100%|██████████| 1/1 [00:00<00:00,  2.53it/s]\n",
      "                 Class     Images  Instances      Box(P          R      mAP50  mAP50-95): 100%|██████████| 1/1 [00:00<00:00, 32.55it/s]"
     ]
    },
    {
     "name": "stdout",
     "output_type": "stream",
     "text": [
      "                   all          6         50   0.000417       0.02    0.00023   9.19e-05\n"
     ]
    },
    {
     "name": "stderr",
     "output_type": "stream",
     "text": [
      "\n"
     ]
    },
    {
     "name": "stdout",
     "output_type": "stream",
     "text": [
      "\n",
      "      Epoch    GPU_mem   box_loss   cls_loss   dfl_loss  Instances       Size\n"
     ]
    },
    {
     "name": "stderr",
     "output_type": "stream",
     "text": [
      "     55/512      23.1G      2.801      1.598     0.8989        348        640: 100%|██████████| 1/1 [00:00<00:00,  2.68it/s]\n",
      "                 Class     Images  Instances      Box(P          R      mAP50  mAP50-95): 100%|██████████| 1/1 [00:00<00:00, 33.08it/s]"
     ]
    },
    {
     "name": "stdout",
     "output_type": "stream",
     "text": [
      "                   all          6         50   0.000417       0.02    0.00023   9.19e-05\n"
     ]
    },
    {
     "name": "stderr",
     "output_type": "stream",
     "text": [
      "\n"
     ]
    },
    {
     "name": "stdout",
     "output_type": "stream",
     "text": [
      "\n",
      "      Epoch    GPU_mem   box_loss   cls_loss   dfl_loss  Instances       Size\n"
     ]
    },
    {
     "name": "stderr",
     "output_type": "stream",
     "text": [
      "     56/512      23.2G      2.782      1.669     0.9178        273        640: 100%|██████████| 1/1 [00:00<00:00,  2.44it/s]\n",
      "                 Class     Images  Instances      Box(P          R      mAP50  mAP50-95): 100%|██████████| 1/1 [00:00<00:00, 26.50it/s]"
     ]
    },
    {
     "name": "stdout",
     "output_type": "stream",
     "text": [
      "                   all          6         50   0.000417       0.02    0.00023   9.19e-05\n"
     ]
    },
    {
     "name": "stderr",
     "output_type": "stream",
     "text": [
      "\n"
     ]
    },
    {
     "name": "stdout",
     "output_type": "stream",
     "text": [
      "\n",
      "      Epoch    GPU_mem   box_loss   cls_loss   dfl_loss  Instances       Size\n"
     ]
    },
    {
     "name": "stderr",
     "output_type": "stream",
     "text": [
      "     57/512      23.1G      2.498       1.54     0.8705        309        640: 100%|██████████| 1/1 [00:00<00:00,  2.72it/s]\n",
      "                 Class     Images  Instances      Box(P          R      mAP50  mAP50-95): 100%|██████████| 1/1 [00:00<00:00, 33.17it/s]"
     ]
    },
    {
     "name": "stdout",
     "output_type": "stream",
     "text": [
      "                   all          6         50   0.000417       0.02    0.00023   9.19e-05\n"
     ]
    },
    {
     "name": "stderr",
     "output_type": "stream",
     "text": [
      "\n"
     ]
    },
    {
     "name": "stdout",
     "output_type": "stream",
     "text": [
      "\n",
      "      Epoch    GPU_mem   box_loss   cls_loss   dfl_loss  Instances       Size\n"
     ]
    },
    {
     "name": "stderr",
     "output_type": "stream",
     "text": [
      "     58/512      23.1G      2.567      1.638     0.9016        269        640: 100%|██████████| 1/1 [00:00<00:00,  2.51it/s]\n",
      "                 Class     Images  Instances      Box(P          R      mAP50  mAP50-95): 100%|██████████| 1/1 [00:00<00:00, 34.19it/s]"
     ]
    },
    {
     "name": "stdout",
     "output_type": "stream",
     "text": [
      "                   all          6         50   0.000417       0.02    0.00023   9.19e-05\n"
     ]
    },
    {
     "name": "stderr",
     "output_type": "stream",
     "text": [
      "\n"
     ]
    },
    {
     "name": "stdout",
     "output_type": "stream",
     "text": [
      "\n",
      "      Epoch    GPU_mem   box_loss   cls_loss   dfl_loss  Instances       Size\n"
     ]
    },
    {
     "name": "stderr",
     "output_type": "stream",
     "text": [
      "     59/512      23.1G      2.712      1.721     0.8909        345        640: 100%|██████████| 1/1 [00:00<00:00,  2.69it/s]\n",
      "                 Class     Images  Instances      Box(P          R      mAP50  mAP50-95): 100%|██████████| 1/1 [00:00<00:00, 25.87it/s]"
     ]
    },
    {
     "name": "stdout",
     "output_type": "stream",
     "text": [
      "                   all          6         50   0.000417       0.02    0.00023   9.19e-05\n"
     ]
    },
    {
     "name": "stderr",
     "output_type": "stream",
     "text": [
      "\n"
     ]
    },
    {
     "name": "stdout",
     "output_type": "stream",
     "text": [
      "\n",
      "      Epoch    GPU_mem   box_loss   cls_loss   dfl_loss  Instances       Size\n"
     ]
    },
    {
     "name": "stderr",
     "output_type": "stream",
     "text": [
      "     60/512      23.2G      3.059      1.923     0.8975        417        640: 100%|██████████| 1/1 [00:00<00:00,  2.51it/s]\n",
      "                 Class     Images  Instances      Box(P          R      mAP50  mAP50-95): 100%|██████████| 1/1 [00:00<00:00, 32.77it/s]"
     ]
    },
    {
     "name": "stdout",
     "output_type": "stream",
     "text": [
      "                   all          6         50   0.000417       0.02    0.00023   9.19e-05\n"
     ]
    },
    {
     "name": "stderr",
     "output_type": "stream",
     "text": [
      "\n"
     ]
    },
    {
     "name": "stdout",
     "output_type": "stream",
     "text": [
      "\n",
      "      Epoch    GPU_mem   box_loss   cls_loss   dfl_loss  Instances       Size\n"
     ]
    },
    {
     "name": "stderr",
     "output_type": "stream",
     "text": [
      "     61/512      23.1G      2.734      1.606     0.8686        346        640: 100%|██████████| 1/1 [00:00<00:00,  2.68it/s]\n",
      "                 Class     Images  Instances      Box(P          R      mAP50  mAP50-95): 100%|██████████| 1/1 [00:00<00:00, 33.21it/s]"
     ]
    },
    {
     "name": "stdout",
     "output_type": "stream",
     "text": [
      "                   all          6         50   0.000417       0.02    0.00023   9.19e-05\n"
     ]
    },
    {
     "name": "stderr",
     "output_type": "stream",
     "text": [
      "\n"
     ]
    },
    {
     "name": "stdout",
     "output_type": "stream",
     "text": [
      "\n",
      "      Epoch    GPU_mem   box_loss   cls_loss   dfl_loss  Instances       Size\n"
     ]
    },
    {
     "name": "stderr",
     "output_type": "stream",
     "text": [
      "     62/512      23.2G      2.773      1.588     0.8773        320        640: 100%|██████████| 1/1 [00:00<00:00,  2.52it/s]\n",
      "                 Class     Images  Instances      Box(P          R      mAP50  mAP50-95): 100%|██████████| 1/1 [00:00<00:00, 32.15it/s]"
     ]
    },
    {
     "name": "stdout",
     "output_type": "stream",
     "text": [
      "                   all          6         50   0.000417       0.02    0.00023   9.19e-05\n"
     ]
    },
    {
     "name": "stderr",
     "output_type": "stream",
     "text": [
      "\n"
     ]
    },
    {
     "name": "stdout",
     "output_type": "stream",
     "text": [
      "\n",
      "      Epoch    GPU_mem   box_loss   cls_loss   dfl_loss  Instances       Size\n"
     ]
    },
    {
     "name": "stderr",
     "output_type": "stream",
     "text": [
      "     63/512      23.1G      2.732      1.664     0.9153        291        640: 100%|██████████| 1/1 [00:00<00:00,  2.68it/s]\n",
      "                 Class     Images  Instances      Box(P          R      mAP50  mAP50-95): 100%|██████████| 1/1 [00:00<00:00, 30.09it/s]"
     ]
    },
    {
     "name": "stdout",
     "output_type": "stream",
     "text": [
      "                   all          6         50   0.000417       0.02    0.00023   9.19e-05\n"
     ]
    },
    {
     "name": "stderr",
     "output_type": "stream",
     "text": [
      "\n"
     ]
    },
    {
     "name": "stdout",
     "output_type": "stream",
     "text": [
      "\n",
      "      Epoch    GPU_mem   box_loss   cls_loss   dfl_loss  Instances       Size\n"
     ]
    },
    {
     "name": "stderr",
     "output_type": "stream",
     "text": [
      "     64/512      23.2G      2.735       1.64     0.9108        355        640: 100%|██████████| 1/1 [00:00<00:00,  2.51it/s]\n",
      "                 Class     Images  Instances      Box(P          R      mAP50  mAP50-95): 100%|██████████| 1/1 [00:00<00:00, 31.73it/s]"
     ]
    },
    {
     "name": "stdout",
     "output_type": "stream",
     "text": [
      "                   all          6         50   0.000417       0.02    0.00023   9.19e-05\n"
     ]
    },
    {
     "name": "stderr",
     "output_type": "stream",
     "text": [
      "\n"
     ]
    },
    {
     "name": "stdout",
     "output_type": "stream",
     "text": [
      "\n",
      "      Epoch    GPU_mem   box_loss   cls_loss   dfl_loss  Instances       Size\n"
     ]
    },
    {
     "name": "stderr",
     "output_type": "stream",
     "text": [
      "     65/512      23.1G      2.589      1.503      0.898        303        640: 100%|██████████| 1/1 [00:00<00:00,  2.68it/s]\n",
      "                 Class     Images  Instances      Box(P          R      mAP50  mAP50-95): 100%|██████████| 1/1 [00:00<00:00, 29.97it/s]"
     ]
    },
    {
     "name": "stdout",
     "output_type": "stream",
     "text": [
      "                   all          6         50   0.000417       0.02    0.00023   9.19e-05\n"
     ]
    },
    {
     "name": "stderr",
     "output_type": "stream",
     "text": [
      "\n"
     ]
    },
    {
     "name": "stdout",
     "output_type": "stream",
     "text": [
      "\n",
      "      Epoch    GPU_mem   box_loss   cls_loss   dfl_loss  Instances       Size\n"
     ]
    },
    {
     "name": "stderr",
     "output_type": "stream",
     "text": [
      "     66/512      23.2G      2.643      1.535     0.8863        307        640: 100%|██████████| 1/1 [00:00<00:00,  2.49it/s]\n",
      "                 Class     Images  Instances      Box(P          R      mAP50  mAP50-95): 100%|██████████| 1/1 [00:00<00:00, 33.45it/s]"
     ]
    },
    {
     "name": "stdout",
     "output_type": "stream",
     "text": [
      "                   all          6         50   0.000417       0.02    0.00023   9.19e-05\n"
     ]
    },
    {
     "name": "stderr",
     "output_type": "stream",
     "text": [
      "\n"
     ]
    },
    {
     "name": "stdout",
     "output_type": "stream",
     "text": [
      "\n",
      "      Epoch    GPU_mem   box_loss   cls_loss   dfl_loss  Instances       Size\n"
     ]
    },
    {
     "name": "stderr",
     "output_type": "stream",
     "text": [
      "     67/512      23.1G       2.65      1.598     0.8717        361        640: 100%|██████████| 1/1 [00:00<00:00,  2.67it/s]\n",
      "                 Class     Images  Instances      Box(P          R      mAP50  mAP50-95): 100%|██████████| 1/1 [00:00<00:00, 30.57it/s]"
     ]
    },
    {
     "name": "stdout",
     "output_type": "stream",
     "text": [
      "                   all          6         50   0.000417       0.02    0.00023   9.19e-05\n"
     ]
    },
    {
     "name": "stderr",
     "output_type": "stream",
     "text": [
      "\n"
     ]
    },
    {
     "name": "stdout",
     "output_type": "stream",
     "text": [
      "\n",
      "      Epoch    GPU_mem   box_loss   cls_loss   dfl_loss  Instances       Size\n"
     ]
    },
    {
     "name": "stderr",
     "output_type": "stream",
     "text": [
      "     68/512      23.2G      2.685      1.688     0.9004        296        640: 100%|██████████| 1/1 [00:00<00:00,  2.52it/s]\n",
      "                 Class     Images  Instances      Box(P          R      mAP50  mAP50-95): 100%|██████████| 1/1 [00:00<00:00, 33.81it/s]"
     ]
    },
    {
     "name": "stdout",
     "output_type": "stream",
     "text": [
      "                   all          6         50   0.000417       0.02    0.00023   9.19e-05\n"
     ]
    },
    {
     "name": "stderr",
     "output_type": "stream",
     "text": [
      "\n"
     ]
    },
    {
     "name": "stdout",
     "output_type": "stream",
     "text": [
      "\n",
      "      Epoch    GPU_mem   box_loss   cls_loss   dfl_loss  Instances       Size\n"
     ]
    },
    {
     "name": "stderr",
     "output_type": "stream",
     "text": [
      "     69/512      23.1G      2.542      1.692      0.872        282        640: 100%|██████████| 1/1 [00:00<00:00,  2.62it/s]\n",
      "                 Class     Images  Instances      Box(P          R      mAP50  mAP50-95): 100%|██████████| 1/1 [00:00<00:00, 26.92it/s]"
     ]
    },
    {
     "name": "stdout",
     "output_type": "stream",
     "text": [
      "                   all          6         50   0.000417       0.02    0.00023   9.19e-05\n"
     ]
    },
    {
     "name": "stderr",
     "output_type": "stream",
     "text": [
      "\n"
     ]
    },
    {
     "name": "stdout",
     "output_type": "stream",
     "text": [
      "\n",
      "      Epoch    GPU_mem   box_loss   cls_loss   dfl_loss  Instances       Size\n"
     ]
    },
    {
     "name": "stderr",
     "output_type": "stream",
     "text": [
      "     70/512      23.2G      2.565      1.629      0.883        302        640: 100%|██████████| 1/1 [00:00<00:00,  2.44it/s]\n",
      "                 Class     Images  Instances      Box(P          R      mAP50  mAP50-95): 100%|██████████| 1/1 [00:00<00:00, 28.66it/s]"
     ]
    },
    {
     "name": "stdout",
     "output_type": "stream",
     "text": [
      "                   all          6         50   0.000417       0.02    0.00023   9.19e-05\n"
     ]
    },
    {
     "name": "stderr",
     "output_type": "stream",
     "text": [
      "\n"
     ]
    },
    {
     "name": "stdout",
     "output_type": "stream",
     "text": [
      "\n",
      "      Epoch    GPU_mem   box_loss   cls_loss   dfl_loss  Instances       Size\n"
     ]
    },
    {
     "name": "stderr",
     "output_type": "stream",
     "text": [
      "     71/512      23.1G      2.477      1.504      0.855        303        640: 100%|██████████| 1/1 [00:00<00:00,  2.68it/s]\n",
      "                 Class     Images  Instances      Box(P          R      mAP50  mAP50-95): 100%|██████████| 1/1 [00:00<00:00, 27.01it/s]"
     ]
    },
    {
     "name": "stdout",
     "output_type": "stream",
     "text": [
      "                   all          6         50   0.000417       0.02    0.00023   9.19e-05\n"
     ]
    },
    {
     "name": "stderr",
     "output_type": "stream",
     "text": [
      "\n"
     ]
    },
    {
     "name": "stdout",
     "output_type": "stream",
     "text": [
      "\n",
      "      Epoch    GPU_mem   box_loss   cls_loss   dfl_loss  Instances       Size\n"
     ]
    },
    {
     "name": "stderr",
     "output_type": "stream",
     "text": [
      "     72/512      23.2G       2.59      1.597     0.8759        298        640: 100%|██████████| 1/1 [00:00<00:00,  2.40it/s]\n",
      "                 Class     Images  Instances      Box(P          R      mAP50  mAP50-95): 100%|██████████| 1/1 [00:00<00:00, 22.58it/s]"
     ]
    },
    {
     "name": "stdout",
     "output_type": "stream",
     "text": [
      "                   all          6         50   0.000417       0.02    0.00023   9.19e-05\n"
     ]
    },
    {
     "name": "stderr",
     "output_type": "stream",
     "text": [
      "\n"
     ]
    },
    {
     "name": "stdout",
     "output_type": "stream",
     "text": [
      "\n",
      "      Epoch    GPU_mem   box_loss   cls_loss   dfl_loss  Instances       Size\n"
     ]
    },
    {
     "name": "stderr",
     "output_type": "stream",
     "text": [
      "     73/512      23.1G      2.426      1.525     0.8707        334        640: 100%|██████████| 1/1 [00:00<00:00,  2.70it/s]\n",
      "                 Class     Images  Instances      Box(P          R      mAP50  mAP50-95): 100%|██████████| 1/1 [00:00<00:00, 28.17it/s]"
     ]
    },
    {
     "name": "stdout",
     "output_type": "stream",
     "text": [
      "                   all          6         50   0.000417       0.02    0.00023   9.19e-05\n"
     ]
    },
    {
     "name": "stderr",
     "output_type": "stream",
     "text": [
      "\n"
     ]
    },
    {
     "name": "stdout",
     "output_type": "stream",
     "text": [
      "\n",
      "      Epoch    GPU_mem   box_loss   cls_loss   dfl_loss  Instances       Size\n"
     ]
    },
    {
     "name": "stderr",
     "output_type": "stream",
     "text": [
      "     74/512      23.2G      2.412      1.508     0.8642        342        640: 100%|██████████| 1/1 [00:00<00:00,  2.53it/s]\n",
      "                 Class     Images  Instances      Box(P          R      mAP50  mAP50-95): 100%|██████████| 1/1 [00:00<00:00, 29.10it/s]"
     ]
    },
    {
     "name": "stdout",
     "output_type": "stream",
     "text": [
      "                   all          6         50   0.000417       0.02    0.00023   9.19e-05\n"
     ]
    },
    {
     "name": "stderr",
     "output_type": "stream",
     "text": [
      "\n"
     ]
    },
    {
     "name": "stdout",
     "output_type": "stream",
     "text": [
      "\n",
      "      Epoch    GPU_mem   box_loss   cls_loss   dfl_loss  Instances       Size\n"
     ]
    },
    {
     "name": "stderr",
     "output_type": "stream",
     "text": [
      "     75/512      23.1G      2.558      1.683     0.8714        303        640: 100%|██████████| 1/1 [00:00<00:00,  2.64it/s]\n",
      "                 Class     Images  Instances      Box(P          R      mAP50  mAP50-95): 100%|██████████| 1/1 [00:00<00:00, 22.35it/s]"
     ]
    },
    {
     "name": "stdout",
     "output_type": "stream",
     "text": [
      "                   all          6         50   0.000417       0.02    0.00023   9.19e-05\n"
     ]
    },
    {
     "name": "stderr",
     "output_type": "stream",
     "text": [
      "\n"
     ]
    },
    {
     "name": "stdout",
     "output_type": "stream",
     "text": [
      "\n",
      "      Epoch    GPU_mem   box_loss   cls_loss   dfl_loss  Instances       Size\n"
     ]
    },
    {
     "name": "stderr",
     "output_type": "stream",
     "text": [
      "     76/512      23.2G      2.655      1.618     0.8697        311        640: 100%|██████████| 1/1 [00:00<00:00,  2.52it/s]\n",
      "                 Class     Images  Instances      Box(P          R      mAP50  mAP50-95): 100%|██████████| 1/1 [00:00<00:00, 28.82it/s]"
     ]
    },
    {
     "name": "stdout",
     "output_type": "stream",
     "text": [
      "                   all          6         50   0.000417       0.02    0.00023   9.19e-05\n"
     ]
    },
    {
     "name": "stderr",
     "output_type": "stream",
     "text": [
      "\n"
     ]
    },
    {
     "name": "stdout",
     "output_type": "stream",
     "text": [
      "\n",
      "      Epoch    GPU_mem   box_loss   cls_loss   dfl_loss  Instances       Size\n"
     ]
    },
    {
     "name": "stderr",
     "output_type": "stream",
     "text": [
      "     77/512      23.1G      2.579      1.572     0.8776        333        640: 100%|██████████| 1/1 [00:00<00:00,  2.72it/s]\n",
      "                 Class     Images  Instances      Box(P          R      mAP50  mAP50-95): 100%|██████████| 1/1 [00:00<00:00, 28.89it/s]"
     ]
    },
    {
     "name": "stdout",
     "output_type": "stream",
     "text": [
      "                   all          6         50   0.000417       0.02    0.00023   9.19e-05\n"
     ]
    },
    {
     "name": "stderr",
     "output_type": "stream",
     "text": [
      "\n"
     ]
    },
    {
     "name": "stdout",
     "output_type": "stream",
     "text": [
      "\n",
      "      Epoch    GPU_mem   box_loss   cls_loss   dfl_loss  Instances       Size\n"
     ]
    },
    {
     "name": "stderr",
     "output_type": "stream",
     "text": [
      "     78/512      23.2G      2.447      1.559     0.8712        287        640: 100%|██████████| 1/1 [00:00<00:00,  2.51it/s]\n",
      "                 Class     Images  Instances      Box(P          R      mAP50  mAP50-95): 100%|██████████| 1/1 [00:00<00:00, 16.67it/s]"
     ]
    },
    {
     "name": "stdout",
     "output_type": "stream",
     "text": [
      "                   all          6         50   0.000417       0.02    0.00023   9.19e-05\n"
     ]
    },
    {
     "name": "stderr",
     "output_type": "stream",
     "text": [
      "\n"
     ]
    },
    {
     "name": "stdout",
     "output_type": "stream",
     "text": [
      "\n",
      "      Epoch    GPU_mem   box_loss   cls_loss   dfl_loss  Instances       Size\n"
     ]
    },
    {
     "name": "stderr",
     "output_type": "stream",
     "text": [
      "     79/512      23.1G      2.628      1.575     0.8707        288        640: 100%|██████████| 1/1 [00:00<00:00,  2.68it/s]\n",
      "                 Class     Images  Instances      Box(P          R      mAP50  mAP50-95): 100%|██████████| 1/1 [00:00<00:00, 21.28it/s]"
     ]
    },
    {
     "name": "stdout",
     "output_type": "stream",
     "text": [
      "                   all          6         50   0.000417       0.02    0.00023   9.19e-05\n"
     ]
    },
    {
     "name": "stderr",
     "output_type": "stream",
     "text": [
      "\n"
     ]
    },
    {
     "name": "stdout",
     "output_type": "stream",
     "text": [
      "\n",
      "      Epoch    GPU_mem   box_loss   cls_loss   dfl_loss  Instances       Size\n"
     ]
    },
    {
     "name": "stderr",
     "output_type": "stream",
     "text": [
      "     80/512      23.2G      2.543      1.635     0.8904        278        640: 100%|██████████| 1/1 [00:00<00:00,  2.51it/s]\n",
      "                 Class     Images  Instances      Box(P          R      mAP50  mAP50-95): 100%|██████████| 1/1 [00:00<00:00, 16.22it/s]"
     ]
    },
    {
     "name": "stdout",
     "output_type": "stream",
     "text": [
      "                   all          6         50   0.000417       0.02    0.00023   9.19e-05\n"
     ]
    },
    {
     "name": "stderr",
     "output_type": "stream",
     "text": [
      "\n"
     ]
    },
    {
     "name": "stdout",
     "output_type": "stream",
     "text": [
      "\n",
      "      Epoch    GPU_mem   box_loss   cls_loss   dfl_loss  Instances       Size\n"
     ]
    },
    {
     "name": "stderr",
     "output_type": "stream",
     "text": [
      "     81/512      23.1G      2.496      1.517     0.8886        311        640: 100%|██████████| 1/1 [00:00<00:00,  2.68it/s]\n",
      "                 Class     Images  Instances      Box(P          R      mAP50  mAP50-95): 100%|██████████| 1/1 [00:00<00:00, 16.49it/s]"
     ]
    },
    {
     "name": "stdout",
     "output_type": "stream",
     "text": [
      "                   all          6         50   0.000417       0.02    0.00023   9.19e-05\n"
     ]
    },
    {
     "name": "stderr",
     "output_type": "stream",
     "text": [
      "\n"
     ]
    },
    {
     "name": "stdout",
     "output_type": "stream",
     "text": [
      "\n",
      "      Epoch    GPU_mem   box_loss   cls_loss   dfl_loss  Instances       Size\n"
     ]
    },
    {
     "name": "stderr",
     "output_type": "stream",
     "text": [
      "     82/512      23.2G      2.634      1.575     0.8856        296        640: 100%|██████████| 1/1 [00:00<00:00,  2.51it/s]\n",
      "                 Class     Images  Instances      Box(P          R      mAP50  mAP50-95): 100%|██████████| 1/1 [00:00<00:00, 21.89it/s]"
     ]
    },
    {
     "name": "stdout",
     "output_type": "stream",
     "text": [
      "                   all          6         50   0.000417       0.02    0.00023   9.19e-05\n"
     ]
    },
    {
     "name": "stderr",
     "output_type": "stream",
     "text": [
      "\n"
     ]
    },
    {
     "name": "stdout",
     "output_type": "stream",
     "text": [
      "\n",
      "      Epoch    GPU_mem   box_loss   cls_loss   dfl_loss  Instances       Size\n"
     ]
    },
    {
     "name": "stderr",
     "output_type": "stream",
     "text": [
      "     83/512      23.1G      2.476      1.561     0.8619        311        640: 100%|██████████| 1/1 [00:00<00:00,  2.69it/s]\n",
      "                 Class     Images  Instances      Box(P          R      mAP50  mAP50-95): 100%|██████████| 1/1 [00:00<00:00, 22.94it/s]"
     ]
    },
    {
     "name": "stdout",
     "output_type": "stream",
     "text": [
      "                   all          6         50   0.000417       0.02    0.00023   9.19e-05\n"
     ]
    },
    {
     "name": "stderr",
     "output_type": "stream",
     "text": [
      "\n"
     ]
    },
    {
     "name": "stdout",
     "output_type": "stream",
     "text": [
      "\n",
      "      Epoch    GPU_mem   box_loss   cls_loss   dfl_loss  Instances       Size\n"
     ]
    },
    {
     "name": "stderr",
     "output_type": "stream",
     "text": [
      "     84/512      23.2G      2.425      1.593     0.8701        291        640: 100%|██████████| 1/1 [00:00<00:00,  2.52it/s]\n",
      "                 Class     Images  Instances      Box(P          R      mAP50  mAP50-95): 100%|██████████| 1/1 [00:00<00:00, 27.00it/s]"
     ]
    },
    {
     "name": "stdout",
     "output_type": "stream",
     "text": [
      "                   all          6         50   0.000417       0.02    0.00023   9.19e-05\n"
     ]
    },
    {
     "name": "stderr",
     "output_type": "stream",
     "text": [
      "\n"
     ]
    },
    {
     "name": "stdout",
     "output_type": "stream",
     "text": [
      "\n",
      "      Epoch    GPU_mem   box_loss   cls_loss   dfl_loss  Instances       Size\n"
     ]
    },
    {
     "name": "stderr",
     "output_type": "stream",
     "text": [
      "     85/512      23.1G      2.679       1.57     0.8884        313        640: 100%|██████████| 1/1 [00:00<00:00,  2.66it/s]\n",
      "                 Class     Images  Instances      Box(P          R      mAP50  mAP50-95): 100%|██████████| 1/1 [00:00<00:00, 27.97it/s]"
     ]
    },
    {
     "name": "stdout",
     "output_type": "stream",
     "text": [
      "                   all          6         50   0.000417       0.02    0.00023   9.19e-05\n"
     ]
    },
    {
     "name": "stderr",
     "output_type": "stream",
     "text": [
      "\n"
     ]
    },
    {
     "name": "stdout",
     "output_type": "stream",
     "text": [
      "\n",
      "      Epoch    GPU_mem   box_loss   cls_loss   dfl_loss  Instances       Size\n"
     ]
    },
    {
     "name": "stderr",
     "output_type": "stream",
     "text": [
      "     86/512      23.2G      2.717      1.526     0.8593        384        640: 100%|██████████| 1/1 [00:00<00:00,  2.52it/s]\n",
      "                 Class     Images  Instances      Box(P          R      mAP50  mAP50-95): 100%|██████████| 1/1 [00:00<00:00, 26.14it/s]"
     ]
    },
    {
     "name": "stdout",
     "output_type": "stream",
     "text": [
      "                   all          6         50   0.000417       0.02    0.00023   9.19e-05\n"
     ]
    },
    {
     "name": "stderr",
     "output_type": "stream",
     "text": [
      "\n"
     ]
    },
    {
     "name": "stdout",
     "output_type": "stream",
     "text": [
      "\n",
      "      Epoch    GPU_mem   box_loss   cls_loss   dfl_loss  Instances       Size\n"
     ]
    },
    {
     "name": "stderr",
     "output_type": "stream",
     "text": [
      "     87/512      23.1G       2.54      1.548     0.8726        304        640: 100%|██████████| 1/1 [00:00<00:00,  2.67it/s]\n",
      "                 Class     Images  Instances      Box(P          R      mAP50  mAP50-95): 100%|██████████| 1/1 [00:00<00:00, 26.84it/s]"
     ]
    },
    {
     "name": "stdout",
     "output_type": "stream",
     "text": [
      "                   all          6         50   0.000417       0.02    0.00023   9.19e-05\n"
     ]
    },
    {
     "name": "stderr",
     "output_type": "stream",
     "text": [
      "\n"
     ]
    },
    {
     "name": "stdout",
     "output_type": "stream",
     "text": [
      "\n",
      "      Epoch    GPU_mem   box_loss   cls_loss   dfl_loss  Instances       Size\n"
     ]
    },
    {
     "name": "stderr",
     "output_type": "stream",
     "text": [
      "     88/512      23.2G      2.457      1.508     0.8604        298        640: 100%|██████████| 1/1 [00:00<00:00,  2.45it/s]\n",
      "                 Class     Images  Instances      Box(P          R      mAP50  mAP50-95): 100%|██████████| 1/1 [00:00<00:00, 32.12it/s]"
     ]
    },
    {
     "name": "stdout",
     "output_type": "stream",
     "text": [
      "                   all          6         50   0.000417       0.02    0.00023   9.19e-05\n"
     ]
    },
    {
     "name": "stderr",
     "output_type": "stream",
     "text": [
      "\n"
     ]
    },
    {
     "name": "stdout",
     "output_type": "stream",
     "text": [
      "\n",
      "      Epoch    GPU_mem   box_loss   cls_loss   dfl_loss  Instances       Size\n"
     ]
    },
    {
     "name": "stderr",
     "output_type": "stream",
     "text": [
      "     89/512      23.1G      2.694      1.767     0.9237        245        640: 100%|██████████| 1/1 [00:00<00:00,  2.68it/s]\n",
      "                 Class     Images  Instances      Box(P          R      mAP50  mAP50-95): 100%|██████████| 1/1 [00:00<00:00, 32.17it/s]"
     ]
    },
    {
     "name": "stdout",
     "output_type": "stream",
     "text": [
      "                   all          6         50   0.000417       0.02    0.00023   9.19e-05\n"
     ]
    },
    {
     "name": "stderr",
     "output_type": "stream",
     "text": [
      "\n"
     ]
    },
    {
     "name": "stdout",
     "output_type": "stream",
     "text": [
      "\n",
      "      Epoch    GPU_mem   box_loss   cls_loss   dfl_loss  Instances       Size\n"
     ]
    },
    {
     "name": "stderr",
     "output_type": "stream",
     "text": [
      "     90/512      23.2G        3.2      1.892     0.9246        368        640: 100%|██████████| 1/1 [00:00<00:00,  2.51it/s]\n",
      "                 Class     Images  Instances      Box(P          R      mAP50  mAP50-95): 100%|██████████| 1/1 [00:00<00:00, 32.68it/s]"
     ]
    },
    {
     "name": "stdout",
     "output_type": "stream",
     "text": [
      "                   all          6         50   0.000417       0.02    0.00023   9.19e-05\n"
     ]
    },
    {
     "name": "stderr",
     "output_type": "stream",
     "text": [
      "\n"
     ]
    },
    {
     "name": "stdout",
     "output_type": "stream",
     "text": [
      "\n",
      "      Epoch    GPU_mem   box_loss   cls_loss   dfl_loss  Instances       Size\n"
     ]
    },
    {
     "name": "stderr",
     "output_type": "stream",
     "text": [
      "     91/512      23.1G      2.681      1.557     0.8752        302        640: 100%|██████████| 1/1 [00:00<00:00,  2.65it/s]\n",
      "                 Class     Images  Instances      Box(P          R      mAP50  mAP50-95): 100%|██████████| 1/1 [00:00<00:00, 29.46it/s]"
     ]
    },
    {
     "name": "stdout",
     "output_type": "stream",
     "text": [
      "                   all          6         50   0.000417       0.02    0.00023   9.19e-05\n"
     ]
    },
    {
     "name": "stderr",
     "output_type": "stream",
     "text": [
      "\n"
     ]
    },
    {
     "name": "stdout",
     "output_type": "stream",
     "text": [
      "\n",
      "      Epoch    GPU_mem   box_loss   cls_loss   dfl_loss  Instances       Size\n"
     ]
    },
    {
     "name": "stderr",
     "output_type": "stream",
     "text": [
      "     92/512      23.2G      2.702       1.61     0.9011        285        640: 100%|██████████| 1/1 [00:00<00:00,  2.75it/s]\n",
      "                 Class     Images  Instances      Box(P          R      mAP50  mAP50-95): 100%|██████████| 1/1 [00:00<00:00, 32.88it/s]"
     ]
    },
    {
     "name": "stdout",
     "output_type": "stream",
     "text": [
      "                   all          6         50   0.000417       0.02    0.00023   9.19e-05\n"
     ]
    },
    {
     "name": "stderr",
     "output_type": "stream",
     "text": [
      "\n"
     ]
    },
    {
     "name": "stdout",
     "output_type": "stream",
     "text": [
      "\n",
      "      Epoch    GPU_mem   box_loss   cls_loss   dfl_loss  Instances       Size\n"
     ]
    },
    {
     "name": "stderr",
     "output_type": "stream",
     "text": [
      "     93/512      23.2G      2.848       1.65     0.9011        348        640: 100%|██████████| 1/1 [00:00<00:00,  2.53it/s]\n",
      "                 Class     Images  Instances      Box(P          R      mAP50  mAP50-95): 100%|██████████| 1/1 [00:00<00:00, 32.67it/s]"
     ]
    },
    {
     "name": "stdout",
     "output_type": "stream",
     "text": [
      "                   all          6         50   0.000417       0.02    0.00023   9.19e-05\n"
     ]
    },
    {
     "name": "stderr",
     "output_type": "stream",
     "text": [
      "\n"
     ]
    },
    {
     "name": "stdout",
     "output_type": "stream",
     "text": [
      "\n",
      "      Epoch    GPU_mem   box_loss   cls_loss   dfl_loss  Instances       Size\n"
     ]
    },
    {
     "name": "stderr",
     "output_type": "stream",
     "text": [
      "     94/512      23.1G      2.632      1.679     0.8867        284        640: 100%|██████████| 1/1 [00:00<00:00,  2.73it/s]\n",
      "                 Class     Images  Instances      Box(P          R      mAP50  mAP50-95): 100%|██████████| 1/1 [00:00<00:00, 33.50it/s]"
     ]
    },
    {
     "name": "stdout",
     "output_type": "stream",
     "text": [
      "                   all          6         50   0.000417       0.02    0.00023   9.19e-05\n"
     ]
    },
    {
     "name": "stderr",
     "output_type": "stream",
     "text": [
      "\n"
     ]
    },
    {
     "name": "stdout",
     "output_type": "stream",
     "text": [
      "\n",
      "      Epoch    GPU_mem   box_loss   cls_loss   dfl_loss  Instances       Size\n"
     ]
    },
    {
     "name": "stderr",
     "output_type": "stream",
     "text": [
      "     95/512      23.2G      2.549      1.708     0.8563        309        640: 100%|██████████| 1/1 [00:00<00:00,  2.79it/s]\n",
      "                 Class     Images  Instances      Box(P          R      mAP50  mAP50-95): 100%|██████████| 1/1 [00:00<00:00, 30.58it/s]"
     ]
    },
    {
     "name": "stdout",
     "output_type": "stream",
     "text": [
      "                   all          6         50   0.000417       0.02    0.00023   9.19e-05\n"
     ]
    },
    {
     "name": "stderr",
     "output_type": "stream",
     "text": [
      "\n"
     ]
    },
    {
     "name": "stdout",
     "output_type": "stream",
     "text": [
      "\n",
      "      Epoch    GPU_mem   box_loss   cls_loss   dfl_loss  Instances       Size\n"
     ]
    },
    {
     "name": "stderr",
     "output_type": "stream",
     "text": [
      "     96/512      23.2G      2.622      1.634     0.9065        265        640: 100%|██████████| 1/1 [00:00<00:00,  2.52it/s]\n",
      "                 Class     Images  Instances      Box(P          R      mAP50  mAP50-95): 100%|██████████| 1/1 [00:00<00:00, 33.51it/s]"
     ]
    },
    {
     "name": "stdout",
     "output_type": "stream",
     "text": [
      "                   all          6         50   0.000417       0.02    0.00023   9.19e-05\n"
     ]
    },
    {
     "name": "stderr",
     "output_type": "stream",
     "text": [
      "\n"
     ]
    },
    {
     "name": "stdout",
     "output_type": "stream",
     "text": [
      "\n",
      "      Epoch    GPU_mem   box_loss   cls_loss   dfl_loss  Instances       Size\n"
     ]
    },
    {
     "name": "stderr",
     "output_type": "stream",
     "text": [
      "     97/512      23.1G      2.967      1.804     0.8935        351        640: 100%|██████████| 1/1 [00:00<00:00,  2.73it/s]\n",
      "                 Class     Images  Instances      Box(P          R      mAP50  mAP50-95): 100%|██████████| 1/1 [00:00<00:00, 29.63it/s]"
     ]
    },
    {
     "name": "stdout",
     "output_type": "stream",
     "text": [
      "                   all          6         50   0.000417       0.02    0.00023   9.19e-05\n"
     ]
    },
    {
     "name": "stderr",
     "output_type": "stream",
     "text": [
      "\n"
     ]
    },
    {
     "name": "stdout",
     "output_type": "stream",
     "text": [
      "\n",
      "      Epoch    GPU_mem   box_loss   cls_loss   dfl_loss  Instances       Size\n"
     ]
    },
    {
     "name": "stderr",
     "output_type": "stream",
     "text": [
      "     98/512      23.2G      2.601      1.553      0.894        262        640: 100%|██████████| 1/1 [00:00<00:00,  2.72it/s]\n",
      "                 Class     Images  Instances      Box(P          R      mAP50  mAP50-95): 100%|██████████| 1/1 [00:00<00:00, 30.80it/s]"
     ]
    },
    {
     "name": "stdout",
     "output_type": "stream",
     "text": [
      "                   all          6         50   0.000417       0.02    0.00023   9.19e-05\n"
     ]
    },
    {
     "name": "stderr",
     "output_type": "stream",
     "text": [
      "\n"
     ]
    },
    {
     "name": "stdout",
     "output_type": "stream",
     "text": [
      "\n",
      "      Epoch    GPU_mem   box_loss   cls_loss   dfl_loss  Instances       Size\n"
     ]
    },
    {
     "name": "stderr",
     "output_type": "stream",
     "text": [
      "     99/512      23.2G      2.491      1.557     0.8741        246        640: 100%|██████████| 1/1 [00:00<00:00,  2.51it/s]\n",
      "                 Class     Images  Instances      Box(P          R      mAP50  mAP50-95): 100%|██████████| 1/1 [00:00<00:00, 24.44it/s]"
     ]
    },
    {
     "name": "stdout",
     "output_type": "stream",
     "text": [
      "                   all          6         50   0.000417       0.02    0.00023   9.19e-05\n"
     ]
    },
    {
     "name": "stderr",
     "output_type": "stream",
     "text": [
      "\n"
     ]
    },
    {
     "name": "stdout",
     "output_type": "stream",
     "text": [
      "\n",
      "      Epoch    GPU_mem   box_loss   cls_loss   dfl_loss  Instances       Size\n"
     ]
    },
    {
     "name": "stderr",
     "output_type": "stream",
     "text": [
      "    100/512        23G      2.787      1.627     0.8845        335        640: 100%|██████████| 1/1 [00:00<00:00,  2.74it/s]\n",
      "                 Class     Images  Instances      Box(P          R      mAP50  mAP50-95): 100%|██████████| 1/1 [00:00<00:00, 23.75it/s]"
     ]
    },
    {
     "name": "stdout",
     "output_type": "stream",
     "text": [
      "                   all          6         50   0.000417       0.02    0.00023   9.19e-05\n"
     ]
    },
    {
     "name": "stderr",
     "output_type": "stream",
     "text": [
      "\n"
     ]
    },
    {
     "name": "stdout",
     "output_type": "stream",
     "text": [
      "\n",
      "      Epoch    GPU_mem   box_loss   cls_loss   dfl_loss  Instances       Size\n"
     ]
    },
    {
     "name": "stderr",
     "output_type": "stream",
     "text": [
      "    101/512      23.2G      2.514      1.588      0.882        310        640: 100%|██████████| 1/1 [00:00<00:00,  2.73it/s]\n",
      "                 Class     Images  Instances      Box(P          R      mAP50  mAP50-95): 100%|██████████| 1/1 [00:00<00:00, 20.77it/s]"
     ]
    },
    {
     "name": "stdout",
     "output_type": "stream",
     "text": [
      "                   all          6         50   0.000417       0.02    0.00023   9.19e-05\n"
     ]
    },
    {
     "name": "stderr",
     "output_type": "stream",
     "text": [
      "\n"
     ]
    },
    {
     "name": "stdout",
     "output_type": "stream",
     "text": [
      "\n",
      "      Epoch    GPU_mem   box_loss   cls_loss   dfl_loss  Instances       Size\n"
     ]
    },
    {
     "name": "stderr",
     "output_type": "stream",
     "text": [
      "    102/512      23.2G      2.654      1.669     0.8955        299        640: 100%|██████████| 1/1 [00:00<00:00,  2.50it/s]\n",
      "                 Class     Images  Instances      Box(P          R      mAP50  mAP50-95): 100%|██████████| 1/1 [00:00<00:00, 13.81it/s]"
     ]
    },
    {
     "name": "stdout",
     "output_type": "stream",
     "text": [
      "                   all          6         50   0.000417       0.02    0.00023   9.19e-05\n"
     ]
    },
    {
     "name": "stderr",
     "output_type": "stream",
     "text": [
      "\n"
     ]
    },
    {
     "name": "stdout",
     "output_type": "stream",
     "text": [
      "\n",
      "      Epoch    GPU_mem   box_loss   cls_loss   dfl_loss  Instances       Size\n"
     ]
    },
    {
     "name": "stderr",
     "output_type": "stream",
     "text": [
      "    103/512      23.1G      2.503      1.509     0.8906        302        640: 100%|██████████| 1/1 [00:00<00:00,  2.71it/s]\n",
      "                 Class     Images  Instances      Box(P          R      mAP50  mAP50-95): 100%|██████████| 1/1 [00:00<00:00, 13.87it/s]"
     ]
    },
    {
     "name": "stdout",
     "output_type": "stream",
     "text": [
      "                   all          6         50   0.000417       0.02    0.00023   9.19e-05\n"
     ]
    },
    {
     "name": "stderr",
     "output_type": "stream",
     "text": [
      "\n"
     ]
    },
    {
     "name": "stdout",
     "output_type": "stream",
     "text": [
      "\n",
      "      Epoch    GPU_mem   box_loss   cls_loss   dfl_loss  Instances       Size\n"
     ]
    },
    {
     "name": "stderr",
     "output_type": "stream",
     "text": [
      "    104/512      23.2G      2.454      1.531     0.8948        241        640: 100%|██████████| 1/1 [00:00<00:00,  2.73it/s]\n",
      "                 Class     Images  Instances      Box(P          R      mAP50  mAP50-95): 100%|██████████| 1/1 [00:00<00:00, 11.96it/s]"
     ]
    },
    {
     "name": "stdout",
     "output_type": "stream",
     "text": [
      "                   all          6         50   0.000417       0.02    0.00023   9.19e-05\n"
     ]
    },
    {
     "name": "stderr",
     "output_type": "stream",
     "text": [
      "\n"
     ]
    },
    {
     "name": "stdout",
     "output_type": "stream",
     "text": [
      "\n",
      "      Epoch    GPU_mem   box_loss   cls_loss   dfl_loss  Instances       Size\n"
     ]
    },
    {
     "name": "stderr",
     "output_type": "stream",
     "text": [
      "    105/512      23.2G      2.632      1.498     0.8893        322        640: 100%|██████████| 1/1 [00:00<00:00,  2.52it/s]\n",
      "                 Class     Images  Instances      Box(P          R      mAP50  mAP50-95): 100%|██████████| 1/1 [00:00<00:00, 15.52it/s]"
     ]
    },
    {
     "name": "stdout",
     "output_type": "stream",
     "text": [
      "                   all          6         50   0.000417       0.02    0.00023   9.19e-05\n"
     ]
    },
    {
     "name": "stderr",
     "output_type": "stream",
     "text": [
      "\n"
     ]
    },
    {
     "name": "stdout",
     "output_type": "stream",
     "text": [
      "\n",
      "      Epoch    GPU_mem   box_loss   cls_loss   dfl_loss  Instances       Size\n"
     ]
    },
    {
     "name": "stderr",
     "output_type": "stream",
     "text": [
      "    106/512      23.1G      2.564      1.439     0.8859        283        640: 100%|██████████| 1/1 [00:00<00:00,  2.75it/s]\n",
      "                 Class     Images  Instances      Box(P          R      mAP50  mAP50-95): 100%|██████████| 1/1 [00:00<00:00, 15.02it/s]"
     ]
    },
    {
     "name": "stdout",
     "output_type": "stream",
     "text": [
      "                   all          6         50   0.000417       0.02    0.00023   9.19e-05\n"
     ]
    },
    {
     "name": "stderr",
     "output_type": "stream",
     "text": [
      "\n"
     ]
    },
    {
     "name": "stdout",
     "output_type": "stream",
     "text": [
      "\n",
      "      Epoch    GPU_mem   box_loss   cls_loss   dfl_loss  Instances       Size\n"
     ]
    },
    {
     "name": "stderr",
     "output_type": "stream",
     "text": [
      "    107/512      23.2G      2.725      1.525      0.868        368        640: 100%|██████████| 1/1 [00:00<00:00,  2.74it/s]\n",
      "                 Class     Images  Instances      Box(P          R      mAP50  mAP50-95): 100%|██████████| 1/1 [00:00<00:00, 12.87it/s]"
     ]
    },
    {
     "name": "stdout",
     "output_type": "stream",
     "text": [
      "                   all          6         50   0.000417       0.02    0.00023   9.19e-05\n"
     ]
    },
    {
     "name": "stderr",
     "output_type": "stream",
     "text": [
      "\n"
     ]
    },
    {
     "name": "stdout",
     "output_type": "stream",
     "text": [
      "\n",
      "      Epoch    GPU_mem   box_loss   cls_loss   dfl_loss  Instances       Size\n"
     ]
    },
    {
     "name": "stderr",
     "output_type": "stream",
     "text": [
      "    108/512      23.2G       2.59      1.469     0.8716        316        640: 100%|██████████| 1/1 [00:00<00:00,  2.48it/s]\n",
      "                 Class     Images  Instances      Box(P          R      mAP50  mAP50-95): 100%|██████████| 1/1 [00:00<00:00, 19.79it/s]"
     ]
    },
    {
     "name": "stdout",
     "output_type": "stream",
     "text": [
      "                   all          6         50   0.000417       0.02    0.00023   9.19e-05\n"
     ]
    },
    {
     "name": "stderr",
     "output_type": "stream",
     "text": [
      "\n"
     ]
    },
    {
     "name": "stdout",
     "output_type": "stream",
     "text": [
      "\n",
      "      Epoch    GPU_mem   box_loss   cls_loss   dfl_loss  Instances       Size\n"
     ]
    },
    {
     "name": "stderr",
     "output_type": "stream",
     "text": [
      "    109/512      23.1G      2.565      1.513     0.8628        317        640: 100%|██████████| 1/1 [00:00<00:00,  2.73it/s]\n",
      "                 Class     Images  Instances      Box(P          R      mAP50  mAP50-95): 100%|██████████| 1/1 [00:00<00:00, 21.20it/s]"
     ]
    },
    {
     "name": "stdout",
     "output_type": "stream",
     "text": [
      "                   all          6         50   0.000417       0.02    0.00023   9.19e-05\n"
     ]
    },
    {
     "name": "stderr",
     "output_type": "stream",
     "text": [
      "\n"
     ]
    },
    {
     "name": "stdout",
     "output_type": "stream",
     "text": [
      "\n",
      "      Epoch    GPU_mem   box_loss   cls_loss   dfl_loss  Instances       Size\n"
     ]
    },
    {
     "name": "stderr",
     "output_type": "stream",
     "text": [
      "    110/512      23.2G      2.531      1.479      0.866        336        640: 100%|██████████| 1/1 [00:00<00:00,  2.70it/s]\n",
      "                 Class     Images  Instances      Box(P          R      mAP50  mAP50-95): 100%|██████████| 1/1 [00:00<00:00, 17.66it/s]"
     ]
    },
    {
     "name": "stdout",
     "output_type": "stream",
     "text": [
      "                   all          6         50   0.000417       0.02    0.00023   9.19e-05\n"
     ]
    },
    {
     "name": "stderr",
     "output_type": "stream",
     "text": [
      "\n"
     ]
    },
    {
     "name": "stdout",
     "output_type": "stream",
     "text": [
      "\n",
      "      Epoch    GPU_mem   box_loss   cls_loss   dfl_loss  Instances       Size\n"
     ]
    },
    {
     "name": "stderr",
     "output_type": "stream",
     "text": [
      "    111/512      23.2G      2.593      1.544     0.8891        286        640: 100%|██████████| 1/1 [00:00<00:00,  2.44it/s]\n",
      "                 Class     Images  Instances      Box(P          R      mAP50  mAP50-95): 100%|██████████| 1/1 [00:00<00:00, 26.98it/s]"
     ]
    },
    {
     "name": "stdout",
     "output_type": "stream",
     "text": [
      "                   all          6         50   0.000417       0.02    0.00023   9.19e-05\n"
     ]
    },
    {
     "name": "stderr",
     "output_type": "stream",
     "text": [
      "\n"
     ]
    },
    {
     "name": "stdout",
     "output_type": "stream",
     "text": [
      "\n",
      "      Epoch    GPU_mem   box_loss   cls_loss   dfl_loss  Instances       Size\n"
     ]
    },
    {
     "name": "stderr",
     "output_type": "stream",
     "text": [
      "    112/512      23.1G      2.572      1.459     0.8904        292        640: 100%|██████████| 1/1 [00:00<00:00,  2.77it/s]\n",
      "                 Class     Images  Instances      Box(P          R      mAP50  mAP50-95): 100%|██████████| 1/1 [00:00<00:00, 26.29it/s]"
     ]
    },
    {
     "name": "stdout",
     "output_type": "stream",
     "text": [
      "                   all          6         50   0.000417       0.02    0.00023   9.19e-05\n"
     ]
    },
    {
     "name": "stderr",
     "output_type": "stream",
     "text": [
      "\n"
     ]
    },
    {
     "name": "stdout",
     "output_type": "stream",
     "text": [
      "\n",
      "      Epoch    GPU_mem   box_loss   cls_loss   dfl_loss  Instances       Size\n"
     ]
    },
    {
     "name": "stderr",
     "output_type": "stream",
     "text": [
      "    113/512      23.2G      2.657      1.463     0.8577        399        640: 100%|██████████| 1/1 [00:00<00:00,  2.79it/s]\n",
      "                 Class     Images  Instances      Box(P          R      mAP50  mAP50-95): 100%|██████████| 1/1 [00:00<00:00, 23.08it/s]"
     ]
    },
    {
     "name": "stdout",
     "output_type": "stream",
     "text": [
      "                   all          6         50   0.000417       0.02    0.00023   9.19e-05\n"
     ]
    },
    {
     "name": "stderr",
     "output_type": "stream",
     "text": [
      "\n"
     ]
    },
    {
     "name": "stdout",
     "output_type": "stream",
     "text": [
      "\n",
      "      Epoch    GPU_mem   box_loss   cls_loss   dfl_loss  Instances       Size\n"
     ]
    },
    {
     "name": "stderr",
     "output_type": "stream",
     "text": [
      "    114/512      23.1G      2.644      1.487      0.868        358        640: 100%|██████████| 1/1 [00:00<00:00,  2.58it/s]\n",
      "                 Class     Images  Instances      Box(P          R      mAP50  mAP50-95): 100%|██████████| 1/1 [00:00<00:00, 27.49it/s]"
     ]
    },
    {
     "name": "stdout",
     "output_type": "stream",
     "text": [
      "                   all          6         50   0.000417       0.02    0.00023   9.19e-05\n"
     ]
    },
    {
     "name": "stderr",
     "output_type": "stream",
     "text": [
      "\n"
     ]
    },
    {
     "name": "stdout",
     "output_type": "stream",
     "text": [
      "\n",
      "      Epoch    GPU_mem   box_loss   cls_loss   dfl_loss  Instances       Size\n"
     ]
    },
    {
     "name": "stderr",
     "output_type": "stream",
     "text": [
      "    115/512      23.1G      2.489      1.479     0.8555        288        640: 100%|██████████| 1/1 [00:00<00:00,  2.74it/s]\n",
      "                 Class     Images  Instances      Box(P          R      mAP50  mAP50-95): 100%|██████████| 1/1 [00:00<00:00, 27.65it/s]"
     ]
    },
    {
     "name": "stdout",
     "output_type": "stream",
     "text": [
      "                   all          6         50   0.000417       0.02    0.00023   9.19e-05\n"
     ]
    },
    {
     "name": "stderr",
     "output_type": "stream",
     "text": [
      "\n"
     ]
    },
    {
     "name": "stdout",
     "output_type": "stream",
     "text": [
      "\n",
      "      Epoch    GPU_mem   box_loss   cls_loss   dfl_loss  Instances       Size\n"
     ]
    },
    {
     "name": "stderr",
     "output_type": "stream",
     "text": [
      "    116/512      23.2G      2.461      1.391     0.8587        337        640: 100%|██████████| 1/1 [00:00<00:00,  2.79it/s]\n",
      "                 Class     Images  Instances      Box(P          R      mAP50  mAP50-95): 100%|██████████| 1/1 [00:00<00:00, 26.92it/s]"
     ]
    },
    {
     "name": "stdout",
     "output_type": "stream",
     "text": [
      "                   all          6         50   0.000417       0.02    0.00023   9.19e-05\n"
     ]
    },
    {
     "name": "stderr",
     "output_type": "stream",
     "text": [
      "\n"
     ]
    },
    {
     "name": "stdout",
     "output_type": "stream",
     "text": [
      "\n",
      "      Epoch    GPU_mem   box_loss   cls_loss   dfl_loss  Instances       Size\n"
     ]
    },
    {
     "name": "stderr",
     "output_type": "stream",
     "text": [
      "    117/512      23.2G      2.432       1.42     0.8676        279        640: 100%|██████████| 1/1 [00:00<00:00,  2.54it/s]\n",
      "                 Class     Images  Instances      Box(P          R      mAP50  mAP50-95): 100%|██████████| 1/1 [00:00<00:00, 28.61it/s]"
     ]
    },
    {
     "name": "stdout",
     "output_type": "stream",
     "text": [
      "                   all          6         50     0.0308       0.02    0.00263    0.00101\n",
      "\u001b[34m\u001b[1mEarlyStopping: \u001b[0mTraining stopped early as no improvement observed in last 100 epochs. Best results observed at epoch 17, best model saved as best.pt.\n",
      "To update EarlyStopping(patience=100) pass a new patience value, i.e. `patience=300` or use `patience=0` to disable EarlyStopping.\n"
     ]
    },
    {
     "name": "stderr",
     "output_type": "stream",
     "text": [
      "\n"
     ]
    },
    {
     "name": "stdout",
     "output_type": "stream",
     "text": [
      "\n",
      "117 epochs completed in 0.051 hours.\n",
      "Optimizer stripped from runs/detect/yolov11_WormCNN-HTT9/weights/last.pt, 114.4MB\n",
      "Optimizer stripped from runs/detect/yolov11_WormCNN-HTT9/weights/best.pt, 114.4MB\n",
      "\n",
      "Validating runs/detect/yolov11_WormCNN-HTT9/weights/best.pt...\n",
      "Ultralytics 8.3.36 🚀 Python-3.11.10 torch-2.5.1+cu124 CUDA:0 (NVIDIA GeForce RTX 4090, 24210MiB)\n",
      "YOLO11x summary (fused): 464 layers, 56,829,334 parameters, 0 gradients, 194.4 GFLOPs\n"
     ]
    },
    {
     "name": "stderr",
     "output_type": "stream",
     "text": [
      "                 Class     Images  Instances      Box(P          R      mAP50  mAP50-95): 100%|██████████| 1/1 [00:00<00:00, 27.00it/s]"
     ]
    },
    {
     "name": "stdout",
     "output_type": "stream",
     "text": [
      "                   all          6         50     0.0308       0.02    0.00263    0.00101\n",
      "                  head          6         25          0          0          0          0\n",
      "                  tail          6         25     0.0617       0.04    0.00527    0.00201\n"
     ]
    },
    {
     "name": "stderr",
     "output_type": "stream",
     "text": [
      "\n"
     ]
    },
    {
     "name": "stdout",
     "output_type": "stream",
     "text": [
      "Speed: 0.1ms preprocess, 2.6ms inference, 0.0ms loss, 1.7ms postprocess per image\n",
      "Results saved to \u001b[1mruns/detect/yolov11_WormCNN-HTT9\u001b[0m\n"
     ]
    },
    {
     "data": {
      "text/plain": [
       "ultralytics.utils.metrics.DetMetrics object with attributes:\n",
       "\n",
       "ap_class_index: array([0, 1])\n",
       "box: ultralytics.utils.metrics.Metric object\n",
       "confusion_matrix: <ultralytics.utils.metrics.ConfusionMatrix object at 0x7f20c9721710>\n",
       "curves: ['Precision-Recall(B)', 'F1-Confidence(B)', 'Precision-Confidence(B)', 'Recall-Confidence(B)']\n",
       "curves_results: [[array([          0,    0.001001,    0.002002,    0.003003,    0.004004,    0.005005,    0.006006,    0.007007,    0.008008,    0.009009,     0.01001,    0.011011,    0.012012,    0.013013,    0.014014,    0.015015,    0.016016,    0.017017,    0.018018,    0.019019,     0.02002,    0.021021,    0.022022,    0.023023,\n",
       "          0.024024,    0.025025,    0.026026,    0.027027,    0.028028,    0.029029,     0.03003,    0.031031,    0.032032,    0.033033,    0.034034,    0.035035,    0.036036,    0.037037,    0.038038,    0.039039,     0.04004,    0.041041,    0.042042,    0.043043,    0.044044,    0.045045,    0.046046,    0.047047,\n",
       "          0.048048,    0.049049,     0.05005,    0.051051,    0.052052,    0.053053,    0.054054,    0.055055,    0.056056,    0.057057,    0.058058,    0.059059,     0.06006,    0.061061,    0.062062,    0.063063,    0.064064,    0.065065,    0.066066,    0.067067,    0.068068,    0.069069,     0.07007,    0.071071,\n",
       "          0.072072,    0.073073,    0.074074,    0.075075,    0.076076,    0.077077,    0.078078,    0.079079,     0.08008,    0.081081,    0.082082,    0.083083,    0.084084,    0.085085,    0.086086,    0.087087,    0.088088,    0.089089,     0.09009,    0.091091,    0.092092,    0.093093,    0.094094,    0.095095,\n",
       "          0.096096,    0.097097,    0.098098,    0.099099,      0.1001,      0.1011,      0.1021,      0.1031,      0.1041,     0.10511,     0.10611,     0.10711,     0.10811,     0.10911,     0.11011,     0.11111,     0.11211,     0.11311,     0.11411,     0.11512,     0.11612,     0.11712,     0.11812,     0.11912,\n",
       "           0.12012,     0.12112,     0.12212,     0.12312,     0.12412,     0.12513,     0.12613,     0.12713,     0.12813,     0.12913,     0.13013,     0.13113,     0.13213,     0.13313,     0.13413,     0.13514,     0.13614,     0.13714,     0.13814,     0.13914,     0.14014,     0.14114,     0.14214,     0.14314,\n",
       "           0.14414,     0.14515,     0.14615,     0.14715,     0.14815,     0.14915,     0.15015,     0.15115,     0.15215,     0.15315,     0.15415,     0.15516,     0.15616,     0.15716,     0.15816,     0.15916,     0.16016,     0.16116,     0.16216,     0.16316,     0.16416,     0.16517,     0.16617,     0.16717,\n",
       "           0.16817,     0.16917,     0.17017,     0.17117,     0.17217,     0.17317,     0.17417,     0.17518,     0.17618,     0.17718,     0.17818,     0.17918,     0.18018,     0.18118,     0.18218,     0.18318,     0.18418,     0.18519,     0.18619,     0.18719,     0.18819,     0.18919,     0.19019,     0.19119,\n",
       "           0.19219,     0.19319,     0.19419,      0.1952,      0.1962,      0.1972,      0.1982,      0.1992,      0.2002,      0.2012,      0.2022,      0.2032,      0.2042,     0.20521,     0.20621,     0.20721,     0.20821,     0.20921,     0.21021,     0.21121,     0.21221,     0.21321,     0.21421,     0.21522,\n",
       "           0.21622,     0.21722,     0.21822,     0.21922,     0.22022,     0.22122,     0.22222,     0.22322,     0.22422,     0.22523,     0.22623,     0.22723,     0.22823,     0.22923,     0.23023,     0.23123,     0.23223,     0.23323,     0.23423,     0.23524,     0.23624,     0.23724,     0.23824,     0.23924,\n",
       "           0.24024,     0.24124,     0.24224,     0.24324,     0.24424,     0.24525,     0.24625,     0.24725,     0.24825,     0.24925,     0.25025,     0.25125,     0.25225,     0.25325,     0.25425,     0.25526,     0.25626,     0.25726,     0.25826,     0.25926,     0.26026,     0.26126,     0.26226,     0.26326,\n",
       "           0.26426,     0.26527,     0.26627,     0.26727,     0.26827,     0.26927,     0.27027,     0.27127,     0.27227,     0.27327,     0.27427,     0.27528,     0.27628,     0.27728,     0.27828,     0.27928,     0.28028,     0.28128,     0.28228,     0.28328,     0.28428,     0.28529,     0.28629,     0.28729,\n",
       "           0.28829,     0.28929,     0.29029,     0.29129,     0.29229,     0.29329,     0.29429,      0.2953,      0.2963,      0.2973,      0.2983,      0.2993,      0.3003,      0.3013,      0.3023,      0.3033,      0.3043,     0.30531,     0.30631,     0.30731,     0.30831,     0.30931,     0.31031,     0.31131,\n",
       "           0.31231,     0.31331,     0.31431,     0.31532,     0.31632,     0.31732,     0.31832,     0.31932,     0.32032,     0.32132,     0.32232,     0.32332,     0.32432,     0.32533,     0.32633,     0.32733,     0.32833,     0.32933,     0.33033,     0.33133,     0.33233,     0.33333,     0.33433,     0.33534,\n",
       "           0.33634,     0.33734,     0.33834,     0.33934,     0.34034,     0.34134,     0.34234,     0.34334,     0.34434,     0.34535,     0.34635,     0.34735,     0.34835,     0.34935,     0.35035,     0.35135,     0.35235,     0.35335,     0.35435,     0.35536,     0.35636,     0.35736,     0.35836,     0.35936,\n",
       "           0.36036,     0.36136,     0.36236,     0.36336,     0.36436,     0.36537,     0.36637,     0.36737,     0.36837,     0.36937,     0.37037,     0.37137,     0.37237,     0.37337,     0.37437,     0.37538,     0.37638,     0.37738,     0.37838,     0.37938,     0.38038,     0.38138,     0.38238,     0.38338,\n",
       "           0.38438,     0.38539,     0.38639,     0.38739,     0.38839,     0.38939,     0.39039,     0.39139,     0.39239,     0.39339,     0.39439,      0.3954,      0.3964,      0.3974,      0.3984,      0.3994,      0.4004,      0.4014,      0.4024,      0.4034,      0.4044,     0.40541,     0.40641,     0.40741,\n",
       "           0.40841,     0.40941,     0.41041,     0.41141,     0.41241,     0.41341,     0.41441,     0.41542,     0.41642,     0.41742,     0.41842,     0.41942,     0.42042,     0.42142,     0.42242,     0.42342,     0.42442,     0.42543,     0.42643,     0.42743,     0.42843,     0.42943,     0.43043,     0.43143,\n",
       "           0.43243,     0.43343,     0.43443,     0.43544,     0.43644,     0.43744,     0.43844,     0.43944,     0.44044,     0.44144,     0.44244,     0.44344,     0.44444,     0.44545,     0.44645,     0.44745,     0.44845,     0.44945,     0.45045,     0.45145,     0.45245,     0.45345,     0.45445,     0.45546,\n",
       "           0.45646,     0.45746,     0.45846,     0.45946,     0.46046,     0.46146,     0.46246,     0.46346,     0.46446,     0.46547,     0.46647,     0.46747,     0.46847,     0.46947,     0.47047,     0.47147,     0.47247,     0.47347,     0.47447,     0.47548,     0.47648,     0.47748,     0.47848,     0.47948,\n",
       "           0.48048,     0.48148,     0.48248,     0.48348,     0.48448,     0.48549,     0.48649,     0.48749,     0.48849,     0.48949,     0.49049,     0.49149,     0.49249,     0.49349,     0.49449,      0.4955,      0.4965,      0.4975,      0.4985,      0.4995,      0.5005,      0.5015,      0.5025,      0.5035,\n",
       "            0.5045,     0.50551,     0.50651,     0.50751,     0.50851,     0.50951,     0.51051,     0.51151,     0.51251,     0.51351,     0.51451,     0.51552,     0.51652,     0.51752,     0.51852,     0.51952,     0.52052,     0.52152,     0.52252,     0.52352,     0.52452,     0.52553,     0.52653,     0.52753,\n",
       "           0.52853,     0.52953,     0.53053,     0.53153,     0.53253,     0.53353,     0.53453,     0.53554,     0.53654,     0.53754,     0.53854,     0.53954,     0.54054,     0.54154,     0.54254,     0.54354,     0.54454,     0.54555,     0.54655,     0.54755,     0.54855,     0.54955,     0.55055,     0.55155,\n",
       "           0.55255,     0.55355,     0.55455,     0.55556,     0.55656,     0.55756,     0.55856,     0.55956,     0.56056,     0.56156,     0.56256,     0.56356,     0.56456,     0.56557,     0.56657,     0.56757,     0.56857,     0.56957,     0.57057,     0.57157,     0.57257,     0.57357,     0.57457,     0.57558,\n",
       "           0.57658,     0.57758,     0.57858,     0.57958,     0.58058,     0.58158,     0.58258,     0.58358,     0.58458,     0.58559,     0.58659,     0.58759,     0.58859,     0.58959,     0.59059,     0.59159,     0.59259,     0.59359,     0.59459,      0.5956,      0.5966,      0.5976,      0.5986,      0.5996,\n",
       "            0.6006,      0.6016,      0.6026,      0.6036,      0.6046,     0.60561,     0.60661,     0.60761,     0.60861,     0.60961,     0.61061,     0.61161,     0.61261,     0.61361,     0.61461,     0.61562,     0.61662,     0.61762,     0.61862,     0.61962,     0.62062,     0.62162,     0.62262,     0.62362,\n",
       "           0.62462,     0.62563,     0.62663,     0.62763,     0.62863,     0.62963,     0.63063,     0.63163,     0.63263,     0.63363,     0.63463,     0.63564,     0.63664,     0.63764,     0.63864,     0.63964,     0.64064,     0.64164,     0.64264,     0.64364,     0.64464,     0.64565,     0.64665,     0.64765,\n",
       "           0.64865,     0.64965,     0.65065,     0.65165,     0.65265,     0.65365,     0.65465,     0.65566,     0.65666,     0.65766,     0.65866,     0.65966,     0.66066,     0.66166,     0.66266,     0.66366,     0.66466,     0.66567,     0.66667,     0.66767,     0.66867,     0.66967,     0.67067,     0.67167,\n",
       "           0.67267,     0.67367,     0.67467,     0.67568,     0.67668,     0.67768,     0.67868,     0.67968,     0.68068,     0.68168,     0.68268,     0.68368,     0.68468,     0.68569,     0.68669,     0.68769,     0.68869,     0.68969,     0.69069,     0.69169,     0.69269,     0.69369,     0.69469,      0.6957,\n",
       "            0.6967,      0.6977,      0.6987,      0.6997,      0.7007,      0.7017,      0.7027,      0.7037,      0.7047,     0.70571,     0.70671,     0.70771,     0.70871,     0.70971,     0.71071,     0.71171,     0.71271,     0.71371,     0.71471,     0.71572,     0.71672,     0.71772,     0.71872,     0.71972,\n",
       "           0.72072,     0.72172,     0.72272,     0.72372,     0.72472,     0.72573,     0.72673,     0.72773,     0.72873,     0.72973,     0.73073,     0.73173,     0.73273,     0.73373,     0.73473,     0.73574,     0.73674,     0.73774,     0.73874,     0.73974,     0.74074,     0.74174,     0.74274,     0.74374,\n",
       "           0.74474,     0.74575,     0.74675,     0.74775,     0.74875,     0.74975,     0.75075,     0.75175,     0.75275,     0.75375,     0.75475,     0.75576,     0.75676,     0.75776,     0.75876,     0.75976,     0.76076,     0.76176,     0.76276,     0.76376,     0.76476,     0.76577,     0.76677,     0.76777,\n",
       "           0.76877,     0.76977,     0.77077,     0.77177,     0.77277,     0.77377,     0.77477,     0.77578,     0.77678,     0.77778,     0.77878,     0.77978,     0.78078,     0.78178,     0.78278,     0.78378,     0.78478,     0.78579,     0.78679,     0.78779,     0.78879,     0.78979,     0.79079,     0.79179,\n",
       "           0.79279,     0.79379,     0.79479,      0.7958,      0.7968,      0.7978,      0.7988,      0.7998,      0.8008,      0.8018,      0.8028,      0.8038,      0.8048,     0.80581,     0.80681,     0.80781,     0.80881,     0.80981,     0.81081,     0.81181,     0.81281,     0.81381,     0.81481,     0.81582,\n",
       "           0.81682,     0.81782,     0.81882,     0.81982,     0.82082,     0.82182,     0.82282,     0.82382,     0.82482,     0.82583,     0.82683,     0.82783,     0.82883,     0.82983,     0.83083,     0.83183,     0.83283,     0.83383,     0.83483,     0.83584,     0.83684,     0.83784,     0.83884,     0.83984,\n",
       "           0.84084,     0.84184,     0.84284,     0.84384,     0.84484,     0.84585,     0.84685,     0.84785,     0.84885,     0.84985,     0.85085,     0.85185,     0.85285,     0.85385,     0.85485,     0.85586,     0.85686,     0.85786,     0.85886,     0.85986,     0.86086,     0.86186,     0.86286,     0.86386,\n",
       "           0.86486,     0.86587,     0.86687,     0.86787,     0.86887,     0.86987,     0.87087,     0.87187,     0.87287,     0.87387,     0.87487,     0.87588,     0.87688,     0.87788,     0.87888,     0.87988,     0.88088,     0.88188,     0.88288,     0.88388,     0.88488,     0.88589,     0.88689,     0.88789,\n",
       "           0.88889,     0.88989,     0.89089,     0.89189,     0.89289,     0.89389,     0.89489,      0.8959,      0.8969,      0.8979,      0.8989,      0.8999,      0.9009,      0.9019,      0.9029,      0.9039,      0.9049,     0.90591,     0.90691,     0.90791,     0.90891,     0.90991,     0.91091,     0.91191,\n",
       "           0.91291,     0.91391,     0.91491,     0.91592,     0.91692,     0.91792,     0.91892,     0.91992,     0.92092,     0.92192,     0.92292,     0.92392,     0.92492,     0.92593,     0.92693,     0.92793,     0.92893,     0.92993,     0.93093,     0.93193,     0.93293,     0.93393,     0.93493,     0.93594,\n",
       "           0.93694,     0.93794,     0.93894,     0.93994,     0.94094,     0.94194,     0.94294,     0.94394,     0.94494,     0.94595,     0.94695,     0.94795,     0.94895,     0.94995,     0.95095,     0.95195,     0.95295,     0.95395,     0.95495,     0.95596,     0.95696,     0.95796,     0.95896,     0.95996,\n",
       "           0.96096,     0.96196,     0.96296,     0.96396,     0.96496,     0.96597,     0.96697,     0.96797,     0.96897,     0.96997,     0.97097,     0.97197,     0.97297,     0.97397,     0.97497,     0.97598,     0.97698,     0.97798,     0.97898,     0.97998,     0.98098,     0.98198,     0.98298,     0.98398,\n",
       "           0.98498,     0.98599,     0.98699,     0.98799,     0.98899,     0.98999,     0.99099,     0.99199,     0.99299,     0.99399,     0.99499,       0.996,       0.997,       0.998,       0.999,           1]), array([[          0,           0,           0, ...,           0,           0,           0],\n",
       "       [    0.11111,     0.11111,     0.11111, ...,  3.8652e-06,  1.9326e-06,           0]]), 'Recall', 'Precision'], [array([          0,    0.001001,    0.002002,    0.003003,    0.004004,    0.005005,    0.006006,    0.007007,    0.008008,    0.009009,     0.01001,    0.011011,    0.012012,    0.013013,    0.014014,    0.015015,    0.016016,    0.017017,    0.018018,    0.019019,     0.02002,    0.021021,    0.022022,    0.023023,\n",
       "          0.024024,    0.025025,    0.026026,    0.027027,    0.028028,    0.029029,     0.03003,    0.031031,    0.032032,    0.033033,    0.034034,    0.035035,    0.036036,    0.037037,    0.038038,    0.039039,     0.04004,    0.041041,    0.042042,    0.043043,    0.044044,    0.045045,    0.046046,    0.047047,\n",
       "          0.048048,    0.049049,     0.05005,    0.051051,    0.052052,    0.053053,    0.054054,    0.055055,    0.056056,    0.057057,    0.058058,    0.059059,     0.06006,    0.061061,    0.062062,    0.063063,    0.064064,    0.065065,    0.066066,    0.067067,    0.068068,    0.069069,     0.07007,    0.071071,\n",
       "          0.072072,    0.073073,    0.074074,    0.075075,    0.076076,    0.077077,    0.078078,    0.079079,     0.08008,    0.081081,    0.082082,    0.083083,    0.084084,    0.085085,    0.086086,    0.087087,    0.088088,    0.089089,     0.09009,    0.091091,    0.092092,    0.093093,    0.094094,    0.095095,\n",
       "          0.096096,    0.097097,    0.098098,    0.099099,      0.1001,      0.1011,      0.1021,      0.1031,      0.1041,     0.10511,     0.10611,     0.10711,     0.10811,     0.10911,     0.11011,     0.11111,     0.11211,     0.11311,     0.11411,     0.11512,     0.11612,     0.11712,     0.11812,     0.11912,\n",
       "           0.12012,     0.12112,     0.12212,     0.12312,     0.12412,     0.12513,     0.12613,     0.12713,     0.12813,     0.12913,     0.13013,     0.13113,     0.13213,     0.13313,     0.13413,     0.13514,     0.13614,     0.13714,     0.13814,     0.13914,     0.14014,     0.14114,     0.14214,     0.14314,\n",
       "           0.14414,     0.14515,     0.14615,     0.14715,     0.14815,     0.14915,     0.15015,     0.15115,     0.15215,     0.15315,     0.15415,     0.15516,     0.15616,     0.15716,     0.15816,     0.15916,     0.16016,     0.16116,     0.16216,     0.16316,     0.16416,     0.16517,     0.16617,     0.16717,\n",
       "           0.16817,     0.16917,     0.17017,     0.17117,     0.17217,     0.17317,     0.17417,     0.17518,     0.17618,     0.17718,     0.17818,     0.17918,     0.18018,     0.18118,     0.18218,     0.18318,     0.18418,     0.18519,     0.18619,     0.18719,     0.18819,     0.18919,     0.19019,     0.19119,\n",
       "           0.19219,     0.19319,     0.19419,      0.1952,      0.1962,      0.1972,      0.1982,      0.1992,      0.2002,      0.2012,      0.2022,      0.2032,      0.2042,     0.20521,     0.20621,     0.20721,     0.20821,     0.20921,     0.21021,     0.21121,     0.21221,     0.21321,     0.21421,     0.21522,\n",
       "           0.21622,     0.21722,     0.21822,     0.21922,     0.22022,     0.22122,     0.22222,     0.22322,     0.22422,     0.22523,     0.22623,     0.22723,     0.22823,     0.22923,     0.23023,     0.23123,     0.23223,     0.23323,     0.23423,     0.23524,     0.23624,     0.23724,     0.23824,     0.23924,\n",
       "           0.24024,     0.24124,     0.24224,     0.24324,     0.24424,     0.24525,     0.24625,     0.24725,     0.24825,     0.24925,     0.25025,     0.25125,     0.25225,     0.25325,     0.25425,     0.25526,     0.25626,     0.25726,     0.25826,     0.25926,     0.26026,     0.26126,     0.26226,     0.26326,\n",
       "           0.26426,     0.26527,     0.26627,     0.26727,     0.26827,     0.26927,     0.27027,     0.27127,     0.27227,     0.27327,     0.27427,     0.27528,     0.27628,     0.27728,     0.27828,     0.27928,     0.28028,     0.28128,     0.28228,     0.28328,     0.28428,     0.28529,     0.28629,     0.28729,\n",
       "           0.28829,     0.28929,     0.29029,     0.29129,     0.29229,     0.29329,     0.29429,      0.2953,      0.2963,      0.2973,      0.2983,      0.2993,      0.3003,      0.3013,      0.3023,      0.3033,      0.3043,     0.30531,     0.30631,     0.30731,     0.30831,     0.30931,     0.31031,     0.31131,\n",
       "           0.31231,     0.31331,     0.31431,     0.31532,     0.31632,     0.31732,     0.31832,     0.31932,     0.32032,     0.32132,     0.32232,     0.32332,     0.32432,     0.32533,     0.32633,     0.32733,     0.32833,     0.32933,     0.33033,     0.33133,     0.33233,     0.33333,     0.33433,     0.33534,\n",
       "           0.33634,     0.33734,     0.33834,     0.33934,     0.34034,     0.34134,     0.34234,     0.34334,     0.34434,     0.34535,     0.34635,     0.34735,     0.34835,     0.34935,     0.35035,     0.35135,     0.35235,     0.35335,     0.35435,     0.35536,     0.35636,     0.35736,     0.35836,     0.35936,\n",
       "           0.36036,     0.36136,     0.36236,     0.36336,     0.36436,     0.36537,     0.36637,     0.36737,     0.36837,     0.36937,     0.37037,     0.37137,     0.37237,     0.37337,     0.37437,     0.37538,     0.37638,     0.37738,     0.37838,     0.37938,     0.38038,     0.38138,     0.38238,     0.38338,\n",
       "           0.38438,     0.38539,     0.38639,     0.38739,     0.38839,     0.38939,     0.39039,     0.39139,     0.39239,     0.39339,     0.39439,      0.3954,      0.3964,      0.3974,      0.3984,      0.3994,      0.4004,      0.4014,      0.4024,      0.4034,      0.4044,     0.40541,     0.40641,     0.40741,\n",
       "           0.40841,     0.40941,     0.41041,     0.41141,     0.41241,     0.41341,     0.41441,     0.41542,     0.41642,     0.41742,     0.41842,     0.41942,     0.42042,     0.42142,     0.42242,     0.42342,     0.42442,     0.42543,     0.42643,     0.42743,     0.42843,     0.42943,     0.43043,     0.43143,\n",
       "           0.43243,     0.43343,     0.43443,     0.43544,     0.43644,     0.43744,     0.43844,     0.43944,     0.44044,     0.44144,     0.44244,     0.44344,     0.44444,     0.44545,     0.44645,     0.44745,     0.44845,     0.44945,     0.45045,     0.45145,     0.45245,     0.45345,     0.45445,     0.45546,\n",
       "           0.45646,     0.45746,     0.45846,     0.45946,     0.46046,     0.46146,     0.46246,     0.46346,     0.46446,     0.46547,     0.46647,     0.46747,     0.46847,     0.46947,     0.47047,     0.47147,     0.47247,     0.47347,     0.47447,     0.47548,     0.47648,     0.47748,     0.47848,     0.47948,\n",
       "           0.48048,     0.48148,     0.48248,     0.48348,     0.48448,     0.48549,     0.48649,     0.48749,     0.48849,     0.48949,     0.49049,     0.49149,     0.49249,     0.49349,     0.49449,      0.4955,      0.4965,      0.4975,      0.4985,      0.4995,      0.5005,      0.5015,      0.5025,      0.5035,\n",
       "            0.5045,     0.50551,     0.50651,     0.50751,     0.50851,     0.50951,     0.51051,     0.51151,     0.51251,     0.51351,     0.51451,     0.51552,     0.51652,     0.51752,     0.51852,     0.51952,     0.52052,     0.52152,     0.52252,     0.52352,     0.52452,     0.52553,     0.52653,     0.52753,\n",
       "           0.52853,     0.52953,     0.53053,     0.53153,     0.53253,     0.53353,     0.53453,     0.53554,     0.53654,     0.53754,     0.53854,     0.53954,     0.54054,     0.54154,     0.54254,     0.54354,     0.54454,     0.54555,     0.54655,     0.54755,     0.54855,     0.54955,     0.55055,     0.55155,\n",
       "           0.55255,     0.55355,     0.55455,     0.55556,     0.55656,     0.55756,     0.55856,     0.55956,     0.56056,     0.56156,     0.56256,     0.56356,     0.56456,     0.56557,     0.56657,     0.56757,     0.56857,     0.56957,     0.57057,     0.57157,     0.57257,     0.57357,     0.57457,     0.57558,\n",
       "           0.57658,     0.57758,     0.57858,     0.57958,     0.58058,     0.58158,     0.58258,     0.58358,     0.58458,     0.58559,     0.58659,     0.58759,     0.58859,     0.58959,     0.59059,     0.59159,     0.59259,     0.59359,     0.59459,      0.5956,      0.5966,      0.5976,      0.5986,      0.5996,\n",
       "            0.6006,      0.6016,      0.6026,      0.6036,      0.6046,     0.60561,     0.60661,     0.60761,     0.60861,     0.60961,     0.61061,     0.61161,     0.61261,     0.61361,     0.61461,     0.61562,     0.61662,     0.61762,     0.61862,     0.61962,     0.62062,     0.62162,     0.62262,     0.62362,\n",
       "           0.62462,     0.62563,     0.62663,     0.62763,     0.62863,     0.62963,     0.63063,     0.63163,     0.63263,     0.63363,     0.63463,     0.63564,     0.63664,     0.63764,     0.63864,     0.63964,     0.64064,     0.64164,     0.64264,     0.64364,     0.64464,     0.64565,     0.64665,     0.64765,\n",
       "           0.64865,     0.64965,     0.65065,     0.65165,     0.65265,     0.65365,     0.65465,     0.65566,     0.65666,     0.65766,     0.65866,     0.65966,     0.66066,     0.66166,     0.66266,     0.66366,     0.66466,     0.66567,     0.66667,     0.66767,     0.66867,     0.66967,     0.67067,     0.67167,\n",
       "           0.67267,     0.67367,     0.67467,     0.67568,     0.67668,     0.67768,     0.67868,     0.67968,     0.68068,     0.68168,     0.68268,     0.68368,     0.68468,     0.68569,     0.68669,     0.68769,     0.68869,     0.68969,     0.69069,     0.69169,     0.69269,     0.69369,     0.69469,      0.6957,\n",
       "            0.6967,      0.6977,      0.6987,      0.6997,      0.7007,      0.7017,      0.7027,      0.7037,      0.7047,     0.70571,     0.70671,     0.70771,     0.70871,     0.70971,     0.71071,     0.71171,     0.71271,     0.71371,     0.71471,     0.71572,     0.71672,     0.71772,     0.71872,     0.71972,\n",
       "           0.72072,     0.72172,     0.72272,     0.72372,     0.72472,     0.72573,     0.72673,     0.72773,     0.72873,     0.72973,     0.73073,     0.73173,     0.73273,     0.73373,     0.73473,     0.73574,     0.73674,     0.73774,     0.73874,     0.73974,     0.74074,     0.74174,     0.74274,     0.74374,\n",
       "           0.74474,     0.74575,     0.74675,     0.74775,     0.74875,     0.74975,     0.75075,     0.75175,     0.75275,     0.75375,     0.75475,     0.75576,     0.75676,     0.75776,     0.75876,     0.75976,     0.76076,     0.76176,     0.76276,     0.76376,     0.76476,     0.76577,     0.76677,     0.76777,\n",
       "           0.76877,     0.76977,     0.77077,     0.77177,     0.77277,     0.77377,     0.77477,     0.77578,     0.77678,     0.77778,     0.77878,     0.77978,     0.78078,     0.78178,     0.78278,     0.78378,     0.78478,     0.78579,     0.78679,     0.78779,     0.78879,     0.78979,     0.79079,     0.79179,\n",
       "           0.79279,     0.79379,     0.79479,      0.7958,      0.7968,      0.7978,      0.7988,      0.7998,      0.8008,      0.8018,      0.8028,      0.8038,      0.8048,     0.80581,     0.80681,     0.80781,     0.80881,     0.80981,     0.81081,     0.81181,     0.81281,     0.81381,     0.81481,     0.81582,\n",
       "           0.81682,     0.81782,     0.81882,     0.81982,     0.82082,     0.82182,     0.82282,     0.82382,     0.82482,     0.82583,     0.82683,     0.82783,     0.82883,     0.82983,     0.83083,     0.83183,     0.83283,     0.83383,     0.83483,     0.83584,     0.83684,     0.83784,     0.83884,     0.83984,\n",
       "           0.84084,     0.84184,     0.84284,     0.84384,     0.84484,     0.84585,     0.84685,     0.84785,     0.84885,     0.84985,     0.85085,     0.85185,     0.85285,     0.85385,     0.85485,     0.85586,     0.85686,     0.85786,     0.85886,     0.85986,     0.86086,     0.86186,     0.86286,     0.86386,\n",
       "           0.86486,     0.86587,     0.86687,     0.86787,     0.86887,     0.86987,     0.87087,     0.87187,     0.87287,     0.87387,     0.87487,     0.87588,     0.87688,     0.87788,     0.87888,     0.87988,     0.88088,     0.88188,     0.88288,     0.88388,     0.88488,     0.88589,     0.88689,     0.88789,\n",
       "           0.88889,     0.88989,     0.89089,     0.89189,     0.89289,     0.89389,     0.89489,      0.8959,      0.8969,      0.8979,      0.8989,      0.8999,      0.9009,      0.9019,      0.9029,      0.9039,      0.9049,     0.90591,     0.90691,     0.90791,     0.90891,     0.90991,     0.91091,     0.91191,\n",
       "           0.91291,     0.91391,     0.91491,     0.91592,     0.91692,     0.91792,     0.91892,     0.91992,     0.92092,     0.92192,     0.92292,     0.92392,     0.92492,     0.92593,     0.92693,     0.92793,     0.92893,     0.92993,     0.93093,     0.93193,     0.93293,     0.93393,     0.93493,     0.93594,\n",
       "           0.93694,     0.93794,     0.93894,     0.93994,     0.94094,     0.94194,     0.94294,     0.94394,     0.94494,     0.94595,     0.94695,     0.94795,     0.94895,     0.94995,     0.95095,     0.95195,     0.95295,     0.95395,     0.95495,     0.95596,     0.95696,     0.95796,     0.95896,     0.95996,\n",
       "           0.96096,     0.96196,     0.96296,     0.96396,     0.96496,     0.96597,     0.96697,     0.96797,     0.96897,     0.96997,     0.97097,     0.97197,     0.97297,     0.97397,     0.97497,     0.97598,     0.97698,     0.97798,     0.97898,     0.97998,     0.98098,     0.98198,     0.98298,     0.98398,\n",
       "           0.98498,     0.98599,     0.98699,     0.98799,     0.98899,     0.98999,     0.99099,     0.99199,     0.99299,     0.99399,     0.99499,       0.996,       0.997,       0.998,       0.999,           1]), array([[          0,           0,           0, ...,           0,           0,           0],\n",
       "       [  0.0034752,   0.0034752,   0.0035007, ...,           0,           0,           0]]), 'Confidence', 'F1'], [array([          0,    0.001001,    0.002002,    0.003003,    0.004004,    0.005005,    0.006006,    0.007007,    0.008008,    0.009009,     0.01001,    0.011011,    0.012012,    0.013013,    0.014014,    0.015015,    0.016016,    0.017017,    0.018018,    0.019019,     0.02002,    0.021021,    0.022022,    0.023023,\n",
       "          0.024024,    0.025025,    0.026026,    0.027027,    0.028028,    0.029029,     0.03003,    0.031031,    0.032032,    0.033033,    0.034034,    0.035035,    0.036036,    0.037037,    0.038038,    0.039039,     0.04004,    0.041041,    0.042042,    0.043043,    0.044044,    0.045045,    0.046046,    0.047047,\n",
       "          0.048048,    0.049049,     0.05005,    0.051051,    0.052052,    0.053053,    0.054054,    0.055055,    0.056056,    0.057057,    0.058058,    0.059059,     0.06006,    0.061061,    0.062062,    0.063063,    0.064064,    0.065065,    0.066066,    0.067067,    0.068068,    0.069069,     0.07007,    0.071071,\n",
       "          0.072072,    0.073073,    0.074074,    0.075075,    0.076076,    0.077077,    0.078078,    0.079079,     0.08008,    0.081081,    0.082082,    0.083083,    0.084084,    0.085085,    0.086086,    0.087087,    0.088088,    0.089089,     0.09009,    0.091091,    0.092092,    0.093093,    0.094094,    0.095095,\n",
       "          0.096096,    0.097097,    0.098098,    0.099099,      0.1001,      0.1011,      0.1021,      0.1031,      0.1041,     0.10511,     0.10611,     0.10711,     0.10811,     0.10911,     0.11011,     0.11111,     0.11211,     0.11311,     0.11411,     0.11512,     0.11612,     0.11712,     0.11812,     0.11912,\n",
       "           0.12012,     0.12112,     0.12212,     0.12312,     0.12412,     0.12513,     0.12613,     0.12713,     0.12813,     0.12913,     0.13013,     0.13113,     0.13213,     0.13313,     0.13413,     0.13514,     0.13614,     0.13714,     0.13814,     0.13914,     0.14014,     0.14114,     0.14214,     0.14314,\n",
       "           0.14414,     0.14515,     0.14615,     0.14715,     0.14815,     0.14915,     0.15015,     0.15115,     0.15215,     0.15315,     0.15415,     0.15516,     0.15616,     0.15716,     0.15816,     0.15916,     0.16016,     0.16116,     0.16216,     0.16316,     0.16416,     0.16517,     0.16617,     0.16717,\n",
       "           0.16817,     0.16917,     0.17017,     0.17117,     0.17217,     0.17317,     0.17417,     0.17518,     0.17618,     0.17718,     0.17818,     0.17918,     0.18018,     0.18118,     0.18218,     0.18318,     0.18418,     0.18519,     0.18619,     0.18719,     0.18819,     0.18919,     0.19019,     0.19119,\n",
       "           0.19219,     0.19319,     0.19419,      0.1952,      0.1962,      0.1972,      0.1982,      0.1992,      0.2002,      0.2012,      0.2022,      0.2032,      0.2042,     0.20521,     0.20621,     0.20721,     0.20821,     0.20921,     0.21021,     0.21121,     0.21221,     0.21321,     0.21421,     0.21522,\n",
       "           0.21622,     0.21722,     0.21822,     0.21922,     0.22022,     0.22122,     0.22222,     0.22322,     0.22422,     0.22523,     0.22623,     0.22723,     0.22823,     0.22923,     0.23023,     0.23123,     0.23223,     0.23323,     0.23423,     0.23524,     0.23624,     0.23724,     0.23824,     0.23924,\n",
       "           0.24024,     0.24124,     0.24224,     0.24324,     0.24424,     0.24525,     0.24625,     0.24725,     0.24825,     0.24925,     0.25025,     0.25125,     0.25225,     0.25325,     0.25425,     0.25526,     0.25626,     0.25726,     0.25826,     0.25926,     0.26026,     0.26126,     0.26226,     0.26326,\n",
       "           0.26426,     0.26527,     0.26627,     0.26727,     0.26827,     0.26927,     0.27027,     0.27127,     0.27227,     0.27327,     0.27427,     0.27528,     0.27628,     0.27728,     0.27828,     0.27928,     0.28028,     0.28128,     0.28228,     0.28328,     0.28428,     0.28529,     0.28629,     0.28729,\n",
       "           0.28829,     0.28929,     0.29029,     0.29129,     0.29229,     0.29329,     0.29429,      0.2953,      0.2963,      0.2973,      0.2983,      0.2993,      0.3003,      0.3013,      0.3023,      0.3033,      0.3043,     0.30531,     0.30631,     0.30731,     0.30831,     0.30931,     0.31031,     0.31131,\n",
       "           0.31231,     0.31331,     0.31431,     0.31532,     0.31632,     0.31732,     0.31832,     0.31932,     0.32032,     0.32132,     0.32232,     0.32332,     0.32432,     0.32533,     0.32633,     0.32733,     0.32833,     0.32933,     0.33033,     0.33133,     0.33233,     0.33333,     0.33433,     0.33534,\n",
       "           0.33634,     0.33734,     0.33834,     0.33934,     0.34034,     0.34134,     0.34234,     0.34334,     0.34434,     0.34535,     0.34635,     0.34735,     0.34835,     0.34935,     0.35035,     0.35135,     0.35235,     0.35335,     0.35435,     0.35536,     0.35636,     0.35736,     0.35836,     0.35936,\n",
       "           0.36036,     0.36136,     0.36236,     0.36336,     0.36436,     0.36537,     0.36637,     0.36737,     0.36837,     0.36937,     0.37037,     0.37137,     0.37237,     0.37337,     0.37437,     0.37538,     0.37638,     0.37738,     0.37838,     0.37938,     0.38038,     0.38138,     0.38238,     0.38338,\n",
       "           0.38438,     0.38539,     0.38639,     0.38739,     0.38839,     0.38939,     0.39039,     0.39139,     0.39239,     0.39339,     0.39439,      0.3954,      0.3964,      0.3974,      0.3984,      0.3994,      0.4004,      0.4014,      0.4024,      0.4034,      0.4044,     0.40541,     0.40641,     0.40741,\n",
       "           0.40841,     0.40941,     0.41041,     0.41141,     0.41241,     0.41341,     0.41441,     0.41542,     0.41642,     0.41742,     0.41842,     0.41942,     0.42042,     0.42142,     0.42242,     0.42342,     0.42442,     0.42543,     0.42643,     0.42743,     0.42843,     0.42943,     0.43043,     0.43143,\n",
       "           0.43243,     0.43343,     0.43443,     0.43544,     0.43644,     0.43744,     0.43844,     0.43944,     0.44044,     0.44144,     0.44244,     0.44344,     0.44444,     0.44545,     0.44645,     0.44745,     0.44845,     0.44945,     0.45045,     0.45145,     0.45245,     0.45345,     0.45445,     0.45546,\n",
       "           0.45646,     0.45746,     0.45846,     0.45946,     0.46046,     0.46146,     0.46246,     0.46346,     0.46446,     0.46547,     0.46647,     0.46747,     0.46847,     0.46947,     0.47047,     0.47147,     0.47247,     0.47347,     0.47447,     0.47548,     0.47648,     0.47748,     0.47848,     0.47948,\n",
       "           0.48048,     0.48148,     0.48248,     0.48348,     0.48448,     0.48549,     0.48649,     0.48749,     0.48849,     0.48949,     0.49049,     0.49149,     0.49249,     0.49349,     0.49449,      0.4955,      0.4965,      0.4975,      0.4985,      0.4995,      0.5005,      0.5015,      0.5025,      0.5035,\n",
       "            0.5045,     0.50551,     0.50651,     0.50751,     0.50851,     0.50951,     0.51051,     0.51151,     0.51251,     0.51351,     0.51451,     0.51552,     0.51652,     0.51752,     0.51852,     0.51952,     0.52052,     0.52152,     0.52252,     0.52352,     0.52452,     0.52553,     0.52653,     0.52753,\n",
       "           0.52853,     0.52953,     0.53053,     0.53153,     0.53253,     0.53353,     0.53453,     0.53554,     0.53654,     0.53754,     0.53854,     0.53954,     0.54054,     0.54154,     0.54254,     0.54354,     0.54454,     0.54555,     0.54655,     0.54755,     0.54855,     0.54955,     0.55055,     0.55155,\n",
       "           0.55255,     0.55355,     0.55455,     0.55556,     0.55656,     0.55756,     0.55856,     0.55956,     0.56056,     0.56156,     0.56256,     0.56356,     0.56456,     0.56557,     0.56657,     0.56757,     0.56857,     0.56957,     0.57057,     0.57157,     0.57257,     0.57357,     0.57457,     0.57558,\n",
       "           0.57658,     0.57758,     0.57858,     0.57958,     0.58058,     0.58158,     0.58258,     0.58358,     0.58458,     0.58559,     0.58659,     0.58759,     0.58859,     0.58959,     0.59059,     0.59159,     0.59259,     0.59359,     0.59459,      0.5956,      0.5966,      0.5976,      0.5986,      0.5996,\n",
       "            0.6006,      0.6016,      0.6026,      0.6036,      0.6046,     0.60561,     0.60661,     0.60761,     0.60861,     0.60961,     0.61061,     0.61161,     0.61261,     0.61361,     0.61461,     0.61562,     0.61662,     0.61762,     0.61862,     0.61962,     0.62062,     0.62162,     0.62262,     0.62362,\n",
       "           0.62462,     0.62563,     0.62663,     0.62763,     0.62863,     0.62963,     0.63063,     0.63163,     0.63263,     0.63363,     0.63463,     0.63564,     0.63664,     0.63764,     0.63864,     0.63964,     0.64064,     0.64164,     0.64264,     0.64364,     0.64464,     0.64565,     0.64665,     0.64765,\n",
       "           0.64865,     0.64965,     0.65065,     0.65165,     0.65265,     0.65365,     0.65465,     0.65566,     0.65666,     0.65766,     0.65866,     0.65966,     0.66066,     0.66166,     0.66266,     0.66366,     0.66466,     0.66567,     0.66667,     0.66767,     0.66867,     0.66967,     0.67067,     0.67167,\n",
       "           0.67267,     0.67367,     0.67467,     0.67568,     0.67668,     0.67768,     0.67868,     0.67968,     0.68068,     0.68168,     0.68268,     0.68368,     0.68468,     0.68569,     0.68669,     0.68769,     0.68869,     0.68969,     0.69069,     0.69169,     0.69269,     0.69369,     0.69469,      0.6957,\n",
       "            0.6967,      0.6977,      0.6987,      0.6997,      0.7007,      0.7017,      0.7027,      0.7037,      0.7047,     0.70571,     0.70671,     0.70771,     0.70871,     0.70971,     0.71071,     0.71171,     0.71271,     0.71371,     0.71471,     0.71572,     0.71672,     0.71772,     0.71872,     0.71972,\n",
       "           0.72072,     0.72172,     0.72272,     0.72372,     0.72472,     0.72573,     0.72673,     0.72773,     0.72873,     0.72973,     0.73073,     0.73173,     0.73273,     0.73373,     0.73473,     0.73574,     0.73674,     0.73774,     0.73874,     0.73974,     0.74074,     0.74174,     0.74274,     0.74374,\n",
       "           0.74474,     0.74575,     0.74675,     0.74775,     0.74875,     0.74975,     0.75075,     0.75175,     0.75275,     0.75375,     0.75475,     0.75576,     0.75676,     0.75776,     0.75876,     0.75976,     0.76076,     0.76176,     0.76276,     0.76376,     0.76476,     0.76577,     0.76677,     0.76777,\n",
       "           0.76877,     0.76977,     0.77077,     0.77177,     0.77277,     0.77377,     0.77477,     0.77578,     0.77678,     0.77778,     0.77878,     0.77978,     0.78078,     0.78178,     0.78278,     0.78378,     0.78478,     0.78579,     0.78679,     0.78779,     0.78879,     0.78979,     0.79079,     0.79179,\n",
       "           0.79279,     0.79379,     0.79479,      0.7958,      0.7968,      0.7978,      0.7988,      0.7998,      0.8008,      0.8018,      0.8028,      0.8038,      0.8048,     0.80581,     0.80681,     0.80781,     0.80881,     0.80981,     0.81081,     0.81181,     0.81281,     0.81381,     0.81481,     0.81582,\n",
       "           0.81682,     0.81782,     0.81882,     0.81982,     0.82082,     0.82182,     0.82282,     0.82382,     0.82482,     0.82583,     0.82683,     0.82783,     0.82883,     0.82983,     0.83083,     0.83183,     0.83283,     0.83383,     0.83483,     0.83584,     0.83684,     0.83784,     0.83884,     0.83984,\n",
       "           0.84084,     0.84184,     0.84284,     0.84384,     0.84484,     0.84585,     0.84685,     0.84785,     0.84885,     0.84985,     0.85085,     0.85185,     0.85285,     0.85385,     0.85485,     0.85586,     0.85686,     0.85786,     0.85886,     0.85986,     0.86086,     0.86186,     0.86286,     0.86386,\n",
       "           0.86486,     0.86587,     0.86687,     0.86787,     0.86887,     0.86987,     0.87087,     0.87187,     0.87287,     0.87387,     0.87487,     0.87588,     0.87688,     0.87788,     0.87888,     0.87988,     0.88088,     0.88188,     0.88288,     0.88388,     0.88488,     0.88589,     0.88689,     0.88789,\n",
       "           0.88889,     0.88989,     0.89089,     0.89189,     0.89289,     0.89389,     0.89489,      0.8959,      0.8969,      0.8979,      0.8989,      0.8999,      0.9009,      0.9019,      0.9029,      0.9039,      0.9049,     0.90591,     0.90691,     0.90791,     0.90891,     0.90991,     0.91091,     0.91191,\n",
       "           0.91291,     0.91391,     0.91491,     0.91592,     0.91692,     0.91792,     0.91892,     0.91992,     0.92092,     0.92192,     0.92292,     0.92392,     0.92492,     0.92593,     0.92693,     0.92793,     0.92893,     0.92993,     0.93093,     0.93193,     0.93293,     0.93393,     0.93493,     0.93594,\n",
       "           0.93694,     0.93794,     0.93894,     0.93994,     0.94094,     0.94194,     0.94294,     0.94394,     0.94494,     0.94595,     0.94695,     0.94795,     0.94895,     0.94995,     0.95095,     0.95195,     0.95295,     0.95395,     0.95495,     0.95596,     0.95696,     0.95796,     0.95896,     0.95996,\n",
       "           0.96096,     0.96196,     0.96296,     0.96396,     0.96496,     0.96597,     0.96697,     0.96797,     0.96897,     0.96997,     0.97097,     0.97197,     0.97297,     0.97397,     0.97497,     0.97598,     0.97698,     0.97798,     0.97898,     0.97998,     0.98098,     0.98198,     0.98298,     0.98398,\n",
       "           0.98498,     0.98599,     0.98699,     0.98799,     0.98899,     0.98999,     0.99099,     0.99199,     0.99299,     0.99399,     0.99499,       0.996,       0.997,       0.998,       0.999,           1]), array([[          0,           0,           0, ...,           1,           1,           1],\n",
       "       [  0.0017762,   0.0017762,   0.0017895, ...,           1,           1,           1]]), 'Confidence', 'Precision'], [array([          0,    0.001001,    0.002002,    0.003003,    0.004004,    0.005005,    0.006006,    0.007007,    0.008008,    0.009009,     0.01001,    0.011011,    0.012012,    0.013013,    0.014014,    0.015015,    0.016016,    0.017017,    0.018018,    0.019019,     0.02002,    0.021021,    0.022022,    0.023023,\n",
       "          0.024024,    0.025025,    0.026026,    0.027027,    0.028028,    0.029029,     0.03003,    0.031031,    0.032032,    0.033033,    0.034034,    0.035035,    0.036036,    0.037037,    0.038038,    0.039039,     0.04004,    0.041041,    0.042042,    0.043043,    0.044044,    0.045045,    0.046046,    0.047047,\n",
       "          0.048048,    0.049049,     0.05005,    0.051051,    0.052052,    0.053053,    0.054054,    0.055055,    0.056056,    0.057057,    0.058058,    0.059059,     0.06006,    0.061061,    0.062062,    0.063063,    0.064064,    0.065065,    0.066066,    0.067067,    0.068068,    0.069069,     0.07007,    0.071071,\n",
       "          0.072072,    0.073073,    0.074074,    0.075075,    0.076076,    0.077077,    0.078078,    0.079079,     0.08008,    0.081081,    0.082082,    0.083083,    0.084084,    0.085085,    0.086086,    0.087087,    0.088088,    0.089089,     0.09009,    0.091091,    0.092092,    0.093093,    0.094094,    0.095095,\n",
       "          0.096096,    0.097097,    0.098098,    0.099099,      0.1001,      0.1011,      0.1021,      0.1031,      0.1041,     0.10511,     0.10611,     0.10711,     0.10811,     0.10911,     0.11011,     0.11111,     0.11211,     0.11311,     0.11411,     0.11512,     0.11612,     0.11712,     0.11812,     0.11912,\n",
       "           0.12012,     0.12112,     0.12212,     0.12312,     0.12412,     0.12513,     0.12613,     0.12713,     0.12813,     0.12913,     0.13013,     0.13113,     0.13213,     0.13313,     0.13413,     0.13514,     0.13614,     0.13714,     0.13814,     0.13914,     0.14014,     0.14114,     0.14214,     0.14314,\n",
       "           0.14414,     0.14515,     0.14615,     0.14715,     0.14815,     0.14915,     0.15015,     0.15115,     0.15215,     0.15315,     0.15415,     0.15516,     0.15616,     0.15716,     0.15816,     0.15916,     0.16016,     0.16116,     0.16216,     0.16316,     0.16416,     0.16517,     0.16617,     0.16717,\n",
       "           0.16817,     0.16917,     0.17017,     0.17117,     0.17217,     0.17317,     0.17417,     0.17518,     0.17618,     0.17718,     0.17818,     0.17918,     0.18018,     0.18118,     0.18218,     0.18318,     0.18418,     0.18519,     0.18619,     0.18719,     0.18819,     0.18919,     0.19019,     0.19119,\n",
       "           0.19219,     0.19319,     0.19419,      0.1952,      0.1962,      0.1972,      0.1982,      0.1992,      0.2002,      0.2012,      0.2022,      0.2032,      0.2042,     0.20521,     0.20621,     0.20721,     0.20821,     0.20921,     0.21021,     0.21121,     0.21221,     0.21321,     0.21421,     0.21522,\n",
       "           0.21622,     0.21722,     0.21822,     0.21922,     0.22022,     0.22122,     0.22222,     0.22322,     0.22422,     0.22523,     0.22623,     0.22723,     0.22823,     0.22923,     0.23023,     0.23123,     0.23223,     0.23323,     0.23423,     0.23524,     0.23624,     0.23724,     0.23824,     0.23924,\n",
       "           0.24024,     0.24124,     0.24224,     0.24324,     0.24424,     0.24525,     0.24625,     0.24725,     0.24825,     0.24925,     0.25025,     0.25125,     0.25225,     0.25325,     0.25425,     0.25526,     0.25626,     0.25726,     0.25826,     0.25926,     0.26026,     0.26126,     0.26226,     0.26326,\n",
       "           0.26426,     0.26527,     0.26627,     0.26727,     0.26827,     0.26927,     0.27027,     0.27127,     0.27227,     0.27327,     0.27427,     0.27528,     0.27628,     0.27728,     0.27828,     0.27928,     0.28028,     0.28128,     0.28228,     0.28328,     0.28428,     0.28529,     0.28629,     0.28729,\n",
       "           0.28829,     0.28929,     0.29029,     0.29129,     0.29229,     0.29329,     0.29429,      0.2953,      0.2963,      0.2973,      0.2983,      0.2993,      0.3003,      0.3013,      0.3023,      0.3033,      0.3043,     0.30531,     0.30631,     0.30731,     0.30831,     0.30931,     0.31031,     0.31131,\n",
       "           0.31231,     0.31331,     0.31431,     0.31532,     0.31632,     0.31732,     0.31832,     0.31932,     0.32032,     0.32132,     0.32232,     0.32332,     0.32432,     0.32533,     0.32633,     0.32733,     0.32833,     0.32933,     0.33033,     0.33133,     0.33233,     0.33333,     0.33433,     0.33534,\n",
       "           0.33634,     0.33734,     0.33834,     0.33934,     0.34034,     0.34134,     0.34234,     0.34334,     0.34434,     0.34535,     0.34635,     0.34735,     0.34835,     0.34935,     0.35035,     0.35135,     0.35235,     0.35335,     0.35435,     0.35536,     0.35636,     0.35736,     0.35836,     0.35936,\n",
       "           0.36036,     0.36136,     0.36236,     0.36336,     0.36436,     0.36537,     0.36637,     0.36737,     0.36837,     0.36937,     0.37037,     0.37137,     0.37237,     0.37337,     0.37437,     0.37538,     0.37638,     0.37738,     0.37838,     0.37938,     0.38038,     0.38138,     0.38238,     0.38338,\n",
       "           0.38438,     0.38539,     0.38639,     0.38739,     0.38839,     0.38939,     0.39039,     0.39139,     0.39239,     0.39339,     0.39439,      0.3954,      0.3964,      0.3974,      0.3984,      0.3994,      0.4004,      0.4014,      0.4024,      0.4034,      0.4044,     0.40541,     0.40641,     0.40741,\n",
       "           0.40841,     0.40941,     0.41041,     0.41141,     0.41241,     0.41341,     0.41441,     0.41542,     0.41642,     0.41742,     0.41842,     0.41942,     0.42042,     0.42142,     0.42242,     0.42342,     0.42442,     0.42543,     0.42643,     0.42743,     0.42843,     0.42943,     0.43043,     0.43143,\n",
       "           0.43243,     0.43343,     0.43443,     0.43544,     0.43644,     0.43744,     0.43844,     0.43944,     0.44044,     0.44144,     0.44244,     0.44344,     0.44444,     0.44545,     0.44645,     0.44745,     0.44845,     0.44945,     0.45045,     0.45145,     0.45245,     0.45345,     0.45445,     0.45546,\n",
       "           0.45646,     0.45746,     0.45846,     0.45946,     0.46046,     0.46146,     0.46246,     0.46346,     0.46446,     0.46547,     0.46647,     0.46747,     0.46847,     0.46947,     0.47047,     0.47147,     0.47247,     0.47347,     0.47447,     0.47548,     0.47648,     0.47748,     0.47848,     0.47948,\n",
       "           0.48048,     0.48148,     0.48248,     0.48348,     0.48448,     0.48549,     0.48649,     0.48749,     0.48849,     0.48949,     0.49049,     0.49149,     0.49249,     0.49349,     0.49449,      0.4955,      0.4965,      0.4975,      0.4985,      0.4995,      0.5005,      0.5015,      0.5025,      0.5035,\n",
       "            0.5045,     0.50551,     0.50651,     0.50751,     0.50851,     0.50951,     0.51051,     0.51151,     0.51251,     0.51351,     0.51451,     0.51552,     0.51652,     0.51752,     0.51852,     0.51952,     0.52052,     0.52152,     0.52252,     0.52352,     0.52452,     0.52553,     0.52653,     0.52753,\n",
       "           0.52853,     0.52953,     0.53053,     0.53153,     0.53253,     0.53353,     0.53453,     0.53554,     0.53654,     0.53754,     0.53854,     0.53954,     0.54054,     0.54154,     0.54254,     0.54354,     0.54454,     0.54555,     0.54655,     0.54755,     0.54855,     0.54955,     0.55055,     0.55155,\n",
       "           0.55255,     0.55355,     0.55455,     0.55556,     0.55656,     0.55756,     0.55856,     0.55956,     0.56056,     0.56156,     0.56256,     0.56356,     0.56456,     0.56557,     0.56657,     0.56757,     0.56857,     0.56957,     0.57057,     0.57157,     0.57257,     0.57357,     0.57457,     0.57558,\n",
       "           0.57658,     0.57758,     0.57858,     0.57958,     0.58058,     0.58158,     0.58258,     0.58358,     0.58458,     0.58559,     0.58659,     0.58759,     0.58859,     0.58959,     0.59059,     0.59159,     0.59259,     0.59359,     0.59459,      0.5956,      0.5966,      0.5976,      0.5986,      0.5996,\n",
       "            0.6006,      0.6016,      0.6026,      0.6036,      0.6046,     0.60561,     0.60661,     0.60761,     0.60861,     0.60961,     0.61061,     0.61161,     0.61261,     0.61361,     0.61461,     0.61562,     0.61662,     0.61762,     0.61862,     0.61962,     0.62062,     0.62162,     0.62262,     0.62362,\n",
       "           0.62462,     0.62563,     0.62663,     0.62763,     0.62863,     0.62963,     0.63063,     0.63163,     0.63263,     0.63363,     0.63463,     0.63564,     0.63664,     0.63764,     0.63864,     0.63964,     0.64064,     0.64164,     0.64264,     0.64364,     0.64464,     0.64565,     0.64665,     0.64765,\n",
       "           0.64865,     0.64965,     0.65065,     0.65165,     0.65265,     0.65365,     0.65465,     0.65566,     0.65666,     0.65766,     0.65866,     0.65966,     0.66066,     0.66166,     0.66266,     0.66366,     0.66466,     0.66567,     0.66667,     0.66767,     0.66867,     0.66967,     0.67067,     0.67167,\n",
       "           0.67267,     0.67367,     0.67467,     0.67568,     0.67668,     0.67768,     0.67868,     0.67968,     0.68068,     0.68168,     0.68268,     0.68368,     0.68468,     0.68569,     0.68669,     0.68769,     0.68869,     0.68969,     0.69069,     0.69169,     0.69269,     0.69369,     0.69469,      0.6957,\n",
       "            0.6967,      0.6977,      0.6987,      0.6997,      0.7007,      0.7017,      0.7027,      0.7037,      0.7047,     0.70571,     0.70671,     0.70771,     0.70871,     0.70971,     0.71071,     0.71171,     0.71271,     0.71371,     0.71471,     0.71572,     0.71672,     0.71772,     0.71872,     0.71972,\n",
       "           0.72072,     0.72172,     0.72272,     0.72372,     0.72472,     0.72573,     0.72673,     0.72773,     0.72873,     0.72973,     0.73073,     0.73173,     0.73273,     0.73373,     0.73473,     0.73574,     0.73674,     0.73774,     0.73874,     0.73974,     0.74074,     0.74174,     0.74274,     0.74374,\n",
       "           0.74474,     0.74575,     0.74675,     0.74775,     0.74875,     0.74975,     0.75075,     0.75175,     0.75275,     0.75375,     0.75475,     0.75576,     0.75676,     0.75776,     0.75876,     0.75976,     0.76076,     0.76176,     0.76276,     0.76376,     0.76476,     0.76577,     0.76677,     0.76777,\n",
       "           0.76877,     0.76977,     0.77077,     0.77177,     0.77277,     0.77377,     0.77477,     0.77578,     0.77678,     0.77778,     0.77878,     0.77978,     0.78078,     0.78178,     0.78278,     0.78378,     0.78478,     0.78579,     0.78679,     0.78779,     0.78879,     0.78979,     0.79079,     0.79179,\n",
       "           0.79279,     0.79379,     0.79479,      0.7958,      0.7968,      0.7978,      0.7988,      0.7998,      0.8008,      0.8018,      0.8028,      0.8038,      0.8048,     0.80581,     0.80681,     0.80781,     0.80881,     0.80981,     0.81081,     0.81181,     0.81281,     0.81381,     0.81481,     0.81582,\n",
       "           0.81682,     0.81782,     0.81882,     0.81982,     0.82082,     0.82182,     0.82282,     0.82382,     0.82482,     0.82583,     0.82683,     0.82783,     0.82883,     0.82983,     0.83083,     0.83183,     0.83283,     0.83383,     0.83483,     0.83584,     0.83684,     0.83784,     0.83884,     0.83984,\n",
       "           0.84084,     0.84184,     0.84284,     0.84384,     0.84484,     0.84585,     0.84685,     0.84785,     0.84885,     0.84985,     0.85085,     0.85185,     0.85285,     0.85385,     0.85485,     0.85586,     0.85686,     0.85786,     0.85886,     0.85986,     0.86086,     0.86186,     0.86286,     0.86386,\n",
       "           0.86486,     0.86587,     0.86687,     0.86787,     0.86887,     0.86987,     0.87087,     0.87187,     0.87287,     0.87387,     0.87487,     0.87588,     0.87688,     0.87788,     0.87888,     0.87988,     0.88088,     0.88188,     0.88288,     0.88388,     0.88488,     0.88589,     0.88689,     0.88789,\n",
       "           0.88889,     0.88989,     0.89089,     0.89189,     0.89289,     0.89389,     0.89489,      0.8959,      0.8969,      0.8979,      0.8989,      0.8999,      0.9009,      0.9019,      0.9029,      0.9039,      0.9049,     0.90591,     0.90691,     0.90791,     0.90891,     0.90991,     0.91091,     0.91191,\n",
       "           0.91291,     0.91391,     0.91491,     0.91592,     0.91692,     0.91792,     0.91892,     0.91992,     0.92092,     0.92192,     0.92292,     0.92392,     0.92492,     0.92593,     0.92693,     0.92793,     0.92893,     0.92993,     0.93093,     0.93193,     0.93293,     0.93393,     0.93493,     0.93594,\n",
       "           0.93694,     0.93794,     0.93894,     0.93994,     0.94094,     0.94194,     0.94294,     0.94394,     0.94494,     0.94595,     0.94695,     0.94795,     0.94895,     0.94995,     0.95095,     0.95195,     0.95295,     0.95395,     0.95495,     0.95596,     0.95696,     0.95796,     0.95896,     0.95996,\n",
       "           0.96096,     0.96196,     0.96296,     0.96396,     0.96496,     0.96597,     0.96697,     0.96797,     0.96897,     0.96997,     0.97097,     0.97197,     0.97297,     0.97397,     0.97497,     0.97598,     0.97698,     0.97798,     0.97898,     0.97998,     0.98098,     0.98198,     0.98298,     0.98398,\n",
       "           0.98498,     0.98599,     0.98699,     0.98799,     0.98899,     0.98999,     0.99099,     0.99199,     0.99299,     0.99399,     0.99499,       0.996,       0.997,       0.998,       0.999,           1]), array([[          0,           0,           0, ...,           0,           0,           0],\n",
       "       [       0.08,        0.08,        0.08, ...,           0,           0,           0]]), 'Confidence', 'Recall']]\n",
       "fitness: np.float64(0.0011686936941535152)\n",
       "keys: ['metrics/precision(B)', 'metrics/recall(B)', 'metrics/mAP50(B)', 'metrics/mAP50-95(B)']\n",
       "maps: array([          0,   0.0020119])\n",
       "names: {0: 'head', 1: 'tail'}\n",
       "plot: True\n",
       "results_dict: {'metrics/precision(B)': np.float64(0.030844935154575676), 'metrics/recall(B)': np.float64(0.02), 'metrics/mAP50(B)': np.float64(0.00263327276563021), 'metrics/mAP50-95(B)': np.float64(0.0010059626862116602), 'fitness': np.float64(0.0011686936941535152)}\n",
       "save_dir: PosixPath('runs/detect/yolov11_WormCNN-HTT9')\n",
       "speed: {'preprocess': 0.06250540415445964, 'inference': 2.6248693466186523, 'loss': 0.0009934107462565105, 'postprocess': 1.6833146413167317}\n",
       "task: 'detect'"
      ]
     },
     "execution_count": 10,
     "metadata": {},
     "output_type": "execute_result"
    }
   ],
   "source": [
    "from ultralytics import YOLO\n",
    "# 加载预训练的 YOLOv8 模型（替换为所需的模型大小）\n",
    "model = YOLO('/data/yan/track/yolomodel/yolo11x.pt')\n",
    "# 开始训练\n",
    "model.train(\n",
    "    data='./data.yaml',  # 数据集配置文件路径\n",
    "    epochs=512,         # 训练轮数\n",
    "    imgsz=640,          # 输入图片尺寸\n",
    "    batch=24,           # 批量大小，根据GPU内存调整\n",
    "    lr0=0.01,           # 初始学习率\n",
    "    name='yolov11_WormCNN-HTT',  # 训练名称，用于保存模型\n",
    "    project='runs/detect',     # 保存路径\n",
    ")\n"
   ]
  },
  {
   "cell_type": "code",
   "execution_count": null,
   "metadata": {},
   "outputs": [],
   "source": [
    "# import cv2\n",
    "# from ultralytics import YOLO\n",
    "\n",
    "# # 加载训练好的模型\n",
    "# model = YOLO('runs/detect/yolov11_WormCNN-HTT7/weights/best.pt')  # 替换为您的最佳模型路径\n",
    "\n",
    "# # 打开视频或摄像头\n",
    "# video_path = './vedio/TS-20241123220321351.avi'  # 或使用 0 代表摄像头\n",
    "# cap = cv2.VideoCapture(video_path)\n",
    "\n",
    "# while True:\n",
    "#     ret, frame = cap.read()\n",
    "#     if not ret:\n",
    "#         break\n",
    "\n",
    "#     # 进行检测\n",
    "#     results = model(frame)\n",
    "\n",
    "#     # 解析并绘制检测结果\n",
    "#     annotated_frame = results[0].plot()\n",
    "\n",
    "#     # 显示结果\n",
    "#     cv2.imshow('YOLOv8 Detection', annotated_frame)\n",
    "\n",
    "#     if cv2.waitKey(1) & 0xFF == ord('q'):\n",
    "#         break\n",
    "\n",
    "# cap.release()\n",
    "# cv2.destroyAllWindows()\n"
   ]
  },
  {
   "cell_type": "code",
   "execution_count": 9,
   "metadata": {},
   "outputs": [
    {
     "name": "stdout",
     "output_type": "stream",
     "text": [
      "视频帧率: 29.3, 分辨率: 1600x1200, 总帧数: 293\n",
      "处理帧 1/293\n",
      "0: 480x640 1 head, 2 tails, 11.1ms\n",
      "Speed: 1.9ms preprocess, 11.1ms inference, 0.9ms postprocess per image at shape (1, 3, 480, 640)\n",
      "处理帧 2/293\n",
      "0: 480x640 1 head, 2 tails, 11.1ms\n",
      "Speed: 1.7ms preprocess, 11.1ms inference, 0.8ms postprocess per image at shape (1, 3, 480, 640)\n",
      "处理帧 3/293\n",
      "0: 480x640 1 head, 2 tails, 11.0ms\n",
      "Speed: 1.5ms preprocess, 11.0ms inference, 0.9ms postprocess per image at shape (1, 3, 480, 640)\n",
      "处理帧 4/293\n",
      "0: 480x640 1 head, 2 tails, 11.2ms\n",
      "Speed: 1.8ms preprocess, 11.2ms inference, 0.9ms postprocess per image at shape (1, 3, 480, 640)\n",
      "处理帧 5/293\n",
      "0: 480x640 1 head, 2 tails, 11.7ms\n",
      "Speed: 1.7ms preprocess, 11.7ms inference, 0.9ms postprocess per image at shape (1, 3, 480, 640)\n",
      "处理帧 6/293\n",
      "0: 480x640 1 head, 2 tails, 11.6ms\n",
      "Speed: 1.6ms preprocess, 11.6ms inference, 0.8ms postprocess per image at shape (1, 3, 480, 640)\n",
      "处理帧 7/293\n",
      "0: 480x640 2 tails, 11.6ms\n",
      "Speed: 1.7ms preprocess, 11.6ms inference, 0.9ms postprocess per image at shape (1, 3, 480, 640)\n",
      "处理帧 8/293\n",
      "0: 480x640 2 tails, 11.5ms\n",
      "Speed: 1.6ms preprocess, 11.5ms inference, 0.8ms postprocess per image at shape (1, 3, 480, 640)\n",
      "处理帧 9/293\n",
      "0: 480x640 2 tails, 11.9ms\n",
      "Speed: 1.7ms preprocess, 11.9ms inference, 0.8ms postprocess per image at shape (1, 3, 480, 640)\n",
      "处理帧 10/293\n",
      "0: 480x640 2 tails, 14.0ms\n",
      "Speed: 1.7ms preprocess, 14.0ms inference, 0.9ms postprocess per image at shape (1, 3, 480, 640)\n",
      "处理帧 11/293\n",
      "0: 480x640 2 tails, 11.5ms\n",
      "Speed: 1.8ms preprocess, 11.5ms inference, 1.0ms postprocess per image at shape (1, 3, 480, 640)\n",
      "处理帧 12/293\n",
      "0: 480x640 2 tails, 11.6ms\n",
      "Speed: 1.5ms preprocess, 11.6ms inference, 0.8ms postprocess per image at shape (1, 3, 480, 640)\n",
      "处理帧 13/293\n",
      "0: 480x640 1 tail, 11.1ms\n",
      "Speed: 1.9ms preprocess, 11.1ms inference, 0.9ms postprocess per image at shape (1, 3, 480, 640)\n",
      "处理帧 14/293\n",
      "0: 480x640 1 tail, 11.3ms\n",
      "Speed: 1.6ms preprocess, 11.3ms inference, 0.9ms postprocess per image at shape (1, 3, 480, 640)\n",
      "处理帧 15/293\n",
      "0: 480x640 2 tails, 10.9ms\n",
      "Speed: 1.6ms preprocess, 10.9ms inference, 0.8ms postprocess per image at shape (1, 3, 480, 640)\n",
      "处理帧 16/293\n",
      "0: 480x640 2 tails, 12.8ms\n",
      "Speed: 1.8ms preprocess, 12.8ms inference, 0.9ms postprocess per image at shape (1, 3, 480, 640)\n",
      "处理帧 17/293\n",
      "0: 480x640 1 tail, 12.1ms\n",
      "Speed: 1.6ms preprocess, 12.1ms inference, 0.8ms postprocess per image at shape (1, 3, 480, 640)\n",
      "处理帧 18/293\n",
      "0: 480x640 1 tail, 11.2ms\n",
      "Speed: 1.5ms preprocess, 11.2ms inference, 0.8ms postprocess per image at shape (1, 3, 480, 640)\n",
      "处理帧 19/293\n",
      "0: 480x640 1 tail, 11.4ms\n",
      "Speed: 1.8ms preprocess, 11.4ms inference, 0.8ms postprocess per image at shape (1, 3, 480, 640)\n",
      "处理帧 20/293\n",
      "0: 480x640 2 tails, 11.5ms\n",
      "Speed: 1.6ms preprocess, 11.5ms inference, 0.9ms postprocess per image at shape (1, 3, 480, 640)\n",
      "处理帧 21/293\n",
      "0: 480x640 3 tails, 11.5ms\n",
      "Speed: 1.6ms preprocess, 11.5ms inference, 0.8ms postprocess per image at shape (1, 3, 480, 640)\n",
      "处理帧 22/293\n",
      "0: 480x640 3 tails, 11.0ms\n",
      "Speed: 1.6ms preprocess, 11.0ms inference, 0.8ms postprocess per image at shape (1, 3, 480, 640)\n",
      "处理帧 23/293\n",
      "0: 480x640 3 tails, 11.9ms\n",
      "Speed: 1.8ms preprocess, 11.9ms inference, 0.9ms postprocess per image at shape (1, 3, 480, 640)\n",
      "处理帧 24/293\n",
      "0: 480x640 3 tails, 11.4ms\n",
      "Speed: 1.6ms preprocess, 11.4ms inference, 0.9ms postprocess per image at shape (1, 3, 480, 640)\n",
      "处理帧 25/293\n",
      "0: 480x640 2 tails, 11.0ms\n",
      "Speed: 1.6ms preprocess, 11.0ms inference, 1.0ms postprocess per image at shape (1, 3, 480, 640)\n",
      "处理帧 26/293\n",
      "0: 480x640 2 tails, 12.1ms\n",
      "Speed: 1.8ms preprocess, 12.1ms inference, 0.8ms postprocess per image at shape (1, 3, 480, 640)\n",
      "处理帧 27/293\n",
      "0: 480x640 3 tails, 10.8ms\n",
      "Speed: 1.5ms preprocess, 10.8ms inference, 0.8ms postprocess per image at shape (1, 3, 480, 640)\n",
      "处理帧 28/293\n",
      "0: 480x640 3 tails, 11.4ms\n",
      "Speed: 1.6ms preprocess, 11.4ms inference, 1.0ms postprocess per image at shape (1, 3, 480, 640)\n",
      "处理帧 29/293\n",
      "0: 480x640 2 tails, 10.8ms\n",
      "Speed: 1.6ms preprocess, 10.8ms inference, 0.8ms postprocess per image at shape (1, 3, 480, 640)\n",
      "处理帧 30/293\n",
      "0: 480x640 2 tails, 11.1ms\n",
      "Speed: 1.7ms preprocess, 11.1ms inference, 0.8ms postprocess per image at shape (1, 3, 480, 640)\n",
      "处理帧 31/293\n",
      "0: 480x640 2 tails, 11.2ms\n",
      "Speed: 1.6ms preprocess, 11.2ms inference, 0.9ms postprocess per image at shape (1, 3, 480, 640)\n",
      "处理帧 32/293\n",
      "0: 480x640 2 tails, 11.8ms\n",
      "Speed: 1.6ms preprocess, 11.8ms inference, 0.8ms postprocess per image at shape (1, 3, 480, 640)\n",
      "处理帧 33/293\n",
      "0: 480x640 2 tails, 10.7ms\n",
      "Speed: 1.5ms preprocess, 10.7ms inference, 0.8ms postprocess per image at shape (1, 3, 480, 640)\n",
      "处理帧 34/293\n",
      "0: 480x640 2 tails, 10.9ms\n",
      "Speed: 1.6ms preprocess, 10.9ms inference, 0.9ms postprocess per image at shape (1, 3, 480, 640)\n",
      "处理帧 35/293\n",
      "0: 480x640 1 tail, 10.8ms\n",
      "Speed: 1.5ms preprocess, 10.8ms inference, 1.0ms postprocess per image at shape (1, 3, 480, 640)\n",
      "处理帧 36/293\n",
      "0: 480x640 1 tail, 10.9ms\n",
      "Speed: 1.6ms preprocess, 10.9ms inference, 0.9ms postprocess per image at shape (1, 3, 480, 640)\n",
      "处理帧 37/293\n",
      "0: 480x640 (no detections), 11.6ms\n",
      "Speed: 1.6ms preprocess, 11.6ms inference, 0.3ms postprocess per image at shape (1, 3, 480, 640)\n",
      "处理帧 38/293\n",
      "0: 480x640 (no detections), 11.2ms\n",
      "Speed: 1.7ms preprocess, 11.2ms inference, 0.3ms postprocess per image at shape (1, 3, 480, 640)\n",
      "处理帧 39/293\n",
      "0: 480x640 1 head, 10.8ms\n",
      "Speed: 1.7ms preprocess, 10.8ms inference, 0.8ms postprocess per image at shape (1, 3, 480, 640)\n",
      "处理帧 40/293\n",
      "0: 480x640 1 head, 11.1ms\n",
      "Speed: 1.6ms preprocess, 11.1ms inference, 0.8ms postprocess per image at shape (1, 3, 480, 640)\n",
      "处理帧 41/293\n",
      "0: 480x640 1 head, 12.0ms\n",
      "Speed: 1.9ms preprocess, 12.0ms inference, 0.9ms postprocess per image at shape (1, 3, 480, 640)\n",
      "处理帧 42/293\n",
      "0: 480x640 1 head, 11.1ms\n",
      "Speed: 1.5ms preprocess, 11.1ms inference, 0.9ms postprocess per image at shape (1, 3, 480, 640)\n",
      "处理帧 43/293\n",
      "0: 480x640 1 head, 11.4ms\n",
      "Speed: 2.4ms preprocess, 11.4ms inference, 0.8ms postprocess per image at shape (1, 3, 480, 640)\n",
      "处理帧 44/293\n",
      "0: 480x640 1 head, 11.7ms\n",
      "Speed: 1.7ms preprocess, 11.7ms inference, 0.8ms postprocess per image at shape (1, 3, 480, 640)\n",
      "处理帧 45/293\n",
      "0: 480x640 1 head, 10.8ms\n",
      "Speed: 1.5ms preprocess, 10.8ms inference, 0.8ms postprocess per image at shape (1, 3, 480, 640)\n",
      "处理帧 46/293\n",
      "0: 480x640 1 head, 10.9ms\n",
      "Speed: 1.6ms preprocess, 10.9ms inference, 0.8ms postprocess per image at shape (1, 3, 480, 640)\n",
      "处理帧 47/293\n",
      "0: 480x640 1 head, 11.0ms\n",
      "Speed: 1.7ms preprocess, 11.0ms inference, 0.8ms postprocess per image at shape (1, 3, 480, 640)\n",
      "处理帧 48/293\n",
      "0: 480x640 1 head, 11.0ms\n",
      "Speed: 1.5ms preprocess, 11.0ms inference, 0.8ms postprocess per image at shape (1, 3, 480, 640)\n",
      "处理帧 49/293\n",
      "0: 480x640 1 head, 11.1ms\n",
      "Speed: 1.8ms preprocess, 11.1ms inference, 0.8ms postprocess per image at shape (1, 3, 480, 640)\n",
      "处理帧 50/293\n",
      "0: 480x640 1 head, 11.5ms\n",
      "Speed: 1.6ms preprocess, 11.5ms inference, 0.8ms postprocess per image at shape (1, 3, 480, 640)\n",
      "处理帧 51/293\n",
      "0: 480x640 1 tail, 11.5ms\n",
      "Speed: 1.6ms preprocess, 11.5ms inference, 0.8ms postprocess per image at shape (1, 3, 480, 640)\n",
      "处理帧 52/293\n",
      "0: 480x640 1 tail, 11.5ms\n",
      "Speed: 1.7ms preprocess, 11.5ms inference, 0.8ms postprocess per image at shape (1, 3, 480, 640)\n",
      "处理帧 53/293\n",
      "0: 480x640 1 tail, 11.0ms\n",
      "Speed: 1.6ms preprocess, 11.0ms inference, 0.8ms postprocess per image at shape (1, 3, 480, 640)\n",
      "处理帧 54/293\n",
      "0: 480x640 1 tail, 11.5ms\n",
      "Speed: 1.6ms preprocess, 11.5ms inference, 0.8ms postprocess per image at shape (1, 3, 480, 640)\n",
      "处理帧 55/293\n",
      "0: 480x640 1 tail, 11.1ms\n",
      "Speed: 1.6ms preprocess, 11.1ms inference, 0.9ms postprocess per image at shape (1, 3, 480, 640)\n",
      "处理帧 56/293\n",
      "0: 480x640 2 tails, 11.6ms\n",
      "Speed: 1.6ms preprocess, 11.6ms inference, 0.9ms postprocess per image at shape (1, 3, 480, 640)\n",
      "处理帧 57/293\n",
      "0: 480x640 2 tails, 11.3ms\n",
      "Speed: 1.6ms preprocess, 11.3ms inference, 0.8ms postprocess per image at shape (1, 3, 480, 640)\n",
      "处理帧 58/293\n",
      "0: 480x640 2 tails, 11.1ms\n",
      "Speed: 1.7ms preprocess, 11.1ms inference, 0.8ms postprocess per image at shape (1, 3, 480, 640)\n",
      "处理帧 59/293\n",
      "0: 480x640 3 tails, 11.2ms\n",
      "Speed: 1.6ms preprocess, 11.2ms inference, 0.9ms postprocess per image at shape (1, 3, 480, 640)\n",
      "处理帧 60/293\n",
      "0: 480x640 3 tails, 12.3ms\n",
      "Speed: 1.7ms preprocess, 12.3ms inference, 0.9ms postprocess per image at shape (1, 3, 480, 640)\n",
      "处理帧 61/293\n",
      "0: 480x640 2 tails, 11.6ms\n",
      "Speed: 1.6ms preprocess, 11.6ms inference, 0.9ms postprocess per image at shape (1, 3, 480, 640)\n",
      "处理帧 62/293\n",
      "0: 480x640 2 tails, 11.3ms\n",
      "Speed: 1.7ms preprocess, 11.3ms inference, 0.8ms postprocess per image at shape (1, 3, 480, 640)\n",
      "处理帧 63/293\n",
      "0: 480x640 1 tail, 12.0ms\n",
      "Speed: 1.7ms preprocess, 12.0ms inference, 0.9ms postprocess per image at shape (1, 3, 480, 640)\n",
      "处理帧 64/293\n",
      "0: 480x640 1 tail, 11.8ms\n",
      "Speed: 1.8ms preprocess, 11.8ms inference, 0.8ms postprocess per image at shape (1, 3, 480, 640)\n",
      "处理帧 65/293\n",
      "0: 480x640 1 tail, 11.6ms\n",
      "Speed: 1.7ms preprocess, 11.6ms inference, 0.8ms postprocess per image at shape (1, 3, 480, 640)\n",
      "处理帧 66/293\n",
      "0: 480x640 1 tail, 11.5ms\n",
      "Speed: 1.6ms preprocess, 11.5ms inference, 0.9ms postprocess per image at shape (1, 3, 480, 640)\n",
      "处理帧 67/293\n",
      "0: 480x640 1 tail, 11.5ms\n",
      "Speed: 1.6ms preprocess, 11.5ms inference, 0.8ms postprocess per image at shape (1, 3, 480, 640)\n",
      "处理帧 68/293\n",
      "0: 480x640 1 tail, 11.4ms\n",
      "Speed: 1.6ms preprocess, 11.4ms inference, 0.8ms postprocess per image at shape (1, 3, 480, 640)\n",
      "处理帧 69/293\n",
      "0: 480x640 1 tail, 11.3ms\n",
      "Speed: 1.5ms preprocess, 11.3ms inference, 0.8ms postprocess per image at shape (1, 3, 480, 640)\n",
      "处理帧 70/293\n",
      "0: 480x640 1 tail, 11.2ms\n",
      "Speed: 1.6ms preprocess, 11.2ms inference, 0.9ms postprocess per image at shape (1, 3, 480, 640)\n",
      "处理帧 71/293\n",
      "0: 480x640 1 tail, 11.3ms\n",
      "Speed: 1.6ms preprocess, 11.3ms inference, 0.8ms postprocess per image at shape (1, 3, 480, 640)\n",
      "处理帧 72/293\n",
      "0: 480x640 1 tail, 11.5ms\n",
      "Speed: 1.6ms preprocess, 11.5ms inference, 0.8ms postprocess per image at shape (1, 3, 480, 640)\n",
      "处理帧 73/293\n",
      "0: 480x640 1 tail, 11.0ms\n",
      "Speed: 1.6ms preprocess, 11.0ms inference, 0.8ms postprocess per image at shape (1, 3, 480, 640)\n",
      "处理帧 74/293\n",
      "0: 480x640 1 tail, 11.1ms\n",
      "Speed: 1.6ms preprocess, 11.1ms inference, 0.8ms postprocess per image at shape (1, 3, 480, 640)\n",
      "处理帧 75/293\n",
      "0: 480x640 1 tail, 10.9ms\n",
      "Speed: 1.5ms preprocess, 10.9ms inference, 0.8ms postprocess per image at shape (1, 3, 480, 640)\n",
      "处理帧 76/293\n",
      "0: 480x640 1 tail, 11.4ms\n",
      "Speed: 1.6ms preprocess, 11.4ms inference, 0.8ms postprocess per image at shape (1, 3, 480, 640)\n",
      "处理帧 77/293\n",
      "0: 480x640 1 head, 1 tail, 12.2ms\n",
      "Speed: 1.6ms preprocess, 12.2ms inference, 0.8ms postprocess per image at shape (1, 3, 480, 640)\n",
      "处理帧 78/293\n",
      "0: 480x640 1 head, 1 tail, 11.4ms\n",
      "Speed: 1.5ms preprocess, 11.4ms inference, 1.0ms postprocess per image at shape (1, 3, 480, 640)\n",
      "处理帧 79/293\n",
      "0: 480x640 1 tail, 11.5ms\n",
      "Speed: 1.6ms preprocess, 11.5ms inference, 0.8ms postprocess per image at shape (1, 3, 480, 640)\n",
      "处理帧 80/293\n",
      "0: 480x640 1 tail, 11.7ms\n",
      "Speed: 1.7ms preprocess, 11.7ms inference, 0.9ms postprocess per image at shape (1, 3, 480, 640)\n",
      "处理帧 81/293\n",
      "0: 480x640 1 tail, 11.5ms\n",
      "Speed: 1.6ms preprocess, 11.5ms inference, 0.8ms postprocess per image at shape (1, 3, 480, 640)\n",
      "处理帧 82/293\n",
      "0: 480x640 1 tail, 11.9ms\n",
      "Speed: 1.9ms preprocess, 11.9ms inference, 0.8ms postprocess per image at shape (1, 3, 480, 640)\n",
      "处理帧 83/293\n",
      "0: 480x640 1 tail, 11.5ms\n",
      "Speed: 1.6ms preprocess, 11.5ms inference, 0.9ms postprocess per image at shape (1, 3, 480, 640)\n",
      "处理帧 84/293\n",
      "0: 480x640 1 tail, 11.5ms\n",
      "Speed: 1.7ms preprocess, 11.5ms inference, 0.8ms postprocess per image at shape (1, 3, 480, 640)\n",
      "处理帧 85/293\n",
      "0: 480x640 1 tail, 11.0ms\n",
      "Speed: 1.6ms preprocess, 11.0ms inference, 0.8ms postprocess per image at shape (1, 3, 480, 640)\n",
      "处理帧 86/293\n",
      "0: 480x640 1 tail, 11.4ms\n",
      "Speed: 1.6ms preprocess, 11.4ms inference, 0.9ms postprocess per image at shape (1, 3, 480, 640)\n",
      "处理帧 87/293\n",
      "0: 480x640 1 tail, 11.3ms\n",
      "Speed: 1.8ms preprocess, 11.3ms inference, 0.8ms postprocess per image at shape (1, 3, 480, 640)\n",
      "处理帧 88/293\n",
      "0: 480x640 1 tail, 12.2ms\n",
      "Speed: 1.6ms preprocess, 12.2ms inference, 1.0ms postprocess per image at shape (1, 3, 480, 640)\n",
      "处理帧 89/293\n",
      "0: 480x640 1 tail, 11.1ms\n",
      "Speed: 1.6ms preprocess, 11.1ms inference, 0.8ms postprocess per image at shape (1, 3, 480, 640)\n",
      "处理帧 90/293\n",
      "0: 480x640 1 tail, 11.2ms\n",
      "Speed: 1.6ms preprocess, 11.2ms inference, 0.8ms postprocess per image at shape (1, 3, 480, 640)\n",
      "处理帧 91/293\n",
      "0: 480x640 1 head, 1 tail, 11.5ms\n",
      "Speed: 1.6ms preprocess, 11.5ms inference, 0.8ms postprocess per image at shape (1, 3, 480, 640)\n",
      "处理帧 92/293\n",
      "0: 480x640 1 head, 1 tail, 11.5ms\n",
      "Speed: 1.6ms preprocess, 11.5ms inference, 0.8ms postprocess per image at shape (1, 3, 480, 640)\n",
      "处理帧 93/293\n",
      "0: 480x640 1 head, 1 tail, 11.6ms\n",
      "Speed: 1.7ms preprocess, 11.6ms inference, 0.8ms postprocess per image at shape (1, 3, 480, 640)\n",
      "处理帧 94/293\n",
      "0: 480x640 1 head, 1 tail, 12.0ms\n",
      "Speed: 1.9ms preprocess, 12.0ms inference, 1.0ms postprocess per image at shape (1, 3, 480, 640)\n",
      "处理帧 95/293\n",
      "0: 480x640 1 head, 11.0ms\n",
      "Speed: 1.6ms preprocess, 11.0ms inference, 0.8ms postprocess per image at shape (1, 3, 480, 640)\n",
      "处理帧 96/293\n",
      "0: 480x640 1 head, 11.8ms\n",
      "Speed: 1.6ms preprocess, 11.8ms inference, 1.0ms postprocess per image at shape (1, 3, 480, 640)\n",
      "处理帧 97/293\n",
      "0: 480x640 1 head, 11.5ms\n",
      "Speed: 1.6ms preprocess, 11.5ms inference, 0.8ms postprocess per image at shape (1, 3, 480, 640)\n",
      "处理帧 98/293\n",
      "0: 480x640 1 head, 11.0ms\n",
      "Speed: 1.6ms preprocess, 11.0ms inference, 0.8ms postprocess per image at shape (1, 3, 480, 640)\n",
      "处理帧 99/293\n",
      "0: 480x640 1 tail, 11.1ms\n",
      "Speed: 1.6ms preprocess, 11.1ms inference, 0.8ms postprocess per image at shape (1, 3, 480, 640)\n",
      "处理帧 100/293\n",
      "0: 480x640 1 tail, 11.6ms\n",
      "Speed: 1.7ms preprocess, 11.6ms inference, 0.8ms postprocess per image at shape (1, 3, 480, 640)\n",
      "处理帧 101/293\n",
      "0: 480x640 (no detections), 11.1ms\n",
      "Speed: 1.6ms preprocess, 11.1ms inference, 0.4ms postprocess per image at shape (1, 3, 480, 640)\n",
      "处理帧 102/293\n",
      "0: 480x640 (no detections), 10.9ms\n",
      "Speed: 1.7ms preprocess, 10.9ms inference, 0.4ms postprocess per image at shape (1, 3, 480, 640)\n",
      "处理帧 103/293\n",
      "0: 480x640 (no detections), 11.0ms\n",
      "Speed: 1.7ms preprocess, 11.0ms inference, 0.4ms postprocess per image at shape (1, 3, 480, 640)\n",
      "处理帧 104/293\n",
      "0: 480x640 (no detections), 11.3ms\n",
      "Speed: 1.6ms preprocess, 11.3ms inference, 0.4ms postprocess per image at shape (1, 3, 480, 640)\n",
      "处理帧 105/293\n",
      "0: 480x640 (no detections), 11.2ms\n",
      "Speed: 1.6ms preprocess, 11.2ms inference, 0.4ms postprocess per image at shape (1, 3, 480, 640)\n",
      "处理帧 106/293\n",
      "0: 480x640 (no detections), 11.8ms\n",
      "Speed: 1.7ms preprocess, 11.8ms inference, 0.4ms postprocess per image at shape (1, 3, 480, 640)\n",
      "处理帧 107/293\n",
      "0: 480x640 1 tail, 11.0ms\n",
      "Speed: 1.6ms preprocess, 11.0ms inference, 0.9ms postprocess per image at shape (1, 3, 480, 640)\n",
      "处理帧 108/293\n",
      "0: 480x640 1 tail, 11.2ms\n",
      "Speed: 1.5ms preprocess, 11.2ms inference, 0.8ms postprocess per image at shape (1, 3, 480, 640)\n",
      "处理帧 109/293\n",
      "0: 480x640 1 tail, 11.3ms\n",
      "Speed: 1.6ms preprocess, 11.3ms inference, 0.8ms postprocess per image at shape (1, 3, 480, 640)\n",
      "处理帧 110/293\n",
      "0: 480x640 1 tail, 11.1ms\n",
      "Speed: 1.7ms preprocess, 11.1ms inference, 0.8ms postprocess per image at shape (1, 3, 480, 640)\n",
      "处理帧 111/293\n",
      "0: 480x640 1 head, 11.2ms\n",
      "Speed: 1.6ms preprocess, 11.2ms inference, 0.9ms postprocess per image at shape (1, 3, 480, 640)\n",
      "处理帧 112/293\n",
      "0: 480x640 1 head, 11.4ms\n",
      "Speed: 1.6ms preprocess, 11.4ms inference, 0.8ms postprocess per image at shape (1, 3, 480, 640)\n",
      "处理帧 113/293\n",
      "0: 480x640 1 head, 10.8ms\n",
      "Speed: 1.6ms preprocess, 10.8ms inference, 0.9ms postprocess per image at shape (1, 3, 480, 640)\n",
      "处理帧 114/293\n",
      "0: 480x640 1 head, 11.0ms\n",
      "Speed: 1.7ms preprocess, 11.0ms inference, 0.8ms postprocess per image at shape (1, 3, 480, 640)\n",
      "处理帧 115/293\n",
      "0: 480x640 1 tail, 10.9ms\n",
      "Speed: 1.6ms preprocess, 10.9ms inference, 1.0ms postprocess per image at shape (1, 3, 480, 640)\n",
      "处理帧 116/293\n",
      "0: 480x640 1 tail, 11.2ms\n",
      "Speed: 1.6ms preprocess, 11.2ms inference, 0.8ms postprocess per image at shape (1, 3, 480, 640)\n",
      "处理帧 117/293\n",
      "0: 480x640 1 tail, 11.2ms\n",
      "Speed: 1.5ms preprocess, 11.2ms inference, 0.8ms postprocess per image at shape (1, 3, 480, 640)\n",
      "处理帧 118/293\n",
      "0: 480x640 1 tail, 11.7ms\n",
      "Speed: 1.6ms preprocess, 11.7ms inference, 0.9ms postprocess per image at shape (1, 3, 480, 640)\n",
      "处理帧 119/293\n",
      "0: 480x640 1 head, 10.9ms\n",
      "Speed: 1.6ms preprocess, 10.9ms inference, 0.9ms postprocess per image at shape (1, 3, 480, 640)\n",
      "处理帧 120/293\n",
      "0: 480x640 1 head, 11.5ms\n",
      "Speed: 1.7ms preprocess, 11.5ms inference, 0.8ms postprocess per image at shape (1, 3, 480, 640)\n",
      "处理帧 121/293\n",
      "0: 480x640 (no detections), 11.4ms\n",
      "Speed: 1.7ms preprocess, 11.4ms inference, 0.4ms postprocess per image at shape (1, 3, 480, 640)\n",
      "处理帧 122/293\n",
      "0: 480x640 (no detections), 10.9ms\n",
      "Speed: 1.7ms preprocess, 10.9ms inference, 0.4ms postprocess per image at shape (1, 3, 480, 640)\n",
      "处理帧 123/293\n",
      "0: 480x640 (no detections), 11.8ms\n",
      "Speed: 1.6ms preprocess, 11.8ms inference, 0.3ms postprocess per image at shape (1, 3, 480, 640)\n",
      "处理帧 124/293\n",
      "0: 480x640 (no detections), 11.4ms\n",
      "Speed: 1.8ms preprocess, 11.4ms inference, 0.4ms postprocess per image at shape (1, 3, 480, 640)\n",
      "处理帧 125/293\n",
      "0: 480x640 (no detections), 11.5ms\n",
      "Speed: 1.6ms preprocess, 11.5ms inference, 0.4ms postprocess per image at shape (1, 3, 480, 640)\n",
      "处理帧 126/293\n",
      "0: 480x640 (no detections), 11.3ms\n",
      "Speed: 1.6ms preprocess, 11.3ms inference, 0.4ms postprocess per image at shape (1, 3, 480, 640)\n",
      "处理帧 127/293\n",
      "0: 480x640 (no detections), 10.8ms\n",
      "Speed: 1.6ms preprocess, 10.8ms inference, 0.4ms postprocess per image at shape (1, 3, 480, 640)\n",
      "处理帧 128/293\n",
      "0: 480x640 (no detections), 12.8ms\n",
      "Speed: 1.7ms preprocess, 12.8ms inference, 0.5ms postprocess per image at shape (1, 3, 480, 640)\n",
      "处理帧 129/293\n",
      "0: 480x640 (no detections), 11.2ms\n",
      "Speed: 1.6ms preprocess, 11.2ms inference, 0.3ms postprocess per image at shape (1, 3, 480, 640)\n",
      "处理帧 130/293\n",
      "0: 480x640 (no detections), 11.7ms\n",
      "Speed: 1.8ms preprocess, 11.7ms inference, 0.4ms postprocess per image at shape (1, 3, 480, 640)\n",
      "处理帧 131/293\n",
      "0: 480x640 (no detections), 11.4ms\n",
      "Speed: 1.6ms preprocess, 11.4ms inference, 0.4ms postprocess per image at shape (1, 3, 480, 640)\n",
      "处理帧 132/293\n",
      "0: 480x640 (no detections), 11.4ms\n",
      "Speed: 1.6ms preprocess, 11.4ms inference, 0.4ms postprocess per image at shape (1, 3, 480, 640)\n",
      "处理帧 133/293\n",
      "0: 480x640 (no detections), 11.8ms\n",
      "Speed: 1.6ms preprocess, 11.8ms inference, 0.4ms postprocess per image at shape (1, 3, 480, 640)\n",
      "处理帧 134/293\n",
      "0: 480x640 (no detections), 11.5ms\n",
      "Speed: 1.6ms preprocess, 11.5ms inference, 0.4ms postprocess per image at shape (1, 3, 480, 640)\n",
      "处理帧 135/293\n",
      "0: 480x640 (no detections), 11.1ms\n",
      "Speed: 1.7ms preprocess, 11.1ms inference, 0.4ms postprocess per image at shape (1, 3, 480, 640)\n",
      "处理帧 136/293\n",
      "0: 480x640 (no detections), 14.2ms\n",
      "Speed: 2.2ms preprocess, 14.2ms inference, 0.4ms postprocess per image at shape (1, 3, 480, 640)\n",
      "处理帧 137/293\n",
      "0: 480x640 (no detections), 13.8ms\n",
      "Speed: 2.1ms preprocess, 13.8ms inference, 0.4ms postprocess per image at shape (1, 3, 480, 640)\n",
      "处理帧 138/293\n",
      "0: 480x640 (no detections), 11.6ms\n",
      "Speed: 1.9ms preprocess, 11.6ms inference, 0.4ms postprocess per image at shape (1, 3, 480, 640)\n",
      "处理帧 139/293\n",
      "0: 480x640 (no detections), 11.3ms\n",
      "Speed: 1.7ms preprocess, 11.3ms inference, 0.4ms postprocess per image at shape (1, 3, 480, 640)\n",
      "处理帧 140/293\n",
      "0: 480x640 (no detections), 11.9ms\n",
      "Speed: 1.6ms preprocess, 11.9ms inference, 0.4ms postprocess per image at shape (1, 3, 480, 640)\n",
      "处理帧 141/293\n",
      "0: 480x640 (no detections), 11.3ms\n",
      "Speed: 1.6ms preprocess, 11.3ms inference, 0.4ms postprocess per image at shape (1, 3, 480, 640)\n",
      "处理帧 142/293\n",
      "0: 480x640 (no detections), 12.3ms\n",
      "Speed: 1.6ms preprocess, 12.3ms inference, 0.4ms postprocess per image at shape (1, 3, 480, 640)\n",
      "处理帧 143/293\n",
      "0: 480x640 (no detections), 12.3ms\n",
      "Speed: 2.0ms preprocess, 12.3ms inference, 0.4ms postprocess per image at shape (1, 3, 480, 640)\n",
      "处理帧 144/293\n",
      "0: 480x640 (no detections), 12.3ms\n",
      "Speed: 1.7ms preprocess, 12.3ms inference, 0.4ms postprocess per image at shape (1, 3, 480, 640)\n",
      "处理帧 145/293\n",
      "0: 480x640 (no detections), 12.2ms\n",
      "Speed: 1.9ms preprocess, 12.2ms inference, 0.4ms postprocess per image at shape (1, 3, 480, 640)\n",
      "处理帧 146/293\n",
      "0: 480x640 (no detections), 11.8ms\n",
      "Speed: 1.6ms preprocess, 11.8ms inference, 0.4ms postprocess per image at shape (1, 3, 480, 640)\n",
      "处理帧 147/293\n",
      "0: 480x640 (no detections), 11.0ms\n",
      "Speed: 1.6ms preprocess, 11.0ms inference, 0.4ms postprocess per image at shape (1, 3, 480, 640)\n",
      "处理帧 148/293\n",
      "0: 480x640 (no detections), 11.1ms\n",
      "Speed: 1.8ms preprocess, 11.1ms inference, 0.4ms postprocess per image at shape (1, 3, 480, 640)\n",
      "处理帧 149/293\n",
      "0: 480x640 (no detections), 11.5ms\n",
      "Speed: 1.6ms preprocess, 11.5ms inference, 0.4ms postprocess per image at shape (1, 3, 480, 640)\n",
      "处理帧 150/293\n",
      "0: 480x640 (no detections), 11.3ms\n",
      "Speed: 1.6ms preprocess, 11.3ms inference, 0.3ms postprocess per image at shape (1, 3, 480, 640)\n",
      "处理帧 151/293\n",
      "0: 480x640 (no detections), 11.0ms\n",
      "Speed: 1.6ms preprocess, 11.0ms inference, 0.4ms postprocess per image at shape (1, 3, 480, 640)\n",
      "处理帧 152/293\n",
      "0: 480x640 (no detections), 11.0ms\n",
      "Speed: 1.6ms preprocess, 11.0ms inference, 0.3ms postprocess per image at shape (1, 3, 480, 640)\n",
      "处理帧 153/293\n",
      "0: 480x640 (no detections), 11.3ms\n",
      "Speed: 1.8ms preprocess, 11.3ms inference, 0.4ms postprocess per image at shape (1, 3, 480, 640)\n",
      "处理帧 154/293\n",
      "0: 480x640 (no detections), 11.5ms\n",
      "Speed: 1.7ms preprocess, 11.5ms inference, 0.4ms postprocess per image at shape (1, 3, 480, 640)\n",
      "处理帧 155/293\n",
      "0: 480x640 (no detections), 11.3ms\n",
      "Speed: 1.6ms preprocess, 11.3ms inference, 0.3ms postprocess per image at shape (1, 3, 480, 640)\n",
      "处理帧 156/293\n",
      "0: 480x640 (no detections), 10.9ms\n",
      "Speed: 1.6ms preprocess, 10.9ms inference, 0.3ms postprocess per image at shape (1, 3, 480, 640)\n",
      "处理帧 157/293\n",
      "0: 480x640 (no detections), 11.7ms\n",
      "Speed: 1.6ms preprocess, 11.7ms inference, 0.3ms postprocess per image at shape (1, 3, 480, 640)\n",
      "处理帧 158/293\n",
      "0: 480x640 (no detections), 11.2ms\n",
      "Speed: 1.6ms preprocess, 11.2ms inference, 0.4ms postprocess per image at shape (1, 3, 480, 640)\n",
      "处理帧 159/293\n",
      "0: 480x640 (no detections), 11.5ms\n",
      "Speed: 1.7ms preprocess, 11.5ms inference, 0.3ms postprocess per image at shape (1, 3, 480, 640)\n",
      "处理帧 160/293\n",
      "0: 480x640 (no detections), 11.5ms\n",
      "Speed: 1.7ms preprocess, 11.5ms inference, 0.3ms postprocess per image at shape (1, 3, 480, 640)\n",
      "处理帧 161/293\n",
      "0: 480x640 (no detections), 11.4ms\n",
      "Speed: 1.7ms preprocess, 11.4ms inference, 0.4ms postprocess per image at shape (1, 3, 480, 640)\n",
      "处理帧 162/293\n",
      "0: 480x640 (no detections), 12.8ms\n",
      "Speed: 1.6ms preprocess, 12.8ms inference, 0.4ms postprocess per image at shape (1, 3, 480, 640)\n",
      "处理帧 163/293\n",
      "0: 480x640 (no detections), 11.4ms\n",
      "Speed: 1.6ms preprocess, 11.4ms inference, 0.4ms postprocess per image at shape (1, 3, 480, 640)\n",
      "处理帧 164/293\n",
      "0: 480x640 (no detections), 11.2ms\n",
      "Speed: 1.7ms preprocess, 11.2ms inference, 0.4ms postprocess per image at shape (1, 3, 480, 640)\n",
      "处理帧 165/293\n",
      "0: 480x640 1 tail, 11.1ms\n",
      "Speed: 1.6ms preprocess, 11.1ms inference, 0.9ms postprocess per image at shape (1, 3, 480, 640)\n",
      "处理帧 166/293\n",
      "0: 480x640 1 tail, 11.0ms\n",
      "Speed: 1.7ms preprocess, 11.0ms inference, 0.8ms postprocess per image at shape (1, 3, 480, 640)\n",
      "处理帧 167/293\n",
      "0: 480x640 1 tail, 11.0ms\n",
      "Speed: 1.8ms preprocess, 11.0ms inference, 0.8ms postprocess per image at shape (1, 3, 480, 640)\n",
      "处理帧 168/293\n",
      "0: 480x640 1 tail, 11.0ms\n",
      "Speed: 1.5ms preprocess, 11.0ms inference, 0.8ms postprocess per image at shape (1, 3, 480, 640)\n",
      "处理帧 169/293\n",
      "0: 480x640 1 tail, 11.4ms\n",
      "Speed: 1.8ms preprocess, 11.4ms inference, 0.8ms postprocess per image at shape (1, 3, 480, 640)\n",
      "处理帧 170/293\n",
      "0: 480x640 1 tail, 10.9ms\n",
      "Speed: 1.7ms preprocess, 10.9ms inference, 0.9ms postprocess per image at shape (1, 3, 480, 640)\n",
      "处理帧 171/293\n",
      "0: 480x640 2 tails, 11.4ms\n",
      "Speed: 1.7ms preprocess, 11.4ms inference, 0.9ms postprocess per image at shape (1, 3, 480, 640)\n",
      "处理帧 172/293\n",
      "0: 480x640 2 tails, 11.0ms\n",
      "Speed: 1.8ms preprocess, 11.0ms inference, 0.8ms postprocess per image at shape (1, 3, 480, 640)\n",
      "处理帧 173/293\n",
      "0: 480x640 2 tails, 11.2ms\n",
      "Speed: 1.6ms preprocess, 11.2ms inference, 0.8ms postprocess per image at shape (1, 3, 480, 640)\n",
      "处理帧 174/293\n",
      "0: 480x640 2 tails, 10.9ms\n",
      "Speed: 1.6ms preprocess, 10.9ms inference, 0.9ms postprocess per image at shape (1, 3, 480, 640)\n",
      "处理帧 175/293\n",
      "0: 480x640 2 tails, 11.1ms\n",
      "Speed: 1.6ms preprocess, 11.1ms inference, 0.9ms postprocess per image at shape (1, 3, 480, 640)\n",
      "处理帧 176/293\n",
      "0: 480x640 2 tails, 11.2ms\n",
      "Speed: 1.6ms preprocess, 11.2ms inference, 0.9ms postprocess per image at shape (1, 3, 480, 640)\n",
      "处理帧 177/293\n",
      "0: 480x640 2 tails, 11.1ms\n",
      "Speed: 1.6ms preprocess, 11.1ms inference, 0.9ms postprocess per image at shape (1, 3, 480, 640)\n",
      "处理帧 178/293\n",
      "0: 480x640 2 tails, 13.0ms\n",
      "Speed: 1.6ms preprocess, 13.0ms inference, 0.9ms postprocess per image at shape (1, 3, 480, 640)\n",
      "处理帧 179/293\n",
      "0: 480x640 2 tails, 13.1ms\n",
      "Speed: 1.8ms preprocess, 13.1ms inference, 0.9ms postprocess per image at shape (1, 3, 480, 640)\n",
      "处理帧 180/293\n",
      "0: 480x640 2 tails, 11.0ms\n",
      "Speed: 1.6ms preprocess, 11.0ms inference, 0.8ms postprocess per image at shape (1, 3, 480, 640)\n",
      "处理帧 181/293\n",
      "0: 480x640 1 head, 1 tail, 11.2ms\n",
      "Speed: 1.6ms preprocess, 11.2ms inference, 0.9ms postprocess per image at shape (1, 3, 480, 640)\n",
      "处理帧 182/293\n",
      "0: 480x640 1 head, 1 tail, 11.0ms\n",
      "Speed: 1.6ms preprocess, 11.0ms inference, 1.0ms postprocess per image at shape (1, 3, 480, 640)\n",
      "处理帧 183/293\n",
      "0: 480x640 1 head, 1 tail, 11.1ms\n",
      "Speed: 1.6ms preprocess, 11.1ms inference, 0.9ms postprocess per image at shape (1, 3, 480, 640)\n",
      "处理帧 184/293\n",
      "0: 480x640 1 head, 1 tail, 11.3ms\n",
      "Speed: 1.6ms preprocess, 11.3ms inference, 0.8ms postprocess per image at shape (1, 3, 480, 640)\n",
      "处理帧 185/293\n",
      "0: 480x640 1 head, 1 tail, 11.1ms\n",
      "Speed: 1.6ms preprocess, 11.1ms inference, 0.9ms postprocess per image at shape (1, 3, 480, 640)\n",
      "处理帧 186/293\n",
      "0: 480x640 1 head, 1 tail, 11.0ms\n",
      "Speed: 1.6ms preprocess, 11.0ms inference, 0.9ms postprocess per image at shape (1, 3, 480, 640)\n",
      "处理帧 187/293\n",
      "0: 480x640 1 head, 1 tail, 11.1ms\n",
      "Speed: 1.6ms preprocess, 11.1ms inference, 0.8ms postprocess per image at shape (1, 3, 480, 640)\n",
      "处理帧 188/293\n",
      "0: 480x640 1 head, 1 tail, 10.8ms\n",
      "Speed: 1.6ms preprocess, 10.8ms inference, 0.8ms postprocess per image at shape (1, 3, 480, 640)\n",
      "处理帧 189/293\n",
      "0: 480x640 2 tails, 11.0ms\n",
      "Speed: 1.5ms preprocess, 11.0ms inference, 0.8ms postprocess per image at shape (1, 3, 480, 640)\n",
      "处理帧 190/293\n",
      "0: 480x640 2 tails, 10.7ms\n",
      "Speed: 1.6ms preprocess, 10.7ms inference, 0.8ms postprocess per image at shape (1, 3, 480, 640)\n",
      "处理帧 191/293\n",
      "0: 480x640 2 tails, 10.8ms\n",
      "Speed: 1.6ms preprocess, 10.8ms inference, 0.8ms postprocess per image at shape (1, 3, 480, 640)\n",
      "处理帧 192/293\n",
      "0: 480x640 2 tails, 10.7ms\n",
      "Speed: 1.6ms preprocess, 10.7ms inference, 0.8ms postprocess per image at shape (1, 3, 480, 640)\n",
      "处理帧 193/293\n",
      "0: 480x640 2 tails, 10.8ms\n",
      "Speed: 1.6ms preprocess, 10.8ms inference, 0.8ms postprocess per image at shape (1, 3, 480, 640)\n",
      "处理帧 194/293\n",
      "0: 480x640 2 tails, 10.8ms\n",
      "Speed: 1.7ms preprocess, 10.8ms inference, 0.8ms postprocess per image at shape (1, 3, 480, 640)\n",
      "处理帧 195/293\n",
      "0: 480x640 3 tails, 10.8ms\n",
      "Speed: 1.5ms preprocess, 10.8ms inference, 0.8ms postprocess per image at shape (1, 3, 480, 640)\n",
      "处理帧 196/293\n",
      "0: 480x640 3 tails, 10.7ms\n",
      "Speed: 1.6ms preprocess, 10.7ms inference, 0.8ms postprocess per image at shape (1, 3, 480, 640)\n",
      "处理帧 197/293\n",
      "0: 480x640 1 tail, 11.0ms\n",
      "Speed: 1.6ms preprocess, 11.0ms inference, 0.8ms postprocess per image at shape (1, 3, 480, 640)\n",
      "处理帧 198/293\n",
      "0: 480x640 2 tails, 10.8ms\n",
      "Speed: 1.5ms preprocess, 10.8ms inference, 0.8ms postprocess per image at shape (1, 3, 480, 640)\n",
      "处理帧 199/293\n",
      "0: 480x640 2 tails, 10.9ms\n",
      "Speed: 1.6ms preprocess, 10.9ms inference, 0.8ms postprocess per image at shape (1, 3, 480, 640)\n",
      "处理帧 200/293\n",
      "0: 480x640 2 tails, 10.9ms\n",
      "Speed: 1.6ms preprocess, 10.9ms inference, 0.8ms postprocess per image at shape (1, 3, 480, 640)\n",
      "处理帧 201/293\n",
      "0: 480x640 1 tail, 10.7ms\n",
      "Speed: 1.5ms preprocess, 10.7ms inference, 0.9ms postprocess per image at shape (1, 3, 480, 640)\n",
      "处理帧 202/293\n",
      "0: 480x640 1 tail, 11.2ms\n",
      "Speed: 1.6ms preprocess, 11.2ms inference, 0.9ms postprocess per image at shape (1, 3, 480, 640)\n",
      "处理帧 203/293\n",
      "0: 480x640 1 tail, 11.0ms\n",
      "Speed: 1.6ms preprocess, 11.0ms inference, 0.8ms postprocess per image at shape (1, 3, 480, 640)\n",
      "处理帧 204/293\n",
      "0: 480x640 1 tail, 10.9ms\n",
      "Speed: 1.5ms preprocess, 10.9ms inference, 0.8ms postprocess per image at shape (1, 3, 480, 640)\n",
      "处理帧 205/293\n",
      "0: 480x640 1 tail, 10.8ms\n",
      "Speed: 1.7ms preprocess, 10.8ms inference, 0.8ms postprocess per image at shape (1, 3, 480, 640)\n",
      "处理帧 206/293\n",
      "0: 480x640 1 tail, 10.9ms\n",
      "Speed: 1.6ms preprocess, 10.9ms inference, 0.8ms postprocess per image at shape (1, 3, 480, 640)\n",
      "处理帧 207/293\n",
      "0: 480x640 2 tails, 10.7ms\n",
      "Speed: 1.6ms preprocess, 10.7ms inference, 0.8ms postprocess per image at shape (1, 3, 480, 640)\n",
      "处理帧 208/293\n",
      "0: 480x640 2 tails, 11.0ms\n",
      "Speed: 1.6ms preprocess, 11.0ms inference, 0.8ms postprocess per image at shape (1, 3, 480, 640)\n",
      "处理帧 209/293\n",
      "0: 480x640 1 tail, 11.6ms\n",
      "Speed: 1.9ms preprocess, 11.6ms inference, 0.8ms postprocess per image at shape (1, 3, 480, 640)\n",
      "处理帧 210/293\n",
      "0: 480x640 1 tail, 11.0ms\n",
      "Speed: 1.6ms preprocess, 11.0ms inference, 0.8ms postprocess per image at shape (1, 3, 480, 640)\n",
      "处理帧 211/293\n",
      "0: 480x640 2 tails, 11.1ms\n",
      "Speed: 1.6ms preprocess, 11.1ms inference, 0.8ms postprocess per image at shape (1, 3, 480, 640)\n",
      "处理帧 212/293\n",
      "0: 480x640 2 tails, 11.4ms\n",
      "Speed: 1.7ms preprocess, 11.4ms inference, 0.9ms postprocess per image at shape (1, 3, 480, 640)\n",
      "处理帧 213/293\n",
      "0: 480x640 3 tails, 11.9ms\n",
      "Speed: 2.9ms preprocess, 11.9ms inference, 0.9ms postprocess per image at shape (1, 3, 480, 640)\n",
      "处理帧 214/293\n",
      "0: 480x640 3 tails, 14.3ms\n",
      "Speed: 1.6ms preprocess, 14.3ms inference, 1.4ms postprocess per image at shape (1, 3, 480, 640)\n",
      "处理帧 215/293\n",
      "0: 480x640 1 head, 1 tail, 11.2ms\n",
      "Speed: 1.9ms preprocess, 11.2ms inference, 0.9ms postprocess per image at shape (1, 3, 480, 640)\n",
      "处理帧 216/293\n",
      "0: 480x640 1 head, 1 tail, 11.5ms\n",
      "Speed: 1.7ms preprocess, 11.5ms inference, 0.9ms postprocess per image at shape (1, 3, 480, 640)\n",
      "处理帧 217/293\n",
      "0: 480x640 1 head, 2 tails, 12.3ms\n",
      "Speed: 1.8ms preprocess, 12.3ms inference, 1.1ms postprocess per image at shape (1, 3, 480, 640)\n",
      "处理帧 218/293\n",
      "0: 480x640 1 head, 2 tails, 11.9ms\n",
      "Speed: 1.7ms preprocess, 11.9ms inference, 0.9ms postprocess per image at shape (1, 3, 480, 640)\n",
      "处理帧 219/293\n",
      "0: 480x640 1 head, 2 tails, 11.4ms\n",
      "Speed: 1.7ms preprocess, 11.4ms inference, 0.9ms postprocess per image at shape (1, 3, 480, 640)\n",
      "处理帧 220/293\n",
      "0: 480x640 1 head, 2 tails, 11.2ms\n",
      "Speed: 1.7ms preprocess, 11.2ms inference, 0.8ms postprocess per image at shape (1, 3, 480, 640)\n",
      "处理帧 221/293\n",
      "0: 480x640 2 tails, 11.4ms\n",
      "Speed: 1.6ms preprocess, 11.4ms inference, 0.8ms postprocess per image at shape (1, 3, 480, 640)\n",
      "处理帧 222/293\n",
      "0: 480x640 2 tails, 10.9ms\n",
      "Speed: 1.6ms preprocess, 10.9ms inference, 0.8ms postprocess per image at shape (1, 3, 480, 640)\n",
      "处理帧 223/293\n",
      "0: 480x640 1 tail, 10.9ms\n",
      "Speed: 1.6ms preprocess, 10.9ms inference, 0.8ms postprocess per image at shape (1, 3, 480, 640)\n",
      "处理帧 224/293\n",
      "0: 480x640 1 tail, 12.3ms\n",
      "Speed: 1.7ms preprocess, 12.3ms inference, 0.8ms postprocess per image at shape (1, 3, 480, 640)\n",
      "处理帧 225/293\n",
      "0: 480x640 1 head, 1 tail, 11.2ms\n",
      "Speed: 1.8ms preprocess, 11.2ms inference, 0.8ms postprocess per image at shape (1, 3, 480, 640)\n",
      "处理帧 226/293\n",
      "0: 480x640 1 head, 1 tail, 12.2ms\n",
      "Speed: 1.8ms preprocess, 12.2ms inference, 0.9ms postprocess per image at shape (1, 3, 480, 640)\n",
      "处理帧 227/293\n",
      "0: 480x640 2 heads, 11.4ms\n",
      "Speed: 1.6ms preprocess, 11.4ms inference, 0.8ms postprocess per image at shape (1, 3, 480, 640)\n",
      "处理帧 228/293\n",
      "0: 480x640 2 heads, 11.4ms\n",
      "Speed: 1.7ms preprocess, 11.4ms inference, 0.8ms postprocess per image at shape (1, 3, 480, 640)\n",
      "处理帧 229/293\n",
      "0: 480x640 2 heads, 11.0ms\n",
      "Speed: 1.6ms preprocess, 11.0ms inference, 0.8ms postprocess per image at shape (1, 3, 480, 640)\n",
      "处理帧 230/293\n",
      "0: 480x640 2 heads, 10.8ms\n",
      "Speed: 1.6ms preprocess, 10.8ms inference, 0.8ms postprocess per image at shape (1, 3, 480, 640)\n",
      "处理帧 231/293\n",
      "0: 480x640 2 heads, 11.0ms\n",
      "Speed: 1.5ms preprocess, 11.0ms inference, 0.8ms postprocess per image at shape (1, 3, 480, 640)\n",
      "处理帧 232/293\n",
      "0: 480x640 2 heads, 11.2ms\n",
      "Speed: 1.6ms preprocess, 11.2ms inference, 0.8ms postprocess per image at shape (1, 3, 480, 640)\n",
      "处理帧 233/293\n",
      "0: 480x640 1 head, 1 tail, 10.8ms\n",
      "Speed: 1.7ms preprocess, 10.8ms inference, 0.8ms postprocess per image at shape (1, 3, 480, 640)\n",
      "处理帧 234/293\n",
      "0: 480x640 1 head, 1 tail, 11.8ms\n",
      "Speed: 1.7ms preprocess, 11.8ms inference, 0.8ms postprocess per image at shape (1, 3, 480, 640)\n",
      "处理帧 235/293\n",
      "0: 480x640 2 heads, 1 tail, 11.1ms\n",
      "Speed: 1.6ms preprocess, 11.1ms inference, 1.0ms postprocess per image at shape (1, 3, 480, 640)\n",
      "处理帧 236/293\n",
      "0: 480x640 1 head, 1 tail, 10.7ms\n",
      "Speed: 1.7ms preprocess, 10.7ms inference, 0.8ms postprocess per image at shape (1, 3, 480, 640)\n",
      "处理帧 237/293\n",
      "0: 480x640 2 heads, 1 tail, 10.8ms\n",
      "Speed: 1.6ms preprocess, 10.8ms inference, 1.0ms postprocess per image at shape (1, 3, 480, 640)\n",
      "处理帧 238/293\n",
      "0: 480x640 2 heads, 1 tail, 11.2ms\n",
      "Speed: 1.7ms preprocess, 11.2ms inference, 0.8ms postprocess per image at shape (1, 3, 480, 640)\n",
      "处理帧 239/293\n",
      "0: 480x640 2 heads, 1 tail, 11.4ms\n",
      "Speed: 1.6ms preprocess, 11.4ms inference, 0.8ms postprocess per image at shape (1, 3, 480, 640)\n",
      "处理帧 240/293\n",
      "0: 480x640 2 heads, 1 tail, 11.1ms\n",
      "Speed: 1.6ms preprocess, 11.1ms inference, 0.8ms postprocess per image at shape (1, 3, 480, 640)\n",
      "处理帧 241/293\n",
      "0: 480x640 1 head, 2 tails, 11.0ms\n",
      "Speed: 1.6ms preprocess, 11.0ms inference, 0.9ms postprocess per image at shape (1, 3, 480, 640)\n",
      "处理帧 242/293\n",
      "0: 480x640 1 head, 2 tails, 11.3ms\n",
      "Speed: 1.9ms preprocess, 11.3ms inference, 0.9ms postprocess per image at shape (1, 3, 480, 640)\n",
      "处理帧 243/293\n",
      "0: 480x640 1 head, 1 tail, 10.8ms\n",
      "Speed: 1.5ms preprocess, 10.8ms inference, 0.8ms postprocess per image at shape (1, 3, 480, 640)\n",
      "处理帧 244/293\n",
      "0: 480x640 1 head, 1 tail, 10.8ms\n",
      "Speed: 1.6ms preprocess, 10.8ms inference, 0.8ms postprocess per image at shape (1, 3, 480, 640)\n",
      "处理帧 245/293\n",
      "0: 480x640 1 head, 1 tail, 10.8ms\n",
      "Speed: 1.6ms preprocess, 10.8ms inference, 0.8ms postprocess per image at shape (1, 3, 480, 640)\n",
      "处理帧 246/293\n",
      "0: 480x640 1 head, 1 tail, 11.4ms\n",
      "Speed: 1.7ms preprocess, 11.4ms inference, 0.8ms postprocess per image at shape (1, 3, 480, 640)\n",
      "\n",
      "处理完成，输出视频保存在: output_videos/annotated_TS-20241123220321351.avi\n"
     ]
    }
   ],
   "source": [
    "import cv2\n",
    "from ultralytics import YOLO\n",
    "import os\n",
    "\n",
    "def main():\n",
    "    # 加载训练好的模型\n",
    "    model_path = 'runs/detect/yolov11_WormCNN-HTT8/weights/best.pt'  # 替换为您的最佳模型路径\n",
    "    if not os.path.exists(model_path):\n",
    "        raise FileNotFoundError(f\"模型文件不存在: {model_path}\")\n",
    "    model = YOLO(model_path)\n",
    "\n",
    "    # 输入视频路径\n",
    "    video_path = './vedio/TS-20241123220321351.avi'  # 替换为您的视频路径\n",
    "    if not os.path.exists(video_path):\n",
    "        raise FileNotFoundError(f\"视频文件不存在: {video_path}\")\n",
    "    \n",
    "    # 打开视频\n",
    "    cap = cv2.VideoCapture(video_path)\n",
    "    if not cap.isOpened():\n",
    "        raise IOError(f\"无法打开视频文件: {video_path}\")\n",
    "\n",
    "    # 获取视频参数\n",
    "    fps = cap.get(cv2.CAP_PROP_FPS)\n",
    "    width  = int(cap.get(cv2.CAP_PROP_FRAME_WIDTH))\n",
    "    height = int(cap.get(cv2.CAP_PROP_FRAME_HEIGHT))\n",
    "    total_frames = int(cap.get(cv2.CAP_PROP_FRAME_COUNT))\n",
    "    print(f\"视频帧率: {fps}, 分辨率: {width}x{height}, 总帧数: {total_frames}\")\n",
    "\n",
    "    # 定义输出视频的保存路径和编码器\n",
    "    output_dir = 'output_videos'\n",
    "    os.makedirs(output_dir, exist_ok=True)\n",
    "    output_path = os.path.join(output_dir, 'annotated_TS-20241123220321351.avi')\n",
    "    fourcc = cv2.VideoWriter_fourcc(*'XVID')  # 使用 XVID 编码器\n",
    "    out = cv2.VideoWriter(output_path, fourcc, fps, (width, height))\n",
    "\n",
    "    frame_count = 0\n",
    "\n",
    "    while True:\n",
    "        ret, frame = cap.read()\n",
    "        if not ret:\n",
    "            break\n",
    "\n",
    "        frame_count += 1\n",
    "        print(f\"处理帧 {frame_count}/{total_frames}\", end='\\r')\n",
    "\n",
    "        # 进行检测\n",
    "        results = model(frame, imgsz=640)[0]\n",
    "\n",
    "        # 绘制检测结果\n",
    "        annotated_frame = results.plot()\n",
    "\n",
    "        # 写入输出视频\n",
    "        out.write(annotated_frame)\n",
    "\n",
    "    # 释放资源\n",
    "    cap.release()\n",
    "    out.release()\n",
    "    print(f\"\\n处理完成，输出视频保存在: {output_path}\")\n",
    "\n",
    "if __name__ == \"__main__\":\n",
    "    main()\n"
   ]
  }
 ],
 "metadata": {
  "kernelspec": {
   "display_name": "yanpan",
   "language": "python",
   "name": "python3"
  },
  "language_info": {
   "codemirror_mode": {
    "name": "ipython",
    "version": 3
   },
   "file_extension": ".py",
   "mimetype": "text/x-python",
   "name": "python",
   "nbconvert_exporter": "python",
   "pygments_lexer": "ipython3",
   "version": "3.11.10"
  }
 },
 "nbformat": 4,
 "nbformat_minor": 2
}
